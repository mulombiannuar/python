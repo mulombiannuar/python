{
 "cells": [
  {
   "cell_type": "markdown",
   "id": "4e2a09c1",
   "metadata": {},
   "source": [
    "# What is Lemmatization?\n",
    "\n",
    "Lemmatization is the process of reducing words to their base or dictionary form, known as the lemma. This technique considers the context and the meaning of the words, ensuring that the base form belongs to the language's dictionary. For example, the words `\"running,\"` `\"ran,\"` and `\"runs\" `are all lemmatized to the lemma `\"run.\"`"
   ]
  },
  {
   "cell_type": "code",
   "execution_count": null,
   "id": "2d851bc5",
   "metadata": {},
   "outputs": [
    {
     "name": "stdout",
     "output_type": "stream",
     "text": [
      "Lemmatized word: run\n",
      "Lemmatized list: ['run', 'fly', 'well', 'study']\n"
     ]
    },
    {
     "name": "stderr",
     "output_type": "stream",
     "text": [
      "[nltk_data] Downloading package punkt to /home/mulombi/nltk_data...\n",
      "[nltk_data]   Package punkt is already up-to-date!\n",
      "[nltk_data] Downloading package averaged_perceptron_tagger_eng to\n",
      "[nltk_data]     /home/mulombi/nltk_data...\n",
      "[nltk_data]   Package averaged_perceptron_tagger_eng is already up-to-\n",
      "[nltk_data]       date!\n",
      "[nltk_data] Downloading package wordnet to /home/mulombi/nltk_data...\n",
      "[nltk_data]   Package wordnet is already up-to-date!\n",
      "[nltk_data] Downloading package omw-1.4 to /home/mulombi/nltk_data...\n",
      "[nltk_data]   Package omw-1.4 is already up-to-date!\n"
     ]
    }
   ],
   "source": [
    "# practical implementation of lemmatization with nltk in python\n",
    "import nltk\n",
    "from nltk.stem import WordNetLemmatizer\n",
    "from nltk.corpus import wordnet\n",
    "\n",
    "# download necessary nltk data files (only needs to run once)\n",
    "nltk.download('punkt')  # if you plan to tokenize full sentences\n",
    "nltk.download('averaged_perceptron_tagger_eng')  # for pos tagging\n",
    "nltk.download('wordnet')  # wordnet corpus\n",
    "nltk.download('omw-1.4')  # wordnet synonyms and mappings\n",
    "\n",
    "# function to get wordnet-compatible pos tag\n",
    "# assigns grammatical labels (like noun, verb, adjective, etc.) to each word in a sentence.\n",
    "def get_wordnet_pos(word):\n",
    "    tag = nltk.pos_tag([word])[0][1][0].upper()\n",
    "    tag_dict = {\n",
    "        \"J\": wordnet.ADJ,\n",
    "        \"N\": wordnet.NOUN,\n",
    "        \"V\": wordnet.VERB,\n",
    "        \"R\": wordnet.ADV\n",
    "    }\n",
    "    return tag_dict.get(tag, wordnet.NOUN)  # default to noun if tag not found\n",
    "\n",
    "# initialize the lemmatizer\n",
    "lemmatizer = WordNetLemmatizer()\n",
    "\n",
    "# example usage: lemmatize a single word\n",
    "word = \"running\"\n",
    "lemma = lemmatizer.lemmatize(word, get_wordnet_pos(word))\n",
    "print(f\"Lemmatized word: {lemma}\")\n",
    "\n",
    "# optional: example with multiple words\n",
    "words = [\"running\", \"flies\", \"better\", \"studies\"]\n",
    "lemmatized_words = [lemmatizer.lemmatize(w, get_wordnet_pos(w)) for w in words]\n",
    "print(f\"Lemmatized list: {lemmatized_words}\")\n"
   ]
  },
  {
   "cell_type": "markdown",
   "id": "5f207f53",
   "metadata": {},
   "source": [
    "# What is Stemming?\n",
    "\n",
    "Stemming is a more straightforward process that cuts off prefixes and suffixes (i.e., affixes) to reduce a word to its root form. This root form, known as the stem, may not be a valid word in the language. For example, the words `\"running,\"` `\"runner,\"` and `\"runs\"` might all be stemmed to` \"run\"` or `\"runn,\"` depending on the stemming algorithm used."
   ]
  },
  {
   "cell_type": "code",
   "execution_count": 11,
   "id": "c7918caa",
   "metadata": {},
   "outputs": [
    {
     "name": "stdout",
     "output_type": "stream",
     "text": [
      "Stemmed word: run\n"
     ]
    }
   ],
   "source": [
    "from nltk.stem import PorterStemmer\n",
    "\n",
    "stemmer = PorterStemmer()\n",
    "word = \"running\"\n",
    "stem = stemmer.stem(word)\n",
    "print(f\"Stemmed word: {stem}\")"
   ]
  },
  {
   "cell_type": "code",
   "execution_count": 14,
   "id": "86fb29c8",
   "metadata": {},
   "outputs": [
    {
     "name": "stdout",
     "output_type": "stream",
     "text": [
      "Original Text:  The striped bats are hanging on their feet for best\n",
      "Tokenized Words:  ['The', 'striped', 'bats', 'are', 'hanging', 'on', 'their', 'feet', 'for', 'best']\n",
      "Stemmed Words:  ['the', 'stripe', 'bat', 'are', 'hang', 'on', 'their', 'feet', 'for', 'best']\n",
      "Lemmatized Words:  ['The', 'strip', 'bat', 'be', 'hang', 'on', 'their', 'foot', 'for', 'best']\n"
     ]
    }
   ],
   "source": [
    "# example of code of difference between lemmatization & stemming\n",
    "import nltk\n",
    "from nltk.stem import PorterStemmer, WordNetLemmatizer\n",
    "from nltk.corpus import wordnet\n",
    "\n",
    "# sample text\n",
    "text = \"The striped bats are hanging on their feet for best\"\n",
    "\n",
    "# tokenize the text\n",
    "words = nltk.word_tokenize(text)\n",
    "\n",
    "# initialize the stemmer and lemmatizer\n",
    "stemmer = PorterStemmer()\n",
    "lemmatizer = WordNetLemmatizer()\n",
    "\n",
    "# apply stemming\n",
    "stemmed_words = [stemmer.stem(word) for word in words]\n",
    "\n",
    "# function to get the part of speech tag for lemmatization\n",
    "def get_wordnet_pos(word):\n",
    "    tag = nltk.pos_tag([word])[0][1][0].upper()\n",
    "    tag_dict = {\"J\": wordnet.ADJ, \"N\": wordnet.NOUN, \"V\": wordnet.VERB, \"R\": wordnet.ADV}\n",
    "    return tag_dict.get(tag, wordnet.NOUN)\n",
    "\n",
    "# apply lemmatization\n",
    "lemmatized_words = [lemmatizer.lemmatize(word, get_wordnet_pos(word)) for word in words]\n",
    "\n",
    "# print results\n",
    "print(\"Original Text: \", text)\n",
    "print(\"Tokenized Words: \", words)\n",
    "print(\"Stemmed Words: \", stemmed_words)\n",
    "print(\"Lemmatized Words: \", lemmatized_words)"
   ]
  },
  {
   "cell_type": "markdown",
   "id": "67f92272",
   "metadata": {},
   "source": [
    "## When to Use Lemmatization vs. Stemming\n",
    "\n",
    "The choice between **lemmatization** and **stemming** depends on the specific requirements of the NLP task at hand:\n",
    "\n",
    "### Use Lemmatization When:\n",
    "- **Accuracy and context are crucial**\n",
    "- The task involves complex language understanding, such as:\n",
    "  - Chatbots\n",
    "  - Sentiment analysis\n",
    "  - Machine translation\n",
    "- **Computational resources are sufficient** to handle the additional complexity\n",
    "\n",
    "### Use Stemming When:\n",
    "- **Speed and efficiency are more important than accuracy**\n",
    "- The task involves simple text normalization, such as:\n",
    "  - Search engines\n",
    "  - Information retrieval systems\n",
    "- **Computational resources are limited**\n"
   ]
  },
  {
   "cell_type": "markdown",
   "id": "204a1478",
   "metadata": {},
   "source": [
    "## Conclusion\n",
    "\n",
    "Both lemmatization and stemming are essential techniques in NLP for reducing words to their base forms, but they serve different purposes and are chosen based on the specific requirements of a task. Lemmatization, with its context-aware and dictionary-based approach, is more accurate and suitable for tasks requiring precise language understanding. On the other hand, stemming, with its rule-based and faster approach, is useful for tasks where speed and simplicity are prioritized over accuracy. Understanding the differences and applications of these techniques enables better preprocessing and handling of textual data in various NLP applications."
   ]
  },
  {
   "cell_type": "markdown",
   "id": "dbd24be2",
   "metadata": {},
   "source": []
  }
 ],
 "metadata": {
  "kernelspec": {
   "display_name": "Python 3",
   "language": "python",
   "name": "python3"
  },
  "language_info": {
   "codemirror_mode": {
    "name": "ipython",
    "version": 3
   },
   "file_extension": ".py",
   "mimetype": "text/x-python",
   "name": "python",
   "nbconvert_exporter": "python",
   "pygments_lexer": "ipython3",
   "version": "3.10.12"
  }
 },
 "nbformat": 4,
 "nbformat_minor": 5
}
