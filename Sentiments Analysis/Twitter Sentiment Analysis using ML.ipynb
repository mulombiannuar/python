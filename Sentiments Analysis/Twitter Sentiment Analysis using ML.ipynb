{
 "cells": [
  {
   "cell_type": "markdown",
   "metadata": {},
   "source": [
    "# Twitter Sentiment Analysis Using ML\n",
    "\n",
    "## What is Sentiment Analysis?\n",
    "Sentiment Analysis is the process of ‘computationally’ determining whether a piece of writing is positive, negative, or neutral. It’s also known as **opinion mining**, which involves deriving the opinion or attitude of a speaker.\n",
    "\n",
    "## Why Sentiment Analysis?\n",
    "\n",
    "### 1. **Business**\n",
    "In the marketing field, companies use sentiment analysis to develop their strategies. It helps them understand customers’ feelings towards products or brands, how people respond to campaigns or product launches, and why consumers don’t buy certain products.\n",
    "\n",
    "### 2. **Politics**\n",
    "In the political field, sentiment analysis is used to track political views, detect inconsistencies between statements and actions at the government level, and predict election results.\n",
    "\n",
    "### 3. **Public Actions**\n",
    "Sentiment analysis is also used to monitor and analyze social phenomena, such as spotting potentially dangerous situations and determining the general mood of the blogosphere.\n"
   ]
  },
  {
   "cell_type": "code",
   "execution_count": 5,
   "metadata": {},
   "outputs": [],
   "source": [
    "# import requires libraries\n",
    "import numpy as np\n",
    "import matplotlib.pyplot as plt\n",
    "import pandas as pd\n",
    "import re\n",
    "import nltk\n",
    "from nltk.corpus import stopwords\n",
    "from nltk.stem.porter import PorterStemmer\n",
    "from sklearn.feature_extraction.text import TfidfVectorizer\n",
    "from sklearn.linear_model import LogisticRegression\n",
    "from sklearn.metrics import confusion_matrix, accuracy_score, precision_score, recall_score, f1_score\n",
    "from sklearn.feature_extraction.text import CountVectorizer\n",
    "from sklearn.model_selection import train_test_split\n",
    "import joblib"
   ]
  },
  {
   "cell_type": "code",
   "execution_count": 6,
   "metadata": {},
   "outputs": [
    {
     "name": "stderr",
     "output_type": "stream",
     "text": [
      "[nltk_data] Downloading package stopwords to\n",
      "[nltk_data]     /home/mulombi/nltk_data...\n",
      "[nltk_data]   Package stopwords is already up-to-date!\n"
     ]
    },
    {
     "data": {
      "text/plain": [
       "True"
      ]
     },
     "execution_count": 6,
     "metadata": {},
     "output_type": "execute_result"
    }
   ],
   "source": [
    "# download stopwords from nltk library\n",
    "nltk.download('stopwords')"
   ]
  },
  {
   "cell_type": "code",
   "execution_count": 7,
   "metadata": {},
   "outputs": [
    {
     "name": "stdout",
     "output_type": "stream",
     "text": [
      "['a', 'about', 'above', 'after', 'again', 'against', 'ain', 'all', 'am', 'an', 'and', 'any', 'are', 'aren', \"aren't\", 'as', 'at', 'be', 'because', 'been', 'before', 'being', 'below', 'between', 'both', 'but', 'by', 'can', 'couldn', \"couldn't\", 'd', 'did', 'didn', \"didn't\", 'do', 'does', 'doesn', \"doesn't\", 'doing', 'don', \"don't\", 'down', 'during', 'each', 'few', 'for', 'from', 'further', 'had', 'hadn', \"hadn't\", 'has', 'hasn', \"hasn't\", 'have', 'haven', \"haven't\", 'having', 'he', \"he'd\", \"he'll\", 'her', 'here', 'hers', 'herself', \"he's\", 'him', 'himself', 'his', 'how', 'i', \"i'd\", 'if', \"i'll\", \"i'm\", 'in', 'into', 'is', 'isn', \"isn't\", 'it', \"it'd\", \"it'll\", \"it's\", 'its', 'itself', \"i've\", 'just', 'll', 'm', 'ma', 'me', 'mightn', \"mightn't\", 'more', 'most', 'mustn', \"mustn't\", 'my', 'myself', 'needn', \"needn't\", 'no', 'nor', 'not', 'now', 'o', 'of', 'off', 'on', 'once', 'only', 'or', 'other', 'our', 'ours', 'ourselves', 'out', 'over', 'own', 're', 's', 'same', 'shan', \"shan't\", 'she', \"she'd\", \"she'll\", \"she's\", 'should', 'shouldn', \"shouldn't\", \"should've\", 'so', 'some', 'such', 't', 'than', 'that', \"that'll\", 'the', 'their', 'theirs', 'them', 'themselves', 'then', 'there', 'these', 'they', \"they'd\", \"they'll\", \"they're\", \"they've\", 'this', 'those', 'through', 'to', 'too', 'under', 'until', 'up', 've', 'very', 'was', 'wasn', \"wasn't\", 'we', \"we'd\", \"we'll\", \"we're\", 'were', 'weren', \"weren't\", \"we've\", 'what', 'when', 'where', 'which', 'while', 'who', 'whom', 'why', 'will', 'with', 'won', \"won't\", 'wouldn', \"wouldn't\", 'y', 'you', \"you'd\", \"you'll\", 'your', \"you're\", 'yours', 'yourself', 'yourselves', \"you've\"]\n"
     ]
    }
   ],
   "source": [
    "# print stopwords (common english words with less meaning)\n",
    "print(stopwords.words('english'))"
   ]
  },
  {
   "cell_type": "code",
   "execution_count": null,
   "metadata": {},
   "outputs": [],
   "source": [
    "# download dataset from https://www.kaggle.com/datasets/kazanova/sentiment140\n",
    "# load data from file\n",
    "dataset = pd.read_csv('twitter-comments.csv', encoding='iso-8859-1')"
   ]
  },
  {
   "cell_type": "code",
   "execution_count": 9,
   "metadata": {},
   "outputs": [],
   "source": [
    "# get sample 500000\n",
    "twitter_data = dataset.sample(n=500000, random_state=0, ignore_index=True)"
   ]
  },
  {
   "cell_type": "code",
   "execution_count": 10,
   "metadata": {},
   "outputs": [
    {
     "name": "stdout",
     "output_type": "stream",
     "text": [
      "   0  1467810369  Mon Apr 06 22:19:45 PDT 2009  NO_QUERY _TheSpecialOne_  \\\n",
      "0  4  1881672289  Fri May 22 05:16:44 PDT 2009  NO_QUERY    viry_trivium   \n",
      "1  4  2009051656  Tue Jun 02 15:04:22 PDT 2009  NO_QUERY      Earlthedog   \n",
      "2  0  2211886069  Wed Jun 17 13:24:27 PDT 2009  NO_QUERY     StefyyMarie   \n",
      "3  4  1558734942  Sun Apr 19 09:15:07 PDT 2009  NO_QUERY        tezzer57   \n",
      "4  4  1834470136  Mon May 18 03:03:30 PDT 2009  NO_QUERY   dave_sherratt   \n",
      "\n",
      "  @switchfoot http://twitpic.com/2y1zl - Awww, that's a bummer.  You shoulda got David Carr of Third Day to do it. ;D  \n",
      "0                           Happy birthday, sister!                                                                    \n",
      "1  Just finished eating supper and now I am attac...                                                                   \n",
      "2                            i hate love right now.                                                                    \n",
      "3  Photo fest in LDN, Tudor feast last night, don...                                                                   \n",
      "4  @piercedbrat happy bday for tomoz, all the bes...                                                                   \n"
     ]
    }
   ],
   "source": [
    "# print first 5 rows of data\n",
    "print(twitter_data.head())"
   ]
  },
  {
   "cell_type": "code",
   "execution_count": 11,
   "metadata": {},
   "outputs": [
    {
     "name": "stdout",
     "output_type": "stream",
     "text": [
      "(500000, 6)\n"
     ]
    }
   ],
   "source": [
    "# get shape of data\n",
    "print(twitter_data.shape)"
   ]
  },
  {
   "cell_type": "code",
   "execution_count": 12,
   "metadata": {},
   "outputs": [
    {
     "name": "stdout",
     "output_type": "stream",
     "text": [
      "Index(['0', '1467810369', 'Mon Apr 06 22:19:45 PDT 2009', 'NO_QUERY',\n",
      "       '_TheSpecialOne_',\n",
      "       '@switchfoot http://twitpic.com/2y1zl - Awww, that's a bummer.  You shoulda got David Carr of Third Day to do it. ;D'],\n",
      "      dtype='object')\n"
     ]
    }
   ],
   "source": [
    "# get columns of data\n",
    "print(twitter_data.columns)"
   ]
  },
  {
   "cell_type": "code",
   "execution_count": 13,
   "metadata": {},
   "outputs": [
    {
     "name": "stdout",
     "output_type": "stream",
     "text": [
      "<class 'pandas.core.frame.DataFrame'>\n",
      "RangeIndex: 500000 entries, 0 to 499999\n",
      "Data columns (total 6 columns):\n",
      " #   Column                                                                                                               Non-Null Count   Dtype \n",
      "---  ------                                                                                                               --------------   ----- \n",
      " 0   0                                                                                                                    500000 non-null  int64 \n",
      " 1   1467810369                                                                                                           500000 non-null  int64 \n",
      " 2   Mon Apr 06 22:19:45 PDT 2009                                                                                         500000 non-null  object\n",
      " 3   NO_QUERY                                                                                                             500000 non-null  object\n",
      " 4   _TheSpecialOne_                                                                                                      500000 non-null  object\n",
      " 5   @switchfoot http://twitpic.com/2y1zl - Awww, that's a bummer.  You shoulda got David Carr of Third Day to do it. ;D  500000 non-null  object\n",
      "dtypes: int64(2), object(4)\n",
      "memory usage: 22.9+ MB\n",
      "None\n"
     ]
    }
   ],
   "source": [
    "# get info of data\n",
    "print(twitter_data.info())"
   ]
  },
  {
   "cell_type": "code",
   "execution_count": 14,
   "metadata": {},
   "outputs": [],
   "source": [
    "# rename columns\n",
    "twitter_data.rename(columns={\n",
    "    '0': 'target', \n",
    "    '1467810369': 'id', \n",
    "    'Mon Apr 06 22:19:45 PDT 2009': 'date', \n",
    "    'NO_QUERY': 'flag', \n",
    "    '_TheSpecialOne_': 'user', \n",
    "    \"@switchfoot http://twitpic.com/2y1zl - Awww, that's a bummer.  You shoulda got David Carr of Third Day to do it. ;D\": 'text'\n",
    "}, inplace=True)"
   ]
  },
  {
   "cell_type": "code",
   "execution_count": 15,
   "metadata": {},
   "outputs": [
    {
     "data": {
      "text/plain": [
       "Index(['target', 'id', 'date', 'flag', 'user', 'text'], dtype='object')"
      ]
     },
     "execution_count": 15,
     "metadata": {},
     "output_type": "execute_result"
    }
   ],
   "source": [
    "twitter_data.columns"
   ]
  },
  {
   "cell_type": "code",
   "execution_count": 16,
   "metadata": {},
   "outputs": [
    {
     "data": {
      "text/html": [
       "<div>\n",
       "<style scoped>\n",
       "    .dataframe tbody tr th:only-of-type {\n",
       "        vertical-align: middle;\n",
       "    }\n",
       "\n",
       "    .dataframe tbody tr th {\n",
       "        vertical-align: top;\n",
       "    }\n",
       "\n",
       "    .dataframe thead th {\n",
       "        text-align: right;\n",
       "    }\n",
       "</style>\n",
       "<table border=\"1\" class=\"dataframe\">\n",
       "  <thead>\n",
       "    <tr style=\"text-align: right;\">\n",
       "      <th></th>\n",
       "      <th>target</th>\n",
       "      <th>id</th>\n",
       "      <th>date</th>\n",
       "      <th>flag</th>\n",
       "      <th>user</th>\n",
       "      <th>text</th>\n",
       "    </tr>\n",
       "  </thead>\n",
       "  <tbody>\n",
       "    <tr>\n",
       "      <th>0</th>\n",
       "      <td>4</td>\n",
       "      <td>1881672289</td>\n",
       "      <td>Fri May 22 05:16:44 PDT 2009</td>\n",
       "      <td>NO_QUERY</td>\n",
       "      <td>viry_trivium</td>\n",
       "      <td>Happy birthday, sister!</td>\n",
       "    </tr>\n",
       "    <tr>\n",
       "      <th>1</th>\n",
       "      <td>4</td>\n",
       "      <td>2009051656</td>\n",
       "      <td>Tue Jun 02 15:04:22 PDT 2009</td>\n",
       "      <td>NO_QUERY</td>\n",
       "      <td>Earlthedog</td>\n",
       "      <td>Just finished eating supper and now I am attac...</td>\n",
       "    </tr>\n",
       "    <tr>\n",
       "      <th>2</th>\n",
       "      <td>0</td>\n",
       "      <td>2211886069</td>\n",
       "      <td>Wed Jun 17 13:24:27 PDT 2009</td>\n",
       "      <td>NO_QUERY</td>\n",
       "      <td>StefyyMarie</td>\n",
       "      <td>i hate love right now.</td>\n",
       "    </tr>\n",
       "    <tr>\n",
       "      <th>3</th>\n",
       "      <td>4</td>\n",
       "      <td>1558734942</td>\n",
       "      <td>Sun Apr 19 09:15:07 PDT 2009</td>\n",
       "      <td>NO_QUERY</td>\n",
       "      <td>tezzer57</td>\n",
       "      <td>Photo fest in LDN, Tudor feast last night, don...</td>\n",
       "    </tr>\n",
       "    <tr>\n",
       "      <th>4</th>\n",
       "      <td>4</td>\n",
       "      <td>1834470136</td>\n",
       "      <td>Mon May 18 03:03:30 PDT 2009</td>\n",
       "      <td>NO_QUERY</td>\n",
       "      <td>dave_sherratt</td>\n",
       "      <td>@piercedbrat happy bday for tomoz, all the bes...</td>\n",
       "    </tr>\n",
       "  </tbody>\n",
       "</table>\n",
       "</div>"
      ],
      "text/plain": [
       "   target          id                          date      flag           user  \\\n",
       "0       4  1881672289  Fri May 22 05:16:44 PDT 2009  NO_QUERY   viry_trivium   \n",
       "1       4  2009051656  Tue Jun 02 15:04:22 PDT 2009  NO_QUERY     Earlthedog   \n",
       "2       0  2211886069  Wed Jun 17 13:24:27 PDT 2009  NO_QUERY    StefyyMarie   \n",
       "3       4  1558734942  Sun Apr 19 09:15:07 PDT 2009  NO_QUERY       tezzer57   \n",
       "4       4  1834470136  Mon May 18 03:03:30 PDT 2009  NO_QUERY  dave_sherratt   \n",
       "\n",
       "                                                text  \n",
       "0                           Happy birthday, sister!   \n",
       "1  Just finished eating supper and now I am attac...  \n",
       "2                            i hate love right now.   \n",
       "3  Photo fest in LDN, Tudor feast last night, don...  \n",
       "4  @piercedbrat happy bday for tomoz, all the bes...  "
      ]
     },
     "execution_count": 16,
     "metadata": {},
     "output_type": "execute_result"
    }
   ],
   "source": [
    "twitter_data.head()"
   ]
  },
  {
   "cell_type": "code",
   "execution_count": 17,
   "metadata": {},
   "outputs": [
    {
     "data": {
      "text/plain": [
       "target\n",
       "4    250266\n",
       "0    249734\n",
       "Name: count, dtype: int64"
      ]
     },
     "execution_count": 17,
     "metadata": {},
     "output_type": "execute_result"
    }
   ],
   "source": [
    "# get unique values of target column\n",
    "twitter_data['target'].value_counts()"
   ]
  },
  {
   "cell_type": "code",
   "execution_count": 18,
   "metadata": {},
   "outputs": [
    {
     "data": {
      "text/plain": [
       "id\n",
       "2053108314    2\n",
       "1792325742    2\n",
       "2190104868    2\n",
       "1994953686    2\n",
       "2058144895    2\n",
       "             ..\n",
       "1971890900    1\n",
       "2191548217    1\n",
       "1968427436    1\n",
       "1966691090    1\n",
       "2053368869    1\n",
       "Name: count, Length: 499835, dtype: int64"
      ]
     },
     "execution_count": 18,
     "metadata": {},
     "output_type": "execute_result"
    }
   ],
   "source": [
    "# get unique values of id column\n",
    "twitter_data['id'].value_counts()"
   ]
  },
  {
   "cell_type": "code",
   "execution_count": 19,
   "metadata": {},
   "outputs": [
    {
     "data": {
      "text/plain": [
       "target    0\n",
       "id        0\n",
       "date      0\n",
       "flag      0\n",
       "user      0\n",
       "text      0\n",
       "dtype: int64"
      ]
     },
     "execution_count": 19,
     "metadata": {},
     "output_type": "execute_result"
    }
   ],
   "source": [
    "# check for missing values\n",
    "twitter_data.isnull().sum()"
   ]
  },
  {
   "cell_type": "code",
   "execution_count": 20,
   "metadata": {},
   "outputs": [
    {
     "data": {
      "text/plain": [
       "0"
      ]
     },
     "execution_count": 20,
     "metadata": {},
     "output_type": "execute_result"
    }
   ],
   "source": [
    "# check for duplicate values\n",
    "twitter_data.duplicated().sum()"
   ]
  },
  {
   "cell_type": "code",
   "execution_count": 21,
   "metadata": {},
   "outputs": [],
   "source": [
    "# convert 4 in target column to 1\n",
    "twitter_data['target'] = twitter_data['target'].replace(4, 1)"
   ]
  },
  {
   "cell_type": "code",
   "execution_count": 22,
   "metadata": {},
   "outputs": [
    {
     "data": {
      "text/plain": [
       "target\n",
       "1    250266\n",
       "0    249734\n",
       "Name: count, dtype: int64"
      ]
     },
     "execution_count": 22,
     "metadata": {},
     "output_type": "execute_result"
    }
   ],
   "source": [
    "# get unique values of target column (0. Negative, 1. Positive)\n",
    "twitter_data['target'].value_counts()"
   ]
  },
  {
   "cell_type": "code",
   "execution_count": 23,
   "metadata": {},
   "outputs": [],
   "source": [
    "# stemming (reducing a word to its root form)\n",
    "post_stem = PorterStemmer()"
   ]
  },
  {
   "cell_type": "code",
   "execution_count": 24,
   "metadata": {},
   "outputs": [],
   "source": [
    "# create function to clean text\n",
    "def clean_text(text):\n",
    "    text = re.sub(r'@[A-Za-z0-9]+', ' ', text) # remove @mentions\n",
    "    text = re.sub(r'#', ' ', text) # remove '#' symbol\n",
    "    text = re.sub(r'RT[\\s]+', ' ', text) # remove RT\n",
    "    text = re.sub(r'https?:\\/\\/\\S+', ' ', text) # remove links\n",
    "    text = re.sub(r'[^\\w\\s]', ' ', text) # remove punctuation\n",
    "    text = re.sub(r'\\d+', ' ', text) # remove digits\n",
    "    text = text.lower() # convert to lowercase\n",
    "    text = text.split() # split text into words\n",
    "    text = [post_stem.stem(word) for word in text if not word in stopwords.words('english')] # remove stopwords and stemming\n",
    "    text = ' '.join(text) # join words with space\n",
    "    return text"
   ]
  },
  {
   "cell_type": "code",
   "execution_count": 25,
   "metadata": {},
   "outputs": [],
   "source": [
    "# stemmed content column\n",
    "twitter_data['stemmed_text'] = twitter_data['text'].apply(clean_text)"
   ]
  },
  {
   "cell_type": "code",
   "execution_count": 26,
   "metadata": {},
   "outputs": [
    {
     "name": "stdout",
     "output_type": "stream",
     "text": [
      "   target          id                          date      flag           user  \\\n",
      "0       1  1881672289  Fri May 22 05:16:44 PDT 2009  NO_QUERY   viry_trivium   \n",
      "1       1  2009051656  Tue Jun 02 15:04:22 PDT 2009  NO_QUERY     Earlthedog   \n",
      "2       0  2211886069  Wed Jun 17 13:24:27 PDT 2009  NO_QUERY    StefyyMarie   \n",
      "3       1  1558734942  Sun Apr 19 09:15:07 PDT 2009  NO_QUERY       tezzer57   \n",
      "4       1  1834470136  Mon May 18 03:03:30 PDT 2009  NO_QUERY  dave_sherratt   \n",
      "\n",
      "                                                text  \\\n",
      "0                           Happy birthday, sister!    \n",
      "1  Just finished eating supper and now I am attac...   \n",
      "2                            i hate love right now.    \n",
      "3  Photo fest in LDN, Tudor feast last night, don...   \n",
      "4  @piercedbrat happy bday for tomoz, all the bes...   \n",
      "\n",
      "                                      stemmed_text  \n",
      "0                            happi birthday sister  \n",
      "1                   finish eat supper attack daddi  \n",
      "2                                  hate love right  \n",
      "3  photo fest ldn tudor feast last night think abl  \n",
      "4             happi bday tomoz best peopl born may  \n"
     ]
    }
   ],
   "source": [
    "# print first 5 rows of data\n",
    "print(twitter_data.head())"
   ]
  },
  {
   "cell_type": "code",
   "execution_count": 27,
   "metadata": {},
   "outputs": [
    {
     "name": "stdout",
     "output_type": "stream",
     "text": [
      "0                                     happi birthday sister\n",
      "1                            finish eat supper attack daddi\n",
      "2                                           hate love right\n",
      "3           photo fest ldn tudor feast last night think abl\n",
      "4                      happi bday tomoz best peopl born may\n",
      "                                ...                        \n",
      "499995                            come came could come come\n",
      "499996                                        stomach cramp\n",
      "499997                                    whoop sound happi\n",
      "499998                       _sg weird scari email facebook\n",
      "499999    prospect exam bgt figur near work magic im suf...\n",
      "Name: stemmed_text, Length: 500000, dtype: object\n"
     ]
    }
   ],
   "source": [
    "# print stemmed texts\n",
    "print(twitter_data['stemmed_text'])"
   ]
  },
  {
   "cell_type": "code",
   "execution_count": 28,
   "metadata": {},
   "outputs": [],
   "source": [
    "# split the dataset into features (X) and target (y)\n",
    "X = twitter_data['stemmed_text'] # Independent variable\n",
    "y = twitter_data['target'] # 0. Negative, 1. Positive (dependent variable)"
   ]
  },
  {
   "cell_type": "code",
   "execution_count": 29,
   "metadata": {},
   "outputs": [
    {
     "name": "stdout",
     "output_type": "stream",
     "text": [
      "0                                     happi birthday sister\n",
      "1                            finish eat supper attack daddi\n",
      "2                                           hate love right\n",
      "3           photo fest ldn tudor feast last night think abl\n",
      "4                      happi bday tomoz best peopl born may\n",
      "                                ...                        \n",
      "499995                            come came could come come\n",
      "499996                                        stomach cramp\n",
      "499997                                    whoop sound happi\n",
      "499998                       _sg weird scari email facebook\n",
      "499999    prospect exam bgt figur near work magic im suf...\n",
      "Name: stemmed_text, Length: 500000, dtype: object\n"
     ]
    }
   ],
   "source": [
    "print(X)"
   ]
  },
  {
   "cell_type": "code",
   "execution_count": 30,
   "metadata": {},
   "outputs": [
    {
     "name": "stdout",
     "output_type": "stream",
     "text": [
      "0         1\n",
      "1         1\n",
      "2         0\n",
      "3         1\n",
      "4         1\n",
      "         ..\n",
      "499995    0\n",
      "499996    0\n",
      "499997    1\n",
      "499998    1\n",
      "499999    0\n",
      "Name: target, Length: 500000, dtype: int64\n"
     ]
    }
   ],
   "source": [
    "print(y)"
   ]
  },
  {
   "cell_type": "code",
   "execution_count": 31,
   "metadata": {},
   "outputs": [],
   "source": [
    "# split data into training and testing sets\n",
    "X_train, X_test, y_train, y_test = train_test_split(X, y, test_size=0.2, random_state=42)"
   ]
  },
  {
   "cell_type": "code",
   "execution_count": 32,
   "metadata": {},
   "outputs": [
    {
     "name": "stdout",
     "output_type": "stream",
     "text": [
      "(500000,) (400000,) (100000,)\n"
     ]
    }
   ],
   "source": [
    "print(X.shape, X_train.shape, X_test.shape)"
   ]
  },
  {
   "cell_type": "code",
   "execution_count": 34,
   "metadata": {},
   "outputs": [],
   "source": [
    "# convert textual data to numerical data\n",
    "vectorizer = TfidfVectorizer()\n",
    "X_train = vectorizer.fit_transform(X_train)\n",
    "X_test = vectorizer.transform(X_test)"
   ]
  },
  {
   "cell_type": "code",
   "execution_count": 35,
   "metadata": {},
   "outputs": [
    {
     "name": "stdout",
     "output_type": "stream",
     "text": [
      "<Compressed Sparse Row sparse matrix of dtype 'float64'\n",
      "\twith 2696201 stored elements and shape (400000, 102625)>\n",
      "  Coords\tValues\n",
      "  (0, 78245)\t0.3433135973344137\n",
      "  (0, 67879)\t0.5491859389656334\n",
      "  (0, 11762)\t0.3996104700628026\n",
      "  (0, 14350)\t0.2656436007677318\n",
      "  (0, 9611)\t0.24478563455266164\n",
      "  (0, 56542)\t0.19873654795718387\n",
      "  (0, 52983)\t0.29944388434735103\n",
      "  (0, 26002)\t0.36245333456939377\n",
      "  (0, 55260)\t0.17268539580488468\n",
      "  (1, 23850)\t0.6471040548515594\n",
      "  (1, 73917)\t0.2668231250746326\n",
      "  (1, 40436)\t0.49417356599639395\n",
      "  (1, 13936)\t0.5156105592309805\n",
      "  (2, 85593)\t0.20373694733441325\n",
      "  (2, 39354)\t0.21052644832014503\n",
      "  (2, 29087)\t0.18542407890086796\n",
      "  (2, 91704)\t0.4309381692479243\n",
      "  (2, 21917)\t0.24366751892488503\n",
      "  (2, 80088)\t0.23939212490428563\n",
      "  (2, 99169)\t0.273485116069025\n",
      "  (2, 40144)\t0.16478162474110616\n",
      "  (2, 96681)\t0.1740556247628811\n",
      "  (2, 74608)\t0.25958913154746094\n",
      "  (2, 41833)\t0.17078585658703535\n",
      "  (2, 44388)\t0.35964915669175657\n",
      "  :\t:\n",
      "  (399996, 93007)\t0.2670293989252079\n",
      "  (399996, 13499)\t0.3167233588024173\n",
      "  (399996, 7816)\t0.34011417020364193\n",
      "  (399996, 26683)\t0.517806841315748\n",
      "  (399996, 28668)\t0.5785383148818481\n",
      "  (399997, 9611)\t0.24451385435151796\n",
      "  (399997, 73917)\t0.19357952705981338\n",
      "  (399997, 34251)\t0.1923557133031503\n",
      "  (399997, 96334)\t0.18689040285693537\n",
      "  (399997, 66062)\t0.37436320124683736\n",
      "  (399997, 42928)\t0.24302388884215773\n",
      "  (399997, 85242)\t0.2414955820983513\n",
      "  (399997, 38425)\t0.3809245958923386\n",
      "  (399997, 74582)\t0.3637390904460885\n",
      "  (399997, 80813)\t0.33107721850913685\n",
      "  (399997, 30381)\t0.4315795027040433\n",
      "  (399998, 59613)\t0.21876073180688554\n",
      "  (399998, 76857)\t0.25035339182987665\n",
      "  (399998, 42488)\t0.3013014737803231\n",
      "  (399998, 12432)\t0.2934698933229052\n",
      "  (399998, 68169)\t0.3430588025327975\n",
      "  (399998, 91350)\t0.4239639305026845\n",
      "  (399998, 30712)\t0.4148283132844279\n",
      "  (399998, 57940)\t0.49299338653222785\n",
      "  (399999, 88310)\t1.0\n"
     ]
    }
   ],
   "source": [
    "print(X_train)"
   ]
  },
  {
   "cell_type": "code",
   "execution_count": 36,
   "metadata": {},
   "outputs": [
    {
     "name": "stdout",
     "output_type": "stream",
     "text": [
      "<Compressed Sparse Row sparse matrix of dtype 'float64'\n",
      "\twith 655604 stored elements and shape (100000, 102625)>\n",
      "  Coords\tValues\n",
      "  (0, 45137)\t0.7776909420103503\n",
      "  (0, 85968)\t0.4658145038362093\n",
      "  (0, 88839)\t0.422153581923546\n",
      "  (1, 13627)\t0.30022393446405915\n",
      "  (1, 23357)\t0.18528760143835749\n",
      "  (1, 36539)\t0.2422261319638227\n",
      "  (1, 37043)\t0.1975816890524984\n",
      "  (1, 41833)\t0.19819576561383356\n",
      "  (1, 42871)\t0.26105556740416097\n",
      "  (1, 44324)\t0.1794843267071652\n",
      "  (1, 56542)\t0.1810194215938191\n",
      "  (1, 64824)\t0.39803836432632517\n",
      "  (1, 65154)\t0.40100776788477577\n",
      "  (1, 70136)\t0.21977059752242833\n",
      "  (1, 77676)\t0.2021041471322486\n",
      "  (1, 78524)\t0.17381651563149175\n",
      "  (1, 85630)\t0.2431204123145439\n",
      "  (1, 91934)\t0.3281785467886472\n",
      "  (2, 43183)\t0.4718882894271042\n",
      "  (2, 55260)\t0.3494125092597571\n",
      "  (2, 84293)\t0.8094642306330538\n",
      "  (3, 22613)\t0.36570893177467323\n",
      "  (3, 24081)\t0.404266562246309\n",
      "  (3, 26194)\t0.5705543273123663\n",
      "  (3, 52876)\t0.27171363617161104\n",
      "  :\t:\n",
      "  (99995, 97137)\t0.190008077610133\n",
      "  (99996, 14149)\t0.2947385729898005\n",
      "  (99996, 24716)\t0.34453829406503284\n",
      "  (99996, 28217)\t0.33755299013348283\n",
      "  (99996, 61277)\t0.16762590596264995\n",
      "  (99996, 72250)\t0.3975988967190686\n",
      "  (99996, 74071)\t0.35730596190043795\n",
      "  (99996, 78524)\t0.1560293752513171\n",
      "  (99996, 81962)\t0.4490370438666085\n",
      "  (99996, 91898)\t0.37503360679976677\n",
      "  (99997, 45206)\t0.6173334476581643\n",
      "  (99997, 53393)\t0.7867016044234846\n",
      "  (99998, 7840)\t0.2955103820139976\n",
      "  (99998, 23442)\t0.35511600685588635\n",
      "  (99998, 35290)\t0.4420823022767689\n",
      "  (99998, 45674)\t0.3180072500565894\n",
      "  (99998, 68786)\t0.528247283067967\n",
      "  (99998, 69574)\t0.3130184106911204\n",
      "  (99998, 78524)\t0.21862893818072054\n",
      "  (99998, 89029)\t0.2552969498671606\n",
      "  (99999, 18009)\t0.41090224570506884\n",
      "  (99999, 21599)\t0.46118323084904816\n",
      "  (99999, 80418)\t0.34442004547220567\n",
      "  (99999, 82413)\t0.49792498332240687\n",
      "  (99999, 82928)\t0.5019112623945289\n"
     ]
    }
   ],
   "source": [
    "print(X_test)"
   ]
  },
  {
   "cell_type": "code",
   "execution_count": 37,
   "metadata": {},
   "outputs": [
    {
     "data": {
      "text/html": [
       "<style>#sk-container-id-1 {\n",
       "  /* Definition of color scheme common for light and dark mode */\n",
       "  --sklearn-color-text: black;\n",
       "  --sklearn-color-line: gray;\n",
       "  /* Definition of color scheme for unfitted estimators */\n",
       "  --sklearn-color-unfitted-level-0: #fff5e6;\n",
       "  --sklearn-color-unfitted-level-1: #f6e4d2;\n",
       "  --sklearn-color-unfitted-level-2: #ffe0b3;\n",
       "  --sklearn-color-unfitted-level-3: chocolate;\n",
       "  /* Definition of color scheme for fitted estimators */\n",
       "  --sklearn-color-fitted-level-0: #f0f8ff;\n",
       "  --sklearn-color-fitted-level-1: #d4ebff;\n",
       "  --sklearn-color-fitted-level-2: #b3dbfd;\n",
       "  --sklearn-color-fitted-level-3: cornflowerblue;\n",
       "\n",
       "  /* Specific color for light theme */\n",
       "  --sklearn-color-text-on-default-background: var(--sg-text-color, var(--theme-code-foreground, var(--jp-content-font-color1, black)));\n",
       "  --sklearn-color-background: var(--sg-background-color, var(--theme-background, var(--jp-layout-color0, white)));\n",
       "  --sklearn-color-border-box: var(--sg-text-color, var(--theme-code-foreground, var(--jp-content-font-color1, black)));\n",
       "  --sklearn-color-icon: #696969;\n",
       "\n",
       "  @media (prefers-color-scheme: dark) {\n",
       "    /* Redefinition of color scheme for dark theme */\n",
       "    --sklearn-color-text-on-default-background: var(--sg-text-color, var(--theme-code-foreground, var(--jp-content-font-color1, white)));\n",
       "    --sklearn-color-background: var(--sg-background-color, var(--theme-background, var(--jp-layout-color0, #111)));\n",
       "    --sklearn-color-border-box: var(--sg-text-color, var(--theme-code-foreground, var(--jp-content-font-color1, white)));\n",
       "    --sklearn-color-icon: #878787;\n",
       "  }\n",
       "}\n",
       "\n",
       "#sk-container-id-1 {\n",
       "  color: var(--sklearn-color-text);\n",
       "}\n",
       "\n",
       "#sk-container-id-1 pre {\n",
       "  padding: 0;\n",
       "}\n",
       "\n",
       "#sk-container-id-1 input.sk-hidden--visually {\n",
       "  border: 0;\n",
       "  clip: rect(1px 1px 1px 1px);\n",
       "  clip: rect(1px, 1px, 1px, 1px);\n",
       "  height: 1px;\n",
       "  margin: -1px;\n",
       "  overflow: hidden;\n",
       "  padding: 0;\n",
       "  position: absolute;\n",
       "  width: 1px;\n",
       "}\n",
       "\n",
       "#sk-container-id-1 div.sk-dashed-wrapped {\n",
       "  border: 1px dashed var(--sklearn-color-line);\n",
       "  margin: 0 0.4em 0.5em 0.4em;\n",
       "  box-sizing: border-box;\n",
       "  padding-bottom: 0.4em;\n",
       "  background-color: var(--sklearn-color-background);\n",
       "}\n",
       "\n",
       "#sk-container-id-1 div.sk-container {\n",
       "  /* jupyter's `normalize.less` sets `[hidden] { display: none; }`\n",
       "     but bootstrap.min.css set `[hidden] { display: none !important; }`\n",
       "     so we also need the `!important` here to be able to override the\n",
       "     default hidden behavior on the sphinx rendered scikit-learn.org.\n",
       "     See: https://github.com/scikit-learn/scikit-learn/issues/21755 */\n",
       "  display: inline-block !important;\n",
       "  position: relative;\n",
       "}\n",
       "\n",
       "#sk-container-id-1 div.sk-text-repr-fallback {\n",
       "  display: none;\n",
       "}\n",
       "\n",
       "div.sk-parallel-item,\n",
       "div.sk-serial,\n",
       "div.sk-item {\n",
       "  /* draw centered vertical line to link estimators */\n",
       "  background-image: linear-gradient(var(--sklearn-color-text-on-default-background), var(--sklearn-color-text-on-default-background));\n",
       "  background-size: 2px 100%;\n",
       "  background-repeat: no-repeat;\n",
       "  background-position: center center;\n",
       "}\n",
       "\n",
       "/* Parallel-specific style estimator block */\n",
       "\n",
       "#sk-container-id-1 div.sk-parallel-item::after {\n",
       "  content: \"\";\n",
       "  width: 100%;\n",
       "  border-bottom: 2px solid var(--sklearn-color-text-on-default-background);\n",
       "  flex-grow: 1;\n",
       "}\n",
       "\n",
       "#sk-container-id-1 div.sk-parallel {\n",
       "  display: flex;\n",
       "  align-items: stretch;\n",
       "  justify-content: center;\n",
       "  background-color: var(--sklearn-color-background);\n",
       "  position: relative;\n",
       "}\n",
       "\n",
       "#sk-container-id-1 div.sk-parallel-item {\n",
       "  display: flex;\n",
       "  flex-direction: column;\n",
       "}\n",
       "\n",
       "#sk-container-id-1 div.sk-parallel-item:first-child::after {\n",
       "  align-self: flex-end;\n",
       "  width: 50%;\n",
       "}\n",
       "\n",
       "#sk-container-id-1 div.sk-parallel-item:last-child::after {\n",
       "  align-self: flex-start;\n",
       "  width: 50%;\n",
       "}\n",
       "\n",
       "#sk-container-id-1 div.sk-parallel-item:only-child::after {\n",
       "  width: 0;\n",
       "}\n",
       "\n",
       "/* Serial-specific style estimator block */\n",
       "\n",
       "#sk-container-id-1 div.sk-serial {\n",
       "  display: flex;\n",
       "  flex-direction: column;\n",
       "  align-items: center;\n",
       "  background-color: var(--sklearn-color-background);\n",
       "  padding-right: 1em;\n",
       "  padding-left: 1em;\n",
       "}\n",
       "\n",
       "\n",
       "/* Toggleable style: style used for estimator/Pipeline/ColumnTransformer box that is\n",
       "clickable and can be expanded/collapsed.\n",
       "- Pipeline and ColumnTransformer use this feature and define the default style\n",
       "- Estimators will overwrite some part of the style using the `sk-estimator` class\n",
       "*/\n",
       "\n",
       "/* Pipeline and ColumnTransformer style (default) */\n",
       "\n",
       "#sk-container-id-1 div.sk-toggleable {\n",
       "  /* Default theme specific background. It is overwritten whether we have a\n",
       "  specific estimator or a Pipeline/ColumnTransformer */\n",
       "  background-color: var(--sklearn-color-background);\n",
       "}\n",
       "\n",
       "/* Toggleable label */\n",
       "#sk-container-id-1 label.sk-toggleable__label {\n",
       "  cursor: pointer;\n",
       "  display: block;\n",
       "  width: 100%;\n",
       "  margin-bottom: 0;\n",
       "  padding: 0.5em;\n",
       "  box-sizing: border-box;\n",
       "  text-align: center;\n",
       "}\n",
       "\n",
       "#sk-container-id-1 label.sk-toggleable__label-arrow:before {\n",
       "  /* Arrow on the left of the label */\n",
       "  content: \"▸\";\n",
       "  float: left;\n",
       "  margin-right: 0.25em;\n",
       "  color: var(--sklearn-color-icon);\n",
       "}\n",
       "\n",
       "#sk-container-id-1 label.sk-toggleable__label-arrow:hover:before {\n",
       "  color: var(--sklearn-color-text);\n",
       "}\n",
       "\n",
       "/* Toggleable content - dropdown */\n",
       "\n",
       "#sk-container-id-1 div.sk-toggleable__content {\n",
       "  max-height: 0;\n",
       "  max-width: 0;\n",
       "  overflow: hidden;\n",
       "  text-align: left;\n",
       "  /* unfitted */\n",
       "  background-color: var(--sklearn-color-unfitted-level-0);\n",
       "}\n",
       "\n",
       "#sk-container-id-1 div.sk-toggleable__content.fitted {\n",
       "  /* fitted */\n",
       "  background-color: var(--sklearn-color-fitted-level-0);\n",
       "}\n",
       "\n",
       "#sk-container-id-1 div.sk-toggleable__content pre {\n",
       "  margin: 0.2em;\n",
       "  border-radius: 0.25em;\n",
       "  color: var(--sklearn-color-text);\n",
       "  /* unfitted */\n",
       "  background-color: var(--sklearn-color-unfitted-level-0);\n",
       "}\n",
       "\n",
       "#sk-container-id-1 div.sk-toggleable__content.fitted pre {\n",
       "  /* unfitted */\n",
       "  background-color: var(--sklearn-color-fitted-level-0);\n",
       "}\n",
       "\n",
       "#sk-container-id-1 input.sk-toggleable__control:checked~div.sk-toggleable__content {\n",
       "  /* Expand drop-down */\n",
       "  max-height: 200px;\n",
       "  max-width: 100%;\n",
       "  overflow: auto;\n",
       "}\n",
       "\n",
       "#sk-container-id-1 input.sk-toggleable__control:checked~label.sk-toggleable__label-arrow:before {\n",
       "  content: \"▾\";\n",
       "}\n",
       "\n",
       "/* Pipeline/ColumnTransformer-specific style */\n",
       "\n",
       "#sk-container-id-1 div.sk-label input.sk-toggleable__control:checked~label.sk-toggleable__label {\n",
       "  color: var(--sklearn-color-text);\n",
       "  background-color: var(--sklearn-color-unfitted-level-2);\n",
       "}\n",
       "\n",
       "#sk-container-id-1 div.sk-label.fitted input.sk-toggleable__control:checked~label.sk-toggleable__label {\n",
       "  background-color: var(--sklearn-color-fitted-level-2);\n",
       "}\n",
       "\n",
       "/* Estimator-specific style */\n",
       "\n",
       "/* Colorize estimator box */\n",
       "#sk-container-id-1 div.sk-estimator input.sk-toggleable__control:checked~label.sk-toggleable__label {\n",
       "  /* unfitted */\n",
       "  background-color: var(--sklearn-color-unfitted-level-2);\n",
       "}\n",
       "\n",
       "#sk-container-id-1 div.sk-estimator.fitted input.sk-toggleable__control:checked~label.sk-toggleable__label {\n",
       "  /* fitted */\n",
       "  background-color: var(--sklearn-color-fitted-level-2);\n",
       "}\n",
       "\n",
       "#sk-container-id-1 div.sk-label label.sk-toggleable__label,\n",
       "#sk-container-id-1 div.sk-label label {\n",
       "  /* The background is the default theme color */\n",
       "  color: var(--sklearn-color-text-on-default-background);\n",
       "}\n",
       "\n",
       "/* On hover, darken the color of the background */\n",
       "#sk-container-id-1 div.sk-label:hover label.sk-toggleable__label {\n",
       "  color: var(--sklearn-color-text);\n",
       "  background-color: var(--sklearn-color-unfitted-level-2);\n",
       "}\n",
       "\n",
       "/* Label box, darken color on hover, fitted */\n",
       "#sk-container-id-1 div.sk-label.fitted:hover label.sk-toggleable__label.fitted {\n",
       "  color: var(--sklearn-color-text);\n",
       "  background-color: var(--sklearn-color-fitted-level-2);\n",
       "}\n",
       "\n",
       "/* Estimator label */\n",
       "\n",
       "#sk-container-id-1 div.sk-label label {\n",
       "  font-family: monospace;\n",
       "  font-weight: bold;\n",
       "  display: inline-block;\n",
       "  line-height: 1.2em;\n",
       "}\n",
       "\n",
       "#sk-container-id-1 div.sk-label-container {\n",
       "  text-align: center;\n",
       "}\n",
       "\n",
       "/* Estimator-specific */\n",
       "#sk-container-id-1 div.sk-estimator {\n",
       "  font-family: monospace;\n",
       "  border: 1px dotted var(--sklearn-color-border-box);\n",
       "  border-radius: 0.25em;\n",
       "  box-sizing: border-box;\n",
       "  margin-bottom: 0.5em;\n",
       "  /* unfitted */\n",
       "  background-color: var(--sklearn-color-unfitted-level-0);\n",
       "}\n",
       "\n",
       "#sk-container-id-1 div.sk-estimator.fitted {\n",
       "  /* fitted */\n",
       "  background-color: var(--sklearn-color-fitted-level-0);\n",
       "}\n",
       "\n",
       "/* on hover */\n",
       "#sk-container-id-1 div.sk-estimator:hover {\n",
       "  /* unfitted */\n",
       "  background-color: var(--sklearn-color-unfitted-level-2);\n",
       "}\n",
       "\n",
       "#sk-container-id-1 div.sk-estimator.fitted:hover {\n",
       "  /* fitted */\n",
       "  background-color: var(--sklearn-color-fitted-level-2);\n",
       "}\n",
       "\n",
       "/* Specification for estimator info (e.g. \"i\" and \"?\") */\n",
       "\n",
       "/* Common style for \"i\" and \"?\" */\n",
       "\n",
       ".sk-estimator-doc-link,\n",
       "a:link.sk-estimator-doc-link,\n",
       "a:visited.sk-estimator-doc-link {\n",
       "  float: right;\n",
       "  font-size: smaller;\n",
       "  line-height: 1em;\n",
       "  font-family: monospace;\n",
       "  background-color: var(--sklearn-color-background);\n",
       "  border-radius: 1em;\n",
       "  height: 1em;\n",
       "  width: 1em;\n",
       "  text-decoration: none !important;\n",
       "  margin-left: 1ex;\n",
       "  /* unfitted */\n",
       "  border: var(--sklearn-color-unfitted-level-1) 1pt solid;\n",
       "  color: var(--sklearn-color-unfitted-level-1);\n",
       "}\n",
       "\n",
       ".sk-estimator-doc-link.fitted,\n",
       "a:link.sk-estimator-doc-link.fitted,\n",
       "a:visited.sk-estimator-doc-link.fitted {\n",
       "  /* fitted */\n",
       "  border: var(--sklearn-color-fitted-level-1) 1pt solid;\n",
       "  color: var(--sklearn-color-fitted-level-1);\n",
       "}\n",
       "\n",
       "/* On hover */\n",
       "div.sk-estimator:hover .sk-estimator-doc-link:hover,\n",
       ".sk-estimator-doc-link:hover,\n",
       "div.sk-label-container:hover .sk-estimator-doc-link:hover,\n",
       ".sk-estimator-doc-link:hover {\n",
       "  /* unfitted */\n",
       "  background-color: var(--sklearn-color-unfitted-level-3);\n",
       "  color: var(--sklearn-color-background);\n",
       "  text-decoration: none;\n",
       "}\n",
       "\n",
       "div.sk-estimator.fitted:hover .sk-estimator-doc-link.fitted:hover,\n",
       ".sk-estimator-doc-link.fitted:hover,\n",
       "div.sk-label-container:hover .sk-estimator-doc-link.fitted:hover,\n",
       ".sk-estimator-doc-link.fitted:hover {\n",
       "  /* fitted */\n",
       "  background-color: var(--sklearn-color-fitted-level-3);\n",
       "  color: var(--sklearn-color-background);\n",
       "  text-decoration: none;\n",
       "}\n",
       "\n",
       "/* Span, style for the box shown on hovering the info icon */\n",
       ".sk-estimator-doc-link span {\n",
       "  display: none;\n",
       "  z-index: 9999;\n",
       "  position: relative;\n",
       "  font-weight: normal;\n",
       "  right: .2ex;\n",
       "  padding: .5ex;\n",
       "  margin: .5ex;\n",
       "  width: min-content;\n",
       "  min-width: 20ex;\n",
       "  max-width: 50ex;\n",
       "  color: var(--sklearn-color-text);\n",
       "  box-shadow: 2pt 2pt 4pt #999;\n",
       "  /* unfitted */\n",
       "  background: var(--sklearn-color-unfitted-level-0);\n",
       "  border: .5pt solid var(--sklearn-color-unfitted-level-3);\n",
       "}\n",
       "\n",
       ".sk-estimator-doc-link.fitted span {\n",
       "  /* fitted */\n",
       "  background: var(--sklearn-color-fitted-level-0);\n",
       "  border: var(--sklearn-color-fitted-level-3);\n",
       "}\n",
       "\n",
       ".sk-estimator-doc-link:hover span {\n",
       "  display: block;\n",
       "}\n",
       "\n",
       "/* \"?\"-specific style due to the `<a>` HTML tag */\n",
       "\n",
       "#sk-container-id-1 a.estimator_doc_link {\n",
       "  float: right;\n",
       "  font-size: 1rem;\n",
       "  line-height: 1em;\n",
       "  font-family: monospace;\n",
       "  background-color: var(--sklearn-color-background);\n",
       "  border-radius: 1rem;\n",
       "  height: 1rem;\n",
       "  width: 1rem;\n",
       "  text-decoration: none;\n",
       "  /* unfitted */\n",
       "  color: var(--sklearn-color-unfitted-level-1);\n",
       "  border: var(--sklearn-color-unfitted-level-1) 1pt solid;\n",
       "}\n",
       "\n",
       "#sk-container-id-1 a.estimator_doc_link.fitted {\n",
       "  /* fitted */\n",
       "  border: var(--sklearn-color-fitted-level-1) 1pt solid;\n",
       "  color: var(--sklearn-color-fitted-level-1);\n",
       "}\n",
       "\n",
       "/* On hover */\n",
       "#sk-container-id-1 a.estimator_doc_link:hover {\n",
       "  /* unfitted */\n",
       "  background-color: var(--sklearn-color-unfitted-level-3);\n",
       "  color: var(--sklearn-color-background);\n",
       "  text-decoration: none;\n",
       "}\n",
       "\n",
       "#sk-container-id-1 a.estimator_doc_link.fitted:hover {\n",
       "  /* fitted */\n",
       "  background-color: var(--sklearn-color-fitted-level-3);\n",
       "}\n",
       "</style><div id=\"sk-container-id-1\" class=\"sk-top-container\"><div class=\"sk-text-repr-fallback\"><pre>LogisticRegression(max_iter=1000)</pre><b>In a Jupyter environment, please rerun this cell to show the HTML representation or trust the notebook. <br />On GitHub, the HTML representation is unable to render, please try loading this page with nbviewer.org.</b></div><div class=\"sk-container\" hidden><div class=\"sk-item\"><div class=\"sk-estimator fitted sk-toggleable\"><input class=\"sk-toggleable__control sk-hidden--visually\" id=\"sk-estimator-id-1\" type=\"checkbox\" checked><label for=\"sk-estimator-id-1\" class=\"sk-toggleable__label fitted sk-toggleable__label-arrow fitted\">&nbsp;&nbsp;LogisticRegression<a class=\"sk-estimator-doc-link fitted\" rel=\"noreferrer\" target=\"_blank\" href=\"https://scikit-learn.org/1.5/modules/generated/sklearn.linear_model.LogisticRegression.html\">?<span>Documentation for LogisticRegression</span></a><span class=\"sk-estimator-doc-link fitted\">i<span>Fitted</span></span></label><div class=\"sk-toggleable__content fitted\"><pre>LogisticRegression(max_iter=1000)</pre></div> </div></div></div></div>"
      ],
      "text/plain": [
       "LogisticRegression(max_iter=1000)"
      ]
     },
     "execution_count": 37,
     "metadata": {},
     "output_type": "execute_result"
    }
   ],
   "source": [
    "# trainign machine learning model\n",
    "model = LogisticRegression(max_iter=1000)\n",
    "model.fit(X_train, y_train)"
   ]
  },
  {
   "cell_type": "code",
   "execution_count": 41,
   "metadata": {},
   "outputs": [],
   "source": [
    "# model evaluation for testing set\n",
    "def model_evaluation(model, X_test, y_test):\n",
    "    y_pred = model.predict(X_test)\n",
    "    cm = confusion_matrix(y_test, y_pred)\n",
    "    accuracy = accuracy_score(y_test, y_pred)\n",
    "    precision = precision_score(y_test, y_pred)\n",
    "    r_score = recall_score(y_test, y_pred)\n",
    "    f_score = f1_score(y_test, y_pred)\n",
    "    \n",
    "    print(f\"Confusion matrix : {cm}\")\n",
    "    print(f\"Accuracy : {accuracy}\" )\n",
    "    print(f\"Precision score : {precision}\" )\n",
    "    print(f\"Recall score : {r_score}\" )\n",
    "    print(f\"F1 score : {f_score}\" )"
   ]
  },
  {
   "cell_type": "code",
   "execution_count": 62,
   "metadata": {},
   "outputs": [
    {
     "name": "stdout",
     "output_type": "stream",
     "text": [
      "Model evaluation for testing set\n",
      "Confusion matrix : [[37348 12555]\n",
      " [10481 39616]]\n",
      "Accuracy : 0.76964\n",
      "Precision score : 0.7593490636560541\n",
      "Recall score : 0.7907858754017206\n",
      "F1 score : 0.7747486994954433\n"
     ]
    }
   ],
   "source": [
    "# model evaluation for testing set\n",
    "print('Model evaluation for testing set')\n",
    "model_evaluation(model, X_test, y_test)"
   ]
  },
  {
   "cell_type": "code",
   "execution_count": 63,
   "metadata": {},
   "outputs": [
    {
     "name": "stdout",
     "output_type": "stream",
     "text": [
      "Model evaluation for training set\n",
      "Confusion matrix : [[154968  44863]\n",
      " [ 36609 163560]]\n",
      "Accuracy : 0.79632\n",
      "Precision score : 0.7847502434951996\n",
      "Recall score : 0.817109542436641\n",
      "F1 score : 0.8006030465598934\n"
     ]
    }
   ],
   "source": [
    "# model evaluation for training set\n",
    "print('Model evaluation for training set')\n",
    "model_evaluation(model, X_train, y_train)"
   ]
  },
  {
   "cell_type": "code",
   "execution_count": 60,
   "metadata": {},
   "outputs": [],
   "source": [
    "# function to predict sentiment\n",
    "def predict_sentiment(text):\n",
    "    text = clean_text(text)\n",
    "    text = vectorizer.transform([text])\n",
    "    sentiment = model.predict(text)\n",
    "    \n",
    "    if sentiment[0] == 0:\n",
    "        return f\"Predicted Sentiment : Negative\"\n",
    "    else:\n",
    "        return f\"Predicted Sentiment : Positive\""
   ]
  },
  {
   "cell_type": "code",
   "execution_count": 47,
   "metadata": {},
   "outputs": [
    {
     "data": {
      "text/plain": [
       "['twitter_comments_model.pkl']"
      ]
     },
     "execution_count": 47,
     "metadata": {},
     "output_type": "execute_result"
    }
   ],
   "source": [
    "# save the model\n",
    "joblib.dump(model, 'twitter_comments_model.pkl')"
   ]
  },
  {
   "cell_type": "code",
   "execution_count": 61,
   "metadata": {},
   "outputs": [
    {
     "name": "stdout",
     "output_type": "stream",
     "text": [
      "Predicted Sentiment : Positive\n"
     ]
    }
   ],
   "source": [
    "example_text = \"I love this product, it's amazing!\"\n",
    "print(predict_sentiment(example_text))"
   ]
  }
 ],
 "metadata": {
  "kernelspec": {
   "display_name": "Python 3",
   "language": "python",
   "name": "python3"
  },
  "language_info": {
   "codemirror_mode": {
    "name": "ipython",
    "version": 3
   },
   "file_extension": ".py",
   "mimetype": "text/x-python",
   "name": "python",
   "nbconvert_exporter": "python",
   "pygments_lexer": "ipython3",
   "version": "3.10.12"
  }
 },
 "nbformat": 4,
 "nbformat_minor": 2
}
