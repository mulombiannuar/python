{
 "cells": [
  {
   "cell_type": "markdown",
   "id": "7a342e1b",
   "metadata": {},
   "source": [
    "### Importing the important libraries and dataset\n",
    "\n",
    "To begin, import libraries like pandas and matplotlib/seaborn for data handling and visualization. Perform data preprocessing using NLTK, import email data from CSV file, and import machine learning algorithms like SVC, Random Forest, and Naive Bayes Classifier for model building."
   ]
  },
  {
   "cell_type": "code",
   "execution_count": 1,
   "id": "7150c438",
   "metadata": {
    "colab": {
     "base_uri": "https://localhost:8080/"
    },
    "executionInfo": {
     "elapsed": 302,
     "status": "ok",
     "timestamp": 1719045692142,
     "user": {
      "displayName": "Mahesh waran",
      "userId": "01052940636805861384"
     },
     "user_tz": -60
    },
    "id": "7150c438",
    "outputId": "de5c0d2a-9ca1-49c6-d563-49d9e6a9bf5b"
   },
   "outputs": [
    {
     "name": "stderr",
     "output_type": "stream",
     "text": [
      "[nltk_data] Downloading package stopwords to\n",
      "[nltk_data]     /home/mulombi/nltk_data...\n",
      "[nltk_data]   Package stopwords is already up-to-date!\n",
      "[nltk_data] Downloading package punkt to /home/mulombi/nltk_data...\n",
      "[nltk_data]   Package punkt is already up-to-date!\n",
      "[nltk_data] Downloading package punkt_tab to\n",
      "[nltk_data]     /home/mulombi/nltk_data...\n",
      "[nltk_data]   Package punkt_tab is already up-to-date!\n"
     ]
    }
   ],
   "source": [
    "import pandas as pd\n",
    "import matplotlib.pyplot as plt\n",
    "import seaborn as sns\n",
    "\n",
    "# data preprocessing\n",
    "import nltk\n",
    "nltk.download('stopwords')\n",
    "nltk.download('punkt')\n",
    "nltk.download('punkt_tab')\n",
    "import string\n",
    "from nltk.corpus import stopwords\n",
    "from nltk.stem import PorterStemmer\n",
    "from nltk.tokenize import sent_tokenize, word_tokenize\n",
    "import re\n",
    "from collections import Counter\n",
    "from sklearn.preprocessing import LabelEncoder\n",
    "from wordcloud import WordCloud\n",
    "import PIL\n",
    "\n",
    "# Model Building\n",
    "from sklearn.feature_extraction.text import TfidfVectorizer\n",
    "from sklearn.model_selection import train_test_split\n",
    "from sklearn.metrics import accuracy_score,confusion_matrix,precision_score\n",
    "from sklearn.svm import SVC\n",
    "from sklearn.ensemble import RandomForestClassifier\n",
    "from sklearn.naive_bayes import MultinomialNB"
   ]
  },
  {
   "cell_type": "code",
   "execution_count": 2,
   "id": "cbb7e544",
   "metadata": {
    "executionInfo": {
     "elapsed": 296,
     "status": "ok",
     "timestamp": 1719045692816,
     "user": {
      "displayName": "Mahesh waran",
      "userId": "01052940636805861384"
     },
     "user_tz": -60
    },
    "id": "cbb7e544"
   },
   "outputs": [],
   "source": [
    "#importing the Dataset\n",
    "data = pd.read_csv(\"emails_sample.csv\",encoding='latin1')"
   ]
  },
  {
   "cell_type": "code",
   "execution_count": 3,
   "id": "4805c15c",
   "metadata": {
    "colab": {
     "base_uri": "https://localhost:8080/",
     "height": 206
    },
    "executionInfo": {
     "elapsed": 20,
     "status": "ok",
     "timestamp": 1719045692817,
     "user": {
      "displayName": "Mahesh waran",
      "userId": "01052940636805861384"
     },
     "user_tz": -60
    },
    "id": "4805c15c",
    "outputId": "c882caf4-6ec6-4c61-feb2-e2d68efe7510"
   },
   "outputs": [
    {
     "data": {
      "text/html": [
       "<div>\n",
       "<style scoped>\n",
       "    .dataframe tbody tr th:only-of-type {\n",
       "        vertical-align: middle;\n",
       "    }\n",
       "\n",
       "    .dataframe tbody tr th {\n",
       "        vertical-align: top;\n",
       "    }\n",
       "\n",
       "    .dataframe thead th {\n",
       "        text-align: right;\n",
       "    }\n",
       "</style>\n",
       "<table border=\"1\" class=\"dataframe\">\n",
       "  <thead>\n",
       "    <tr style=\"text-align: right;\">\n",
       "      <th></th>\n",
       "      <th>v1</th>\n",
       "      <th>v2</th>\n",
       "      <th>Unnamed: 2</th>\n",
       "      <th>Unnamed: 3</th>\n",
       "      <th>Unnamed: 4</th>\n",
       "    </tr>\n",
       "  </thead>\n",
       "  <tbody>\n",
       "    <tr>\n",
       "      <th>1340</th>\n",
       "      <td>ham</td>\n",
       "      <td>Might ax well im there.</td>\n",
       "      <td>NaN</td>\n",
       "      <td>NaN</td>\n",
       "      <td>NaN</td>\n",
       "    </tr>\n",
       "    <tr>\n",
       "      <th>2641</th>\n",
       "      <td>spam</td>\n",
       "      <td>You are guaranteed the latest Nokia Phone, a 4...</td>\n",
       "      <td>NaN</td>\n",
       "      <td>NaN</td>\n",
       "      <td>NaN</td>\n",
       "    </tr>\n",
       "    <tr>\n",
       "      <th>1493</th>\n",
       "      <td>ham</td>\n",
       "      <td>How are you with moneY...as in to you...money ...</td>\n",
       "      <td>NaN</td>\n",
       "      <td>NaN</td>\n",
       "      <td>NaN</td>\n",
       "    </tr>\n",
       "    <tr>\n",
       "      <th>248</th>\n",
       "      <td>ham</td>\n",
       "      <td>It didnt work again oh. Ok goodnight then. I.l...</td>\n",
       "      <td>NaN</td>\n",
       "      <td>NaN</td>\n",
       "      <td>NaN</td>\n",
       "    </tr>\n",
       "    <tr>\n",
       "      <th>2253</th>\n",
       "      <td>ham</td>\n",
       "      <td>Lol enjoy role playing much?</td>\n",
       "      <td>NaN</td>\n",
       "      <td>NaN</td>\n",
       "      <td>NaN</td>\n",
       "    </tr>\n",
       "  </tbody>\n",
       "</table>\n",
       "</div>"
      ],
      "text/plain": [
       "        v1                                                 v2 Unnamed: 2  \\\n",
       "1340   ham                            Might ax well im there.        NaN   \n",
       "2641  spam  You are guaranteed the latest Nokia Phone, a 4...        NaN   \n",
       "1493   ham  How are you with moneY...as in to you...money ...        NaN   \n",
       "248    ham  It didnt work again oh. Ok goodnight then. I.l...        NaN   \n",
       "2253   ham                       Lol enjoy role playing much?        NaN   \n",
       "\n",
       "     Unnamed: 3 Unnamed: 4  \n",
       "1340        NaN        NaN  \n",
       "2641        NaN        NaN  \n",
       "1493        NaN        NaN  \n",
       "248         NaN        NaN  \n",
       "2253        NaN        NaN  "
      ]
     },
     "execution_count": 3,
     "metadata": {},
     "output_type": "execute_result"
    }
   ],
   "source": [
    "data.sample(5)"
   ]
  },
  {
   "cell_type": "markdown",
   "id": "f4772bd7",
   "metadata": {
    "id": "f4772bd7"
   },
   "source": [
    "### Initial Exploration And Data Cleaning\n",
    "\n",
    "We will begin by performing an initial exploration and cleaning of the data to ensure we have a high-quality dataset for analysis."
   ]
  },
  {
   "cell_type": "code",
   "execution_count": 4,
   "id": "9ee5fa9b",
   "metadata": {
    "colab": {
     "base_uri": "https://localhost:8080/"
    },
    "executionInfo": {
     "elapsed": 13,
     "status": "ok",
     "timestamp": 1719045692817,
     "user": {
      "displayName": "Mahesh waran",
      "userId": "01052940636805861384"
     },
     "user_tz": -60
    },
    "id": "9ee5fa9b",
    "outputId": "cd7f903e-d702-4d9e-fefb-02dddb6bef80"
   },
   "outputs": [
    {
     "data": {
      "text/plain": [
       "(5572, 5)"
      ]
     },
     "execution_count": 4,
     "metadata": {},
     "output_type": "execute_result"
    }
   ],
   "source": [
    "data.shape"
   ]
  },
  {
   "cell_type": "code",
   "execution_count": 5,
   "id": "3e68a41d",
   "metadata": {
    "executionInfo": {
     "elapsed": 10,
     "status": "ok",
     "timestamp": 1719045692817,
     "user": {
      "displayName": "Mahesh waran",
      "userId": "01052940636805861384"
     },
     "user_tz": -60
    },
    "id": "3e68a41d"
   },
   "outputs": [],
   "source": [
    "#remove unwanted columns\n",
    "data.drop(columns=[\"Unnamed: 2\", \"Unnamed: 3\", \"Unnamed: 4\"], inplace=True)"
   ]
  },
  {
   "cell_type": "code",
   "execution_count": 6,
   "id": "6d91a070",
   "metadata": {
    "executionInfo": {
     "elapsed": 505,
     "status": "ok",
     "timestamp": 1719045693313,
     "user": {
      "displayName": "Mahesh waran",
      "userId": "01052940636805861384"
     },
     "user_tz": -60
    },
    "id": "6d91a070"
   },
   "outputs": [],
   "source": [
    "#rename columns to more intuitive names\n",
    "data.rename(columns={'v1': 'result', 'v2': 'emails'}, inplace=True)"
   ]
  },
  {
   "cell_type": "code",
   "execution_count": 7,
   "id": "4a652229",
   "metadata": {
    "colab": {
     "base_uri": "https://localhost:8080/",
     "height": 206
    },
    "executionInfo": {
     "elapsed": 25,
     "status": "ok",
     "timestamp": 1719045693313,
     "user": {
      "displayName": "Mahesh waran",
      "userId": "01052940636805861384"
     },
     "user_tz": -60
    },
    "id": "4a652229",
    "outputId": "69f13688-66fb-4e50-8cb4-ae21b1970611",
    "scrolled": true
   },
   "outputs": [
    {
     "data": {
      "text/html": [
       "<div>\n",
       "<style scoped>\n",
       "    .dataframe tbody tr th:only-of-type {\n",
       "        vertical-align: middle;\n",
       "    }\n",
       "\n",
       "    .dataframe tbody tr th {\n",
       "        vertical-align: top;\n",
       "    }\n",
       "\n",
       "    .dataframe thead th {\n",
       "        text-align: right;\n",
       "    }\n",
       "</style>\n",
       "<table border=\"1\" class=\"dataframe\">\n",
       "  <thead>\n",
       "    <tr style=\"text-align: right;\">\n",
       "      <th></th>\n",
       "      <th>result</th>\n",
       "      <th>emails</th>\n",
       "    </tr>\n",
       "  </thead>\n",
       "  <tbody>\n",
       "    <tr>\n",
       "      <th>0</th>\n",
       "      <td>ham</td>\n",
       "      <td>Go until jurong point, crazy.. Available only ...</td>\n",
       "    </tr>\n",
       "    <tr>\n",
       "      <th>1</th>\n",
       "      <td>ham</td>\n",
       "      <td>Ok lar... Joking wif u oni...</td>\n",
       "    </tr>\n",
       "    <tr>\n",
       "      <th>2</th>\n",
       "      <td>spam</td>\n",
       "      <td>Free entry in 2 a wkly comp to win FA Cup fina...</td>\n",
       "    </tr>\n",
       "    <tr>\n",
       "      <th>3</th>\n",
       "      <td>ham</td>\n",
       "      <td>U dun say so early hor... U c already then say...</td>\n",
       "    </tr>\n",
       "    <tr>\n",
       "      <th>4</th>\n",
       "      <td>ham</td>\n",
       "      <td>Nah I don't think he goes to usf, he lives aro...</td>\n",
       "    </tr>\n",
       "  </tbody>\n",
       "</table>\n",
       "</div>"
      ],
      "text/plain": [
       "  result                                             emails\n",
       "0    ham  Go until jurong point, crazy.. Available only ...\n",
       "1    ham                      Ok lar... Joking wif u oni...\n",
       "2   spam  Free entry in 2 a wkly comp to win FA Cup fina...\n",
       "3    ham  U dun say so early hor... U c already then say...\n",
       "4    ham  Nah I don't think he goes to usf, he lives aro..."
      ]
     },
     "execution_count": 7,
     "metadata": {},
     "output_type": "execute_result"
    }
   ],
   "source": [
    "data.head(5)"
   ]
  },
  {
   "cell_type": "code",
   "execution_count": 8,
   "id": "3809ba0a",
   "metadata": {},
   "outputs": [
    {
     "data": {
      "text/plain": [
       "result\n",
       "ham     4825\n",
       "spam     747\n",
       "Name: count, dtype: int64"
      ]
     },
     "execution_count": 8,
     "metadata": {},
     "output_type": "execute_result"
    }
   ],
   "source": [
    "#get unique values for results columns\n",
    "data['result'].value_counts()"
   ]
  },
  {
   "cell_type": "code",
   "execution_count": 9,
   "id": "1853a7e5",
   "metadata": {
    "colab": {
     "base_uri": "https://localhost:8080/"
    },
    "executionInfo": {
     "elapsed": 24,
     "status": "ok",
     "timestamp": 1719045693313,
     "user": {
      "displayName": "Mahesh waran",
      "userId": "01052940636805861384"
     },
     "user_tz": -60
    },
    "id": "1853a7e5",
    "outputId": "8242b98d-22ff-4aa9-a2f4-53fe89bbed8f"
   },
   "outputs": [
    {
     "data": {
      "text/plain": [
       "result    0\n",
       "emails    0\n",
       "dtype: int64"
      ]
     },
     "execution_count": 9,
     "metadata": {},
     "output_type": "execute_result"
    }
   ],
   "source": [
    "#check for missing values\n",
    "data.isnull().sum()"
   ]
  },
  {
   "cell_type": "code",
   "execution_count": 10,
   "id": "70ff1206",
   "metadata": {
    "colab": {
     "base_uri": "https://localhost:8080/"
    },
    "executionInfo": {
     "elapsed": 23,
     "status": "ok",
     "timestamp": 1719045693314,
     "user": {
      "displayName": "Mahesh waran",
      "userId": "01052940636805861384"
     },
     "user_tz": -60
    },
    "id": "70ff1206",
    "outputId": "eadb6048-8d4b-4945-9967-a2c583e10d46"
   },
   "outputs": [
    {
     "data": {
      "text/plain": [
       "403"
      ]
     },
     "execution_count": 10,
     "metadata": {},
     "output_type": "execute_result"
    }
   ],
   "source": [
    "#check for duplicates\n",
    "data.duplicated().sum()"
   ]
  },
  {
   "cell_type": "code",
   "execution_count": 11,
   "id": "e2f24108",
   "metadata": {
    "executionInfo": {
     "elapsed": 18,
     "status": "ok",
     "timestamp": 1719045693314,
     "user": {
      "displayName": "Mahesh waran",
      "userId": "01052940636805861384"
     },
     "user_tz": -60
    },
    "id": "e2f24108"
   },
   "outputs": [],
   "source": [
    "#remove duplicates\n",
    "data = data.drop_duplicates(keep='first')"
   ]
  },
  {
   "cell_type": "code",
   "execution_count": 12,
   "id": "627b6f2e",
   "metadata": {
    "colab": {
     "base_uri": "https://localhost:8080/"
    },
    "executionInfo": {
     "elapsed": 17,
     "status": "ok",
     "timestamp": 1719045693314,
     "user": {
      "displayName": "Mahesh waran",
      "userId": "01052940636805861384"
     },
     "user_tz": -60
    },
    "id": "627b6f2e",
    "outputId": "daf3f9fc-3cc3-460d-a4b0-268f46d49ad9"
   },
   "outputs": [
    {
     "data": {
      "text/plain": [
       "(5169, 2)"
      ]
     },
     "execution_count": 12,
     "metadata": {},
     "output_type": "execute_result"
    }
   ],
   "source": [
    "data.shape"
   ]
  },
  {
   "cell_type": "markdown",
   "id": "7cc68d23",
   "metadata": {
    "id": "7cc68d23"
   },
   "source": [
    "### Exploratory Data Analysis (EDA)\n",
    "\n",
    "Exploratory Data Analysis (EDA) is a method used to analyze data on spam and regular emails. It involves comparing spam and ham emails, using pie charts, average length, word count, and sentence count, and using heatmaps for correlation."
   ]
  },
  {
   "cell_type": "markdown",
   "id": "5c458196",
   "metadata": {
    "id": "5c458196"
   },
   "source": [
    " **1) Distribution of Labels**"
   ]
  },
  {
   "cell_type": "code",
   "execution_count": 66,
   "id": "76b17aac",
   "metadata": {
    "colab": {
     "base_uri": "https://localhost:8080/",
     "height": 521
    },
    "executionInfo": {
     "elapsed": 15,
     "status": "ok",
     "timestamp": 1719045693315,
     "user": {
      "displayName": "Mahesh waran",
      "userId": "01052940636805861384"
     },
     "user_tz": -60
    },
    "id": "76b17aac",
    "outputId": "378d7f34-f973-4653-e6c1-6676d567865f"
   },
   "outputs": [
    {
     "data": {
      "image/png": "[encoded data removed]",
      "text/plain": [
       "<Figure size 800x600 with 1 Axes>"
      ]
     },
     "metadata": {},
     "output_type": "display_data"
    }
   ],
   "source": [
    "labels = data['result'].value_counts()\n",
    "\n",
    "# Plotting \n",
    "plt.figure(figsize=(8, 6))\n",
    "plt.pie(x=labels, labels=labels.index, autopct='%1.1f%%', startangle=140)\n",
    "plt.title('Distribution of Spam and Non-Spam Emails')\n",
    "plt.axis('equal')\n",
    "plt.show()"
   ]
  },
  {
   "cell_type": "markdown",
   "id": "4dca07b8",
   "metadata": {
    "id": "4dca07b8"
   },
   "source": [
    "As we can see from the above graph, the majority of emails in the dataset (87.4%) are categorized as ham, or non-spam, while only a smaller percentage (12.6%) are spam. This discrepancy matters since it influences our model's ability to identify spam emails. Given the large number of non-spam emails, the model may get skewed and overlook certain spam emails. To address this, we must train and test our model using certain methods. By doing this, we can ensure that our model is capable of identifying spam emails as well as non-spam emails, protecting our inboxes and preventing clutter."
   ]
  },
  {
   "cell_type": "code",
   "execution_count": 14,
   "id": "f9202b76",
   "metadata": {
    "executionInfo": {
     "elapsed": 2184,
     "status": "ok",
     "timestamp": 1719045695486,
     "user": {
      "displayName": "Mahesh waran",
      "userId": "01052940636805861384"
     },
     "user_tz": -60
    },
    "id": "f9202b76"
   },
   "outputs": [],
   "source": [
    "data['Length'] = [len(email) for email in data['emails']] #calculating length of each email\n",
    "data['num_words'] = [len(word_tokenize(email)) for email in data['emails']] #calculating number of words in each email\n",
    "data['num_sentence'] = [len(sent_tokenize(email)) for email in data['emails']] #calculating number of sentences in each email"
   ]
  },
  {
   "cell_type": "code",
   "execution_count": 15,
   "id": "4b157f2d",
   "metadata": {
    "colab": {
     "base_uri": "https://localhost:8080/",
     "height": 112
    },
    "executionInfo": {
     "elapsed": 14,
     "status": "ok",
     "timestamp": 1719045695487,
     "user": {
      "displayName": "Mahesh waran",
      "userId": "01052940636805861384"
     },
     "user_tz": -60
    },
    "id": "4b157f2d",
    "outputId": "4692346f-04b8-4a74-8312-5245e6d07ab9"
   },
   "outputs": [
    {
     "data": {
      "text/html": [
       "<div>\n",
       "<style scoped>\n",
       "    .dataframe tbody tr th:only-of-type {\n",
       "        vertical-align: middle;\n",
       "    }\n",
       "\n",
       "    .dataframe tbody tr th {\n",
       "        vertical-align: top;\n",
       "    }\n",
       "\n",
       "    .dataframe thead th {\n",
       "        text-align: right;\n",
       "    }\n",
       "</style>\n",
       "<table border=\"1\" class=\"dataframe\">\n",
       "  <thead>\n",
       "    <tr style=\"text-align: right;\">\n",
       "      <th></th>\n",
       "      <th>result</th>\n",
       "      <th>emails</th>\n",
       "      <th>Length</th>\n",
       "      <th>num_words</th>\n",
       "      <th>num_sentence</th>\n",
       "    </tr>\n",
       "  </thead>\n",
       "  <tbody>\n",
       "    <tr>\n",
       "      <th>0</th>\n",
       "      <td>ham</td>\n",
       "      <td>Go until jurong point, crazy.. Available only ...</td>\n",
       "      <td>111</td>\n",
       "      <td>24</td>\n",
       "      <td>2</td>\n",
       "    </tr>\n",
       "    <tr>\n",
       "      <th>1</th>\n",
       "      <td>ham</td>\n",
       "      <td>Ok lar... Joking wif u oni...</td>\n",
       "      <td>29</td>\n",
       "      <td>8</td>\n",
       "      <td>2</td>\n",
       "    </tr>\n",
       "    <tr>\n",
       "      <th>2</th>\n",
       "      <td>spam</td>\n",
       "      <td>Free entry in 2 a wkly comp to win FA Cup fina...</td>\n",
       "      <td>155</td>\n",
       "      <td>37</td>\n",
       "      <td>2</td>\n",
       "    </tr>\n",
       "    <tr>\n",
       "      <th>3</th>\n",
       "      <td>ham</td>\n",
       "      <td>U dun say so early hor... U c already then say...</td>\n",
       "      <td>49</td>\n",
       "      <td>13</td>\n",
       "      <td>1</td>\n",
       "    </tr>\n",
       "    <tr>\n",
       "      <th>4</th>\n",
       "      <td>ham</td>\n",
       "      <td>Nah I don't think he goes to usf, he lives aro...</td>\n",
       "      <td>61</td>\n",
       "      <td>15</td>\n",
       "      <td>1</td>\n",
       "    </tr>\n",
       "  </tbody>\n",
       "</table>\n",
       "</div>"
      ],
      "text/plain": [
       "  result                                             emails  Length  \\\n",
       "0    ham  Go until jurong point, crazy.. Available only ...     111   \n",
       "1    ham                      Ok lar... Joking wif u oni...      29   \n",
       "2   spam  Free entry in 2 a wkly comp to win FA Cup fina...     155   \n",
       "3    ham  U dun say so early hor... U c already then say...      49   \n",
       "4    ham  Nah I don't think he goes to usf, he lives aro...      61   \n",
       "\n",
       "   num_words  num_sentence  \n",
       "0         24             2  \n",
       "1          8             2  \n",
       "2         37             2  \n",
       "3         13             1  \n",
       "4         15             1  "
      ]
     },
     "execution_count": 15,
     "metadata": {},
     "output_type": "execute_result"
    }
   ],
   "source": [
    "data.head()"
   ]
  },
  {
   "cell_type": "code",
   "execution_count": 16,
   "id": "02a58a8a",
   "metadata": {},
   "outputs": [
    {
     "data": {
      "text/plain": [
       "111"
      ]
     },
     "execution_count": 16,
     "metadata": {},
     "output_type": "execute_result"
    }
   ],
   "source": [
    "len(data.iloc[0]['emails'])"
   ]
  },
  {
   "cell_type": "markdown",
   "id": "aae51f9f",
   "metadata": {
    "id": "aae51f9f"
   },
   "source": [
    "**2) Average Length of Emails for Spam and Ham**"
   ]
  },
  {
   "cell_type": "code",
   "execution_count": 18,
   "id": "c0159c42",
   "metadata": {},
   "outputs": [
    {
     "name": "stdout",
     "output_type": "stream",
     "text": [
      "Average Length of Spam Emails:  137.89\n",
      "Average Length of Ham Emails:  70.46\n"
     ]
    }
   ],
   "source": [
    "#calculate average length of spam and ham emails\n",
    "avg_length_spam = data[data['result'] == 'spam']['Length'].mean()\n",
    "avg_length_ham = data[data['result'] == 'ham']['Length'].mean()\n",
    "print(f\"Average Length of Spam Emails: {avg_length_spam: .2f}\")\n",
    "print(f\"Average Length of Ham Emails: {avg_length_ham: .2f}\")"
   ]
  },
  {
   "cell_type": "code",
   "execution_count": 22,
   "id": "84f842d1",
   "metadata": {
    "colab": {
     "base_uri": "https://localhost:8080/",
     "height": 507
    },
    "executionInfo": {
     "elapsed": 526,
     "status": "ok",
     "timestamp": 1719045696000,
     "user": {
      "displayName": "Mahesh waran",
      "userId": "01052940636805861384"
     },
     "user_tz": -60
    },
    "id": "84f842d1",
    "outputId": "c65fdd01-59e5-41fa-c966-1cca2a07e12f"
   },
   "outputs": [
    {
     "data": {
      "image/png": "[encoded data removed]",
      "text/plain": [
       "<Figure size 640x480 with 1 Axes>"
      ]
     },
     "metadata": {},
     "output_type": "display_data"
    }
   ],
   "source": [
    "#plotting the bar graph\n",
    "sns.barplot(\n",
    "    x=['Spam', 'Ham'], \n",
    "    y=[avg_length_spam, avg_length_ham], \n",
    "    hue=['Spam', 'Ham'], \n",
    "    palette=['red', 'green'], \n",
    "    dodge=False, \n",
    "    legend=True\n",
    "    )\n",
    "plt.title('Average Length of Emails for Spam and Ham')\n",
    "plt.xlabel('Email Type')\n",
    "plt.ylabel('Average Length')\n",
    "plt.show()"
   ]
  },
  {
   "cell_type": "markdown",
   "id": "e03b8ff5",
   "metadata": {
    "id": "e03b8ff5"
   },
   "source": [
    "The average length of spam emails is 137 characters, which is significantly longer than the average length of ordinary (ham) emails. Conversely, standard emails are substantially shorter, with an average of roughly 70 characters. This indicates that spam emails typically contain more content and are more wordy, perhaps in an effort to get your attention. Regular emails, such as those you receive for business or from friends, are typically brief and direct. Knowing this enables us to create more effective solutions for removing spam and maintaining the organization of our inboxes."
   ]
  },
  {
   "cell_type": "markdown",
   "id": "9a841265",
   "metadata": {
    "id": "9a841265"
   },
   "source": [
    "**3) Average Word of Emails for Spam and Ham**"
   ]
  },
  {
   "cell_type": "code",
   "execution_count": 20,
   "id": "146b6e67",
   "metadata": {},
   "outputs": [
    {
     "name": "stdout",
     "output_type": "stream",
     "text": [
      "Average Words of Spam Emails: 27.67\n",
      "Average Words of Ham Emails: 17.12\n"
     ]
    }
   ],
   "source": [
    "#calculate average number of words in spam and ham emails\n",
    "avg_word_spam = data[data['result'] == 'spam']['num_words'].mean()\n",
    "avg_word_ham = data[data['result'] == 'ham']['num_words'].mean()\n",
    "print(f\"Average Words of Spam Emails: {avg_word_spam:.2f}\")\n",
    "print(f\"Average Words of Ham Emails: {avg_word_ham:.2f}\")"
   ]
  },
  {
   "cell_type": "code",
   "execution_count": 21,
   "id": "d965abe2",
   "metadata": {
    "colab": {
     "base_uri": "https://localhost:8080/",
     "height": 507
    },
    "executionInfo": {
     "elapsed": 673,
     "status": "ok",
     "timestamp": 1719045696663,
     "user": {
      "displayName": "Mahesh waran",
      "userId": "01052940636805861384"
     },
     "user_tz": -60
    },
    "id": "d965abe2",
    "outputId": "7859dc5d-76ca-4d52-9bb5-9fca7f53bb47"
   },
   "outputs": [
    {
     "data": {
      "image/png": "[encoded data removed]",
      "text/plain": [
       "<Figure size 640x480 with 1 Axes>"
      ]
     },
     "metadata": {},
     "output_type": "display_data"
    }
   ],
   "source": [
    "# Plotting the graph\n",
    "sns.barplot(\n",
    "    x=['Spam', 'Ham'], \n",
    "    y=[avg_word_spam, avg_word_ham], \n",
    "    hue=['Spam', 'Ham'], \n",
    "    palette=['red', 'green'], \n",
    "    dodge=False, \n",
    "    legend=True\n",
    "    )\n",
    "plt.title('Average Words of Emails for Spam and Ham')\n",
    "plt.xlabel('Email Type')\n",
    "plt.ylabel('Average Words')\n",
    "plt.show()"
   ]
  },
  {
   "cell_type": "markdown",
   "id": "1aef369e",
   "metadata": {
    "id": "1aef369e"
   },
   "source": [
    "The graph above shows that spam emails are typically longer—an average of almost 27 words. Regular ham emails, on the other hand, are shorter, with an average of only 17 words. This indicates that spam emails are typically longer, perhaps as a result of the ads or false information they contain. Regular emails, on the other hand, are clearer and more direct. Knowing this makes it simpler to locate the emails that are important to us and helps us develop stronger filters to remove spam and keep our inboxes clear of unsolicited messages."
   ]
  },
  {
   "cell_type": "markdown",
   "id": "6449f5e1",
   "metadata": {
    "id": "6449f5e1"
   },
   "source": [
    "**4) Average Sentence of Emails for Spam and Ham**"
   ]
  },
  {
   "cell_type": "code",
   "execution_count": 23,
   "id": "ddcf621b",
   "metadata": {},
   "outputs": [
    {
     "name": "stdout",
     "output_type": "stream",
     "text": [
      "Average Sentence of Spam Emails: 2.97\n",
      "Average Sentence of Ham Emails: 1.82\n"
     ]
    }
   ],
   "source": [
    "#calculate average number of sentences in spam and ham emails\n",
    "avg_sentence_spam = data[data['result'] == 'spam']['num_sentence'].mean()\n",
    "avg_sentence_ham = data[data['result'] == 'ham']['num_sentence'].mean()\n",
    "print(\"Average Sentence of Spam Emails:\", round(avg_sentence_spam, 2))\n",
    "print(\"Average Sentence of Ham Emails:\", round(avg_sentence_ham, 2))"
   ]
  },
  {
   "cell_type": "code",
   "execution_count": 24,
   "id": "6cff55cf",
   "metadata": {
    "colab": {
     "base_uri": "https://localhost:8080/",
     "height": 507
    },
    "executionInfo": {
     "elapsed": 390,
     "status": "ok",
     "timestamp": 1719045697040,
     "user": {
      "displayName": "Mahesh waran",
      "userId": "01052940636805861384"
     },
     "user_tz": -60
    },
    "id": "6cff55cf",
    "outputId": "172ade3b-3d6d-45f5-ec61-957106bc93a9"
   },
   "outputs": [
    {
     "data": {
      "image/png": "[encoded data removed]",
      "text/plain": [
       "<Figure size 640x480 with 1 Axes>"
      ]
     },
     "metadata": {},
     "output_type": "display_data"
    }
   ],
   "source": [
    "# Plotting the graph\n",
    "sns.barplot(  \n",
    "    x=['Spam', 'Ham'], \n",
    "    y=[avg_sentence_spam, avg_sentence_ham], \n",
    "    hue=['Spam', 'Ham'], \n",
    "    palette=['red', 'green'], \n",
    "    dodge=False, \n",
    "    legend=False)\n",
    "plt.title('Average Sentence of Emails for Spam and Ham')\n",
    "plt.xlabel('Email Type')\n",
    "plt.ylabel('Average Sentence')\n",
    "plt.show()"
   ]
  },
  {
   "cell_type": "markdown",
   "id": "744a00b2",
   "metadata": {
    "id": "744a00b2"
   },
   "source": [
    "As can be seen from the accompanying graph, spam emails typically contain longer phrases than other types of emails. Regular emails often have two sentences, however spam emails typically contain three. This means that ordinary emails are typically shorter and more direct, but spam emails may be attempting to say more or persuade you of something. By being aware of this distinction, we can create more effective systems to identify and weed out spam emails, making our inboxes safer and cleaner for everyone to use."
   ]
  },
  {
   "cell_type": "markdown",
   "id": "307fe9d9",
   "metadata": {
    "id": "307fe9d9"
   },
   "source": [
    "**5) Relationship between Length and Spam**"
   ]
  },
  {
   "cell_type": "code",
   "execution_count": 25,
   "id": "8acf029a",
   "metadata": {},
   "outputs": [
    {
     "name": "stdout",
     "output_type": "stream",
     "text": [
      "0.3847170667143076\n"
     ]
    }
   ],
   "source": [
    "#correlation coefficient between email length and spam classification\n",
    "correlation = data['Length'].corr((data['result'] == 'spam').astype(int))\n",
    "print(correlation)"
   ]
  },
  {
   "cell_type": "code",
   "execution_count": 28,
   "id": "dd80367b",
   "metadata": {
    "colab": {
     "base_uri": "https://localhost:8080/",
     "height": 489
    },
    "executionInfo": {
     "elapsed": 489,
     "status": "ok",
     "timestamp": 1719045697512,
     "user": {
      "displayName": "Mahesh waran",
      "userId": "01052940636805861384"
     },
     "user_tz": -60
    },
    "id": "dd80367b",
    "outputId": "9b33539e-17de-47b0-a99e-daef258f4d6f"
   },
   "outputs": [
    {
     "data": {
      "image/png": "[encoded data removed]",
      "text/plain": [
       "<Figure size 640x480 with 1 Axes>"
      ]
     },
     "metadata": {},
     "output_type": "display_data"
    }
   ],
   "source": [
    "sns.violinplot(\n",
    "    data=data, \n",
    "    x='Length', \n",
    "    y='result', \n",
    "    hue='result', \n",
    "    palette=['green', 'red']\n",
    ")\n",
    "plt.xlabel('Email Length')\n",
    "plt.ylabel('Spam Classification')\n",
    "plt.title('Relationship between Email Length and Spam Classification')\n",
    "plt.show()"
   ]
  },
  {
   "cell_type": "markdown",
   "id": "ce1d6063",
   "metadata": {
    "id": "ce1d6063"
   },
   "source": [
    "We discovered that email length and spam classification have a positive correlation (correlation coefficient: 0.38). This indicates that spam emails are typically a little bit longer than non-spam emails. It is crucial to remember that the association is weak, suggesting that other factors might potentially affect whether an email is deemed spam. However, by taking into account email length as one of the criteria in the classification process, along with other pertinent factors, a knowledge of this link can aid in the improvement of spam detection algorithms."
   ]
  },
  {
   "cell_type": "markdown",
   "id": "bc969857",
   "metadata": {
    "id": "bc969857"
   },
   "source": [
    "**6) Relationship between Features**"
   ]
  },
  {
   "cell_type": "code",
   "execution_count": 78,
   "id": "17189de0",
   "metadata": {},
   "outputs": [
    {
     "name": "stdout",
     "output_type": "stream",
     "text": [
      "                Length  num_words  num_sentence\n",
      "Length        1.000000   0.965760      0.624139\n",
      "num_words     0.965760   1.000000      0.679971\n",
      "num_sentence  0.624139   0.679971      1.000000\n"
     ]
    }
   ],
   "source": [
    "#the relationship between features\n",
    "correlation_matrix = data[['Length', 'num_words', 'num_sentence']].corr()\n",
    "print(correlation_matrix )"
   ]
  },
  {
   "cell_type": "code",
   "execution_count": 79,
   "id": "1ecdbaee",
   "metadata": {
    "colab": {
     "base_uri": "https://localhost:8080/",
     "height": 633
    },
    "executionInfo": {
     "elapsed": 434,
     "status": "ok",
     "timestamp": 1719045697924,
     "user": {
      "displayName": "Mahesh waran",
      "userId": "01052940636805861384"
     },
     "user_tz": -60
    },
    "id": "1ecdbaee",
    "outputId": "ac3c47ce-dad3-4acd-aeec-4554528fac45"
   },
   "outputs": [
    {
     "data": {
      "image/png": "[encoded data removed]",
      "text/plain": [
       "<Figure size 800x600 with 2 Axes>"
      ]
     },
     "metadata": {},
     "output_type": "display_data"
    }
   ],
   "source": [
    "#visualize the correlation matrix using a heatmap\n",
    "plt.figure(figsize=(8, 6))\n",
    "sns.heatmap(correlation_matrix, annot=True, cmap='coolwarm', fmt=\".2f\", linewidths=.5)\n",
    "plt.title('Correlation Matrix of Features')\n",
    "plt.xlabel('Features')\n",
    "plt.ylabel('Features')\n",
    "plt.show()"
   ]
  },
  {
   "cell_type": "markdown",
   "id": "4c97ea97",
   "metadata": {
    "id": "4c97ea97"
   },
   "source": [
    "Strong positive relationships between email length and word count (0.97) and between word count and sentence count (0.68), according to the correlation matrix, are shown. This implies that emails that are longer typically contain more words, and emails that are longer typically contain more sentences. Nevertheless, there is a lesser (0.62) link between email length and sentence count. This suggests that although lengthier emails might contain more sentences, there is not as much of a correlation between the two. By comprehending these connections, we may better understand how various elements contribute to the overall composition and content of emails, which facilitates the classification of spam."
   ]
  },
  {
   "cell_type": "markdown",
   "id": "dc83e9d2",
   "metadata": {
    "id": "dc83e9d2"
   },
   "source": [
    "### Data Preprocessing"
   ]
  },
  {
   "cell_type": "code",
   "execution_count": 80,
   "id": "1d8be1e1",
   "metadata": {
    "colab": {
     "base_uri": "https://localhost:8080/"
    },
    "executionInfo": {
     "elapsed": 3207,
     "status": "ok",
     "timestamp": 1719045701120,
     "user": {
      "displayName": "Mahesh waran",
      "userId": "01052940636805861384"
     },
     "user_tz": -60
    },
    "id": "1d8be1e1",
    "outputId": "25cfa559-9259-4fc7-ee77-97ca0e165120"
   },
   "outputs": [],
   "source": [
    "data['transform_text'] = [email.lower() for email in data['emails']]\n",
    "\n",
    "#tokenization\n",
    "data['transform_text'] = [word_tokenize(text) for text in data['transform_text']]\n",
    "\n",
    "#removing special characters\n",
    "data['transform_text'] = data['transform_text'].apply(lambda x: [re.sub(r'[^a-zA-Z0-9\\s]', '', word) for word in x])\n",
    "\n",
    "#removing stop words and punctuation\n",
    "stop_words = set(stopwords.words('english'))\n",
    "data['transform_text'] = data['transform_text'].apply(lambda x: [word for word in x if word not in stop_words and word not in string.punctuation])\n",
    "\n",
    "#stemming\n",
    "ps = PorterStemmer()\n",
    "data['transform_text'] = data['transform_text'].apply(lambda x: [ps.stem(word) for word in x])\n",
    "\n",
    "#convert the preprocessed text back to string\n",
    "data['transform_text'] = data['transform_text'].apply(lambda x: ' '.join(x))"
   ]
  },
  {
   "cell_type": "code",
   "execution_count": 81,
   "id": "979164eb",
   "metadata": {},
   "outputs": [
    {
     "data": {
      "text/html": [
       "<div>\n",
       "<style scoped>\n",
       "    .dataframe tbody tr th:only-of-type {\n",
       "        vertical-align: middle;\n",
       "    }\n",
       "\n",
       "    .dataframe tbody tr th {\n",
       "        vertical-align: top;\n",
       "    }\n",
       "\n",
       "    .dataframe thead th {\n",
       "        text-align: right;\n",
       "    }\n",
       "</style>\n",
       "<table border=\"1\" class=\"dataframe\">\n",
       "  <thead>\n",
       "    <tr style=\"text-align: right;\">\n",
       "      <th></th>\n",
       "      <th>emails</th>\n",
       "      <th>transform_text</th>\n",
       "    </tr>\n",
       "  </thead>\n",
       "  <tbody>\n",
       "    <tr>\n",
       "      <th>0</th>\n",
       "      <td>Go until jurong point, crazy.. Available only ...</td>\n",
       "      <td>go jurong point crazi avail bugi n great world...</td>\n",
       "    </tr>\n",
       "    <tr>\n",
       "      <th>1</th>\n",
       "      <td>Ok lar... Joking wif u oni...</td>\n",
       "      <td>ok lar joke wif u oni</td>\n",
       "    </tr>\n",
       "    <tr>\n",
       "      <th>2</th>\n",
       "      <td>Free entry in 2 a wkly comp to win FA Cup fina...</td>\n",
       "      <td>free entri 2 wkli comp win fa cup final tkt 21...</td>\n",
       "    </tr>\n",
       "    <tr>\n",
       "      <th>3</th>\n",
       "      <td>U dun say so early hor... U c already then say...</td>\n",
       "      <td>u dun say earli hor u c alreadi say</td>\n",
       "    </tr>\n",
       "    <tr>\n",
       "      <th>4</th>\n",
       "      <td>Nah I don't think he goes to usf, he lives aro...</td>\n",
       "      <td>nah nt think goe usf live around though</td>\n",
       "    </tr>\n",
       "  </tbody>\n",
       "</table>\n",
       "</div>"
      ],
      "text/plain": [
       "                                              emails  \\\n",
       "0  Go until jurong point, crazy.. Available only ...   \n",
       "1                      Ok lar... Joking wif u oni...   \n",
       "2  Free entry in 2 a wkly comp to win FA Cup fina...   \n",
       "3  U dun say so early hor... U c already then say...   \n",
       "4  Nah I don't think he goes to usf, he lives aro...   \n",
       "\n",
       "                                      transform_text  \n",
       "0  go jurong point crazi avail bugi n great world...  \n",
       "1                              ok lar joke wif u oni  \n",
       "2  free entri 2 wkli comp win fa cup final tkt 21...  \n",
       "3                u dun say earli hor u c alreadi say  \n",
       "4            nah nt think goe usf live around though  "
      ]
     },
     "execution_count": 81,
     "metadata": {},
     "output_type": "execute_result"
    }
   ],
   "source": [
    "#display the preprocessed data\n",
    "data[['emails', 'transform_text']].head()"
   ]
  },
  {
   "cell_type": "code",
   "execution_count": 82,
   "id": "0ca5f776",
   "metadata": {
    "colab": {
     "base_uri": "https://localhost:8080/",
     "height": 423
    },
    "executionInfo": {
     "elapsed": 29,
     "status": "ok",
     "timestamp": 1719045701124,
     "user": {
      "displayName": "Mahesh waran",
      "userId": "01052940636805861384"
     },
     "user_tz": -60
    },
    "id": "0ca5f776",
    "outputId": "4206797b-3911-41b3-da74-298cdea3143c"
   },
   "outputs": [
    {
     "data": {
      "text/html": [
       "<div>\n",
       "<style scoped>\n",
       "    .dataframe tbody tr th:only-of-type {\n",
       "        vertical-align: middle;\n",
       "    }\n",
       "\n",
       "    .dataframe tbody tr th {\n",
       "        vertical-align: top;\n",
       "    }\n",
       "\n",
       "    .dataframe thead th {\n",
       "        text-align: right;\n",
       "    }\n",
       "</style>\n",
       "<table border=\"1\" class=\"dataframe\">\n",
       "  <thead>\n",
       "    <tr style=\"text-align: right;\">\n",
       "      <th></th>\n",
       "      <th>result</th>\n",
       "      <th>emails</th>\n",
       "      <th>Length</th>\n",
       "      <th>num_words</th>\n",
       "      <th>num_sentence</th>\n",
       "      <th>transform_text</th>\n",
       "    </tr>\n",
       "  </thead>\n",
       "  <tbody>\n",
       "    <tr>\n",
       "      <th>0</th>\n",
       "      <td>ham</td>\n",
       "      <td>Go until jurong point, crazy.. Available only ...</td>\n",
       "      <td>111</td>\n",
       "      <td>24</td>\n",
       "      <td>2</td>\n",
       "      <td>go jurong point crazi avail bugi n great world...</td>\n",
       "    </tr>\n",
       "    <tr>\n",
       "      <th>1</th>\n",
       "      <td>ham</td>\n",
       "      <td>Ok lar... Joking wif u oni...</td>\n",
       "      <td>29</td>\n",
       "      <td>8</td>\n",
       "      <td>2</td>\n",
       "      <td>ok lar joke wif u oni</td>\n",
       "    </tr>\n",
       "    <tr>\n",
       "      <th>2</th>\n",
       "      <td>spam</td>\n",
       "      <td>Free entry in 2 a wkly comp to win FA Cup fina...</td>\n",
       "      <td>155</td>\n",
       "      <td>37</td>\n",
       "      <td>2</td>\n",
       "      <td>free entri 2 wkli comp win fa cup final tkt 21...</td>\n",
       "    </tr>\n",
       "    <tr>\n",
       "      <th>3</th>\n",
       "      <td>ham</td>\n",
       "      <td>U dun say so early hor... U c already then say...</td>\n",
       "      <td>49</td>\n",
       "      <td>13</td>\n",
       "      <td>1</td>\n",
       "      <td>u dun say earli hor u c alreadi say</td>\n",
       "    </tr>\n",
       "    <tr>\n",
       "      <th>4</th>\n",
       "      <td>ham</td>\n",
       "      <td>Nah I don't think he goes to usf, he lives aro...</td>\n",
       "      <td>61</td>\n",
       "      <td>15</td>\n",
       "      <td>1</td>\n",
       "      <td>nah nt think goe usf live around though</td>\n",
       "    </tr>\n",
       "  </tbody>\n",
       "</table>\n",
       "</div>"
      ],
      "text/plain": [
       "  result                                             emails  Length  \\\n",
       "0    ham  Go until jurong point, crazy.. Available only ...     111   \n",
       "1    ham                      Ok lar... Joking wif u oni...      29   \n",
       "2   spam  Free entry in 2 a wkly comp to win FA Cup fina...     155   \n",
       "3    ham  U dun say so early hor... U c already then say...      49   \n",
       "4    ham  Nah I don't think he goes to usf, he lives aro...      61   \n",
       "\n",
       "   num_words  num_sentence                                     transform_text  \n",
       "0         24             2  go jurong point crazi avail bugi n great world...  \n",
       "1          8             2                              ok lar joke wif u oni  \n",
       "2         37             2  free entri 2 wkli comp win fa cup final tkt 21...  \n",
       "3         13             1                u dun say earli hor u c alreadi say  \n",
       "4         15             1            nah nt think goe usf live around though  "
      ]
     },
     "execution_count": 82,
     "metadata": {},
     "output_type": "execute_result"
    }
   ],
   "source": [
    "data.head()"
   ]
  },
  {
   "cell_type": "markdown",
   "id": "c906885e",
   "metadata": {
    "id": "c906885e"
   },
   "source": [
    "**7) Most Common Words in Spam Emails**"
   ]
  },
  {
   "cell_type": "code",
   "execution_count": 83,
   "id": "647818ec",
   "metadata": {},
   "outputs": [
    {
     "name": "stdout",
     "output_type": "stream",
     "text": [
      "Top 10 Most Common Words in Spam Emails:\n",
      "call: 321 occurrences\n",
      "free: 191 occurrences\n",
      "2: 157 occurrences\n",
      "txt: 141 occurrences\n",
      "u: 135 occurrences\n",
      "text: 122 occurrences\n",
      "ur: 119 occurrences\n",
      "mobil: 114 occurrences\n",
      "stop: 106 occurrences\n",
      "repli: 103 occurrences\n"
     ]
    },
    {
     "data": {
      "image/png": "[encoded data removed]",
      "text/plain": [
       "<Figure size 1200x600 with 2 Axes>"
      ]
     },
     "metadata": {},
     "output_type": "display_data"
    }
   ],
   "source": [
    "spam_emails = data[data['result'] == 'spam']['transform_text']\n",
    "\n",
    "#tokenize the text in spam emails\n",
    "spam_words = ' '.join(spam_emails).split()\n",
    "\n",
    "#count occurrences of each word\n",
    "word_counts = Counter(spam_words)\n",
    "\n",
    "#find the most common words\n",
    "most_common_words = word_counts.most_common(10)\n",
    "\n",
    "print(\"Top 10 Most Common Words in Spam Emails:\")\n",
    "for word, count in most_common_words:\n",
    "    print(f\"{word}: {count} occurrences\")\n",
    "    \n",
    "#generate Word Cloud\n",
    "wordcloud = WordCloud(\n",
    "    width=800, \n",
    "    height=400, \n",
    "    background_color='white', \n",
    "    font_path='/usr/share/fonts/truetype/dejavu/DejaVuSans.ttf').generate_from_frequencies(dict(most_common_words)\n",
    ")\n",
    "    \n",
    "#plot Word Cloud\n",
    "plt.figure(figsize=(12, 6))\n",
    "plt.subplot(1, 2, 1)\n",
    "plt.imshow(wordcloud, interpolation='bilinear')\n",
    "plt.title('Word Cloud for Most Common Words in Spam Emails', fontname='DejaVu Sans')\n",
    "plt.axis('off')\n",
    "\n",
    "#plot Bar Graph\n",
    "plt.subplot(1, 2, 2)\n",
    "words, counts = zip(*most_common_words)\n",
    "plt.bar(words, counts, color='orange')\n",
    "plt.title('Bar Graph for Most Common Words in Spam Emails')\n",
    "plt.xlabel('Words')\n",
    "plt.ylabel('Frequency')\n",
    "plt.xticks(rotation=45, ha='right')\n",
    "\n",
    "plt.tight_layout()\n",
    "plt.show()"
   ]
  },
  {
   "cell_type": "markdown",
   "id": "e770cc94",
   "metadata": {
    "id": "e770cc94"
   },
   "source": [
    "Looking at the most common words found in spam emails, we see patterns that spammers often use to catch our attention or convince us to act. Words like \"call,\" \"free,\" and \"txt\" show up frequently, suggesting offers or requests for action. This helps us understand what to watch out for in our emails to avoid falling for spam. By knowing these common tricks, we can be more careful about which emails we open or respond to, keeping our inboxes safer. Email filters also use this information to better recognize and block spam messages, making our email experience more secure."
   ]
  },
  {
   "cell_type": "markdown",
   "id": "c52259b1",
   "metadata": {
    "id": "c52259b1"
   },
   "source": [
    "**8) Most Common Words in ham Emails**"
   ]
  },
  {
   "cell_type": "code",
   "execution_count": 84,
   "id": "b86e1de3",
   "metadata": {
    "colab": {
     "base_uri": "https://localhost:8080/",
     "height": 775
    },
    "executionInfo": {
     "elapsed": 1318,
     "status": "ok",
     "timestamp": 1719045703464,
     "user": {
      "displayName": "Mahesh waran",
      "userId": "01052940636805861384"
     },
     "user_tz": -60
    },
    "id": "b86e1de3",
    "outputId": "0341a4e9-d742-41a8-d573-d820542913c4"
   },
   "outputs": [
    {
     "name": "stdout",
     "output_type": "stream",
     "text": [
      "Top 10 Most Common Words in ham Emails:\n",
      "u: 904 occurrences\n",
      "go: 404 occurrences\n",
      "nt: 352 occurrences\n",
      "get: 352 occurrences\n",
      "2: 290 occurrences\n",
      "gt: 288 occurrences\n",
      "lt: 287 occurrences\n",
      "come: 275 occurrences\n",
      "ok: 251 occurrences\n",
      "got: 238 occurrences\n"
     ]
    },
    {
     "data": {
      "image/png": "[encoded data removed]",
      "text/plain": [
       "<Figure size 1200x600 with 2 Axes>"
      ]
     },
     "metadata": {},
     "output_type": "display_data"
    }
   ],
   "source": [
    "ham_emails = data[data['result'] == 'ham']['transform_text']\n",
    "\n",
    "# Tokenize the text in spam emails\n",
    "ham_words = ' '.join(ham_emails).split()\n",
    "\n",
    "# Count occurrences of each word\n",
    "word_counts = Counter(ham_words)\n",
    "\n",
    "# Find the most common words\n",
    "most_common_words = word_counts.most_common(10)\n",
    "\n",
    "print(\"Top 10 Most Common Words in ham Emails:\")\n",
    "for word, count in most_common_words:\n",
    "    print(f\"{word}: {count} occurrences\")\n",
    "\n",
    "# Generate Word Cloud\n",
    "wordcloud = WordCloud(width=800, height=400, background_color='white').generate_from_frequencies(dict(most_common_words))\n",
    "\n",
    "# Plot Word Cloud\n",
    "plt.figure(figsize=(12, 6))\n",
    "plt.subplot(1, 2, 1)\n",
    "plt.imshow(wordcloud, interpolation='bilinear')\n",
    "plt.title('Word Cloud for Most Common Words in ham Emails')\n",
    "plt.axis('off')\n",
    "\n",
    "# Plot Bar Graph\n",
    "plt.subplot(1, 2, 2)\n",
    "words, counts = zip(*most_common_words)\n",
    "plt.bar(words, counts, color='orange')\n",
    "plt.title('Bar Graph for Most Common Words in ham Emails')\n",
    "plt.xlabel('Words')\n",
    "plt.ylabel('Frequency')\n",
    "plt.xticks(rotation=45, ha='right')\n",
    "\n",
    "plt.tight_layout()\n",
    "plt.show()"
   ]
  },
  {
   "cell_type": "markdown",
   "id": "ca586c18",
   "metadata": {
    "id": "ca586c18"
   },
   "source": [
    "In non-spam emails, the following ten terms are most frequently used: \"u,\" \"go,\" \"nt,\" \"get,\" \"2,\" \"gt,\" \"lt,\" \"come,\" \"ok,\" and \"got.\" These words demonstrate how individuals communicate via emails, using abbreviations like \"u\" for \"you\" and \"nt\" for \"not.\" They also disclose typical subjects like going somewhere or using \"ok\" to confirm something. Knowing these terms makes it easier to identify typical emails. It helps us identify odd or dubious messages, such as spam, by letting us know what to anticipate from everyday communications."
   ]
  },
  {
   "cell_type": "markdown",
   "id": "450d662b",
   "metadata": {
    "id": "450d662b"
   },
   "source": [
    "### Label Encoding"
   ]
  },
  {
   "cell_type": "code",
   "execution_count": 97,
   "id": "cfdc5253",
   "metadata": {
    "executionInfo": {
     "elapsed": 21,
     "status": "ok",
     "timestamp": 1719045703466,
     "user": {
      "displayName": "Mahesh waran",
      "userId": "01052940636805861384"
     },
     "user_tz": -60
    },
    "id": "cfdc5253"
   },
   "outputs": [],
   "source": [
    "encoder = LabelEncoder()\n",
    "data['result'] = encoder.fit_transform(data['result'])"
   ]
  },
  {
   "cell_type": "code",
   "execution_count": 98,
   "id": "3251b93b",
   "metadata": {
    "colab": {
     "base_uri": "https://localhost:8080/",
     "height": 112
    },
    "executionInfo": {
     "elapsed": 17,
     "status": "ok",
     "timestamp": 1719045703466,
     "user": {
      "displayName": "Mahesh waran",
      "userId": "01052940636805861384"
     },
     "user_tz": -60
    },
    "id": "3251b93b",
    "outputId": "df2d343f-c254-4a06-e331-780fcc1f7641"
   },
   "outputs": [
    {
     "data": {
      "text/html": [
       "<div>\n",
       "<style scoped>\n",
       "    .dataframe tbody tr th:only-of-type {\n",
       "        vertical-align: middle;\n",
       "    }\n",
       "\n",
       "    .dataframe tbody tr th {\n",
       "        vertical-align: top;\n",
       "    }\n",
       "\n",
       "    .dataframe thead th {\n",
       "        text-align: right;\n",
       "    }\n",
       "</style>\n",
       "<table border=\"1\" class=\"dataframe\">\n",
       "  <thead>\n",
       "    <tr style=\"text-align: right;\">\n",
       "      <th></th>\n",
       "      <th>result</th>\n",
       "      <th>emails</th>\n",
       "      <th>Length</th>\n",
       "      <th>num_words</th>\n",
       "      <th>num_sentence</th>\n",
       "      <th>transform_text</th>\n",
       "    </tr>\n",
       "  </thead>\n",
       "  <tbody>\n",
       "    <tr>\n",
       "      <th>3652</th>\n",
       "      <td>0</td>\n",
       "      <td>It has issues right now. Ill fix for her by to...</td>\n",
       "      <td>53</td>\n",
       "      <td>13</td>\n",
       "      <td>2</td>\n",
       "      <td>issu right ill fix tomorrow</td>\n",
       "    </tr>\n",
       "    <tr>\n",
       "      <th>4109</th>\n",
       "      <td>0</td>\n",
       "      <td>Yo, you gonna still be in stock tomorrow/today...</td>\n",
       "      <td>75</td>\n",
       "      <td>18</td>\n",
       "      <td>2</td>\n",
       "      <td>yo gon na still stock tomorrowtoday tri get du...</td>\n",
       "    </tr>\n",
       "    <tr>\n",
       "      <th>680</th>\n",
       "      <td>0</td>\n",
       "      <td>What is this 'hex' place you talk of? Explain!</td>\n",
       "      <td>46</td>\n",
       "      <td>12</td>\n",
       "      <td>2</td>\n",
       "      <td>hex place talk explain</td>\n",
       "    </tr>\n",
       "    <tr>\n",
       "      <th>4726</th>\n",
       "      <td>1</td>\n",
       "      <td>Had your mobile 10 mths? Update to the latest ...</td>\n",
       "      <td>143</td>\n",
       "      <td>30</td>\n",
       "      <td>4</td>\n",
       "      <td>mobil 10 mth updat latest cameravideo phone fr...</td>\n",
       "    </tr>\n",
       "    <tr>\n",
       "      <th>4548</th>\n",
       "      <td>0</td>\n",
       "      <td>Haha, my friend tyler literally just asked if ...</td>\n",
       "      <td>73</td>\n",
       "      <td>15</td>\n",
       "      <td>1</td>\n",
       "      <td>haha friend tyler liter ask could get dubsack</td>\n",
       "    </tr>\n",
       "  </tbody>\n",
       "</table>\n",
       "</div>"
      ],
      "text/plain": [
       "      result                                             emails  Length  \\\n",
       "3652       0  It has issues right now. Ill fix for her by to...      53   \n",
       "4109       0  Yo, you gonna still be in stock tomorrow/today...      75   \n",
       "680        0     What is this 'hex' place you talk of? Explain!      46   \n",
       "4726       1  Had your mobile 10 mths? Update to the latest ...     143   \n",
       "4548       0  Haha, my friend tyler literally just asked if ...      73   \n",
       "\n",
       "      num_words  num_sentence  \\\n",
       "3652         13             2   \n",
       "4109         18             2   \n",
       "680          12             2   \n",
       "4726         30             4   \n",
       "4548         15             1   \n",
       "\n",
       "                                         transform_text  \n",
       "3652                        issu right ill fix tomorrow  \n",
       "4109  yo gon na still stock tomorrowtoday tri get du...  \n",
       "680                              hex place talk explain  \n",
       "4726  mobil 10 mth updat latest cameravideo phone fr...  \n",
       "4548      haha friend tyler liter ask could get dubsack  "
      ]
     },
     "execution_count": 98,
     "metadata": {},
     "output_type": "execute_result"
    }
   ],
   "source": [
    "data.sample(5)"
   ]
  },
  {
   "cell_type": "markdown",
   "id": "272b3b31",
   "metadata": {
    "id": "272b3b31"
   },
   "source": [
    "### Model Building"
   ]
  },
  {
   "cell_type": "code",
   "execution_count": 99,
   "id": "602dc4e9",
   "metadata": {
    "executionInfo": {
     "elapsed": 594,
     "status": "ok",
     "timestamp": 1719045704046,
     "user": {
      "displayName": "Mahesh waran",
      "userId": "01052940636805861384"
     },
     "user_tz": -60
    },
    "id": "602dc4e9"
   },
   "outputs": [],
   "source": [
    "#convert the input data into vector , so here we will use TfidfVectorizer\n",
    "tfidf = TfidfVectorizer(max_features=3000)\n",
    "X = tfidf.fit_transform(data['transform_text']).toarray()\n",
    "y = data['result']"
   ]
  },
  {
   "cell_type": "code",
   "execution_count": 88,
   "id": "5f69d82c",
   "metadata": {
    "executionInfo": {
     "elapsed": 4,
     "status": "ok",
     "timestamp": 1719045704046,
     "user": {
      "displayName": "Mahesh waran",
      "userId": "01052940636805861384"
     },
     "user_tz": -60
    },
    "id": "5f69d82c"
   },
   "outputs": [],
   "source": [
    "X_train, X_test, y_train, y_test = train_test_split(X, y, test_size=0.2, random_state=42)"
   ]
  },
  {
   "cell_type": "code",
   "execution_count": 89,
   "id": "3afcdd59",
   "metadata": {
    "colab": {
     "base_uri": "https://localhost:8080/"
    },
    "executionInfo": {
     "elapsed": 4,
     "status": "ok",
     "timestamp": 1719045704046,
     "user": {
      "displayName": "Mahesh waran",
      "userId": "01052940636805861384"
     },
     "user_tz": -60
    },
    "id": "3afcdd59",
    "outputId": "d7025f68-019e-45db-8446-799f01cdc450"
   },
   "outputs": [
    {
     "data": {
      "text/plain": [
       "(5169, 3000)"
      ]
     },
     "execution_count": 89,
     "metadata": {},
     "output_type": "execute_result"
    }
   ],
   "source": [
    "X.shape"
   ]
  },
  {
   "cell_type": "markdown",
   "id": "ea1c31c1",
   "metadata": {
    "id": "ea1c31c1"
   },
   "source": [
    "#### Model 1) SVC"
   ]
  },
  {
   "cell_type": "code",
   "execution_count": 100,
   "id": "4b38688b",
   "metadata": {
    "colab": {
     "base_uri": "https://localhost:8080/"
    },
    "executionInfo": {
     "elapsed": 30215,
     "status": "ok",
     "timestamp": 1719045734258,
     "user": {
      "displayName": "Mahesh waran",
      "userId": "01052940636805861384"
     },
     "user_tz": -60
    },
    "id": "4b38688b",
    "outputId": "12eeca10-f888-4b46-ea04-777f6465d4e3"
   },
   "outputs": [
    {
     "name": "stdout",
     "output_type": "stream",
     "text": [
      "SVM Accuracy: 0.98\n",
      "confusion Matrix : [[889   0]\n",
      " [ 24 121]]\n",
      "Precision Score:  1.0\n"
     ]
    }
   ],
   "source": [
    "svc_classifier = SVC()\n",
    "svc_classifier.fit(X_train, y_train)\n",
    "y_pred_svc = svc_classifier.predict(X_test)\n",
    "accuracy_svc = accuracy_score(y_test, y_pred_svc)\n",
    "print(f\"SVM Accuracy: {accuracy_svc:.2f}\")\n",
    "print(\"confusion Matrix :\",confusion_matrix(y_test,y_pred_svc))\n",
    "print(\"Precision Score: \",precision_score(y_test,y_pred_svc))"
   ]
  },
  {
   "cell_type": "markdown",
   "id": "b9034d8b",
   "metadata": {
    "id": "b9034d8b"
   },
   "source": [
    "#### Model 2) Random Forest classifier"
   ]
  },
  {
   "cell_type": "code",
   "execution_count": 101,
   "id": "74353521",
   "metadata": {
    "colab": {
     "base_uri": "https://localhost:8080/"
    },
    "executionInfo": {
     "elapsed": 18527,
     "status": "ok",
     "timestamp": 1719045752770,
     "user": {
      "displayName": "Mahesh waran",
      "userId": "01052940636805861384"
     },
     "user_tz": -60
    },
    "id": "74353521",
    "outputId": "82a396ea-57e1-4123-d9b6-c5b7f0d95da7"
   },
   "outputs": [
    {
     "name": "stdout",
     "output_type": "stream",
     "text": [
      "Random Forest Accuracy: 0.98\n",
      "confusion Matrix : [[887   2]\n",
      " [ 23 122]]\n",
      "Precision Score:  0.9838709677419355\n"
     ]
    }
   ],
   "source": [
    "rf_classifier = RandomForestClassifier()\n",
    "rf_classifier.fit(X_train, y_train)\n",
    "y_pred_rf = rf_classifier.predict(X_test)\n",
    "accuracy_rf = accuracy_score(y_test, y_pred_rf)\n",
    "print(f\"Random Forest Accuracy: {accuracy_rf:.2f}\")\n",
    "print(\"confusion Matrix :\",confusion_matrix(y_test,y_pred_rf))\n",
    "print(\"Precision Score: \",precision_score(y_test,y_pred_rf))"
   ]
  },
  {
   "cell_type": "markdown",
   "id": "9cb3c553",
   "metadata": {
    "id": "9cb3c553"
   },
   "source": [
    "#### Model 3) Naive Bayes classifier"
   ]
  },
  {
   "cell_type": "code",
   "execution_count": 102,
   "id": "6d83d87e",
   "metadata": {
    "colab": {
     "base_uri": "https://localhost:8080/"
    },
    "executionInfo": {
     "elapsed": 8,
     "status": "ok",
     "timestamp": 1719045752770,
     "user": {
      "displayName": "Mahesh waran",
      "userId": "01052940636805861384"
     },
     "user_tz": -60
    },
    "id": "6d83d87e",
    "outputId": "0a754f8a-2e99-4fd0-dc9b-80155fd68d26"
   },
   "outputs": [
    {
     "name": "stdout",
     "output_type": "stream",
     "text": [
      "Naive Bayes Accuracy: 0.98\n",
      "confusion Matrix : [[888   1]\n",
      " [ 24 121]]\n",
      "Precision Score:  0.9918032786885246\n"
     ]
    }
   ],
   "source": [
    "nb_classifier = MultinomialNB()\n",
    "nb_classifier.fit(X_train, y_train)\n",
    "y_pred_nb = nb_classifier.predict(X_test)\n",
    "accuracy_nb = accuracy_score(y_test, y_pred_nb)\n",
    "print(f\"Naive Bayes Accuracy: {accuracy_nb:.2f}\")\n",
    "print(\"confusion Matrix :\",confusion_matrix(y_test,y_pred_nb))\n",
    "print(\"Precision Score: \",precision_score(y_test,y_pred_nb))"
   ]
  },
  {
   "cell_type": "code",
   "execution_count": 103,
   "id": "80622154",
   "metadata": {
    "colab": {
     "base_uri": "https://localhost:8080/",
     "height": 393
    },
    "executionInfo": {
     "elapsed": 935,
     "status": "ok",
     "timestamp": 1719045753702,
     "user": {
      "displayName": "Mahesh waran",
      "userId": "01052940636805861384"
     },
     "user_tz": -60
    },
    "id": "80622154",
    "outputId": "814b4c40-36fd-4689-ba26-8ef5698fcd32"
   },
   "outputs": [
    {
     "data": {
      "image/png": "[encoded data removed]",
      "text/plain": [
       "<Figure size 1500x500 with 2 Axes>"
      ]
     },
     "metadata": {},
     "output_type": "display_data"
    }
   ],
   "source": [
    "# Calculate precision scores for each classifier\n",
    "precision_svc = precision_score(y_test, y_pred_svc)\n",
    "precision_rf = precision_score(y_test, y_pred_rf)\n",
    "precision_nb = precision_score(y_test, y_pred_nb)\n",
    "\n",
    "# Create lists to store accuracies and precision scores\n",
    "classifiers = ['SVC', 'Random Forest', 'Naive Bayes']\n",
    "accuracies = [accuracy_svc, accuracy_rf, accuracy_nb]\n",
    "precision_scores = [precision_svc, precision_rf, precision_nb]\n",
    "\n",
    "# Plot bar graph for accuracies and precision scores side by side\n",
    "fig, axes = plt.subplots(1, 2, figsize=(15, 5))\n",
    "\n",
    "# Plot bar graph for accuracies\n",
    "axes[0].bar(classifiers, accuracies, color='skyred')\n",
    "axes[0].set_xlabel('Classifier')\n",
    "axes[0].set_ylabel('Accuracy')\n",
    "axes[0].set_title('Accuracy Comparison of Different Classifiers')\n",
    "axes[0].set_ylim(0, 1)\n",
    "\n",
    "# Plot bar graph for precision scores\n",
    "axes[1].bar(classifiers, precision_scores, color='lightgreen')\n",
    "axes[1].set_xlabel('Classifier')\n",
    "axes[1].set_ylabel('Precision Score')\n",
    "axes[1].set_title('Precision Score Comparison of Different Classifiers')\n",
    "axes[1].set_ylim(0, 1)\n",
    "\n",
    "plt.tight_layout()\n",
    "plt.show()\n"
   ]
  },
  {
   "cell_type": "markdown",
   "id": "9755cd9d",
   "metadata": {
    "id": "9755cd9d"
   },
   "source": [
    "SVC is the model that performs the best after sorting. Therefore, we will utilize SVC to forecast prices using svc.predict(). This procedure aids in the selection of the most predictive model."
   ]
  },
  {
   "cell_type": "markdown",
   "id": "63f28515",
   "metadata": {
    "id": "63f28515"
   },
   "source": [
    "### Model Prediction"
   ]
  },
  {
   "cell_type": "code",
   "execution_count": 94,
   "id": "f070ddbe",
   "metadata": {
    "colab": {
     "base_uri": "https://localhost:8080/"
    },
    "executionInfo": {
     "elapsed": 12,
     "status": "ok",
     "timestamp": 1719045753703,
     "user": {
      "displayName": "Mahesh waran",
      "userId": "01052940636805861384"
     },
     "user_tz": -60
    },
    "id": "f070ddbe",
    "outputId": "3985be35-ed8c-4f58-e225-c1b2203f5515"
   },
   "outputs": [
    {
     "name": "stdout",
     "output_type": "stream",
     "text": [
      "'Get a free iPhone now!' is predicted as ham.\n",
      "'Hey, how's it going?' is predicted as ham.\n",
      "'Congratulations! You've won a prize!' is predicted as spam.\n",
      "'Reminder: Meeting at 2 PM tomorrow.' is predicted as ham.\n"
     ]
    }
   ],
   "source": [
    "new_emails = [\n",
    "    \"Get a free iPhone now!\",\n",
    "    \"Hey, how's it going?\",\n",
    "    \"Congratulations! You've won a prize!\",\n",
    "    \"Reminder: Meeting at 2 PM tomorrow.\"\n",
    "]\n",
    "\n",
    "# Convert new data into numerical vectors using the trained tfidf_vectorizer\n",
    "new_X = tfidf.transform(new_emails)\n",
    "new_X_dense = new_X.toarray()\n",
    "\n",
    "# Use the trained SVM model to make predictions\n",
    "svm_predictions = svc_classifier.predict(new_X_dense)\n",
    "\n",
    "# Print the predictions\n",
    "for email, prediction in zip(new_emails, svm_predictions):\n",
    "    if prediction == 1:\n",
    "        print(f\"'{email}' is predicted as spam.\")\n",
    "    else:\n",
    "        print(f\"'{email}' is predicted as ham.\")"
   ]
  },
  {
   "cell_type": "markdown",
   "id": "ce219f91",
   "metadata": {
    "id": "ce219f91"
   },
   "source": [
    "### User Input Data Prediction"
   ]
  },
  {
   "cell_type": "code",
   "execution_count": 104,
   "id": "1f67dfc0",
   "metadata": {
    "colab": {
     "base_uri": "https://localhost:8080/"
    },
    "executionInfo": {
     "elapsed": 73169,
     "status": "ok",
     "timestamp": 1719045826863,
     "user": {
      "displayName": "Mahesh waran",
      "userId": "01052940636805861384"
     },
     "user_tz": -60
    },
    "id": "1f67dfc0",
    "outputId": "a276130b-8688-4061-d801-6a2d250d7805"
   },
   "outputs": [
    {
     "name": "stdout",
     "output_type": "stream",
     "text": [
      "The email is predicted as ham.\n"
     ]
    }
   ],
   "source": [
    "def predict_email(email):\n",
    "    # Convert email into numerical vector using the trained TF-IDF vectorizer\n",
    "    email_vector = tfidf.transform([email])\n",
    "\n",
    "    # Convert sparse matrix to dense array\n",
    "    email_vector_dense = email_vector.toarray()\n",
    "\n",
    "    # Use the trained SVM model to make predictions\n",
    "    prediction = svc_classifier.predict(email_vector_dense)\n",
    "\n",
    "    # Print the prediction\n",
    "    if prediction[0] == 1:\n",
    "        print(\"The email is predicted as spam.\")\n",
    "    else:\n",
    "        print(\"The email is predicted as ham.\")\n",
    "\n",
    "# Get user input for email\n",
    "user_email = input(\"Enter the email text: \")\n",
    "\n",
    "# Predict whether the input email is spam or ham\n",
    "predict_email(user_email)"
   ]
  },
  {
   "cell_type": "code",
   "execution_count": 105,
   "id": "8ecd22c3",
   "metadata": {
    "executionInfo": {
     "elapsed": 477,
     "status": "ok",
     "timestamp": 1719045827335,
     "user": {
      "displayName": "Mahesh waran",
      "userId": "01052940636805861384"
     },
     "user_tz": -60
    },
    "id": "8ecd22c3"
   },
   "outputs": [],
   "source": [
    "import numpy as np\n",
    "import matplotlib.pyplot as plt\n",
    "import seaborn as sns\n",
    "# Punctuations\n",
    "import string\n",
    "# Pandas\n",
    "import pandas as pd\n",
    "# Remove Stopwords\n",
    "from nltk.corpus import stopwords\n",
    "# Regular Expressions\n",
    "import re\n",
    "# Import PorterStemmer from NLTK Library\n",
    "from nltk.stem.porter import PorterStemmer\n",
    "# Models\n",
    "from sklearn.linear_model import LogisticRegression\n",
    "from sklearn.svm import SVC\n",
    "from sklearn.naive_bayes import GaussianNB , MultinomialNB , BernoulliNB\n",
    "from sklearn.tree import DecisionTreeClassifier\n",
    "from sklearn.neighbors import KNeighborsClassifier\n",
    "from sklearn.ensemble import RandomForestClassifier\n",
    "from sklearn.ensemble import AdaBoostClassifier\n",
    "from sklearn.ensemble import BaggingClassifier\n",
    "from sklearn.ensemble import ExtraTreesClassifier\n",
    "from sklearn.ensemble import GradientBoostingClassifier\n",
    "from xgboost import XGBClassifier\n",
    "# Metrix and Train Test\n",
    "from sklearn.metrics import *\n",
    "from sklearn.model_selection import train_test_split\n",
    "from sklearn.feature_extraction.text import CountVectorizer\n",
    "from sklearn.feature_extraction.text import TfidfVectorizer"
   ]
  },
  {
   "cell_type": "code",
   "execution_count": 106,
   "id": "3IbLqU-9CgQ6",
   "metadata": {
    "colab": {
     "base_uri": "https://localhost:8080/",
     "height": 206
    },
    "executionInfo": {
     "elapsed": 28,
     "status": "ok",
     "timestamp": 1719045827336,
     "user": {
      "displayName": "Mahesh waran",
      "userId": "01052940636805861384"
     },
     "user_tz": -60
    },
    "id": "3IbLqU-9CgQ6",
    "outputId": "04f46e3d-cfa3-4e34-bd39-6ac01819d178"
   },
   "outputs": [
    {
     "data": {
      "text/html": [
       "<div>\n",
       "<style scoped>\n",
       "    .dataframe tbody tr th:only-of-type {\n",
       "        vertical-align: middle;\n",
       "    }\n",
       "\n",
       "    .dataframe tbody tr th {\n",
       "        vertical-align: top;\n",
       "    }\n",
       "\n",
       "    .dataframe thead th {\n",
       "        text-align: right;\n",
       "    }\n",
       "</style>\n",
       "<table border=\"1\" class=\"dataframe\">\n",
       "  <thead>\n",
       "    <tr style=\"text-align: right;\">\n",
       "      <th></th>\n",
       "      <th>result</th>\n",
       "      <th>emails</th>\n",
       "      <th>Length</th>\n",
       "      <th>num_words</th>\n",
       "      <th>num_sentence</th>\n",
       "      <th>transform_text</th>\n",
       "    </tr>\n",
       "  </thead>\n",
       "  <tbody>\n",
       "    <tr>\n",
       "      <th>0</th>\n",
       "      <td>0</td>\n",
       "      <td>Go until jurong point, crazy.. Available only ...</td>\n",
       "      <td>111</td>\n",
       "      <td>24</td>\n",
       "      <td>2</td>\n",
       "      <td>go jurong point crazi avail bugi n great world...</td>\n",
       "    </tr>\n",
       "    <tr>\n",
       "      <th>1</th>\n",
       "      <td>0</td>\n",
       "      <td>Ok lar... Joking wif u oni...</td>\n",
       "      <td>29</td>\n",
       "      <td>8</td>\n",
       "      <td>2</td>\n",
       "      <td>ok lar joke wif u oni</td>\n",
       "    </tr>\n",
       "    <tr>\n",
       "      <th>2</th>\n",
       "      <td>1</td>\n",
       "      <td>Free entry in 2 a wkly comp to win FA Cup fina...</td>\n",
       "      <td>155</td>\n",
       "      <td>37</td>\n",
       "      <td>2</td>\n",
       "      <td>free entri 2 wkli comp win fa cup final tkt 21...</td>\n",
       "    </tr>\n",
       "    <tr>\n",
       "      <th>3</th>\n",
       "      <td>0</td>\n",
       "      <td>U dun say so early hor... U c already then say...</td>\n",
       "      <td>49</td>\n",
       "      <td>13</td>\n",
       "      <td>1</td>\n",
       "      <td>u dun say earli hor u c alreadi say</td>\n",
       "    </tr>\n",
       "    <tr>\n",
       "      <th>4</th>\n",
       "      <td>0</td>\n",
       "      <td>Nah I don't think he goes to usf, he lives aro...</td>\n",
       "      <td>61</td>\n",
       "      <td>15</td>\n",
       "      <td>1</td>\n",
       "      <td>nah nt think goe usf live around though</td>\n",
       "    </tr>\n",
       "  </tbody>\n",
       "</table>\n",
       "</div>"
      ],
      "text/plain": [
       "   result                                             emails  Length  \\\n",
       "0       0  Go until jurong point, crazy.. Available only ...     111   \n",
       "1       0                      Ok lar... Joking wif u oni...      29   \n",
       "2       1  Free entry in 2 a wkly comp to win FA Cup fina...     155   \n",
       "3       0  U dun say so early hor... U c already then say...      49   \n",
       "4       0  Nah I don't think he goes to usf, he lives aro...      61   \n",
       "\n",
       "   num_words  num_sentence                                     transform_text  \n",
       "0         24             2  go jurong point crazi avail bugi n great world...  \n",
       "1          8             2                              ok lar joke wif u oni  \n",
       "2         37             2  free entri 2 wkli comp win fa cup final tkt 21...  \n",
       "3         13             1                u dun say earli hor u c alreadi say  \n",
       "4         15             1            nah nt think goe usf live around though  "
      ]
     },
     "execution_count": 106,
     "metadata": {},
     "output_type": "execute_result"
    }
   ],
   "source": [
    "data.head()"
   ]
  },
  {
   "cell_type": "code",
   "execution_count": 107,
   "id": "lli5HvtlDPcH",
   "metadata": {
    "colab": {
     "base_uri": "https://localhost:8080/"
    },
    "executionInfo": {
     "elapsed": 26,
     "status": "ok",
     "timestamp": 1719045827336,
     "user": {
      "displayName": "Mahesh waran",
      "userId": "01052940636805861384"
     },
     "user_tz": -60
    },
    "id": "lli5HvtlDPcH",
    "outputId": "719a4fe3-4ad4-4c3e-d178-ddd325a4f20e"
   },
   "outputs": [
    {
     "name": "stdout",
     "output_type": "stream",
     "text": [
      "Null Values in Train Dataset is : 0\n"
     ]
    }
   ],
   "source": [
    "print(f'Null Values in Train Dataset is : {data.isnull().sum().sum()}')"
   ]
  },
  {
   "cell_type": "code",
   "execution_count": 41,
   "id": "igmn-UsjChyg",
   "metadata": {
    "colab": {
     "base_uri": "https://localhost:8080/"
    },
    "executionInfo": {
     "elapsed": 24,
     "status": "ok",
     "timestamp": 1719045827337,
     "user": {
      "displayName": "Mahesh waran",
      "userId": "01052940636805861384"
     },
     "user_tz": -60
    },
    "id": "igmn-UsjChyg",
    "outputId": "5af0e322-5e73-4b54-eb9b-d1611ad48590"
   },
   "outputs": [
    {
     "name": "stdout",
     "output_type": "stream",
     "text": [
      "Duplicates values in Train Dataset is : 0\n"
     ]
    }
   ],
   "source": [
    "# Duplicates\n",
    "print(f\"Duplicates values in Train Dataset is : {data.duplicated().sum()}\")"
   ]
  },
  {
   "cell_type": "code",
   "execution_count": 42,
   "id": "XA2ax9LLCh60",
   "metadata": {
    "colab": {
     "base_uri": "https://localhost:8080/"
    },
    "executionInfo": {
     "elapsed": 22,
     "status": "ok",
     "timestamp": 1719045827337,
     "user": {
      "displayName": "Mahesh waran",
      "userId": "01052940636805861384"
     },
     "user_tz": -60
    },
    "id": "XA2ax9LLCh60",
    "outputId": "53769b72-eee8-4ce4-d116-d968b7c60cf9"
   },
   "outputs": [
    {
     "data": {
      "text/plain": [
       "result            0\n",
       "emails            0\n",
       "Length            0\n",
       "num_words         0\n",
       "num_sentence      0\n",
       "transform_text    0\n",
       "dtype: int64"
      ]
     },
     "execution_count": 42,
     "metadata": {},
     "output_type": "execute_result"
    }
   ],
   "source": [
    "data.isnull().sum()"
   ]
  },
  {
   "cell_type": "code",
   "execution_count": 108,
   "id": "T7isF8NOCh_W",
   "metadata": {
    "colab": {
     "base_uri": "https://localhost:8080/"
    },
    "executionInfo": {
     "elapsed": 20,
     "status": "ok",
     "timestamp": 1719045827337,
     "user": {
      "displayName": "Mahesh waran",
      "userId": "01052940636805861384"
     },
     "user_tz": -60
    },
    "id": "T7isF8NOCh_W",
    "outputId": "ef754c8f-7146-4639-c769-df9a17815437"
   },
   "outputs": [
    {
     "name": "stdout",
     "output_type": "stream",
     "text": [
      "go jurong point crazi avail bugi n great world la e buffet cine got amor wat\n",
      "ok lar joke wif u oni\n",
      "free entri 2 wkli comp win fa cup final tkt 21st may 2005 text fa 87121 receiv entri question std txt rate c appli 08452810075over18\n"
     ]
    }
   ],
   "source": [
    "print(data['transform_text'][0])\n",
    "print(data['transform_text'][1])\n",
    "print(data['transform_text'][2])"
   ]
  },
  {
   "cell_type": "code",
   "execution_count": 44,
   "id": "6MZDCM0eCiC7",
   "metadata": {
    "colab": {
     "base_uri": "https://localhost:8080/",
     "height": 206
    },
    "executionInfo": {
     "elapsed": 17,
     "status": "ok",
     "timestamp": 1719045827337,
     "user": {
      "displayName": "Mahesh waran",
      "userId": "01052940636805861384"
     },
     "user_tz": -60
    },
    "id": "6MZDCM0eCiC7",
    "outputId": "250ced3f-f4f4-488c-d87e-c6cf670bfa79"
   },
   "outputs": [
    {
     "data": {
      "application/vnd.google.colaboratory.intrinsic+json": {
       "summary": "{\n  \"name\": \"data\",\n  \"rows\": 5169,\n  \"fields\": [\n    {\n      \"column\": \"result\",\n      \"properties\": {\n        \"dtype\": \"number\",\n        \"std\": 0,\n        \"min\": 0,\n        \"max\": 1,\n        \"num_unique_values\": 2,\n        \"samples\": [\n          1,\n          0\n        ],\n        \"semantic_type\": \"\",\n        \"description\": \"\"\n      }\n    },\n    {\n      \"column\": \"emails\",\n      \"properties\": {\n        \"dtype\": \"string\",\n        \"num_unique_values\": 5169,\n        \"samples\": [\n          \"Did u download the fring app?\",\n          \"Pass dis to all ur contacts n see wat u get! Red;i'm in luv wid u. Blue;u put a smile on my face. Purple;u r realy hot. Pink;u r so swt. Orange;i thnk i lyk u. Green;i realy wana go out wid u. Yelow;i wnt u bck. Black;i'm jealous of u. Brown;i miss you Nw plz giv me one color\"\n        ],\n        \"semantic_type\": \"\",\n        \"description\": \"\"\n      }\n    },\n    {\n      \"column\": \"Length\",\n      \"properties\": {\n        \"dtype\": \"number\",\n        \"std\": 58,\n        \"min\": 2,\n        \"max\": 910,\n        \"num_unique_values\": 274,\n        \"samples\": [\n          84,\n          177\n        ],\n        \"semantic_type\": \"\",\n        \"description\": \"\"\n      }\n    },\n    {\n      \"column\": \"num_words\",\n      \"properties\": {\n        \"dtype\": \"number\",\n        \"std\": 13,\n        \"min\": 1,\n        \"max\": 220,\n        \"num_unique_values\": 91,\n        \"samples\": [\n          95,\n          48\n        ],\n        \"semantic_type\": \"\",\n        \"description\": \"\"\n      }\n    },\n    {\n      \"column\": \"num_sentence\",\n      \"properties\": {\n        \"dtype\": \"number\",\n        \"std\": 1,\n        \"min\": 1,\n        \"max\": 38,\n        \"num_unique_values\": 16,\n        \"samples\": [\n          2,\n          1\n        ],\n        \"semantic_type\": \"\",\n        \"description\": \"\"\n      }\n    },\n    {\n      \"column\": \"transform_text\",\n      \"properties\": {\n        \"dtype\": \"string\",\n        \"num_unique_values\": 5108,\n        \"samples\": [\n          \"miss much despar record messag left day listen hear sound voic love\",\n          \"oh u must taken real valentin shop first\"\n        ],\n        \"semantic_type\": \"\",\n        \"description\": \"\"\n      }\n    }\n  ]\n}",
       "type": "dataframe",
       "variable_name": "data"
      },
      "text/html": [
       "\n",
       "  <div id=\"df-416e4d79-9888-46f9-94b8-0dcee900d6bd\" class=\"colab-df-container\">\n",
       "    <div>\n",
       "<style scoped>\n",
       "    .dataframe tbody tr th:only-of-type {\n",
       "        vertical-align: middle;\n",
       "    }\n",
       "\n",
       "    .dataframe tbody tr th {\n",
       "        vertical-align: top;\n",
       "    }\n",
       "\n",
       "    .dataframe thead th {\n",
       "        text-align: right;\n",
       "    }\n",
       "</style>\n",
       "<table border=\"1\" class=\"dataframe\">\n",
       "  <thead>\n",
       "    <tr style=\"text-align: right;\">\n",
       "      <th></th>\n",
       "      <th>result</th>\n",
       "      <th>emails</th>\n",
       "      <th>Length</th>\n",
       "      <th>num_words</th>\n",
       "      <th>num_sentence</th>\n",
       "      <th>transform_text</th>\n",
       "    </tr>\n",
       "  </thead>\n",
       "  <tbody>\n",
       "    <tr>\n",
       "      <th>0</th>\n",
       "      <td>0</td>\n",
       "      <td>Go until jurong point, crazy.. Available only ...</td>\n",
       "      <td>111</td>\n",
       "      <td>24</td>\n",
       "      <td>2</td>\n",
       "      <td>go jurong point crazi avail bugi n great world...</td>\n",
       "    </tr>\n",
       "    <tr>\n",
       "      <th>1</th>\n",
       "      <td>0</td>\n",
       "      <td>Ok lar... Joking wif u oni...</td>\n",
       "      <td>29</td>\n",
       "      <td>8</td>\n",
       "      <td>2</td>\n",
       "      <td>ok lar joke wif u oni</td>\n",
       "    </tr>\n",
       "    <tr>\n",
       "      <th>2</th>\n",
       "      <td>1</td>\n",
       "      <td>Free entry in 2 a wkly comp to win FA Cup fina...</td>\n",
       "      <td>155</td>\n",
       "      <td>37</td>\n",
       "      <td>2</td>\n",
       "      <td>free entri 2 wkli comp win fa cup final tkt 21...</td>\n",
       "    </tr>\n",
       "    <tr>\n",
       "      <th>3</th>\n",
       "      <td>0</td>\n",
       "      <td>U dun say so early hor... U c already then say...</td>\n",
       "      <td>49</td>\n",
       "      <td>13</td>\n",
       "      <td>1</td>\n",
       "      <td>u dun say earli hor u c alreadi say</td>\n",
       "    </tr>\n",
       "    <tr>\n",
       "      <th>4</th>\n",
       "      <td>0</td>\n",
       "      <td>Nah I don't think he goes to usf, he lives aro...</td>\n",
       "      <td>61</td>\n",
       "      <td>15</td>\n",
       "      <td>1</td>\n",
       "      <td>nah nt think goe usf live around though</td>\n",
       "    </tr>\n",
       "  </tbody>\n",
       "</table>\n",
       "</div>\n",
       "    <div class=\"colab-df-buttons\">\n",
       "\n",
       "  <div class=\"colab-df-container\">\n",
       "    <button class=\"colab-df-convert\" onclick=\"convertToInteractive('df-416e4d79-9888-46f9-94b8-0dcee900d6bd')\"\n",
       "            title=\"Convert this dataframe to an interactive table.\"\n",
       "            style=\"display:none;\">\n",
       "\n",
       "  <svg xmlns=\"http://www.w3.org/2000/svg\" height=\"24px\" viewBox=\"0 -960 960 960\">\n",
       "    <path d=\"M120-120v-720h720v720H120Zm60-500h600v-160H180v160Zm220 220h160v-160H400v160Zm0 220h160v-160H400v160ZM180-400h160v-160H180v160Zm440 0h160v-160H620v160ZM180-180h160v-160H180v160Zm440 0h160v-160H620v160Z\"/>\n",
       "  </svg>\n",
       "    </button>\n",
       "\n",
       "  <style>\n",
       "    .colab-df-container {\n",
       "      display:flex;\n",
       "      gap: 12px;\n",
       "    }\n",
       "\n",
       "    .colab-df-convert {\n",
       "      background-color: #E8F0FE;\n",
       "      border: none;\n",
       "      border-radius: 50%;\n",
       "      cursor: pointer;\n",
       "      display: none;\n",
       "      fill: #1967D2;\n",
       "      height: 32px;\n",
       "      padding: 0 0 0 0;\n",
       "      width: 32px;\n",
       "    }\n",
       "\n",
       "    .colab-df-convert:hover {\n",
       "      background-color: #E2EBFA;\n",
       "      box-shadow: 0px 1px 2px rgba(60, 64, 67, 0.3), 0px 1px 3px 1px rgba(60, 64, 67, 0.15);\n",
       "      fill: #174EA6;\n",
       "    }\n",
       "\n",
       "    .colab-df-buttons div {\n",
       "      margin-bottom: 4px;\n",
       "    }\n",
       "\n",
       "    [theme=dark] .colab-df-convert {\n",
       "      background-color: #3B4455;\n",
       "      fill: #D2E3FC;\n",
       "    }\n",
       "\n",
       "    [theme=dark] .colab-df-convert:hover {\n",
       "      background-color: #434B5C;\n",
       "      box-shadow: 0px 1px 3px 1px rgba(0, 0, 0, 0.15);\n",
       "      filter: drop-shadow(0px 1px 2px rgba(0, 0, 0, 0.3));\n",
       "      fill: #FFFFFF;\n",
       "    }\n",
       "  </style>\n",
       "\n",
       "    <script>\n",
       "      const buttonEl =\n",
       "        document.querySelector('#df-416e4d79-9888-46f9-94b8-0dcee900d6bd button.colab-df-convert');\n",
       "      buttonEl.style.display =\n",
       "        google.colab.kernel.accessAllowed ? 'block' : 'none';\n",
       "\n",
       "      async function convertToInteractive(key) {\n",
       "        const element = document.querySelector('#df-416e4d79-9888-46f9-94b8-0dcee900d6bd');\n",
       "        const dataTable =\n",
       "          await google.colab.kernel.invokeFunction('convertToInteractive',\n",
       "                                                    [key], {});\n",
       "        if (!dataTable) return;\n",
       "\n",
       "        const docLinkHtml = 'Like what you see? Visit the ' +\n",
       "          '<a target=\"_blank\" href=https://colab.research.google.com/notebooks/data_table.ipynb>data table notebook</a>'\n",
       "          + ' to learn more about interactive tables.';\n",
       "        element.innerHTML = '';\n",
       "        dataTable['output_type'] = 'display_data';\n",
       "        await google.colab.output.renderOutput(dataTable, element);\n",
       "        const docLink = document.createElement('div');\n",
       "        docLink.innerHTML = docLinkHtml;\n",
       "        element.appendChild(docLink);\n",
       "      }\n",
       "    </script>\n",
       "  </div>\n",
       "\n",
       "\n",
       "<div id=\"df-be928456-7104-421d-9b92-09f246e28019\">\n",
       "  <button class=\"colab-df-quickchart\" onclick=\"quickchart('df-be928456-7104-421d-9b92-09f246e28019')\"\n",
       "            title=\"Suggest charts\"\n",
       "            style=\"display:none;\">\n",
       "\n",
       "<svg xmlns=\"http://www.w3.org/2000/svg\" height=\"24px\"viewBox=\"0 0 24 24\"\n",
       "     width=\"24px\">\n",
       "    <g>\n",
       "        <path d=\"M19 3H5c-1.1 0-2 .9-2 2v14c0 1.1.9 2 2 2h14c1.1 0 2-.9 2-2V5c0-1.1-.9-2-2-2zM9 17H7v-7h2v7zm4 0h-2V7h2v10zm4 0h-2v-4h2v4z\"/>\n",
       "    </g>\n",
       "</svg>\n",
       "  </button>\n",
       "\n",
       "<style>\n",
       "  .colab-df-quickchart {\n",
       "      --bg-color: #E8F0FE;\n",
       "      --fill-color: #1967D2;\n",
       "      --hover-bg-color: #E2EBFA;\n",
       "      --hover-fill-color: #174EA6;\n",
       "      --disabled-fill-color: #AAA;\n",
       "      --disabled-bg-color: #DDD;\n",
       "  }\n",
       "\n",
       "  [theme=dark] .colab-df-quickchart {\n",
       "      --bg-color: #3B4455;\n",
       "      --fill-color: #D2E3FC;\n",
       "      --hover-bg-color: #434B5C;\n",
       "      --hover-fill-color: #FFFFFF;\n",
       "      --disabled-bg-color: #3B4455;\n",
       "      --disabled-fill-color: #666;\n",
       "  }\n",
       "\n",
       "  .colab-df-quickchart {\n",
       "    background-color: var(--bg-color);\n",
       "    border: none;\n",
       "    border-radius: 50%;\n",
       "    cursor: pointer;\n",
       "    display: none;\n",
       "    fill: var(--fill-color);\n",
       "    height: 32px;\n",
       "    padding: 0;\n",
       "    width: 32px;\n",
       "  }\n",
       "\n",
       "  .colab-df-quickchart:hover {\n",
       "    background-color: var(--hover-bg-color);\n",
       "    box-shadow: 0 1px 2px rgba(60, 64, 67, 0.3), 0 1px 3px 1px rgba(60, 64, 67, 0.15);\n",
       "    fill: var(--button-hover-fill-color);\n",
       "  }\n",
       "\n",
       "  .colab-df-quickchart-complete:disabled,\n",
       "  .colab-df-quickchart-complete:disabled:hover {\n",
       "    background-color: var(--disabled-bg-color);\n",
       "    fill: var(--disabled-fill-color);\n",
       "    box-shadow: none;\n",
       "  }\n",
       "\n",
       "  .colab-df-spinner {\n",
       "    border: 2px solid var(--fill-color);\n",
       "    border-color: transparent;\n",
       "    border-bottom-color: var(--fill-color);\n",
       "    animation:\n",
       "      spin 1s steps(1) infinite;\n",
       "  }\n",
       "\n",
       "  @keyframes spin {\n",
       "    0% {\n",
       "      border-color: transparent;\n",
       "      border-bottom-color: var(--fill-color);\n",
       "      border-left-color: var(--fill-color);\n",
       "    }\n",
       "    20% {\n",
       "      border-color: transparent;\n",
       "      border-left-color: var(--fill-color);\n",
       "      border-top-color: var(--fill-color);\n",
       "    }\n",
       "    30% {\n",
       "      border-color: transparent;\n",
       "      border-left-color: var(--fill-color);\n",
       "      border-top-color: var(--fill-color);\n",
       "      border-right-color: var(--fill-color);\n",
       "    }\n",
       "    40% {\n",
       "      border-color: transparent;\n",
       "      border-right-color: var(--fill-color);\n",
       "      border-top-color: var(--fill-color);\n",
       "    }\n",
       "    60% {\n",
       "      border-color: transparent;\n",
       "      border-right-color: var(--fill-color);\n",
       "    }\n",
       "    80% {\n",
       "      border-color: transparent;\n",
       "      border-right-color: var(--fill-color);\n",
       "      border-bottom-color: var(--fill-color);\n",
       "    }\n",
       "    90% {\n",
       "      border-color: transparent;\n",
       "      border-bottom-color: var(--fill-color);\n",
       "    }\n",
       "  }\n",
       "</style>\n",
       "\n",
       "  <script>\n",
       "    async function quickchart(key) {\n",
       "      const quickchartButtonEl =\n",
       "        document.querySelector('#' + key + ' button');\n",
       "      quickchartButtonEl.disabled = true;  // To prevent multiple clicks.\n",
       "      quickchartButtonEl.classList.add('colab-df-spinner');\n",
       "      try {\n",
       "        const charts = await google.colab.kernel.invokeFunction(\n",
       "            'suggestCharts', [key], {});\n",
       "      } catch (error) {\n",
       "        console.error('Error during call to suggestCharts:', error);\n",
       "      }\n",
       "      quickchartButtonEl.classList.remove('colab-df-spinner');\n",
       "      quickchartButtonEl.classList.add('colab-df-quickchart-complete');\n",
       "    }\n",
       "    (() => {\n",
       "      let quickchartButtonEl =\n",
       "        document.querySelector('#df-be928456-7104-421d-9b92-09f246e28019 button');\n",
       "      quickchartButtonEl.style.display =\n",
       "        google.colab.kernel.accessAllowed ? 'block' : 'none';\n",
       "    })();\n",
       "  </script>\n",
       "</div>\n",
       "    </div>\n",
       "  </div>\n"
      ],
      "text/plain": [
       "   result                                             emails  Length  \\\n",
       "0       0  Go until jurong point, crazy.. Available only ...     111   \n",
       "1       0                      Ok lar... Joking wif u oni...      29   \n",
       "2       1  Free entry in 2 a wkly comp to win FA Cup fina...     155   \n",
       "3       0  U dun say so early hor... U c already then say...      49   \n",
       "4       0  Nah I don't think he goes to usf, he lives aro...      61   \n",
       "\n",
       "   num_words  num_sentence                                     transform_text  \n",
       "0         24             2  go jurong point crazi avail bugi n great world...  \n",
       "1          8             2                              ok lar joke wif u oni  \n",
       "2         37             2  free entri 2 wkli comp win fa cup final tkt 21...  \n",
       "3         13             1                u dun say earli hor u c alreadi say  \n",
       "4         15             1            nah nt think goe usf live around though  "
      ]
     },
     "execution_count": 44,
     "metadata": {},
     "output_type": "execute_result"
    }
   ],
   "source": [
    "# 1. LowerCase\n",
    "data['transform_text'] = data['transform_text'].str.lower()\n",
    "\n",
    "# Head\n",
    "data.head()"
   ]
  },
  {
   "cell_type": "code",
   "execution_count": 109,
   "id": "sgqR-YjzCiGH",
   "metadata": {
    "executionInfo": {
     "elapsed": 16,
     "status": "ok",
     "timestamp": 1719045827338,
     "user": {
      "displayName": "Mahesh waran",
      "userId": "01052940636805861384"
     },
     "user_tz": -60
    },
    "id": "sgqR-YjzCiGH"
   },
   "outputs": [],
   "source": [
    "df_train=data"
   ]
  },
  {
   "cell_type": "code",
   "execution_count": 46,
   "id": "EKXnFv2CCiJx",
   "metadata": {
    "executionInfo": {
     "elapsed": 16,
     "status": "ok",
     "timestamp": 1719045827338,
     "user": {
      "displayName": "Mahesh waran",
      "userId": "01052940636805861384"
     },
     "user_tz": -60
    },
    "id": "EKXnFv2CCiJx"
   },
   "outputs": [],
   "source": [
    "df_train['transform_text'] = df_train['transform_text'].str.replace('#','')\n",
    "df_train['transform_text'] = df_train['transform_text'].str.replace('@','')\n",
    "df_train['transform_text'] = df_train['transform_text'].str.replace(r'^https?:\\/\\/.*[\\r\\n]*','')"
   ]
  },
  {
   "cell_type": "code",
   "execution_count": 47,
   "id": "CDyYJ67ecMEX",
   "metadata": {
    "colab": {
     "base_uri": "https://localhost:8080/",
     "height": 206
    },
    "executionInfo": {
     "elapsed": 16,
     "status": "ok",
     "timestamp": 1719045827338,
     "user": {
      "displayName": "Mahesh waran",
      "userId": "01052940636805861384"
     },
     "user_tz": -60
    },
    "id": "CDyYJ67ecMEX",
    "outputId": "ef0877b9-1e9b-40ab-f540-12e60db544f3"
   },
   "outputs": [
    {
     "data": {
      "application/vnd.google.colaboratory.intrinsic+json": {
       "summary": "{\n  \"name\": \"df_train\",\n  \"rows\": 5169,\n  \"fields\": [\n    {\n      \"column\": \"result\",\n      \"properties\": {\n        \"dtype\": \"number\",\n        \"std\": 0,\n        \"min\": 0,\n        \"max\": 1,\n        \"num_unique_values\": 2,\n        \"samples\": [\n          1,\n          0\n        ],\n        \"semantic_type\": \"\",\n        \"description\": \"\"\n      }\n    },\n    {\n      \"column\": \"emails\",\n      \"properties\": {\n        \"dtype\": \"string\",\n        \"num_unique_values\": 5169,\n        \"samples\": [\n          \"Did u download the fring app?\",\n          \"Pass dis to all ur contacts n see wat u get! Red;i'm in luv wid u. Blue;u put a smile on my face. Purple;u r realy hot. Pink;u r so swt. Orange;i thnk i lyk u. Green;i realy wana go out wid u. Yelow;i wnt u bck. Black;i'm jealous of u. Brown;i miss you Nw plz giv me one color\"\n        ],\n        \"semantic_type\": \"\",\n        \"description\": \"\"\n      }\n    },\n    {\n      \"column\": \"Length\",\n      \"properties\": {\n        \"dtype\": \"number\",\n        \"std\": 58,\n        \"min\": 2,\n        \"max\": 910,\n        \"num_unique_values\": 274,\n        \"samples\": [\n          84,\n          177\n        ],\n        \"semantic_type\": \"\",\n        \"description\": \"\"\n      }\n    },\n    {\n      \"column\": \"num_words\",\n      \"properties\": {\n        \"dtype\": \"number\",\n        \"std\": 13,\n        \"min\": 1,\n        \"max\": 220,\n        \"num_unique_values\": 91,\n        \"samples\": [\n          95,\n          48\n        ],\n        \"semantic_type\": \"\",\n        \"description\": \"\"\n      }\n    },\n    {\n      \"column\": \"num_sentence\",\n      \"properties\": {\n        \"dtype\": \"number\",\n        \"std\": 1,\n        \"min\": 1,\n        \"max\": 38,\n        \"num_unique_values\": 16,\n        \"samples\": [\n          2,\n          1\n        ],\n        \"semantic_type\": \"\",\n        \"description\": \"\"\n      }\n    },\n    {\n      \"column\": \"transform_text\",\n      \"properties\": {\n        \"dtype\": \"string\",\n        \"num_unique_values\": 5108,\n        \"samples\": [\n          \"miss much despar record messag left day listen hear sound voic love\",\n          \"oh u must taken real valentin shop first\"\n        ],\n        \"semantic_type\": \"\",\n        \"description\": \"\"\n      }\n    }\n  ]\n}",
       "type": "dataframe",
       "variable_name": "df_train"
      },
      "text/html": [
       "\n",
       "  <div id=\"df-fc61cc4f-5097-4d72-a132-f880575eae57\" class=\"colab-df-container\">\n",
       "    <div>\n",
       "<style scoped>\n",
       "    .dataframe tbody tr th:only-of-type {\n",
       "        vertical-align: middle;\n",
       "    }\n",
       "\n",
       "    .dataframe tbody tr th {\n",
       "        vertical-align: top;\n",
       "    }\n",
       "\n",
       "    .dataframe thead th {\n",
       "        text-align: right;\n",
       "    }\n",
       "</style>\n",
       "<table border=\"1\" class=\"dataframe\">\n",
       "  <thead>\n",
       "    <tr style=\"text-align: right;\">\n",
       "      <th></th>\n",
       "      <th>result</th>\n",
       "      <th>emails</th>\n",
       "      <th>Length</th>\n",
       "      <th>num_words</th>\n",
       "      <th>num_sentence</th>\n",
       "      <th>transform_text</th>\n",
       "    </tr>\n",
       "  </thead>\n",
       "  <tbody>\n",
       "    <tr>\n",
       "      <th>0</th>\n",
       "      <td>0</td>\n",
       "      <td>Go until jurong point, crazy.. Available only ...</td>\n",
       "      <td>111</td>\n",
       "      <td>24</td>\n",
       "      <td>2</td>\n",
       "      <td>go jurong point crazi avail bugi n great world...</td>\n",
       "    </tr>\n",
       "    <tr>\n",
       "      <th>1</th>\n",
       "      <td>0</td>\n",
       "      <td>Ok lar... Joking wif u oni...</td>\n",
       "      <td>29</td>\n",
       "      <td>8</td>\n",
       "      <td>2</td>\n",
       "      <td>ok lar joke wif u oni</td>\n",
       "    </tr>\n",
       "    <tr>\n",
       "      <th>2</th>\n",
       "      <td>1</td>\n",
       "      <td>Free entry in 2 a wkly comp to win FA Cup fina...</td>\n",
       "      <td>155</td>\n",
       "      <td>37</td>\n",
       "      <td>2</td>\n",
       "      <td>free entri 2 wkli comp win fa cup final tkt 21...</td>\n",
       "    </tr>\n",
       "    <tr>\n",
       "      <th>3</th>\n",
       "      <td>0</td>\n",
       "      <td>U dun say so early hor... U c already then say...</td>\n",
       "      <td>49</td>\n",
       "      <td>13</td>\n",
       "      <td>1</td>\n",
       "      <td>u dun say earli hor u c alreadi say</td>\n",
       "    </tr>\n",
       "    <tr>\n",
       "      <th>4</th>\n",
       "      <td>0</td>\n",
       "      <td>Nah I don't think he goes to usf, he lives aro...</td>\n",
       "      <td>61</td>\n",
       "      <td>15</td>\n",
       "      <td>1</td>\n",
       "      <td>nah nt think goe usf live around though</td>\n",
       "    </tr>\n",
       "  </tbody>\n",
       "</table>\n",
       "</div>\n",
       "    <div class=\"colab-df-buttons\">\n",
       "\n",
       "  <div class=\"colab-df-container\">\n",
       "    <button class=\"colab-df-convert\" onclick=\"convertToInteractive('df-fc61cc4f-5097-4d72-a132-f880575eae57')\"\n",
       "            title=\"Convert this dataframe to an interactive table.\"\n",
       "            style=\"display:none;\">\n",
       "\n",
       "  <svg xmlns=\"http://www.w3.org/2000/svg\" height=\"24px\" viewBox=\"0 -960 960 960\">\n",
       "    <path d=\"M120-120v-720h720v720H120Zm60-500h600v-160H180v160Zm220 220h160v-160H400v160Zm0 220h160v-160H400v160ZM180-400h160v-160H180v160Zm440 0h160v-160H620v160ZM180-180h160v-160H180v160Zm440 0h160v-160H620v160Z\"/>\n",
       "  </svg>\n",
       "    </button>\n",
       "\n",
       "  <style>\n",
       "    .colab-df-container {\n",
       "      display:flex;\n",
       "      gap: 12px;\n",
       "    }\n",
       "\n",
       "    .colab-df-convert {\n",
       "      background-color: #E8F0FE;\n",
       "      border: none;\n",
       "      border-radius: 50%;\n",
       "      cursor: pointer;\n",
       "      display: none;\n",
       "      fill: #1967D2;\n",
       "      height: 32px;\n",
       "      padding: 0 0 0 0;\n",
       "      width: 32px;\n",
       "    }\n",
       "\n",
       "    .colab-df-convert:hover {\n",
       "      background-color: #E2EBFA;\n",
       "      box-shadow: 0px 1px 2px rgba(60, 64, 67, 0.3), 0px 1px 3px 1px rgba(60, 64, 67, 0.15);\n",
       "      fill: #174EA6;\n",
       "    }\n",
       "\n",
       "    .colab-df-buttons div {\n",
       "      margin-bottom: 4px;\n",
       "    }\n",
       "\n",
       "    [theme=dark] .colab-df-convert {\n",
       "      background-color: #3B4455;\n",
       "      fill: #D2E3FC;\n",
       "    }\n",
       "\n",
       "    [theme=dark] .colab-df-convert:hover {\n",
       "      background-color: #434B5C;\n",
       "      box-shadow: 0px 1px 3px 1px rgba(0, 0, 0, 0.15);\n",
       "      filter: drop-shadow(0px 1px 2px rgba(0, 0, 0, 0.3));\n",
       "      fill: #FFFFFF;\n",
       "    }\n",
       "  </style>\n",
       "\n",
       "    <script>\n",
       "      const buttonEl =\n",
       "        document.querySelector('#df-fc61cc4f-5097-4d72-a132-f880575eae57 button.colab-df-convert');\n",
       "      buttonEl.style.display =\n",
       "        google.colab.kernel.accessAllowed ? 'block' : 'none';\n",
       "\n",
       "      async function convertToInteractive(key) {\n",
       "        const element = document.querySelector('#df-fc61cc4f-5097-4d72-a132-f880575eae57');\n",
       "        const dataTable =\n",
       "          await google.colab.kernel.invokeFunction('convertToInteractive',\n",
       "                                                    [key], {});\n",
       "        if (!dataTable) return;\n",
       "\n",
       "        const docLinkHtml = 'Like what you see? Visit the ' +\n",
       "          '<a target=\"_blank\" href=https://colab.research.google.com/notebooks/data_table.ipynb>data table notebook</a>'\n",
       "          + ' to learn more about interactive tables.';\n",
       "        element.innerHTML = '';\n",
       "        dataTable['output_type'] = 'display_data';\n",
       "        await google.colab.output.renderOutput(dataTable, element);\n",
       "        const docLink = document.createElement('div');\n",
       "        docLink.innerHTML = docLinkHtml;\n",
       "        element.appendChild(docLink);\n",
       "      }\n",
       "    </script>\n",
       "  </div>\n",
       "\n",
       "\n",
       "<div id=\"df-e8c897f0-cebc-4316-9a29-589f0a36bff3\">\n",
       "  <button class=\"colab-df-quickchart\" onclick=\"quickchart('df-e8c897f0-cebc-4316-9a29-589f0a36bff3')\"\n",
       "            title=\"Suggest charts\"\n",
       "            style=\"display:none;\">\n",
       "\n",
       "<svg xmlns=\"http://www.w3.org/2000/svg\" height=\"24px\"viewBox=\"0 0 24 24\"\n",
       "     width=\"24px\">\n",
       "    <g>\n",
       "        <path d=\"M19 3H5c-1.1 0-2 .9-2 2v14c0 1.1.9 2 2 2h14c1.1 0 2-.9 2-2V5c0-1.1-.9-2-2-2zM9 17H7v-7h2v7zm4 0h-2V7h2v10zm4 0h-2v-4h2v4z\"/>\n",
       "    </g>\n",
       "</svg>\n",
       "  </button>\n",
       "\n",
       "<style>\n",
       "  .colab-df-quickchart {\n",
       "      --bg-color: #E8F0FE;\n",
       "      --fill-color: #1967D2;\n",
       "      --hover-bg-color: #E2EBFA;\n",
       "      --hover-fill-color: #174EA6;\n",
       "      --disabled-fill-color: #AAA;\n",
       "      --disabled-bg-color: #DDD;\n",
       "  }\n",
       "\n",
       "  [theme=dark] .colab-df-quickchart {\n",
       "      --bg-color: #3B4455;\n",
       "      --fill-color: #D2E3FC;\n",
       "      --hover-bg-color: #434B5C;\n",
       "      --hover-fill-color: #FFFFFF;\n",
       "      --disabled-bg-color: #3B4455;\n",
       "      --disabled-fill-color: #666;\n",
       "  }\n",
       "\n",
       "  .colab-df-quickchart {\n",
       "    background-color: var(--bg-color);\n",
       "    border: none;\n",
       "    border-radius: 50%;\n",
       "    cursor: pointer;\n",
       "    display: none;\n",
       "    fill: var(--fill-color);\n",
       "    height: 32px;\n",
       "    padding: 0;\n",
       "    width: 32px;\n",
       "  }\n",
       "\n",
       "  .colab-df-quickchart:hover {\n",
       "    background-color: var(--hover-bg-color);\n",
       "    box-shadow: 0 1px 2px rgba(60, 64, 67, 0.3), 0 1px 3px 1px rgba(60, 64, 67, 0.15);\n",
       "    fill: var(--button-hover-fill-color);\n",
       "  }\n",
       "\n",
       "  .colab-df-quickchart-complete:disabled,\n",
       "  .colab-df-quickchart-complete:disabled:hover {\n",
       "    background-color: var(--disabled-bg-color);\n",
       "    fill: var(--disabled-fill-color);\n",
       "    box-shadow: none;\n",
       "  }\n",
       "\n",
       "  .colab-df-spinner {\n",
       "    border: 2px solid var(--fill-color);\n",
       "    border-color: transparent;\n",
       "    border-bottom-color: var(--fill-color);\n",
       "    animation:\n",
       "      spin 1s steps(1) infinite;\n",
       "  }\n",
       "\n",
       "  @keyframes spin {\n",
       "    0% {\n",
       "      border-color: transparent;\n",
       "      border-bottom-color: var(--fill-color);\n",
       "      border-left-color: var(--fill-color);\n",
       "    }\n",
       "    20% {\n",
       "      border-color: transparent;\n",
       "      border-left-color: var(--fill-color);\n",
       "      border-top-color: var(--fill-color);\n",
       "    }\n",
       "    30% {\n",
       "      border-color: transparent;\n",
       "      border-left-color: var(--fill-color);\n",
       "      border-top-color: var(--fill-color);\n",
       "      border-right-color: var(--fill-color);\n",
       "    }\n",
       "    40% {\n",
       "      border-color: transparent;\n",
       "      border-right-color: var(--fill-color);\n",
       "      border-top-color: var(--fill-color);\n",
       "    }\n",
       "    60% {\n",
       "      border-color: transparent;\n",
       "      border-right-color: var(--fill-color);\n",
       "    }\n",
       "    80% {\n",
       "      border-color: transparent;\n",
       "      border-right-color: var(--fill-color);\n",
       "      border-bottom-color: var(--fill-color);\n",
       "    }\n",
       "    90% {\n",
       "      border-color: transparent;\n",
       "      border-bottom-color: var(--fill-color);\n",
       "    }\n",
       "  }\n",
       "</style>\n",
       "\n",
       "  <script>\n",
       "    async function quickchart(key) {\n",
       "      const quickchartButtonEl =\n",
       "        document.querySelector('#' + key + ' button');\n",
       "      quickchartButtonEl.disabled = true;  // To prevent multiple clicks.\n",
       "      quickchartButtonEl.classList.add('colab-df-spinner');\n",
       "      try {\n",
       "        const charts = await google.colab.kernel.invokeFunction(\n",
       "            'suggestCharts', [key], {});\n",
       "      } catch (error) {\n",
       "        console.error('Error during call to suggestCharts:', error);\n",
       "      }\n",
       "      quickchartButtonEl.classList.remove('colab-df-spinner');\n",
       "      quickchartButtonEl.classList.add('colab-df-quickchart-complete');\n",
       "    }\n",
       "    (() => {\n",
       "      let quickchartButtonEl =\n",
       "        document.querySelector('#df-e8c897f0-cebc-4316-9a29-589f0a36bff3 button');\n",
       "      quickchartButtonEl.style.display =\n",
       "        google.colab.kernel.accessAllowed ? 'block' : 'none';\n",
       "    })();\n",
       "  </script>\n",
       "</div>\n",
       "    </div>\n",
       "  </div>\n"
      ],
      "text/plain": [
       "   result                                             emails  Length  \\\n",
       "0       0  Go until jurong point, crazy.. Available only ...     111   \n",
       "1       0                      Ok lar... Joking wif u oni...      29   \n",
       "2       1  Free entry in 2 a wkly comp to win FA Cup fina...     155   \n",
       "3       0  U dun say so early hor... U c already then say...      49   \n",
       "4       0  Nah I don't think he goes to usf, he lives aro...      61   \n",
       "\n",
       "   num_words  num_sentence                                     transform_text  \n",
       "0         24             2  go jurong point crazi avail bugi n great world...  \n",
       "1          8             2                              ok lar joke wif u oni  \n",
       "2         37             2  free entri 2 wkli comp win fa cup final tkt 21...  \n",
       "3         13             1                u dun say earli hor u c alreadi say  \n",
       "4         15             1            nah nt think goe usf live around though  "
      ]
     },
     "execution_count": 47,
     "metadata": {},
     "output_type": "execute_result"
    }
   ],
   "source": [
    "import string\n",
    "df_train['transform_text'] = df_train['transform_text'].str.translate(str.maketrans('', '', string.punctuation))\n",
    "\n",
    "# Head\n",
    "df_train.head()"
   ]
  },
  {
   "cell_type": "code",
   "execution_count": 110,
   "id": "-wu0tUwDcMHQ",
   "metadata": {
    "colab": {
     "base_uri": "https://localhost:8080/",
     "height": 206
    },
    "executionInfo": {
     "elapsed": 327,
     "status": "ok",
     "timestamp": 1719045827651,
     "user": {
      "displayName": "Mahesh waran",
      "userId": "01052940636805861384"
     },
     "user_tz": -60
    },
    "id": "-wu0tUwDcMHQ",
    "outputId": "2eba59ba-5f0d-4389-b6ac-bc8c954e08b1"
   },
   "outputs": [
    {
     "data": {
      "text/html": [
       "<div>\n",
       "<style scoped>\n",
       "    .dataframe tbody tr th:only-of-type {\n",
       "        vertical-align: middle;\n",
       "    }\n",
       "\n",
       "    .dataframe tbody tr th {\n",
       "        vertical-align: top;\n",
       "    }\n",
       "\n",
       "    .dataframe thead th {\n",
       "        text-align: right;\n",
       "    }\n",
       "</style>\n",
       "<table border=\"1\" class=\"dataframe\">\n",
       "  <thead>\n",
       "    <tr style=\"text-align: right;\">\n",
       "      <th></th>\n",
       "      <th>result</th>\n",
       "      <th>emails</th>\n",
       "      <th>Length</th>\n",
       "      <th>num_words</th>\n",
       "      <th>num_sentence</th>\n",
       "      <th>transform_text</th>\n",
       "    </tr>\n",
       "  </thead>\n",
       "  <tbody>\n",
       "    <tr>\n",
       "      <th>0</th>\n",
       "      <td>0</td>\n",
       "      <td>Go until jurong point, crazy.. Available only ...</td>\n",
       "      <td>111</td>\n",
       "      <td>24</td>\n",
       "      <td>2</td>\n",
       "      <td>go jurong point crazi avail bugi n great world...</td>\n",
       "    </tr>\n",
       "    <tr>\n",
       "      <th>1</th>\n",
       "      <td>0</td>\n",
       "      <td>Ok lar... Joking wif u oni...</td>\n",
       "      <td>29</td>\n",
       "      <td>8</td>\n",
       "      <td>2</td>\n",
       "      <td>ok lar joke wif u oni</td>\n",
       "    </tr>\n",
       "    <tr>\n",
       "      <th>2</th>\n",
       "      <td>1</td>\n",
       "      <td>Free entry in 2 a wkly comp to win FA Cup fina...</td>\n",
       "      <td>155</td>\n",
       "      <td>37</td>\n",
       "      <td>2</td>\n",
       "      <td>free entri 2 wkli comp win fa cup final tkt 21...</td>\n",
       "    </tr>\n",
       "    <tr>\n",
       "      <th>3</th>\n",
       "      <td>0</td>\n",
       "      <td>U dun say so early hor... U c already then say...</td>\n",
       "      <td>49</td>\n",
       "      <td>13</td>\n",
       "      <td>1</td>\n",
       "      <td>u dun say earli hor u c alreadi say</td>\n",
       "    </tr>\n",
       "    <tr>\n",
       "      <th>4</th>\n",
       "      <td>0</td>\n",
       "      <td>Nah I don't think he goes to usf, he lives aro...</td>\n",
       "      <td>61</td>\n",
       "      <td>15</td>\n",
       "      <td>1</td>\n",
       "      <td>nah nt think goe usf live around though</td>\n",
       "    </tr>\n",
       "  </tbody>\n",
       "</table>\n",
       "</div>"
      ],
      "text/plain": [
       "   result                                             emails  Length  \\\n",
       "0       0  Go until jurong point, crazy.. Available only ...     111   \n",
       "1       0                      Ok lar... Joking wif u oni...      29   \n",
       "2       1  Free entry in 2 a wkly comp to win FA Cup fina...     155   \n",
       "3       0  U dun say so early hor... U c already then say...      49   \n",
       "4       0  Nah I don't think he goes to usf, he lives aro...      61   \n",
       "\n",
       "   num_words  num_sentence                                     transform_text  \n",
       "0         24             2  go jurong point crazi avail bugi n great world...  \n",
       "1          8             2                              ok lar joke wif u oni  \n",
       "2         37             2  free entri 2 wkli comp win fa cup final tkt 21...  \n",
       "3         13             1                u dun say earli hor u c alreadi say  \n",
       "4         15             1            nah nt think goe usf live around though  "
      ]
     },
     "execution_count": 110,
     "metadata": {},
     "output_type": "execute_result"
    }
   ],
   "source": [
    "# 6. Intilize Stopwords\n",
    "stop_words = stopwords.words('english')\n",
    "\n",
    "# Apply Stopwords\n",
    "df_train['transform_text'] = df_train['transform_text'].apply(lambda x : ' '.join([word for word in x.split()if word not in (stop_words)]))\n",
    "\n",
    "# Head\n",
    "df_train.head()"
   ]
  },
  {
   "cell_type": "code",
   "execution_count": 111,
   "id": "vg-3VOUtc0m4",
   "metadata": {
    "executionInfo": {
     "elapsed": 29,
     "status": "ok",
     "timestamp": 1719045827652,
     "user": {
      "displayName": "Mahesh waran",
      "userId": "01052940636805861384"
     },
     "user_tz": -60
    },
    "id": "vg-3VOUtc0m4"
   },
   "outputs": [],
   "source": [
    "chat_words = {\n",
    "    \"AFAIK\": \"As Far As I Know\",\n",
    "    \"AFK\": \"Away From Keyboard\",\n",
    "    \"ASAP\": \"As Soon As Possible\",\n",
    "    \"ATK\": \"At The Keyboard\",\n",
    "    \"ATM\": \"At The Moment\",\n",
    "    \"A3\": \"Anytime, Anywhere, Anyplace\",\n",
    "    \"BAK\": \"Back At Keyboard\",\n",
    "    \"BBL\": \"Be Back Later\",\n",
    "    \"BBS\": \"Be Back Soon\",\n",
    "    \"BFN\": \"Bye For Now\",\n",
    "    \"B4N\": \"Bye For Now\",\n",
    "    \"BRB\": \"Be Right Back\",\n",
    "    \"BRT\": \"Be Right There\",\n",
    "    \"BTW\": \"By The Way\",\n",
    "    \"B4\": \"Before\",\n",
    "    \"B4N\": \"Bye For Now\",\n",
    "    \"CU\": \"See You\",\n",
    "    \"CUL8R\": \"See You Later\",\n",
    "    \"CYA\": \"See You\",\n",
    "    \"FAQ\": \"Frequently Asked Questions\",\n",
    "    \"FC\": \"Fingers Crossed\",\n",
    "    \"FWIW\": \"For What It's Worth\",\n",
    "    \"FYI\": \"For Your Information\",\n",
    "    \"GAL\": \"Get A Life\",\n",
    "    \"GG\": \"Good Game\",\n",
    "    \"GN\": \"Good Night\",\n",
    "    \"GMTA\": \"Great Minds Think Alike\",\n",
    "    \"GR8\": \"Great!\",\n",
    "    \"G9\": \"Genius\",\n",
    "    \"IC\": \"I See\",\n",
    "    \"ICQ\": \"I Seek you (also a chat program)\",\n",
    "    \"ILU\": \"ILU: I Love You\",\n",
    "    \"IMHO\": \"In My Honest/Humble Opinion\",\n",
    "    \"IMO\": \"In My Opinion\",\n",
    "    \"IOW\": \"In Other Words\",\n",
    "    \"IRL\": \"In Real Life\",\n",
    "    \"KISS\": \"Keep It Simple, Stupid\",\n",
    "    \"LDR\": \"Long Distance Relationship\",\n",
    "    \"LMAO\": \"Laugh My A.. Off\",\n",
    "    \"LOL\": \"Laughing Out Loud\",\n",
    "    \"LTNS\": \"Long Time No See\",\n",
    "    \"L8R\": \"Later\",\n",
    "    \"MTE\": \"My Thoughts Exactly\",\n",
    "    \"M8\": \"Mate\",\n",
    "    \"NRN\": \"No Reply Necessary\",\n",
    "    \"OIC\": \"Oh I See\",\n",
    "    \"PITA\": \"Pain In The A..\",\n",
    "    \"PRT\": \"Party\",\n",
    "    \"PRW\": \"Parents Are Watching\",\n",
    "    \"QPSA?\": \"Que Pasa?\",\n",
    "    \"ROFL\": \"Rolling On The Floor Laughing\",\n",
    "    \"ROFLOL\": \"Rolling On The Floor Laughing Out Loud\",\n",
    "    \"ROTFLMAO\": \"Rolling On The Floor Laughing My A.. Off\",\n",
    "    \"SK8\": \"Skate\",\n",
    "    \"STATS\": \"Your sex and age\",\n",
    "    \"ASL\": \"Age, Sex, Location\",\n",
    "    \"THX\": \"Thank You\",\n",
    "    \"TTFN\": \"Ta-Ta For Now!\",\n",
    "    \"TTYL\": \"Talk To You Later\",\n",
    "    \"U\": \"You\",\n",
    "    \"U2\": \"You Too\",\n",
    "    \"U4E\": \"Yours For Ever\",\n",
    "    \"WB\": \"Welcome Back\",\n",
    "    \"WTF\": \"What The F...\",\n",
    "    \"WTG\": \"Way To Go!\",\n",
    "    \"WUF\": \"Where Are You From?\",\n",
    "    \"W8\": \"Wait...\",\n",
    "    \"7K\": \"Sick:-D Laugher\",\n",
    "    \"TFW\": \"That feeling when\",\n",
    "    \"MFW\": \"My face when\",\n",
    "    \"MRW\": \"My reaction when\",\n",
    "    \"IFYP\": \"I feel your pain\",\n",
    "    \"TNTL\": \"Trying not to laugh\",\n",
    "    \"JK\": \"Just kidding\",\n",
    "    \"IDC\": \"I don't care\",\n",
    "    \"ILY\": \"I love you\",\n",
    "    \"IMU\": \"I miss you\",\n",
    "    \"ADIH\": \"Another day in hell\",\n",
    "    \"ZZZ\": \"Sleeping, bored, tired\",\n",
    "    \"WYWH\": \"Wish you were here\",\n",
    "    \"TIME\": \"Tears in my eyes\",\n",
    "    \"BAE\": \"Before anyone else\",\n",
    "    \"FIMH\": \"Forever in my heart\",\n",
    "    \"BSAAW\": \"Big smile and a wink\",\n",
    "    \"BWL\": \"Bursting with laughter\",\n",
    "    \"BFF\": \"Best friends forever\",\n",
    "    \"CSL\": \"Can't stop laughing\"\n",
    "}"
   ]
  },
  {
   "cell_type": "code",
   "execution_count": 112,
   "id": "f86xbUJscMKF",
   "metadata": {
    "colab": {
     "base_uri": "https://localhost:8080/",
     "height": 206
    },
    "executionInfo": {
     "elapsed": 28,
     "status": "ok",
     "timestamp": 1719045827652,
     "user": {
      "displayName": "Mahesh waran",
      "userId": "01052940636805861384"
     },
     "user_tz": -60
    },
    "id": "f86xbUJscMKF",
    "outputId": "9b15f30f-4734-4184-dde1-9839b238f526"
   },
   "outputs": [
    {
     "data": {
      "text/html": [
       "<div>\n",
       "<style scoped>\n",
       "    .dataframe tbody tr th:only-of-type {\n",
       "        vertical-align: middle;\n",
       "    }\n",
       "\n",
       "    .dataframe tbody tr th {\n",
       "        vertical-align: top;\n",
       "    }\n",
       "\n",
       "    .dataframe thead th {\n",
       "        text-align: right;\n",
       "    }\n",
       "</style>\n",
       "<table border=\"1\" class=\"dataframe\">\n",
       "  <thead>\n",
       "    <tr style=\"text-align: right;\">\n",
       "      <th></th>\n",
       "      <th>result</th>\n",
       "      <th>emails</th>\n",
       "      <th>Length</th>\n",
       "      <th>num_words</th>\n",
       "      <th>num_sentence</th>\n",
       "      <th>transform_text</th>\n",
       "    </tr>\n",
       "  </thead>\n",
       "  <tbody>\n",
       "    <tr>\n",
       "      <th>0</th>\n",
       "      <td>0</td>\n",
       "      <td>Go until jurong point, crazy.. Available only ...</td>\n",
       "      <td>111</td>\n",
       "      <td>24</td>\n",
       "      <td>2</td>\n",
       "      <td>go jurong point crazi avail bugi n great world...</td>\n",
       "    </tr>\n",
       "    <tr>\n",
       "      <th>1</th>\n",
       "      <td>0</td>\n",
       "      <td>Ok lar... Joking wif u oni...</td>\n",
       "      <td>29</td>\n",
       "      <td>8</td>\n",
       "      <td>2</td>\n",
       "      <td>ok lar joke wif You oni</td>\n",
       "    </tr>\n",
       "    <tr>\n",
       "      <th>2</th>\n",
       "      <td>1</td>\n",
       "      <td>Free entry in 2 a wkly comp to win FA Cup fina...</td>\n",
       "      <td>155</td>\n",
       "      <td>37</td>\n",
       "      <td>2</td>\n",
       "      <td>free entri 2 wkli comp win fa cup final tkt 21...</td>\n",
       "    </tr>\n",
       "    <tr>\n",
       "      <th>3</th>\n",
       "      <td>0</td>\n",
       "      <td>U dun say so early hor... U c already then say...</td>\n",
       "      <td>49</td>\n",
       "      <td>13</td>\n",
       "      <td>1</td>\n",
       "      <td>You dun say earli hor You c alreadi say</td>\n",
       "    </tr>\n",
       "    <tr>\n",
       "      <th>4</th>\n",
       "      <td>0</td>\n",
       "      <td>Nah I don't think he goes to usf, he lives aro...</td>\n",
       "      <td>61</td>\n",
       "      <td>15</td>\n",
       "      <td>1</td>\n",
       "      <td>nah nt think goe usf live around though</td>\n",
       "    </tr>\n",
       "  </tbody>\n",
       "</table>\n",
       "</div>"
      ],
      "text/plain": [
       "   result                                             emails  Length  \\\n",
       "0       0  Go until jurong point, crazy.. Available only ...     111   \n",
       "1       0                      Ok lar... Joking wif u oni...      29   \n",
       "2       1  Free entry in 2 a wkly comp to win FA Cup fina...     155   \n",
       "3       0  U dun say so early hor... U c already then say...      49   \n",
       "4       0  Nah I don't think he goes to usf, he lives aro...      61   \n",
       "\n",
       "   num_words  num_sentence                                     transform_text  \n",
       "0         24             2  go jurong point crazi avail bugi n great world...  \n",
       "1          8             2                            ok lar joke wif You oni  \n",
       "2         37             2  free entri 2 wkli comp win fa cup final tkt 21...  \n",
       "3         13             1            You dun say earli hor You c alreadi say  \n",
       "4         15             1            nah nt think goe usf live around though  "
      ]
     },
     "execution_count": 112,
     "metadata": {},
     "output_type": "execute_result"
    }
   ],
   "source": [
    "def chat_conversion(text):\n",
    "    new_text = []\n",
    "    for i in text.split():\n",
    "        if i.upper() in chat_words:\n",
    "            new_text.append(chat_words[i.upper()])\n",
    "        else:\n",
    "            new_text.append(i)\n",
    "    return \" \".join(new_text)\n",
    "\n",
    "# Calling Function\n",
    "df_train['transform_text'] = df_train['transform_text'].apply(chat_conversion)\n",
    "\n",
    "# Head\n",
    "df_train.head()\n"
   ]
  },
  {
   "cell_type": "code",
   "execution_count": 113,
   "id": "Ypye95Z3cyD3",
   "metadata": {
    "colab": {
     "base_uri": "https://localhost:8080/",
     "height": 206
    },
    "executionInfo": {
     "elapsed": 28,
     "status": "ok",
     "timestamp": 1719045827653,
     "user": {
      "displayName": "Mahesh waran",
      "userId": "01052940636805861384"
     },
     "user_tz": -60
    },
    "id": "Ypye95Z3cyD3",
    "outputId": "0bb1eff1-51fd-43b2-f64b-35e30e6e1b5c"
   },
   "outputs": [
    {
     "data": {
      "text/html": [
       "<div>\n",
       "<style scoped>\n",
       "    .dataframe tbody tr th:only-of-type {\n",
       "        vertical-align: middle;\n",
       "    }\n",
       "\n",
       "    .dataframe tbody tr th {\n",
       "        vertical-align: top;\n",
       "    }\n",
       "\n",
       "    .dataframe thead th {\n",
       "        text-align: right;\n",
       "    }\n",
       "</style>\n",
       "<table border=\"1\" class=\"dataframe\">\n",
       "  <thead>\n",
       "    <tr style=\"text-align: right;\">\n",
       "      <th></th>\n",
       "      <th>result</th>\n",
       "      <th>emails</th>\n",
       "      <th>Length</th>\n",
       "      <th>num_words</th>\n",
       "      <th>num_sentence</th>\n",
       "      <th>transform_text</th>\n",
       "    </tr>\n",
       "  </thead>\n",
       "  <tbody>\n",
       "    <tr>\n",
       "      <th>0</th>\n",
       "      <td>0</td>\n",
       "      <td>Go until jurong point, crazy.. Available only ...</td>\n",
       "      <td>111</td>\n",
       "      <td>24</td>\n",
       "      <td>2</td>\n",
       "      <td>go jurong point crazi avail bugi n great world...</td>\n",
       "    </tr>\n",
       "    <tr>\n",
       "      <th>1</th>\n",
       "      <td>0</td>\n",
       "      <td>Ok lar... Joking wif u oni...</td>\n",
       "      <td>29</td>\n",
       "      <td>8</td>\n",
       "      <td>2</td>\n",
       "      <td>ok lar joke wif You oni</td>\n",
       "    </tr>\n",
       "    <tr>\n",
       "      <th>2</th>\n",
       "      <td>1</td>\n",
       "      <td>Free entry in 2 a wkly comp to win FA Cup fina...</td>\n",
       "      <td>155</td>\n",
       "      <td>37</td>\n",
       "      <td>2</td>\n",
       "      <td>free entri 2 wkli comp win fa cup final tkt 21...</td>\n",
       "    </tr>\n",
       "    <tr>\n",
       "      <th>3</th>\n",
       "      <td>0</td>\n",
       "      <td>U dun say so early hor... U c already then say...</td>\n",
       "      <td>49</td>\n",
       "      <td>13</td>\n",
       "      <td>1</td>\n",
       "      <td>You dun say earli hor You c alreadi say</td>\n",
       "    </tr>\n",
       "    <tr>\n",
       "      <th>4</th>\n",
       "      <td>0</td>\n",
       "      <td>Nah I don't think he goes to usf, he lives aro...</td>\n",
       "      <td>61</td>\n",
       "      <td>15</td>\n",
       "      <td>1</td>\n",
       "      <td>nah nt think goe usf live around though</td>\n",
       "    </tr>\n",
       "  </tbody>\n",
       "</table>\n",
       "</div>"
      ],
      "text/plain": [
       "   result                                             emails  Length  \\\n",
       "0       0  Go until jurong point, crazy.. Available only ...     111   \n",
       "1       0                      Ok lar... Joking wif u oni...      29   \n",
       "2       1  Free entry in 2 a wkly comp to win FA Cup fina...     155   \n",
       "3       0  U dun say so early hor... U c already then say...      49   \n",
       "4       0  Nah I don't think he goes to usf, he lives aro...      61   \n",
       "\n",
       "   num_words  num_sentence                                     transform_text  \n",
       "0         24             2  go jurong point crazi avail bugi n great world...  \n",
       "1          8             2                            ok lar joke wif You oni  \n",
       "2         37             2  free entri 2 wkli comp win fa cup final tkt 21...  \n",
       "3         13             1            You dun say earli hor You c alreadi say  \n",
       "4         15             1            nah nt think goe usf live around though  "
      ]
     },
     "execution_count": 113,
     "metadata": {},
     "output_type": "execute_result"
    }
   ],
   "source": [
    "# 7. Handling ChatWords\n",
    "# Function\n",
    "def chat_conversion(text):\n",
    "    new_text = []\n",
    "    for i in text.split():\n",
    "        if i.upper() in chat_words:\n",
    "            new_text.append(chat_words[i.upper()])\n",
    "        else:\n",
    "            new_text.append(i)\n",
    "    return \" \".join(new_text)\n",
    "\n",
    "# Calling Function\n",
    "df_train['transform_text'] = df_train['transform_text'].apply(chat_conversion)\n",
    "\n",
    "# Head\n",
    "df_train.head()\n"
   ]
  },
  {
   "cell_type": "code",
   "execution_count": 114,
   "id": "JxRSWXDocMNf",
   "metadata": {
    "colab": {
     "base_uri": "https://localhost:8080/",
     "height": 275
    },
    "executionInfo": {
     "elapsed": 345,
     "status": "ok",
     "timestamp": 1719045827971,
     "user": {
      "displayName": "Mahesh waran",
      "userId": "01052940636805861384"
     },
     "user_tz": -60
    },
    "id": "JxRSWXDocMNf",
    "outputId": "db705ac5-fac8-4eec-d347-fef61c5058b6"
   },
   "outputs": [
    {
     "data": {
      "text/html": [
       "<div>\n",
       "<style scoped>\n",
       "    .dataframe tbody tr th:only-of-type {\n",
       "        vertical-align: middle;\n",
       "    }\n",
       "\n",
       "    .dataframe tbody tr th {\n",
       "        vertical-align: top;\n",
       "    }\n",
       "\n",
       "    .dataframe thead th {\n",
       "        text-align: right;\n",
       "    }\n",
       "</style>\n",
       "<table border=\"1\" class=\"dataframe\">\n",
       "  <thead>\n",
       "    <tr style=\"text-align: right;\">\n",
       "      <th></th>\n",
       "      <th>result</th>\n",
       "      <th>emails</th>\n",
       "      <th>Length</th>\n",
       "      <th>num_words</th>\n",
       "      <th>num_sentence</th>\n",
       "      <th>transform_text</th>\n",
       "      <th>text_sent_token</th>\n",
       "    </tr>\n",
       "  </thead>\n",
       "  <tbody>\n",
       "    <tr>\n",
       "      <th>0</th>\n",
       "      <td>0</td>\n",
       "      <td>Go until jurong point, crazy.. Available only ...</td>\n",
       "      <td>111</td>\n",
       "      <td>24</td>\n",
       "      <td>2</td>\n",
       "      <td>go jurong point crazi avail bugi n great world...</td>\n",
       "      <td>[go jurong point crazi avail bugi n great worl...</td>\n",
       "    </tr>\n",
       "    <tr>\n",
       "      <th>1</th>\n",
       "      <td>0</td>\n",
       "      <td>Ok lar... Joking wif u oni...</td>\n",
       "      <td>29</td>\n",
       "      <td>8</td>\n",
       "      <td>2</td>\n",
       "      <td>ok lar joke wif You oni</td>\n",
       "      <td>[ok lar joke wif You oni]</td>\n",
       "    </tr>\n",
       "    <tr>\n",
       "      <th>2</th>\n",
       "      <td>1</td>\n",
       "      <td>Free entry in 2 a wkly comp to win FA Cup fina...</td>\n",
       "      <td>155</td>\n",
       "      <td>37</td>\n",
       "      <td>2</td>\n",
       "      <td>free entri 2 wkli comp win fa cup final tkt 21...</td>\n",
       "      <td>[free entri 2 wkli comp win fa cup final tkt 2...</td>\n",
       "    </tr>\n",
       "    <tr>\n",
       "      <th>3</th>\n",
       "      <td>0</td>\n",
       "      <td>U dun say so early hor... U c already then say...</td>\n",
       "      <td>49</td>\n",
       "      <td>13</td>\n",
       "      <td>1</td>\n",
       "      <td>You dun say earli hor You c alreadi say</td>\n",
       "      <td>[You dun say earli hor You c alreadi say]</td>\n",
       "    </tr>\n",
       "    <tr>\n",
       "      <th>4</th>\n",
       "      <td>0</td>\n",
       "      <td>Nah I don't think he goes to usf, he lives aro...</td>\n",
       "      <td>61</td>\n",
       "      <td>15</td>\n",
       "      <td>1</td>\n",
       "      <td>nah nt think goe usf live around though</td>\n",
       "      <td>[nah nt think goe usf live around though]</td>\n",
       "    </tr>\n",
       "  </tbody>\n",
       "</table>\n",
       "</div>"
      ],
      "text/plain": [
       "   result                                             emails  Length  \\\n",
       "0       0  Go until jurong point, crazy.. Available only ...     111   \n",
       "1       0                      Ok lar... Joking wif u oni...      29   \n",
       "2       1  Free entry in 2 a wkly comp to win FA Cup fina...     155   \n",
       "3       0  U dun say so early hor... U c already then say...      49   \n",
       "4       0  Nah I don't think he goes to usf, he lives aro...      61   \n",
       "\n",
       "   num_words  num_sentence                                     transform_text  \\\n",
       "0         24             2  go jurong point crazi avail bugi n great world...   \n",
       "1          8             2                            ok lar joke wif You oni   \n",
       "2         37             2  free entri 2 wkli comp win fa cup final tkt 21...   \n",
       "3         13             1            You dun say earli hor You c alreadi say   \n",
       "4         15             1            nah nt think goe usf live around though   \n",
       "\n",
       "                                     text_sent_token  \n",
       "0  [go jurong point crazi avail bugi n great worl...  \n",
       "1                          [ok lar joke wif You oni]  \n",
       "2  [free entri 2 wkli comp win fa cup final tkt 2...  \n",
       "3          [You dun say earli hor You c alreadi say]  \n",
       "4          [nah nt think goe usf live around though]  "
      ]
     },
     "execution_count": 114,
     "metadata": {},
     "output_type": "execute_result"
    }
   ],
   "source": [
    "# 8. Tokenization\n",
    "from nltk.tokenize import sent_tokenize\n",
    "\n",
    "# Apply sent_tokenize\n",
    "df_train['text_sent_token'] = df_train['transform_text'].apply(sent_tokenize)\n",
    "\n",
    "# Head\n",
    "df_train.head()"
   ]
  },
  {
   "cell_type": "code",
   "execution_count": 115,
   "id": "dVtoc4FVdLeh",
   "metadata": {
    "colab": {
     "base_uri": "https://localhost:8080/"
    },
    "executionInfo": {
     "elapsed": 8,
     "status": "ok",
     "timestamp": 1719045827972,
     "user": {
      "displayName": "Mahesh waran",
      "userId": "01052940636805861384"
     },
     "user_tz": -60
    },
    "id": "dVtoc4FVdLeh",
    "outputId": "d22d8fea-dca9-4ee3-b0bb-e7892106f9e2"
   },
   "outputs": [
    {
     "name": "stderr",
     "output_type": "stream",
     "text": [
      "[nltk_data] Downloading package punkt to /home/mulombi/nltk_data...\n",
      "[nltk_data]   Package punkt is already up-to-date!\n",
      "[nltk_data] Downloading package stopwords to\n",
      "[nltk_data]     /home/mulombi/nltk_data...\n",
      "[nltk_data]   Package stopwords is already up-to-date!\n",
      "[nltk_data] Downloading package wordnet to /home/mulombi/nltk_data...\n"
     ]
    },
    {
     "data": {
      "text/plain": [
       "True"
      ]
     },
     "execution_count": 115,
     "metadata": {},
     "output_type": "execute_result"
    }
   ],
   "source": [
    "import nltk\n",
    "nltk.download('punkt')\n",
    "nltk.download('stopwords')\n",
    "nltk.download('wordnet')"
   ]
  },
  {
   "cell_type": "code",
   "execution_count": 116,
   "id": "D47YMNyrdL2O",
   "metadata": {
    "colab": {
     "base_uri": "https://localhost:8080/",
     "height": 275
    },
    "executionInfo": {
     "elapsed": 790,
     "status": "ok",
     "timestamp": 1719045828759,
     "user": {
      "displayName": "Mahesh waran",
      "userId": "01052940636805861384"
     },
     "user_tz": -60
    },
    "id": "D47YMNyrdL2O",
    "outputId": "61a99a4b-238b-4090-d5a4-e8eff8f73fb6"
   },
   "outputs": [
    {
     "data": {
      "text/html": [
       "<div>\n",
       "<style scoped>\n",
       "    .dataframe tbody tr th:only-of-type {\n",
       "        vertical-align: middle;\n",
       "    }\n",
       "\n",
       "    .dataframe tbody tr th {\n",
       "        vertical-align: top;\n",
       "    }\n",
       "\n",
       "    .dataframe thead th {\n",
       "        text-align: right;\n",
       "    }\n",
       "</style>\n",
       "<table border=\"1\" class=\"dataframe\">\n",
       "  <thead>\n",
       "    <tr style=\"text-align: right;\">\n",
       "      <th></th>\n",
       "      <th>result</th>\n",
       "      <th>emails</th>\n",
       "      <th>Length</th>\n",
       "      <th>num_words</th>\n",
       "      <th>num_sentence</th>\n",
       "      <th>transform_text</th>\n",
       "      <th>text_sent_token</th>\n",
       "      <th>stem_msg</th>\n",
       "    </tr>\n",
       "  </thead>\n",
       "  <tbody>\n",
       "    <tr>\n",
       "      <th>0</th>\n",
       "      <td>0</td>\n",
       "      <td>Go until jurong point, crazy.. Available only ...</td>\n",
       "      <td>111</td>\n",
       "      <td>24</td>\n",
       "      <td>2</td>\n",
       "      <td>go jurong point crazi avail bugi n great world...</td>\n",
       "      <td>[go jurong point crazi avail bugi n great worl...</td>\n",
       "      <td>go jurong point crazi avail bugi n great world...</td>\n",
       "    </tr>\n",
       "    <tr>\n",
       "      <th>1</th>\n",
       "      <td>0</td>\n",
       "      <td>Ok lar... Joking wif u oni...</td>\n",
       "      <td>29</td>\n",
       "      <td>8</td>\n",
       "      <td>2</td>\n",
       "      <td>ok lar joke wif You oni</td>\n",
       "      <td>[ok lar joke wif You oni]</td>\n",
       "      <td>ok lar joke wif you oni</td>\n",
       "    </tr>\n",
       "    <tr>\n",
       "      <th>2</th>\n",
       "      <td>1</td>\n",
       "      <td>Free entry in 2 a wkly comp to win FA Cup fina...</td>\n",
       "      <td>155</td>\n",
       "      <td>37</td>\n",
       "      <td>2</td>\n",
       "      <td>free entri 2 wkli comp win fa cup final tkt 21...</td>\n",
       "      <td>[free entri 2 wkli comp win fa cup final tkt 2...</td>\n",
       "      <td>free entri 2 wkli comp win fa cup final tkt 21...</td>\n",
       "    </tr>\n",
       "    <tr>\n",
       "      <th>3</th>\n",
       "      <td>0</td>\n",
       "      <td>U dun say so early hor... U c already then say...</td>\n",
       "      <td>49</td>\n",
       "      <td>13</td>\n",
       "      <td>1</td>\n",
       "      <td>You dun say earli hor You c alreadi say</td>\n",
       "      <td>[You dun say earli hor You c alreadi say]</td>\n",
       "      <td>you dun say earli hor you c alreadi say</td>\n",
       "    </tr>\n",
       "    <tr>\n",
       "      <th>4</th>\n",
       "      <td>0</td>\n",
       "      <td>Nah I don't think he goes to usf, he lives aro...</td>\n",
       "      <td>61</td>\n",
       "      <td>15</td>\n",
       "      <td>1</td>\n",
       "      <td>nah nt think goe usf live around though</td>\n",
       "      <td>[nah nt think goe usf live around though]</td>\n",
       "      <td>nah nt think goe usf live around though</td>\n",
       "    </tr>\n",
       "  </tbody>\n",
       "</table>\n",
       "</div>"
      ],
      "text/plain": [
       "   result                                             emails  Length  \\\n",
       "0       0  Go until jurong point, crazy.. Available only ...     111   \n",
       "1       0                      Ok lar... Joking wif u oni...      29   \n",
       "2       1  Free entry in 2 a wkly comp to win FA Cup fina...     155   \n",
       "3       0  U dun say so early hor... U c already then say...      49   \n",
       "4       0  Nah I don't think he goes to usf, he lives aro...      61   \n",
       "\n",
       "   num_words  num_sentence                                     transform_text  \\\n",
       "0         24             2  go jurong point crazi avail bugi n great world...   \n",
       "1          8             2                            ok lar joke wif You oni   \n",
       "2         37             2  free entri 2 wkli comp win fa cup final tkt 21...   \n",
       "3         13             1            You dun say earli hor You c alreadi say   \n",
       "4         15             1            nah nt think goe usf live around though   \n",
       "\n",
       "                                     text_sent_token  \\\n",
       "0  [go jurong point crazi avail bugi n great worl...   \n",
       "1                          [ok lar joke wif You oni]   \n",
       "2  [free entri 2 wkli comp win fa cup final tkt 2...   \n",
       "3          [You dun say earli hor You c alreadi say]   \n",
       "4          [nah nt think goe usf live around though]   \n",
       "\n",
       "                                            stem_msg  \n",
       "0  go jurong point crazi avail bugi n great world...  \n",
       "1                            ok lar joke wif you oni  \n",
       "2  free entri 2 wkli comp win fa cup final tkt 21...  \n",
       "3            you dun say earli hor you c alreadi say  \n",
       "4            nah nt think goe usf live around though  "
      ]
     },
     "execution_count": 116,
     "metadata": {},
     "output_type": "execute_result"
    }
   ],
   "source": [
    "# 9. Stemming\n",
    "\n",
    "# Intilize Stemmer\n",
    "stemmer = PorterStemmer()\n",
    "\n",
    "# This Function Will Stem Words\n",
    "def stem_words(text):\n",
    "    return \" \".join([stemmer.stem(word) for word in text.split()])\n",
    "\n",
    "# Calling\n",
    "df_train['stem_msg'] = df_train['transform_text'].apply(stem_words)\n",
    "\n",
    "# Head\n",
    "df_train.head()"
   ]
  },
  {
   "cell_type": "code",
   "execution_count": 117,
   "id": "rUj_9dVudL4_",
   "metadata": {
    "executionInfo": {
     "elapsed": 6,
     "status": "ok",
     "timestamp": 1719045828760,
     "user": {
      "displayName": "Mahesh waran",
      "userId": "01052940636805861384"
     },
     "user_tz": -60
    },
    "id": "rUj_9dVudL4_"
   },
   "outputs": [],
   "source": [
    "cv = CountVectorizer()"
   ]
  },
  {
   "cell_type": "code",
   "execution_count": 118,
   "id": "pR4iJMpudL7d",
   "metadata": {
    "executionInfo": {
     "elapsed": 264,
     "status": "ok",
     "timestamp": 1719045829268,
     "user": {
      "displayName": "Mahesh waran",
      "userId": "01052940636805861384"
     },
     "user_tz": -60
    },
    "id": "pR4iJMpudL7d"
   },
   "outputs": [],
   "source": [
    "X = cv.fit_transform(df_train['stem_msg']).toarray()"
   ]
  },
  {
   "cell_type": "code",
   "execution_count": 119,
   "id": "KI88fyzPdL-V",
   "metadata": {
    "executionInfo": {
     "elapsed": 9,
     "status": "ok",
     "timestamp": 1719045829268,
     "user": {
      "displayName": "Mahesh waran",
      "userId": "01052940636805861384"
     },
     "user_tz": -60
    },
    "id": "KI88fyzPdL-V"
   },
   "outputs": [],
   "source": [
    "# Intlize CountVectorizer\n",
    "cv = CountVectorizer()\n",
    "\n",
    "# Fitting CountVectorizer on X\n",
    "X = cv.fit_transform(df_train['stem_msg']).toarray()"
   ]
  },
  {
   "cell_type": "code",
   "execution_count": 120,
   "id": "ZFXy8z_bdMA2",
   "metadata": {
    "colab": {
     "base_uri": "https://localhost:8080/"
    },
    "executionInfo": {
     "elapsed": 8,
     "status": "ok",
     "timestamp": 1719045829268,
     "user": {
      "displayName": "Mahesh waran",
      "userId": "01052940636805861384"
     },
     "user_tz": -60
    },
    "id": "ZFXy8z_bdMA2",
    "outputId": "638edbc1-a68f-4384-f327-e920e0d93e4c"
   },
   "outputs": [
    {
     "data": {
      "text/plain": [
       "(5169, 7510)"
      ]
     },
     "execution_count": 120,
     "metadata": {},
     "output_type": "execute_result"
    }
   ],
   "source": [
    "X.shape"
   ]
  },
  {
   "cell_type": "code",
   "execution_count": 121,
   "id": "MLRzYD_NdMDS",
   "metadata": {
    "executionInfo": {
     "elapsed": 6,
     "status": "ok",
     "timestamp": 1719045829269,
     "user": {
      "displayName": "Mahesh waran",
      "userId": "01052940636805861384"
     },
     "user_tz": -60
    },
    "id": "MLRzYD_NdMDS"
   },
   "outputs": [],
   "source": [
    "y = df_train['result']"
   ]
  },
  {
   "cell_type": "code",
   "execution_count": 122,
   "id": "31FdSuI9dMGs",
   "metadata": {
    "colab": {
     "base_uri": "https://localhost:8080/"
    },
    "executionInfo": {
     "elapsed": 5,
     "status": "ok",
     "timestamp": 1719045829269,
     "user": {
      "displayName": "Mahesh waran",
      "userId": "01052940636805861384"
     },
     "user_tz": -60
    },
    "id": "31FdSuI9dMGs",
    "outputId": "05c3c1bc-11de-4802-a96d-c9c4e8d74e0f"
   },
   "outputs": [
    {
     "data": {
      "text/plain": [
       "(5169,)"
      ]
     },
     "execution_count": 122,
     "metadata": {},
     "output_type": "execute_result"
    }
   ],
   "source": [
    "y.shape"
   ]
  },
  {
   "cell_type": "code",
   "execution_count": 123,
   "id": "C6ATfQoDefgb",
   "metadata": {
    "colab": {
     "base_uri": "https://localhost:8080/"
    },
    "executionInfo": {
     "elapsed": 281,
     "status": "ok",
     "timestamp": 1719045829547,
     "user": {
      "displayName": "Mahesh waran",
      "userId": "01052940636805861384"
     },
     "user_tz": -60
    },
    "id": "C6ATfQoDefgb",
    "outputId": "8f48ff1e-9ae1-4e3f-f8bd-fc56bc65e2f9"
   },
   "outputs": [
    {
     "data": {
      "text/plain": [
       "array([0, 0, 1, ..., 0, 0, 0])"
      ]
     },
     "execution_count": 123,
     "metadata": {},
     "output_type": "execute_result"
    }
   ],
   "source": [
    "from sklearn.preprocessing import LabelEncoder\n",
    "le = LabelEncoder()\n",
    "\n",
    "# Fitting Encoder\n",
    "y = le.fit_transform(y)\n",
    "\n",
    "# Y Values\n",
    "y"
   ]
  },
  {
   "cell_type": "code",
   "execution_count": 124,
   "id": "rob-yyv9efjr",
   "metadata": {
    "executionInfo": {
     "elapsed": 5,
     "status": "ok",
     "timestamp": 1719045829547,
     "user": {
      "displayName": "Mahesh waran",
      "userId": "01052940636805861384"
     },
     "user_tz": -60
    },
    "id": "rob-yyv9efjr"
   },
   "outputs": [],
   "source": [
    "#Train Test Split\n",
    "X_train, X_test, y_train, y_test = train_test_split(X, y, test_size=0.2, random_state=0)"
   ]
  },
  {
   "cell_type": "code",
   "execution_count": 125,
   "id": "KLWLFWV_efm-",
   "metadata": {
    "executionInfo": {
     "elapsed": 4,
     "status": "ok",
     "timestamp": 1719045829547,
     "user": {
      "displayName": "Mahesh waran",
      "userId": "01052940636805861384"
     },
     "user_tz": -60
    },
    "id": "KLWLFWV_efm-"
   },
   "outputs": [],
   "source": [
    "svc = SVC(kernel='sigmoid', gamma=1.0)\n",
    "knc = KNeighborsClassifier()\n",
    "mnb = MultinomialNB()\n",
    "dtc = DecisionTreeClassifier(max_depth=5)\n",
    "lrc = LogisticRegression(solver='liblinear', penalty='l1')\n",
    "rfc = RandomForestClassifier(n_estimators=50, random_state=2)\n",
    "etc = ExtraTreesClassifier(n_estimators=50, random_state=2)\n",
    "abc = AdaBoostClassifier(n_estimators=50, random_state=2)\n",
    "xgb = XGBClassifier(n_estimators=50, random_state=2)"
   ]
  },
  {
   "cell_type": "code",
   "execution_count": 126,
   "id": "qyxW0qB1gO30",
   "metadata": {
    "executionInfo": {
     "elapsed": 281,
     "status": "ok",
     "timestamp": 1719046531271,
     "user": {
      "displayName": "Mahesh waran",
      "userId": "01052940636805861384"
     },
     "user_tz": -60
    },
    "id": "qyxW0qB1gO30"
   },
   "outputs": [],
   "source": [
    "# Initlize Models\n",
    "# Support Vector MAchine\n",
    "svc = SVC(kernel='sigmoid', gamma=1.0)\n",
    "# KNeighbours\n",
    "knc = KNeighborsClassifier()\n",
    "# Multinomial NaiveBayes\n",
    "mnb = MultinomialNB()\n",
    "# Decision Tree\n",
    "dtc = DecisionTreeClassifier(max_depth=5)\n",
    "# Logistic Regression\n",
    "lrc = LogisticRegression(solver='liblinear', penalty='l1')\n",
    "# Random Forest Classifier\n",
    "rfc = RandomForestClassifier(n_estimators=50, random_state=2)\n",
    "# AddaBoost Classifier\n",
    "abc = AdaBoostClassifier(n_estimators=50, random_state=2)\n",
    "# Extra Tree Classifier a Ensemble Method\n",
    "etc = ExtraTreesClassifier(n_estimators=50, random_state=2)\n",
    "# XGB Classifier\n",
    "xgb = XGBClassifier(n_estimators=50,random_state=2)"
   ]
  },
  {
   "cell_type": "code",
   "execution_count": 127,
   "id": "-BwGs_TSgQl_",
   "metadata": {
    "executionInfo": {
     "elapsed": 17736,
     "status": "ok",
     "timestamp": 1719046552496,
     "user": {
      "displayName": "Mahesh waran",
      "userId": "01052940636805861384"
     },
     "user_tz": -60
    },
    "id": "-BwGs_TSgQl_"
   },
   "outputs": [],
   "source": [
    "svc.fit(X_train, y_train)\n",
    "svc_pred = svc.predict(X_test)"
   ]
  },
  {
   "cell_type": "code",
   "execution_count": 128,
   "id": "SBX9_1NrgQyD",
   "metadata": {
    "executionInfo": {
     "elapsed": 3709,
     "status": "ok",
     "timestamp": 1719045850143,
     "user": {
      "displayName": "Mahesh waran",
      "userId": "01052940636805861384"
     },
     "user_tz": -60
    },
    "id": "SBX9_1NrgQyD"
   },
   "outputs": [],
   "source": [
    "knc.fit(X_train, y_train)\n",
    "knn_pred = knc.predict(X_test)"
   ]
  },
  {
   "cell_type": "code",
   "execution_count": 129,
   "id": "_KLh8f7ogQ1Y",
   "metadata": {
    "executionInfo": {
     "elapsed": 10,
     "status": "ok",
     "timestamp": 1719045850147,
     "user": {
      "displayName": "Mahesh waran",
      "userId": "01052940636805861384"
     },
     "user_tz": -60
    },
    "id": "_KLh8f7ogQ1Y"
   },
   "outputs": [],
   "source": [
    "mnb.fit(X_train, y_train)\n",
    "mnb_pred = mnb.predict(X_test)"
   ]
  },
  {
   "cell_type": "code",
   "execution_count": 130,
   "id": "-DZiaH3XgfeO",
   "metadata": {
    "executionInfo": {
     "elapsed": 1829,
     "status": "ok",
     "timestamp": 1719045851967,
     "user": {
      "displayName": "Mahesh waran",
      "userId": "01052940636805861384"
     },
     "user_tz": -60
    },
    "id": "-DZiaH3XgfeO"
   },
   "outputs": [],
   "source": [
    "dtc.fit(X_train, y_train)\n",
    "dtc_pred = dtc.predict(X_test)"
   ]
  },
  {
   "cell_type": "code",
   "execution_count": 131,
   "id": "fh_PG5fEgfqU",
   "metadata": {
    "executionInfo": {
     "elapsed": 350,
     "status": "ok",
     "timestamp": 1719045852305,
     "user": {
      "displayName": "Mahesh waran",
      "userId": "01052940636805861384"
     },
     "user_tz": -60
    },
    "id": "fh_PG5fEgfqU"
   },
   "outputs": [],
   "source": [
    "lrc.fit(X_train, y_train)\n",
    "lrc_pred = lrc.predict(X_test)"
   ]
  },
  {
   "cell_type": "code",
   "execution_count": 132,
   "id": "-GQCANlZgftg",
   "metadata": {
    "executionInfo": {
     "elapsed": 9837,
     "status": "ok",
     "timestamp": 1719045862139,
     "user": {
      "displayName": "Mahesh waran",
      "userId": "01052940636805861384"
     },
     "user_tz": -60
    },
    "id": "-GQCANlZgftg"
   },
   "outputs": [],
   "source": [
    "rfc.fit(X_train, y_train)\n",
    "rfc_pred = rfc.predict(X_test)"
   ]
  },
  {
   "cell_type": "code",
   "execution_count": 133,
   "id": "zIqiWohEgfwm",
   "metadata": {
    "executionInfo": {
     "elapsed": 28103,
     "status": "ok",
     "timestamp": 1719045890219,
     "user": {
      "displayName": "Mahesh waran",
      "userId": "01052940636805861384"
     },
     "user_tz": -60
    },
    "id": "zIqiWohEgfwm"
   },
   "outputs": [
    {
     "name": "stderr",
     "output_type": "stream",
     "text": [
      "/home/mulombi/.local/lib/python3.10/site-packages/sklearn/ensemble/_weight_boosting.py:527: FutureWarning: The SAMME.R algorithm (the default) is deprecated and will be removed in 1.6. Use the SAMME algorithm to circumvent this warning.\n",
      "  warnings.warn(\n"
     ]
    }
   ],
   "source": [
    "abc.fit(X_train, y_train)\n",
    "abc_pred = abc.predict(X_test)"
   ]
  },
  {
   "cell_type": "code",
   "execution_count": 134,
   "id": "xr-BA5e_gfz9",
   "metadata": {
    "executionInfo": {
     "elapsed": 25029,
     "status": "ok",
     "timestamp": 1719045915234,
     "user": {
      "displayName": "Mahesh waran",
      "userId": "01052940636805861384"
     },
     "user_tz": -60
    },
    "id": "xr-BA5e_gfz9"
   },
   "outputs": [],
   "source": [
    "etc.fit(X_train, y_train)\n",
    "etc_pred = etc.predict(X_test)"
   ]
  },
  {
   "cell_type": "code",
   "execution_count": 135,
   "id": "rBV7S_jQgf2w",
   "metadata": {
    "executionInfo": {
     "elapsed": 7717,
     "status": "ok",
     "timestamp": 1719045922930,
     "user": {
      "displayName": "Mahesh waran",
      "userId": "01052940636805861384"
     },
     "user_tz": -60
    },
    "id": "rBV7S_jQgf2w"
   },
   "outputs": [],
   "source": [
    "xgb.fit(X_train, y_train)\n",
    "xgb_pred = xgb.predict(X_test)"
   ]
  },
  {
   "cell_type": "code",
   "execution_count": 137,
   "id": "2RNxHnYpgf9H",
   "metadata": {
    "executionInfo": {
     "elapsed": 141470,
     "status": "ok",
     "timestamp": 1719046784096,
     "user": {
      "displayName": "Mahesh waran",
      "userId": "01052940636805861384"
     },
     "user_tz": -60
    },
    "id": "2RNxHnYpgf9H"
   },
   "outputs": [
    {
     "name": "stderr",
     "output_type": "stream",
     "text": [
      "/home/mulombi/.local/lib/python3.10/site-packages/sklearn/ensemble/_weight_boosting.py:527: FutureWarning: The SAMME.R algorithm (the default) is deprecated and will be removed in 1.6. Use the SAMME algorithm to circumvent this warning.\n",
      "  warnings.warn(\n"
     ]
    }
   ],
   "source": [
    "# Fitting Each Model One by One\n",
    "# 1. SVC\n",
    "svc.fit(X_train ,y_train)\n",
    "# Pred\n",
    "svc_pred = svc.predict(X_test)\n",
    "#-----------------------------\n",
    "# 2. KNeighbours\n",
    "knc.fit(X_train ,y_train)\n",
    "# Pred\n",
    "knn_pred = knc.predict(X_test)\n",
    "#-----------------------------\n",
    "# 3. Multinomial NaiveBayes\n",
    "mnb.fit(X_train ,y_train)\n",
    "# Pred\n",
    "mnb_pred = mnb.predict(X_test)\n",
    "#-----------------------------\n",
    "# 4. Decision Tree\n",
    "dtc.fit(X_train ,y_train)\n",
    "# Pred\n",
    "dtc_pred = dtc.predict(X_test)\n",
    "#-----------------------------\n",
    "# 5. Logistic Regression\n",
    "lrc.fit(X_train ,y_train)\n",
    "# Pred\n",
    "lrc_pred = lrc.predict(X_test)\n",
    "#-----------------------------\n",
    "# 6. Random Forest Classifier\n",
    "rfc.fit(X_train ,y_train)\n",
    "# Pred\n",
    "rfc_pred = rfc.predict(X_test)\n",
    "#-----------------------------\n",
    "# 7. AddaBoost Classifier\n",
    "abc.fit(X_train ,y_train)\n",
    "# Pred\n",
    "abc_pred = abc.predict(X_test)\n",
    "#-----------------------------\n",
    "# 8.Extra Tree Classifier a Ensemble Method\n",
    "etc.fit(X_train ,y_train)\n",
    "# Pred\n",
    "etc_pred = etc.predict(X_test)\n",
    "#-----------------------------\n",
    "# 9. XGB Classifier\n",
    "xgb.fit(X_train ,y_train)\n",
    "# Pred\n",
    "xgb_pred = xgb.predict(X_test)\n",
    "#-----------------------------\n"
   ]
  },
  {
   "cell_type": "code",
   "execution_count": 138,
   "id": "HI1Gi_5pggBD",
   "metadata": {
    "executionInfo": {
     "elapsed": 60,
     "status": "ok",
     "timestamp": 1719046016663,
     "user": {
      "displayName": "Mahesh waran",
      "userId": "01052940636805861384"
     },
     "user_tz": -60
    },
    "id": "HI1Gi_5pggBD"
   },
   "outputs": [],
   "source": [
    "def evaluate(y_test, svc_pred):\n",
    "  accuracy = accuracy_score(y_test, y_pred)\n",
    "  precision = precision_score(y_test, y_pred)\n",
    "  confusion = confusion_matrix(y_test, y_pred)\n",
    "  return accuracy, precision, confusion"
   ]
  },
  {
   "cell_type": "code",
   "execution_count": 139,
   "id": "dmoE5CqshBAJ",
   "metadata": {
    "executionInfo": {
     "elapsed": 58,
     "status": "ok",
     "timestamp": 1719046016663,
     "user": {
      "displayName": "Mahesh waran",
      "userId": "01052940636805861384"
     },
     "user_tz": -60
    },
    "id": "dmoE5CqshBAJ"
   },
   "outputs": [],
   "source": [
    "from sklearn.metrics import accuracy_score, precision_score, confusion_matrix\n",
    "\n",
    "def evaluate(y_test, y_pred):\n",
    "    accuracy = accuracy_score(y_test, y_pred)\n",
    "    precision = precision_score(y_test, y_pred)\n",
    "    confusion = confusion_matrix(y_test, y_pred)\n",
    "\n",
    "    return accuracy, precision, confusion"
   ]
  },
  {
   "cell_type": "code",
   "execution_count": 140,
   "id": "EoT-heNvhBOM",
   "metadata": {
    "colab": {
     "base_uri": "https://localhost:8080/"
    },
    "executionInfo": {
     "elapsed": 58,
     "status": "ok",
     "timestamp": 1719046016664,
     "user": {
      "displayName": "Mahesh waran",
      "userId": "01052940636805861384"
     },
     "user_tz": -60
    },
    "id": "EoT-heNvhBOM",
    "outputId": "90235300-10cb-4393-b231-e076d6c3e225"
   },
   "outputs": [
    {
     "name": "stdout",
     "output_type": "stream",
     "text": [
      "The Accuracy Score Of SVC is 0.9081237911025145, Precision Is 0.725,\n",
      "Confusion Matrix is \n",
      "[[852  33]\n",
      " [ 62  87]] \n"
     ]
    }
   ],
   "source": [
    "accuracy_SVC, precision_SVC, confusion_SVC = evaluate(y_test, svc_pred)\n",
    "print(f\"The Accuracy Score Of SVC is {accuracy_SVC}, Precision Is {precision_SVC},\\nConfusion Matrix is \\n{confusion_SVC} \")"
   ]
  },
  {
   "cell_type": "code",
   "execution_count": 141,
   "id": "-NvVU1tphBTO",
   "metadata": {
    "colab": {
     "base_uri": "https://localhost:8080/"
    },
    "executionInfo": {
     "elapsed": 38,
     "status": "ok",
     "timestamp": 1719046016664,
     "user": {
      "displayName": "Mahesh waran",
      "userId": "01052940636805861384"
     },
     "user_tz": -60
    },
    "id": "-NvVU1tphBTO",
    "outputId": "2fb04d27-abd2-442a-d1e6-b17e373d168f"
   },
   "outputs": [
    {
     "name": "stdout",
     "output_type": "stream",
     "text": [
      "The Accuracy Score Of KNN is 0.8984526112185687, Precision Is 1.0,\n",
      "Confusion Matrix is \n",
      "[[885   0]\n",
      " [105  44]] \n"
     ]
    }
   ],
   "source": [
    "accuracy_KNN, precision_KNN, confusion_KNN = evaluate(y_test, knn_pred)\n",
    "print(f\"The Accuracy Score Of KNN is {accuracy_KNN}, Precision Is {precision_KNN},\\nConfusion Matrix is \\n{confusion_KNN} \")"
   ]
  },
  {
   "cell_type": "code",
   "execution_count": 142,
   "id": "UN2qej8fhBWQ",
   "metadata": {
    "colab": {
     "base_uri": "https://localhost:8080/"
    },
    "executionInfo": {
     "elapsed": 34,
     "status": "ok",
     "timestamp": 1719046016664,
     "user": {
      "displayName": "Mahesh waran",
      "userId": "01052940636805861384"
     },
     "user_tz": -60
    },
    "id": "UN2qej8fhBWQ",
    "outputId": "3ccb6cb1-1cbb-4a30-a577-25ba6082bc54"
   },
   "outputs": [
    {
     "name": "stdout",
     "output_type": "stream",
     "text": [
      "The Accuracy Score Of MultinomialNB is 0.9758220502901354, Precision Is 0.9246575342465754,\n",
      "Confusion Matrix is \n",
      "[[874  11]\n",
      " [ 14 135]] \n"
     ]
    }
   ],
   "source": [
    "accuracy_MNB, precision_MNB, confusion_MNB = evaluate(y_test, mnb_pred)\n",
    "print(f\"The Accuracy Score Of MultinomialNB is {accuracy_MNB}, Precision Is {precision_MNB},\\nConfusion Matrix is \\n{confusion_MNB} \")"
   ]
  },
  {
   "cell_type": "code",
   "execution_count": 143,
   "id": "6hVxEo-UhBZr",
   "metadata": {
    "colab": {
     "base_uri": "https://localhost:8080/"
    },
    "executionInfo": {
     "elapsed": 32,
     "status": "ok",
     "timestamp": 1719046016665,
     "user": {
      "displayName": "Mahesh waran",
      "userId": "01052940636805861384"
     },
     "user_tz": -60
    },
    "id": "6hVxEo-UhBZr",
    "outputId": "2097873f-4b3d-4e5f-ac73-e3b8bdb89446"
   },
   "outputs": [
    {
     "name": "stdout",
     "output_type": "stream",
     "text": [
      "The Accuracy Score Of Decision Tree is 0.9284332688588007, Precision Is 0.9411764705882353,\n",
      "Confusion Matrix is \n",
      "[[880   5]\n",
      " [ 69  80]] \n"
     ]
    }
   ],
   "source": [
    "accuracy_DTC, precision_DTC, confusion_DTC = evaluate(y_test, dtc_pred)\n",
    "print(f\"The Accuracy Score Of Decision Tree is {accuracy_DTC}, Precision Is {precision_DTC},\\nConfusion Matrix is \\n{confusion_DTC} \")"
   ]
  },
  {
   "cell_type": "code",
   "execution_count": 144,
   "id": "nCOKpXDFhBc4",
   "metadata": {
    "colab": {
     "base_uri": "https://localhost:8080/"
    },
    "executionInfo": {
     "elapsed": 28,
     "status": "ok",
     "timestamp": 1719046016665,
     "user": {
      "displayName": "Mahesh waran",
      "userId": "01052940636805861384"
     },
     "user_tz": -60
    },
    "id": "nCOKpXDFhBc4",
    "outputId": "f2cde6ef-750d-4e8a-f09b-1bbc35c9ed8d"
   },
   "outputs": [
    {
     "name": "stdout",
     "output_type": "stream",
     "text": [
      "The Accuracy Score Of Logistic Regression is 0.9738878143133463, Precision Is 0.9692307692307692,\n",
      "Confusion Matrix is \n",
      "[[881   4]\n",
      " [ 23 126]] \n"
     ]
    }
   ],
   "source": [
    "accuracy_LR, precision_LR, confusion_LR = evaluate(y_test, lrc_pred)\n",
    "print(f\"The Accuracy Score Of Logistic Regression is {accuracy_LR}, Precision Is {precision_LR},\\nConfusion Matrix is \\n{confusion_LR} \")"
   ]
  },
  {
   "cell_type": "code",
   "execution_count": 145,
   "id": "z2eyTr17gQ4z",
   "metadata": {
    "colab": {
     "base_uri": "https://localhost:8080/"
    },
    "executionInfo": {
     "elapsed": 24,
     "status": "ok",
     "timestamp": 1719046016665,
     "user": {
      "displayName": "Mahesh waran",
      "userId": "01052940636805861384"
     },
     "user_tz": -60
    },
    "id": "z2eyTr17gQ4z",
    "outputId": "935d82e3-ecfb-4ac5-eb1e-ba8de31e33b7"
   },
   "outputs": [
    {
     "name": "stdout",
     "output_type": "stream",
     "text": [
      "The Accuracy Score Of Random Forest Classifier is 0.9690522243713733, Precision Is 1.0,\n",
      "Confusion Matrix is \n",
      "[[885   0]\n",
      " [ 32 117]] \n"
     ]
    }
   ],
   "source": [
    "accuracy_RF, precision_RF, confusion_RF = evaluate(y_test, rfc_pred)\n",
    "print(f\"The Accuracy Score Of Random Forest Classifier is {accuracy_RF}, Precision Is {precision_RF},\\nConfusion Matrix is \\n{confusion_RF} \")"
   ]
  },
  {
   "cell_type": "code",
   "execution_count": 146,
   "id": "BpYGf_dRW9oe",
   "metadata": {
    "colab": {
     "base_uri": "https://localhost:8080/"
    },
    "executionInfo": {
     "elapsed": 21,
     "status": "ok",
     "timestamp": 1719046016666,
     "user": {
      "displayName": "Mahesh waran",
      "userId": "01052940636805861384"
     },
     "user_tz": -60
    },
    "id": "BpYGf_dRW9oe",
    "outputId": "dc51c6e1-b02c-4a62-9136-4c0f05917414"
   },
   "outputs": [
    {
     "name": "stdout",
     "output_type": "stream",
     "text": [
      "The Accuracy Score Of AdaBoost Classifier is 0.9709864603481625, Precision Is 0.983739837398374,\n",
      "Confusion Matrix is \n",
      "[[883   2]\n",
      " [ 28 121]] \n"
     ]
    }
   ],
   "source": [
    "accuracy_ADC, precision_ADC, confusion_ADC = evaluate(y_test, abc_pred)\n",
    "print(f\"The Accuracy Score Of AdaBoost Classifier is {accuracy_ADC}, Precision Is {precision_ADC},\\nConfusion Matrix is \\n{confusion_ADC} \")"
   ]
  },
  {
   "cell_type": "code",
   "execution_count": 147,
   "id": "wmjdr_drW90O",
   "metadata": {
    "colab": {
     "base_uri": "https://localhost:8080/"
    },
    "executionInfo": {
     "elapsed": 17,
     "status": "ok",
     "timestamp": 1719046016666,
     "user": {
      "displayName": "Mahesh waran",
      "userId": "01052940636805861384"
     },
     "user_tz": -60
    },
    "id": "wmjdr_drW90O",
    "outputId": "7fafa600-7da3-454b-ac36-b68e6373eb17"
   },
   "outputs": [
    {
     "name": "stdout",
     "output_type": "stream",
     "text": [
      "The Accuracy Score Of Extra Tree Classifier is 0.971953578336557, Precision Is 0.9918032786885246,\n",
      "Confusion Matrix is \n",
      "[[884   1]\n",
      " [ 28 121]] \n"
     ]
    }
   ],
   "source": [
    "accuracy_ETC, precision_ETC, confusion_ETC = evaluate(y_test, etc_pred)\n",
    "print(f\"The Accuracy Score Of Extra Tree Classifier is {accuracy_ETC}, Precision Is {precision_ETC},\\nConfusion Matrix is \\n{confusion_ETC} \")"
   ]
  },
  {
   "cell_type": "code",
   "execution_count": 148,
   "id": "zqlxJMAiW97i",
   "metadata": {
    "colab": {
     "base_uri": "https://localhost:8080/"
    },
    "executionInfo": {
     "elapsed": 13,
     "status": "ok",
     "timestamp": 1719046016666,
     "user": {
      "displayName": "Mahesh waran",
      "userId": "01052940636805861384"
     },
     "user_tz": -60
    },
    "id": "zqlxJMAiW97i",
    "outputId": "d00896ab-fec5-42e7-8738-f8000512601f"
   },
   "outputs": [
    {
     "name": "stdout",
     "output_type": "stream",
     "text": [
      "The Accuracy Score Of XGBoost Classifier is 0.9748549323017408, Precision Is 0.992,\n",
      "Confusion Matrix is \n",
      "[[884   1]\n",
      " [ 25 124]] \n"
     ]
    }
   ],
   "source": [
    "accuracy_XGB, precision_XGB, confusion_XGB = evaluate(y_test, xgb_pred)\n",
    "print(f\"The Accuracy Score Of XGBoost Classifier is {accuracy_XGB}, Precision Is {precision_XGB},\\nConfusion Matrix is \\n{confusion_XGB} \")"
   ]
  },
  {
   "cell_type": "code",
   "execution_count": 150,
   "id": "q6XM5mveXPDj",
   "metadata": {
    "colab": {
     "base_uri": "https://localhost:8080/"
    },
    "executionInfo": {
     "elapsed": 374,
     "status": "ok",
     "timestamp": 1719046017030,
     "user": {
      "displayName": "Mahesh waran",
      "userId": "01052940636805861384"
     },
     "user_tz": -60
    },
    "id": "q6XM5mveXPDj",
    "outputId": "931de815-8401-40f9-8bbf-7fab2ebfce29"
   },
   "outputs": [
    {
     "name": "stdout",
     "output_type": "stream",
     "text": [
      "The Accuracy Score Of SVC is 0.9081237911025145 , Precision Is 0.725 ,\n",
      "Confusion Matrix is \n",
      "[[852  33]\n",
      " [ 62  87]] \n",
      "\n",
      "\n",
      "The Accuracy Score Of KNN is 0.8984526112185687 , Precision Is 1.0 ,\n",
      "Confusion Matrix is \n",
      "[[885   0]\n",
      " [105  44]] \n",
      "\n",
      "\n",
      "The Accuracy Score Of MultinomialNB is 0.9758220502901354 , Precision Is 0.9246575342465754 ,\n",
      "Confusion Matrix is \n",
      "[[874  11]\n",
      " [ 14 135]] \n",
      "\n",
      "\n",
      "The Accuracy Score Of Decision Tree is 0.9284332688588007 , Precision Is 0.9411764705882353 ,\n",
      "Confusion Matrix is \n",
      "[[880   5]\n",
      " [ 69  80]] \n",
      "\n",
      "\n",
      "The Accuracy Score Of Logistic Regression is 0.9738878143133463 , Precision Is 0.9692307692307692 ,\n",
      "Confusion Matrix is \n",
      "[[881   4]\n",
      " [ 23 126]] \n",
      "\n",
      "\n",
      "The Accuracy Score Of Random Forest Classifier is 0.9690522243713733 , Precision Is 1.0 ,\n",
      "Confusion Matrix is \n",
      "[[885   0]\n",
      " [ 32 117]] \n",
      "\n",
      "\n",
      "The Accuracy Score Of AddaBoost Classifier is 0.9709864603481625 , Precision Is 0.983739837398374 ,\n",
      "Confusion Matrix is \n",
      "[[883   2]\n",
      " [ 28 121]] \n",
      "\n",
      "\n",
      "The Accuracy Score Of Extra Tree Classifier  is 0.971953578336557 , Precision Is 0.9918032786885246 ,\n",
      "Confusion Matrix is \n",
      "[[884   1]\n",
      " [ 28 121]] \n",
      "\n",
      "\n",
      "The Accuracy Score Of XGB Classifier is 0.9748549323017408 , Precision Is 0.992 ,\n",
      "Confusion Matrix is \n",
      "[[884   1]\n",
      " [ 25 124]] \n"
     ]
    }
   ],
   "source": [
    "# 1. SVC\n",
    "accuracy_SVC , precision_SVC , confusion_SVC = evaluate(y_test,svc_pred)\n",
    "print(f\"The Accuracy Score Of SVC is {accuracy_SVC} , Precision Is {precision_SVC} ,\\nConfusion Matrix is \\n{confusion_SVC} \")\n",
    "\n",
    "print(\"\\n\")\n",
    "\n",
    "# 2. KNN\n",
    "accuracy_KNN , precision_KNN , confusion_KNN = evaluate(y_test,knn_pred)\n",
    "print(f\"The Accuracy Score Of KNN is {accuracy_KNN} , Precision Is {precision_KNN} ,\\nConfusion Matrix is \\n{confusion_KNN} \")\n",
    "\n",
    "print(\"\\n\")\n",
    "\n",
    "# 3.Multinomial\n",
    "accuracy_MNB , precision_MNB , confusion_MNB = evaluate(y_test,mnb_pred)\n",
    "print(f\"The Accuracy Score Of MultinomialNB is {accuracy_MNB} , Precision Is {precision_MNB} ,\\nConfusion Matrix is \\n{confusion_MNB} \")\n",
    "\n",
    "print(\"\\n\")\n",
    "\n",
    "# 4.Decision Tree\n",
    "accuracy_DTC , precision_DTC , confusion_DTC = evaluate(y_test,dtc_pred)\n",
    "print(f\"The Accuracy Score Of Decision Tree is {accuracy_DTC} , Precision Is {precision_DTC} ,\\nConfusion Matrix is \\n{confusion_DTC} \")\n",
    "\n",
    "print(\"\\n\")\n",
    "\n",
    "# 5.Logistic Regression\n",
    "accuracy_LR , precision_LR , confusion_LR = evaluate(y_test,lrc_pred)\n",
    "print(f\"The Accuracy Score Of Logistic Regression is {accuracy_LR} , Precision Is {precision_LR} ,\\nConfusion Matrix is \\n{confusion_LR} \")\n",
    "\n",
    "print(\"\\n\")\n",
    "\n",
    "# 6.Random Forest Classifier\n",
    "accuracy_RF , precision_RF , confusion_RF = evaluate(y_test,rfc_pred)\n",
    "print(f\"The Accuracy Score Of Random Forest Classifier is {accuracy_RF} , Precision Is {precision_RF} ,\\nConfusion Matrix is \\n{confusion_RF} \")\n",
    "\n",
    "print(\"\\n\")\n",
    "\n",
    "# 7.AddaBoost Classifier\n",
    "accuracy_ADC , precision_ADC , confusion_ADC = evaluate(y_test,abc_pred)\n",
    "print(f\"The Accuracy Score Of AddaBoost Classifier is {accuracy_ADC} , Precision Is {precision_ADC} ,\\nConfusion Matrix is \\n{confusion_ADC} \")\n",
    "\n",
    "print(\"\\n\")\n",
    "\n",
    "# 8.Extra Tree Classifier a Ensemble Method\n",
    "accuracy_ETC , precision_ETC , confusion_ETC = evaluate(y_test,etc_pred)\n",
    "print(f\"The Accuracy Score Of Extra Tree Classifier  is {accuracy_ETC} , Precision Is {precision_ETC} ,\\nConfusion Matrix is \\n{confusion_ETC} \")\n",
    "\n",
    "print(\"\\n\")\n",
    "\n",
    "# 9. XGB Classifier\n",
    "accuracy_XGB , precision_XGB , confusion_XGB = evaluate(y_test,xgb_pred)\n",
    "print(f\"The Accuracy Score Of XGB Classifier is {accuracy_XGB} , Precision Is {precision_XGB} ,\\nConfusion Matrix is \\n{confusion_XGB} \")"
   ]
  },
  {
   "cell_type": "code",
   "execution_count": 151,
   "id": "mPivxZHcXPQ2",
   "metadata": {
    "executionInfo": {
     "elapsed": 247,
     "status": "ok",
     "timestamp": 1719047196053,
     "user": {
      "displayName": "Mahesh waran",
      "userId": "01052940636805861384"
     },
     "user_tz": -60
    },
    "id": "mPivxZHcXPQ2"
   },
   "outputs": [],
   "source": [
    "evaluation_data = {\n",
    "    'Model': ['SVC', 'KNN', 'MultinomialNB', 'Decision Tree', 'Logistic Regression', 'Random Forest', 'AdaBoost', 'Extra Tree', 'XGBoost'],\n",
    "    'Accuracy': [accuracy_SVC, accuracy_KNN, accuracy_MNB, accuracy_DTC, accuracy_LR, accuracy_RF, accuracy_ADC, accuracy_ETC, accuracy_XGB],\n",
    "    'Precision': [precision_SVC,precision_KNN, precision_MNB, precision_DTC, precision_LR, precision_RF, precision_ADC, precision_ETC, precision_XGB]\n",
    "}"
   ]
  },
  {
   "cell_type": "code",
   "execution_count": 152,
   "id": "vceAtnipXPYr",
   "metadata": {
    "executionInfo": {
     "elapsed": 258,
     "status": "ok",
     "timestamp": 1719047198987,
     "user": {
      "displayName": "Mahesh waran",
      "userId": "01052940636805861384"
     },
     "user_tz": -60
    },
    "id": "vceAtnipXPYr"
   },
   "outputs": [],
   "source": [
    "evaluation_df = pd.DataFrame(evaluation_data)"
   ]
  },
  {
   "cell_type": "code",
   "execution_count": 155,
   "id": "oialWURTXfx1",
   "metadata": {
    "executionInfo": {
     "elapsed": 248,
     "status": "ok",
     "timestamp": 1719047215919,
     "user": {
      "displayName": "Mahesh waran",
      "userId": "01052940636805861384"
     },
     "user_tz": -60
    },
    "id": "oialWURTXfx1"
   },
   "outputs": [],
   "source": [
    "evaluation_df = evaluation_df.sort_values(by=['Accuracy','Precision'], ascending=False)"
   ]
  },
  {
   "cell_type": "code",
   "execution_count": 156,
   "id": "mpj_J0sFXf9h",
   "metadata": {
    "colab": {
     "base_uri": "https://localhost:8080/",
     "height": 331
    },
    "executionInfo": {
     "elapsed": 264,
     "status": "ok",
     "timestamp": 1719047218151,
     "user": {
      "displayName": "Mahesh waran",
      "userId": "01052940636805861384"
     },
     "user_tz": -60
    },
    "id": "mpj_J0sFXf9h",
    "outputId": "0be94c4b-22ef-4d3b-f6f9-a0ff09b7192d"
   },
   "outputs": [
    {
     "data": {
      "text/html": [
       "<div>\n",
       "<style scoped>\n",
       "    .dataframe tbody tr th:only-of-type {\n",
       "        vertical-align: middle;\n",
       "    }\n",
       "\n",
       "    .dataframe tbody tr th {\n",
       "        vertical-align: top;\n",
       "    }\n",
       "\n",
       "    .dataframe thead th {\n",
       "        text-align: right;\n",
       "    }\n",
       "</style>\n",
       "<table border=\"1\" class=\"dataframe\">\n",
       "  <thead>\n",
       "    <tr style=\"text-align: right;\">\n",
       "      <th></th>\n",
       "      <th>Model</th>\n",
       "      <th>Accuracy</th>\n",
       "      <th>Precision</th>\n",
       "    </tr>\n",
       "  </thead>\n",
       "  <tbody>\n",
       "    <tr>\n",
       "      <th>2</th>\n",
       "      <td>MultinomialNB</td>\n",
       "      <td>0.975822</td>\n",
       "      <td>0.924658</td>\n",
       "    </tr>\n",
       "    <tr>\n",
       "      <th>8</th>\n",
       "      <td>XGBoost</td>\n",
       "      <td>0.974855</td>\n",
       "      <td>0.992000</td>\n",
       "    </tr>\n",
       "    <tr>\n",
       "      <th>4</th>\n",
       "      <td>Logistic Regression</td>\n",
       "      <td>0.973888</td>\n",
       "      <td>0.969231</td>\n",
       "    </tr>\n",
       "    <tr>\n",
       "      <th>7</th>\n",
       "      <td>Extra Tree</td>\n",
       "      <td>0.971954</td>\n",
       "      <td>0.991803</td>\n",
       "    </tr>\n",
       "    <tr>\n",
       "      <th>6</th>\n",
       "      <td>AdaBoost</td>\n",
       "      <td>0.970986</td>\n",
       "      <td>0.983740</td>\n",
       "    </tr>\n",
       "    <tr>\n",
       "      <th>5</th>\n",
       "      <td>Random Forest</td>\n",
       "      <td>0.969052</td>\n",
       "      <td>1.000000</td>\n",
       "    </tr>\n",
       "    <tr>\n",
       "      <th>3</th>\n",
       "      <td>Decision Tree</td>\n",
       "      <td>0.928433</td>\n",
       "      <td>0.941176</td>\n",
       "    </tr>\n",
       "    <tr>\n",
       "      <th>0</th>\n",
       "      <td>SVC</td>\n",
       "      <td>0.908124</td>\n",
       "      <td>0.725000</td>\n",
       "    </tr>\n",
       "    <tr>\n",
       "      <th>1</th>\n",
       "      <td>KNN</td>\n",
       "      <td>0.898453</td>\n",
       "      <td>1.000000</td>\n",
       "    </tr>\n",
       "  </tbody>\n",
       "</table>\n",
       "</div>"
      ],
      "text/plain": [
       "                 Model  Accuracy  Precision\n",
       "2        MultinomialNB  0.975822   0.924658\n",
       "8              XGBoost  0.974855   0.992000\n",
       "4  Logistic Regression  0.973888   0.969231\n",
       "7           Extra Tree  0.971954   0.991803\n",
       "6             AdaBoost  0.970986   0.983740\n",
       "5        Random Forest  0.969052   1.000000\n",
       "3        Decision Tree  0.928433   0.941176\n",
       "0                  SVC  0.908124   0.725000\n",
       "1                  KNN  0.898453   1.000000"
      ]
     },
     "execution_count": 156,
     "metadata": {},
     "output_type": "execute_result"
    }
   ],
   "source": [
    "evaluation_df"
   ]
  },
  {
   "cell_type": "code",
   "execution_count": 157,
   "id": "VWSWIpRoXgCF",
   "metadata": {
    "colab": {
     "base_uri": "https://localhost:8080/",
     "height": 542
    },
    "executionInfo": {
     "elapsed": 284,
     "status": "ok",
     "timestamp": 1719046017306,
     "user": {
      "displayName": "Mahesh waran",
      "userId": "01052940636805861384"
     },
     "user_tz": -60
    },
    "id": "VWSWIpRoXgCF",
    "outputId": "d59ccd34-ed1e-4568-95c1-1121841910e7"
   },
   "outputs": [
    {
     "data": {
      "application/vnd.plotly.v1+json": {
       "config": {
        "plotlyServerURL": "https://plot.ly"
       },
       "data": [
        {
         "marker": {
          "color": "skyblue"
         },
         "name": "Accuracy",
         "type": "bar",
         "x": [
          "SVC",
          "KNN",
          "MultinomialNB",
          "Decision Tree",
          "Logistic Regression",
          "Random Forest",
          "AdaBoost",
          "Extra Tree",
          "XGBoost"
         ],
         "y": [
          0.9081237911025145,
          0.8984526112185687,
          0.9758220502901354,
          0.9284332688588007,
          0.9738878143133463,
          0.9690522243713733,
          0.9709864603481625,
          0.971953578336557,
          0.9748549323017408
         ]
        },
        {
         "marker": {
          "color": "salmon"
         },
         "name": "Precision",
         "type": "bar",
         "x": [
          "SVC",
          "KNN",
          "MultinomialNB",
          "Decision Tree",
          "Logistic Regression",
          "Random Forest",
          "AdaBoost",
          "Extra Tree",
          "XGBoost"
         ],
         "y": [
          0.725,
          1,
          0.9246575342465754,
          0.9411764705882353,
          0.9692307692307692,
          1,
          0.983739837398374,
          0.9918032786885246,
          0.992
         ]
        }
       ],
       "layout": {
        "barmode": "group",
        "template": {
         "data": {
          "bar": [
           {
            "error_x": {
             "color": "#2a3f5f"
            },
            "error_y": {
             "color": "#2a3f5f"
            },
            "marker": {
             "line": {
              "color": "#E5ECF6",
              "width": 0.5
             },
             "pattern": {
              "fillmode": "overlay",
              "size": 10,
              "solidity": 0.2
             }
            },
            "type": "bar"
           }
          ],
          "barpolar": [
           {
            "marker": {
             "line": {
              "color": "#E5ECF6",
              "width": 0.5
             },
             "pattern": {
              "fillmode": "overlay",
              "size": 10,
              "solidity": 0.2
             }
            },
            "type": "barpolar"
           }
          ],
          "carpet": [
           {
            "aaxis": {
             "endlinecolor": "#2a3f5f",
             "gridcolor": "white",
             "linecolor": "white",
             "minorgridcolor": "white",
             "startlinecolor": "#2a3f5f"
            },
            "baxis": {
             "endlinecolor": "#2a3f5f",
             "gridcolor": "white",
             "linecolor": "white",
             "minorgridcolor": "white",
             "startlinecolor": "#2a3f5f"
            },
            "type": "carpet"
           }
          ],
          "choropleth": [
           {
            "colorbar": {
             "outlinewidth": 0,
             "ticks": ""
            },
            "type": "choropleth"
           }
          ],
          "contour": [
           {
            "colorbar": {
             "outlinewidth": 0,
             "ticks": ""
            },
            "colorscale": [
             [
              0,
              "#0d0887"
             ],
             [
              0.1111111111111111,
              "#46039f"
             ],
             [
              0.2222222222222222,
              "#7201a8"
             ],
             [
              0.3333333333333333,
              "#9c179e"
             ],
             [
              0.4444444444444444,
              "#bd3786"
             ],
             [
              0.5555555555555556,
              "#d8576b"
             ],
             [
              0.6666666666666666,
              "#ed7953"
             ],
             [
              0.7777777777777778,
              "#fb9f3a"
             ],
             [
              0.8888888888888888,
              "#fdca26"
             ],
             [
              1,
              "#f0f921"
             ]
            ],
            "type": "contour"
           }
          ],
          "contourcarpet": [
           {
            "colorbar": {
             "outlinewidth": 0,
             "ticks": ""
            },
            "type": "contourcarpet"
           }
          ],
          "heatmap": [
           {
            "colorbar": {
             "outlinewidth": 0,
             "ticks": ""
            },
            "colorscale": [
             [
              0,
              "#0d0887"
             ],
             [
              0.1111111111111111,
              "#46039f"
             ],
             [
              0.2222222222222222,
              "#7201a8"
             ],
             [
              0.3333333333333333,
              "#9c179e"
             ],
             [
              0.4444444444444444,
              "#bd3786"
             ],
             [
              0.5555555555555556,
              "#d8576b"
             ],
             [
              0.6666666666666666,
              "#ed7953"
             ],
             [
              0.7777777777777778,
              "#fb9f3a"
             ],
             [
              0.8888888888888888,
              "#fdca26"
             ],
             [
              1,
              "#f0f921"
             ]
            ],
            "type": "heatmap"
           }
          ],
          "heatmapgl": [
           {
            "colorbar": {
             "outlinewidth": 0,
             "ticks": ""
            },
            "colorscale": [
             [
              0,
              "#0d0887"
             ],
             [
              0.1111111111111111,
              "#46039f"
             ],
             [
              0.2222222222222222,
              "#7201a8"
             ],
             [
              0.3333333333333333,
              "#9c179e"
             ],
             [
              0.4444444444444444,
              "#bd3786"
             ],
             [
              0.5555555555555556,
              "#d8576b"
             ],
             [
              0.6666666666666666,
              "#ed7953"
             ],
             [
              0.7777777777777778,
              "#fb9f3a"
             ],
             [
              0.8888888888888888,
              "#fdca26"
             ],
             [
              1,
              "#f0f921"
             ]
            ],
            "type": "heatmapgl"
           }
          ],
          "histogram": [
           {
            "marker": {
             "pattern": {
              "fillmode": "overlay",
              "size": 10,
              "solidity": 0.2
             }
            },
            "type": "histogram"
           }
          ],
          "histogram2d": [
           {
            "colorbar": {
             "outlinewidth": 0,
             "ticks": ""
            },
            "colorscale": [
             [
              0,
              "#0d0887"
             ],
             [
              0.1111111111111111,
              "#46039f"
             ],
             [
              0.2222222222222222,
              "#7201a8"
             ],
             [
              0.3333333333333333,
              "#9c179e"
             ],
             [
              0.4444444444444444,
              "#bd3786"
             ],
             [
              0.5555555555555556,
              "#d8576b"
             ],
             [
              0.6666666666666666,
              "#ed7953"
             ],
             [
              0.7777777777777778,
              "#fb9f3a"
             ],
             [
              0.8888888888888888,
              "#fdca26"
             ],
             [
              1,
              "#f0f921"
             ]
            ],
            "type": "histogram2d"
           }
          ],
          "histogram2dcontour": [
           {
            "colorbar": {
             "outlinewidth": 0,
             "ticks": ""
            },
            "colorscale": [
             [
              0,
              "#0d0887"
             ],
             [
              0.1111111111111111,
              "#46039f"
             ],
             [
              0.2222222222222222,
              "#7201a8"
             ],
             [
              0.3333333333333333,
              "#9c179e"
             ],
             [
              0.4444444444444444,
              "#bd3786"
             ],
             [
              0.5555555555555556,
              "#d8576b"
             ],
             [
              0.6666666666666666,
              "#ed7953"
             ],
             [
              0.7777777777777778,
              "#fb9f3a"
             ],
             [
              0.8888888888888888,
              "#fdca26"
             ],
             [
              1,
              "#f0f921"
             ]
            ],
            "type": "histogram2dcontour"
           }
          ],
          "mesh3d": [
           {
            "colorbar": {
             "outlinewidth": 0,
             "ticks": ""
            },
            "type": "mesh3d"
           }
          ],
          "parcoords": [
           {
            "line": {
             "colorbar": {
              "outlinewidth": 0,
              "ticks": ""
             }
            },
            "type": "parcoords"
           }
          ],
          "pie": [
           {
            "automargin": true,
            "type": "pie"
           }
          ],
          "scatter": [
           {
            "fillpattern": {
             "fillmode": "overlay",
             "size": 10,
             "solidity": 0.2
            },
            "type": "scatter"
           }
          ],
          "scatter3d": [
           {
            "line": {
             "colorbar": {
              "outlinewidth": 0,
              "ticks": ""
             }
            },
            "marker": {
             "colorbar": {
              "outlinewidth": 0,
              "ticks": ""
             }
            },
            "type": "scatter3d"
           }
          ],
          "scattercarpet": [
           {
            "marker": {
             "colorbar": {
              "outlinewidth": 0,
              "ticks": ""
             }
            },
            "type": "scattercarpet"
           }
          ],
          "scattergeo": [
           {
            "marker": {
             "colorbar": {
              "outlinewidth": 0,
              "ticks": ""
             }
            },
            "type": "scattergeo"
           }
          ],
          "scattergl": [
           {
            "marker": {
             "colorbar": {
              "outlinewidth": 0,
              "ticks": ""
             }
            },
            "type": "scattergl"
           }
          ],
          "scattermapbox": [
           {
            "marker": {
             "colorbar": {
              "outlinewidth": 0,
              "ticks": ""
             }
            },
            "type": "scattermapbox"
           }
          ],
          "scatterpolar": [
           {
            "marker": {
             "colorbar": {
              "outlinewidth": 0,
              "ticks": ""
             }
            },
            "type": "scatterpolar"
           }
          ],
          "scatterpolargl": [
           {
            "marker": {
             "colorbar": {
              "outlinewidth": 0,
              "ticks": ""
             }
            },
            "type": "scatterpolargl"
           }
          ],
          "scatterternary": [
           {
            "marker": {
             "colorbar": {
              "outlinewidth": 0,
              "ticks": ""
             }
            },
            "type": "scatterternary"
           }
          ],
          "surface": [
           {
            "colorbar": {
             "outlinewidth": 0,
             "ticks": ""
            },
            "colorscale": [
             [
              0,
              "#0d0887"
             ],
             [
              0.1111111111111111,
              "#46039f"
             ],
             [
              0.2222222222222222,
              "#7201a8"
             ],
             [
              0.3333333333333333,
              "#9c179e"
             ],
             [
              0.4444444444444444,
              "#bd3786"
             ],
             [
              0.5555555555555556,
              "#d8576b"
             ],
             [
              0.6666666666666666,
              "#ed7953"
             ],
             [
              0.7777777777777778,
              "#fb9f3a"
             ],
             [
              0.8888888888888888,
              "#fdca26"
             ],
             [
              1,
              "#f0f921"
             ]
            ],
            "type": "surface"
           }
          ],
          "table": [
           {
            "cells": {
             "fill": {
              "color": "#EBF0F8"
             },
             "line": {
              "color": "white"
             }
            },
            "header": {
             "fill": {
              "color": "#C8D4E3"
             },
             "line": {
              "color": "white"
             }
            },
            "type": "table"
           }
          ]
         },
         "layout": {
          "annotationdefaults": {
           "arrowcolor": "#2a3f5f",
           "arrowhead": 0,
           "arrowwidth": 1
          },
          "autotypenumbers": "strict",
          "coloraxis": {
           "colorbar": {
            "outlinewidth": 0,
            "ticks": ""
           }
          },
          "colorscale": {
           "diverging": [
            [
             0,
             "#8e0152"
            ],
            [
             0.1,
             "#c51b7d"
            ],
            [
             0.2,
             "#de77ae"
            ],
            [
             0.3,
             "#f1b6da"
            ],
            [
             0.4,
             "#fde0ef"
            ],
            [
             0.5,
             "#f7f7f7"
            ],
            [
             0.6,
             "#e6f5d0"
            ],
            [
             0.7,
             "#b8e186"
            ],
            [
             0.8,
             "#7fbc41"
            ],
            [
             0.9,
             "#4d9221"
            ],
            [
             1,
             "#276419"
            ]
           ],
           "sequential": [
            [
             0,
             "#0d0887"
            ],
            [
             0.1111111111111111,
             "#46039f"
            ],
            [
             0.2222222222222222,
             "#7201a8"
            ],
            [
             0.3333333333333333,
             "#9c179e"
            ],
            [
             0.4444444444444444,
             "#bd3786"
            ],
            [
             0.5555555555555556,
             "#d8576b"
            ],
            [
             0.6666666666666666,
             "#ed7953"
            ],
            [
             0.7777777777777778,
             "#fb9f3a"
            ],
            [
             0.8888888888888888,
             "#fdca26"
            ],
            [
             1,
             "#f0f921"
            ]
           ],
           "sequentialminus": [
            [
             0,
             "#0d0887"
            ],
            [
             0.1111111111111111,
             "#46039f"
            ],
            [
             0.2222222222222222,
             "#7201a8"
            ],
            [
             0.3333333333333333,
             "#9c179e"
            ],
            [
             0.4444444444444444,
             "#bd3786"
            ],
            [
             0.5555555555555556,
             "#d8576b"
            ],
            [
             0.6666666666666666,
             "#ed7953"
            ],
            [
             0.7777777777777778,
             "#fb9f3a"
            ],
            [
             0.8888888888888888,
             "#fdca26"
            ],
            [
             1,
             "#f0f921"
            ]
           ]
          },
          "colorway": [
           "#636efa",
           "#EF553B",
           "#00cc96",
           "#ab63fa",
           "#FFA15A",
           "#19d3f3",
           "#FF6692",
           "#B6E880",
           "#FF97FF",
           "#FECB52"
          ],
          "font": {
           "color": "#2a3f5f"
          },
          "geo": {
           "bgcolor": "white",
           "lakecolor": "white",
           "landcolor": "#E5ECF6",
           "showlakes": true,
           "showland": true,
           "subunitcolor": "white"
          },
          "hoverlabel": {
           "align": "left"
          },
          "hovermode": "closest",
          "mapbox": {
           "style": "light"
          },
          "paper_bgcolor": "white",
          "plot_bgcolor": "#E5ECF6",
          "polar": {
           "angularaxis": {
            "gridcolor": "white",
            "linecolor": "white",
            "ticks": ""
           },
           "bgcolor": "#E5ECF6",
           "radialaxis": {
            "gridcolor": "white",
            "linecolor": "white",
            "ticks": ""
           }
          },
          "scene": {
           "xaxis": {
            "backgroundcolor": "#E5ECF6",
            "gridcolor": "white",
            "gridwidth": 2,
            "linecolor": "white",
            "showbackground": true,
            "ticks": "",
            "zerolinecolor": "white"
           },
           "yaxis": {
            "backgroundcolor": "#E5ECF6",
            "gridcolor": "white",
            "gridwidth": 2,
            "linecolor": "white",
            "showbackground": true,
            "ticks": "",
            "zerolinecolor": "white"
           },
           "zaxis": {
            "backgroundcolor": "#E5ECF6",
            "gridcolor": "white",
            "gridwidth": 2,
            "linecolor": "white",
            "showbackground": true,
            "ticks": "",
            "zerolinecolor": "white"
           }
          },
          "shapedefaults": {
           "line": {
            "color": "#2a3f5f"
           }
          },
          "ternary": {
           "aaxis": {
            "gridcolor": "white",
            "linecolor": "white",
            "ticks": ""
           },
           "baxis": {
            "gridcolor": "white",
            "linecolor": "white",
            "ticks": ""
           },
           "bgcolor": "#E5ECF6",
           "caxis": {
            "gridcolor": "white",
            "linecolor": "white",
            "ticks": ""
           }
          },
          "title": {
           "x": 0.05
          },
          "xaxis": {
           "automargin": true,
           "gridcolor": "white",
           "linecolor": "white",
           "ticks": "",
           "title": {
            "standoff": 15
           },
           "zerolinecolor": "white",
           "zerolinewidth": 2
          },
          "yaxis": {
           "automargin": true,
           "gridcolor": "white",
           "linecolor": "white",
           "ticks": "",
           "title": {
            "standoff": 15
           },
           "zerolinecolor": "white",
           "zerolinewidth": 2
          }
         }
        },
        "title": {
         "text": "Accuracy and Precision of Different Models"
        },
        "xaxis": {
         "title": {
          "text": "Models"
         }
        },
        "yaxis": {
         "title": {
          "text": "Score"
         }
        }
       }
      }
     },
     "metadata": {},
     "output_type": "display_data"
    }
   ],
   "source": [
    "import plotly.graph_objects as go\n",
    "\n",
    "# Define the models and their accuracies and precisions\n",
    "models = ['SVC', 'KNN', 'MultinomialNB', 'Decision Tree', 'Logistic Regression', 'Random Forest', 'AdaBoost', 'Extra Tree', 'XGBoost']\n",
    "accuracies = [accuracy_SVC, accuracy_KNN, accuracy_MNB, accuracy_DTC, accuracy_LR, accuracy_RF, accuracy_ADC, accuracy_ETC, accuracy_XGB]\n",
    "precisions = [precision_SVC, precision_KNN, precision_MNB, precision_DTC, precision_LR, precision_RF, precision_ADC, precision_ETC, precision_XGB]\n",
    "\n",
    "# Create the figure\n",
    "fig = go.Figure()\n",
    "\n",
    "# Add bar traces for accuracy and precision\n",
    "fig.add_trace(go.Bar(\n",
    "    x=models,\n",
    "    y=accuracies,\n",
    "    name='Accuracy',\n",
    "    marker_color='skyred'\n",
    "))\n",
    "fig.add_trace(go.Bar(\n",
    "    x=models,\n",
    "    y=precisions,\n",
    "    name='Precision',\n",
    "    marker_color='salmon'\n",
    "))\n",
    "\n",
    "# Update layout\n",
    "fig.update_layout(\n",
    "    title='Accuracy and Precision of Different Models',\n",
    "    xaxis=dict(title='Models'),\n",
    "    yaxis=dict(title='Score'),\n",
    "    barmode='group'  # Group bars for each model\n",
    ")\n",
    "\n",
    "# Show the plot\n",
    "fig.show()"
   ]
  },
  {
   "cell_type": "code",
   "execution_count": 158,
   "id": "e5b5XEAHXgGW",
   "metadata": {
    "colab": {
     "base_uri": "https://localhost:8080/",
     "height": 275
    },
    "executionInfo": {
     "elapsed": 23,
     "status": "ok",
     "timestamp": 1719046017307,
     "user": {
      "displayName": "Mahesh waran",
      "userId": "01052940636805861384"
     },
     "user_tz": -60
    },
    "id": "e5b5XEAHXgGW",
    "outputId": "265ecfc7-3bad-4b93-f09b-3b47f26c29c9"
   },
   "outputs": [
    {
     "data": {
      "text/html": [
       "<div>\n",
       "<style scoped>\n",
       "    .dataframe tbody tr th:only-of-type {\n",
       "        vertical-align: middle;\n",
       "    }\n",
       "\n",
       "    .dataframe tbody tr th {\n",
       "        vertical-align: top;\n",
       "    }\n",
       "\n",
       "    .dataframe thead th {\n",
       "        text-align: right;\n",
       "    }\n",
       "</style>\n",
       "<table border=\"1\" class=\"dataframe\">\n",
       "  <thead>\n",
       "    <tr style=\"text-align: right;\">\n",
       "      <th></th>\n",
       "      <th>result</th>\n",
       "      <th>emails</th>\n",
       "      <th>Length</th>\n",
       "      <th>num_words</th>\n",
       "      <th>num_sentence</th>\n",
       "      <th>transform_text</th>\n",
       "      <th>text_sent_token</th>\n",
       "      <th>stem_msg</th>\n",
       "    </tr>\n",
       "  </thead>\n",
       "  <tbody>\n",
       "    <tr>\n",
       "      <th>0</th>\n",
       "      <td>0</td>\n",
       "      <td>Go until jurong point, crazy.. Available only ...</td>\n",
       "      <td>111</td>\n",
       "      <td>24</td>\n",
       "      <td>2</td>\n",
       "      <td>go jurong point crazi avail bugi n great world...</td>\n",
       "      <td>[go jurong point crazi avail bugi n great worl...</td>\n",
       "      <td>go jurong point crazi avail bugi n great world...</td>\n",
       "    </tr>\n",
       "    <tr>\n",
       "      <th>1</th>\n",
       "      <td>0</td>\n",
       "      <td>Ok lar... Joking wif u oni...</td>\n",
       "      <td>29</td>\n",
       "      <td>8</td>\n",
       "      <td>2</td>\n",
       "      <td>ok lar joke wif You oni</td>\n",
       "      <td>[ok lar joke wif You oni]</td>\n",
       "      <td>ok lar joke wif you oni</td>\n",
       "    </tr>\n",
       "    <tr>\n",
       "      <th>2</th>\n",
       "      <td>1</td>\n",
       "      <td>Free entry in 2 a wkly comp to win FA Cup fina...</td>\n",
       "      <td>155</td>\n",
       "      <td>37</td>\n",
       "      <td>2</td>\n",
       "      <td>free entri 2 wkli comp win fa cup final tkt 21...</td>\n",
       "      <td>[free entri 2 wkli comp win fa cup final tkt 2...</td>\n",
       "      <td>free entri 2 wkli comp win fa cup final tkt 21...</td>\n",
       "    </tr>\n",
       "    <tr>\n",
       "      <th>3</th>\n",
       "      <td>0</td>\n",
       "      <td>U dun say so early hor... U c already then say...</td>\n",
       "      <td>49</td>\n",
       "      <td>13</td>\n",
       "      <td>1</td>\n",
       "      <td>You dun say earli hor You c alreadi say</td>\n",
       "      <td>[You dun say earli hor You c alreadi say]</td>\n",
       "      <td>you dun say earli hor you c alreadi say</td>\n",
       "    </tr>\n",
       "    <tr>\n",
       "      <th>4</th>\n",
       "      <td>0</td>\n",
       "      <td>Nah I don't think he goes to usf, he lives aro...</td>\n",
       "      <td>61</td>\n",
       "      <td>15</td>\n",
       "      <td>1</td>\n",
       "      <td>nah nt think goe usf live around though</td>\n",
       "      <td>[nah nt think goe usf live around though]</td>\n",
       "      <td>nah nt think goe usf live around though</td>\n",
       "    </tr>\n",
       "  </tbody>\n",
       "</table>\n",
       "</div>"
      ],
      "text/plain": [
       "   result                                             emails  Length  \\\n",
       "0       0  Go until jurong point, crazy.. Available only ...     111   \n",
       "1       0                      Ok lar... Joking wif u oni...      29   \n",
       "2       1  Free entry in 2 a wkly comp to win FA Cup fina...     155   \n",
       "3       0  U dun say so early hor... U c already then say...      49   \n",
       "4       0  Nah I don't think he goes to usf, he lives aro...      61   \n",
       "\n",
       "   num_words  num_sentence                                     transform_text  \\\n",
       "0         24             2  go jurong point crazi avail bugi n great world...   \n",
       "1          8             2                            ok lar joke wif You oni   \n",
       "2         37             2  free entri 2 wkli comp win fa cup final tkt 21...   \n",
       "3         13             1            You dun say earli hor You c alreadi say   \n",
       "4         15             1            nah nt think goe usf live around though   \n",
       "\n",
       "                                     text_sent_token  \\\n",
       "0  [go jurong point crazi avail bugi n great worl...   \n",
       "1                          [ok lar joke wif You oni]   \n",
       "2  [free entri 2 wkli comp win fa cup final tkt 2...   \n",
       "3          [You dun say earli hor You c alreadi say]   \n",
       "4          [nah nt think goe usf live around though]   \n",
       "\n",
       "                                            stem_msg  \n",
       "0  go jurong point crazi avail bugi n great world...  \n",
       "1                            ok lar joke wif you oni  \n",
       "2  free entri 2 wkli comp win fa cup final tkt 21...  \n",
       "3            you dun say earli hor you c alreadi say  \n",
       "4            nah nt think goe usf live around though  "
      ]
     },
     "execution_count": 158,
     "metadata": {},
     "output_type": "execute_result"
    }
   ],
   "source": [
    "df_train.head()"
   ]
  },
  {
   "cell_type": "code",
   "execution_count": 159,
   "id": "Lx6PbUprauxY",
   "metadata": {
    "colab": {
     "base_uri": "https://localhost:8080/",
     "height": 35
    },
    "executionInfo": {
     "elapsed": 22,
     "status": "ok",
     "timestamp": 1719046017308,
     "user": {
      "displayName": "Mahesh waran",
      "userId": "01052940636805861384"
     },
     "user_tz": -60
    },
    "id": "Lx6PbUprauxY",
    "outputId": "ee575f20-79c2-47ee-b496-2597909969a6"
   },
   "outputs": [
    {
     "data": {
      "text/plain": [
       "'free entri 2 wkli comp win fa cup final tkt 21st may 2005 text fa 87121 receiv entri question std txt rate c appli 08452810075over18'"
      ]
     },
     "execution_count": 159,
     "metadata": {},
     "output_type": "execute_result"
    }
   ],
   "source": [
    "df_train['stem_msg'][2]"
   ]
  },
  {
   "cell_type": "code",
   "execution_count": 160,
   "id": "7Y8T0q5hau_c",
   "metadata": {
    "colab": {
     "base_uri": "https://localhost:8080/"
    },
    "executionInfo": {
     "elapsed": 285,
     "status": "ok",
     "timestamp": 1719046195411,
     "user": {
      "displayName": "Mahesh waran",
      "userId": "01052940636805861384"
     },
     "user_tz": -60
    },
    "id": "7Y8T0q5hau_c",
    "outputId": "9c3c6e90-62ec-4573-beb5-1c40879038ef"
   },
   "outputs": [
    {
     "name": "stdout",
     "output_type": "stream",
     "text": [
      "Message: 'free entry 2 wkly comp win fa cup final tkts 21st may 2005 text fa 87121 receive entr' - Predicted Label: Spam\n",
      "Message: 'winner valued network customer selected receivea £900 prize reward claim' - Predicted Label: Spam\n",
      "Message: 'im gonna home soon dont want talk stuff anymore tonight k ive cried enou' - Predicted Label: Ham\n"
     ]
    }
   ],
   "source": [
    "\n",
    "# Predict Messgae\n",
    "ham_messages = [\n",
    "    \"Free entry in 2 a wkly comp to win FA Cup final tkts 21st May 2005. Text FA to 87121 to receive entr\",\n",
    "    \"WINNER!! As a valued network customer you have been selected to receivea £900 prize reward! To claim...\",\n",
    "    \"I'm gonna be home soon and i don't want to talk about this stuff anymore tonight, k? I've cried enou..\"\n",
    "]\n",
    "\n",
    "# Preprocess Text\n",
    "preprocessed_messages = []\n",
    "for msg in ham_messages:\n",
    "    # Lower case\n",
    "    msg = msg.lower()\n",
    "    # Remove punctuation\n",
    "    msg = msg.translate(str.maketrans('', '', string.punctuation))\n",
    "    # Remove stopwords\n",
    "    msg = ' '.join([word for word in msg.split() if word not in stopwords.words('english')])\n",
    "    preprocessed_messages.append(msg)\n",
    "\n",
    "# Vectorize the preprocessed messages using the same vectorizer used during training\n",
    "X_input = cv.transform(preprocessed_messages).toarray()\n",
    "\n",
    "# Predict the class label for the vectorized text messages\n",
    "predicted_labels = xgb.predict(X_input)\n",
    "\n",
    "# Print the predicted label for each message\n",
    "for idx, msg in enumerate(preprocessed_messages):\n",
    "    if predicted_labels[idx] == 0:\n",
    "        print(f\"Message: '{msg}' - Predicted Label: Ham\")\n",
    "    else:\n",
    "        print(f\"Message: '{msg}' - Predicted Label: Spam\")\n"
   ]
  }
 ],
 "metadata": {
  "colab": {
   "provenance": []
  },
  "kernelspec": {
   "display_name": "Python 3",
   "language": "python",
   "name": "python3"
  },
  "language_info": {
   "codemirror_mode": {
    "name": "ipython",
    "version": 3
   },
   "file_extension": ".py",
   "mimetype": "text/x-python",
   "name": "python",
   "nbconvert_exporter": "python",
   "pygments_lexer": "ipython3",
   "version": "3.10.12"
  }
 },
 "nbformat": 4,
 "nbformat_minor": 5
}
