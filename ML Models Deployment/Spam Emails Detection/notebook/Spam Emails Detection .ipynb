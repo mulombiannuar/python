{
 "cells": [
  {
   "cell_type": "markdown",
   "id": "7a342e1b",
   "metadata": {},
   "source": [
    "### Importing the important libraries and dataset\n",
    "\n",
    "To begin, import libraries like pandas and matplotlib/seaborn for data handling and visualization. Perform data preprocessing using NLTK, import email data from CSV file, and import machine learning algorithms like SVC, Random Forest, and Naive Bayes Classifier for model building."
   ]
  },
  {
   "cell_type": "code",
   "execution_count": 1,
   "id": "7150c438",
   "metadata": {
    "colab": {
     "base_uri": "https://localhost:8080/"
    },
    "executionInfo": {
     "elapsed": 302,
     "status": "ok",
     "timestamp": 1719045692142,
     "user": {
      "displayName": "Mahesh waran",
      "userId": "01052940636805861384"
     },
     "user_tz": -60
    },
    "id": "7150c438",
    "outputId": "de5c0d2a-9ca1-49c6-d563-49d9e6a9bf5b"
   },
   "outputs": [
    {
     "name": "stderr",
     "output_type": "stream",
     "text": [
      "[nltk_data] Downloading package stopwords to\n",
      "[nltk_data]     /home/mulombi/nltk_data...\n",
      "[nltk_data]   Package stopwords is already up-to-date!\n",
      "[nltk_data] Downloading package punkt to /home/mulombi/nltk_data...\n",
      "[nltk_data]   Package punkt is already up-to-date!\n",
      "[nltk_data] Downloading package punkt_tab to\n",
      "[nltk_data]     /home/mulombi/nltk_data...\n",
      "[nltk_data]   Package punkt_tab is already up-to-date!\n"
     ]
    }
   ],
   "source": [
    "import pandas as pd\n",
    "import matplotlib.pyplot as plt\n",
    "import seaborn as sns\n",
    "\n",
    "# data preprocessing\n",
    "import nltk\n",
    "nltk.download('stopwords')\n",
    "nltk.download('punkt')\n",
    "nltk.download('punkt_tab')\n",
    "import string\n",
    "from nltk.corpus import stopwords\n",
    "from nltk.stem import PorterStemmer\n",
    "from nltk.tokenize import sent_tokenize, word_tokenize\n",
    "import re\n",
    "from collections import Counter\n",
    "from sklearn.preprocessing import LabelEncoder\n",
    "from wordcloud import WordCloud\n",
    "import PIL\n",
    "\n",
    "# model Building\n",
    "from sklearn.feature_extraction.text import TfidfVectorizer\n",
    "from sklearn.model_selection import train_test_split\n",
    "from sklearn.metrics import accuracy_score,confusion_matrix,precision_score\n",
    "from sklearn.svm import SVC\n",
    "from sklearn.ensemble import RandomForestClassifier\n",
    "from sklearn.naive_bayes import MultinomialNB\n",
    "from sklearn.linear_model import LogisticRegression\n",
    "from sklearn.neighbors import KNeighborsClassifier\n",
    "\n",
    "# import warnings\n",
    "import warnings\n",
    "warnings.filterwarnings(\"ignore\")"
   ]
  },
  {
   "cell_type": "code",
   "execution_count": 2,
   "id": "cbb7e544",
   "metadata": {
    "executionInfo": {
     "elapsed": 296,
     "status": "ok",
     "timestamp": 1719045692816,
     "user": {
      "displayName": "Mahesh waran",
      "userId": "01052940636805861384"
     },
     "user_tz": -60
    },
    "id": "cbb7e544"
   },
   "outputs": [],
   "source": [
    "# importing the Dataset\n",
    "data = pd.read_csv(\"emails_sample.csv\",encoding='latin1')"
   ]
  },
  {
   "cell_type": "code",
   "execution_count": 4,
   "id": "4805c15c",
   "metadata": {
    "colab": {
     "base_uri": "https://localhost:8080/",
     "height": 206
    },
    "executionInfo": {
     "elapsed": 20,
     "status": "ok",
     "timestamp": 1719045692817,
     "user": {
      "displayName": "Mahesh waran",
      "userId": "01052940636805861384"
     },
     "user_tz": -60
    },
    "id": "4805c15c",
    "outputId": "c882caf4-6ec6-4c61-feb2-e2d68efe7510"
   },
   "outputs": [
    {
     "data": {
      "text/html": [
       "<div>\n",
       "<style scoped>\n",
       "    .dataframe tbody tr th:only-of-type {\n",
       "        vertical-align: middle;\n",
       "    }\n",
       "\n",
       "    .dataframe tbody tr th {\n",
       "        vertical-align: top;\n",
       "    }\n",
       "\n",
       "    .dataframe thead th {\n",
       "        text-align: right;\n",
       "    }\n",
       "</style>\n",
       "<table border=\"1\" class=\"dataframe\">\n",
       "  <thead>\n",
       "    <tr style=\"text-align: right;\">\n",
       "      <th></th>\n",
       "      <th>v1</th>\n",
       "      <th>v2</th>\n",
       "      <th>Unnamed: 2</th>\n",
       "      <th>Unnamed: 3</th>\n",
       "      <th>Unnamed: 4</th>\n",
       "    </tr>\n",
       "  </thead>\n",
       "  <tbody>\n",
       "    <tr>\n",
       "      <th>3204</th>\n",
       "      <td>ham</td>\n",
       "      <td>Oh, yes, I've just been a little under the wea...</td>\n",
       "      <td>NaN</td>\n",
       "      <td>NaN</td>\n",
       "      <td>NaN</td>\n",
       "    </tr>\n",
       "    <tr>\n",
       "      <th>2675</th>\n",
       "      <td>ham</td>\n",
       "      <td>I'm sick !! I'm needy !! I want you !! *pouts*...</td>\n",
       "      <td>NaN</td>\n",
       "      <td>NaN</td>\n",
       "      <td>NaN</td>\n",
       "    </tr>\n",
       "    <tr>\n",
       "      <th>3476</th>\n",
       "      <td>ham</td>\n",
       "      <td>I got it before the new year cos yetunde said ...</td>\n",
       "      <td>NaN</td>\n",
       "      <td>NaN</td>\n",
       "      <td>NaN</td>\n",
       "    </tr>\n",
       "    <tr>\n",
       "      <th>2540</th>\n",
       "      <td>ham</td>\n",
       "      <td>They said if its gonna snow, it will start aro...</td>\n",
       "      <td>NaN</td>\n",
       "      <td>NaN</td>\n",
       "      <td>NaN</td>\n",
       "    </tr>\n",
       "    <tr>\n",
       "      <th>4339</th>\n",
       "      <td>ham</td>\n",
       "      <td>I want to sent  &amp;lt;#&amp;gt; mesages today. Thats...</td>\n",
       "      <td>NaN</td>\n",
       "      <td>NaN</td>\n",
       "      <td>NaN</td>\n",
       "    </tr>\n",
       "  </tbody>\n",
       "</table>\n",
       "</div>"
      ],
      "text/plain": [
       "       v1                                                 v2 Unnamed: 2  \\\n",
       "3204  ham  Oh, yes, I've just been a little under the wea...        NaN   \n",
       "2675  ham  I'm sick !! I'm needy !! I want you !! *pouts*...        NaN   \n",
       "3476  ham  I got it before the new year cos yetunde said ...        NaN   \n",
       "2540  ham  They said if its gonna snow, it will start aro...        NaN   \n",
       "4339  ham  I want to sent  &lt;#&gt; mesages today. Thats...        NaN   \n",
       "\n",
       "     Unnamed: 3 Unnamed: 4  \n",
       "3204        NaN        NaN  \n",
       "2675        NaN        NaN  \n",
       "3476        NaN        NaN  \n",
       "2540        NaN        NaN  \n",
       "4339        NaN        NaN  "
      ]
     },
     "execution_count": 4,
     "metadata": {},
     "output_type": "execute_result"
    }
   ],
   "source": [
    "data.sample(5)"
   ]
  },
  {
   "cell_type": "markdown",
   "id": "f4772bd7",
   "metadata": {
    "id": "f4772bd7"
   },
   "source": [
    "### Initial Exploration And Data Cleaning\n",
    "\n",
    "We will begin by performing an initial exploration and cleaning of the data to ensure we have a high-quality dataset for analysis."
   ]
  },
  {
   "cell_type": "code",
   "execution_count": 5,
   "id": "9ee5fa9b",
   "metadata": {
    "colab": {
     "base_uri": "https://localhost:8080/"
    },
    "executionInfo": {
     "elapsed": 13,
     "status": "ok",
     "timestamp": 1719045692817,
     "user": {
      "displayName": "Mahesh waran",
      "userId": "01052940636805861384"
     },
     "user_tz": -60
    },
    "id": "9ee5fa9b",
    "outputId": "cd7f903e-d702-4d9e-fefb-02dddb6bef80"
   },
   "outputs": [
    {
     "data": {
      "text/plain": [
       "(5572, 5)"
      ]
     },
     "execution_count": 5,
     "metadata": {},
     "output_type": "execute_result"
    }
   ],
   "source": [
    "data.shape"
   ]
  },
  {
   "cell_type": "code",
   "execution_count": 6,
   "id": "3e68a41d",
   "metadata": {
    "executionInfo": {
     "elapsed": 10,
     "status": "ok",
     "timestamp": 1719045692817,
     "user": {
      "displayName": "Mahesh waran",
      "userId": "01052940636805861384"
     },
     "user_tz": -60
    },
    "id": "3e68a41d"
   },
   "outputs": [],
   "source": [
    "# remove unwanted columns\n",
    "data.drop(columns=[\"Unnamed: 2\", \"Unnamed: 3\", \"Unnamed: 4\"], inplace=True)"
   ]
  },
  {
   "cell_type": "code",
   "execution_count": 10,
   "id": "6d91a070",
   "metadata": {
    "executionInfo": {
     "elapsed": 505,
     "status": "ok",
     "timestamp": 1719045693313,
     "user": {
      "displayName": "Mahesh waran",
      "userId": "01052940636805861384"
     },
     "user_tz": -60
    },
    "id": "6d91a070"
   },
   "outputs": [],
   "source": [
    "# rename columns to more intuitive names\n",
    "data.rename(columns={'v1': 'result', 'v2': 'emails'}, inplace=True)"
   ]
  },
  {
   "cell_type": "code",
   "execution_count": 8,
   "id": "4a652229",
   "metadata": {
    "colab": {
     "base_uri": "https://localhost:8080/",
     "height": 206
    },
    "executionInfo": {
     "elapsed": 25,
     "status": "ok",
     "timestamp": 1719045693313,
     "user": {
      "displayName": "Mahesh waran",
      "userId": "01052940636805861384"
     },
     "user_tz": -60
    },
    "id": "4a652229",
    "outputId": "69f13688-66fb-4e50-8cb4-ae21b1970611",
    "scrolled": true
   },
   "outputs": [
    {
     "data": {
      "text/html": [
       "<div>\n",
       "<style scoped>\n",
       "    .dataframe tbody tr th:only-of-type {\n",
       "        vertical-align: middle;\n",
       "    }\n",
       "\n",
       "    .dataframe tbody tr th {\n",
       "        vertical-align: top;\n",
       "    }\n",
       "\n",
       "    .dataframe thead th {\n",
       "        text-align: right;\n",
       "    }\n",
       "</style>\n",
       "<table border=\"1\" class=\"dataframe\">\n",
       "  <thead>\n",
       "    <tr style=\"text-align: right;\">\n",
       "      <th></th>\n",
       "      <th>v1</th>\n",
       "      <th>v2</th>\n",
       "    </tr>\n",
       "  </thead>\n",
       "  <tbody>\n",
       "    <tr>\n",
       "      <th>0</th>\n",
       "      <td>ham</td>\n",
       "      <td>Go until jurong point, crazy.. Available only ...</td>\n",
       "    </tr>\n",
       "    <tr>\n",
       "      <th>1</th>\n",
       "      <td>ham</td>\n",
       "      <td>Ok lar... Joking wif u oni...</td>\n",
       "    </tr>\n",
       "    <tr>\n",
       "      <th>2</th>\n",
       "      <td>spam</td>\n",
       "      <td>Free entry in 2 a wkly comp to win FA Cup fina...</td>\n",
       "    </tr>\n",
       "    <tr>\n",
       "      <th>3</th>\n",
       "      <td>ham</td>\n",
       "      <td>U dun say so early hor... U c already then say...</td>\n",
       "    </tr>\n",
       "    <tr>\n",
       "      <th>4</th>\n",
       "      <td>ham</td>\n",
       "      <td>Nah I don't think he goes to usf, he lives aro...</td>\n",
       "    </tr>\n",
       "  </tbody>\n",
       "</table>\n",
       "</div>"
      ],
      "text/plain": [
       "     v1                                                 v2\n",
       "0   ham  Go until jurong point, crazy.. Available only ...\n",
       "1   ham                      Ok lar... Joking wif u oni...\n",
       "2  spam  Free entry in 2 a wkly comp to win FA Cup fina...\n",
       "3   ham  U dun say so early hor... U c already then say...\n",
       "4   ham  Nah I don't think he goes to usf, he lives aro..."
      ]
     },
     "execution_count": 8,
     "metadata": {},
     "output_type": "execute_result"
    }
   ],
   "source": [
    "data.head(5)"
   ]
  },
  {
   "cell_type": "code",
   "execution_count": 11,
   "id": "3809ba0a",
   "metadata": {},
   "outputs": [
    {
     "data": {
      "text/plain": [
       "result\n",
       "ham     4825\n",
       "spam     747\n",
       "Name: count, dtype: int64"
      ]
     },
     "execution_count": 11,
     "metadata": {},
     "output_type": "execute_result"
    }
   ],
   "source": [
    "# get unique values for results columns\n",
    "data['result'].value_counts()"
   ]
  },
  {
   "cell_type": "code",
   "execution_count": 13,
   "id": "1853a7e5",
   "metadata": {
    "colab": {
     "base_uri": "https://localhost:8080/"
    },
    "executionInfo": {
     "elapsed": 24,
     "status": "ok",
     "timestamp": 1719045693313,
     "user": {
      "displayName": "Mahesh waran",
      "userId": "01052940636805861384"
     },
     "user_tz": -60
    },
    "id": "1853a7e5",
    "outputId": "8242b98d-22ff-4aa9-a2f4-53fe89bbed8f"
   },
   "outputs": [
    {
     "data": {
      "text/plain": [
       "result    0\n",
       "emails    0\n",
       "dtype: int64"
      ]
     },
     "execution_count": 13,
     "metadata": {},
     "output_type": "execute_result"
    }
   ],
   "source": [
    "# check for missing values\n",
    "data.isnull().sum()"
   ]
  },
  {
   "cell_type": "code",
   "execution_count": 12,
   "id": "70ff1206",
   "metadata": {
    "colab": {
     "base_uri": "https://localhost:8080/"
    },
    "executionInfo": {
     "elapsed": 23,
     "status": "ok",
     "timestamp": 1719045693314,
     "user": {
      "displayName": "Mahesh waran",
      "userId": "01052940636805861384"
     },
     "user_tz": -60
    },
    "id": "70ff1206",
    "outputId": "eadb6048-8d4b-4945-9967-a2c583e10d46"
   },
   "outputs": [
    {
     "data": {
      "text/plain": [
       "403"
      ]
     },
     "execution_count": 12,
     "metadata": {},
     "output_type": "execute_result"
    }
   ],
   "source": [
    "# check for duplicates\n",
    "data.duplicated().sum()"
   ]
  },
  {
   "cell_type": "code",
   "execution_count": 13,
   "id": "e2f24108",
   "metadata": {
    "executionInfo": {
     "elapsed": 18,
     "status": "ok",
     "timestamp": 1719045693314,
     "user": {
      "displayName": "Mahesh waran",
      "userId": "01052940636805861384"
     },
     "user_tz": -60
    },
    "id": "e2f24108"
   },
   "outputs": [],
   "source": [
    "# remove duplicates\n",
    "data = data.drop_duplicates(keep='first')"
   ]
  },
  {
   "cell_type": "code",
   "execution_count": 14,
   "id": "627b6f2e",
   "metadata": {
    "colab": {
     "base_uri": "https://localhost:8080/"
    },
    "executionInfo": {
     "elapsed": 17,
     "status": "ok",
     "timestamp": 1719045693314,
     "user": {
      "displayName": "Mahesh waran",
      "userId": "01052940636805861384"
     },
     "user_tz": -60
    },
    "id": "627b6f2e",
    "outputId": "daf3f9fc-3cc3-460d-a4b0-268f46d49ad9"
   },
   "outputs": [
    {
     "data": {
      "text/plain": [
       "(5169, 2)"
      ]
     },
     "execution_count": 14,
     "metadata": {},
     "output_type": "execute_result"
    }
   ],
   "source": [
    "data.shape"
   ]
  },
  {
   "cell_type": "markdown",
   "id": "7cc68d23",
   "metadata": {
    "id": "7cc68d23"
   },
   "source": [
    "### Exploratory Data Analysis (EDA)\n",
    "\n",
    "Exploratory Data Analysis (EDA) is a method used to analyze data on spam and regular emails. It involves comparing spam and ham emails, using pie charts, average length, word count, and sentence count, and using heatmaps for correlation."
   ]
  },
  {
   "cell_type": "markdown",
   "id": "5c458196",
   "metadata": {
    "id": "5c458196"
   },
   "source": [
    " **1) Distribution of Labels**"
   ]
  },
  {
   "cell_type": "code",
   "execution_count": 15,
   "id": "76b17aac",
   "metadata": {
    "colab": {
     "base_uri": "https://localhost:8080/",
     "height": 521
    },
    "executionInfo": {
     "elapsed": 15,
     "status": "ok",
     "timestamp": 1719045693315,
     "user": {
      "displayName": "Mahesh waran",
      "userId": "01052940636805861384"
     },
     "user_tz": -60
    },
    "id": "76b17aac",
    "outputId": "378d7f34-f973-4653-e6c1-6676d567865f"
   },
   "outputs": [
    {
     "data": {
      "image/png": "[encoded data removed]",
      "text/plain": [
       "<Figure size 800x600 with 1 Axes>"
      ]
     },
     "metadata": {},
     "output_type": "display_data"
    }
   ],
   "source": [
    "labels = data['result'].value_counts()\n",
    "\n",
    "# Plotting \n",
    "plt.figure(figsize=(8, 6))\n",
    "plt.pie(x=labels, labels=labels.index, autopct='%1.1f%%', startangle=140)\n",
    "plt.title('Distribution of Spam and Non-Spam Emails')\n",
    "plt.axis('equal')\n",
    "plt.show()"
   ]
  },
  {
   "cell_type": "markdown",
   "id": "4dca07b8",
   "metadata": {
    "id": "4dca07b8"
   },
   "source": [
    "As we can see from the above graph, the majority of emails in the dataset (87.4%) are categorized as ham, or non-spam, while only a smaller percentage (12.6%) are spam. This discrepancy matters since it influences our model's ability to identify spam emails. Given the large number of non-spam emails, the model may get skewed and overlook certain spam emails. To address this, we must train and test our model using certain methods. By doing this, we can ensure that our model is capable of identifying spam emails as well as non-spam emails, protecting our inboxes and preventing clutter."
   ]
  },
  {
   "cell_type": "code",
   "execution_count": 16,
   "id": "f9202b76",
   "metadata": {
    "executionInfo": {
     "elapsed": 2184,
     "status": "ok",
     "timestamp": 1719045695486,
     "user": {
      "displayName": "Mahesh waran",
      "userId": "01052940636805861384"
     },
     "user_tz": -60
    },
    "id": "f9202b76"
   },
   "outputs": [],
   "source": [
    "data['length'] = [len(email) for email in data['emails']] # calculating length of each email\n",
    "data['num_words'] = [len(word_tokenize(email)) for email in data['emails']] # calculating number of words in each email\n",
    "data['num_sentence'] = [len(sent_tokenize(email)) for email in data['emails']] # calculating number of sentences in each email"
   ]
  },
  {
   "cell_type": "code",
   "execution_count": 17,
   "id": "4b157f2d",
   "metadata": {
    "colab": {
     "base_uri": "https://localhost:8080/",
     "height": 112
    },
    "executionInfo": {
     "elapsed": 14,
     "status": "ok",
     "timestamp": 1719045695487,
     "user": {
      "displayName": "Mahesh waran",
      "userId": "01052940636805861384"
     },
     "user_tz": -60
    },
    "id": "4b157f2d",
    "outputId": "4692346f-04b8-4a74-8312-5245e6d07ab9"
   },
   "outputs": [
    {
     "data": {
      "text/html": [
       "<div>\n",
       "<style scoped>\n",
       "    .dataframe tbody tr th:only-of-type {\n",
       "        vertical-align: middle;\n",
       "    }\n",
       "\n",
       "    .dataframe tbody tr th {\n",
       "        vertical-align: top;\n",
       "    }\n",
       "\n",
       "    .dataframe thead th {\n",
       "        text-align: right;\n",
       "    }\n",
       "</style>\n",
       "<table border=\"1\" class=\"dataframe\">\n",
       "  <thead>\n",
       "    <tr style=\"text-align: right;\">\n",
       "      <th></th>\n",
       "      <th>result</th>\n",
       "      <th>emails</th>\n",
       "      <th>length</th>\n",
       "      <th>num_words</th>\n",
       "      <th>num_sentence</th>\n",
       "    </tr>\n",
       "  </thead>\n",
       "  <tbody>\n",
       "    <tr>\n",
       "      <th>0</th>\n",
       "      <td>ham</td>\n",
       "      <td>Go until jurong point, crazy.. Available only ...</td>\n",
       "      <td>111</td>\n",
       "      <td>24</td>\n",
       "      <td>2</td>\n",
       "    </tr>\n",
       "    <tr>\n",
       "      <th>1</th>\n",
       "      <td>ham</td>\n",
       "      <td>Ok lar... Joking wif u oni...</td>\n",
       "      <td>29</td>\n",
       "      <td>8</td>\n",
       "      <td>2</td>\n",
       "    </tr>\n",
       "    <tr>\n",
       "      <th>2</th>\n",
       "      <td>spam</td>\n",
       "      <td>Free entry in 2 a wkly comp to win FA Cup fina...</td>\n",
       "      <td>155</td>\n",
       "      <td>37</td>\n",
       "      <td>2</td>\n",
       "    </tr>\n",
       "    <tr>\n",
       "      <th>3</th>\n",
       "      <td>ham</td>\n",
       "      <td>U dun say so early hor... U c already then say...</td>\n",
       "      <td>49</td>\n",
       "      <td>13</td>\n",
       "      <td>1</td>\n",
       "    </tr>\n",
       "    <tr>\n",
       "      <th>4</th>\n",
       "      <td>ham</td>\n",
       "      <td>Nah I don't think he goes to usf, he lives aro...</td>\n",
       "      <td>61</td>\n",
       "      <td>15</td>\n",
       "      <td>1</td>\n",
       "    </tr>\n",
       "  </tbody>\n",
       "</table>\n",
       "</div>"
      ],
      "text/plain": [
       "  result                                             emails  length  \\\n",
       "0    ham  Go until jurong point, crazy.. Available only ...     111   \n",
       "1    ham                      Ok lar... Joking wif u oni...      29   \n",
       "2   spam  Free entry in 2 a wkly comp to win FA Cup fina...     155   \n",
       "3    ham  U dun say so early hor... U c already then say...      49   \n",
       "4    ham  Nah I don't think he goes to usf, he lives aro...      61   \n",
       "\n",
       "   num_words  num_sentence  \n",
       "0         24             2  \n",
       "1          8             2  \n",
       "2         37             2  \n",
       "3         13             1  \n",
       "4         15             1  "
      ]
     },
     "execution_count": 17,
     "metadata": {},
     "output_type": "execute_result"
    }
   ],
   "source": [
    "data.head()"
   ]
  },
  {
   "cell_type": "code",
   "execution_count": 22,
   "id": "02a58a8a",
   "metadata": {},
   "outputs": [
    {
     "data": {
      "text/plain": [
       "111"
      ]
     },
     "execution_count": 22,
     "metadata": {},
     "output_type": "execute_result"
    }
   ],
   "source": [
    "len(data.iloc[0]['emails'])"
   ]
  },
  {
   "cell_type": "markdown",
   "id": "aae51f9f",
   "metadata": {
    "id": "aae51f9f"
   },
   "source": [
    "**2) Average Length of Emails for Spam and Ham**"
   ]
  },
  {
   "cell_type": "code",
   "execution_count": 18,
   "id": "c0159c42",
   "metadata": {},
   "outputs": [
    {
     "name": "stdout",
     "output_type": "stream",
     "text": [
      "Average Length of Spam Emails:  137.89\n",
      "Average Length of Ham Emails:  70.46\n"
     ]
    }
   ],
   "source": [
    "# calculate average length of spam and ham emails\n",
    "avg_length_spam = data[data['result'] == 'spam']['length'].mean()\n",
    "avg_length_ham = data[data['result'] == 'ham']['length'].mean()\n",
    "print(f\"Average Length of Spam Emails: {avg_length_spam: .2f}\")\n",
    "print(f\"Average Length of Ham Emails: {avg_length_ham: .2f}\")"
   ]
  },
  {
   "cell_type": "code",
   "execution_count": 19,
   "id": "84f842d1",
   "metadata": {
    "colab": {
     "base_uri": "https://localhost:8080/",
     "height": 507
    },
    "executionInfo": {
     "elapsed": 526,
     "status": "ok",
     "timestamp": 1719045696000,
     "user": {
      "displayName": "Mahesh waran",
      "userId": "01052940636805861384"
     },
     "user_tz": -60
    },
    "id": "84f842d1",
    "outputId": "c65fdd01-59e5-41fa-c966-1cca2a07e12f"
   },
   "outputs": [
    {
     "data": {
      "image/png": "[encoded data removed]",
      "text/plain": [
       "<Figure size 640x480 with 1 Axes>"
      ]
     },
     "metadata": {},
     "output_type": "display_data"
    }
   ],
   "source": [
    "# plotting the bar graph\n",
    "sns.barplot(\n",
    "    x=['Spam', 'Ham'], \n",
    "    y=[avg_length_spam, avg_length_ham], \n",
    "    hue=['Spam', 'Ham'], \n",
    "    palette=['red', 'green'], \n",
    "    dodge=False, \n",
    "    legend=True\n",
    "    )\n",
    "plt.title('Average Length of Emails for Spam and Ham')\n",
    "plt.xlabel('Email Type')\n",
    "plt.ylabel('Average Length')\n",
    "plt.show()"
   ]
  },
  {
   "cell_type": "markdown",
   "id": "e03b8ff5",
   "metadata": {
    "id": "e03b8ff5"
   },
   "source": [
    "The average length of spam emails is 137 characters, which is significantly longer than the average length of ordinary (ham) emails. Conversely, standard emails are substantially shorter, with an average of roughly 70 characters. This indicates that spam emails typically contain more content and are more wordy, perhaps in an effort to get your attention. Regular emails, such as those you receive for business or from friends, are typically brief and direct. Knowing this enables us to create more effective solutions for removing spam and maintaining the organization of our inboxes."
   ]
  },
  {
   "cell_type": "markdown",
   "id": "9a841265",
   "metadata": {
    "id": "9a841265"
   },
   "source": [
    "**3) Average Word of Emails for Spam and Ham**"
   ]
  },
  {
   "cell_type": "code",
   "execution_count": 20,
   "id": "146b6e67",
   "metadata": {},
   "outputs": [
    {
     "name": "stdout",
     "output_type": "stream",
     "text": [
      "Average Words of Spam Emails: 27.67\n",
      "Average Words of Ham Emails: 17.12\n"
     ]
    }
   ],
   "source": [
    "#calculate average number of words in spam and ham emails\n",
    "avg_word_spam = data[data['result'] == 'spam']['num_words'].mean()\n",
    "avg_word_ham = data[data['result'] == 'ham']['num_words'].mean()\n",
    "print(f\"Average Words of Spam Emails: {avg_word_spam:.2f}\")\n",
    "print(f\"Average Words of Ham Emails: {avg_word_ham:.2f}\")"
   ]
  },
  {
   "cell_type": "code",
   "execution_count": 21,
   "id": "d965abe2",
   "metadata": {
    "colab": {
     "base_uri": "https://localhost:8080/",
     "height": 507
    },
    "executionInfo": {
     "elapsed": 673,
     "status": "ok",
     "timestamp": 1719045696663,
     "user": {
      "displayName": "Mahesh waran",
      "userId": "01052940636805861384"
     },
     "user_tz": -60
    },
    "id": "d965abe2",
    "outputId": "7859dc5d-76ca-4d52-9bb5-9fca7f53bb47"
   },
   "outputs": [
    {
     "data": {
      "image/png": "[encoded data removed]",
      "text/plain": [
       "<Figure size 640x480 with 1 Axes>"
      ]
     },
     "metadata": {},
     "output_type": "display_data"
    }
   ],
   "source": [
    "# Plotting the graph\n",
    "sns.barplot(\n",
    "    x=['Spam', 'Ham'], \n",
    "    y=[avg_word_spam, avg_word_ham], \n",
    "    hue=['Spam', 'Ham'], \n",
    "    palette=['red', 'green'], \n",
    "    dodge=False, \n",
    "    legend=True\n",
    "    )\n",
    "plt.title('Average Words of Emails for Spam and Ham')\n",
    "plt.xlabel('Email Type')\n",
    "plt.ylabel('Average Words')\n",
    "plt.show()"
   ]
  },
  {
   "cell_type": "markdown",
   "id": "1aef369e",
   "metadata": {
    "id": "1aef369e"
   },
   "source": [
    "The graph above shows that spam emails are typically longer—an average of almost 27 words. Regular ham emails, on the other hand, are shorter, with an average of only 17 words. This indicates that spam emails are typically longer, perhaps as a result of the ads or false information they contain. Regular emails, on the other hand, are clearer and more direct. Knowing this makes it simpler to locate the emails that are important to us and helps us develop stronger filters to remove spam and keep our inboxes clear of unsolicited messages."
   ]
  },
  {
   "cell_type": "markdown",
   "id": "6449f5e1",
   "metadata": {
    "id": "6449f5e1"
   },
   "source": [
    "**4) Average Sentence of Emails for Spam and Ham**"
   ]
  },
  {
   "cell_type": "code",
   "execution_count": 22,
   "id": "ddcf621b",
   "metadata": {},
   "outputs": [
    {
     "name": "stdout",
     "output_type": "stream",
     "text": [
      "Average Sentence of Spam Emails: 2.97\n",
      "Average Sentence of Ham Emails: 1.82\n"
     ]
    }
   ],
   "source": [
    "#calculate average number of sentences in spam and ham emails\n",
    "avg_sentence_spam = data[data['result'] == 'spam']['num_sentence'].mean()\n",
    "avg_sentence_ham = data[data['result'] == 'ham']['num_sentence'].mean()\n",
    "print(\"Average Sentence of Spam Emails:\", round(avg_sentence_spam, 2))\n",
    "print(\"Average Sentence of Ham Emails:\", round(avg_sentence_ham, 2))"
   ]
  },
  {
   "cell_type": "code",
   "execution_count": 23,
   "id": "6cff55cf",
   "metadata": {
    "colab": {
     "base_uri": "https://localhost:8080/",
     "height": 507
    },
    "executionInfo": {
     "elapsed": 390,
     "status": "ok",
     "timestamp": 1719045697040,
     "user": {
      "displayName": "Mahesh waran",
      "userId": "01052940636805861384"
     },
     "user_tz": -60
    },
    "id": "6cff55cf",
    "outputId": "172ade3b-3d6d-45f5-ec61-957106bc93a9"
   },
   "outputs": [
    {
     "data": {
      "image/png": "[encoded data removed]",
      "text/plain": [
       "<Figure size 640x480 with 1 Axes>"
      ]
     },
     "metadata": {},
     "output_type": "display_data"
    }
   ],
   "source": [
    "# Plotting the graph\n",
    "sns.barplot(  \n",
    "    x=['Spam', 'Ham'], \n",
    "    y=[avg_sentence_spam, avg_sentence_ham], \n",
    "    hue=['Spam', 'Ham'], \n",
    "    palette=['red', 'green'], \n",
    "    dodge=False, \n",
    "    legend=False)\n",
    "plt.title('Average Sentence of Emails for Spam and Ham')\n",
    "plt.xlabel('Email Type')\n",
    "plt.ylabel('Average Sentence')\n",
    "plt.show()"
   ]
  },
  {
   "cell_type": "markdown",
   "id": "744a00b2",
   "metadata": {
    "id": "744a00b2"
   },
   "source": [
    "As can be seen from the accompanying graph, spam emails typically contain longer phrases than other types of emails. Regular emails often have two sentences, however spam emails typically contain three. This means that ordinary emails are typically shorter and more direct, but spam emails may be attempting to say more or persuade you of something. By being aware of this distinction, we can create more effective systems to identify and weed out spam emails, making our inboxes safer and cleaner for everyone to use."
   ]
  },
  {
   "cell_type": "markdown",
   "id": "307fe9d9",
   "metadata": {
    "id": "307fe9d9"
   },
   "source": [
    "**5) Relationship between Length and Spam**"
   ]
  },
  {
   "cell_type": "code",
   "execution_count": 29,
   "id": "8acf029a",
   "metadata": {},
   "outputs": [
    {
     "name": "stdout",
     "output_type": "stream",
     "text": [
      "0.3847170667143065\n"
     ]
    }
   ],
   "source": [
    "# correlation coefficient between email length and spam classification\n",
    "correlation = data['length'].corr((data['result'] == 'spam').astype(int))\n",
    "print(correlation)"
   ]
  },
  {
   "cell_type": "code",
   "execution_count": 31,
   "id": "dd80367b",
   "metadata": {
    "colab": {
     "base_uri": "https://localhost:8080/",
     "height": 489
    },
    "executionInfo": {
     "elapsed": 489,
     "status": "ok",
     "timestamp": 1719045697512,
     "user": {
      "displayName": "Mahesh waran",
      "userId": "01052940636805861384"
     },
     "user_tz": -60
    },
    "id": "dd80367b",
    "outputId": "9b33539e-17de-47b0-a99e-daef258f4d6f"
   },
   "outputs": [
    {
     "data": {
      "image/png": "[encoded data removed]",
      "text/plain": [
       "<Figure size 640x480 with 1 Axes>"
      ]
     },
     "metadata": {},
     "output_type": "display_data"
    }
   ],
   "source": [
    "sns.violinplot(\n",
    "    data=data, \n",
    "    x='length', \n",
    "    y='result', \n",
    "    hue='result', \n",
    "    palette=['green', 'red']\n",
    ")\n",
    "plt.xlabel('Email Length')\n",
    "plt.ylabel('Spam Classification')\n",
    "plt.title('Relationship between Email Length and Spam Classification')\n",
    "plt.show()"
   ]
  },
  {
   "cell_type": "markdown",
   "id": "ce1d6063",
   "metadata": {
    "id": "ce1d6063"
   },
   "source": [
    "We discovered that email length and spam classification have a positive correlation (correlation coefficient: 0.38). This indicates that spam emails are typically a little bit longer than non-spam emails. It is crucial to remember that the association is weak, suggesting that other factors might potentially affect whether an email is deemed spam. However, by taking into account email length as one of the criteria in the classification process, along with other pertinent factors, a knowledge of this link can aid in the improvement of spam detection algorithms."
   ]
  },
  {
   "cell_type": "markdown",
   "id": "bc969857",
   "metadata": {
    "id": "bc969857"
   },
   "source": [
    "**6) Relationship between Features**"
   ]
  },
  {
   "cell_type": "code",
   "execution_count": 24,
   "id": "17189de0",
   "metadata": {},
   "outputs": [
    {
     "name": "stdout",
     "output_type": "stream",
     "text": [
      "                length  num_words  num_sentence\n",
      "length        1.000000   0.965760      0.624139\n",
      "num_words     0.965760   1.000000      0.679971\n",
      "num_sentence  0.624139   0.679971      1.000000\n"
     ]
    }
   ],
   "source": [
    "#the relationship between features\n",
    "correlation_matrix = data[['length', 'num_words', 'num_sentence']].corr()\n",
    "print(correlation_matrix )"
   ]
  },
  {
   "cell_type": "code",
   "execution_count": 25,
   "id": "1ecdbaee",
   "metadata": {
    "colab": {
     "base_uri": "https://localhost:8080/",
     "height": 633
    },
    "executionInfo": {
     "elapsed": 434,
     "status": "ok",
     "timestamp": 1719045697924,
     "user": {
      "displayName": "Mahesh waran",
      "userId": "01052940636805861384"
     },
     "user_tz": -60
    },
    "id": "1ecdbaee",
    "outputId": "ac3c47ce-dad3-4acd-aeec-4554528fac45"
   },
   "outputs": [
    {
     "data": {
      "image/png": "[encoded data removed]",
      "text/plain": [
       "<Figure size 800x600 with 2 Axes>"
      ]
     },
     "metadata": {},
     "output_type": "display_data"
    }
   ],
   "source": [
    "#visualize the correlation matrix using a heatmap\n",
    "plt.figure(figsize=(8, 6))\n",
    "sns.heatmap(correlation_matrix, annot=True, cmap='coolwarm', fmt=\".2f\", linewidths=.5)\n",
    "plt.title('Correlation Matrix of Features')\n",
    "plt.xlabel('Features')\n",
    "plt.ylabel('Features')\n",
    "plt.show()"
   ]
  },
  {
   "cell_type": "markdown",
   "id": "4c97ea97",
   "metadata": {
    "id": "4c97ea97"
   },
   "source": [
    "Strong positive relationships between email length and word count (0.97) and between word count and sentence count (0.68), according to the correlation matrix, are shown. This implies that emails that are longer typically contain more words, and emails that are longer typically contain more sentences. Nevertheless, there is a lesser (0.62) link between email length and sentence count. This suggests that although lengthier emails might contain more sentences, there is not as much of a correlation between the two. By comprehending these connections, we may better understand how various elements contribute to the overall composition and content of emails, which facilitates the classification of spam."
   ]
  },
  {
   "cell_type": "markdown",
   "id": "dc83e9d2",
   "metadata": {
    "id": "dc83e9d2"
   },
   "source": [
    "### Data Preprocessing"
   ]
  },
  {
   "cell_type": "code",
   "execution_count": 26,
   "id": "1d8be1e1",
   "metadata": {
    "colab": {
     "base_uri": "https://localhost:8080/"
    },
    "executionInfo": {
     "elapsed": 3207,
     "status": "ok",
     "timestamp": 1719045701120,
     "user": {
      "displayName": "Mahesh waran",
      "userId": "01052940636805861384"
     },
     "user_tz": -60
    },
    "id": "1d8be1e1",
    "outputId": "25cfa559-9259-4fc7-ee77-97ca0e165120"
   },
   "outputs": [],
   "source": [
    "data['transform_text'] = [email.lower() for email in data['emails']]\n",
    "\n",
    "# tokenization\n",
    "data['transform_text'] = [word_tokenize(text) for text in data['transform_text']]\n",
    "\n",
    "# removing special characters\n",
    "data['transform_text'] = data['transform_text'].apply(lambda x: [re.sub(r'[^a-zA-Z0-9\\s]', '', word) for word in x])\n",
    "\n",
    "# removing stop words and punctuation\n",
    "stop_words = set(stopwords.words('english'))\n",
    "data['transform_text'] = data['transform_text'].apply(lambda x: [word for word in x if word not in stop_words and word not in string.punctuation])\n",
    "\n",
    "# stemming\n",
    "ps = PorterStemmer()\n",
    "data['transform_text'] = data['transform_text'].apply(lambda x: [ps.stem(word) for word in x])\n",
    "\n",
    "# convert the preprocessed text back to string\n",
    "data['transform_text'] = data['transform_text'].apply(lambda x: ' '.join(x))"
   ]
  },
  {
   "cell_type": "code",
   "execution_count": 27,
   "id": "979164eb",
   "metadata": {},
   "outputs": [
    {
     "data": {
      "text/html": [
       "<div>\n",
       "<style scoped>\n",
       "    .dataframe tbody tr th:only-of-type {\n",
       "        vertical-align: middle;\n",
       "    }\n",
       "\n",
       "    .dataframe tbody tr th {\n",
       "        vertical-align: top;\n",
       "    }\n",
       "\n",
       "    .dataframe thead th {\n",
       "        text-align: right;\n",
       "    }\n",
       "</style>\n",
       "<table border=\"1\" class=\"dataframe\">\n",
       "  <thead>\n",
       "    <tr style=\"text-align: right;\">\n",
       "      <th></th>\n",
       "      <th>emails</th>\n",
       "      <th>transform_text</th>\n",
       "    </tr>\n",
       "  </thead>\n",
       "  <tbody>\n",
       "    <tr>\n",
       "      <th>0</th>\n",
       "      <td>Go until jurong point, crazy.. Available only ...</td>\n",
       "      <td>go jurong point crazi avail bugi n great world...</td>\n",
       "    </tr>\n",
       "    <tr>\n",
       "      <th>1</th>\n",
       "      <td>Ok lar... Joking wif u oni...</td>\n",
       "      <td>ok lar joke wif u oni</td>\n",
       "    </tr>\n",
       "    <tr>\n",
       "      <th>2</th>\n",
       "      <td>Free entry in 2 a wkly comp to win FA Cup fina...</td>\n",
       "      <td>free entri 2 wkli comp win fa cup final tkt 21...</td>\n",
       "    </tr>\n",
       "    <tr>\n",
       "      <th>3</th>\n",
       "      <td>U dun say so early hor... U c already then say...</td>\n",
       "      <td>u dun say earli hor u c alreadi say</td>\n",
       "    </tr>\n",
       "    <tr>\n",
       "      <th>4</th>\n",
       "      <td>Nah I don't think he goes to usf, he lives aro...</td>\n",
       "      <td>nah nt think goe usf live around though</td>\n",
       "    </tr>\n",
       "  </tbody>\n",
       "</table>\n",
       "</div>"
      ],
      "text/plain": [
       "                                              emails  \\\n",
       "0  Go until jurong point, crazy.. Available only ...   \n",
       "1                      Ok lar... Joking wif u oni...   \n",
       "2  Free entry in 2 a wkly comp to win FA Cup fina...   \n",
       "3  U dun say so early hor... U c already then say...   \n",
       "4  Nah I don't think he goes to usf, he lives aro...   \n",
       "\n",
       "                                      transform_text  \n",
       "0  go jurong point crazi avail bugi n great world...  \n",
       "1                              ok lar joke wif u oni  \n",
       "2  free entri 2 wkli comp win fa cup final tkt 21...  \n",
       "3                u dun say earli hor u c alreadi say  \n",
       "4            nah nt think goe usf live around though  "
      ]
     },
     "execution_count": 27,
     "metadata": {},
     "output_type": "execute_result"
    }
   ],
   "source": [
    "# display the preprocessed data\n",
    "data[['emails', 'transform_text']].head()"
   ]
  },
  {
   "cell_type": "code",
   "execution_count": 28,
   "id": "0ca5f776",
   "metadata": {
    "colab": {
     "base_uri": "https://localhost:8080/",
     "height": 423
    },
    "executionInfo": {
     "elapsed": 29,
     "status": "ok",
     "timestamp": 1719045701124,
     "user": {
      "displayName": "Mahesh waran",
      "userId": "01052940636805861384"
     },
     "user_tz": -60
    },
    "id": "0ca5f776",
    "outputId": "4206797b-3911-41b3-da74-298cdea3143c"
   },
   "outputs": [
    {
     "data": {
      "text/html": [
       "<div>\n",
       "<style scoped>\n",
       "    .dataframe tbody tr th:only-of-type {\n",
       "        vertical-align: middle;\n",
       "    }\n",
       "\n",
       "    .dataframe tbody tr th {\n",
       "        vertical-align: top;\n",
       "    }\n",
       "\n",
       "    .dataframe thead th {\n",
       "        text-align: right;\n",
       "    }\n",
       "</style>\n",
       "<table border=\"1\" class=\"dataframe\">\n",
       "  <thead>\n",
       "    <tr style=\"text-align: right;\">\n",
       "      <th></th>\n",
       "      <th>result</th>\n",
       "      <th>emails</th>\n",
       "      <th>length</th>\n",
       "      <th>num_words</th>\n",
       "      <th>num_sentence</th>\n",
       "      <th>transform_text</th>\n",
       "    </tr>\n",
       "  </thead>\n",
       "  <tbody>\n",
       "    <tr>\n",
       "      <th>0</th>\n",
       "      <td>ham</td>\n",
       "      <td>Go until jurong point, crazy.. Available only ...</td>\n",
       "      <td>111</td>\n",
       "      <td>24</td>\n",
       "      <td>2</td>\n",
       "      <td>go jurong point crazi avail bugi n great world...</td>\n",
       "    </tr>\n",
       "    <tr>\n",
       "      <th>1</th>\n",
       "      <td>ham</td>\n",
       "      <td>Ok lar... Joking wif u oni...</td>\n",
       "      <td>29</td>\n",
       "      <td>8</td>\n",
       "      <td>2</td>\n",
       "      <td>ok lar joke wif u oni</td>\n",
       "    </tr>\n",
       "    <tr>\n",
       "      <th>2</th>\n",
       "      <td>spam</td>\n",
       "      <td>Free entry in 2 a wkly comp to win FA Cup fina...</td>\n",
       "      <td>155</td>\n",
       "      <td>37</td>\n",
       "      <td>2</td>\n",
       "      <td>free entri 2 wkli comp win fa cup final tkt 21...</td>\n",
       "    </tr>\n",
       "    <tr>\n",
       "      <th>3</th>\n",
       "      <td>ham</td>\n",
       "      <td>U dun say so early hor... U c already then say...</td>\n",
       "      <td>49</td>\n",
       "      <td>13</td>\n",
       "      <td>1</td>\n",
       "      <td>u dun say earli hor u c alreadi say</td>\n",
       "    </tr>\n",
       "    <tr>\n",
       "      <th>4</th>\n",
       "      <td>ham</td>\n",
       "      <td>Nah I don't think he goes to usf, he lives aro...</td>\n",
       "      <td>61</td>\n",
       "      <td>15</td>\n",
       "      <td>1</td>\n",
       "      <td>nah nt think goe usf live around though</td>\n",
       "    </tr>\n",
       "  </tbody>\n",
       "</table>\n",
       "</div>"
      ],
      "text/plain": [
       "  result                                             emails  length  \\\n",
       "0    ham  Go until jurong point, crazy.. Available only ...     111   \n",
       "1    ham                      Ok lar... Joking wif u oni...      29   \n",
       "2   spam  Free entry in 2 a wkly comp to win FA Cup fina...     155   \n",
       "3    ham  U dun say so early hor... U c already then say...      49   \n",
       "4    ham  Nah I don't think he goes to usf, he lives aro...      61   \n",
       "\n",
       "   num_words  num_sentence                                     transform_text  \n",
       "0         24             2  go jurong point crazi avail bugi n great world...  \n",
       "1          8             2                              ok lar joke wif u oni  \n",
       "2         37             2  free entri 2 wkli comp win fa cup final tkt 21...  \n",
       "3         13             1                u dun say earli hor u c alreadi say  \n",
       "4         15             1            nah nt think goe usf live around though  "
      ]
     },
     "execution_count": 28,
     "metadata": {},
     "output_type": "execute_result"
    }
   ],
   "source": [
    "data.head()"
   ]
  },
  {
   "cell_type": "markdown",
   "id": "c906885e",
   "metadata": {
    "id": "c906885e"
   },
   "source": [
    "**7) Most Common Words in Spam Emails**"
   ]
  },
  {
   "cell_type": "code",
   "execution_count": 29,
   "id": "647818ec",
   "metadata": {},
   "outputs": [
    {
     "name": "stdout",
     "output_type": "stream",
     "text": [
      "Top 10 Most Common Words in Spam Emails:\n",
      "call: 321 occurrences\n",
      "free: 191 occurrences\n",
      "2: 157 occurrences\n",
      "txt: 141 occurrences\n",
      "u: 135 occurrences\n",
      "text: 122 occurrences\n",
      "ur: 119 occurrences\n",
      "mobil: 114 occurrences\n",
      "stop: 106 occurrences\n",
      "repli: 103 occurrences\n"
     ]
    },
    {
     "ename": "ValueError",
     "evalue": "Only supported for TrueType fonts",
     "output_type": "error",
     "traceback": [
      "\u001b[0;31m---------------------------------------------------------------------------\u001b[0m",
      "\u001b[0;31mValueError\u001b[0m                                Traceback (most recent call last)",
      "Cell \u001b[0;32mIn[29], line 21\u001b[0m\n\u001b[1;32m     14\u001b[0m     \u001b[38;5;28mprint\u001b[39m(\u001b[38;5;124mf\u001b[39m\u001b[38;5;124m\"\u001b[39m\u001b[38;5;132;01m{\u001b[39;00mword\u001b[38;5;132;01m}\u001b[39;00m\u001b[38;5;124m: \u001b[39m\u001b[38;5;132;01m{\u001b[39;00mcount\u001b[38;5;132;01m}\u001b[39;00m\u001b[38;5;124m occurrences\u001b[39m\u001b[38;5;124m\"\u001b[39m)\n\u001b[1;32m     16\u001b[0m \u001b[38;5;66;03m# generate Word Cloud\u001b[39;00m\n\u001b[1;32m     17\u001b[0m wordcloud \u001b[38;5;241m=\u001b[39m \u001b[43mWordCloud\u001b[49m\u001b[43m(\u001b[49m\n\u001b[1;32m     18\u001b[0m \u001b[43m    \u001b[49m\u001b[43mwidth\u001b[49m\u001b[38;5;241;43m=\u001b[39;49m\u001b[38;5;241;43m800\u001b[39;49m\u001b[43m,\u001b[49m\u001b[43m \u001b[49m\n\u001b[1;32m     19\u001b[0m \u001b[43m    \u001b[49m\u001b[43mheight\u001b[49m\u001b[38;5;241;43m=\u001b[39;49m\u001b[38;5;241;43m400\u001b[39;49m\u001b[43m,\u001b[49m\u001b[43m \u001b[49m\n\u001b[1;32m     20\u001b[0m \u001b[43m    \u001b[49m\u001b[43mbackground_color\u001b[49m\u001b[38;5;241;43m=\u001b[39;49m\u001b[38;5;124;43m'\u001b[39;49m\u001b[38;5;124;43mwhite\u001b[39;49m\u001b[38;5;124;43m'\u001b[39;49m\u001b[43m,\u001b[49m\u001b[43m \u001b[49m\n\u001b[0;32m---> 21\u001b[0m \u001b[43m    \u001b[49m\u001b[43mfont_path\u001b[49m\u001b[38;5;241;43m=\u001b[39;49m\u001b[38;5;124;43m'\u001b[39;49m\u001b[38;5;124;43m/usr/share/fonts/truetype/dejavu/DejaVuSans.ttf\u001b[39;49m\u001b[38;5;124;43m'\u001b[39;49m\u001b[43m)\u001b[49m\u001b[38;5;241;43m.\u001b[39;49m\u001b[43mgenerate_from_frequencies\u001b[49m\u001b[43m(\u001b[49m\u001b[38;5;28;43mdict\u001b[39;49m\u001b[43m(\u001b[49m\u001b[43mmost_common_words\u001b[49m\u001b[43m)\u001b[49m\n\u001b[1;32m     22\u001b[0m \u001b[43m)\u001b[49m\n\u001b[1;32m     24\u001b[0m \u001b[38;5;66;03m# plot Word Cloud\u001b[39;00m\n\u001b[1;32m     25\u001b[0m plt\u001b[38;5;241m.\u001b[39mfigure(figsize\u001b[38;5;241m=\u001b[39m(\u001b[38;5;241m12\u001b[39m, \u001b[38;5;241m6\u001b[39m))\n",
      "File \u001b[0;32m~/.local/lib/python3.10/site-packages/wordcloud/wordcloud.py:453\u001b[0m, in \u001b[0;36mWordCloud.generate_from_frequencies\u001b[0;34m(self, frequencies, max_font_size)\u001b[0m\n\u001b[1;32m    451\u001b[0m     font_size \u001b[38;5;241m=\u001b[39m \u001b[38;5;28mself\u001b[39m\u001b[38;5;241m.\u001b[39mheight\n\u001b[1;32m    452\u001b[0m \u001b[38;5;28;01melse\u001b[39;00m:\n\u001b[0;32m--> 453\u001b[0m     \u001b[38;5;28;43mself\u001b[39;49m\u001b[38;5;241;43m.\u001b[39;49m\u001b[43mgenerate_from_frequencies\u001b[49m\u001b[43m(\u001b[49m\u001b[38;5;28;43mdict\u001b[39;49m\u001b[43m(\u001b[49m\u001b[43mfrequencies\u001b[49m\u001b[43m[\u001b[49m\u001b[43m:\u001b[49m\u001b[38;5;241;43m2\u001b[39;49m\u001b[43m]\u001b[49m\u001b[43m)\u001b[49m\u001b[43m,\u001b[49m\n\u001b[1;32m    454\u001b[0m \u001b[43m                                   \u001b[49m\u001b[43mmax_font_size\u001b[49m\u001b[38;5;241;43m=\u001b[39;49m\u001b[38;5;28;43mself\u001b[39;49m\u001b[38;5;241;43m.\u001b[39;49m\u001b[43mheight\u001b[49m\u001b[43m)\u001b[49m\n\u001b[1;32m    455\u001b[0m     \u001b[38;5;66;03m# find font sizes\u001b[39;00m\n\u001b[1;32m    456\u001b[0m     sizes \u001b[38;5;241m=\u001b[39m [x[\u001b[38;5;241m1\u001b[39m] \u001b[38;5;28;01mfor\u001b[39;00m x \u001b[38;5;129;01min\u001b[39;00m \u001b[38;5;28mself\u001b[39m\u001b[38;5;241m.\u001b[39mlayout_]\n",
      "File \u001b[0;32m~/.local/lib/python3.10/site-packages/wordcloud/wordcloud.py:511\u001b[0m, in \u001b[0;36mWordCloud.generate_from_frequencies\u001b[0;34m(self, frequencies, max_font_size)\u001b[0m\n\u001b[1;32m    508\u001b[0m transposed_font \u001b[38;5;241m=\u001b[39m ImageFont\u001b[38;5;241m.\u001b[39mTransposedFont(\n\u001b[1;32m    509\u001b[0m     font, orientation\u001b[38;5;241m=\u001b[39morientation)\n\u001b[1;32m    510\u001b[0m \u001b[38;5;66;03m# get size of resulting text\u001b[39;00m\n\u001b[0;32m--> 511\u001b[0m box_size \u001b[38;5;241m=\u001b[39m \u001b[43mdraw\u001b[49m\u001b[38;5;241;43m.\u001b[39;49m\u001b[43mtextbbox\u001b[49m\u001b[43m(\u001b[49m\u001b[43m(\u001b[49m\u001b[38;5;241;43m0\u001b[39;49m\u001b[43m,\u001b[49m\u001b[43m \u001b[49m\u001b[38;5;241;43m0\u001b[39;49m\u001b[43m)\u001b[49m\u001b[43m,\u001b[49m\u001b[43m \u001b[49m\u001b[43mword\u001b[49m\u001b[43m,\u001b[49m\u001b[43m \u001b[49m\u001b[43mfont\u001b[49m\u001b[38;5;241;43m=\u001b[39;49m\u001b[43mtransposed_font\u001b[49m\u001b[43m,\u001b[49m\u001b[43m \u001b[49m\u001b[43manchor\u001b[49m\u001b[38;5;241;43m=\u001b[39;49m\u001b[38;5;124;43m\"\u001b[39;49m\u001b[38;5;124;43mlt\u001b[39;49m\u001b[38;5;124;43m\"\u001b[39;49m\u001b[43m)\u001b[49m\n\u001b[1;32m    512\u001b[0m \u001b[38;5;66;03m# find possible places using integral image:\u001b[39;00m\n\u001b[1;32m    513\u001b[0m result \u001b[38;5;241m=\u001b[39m occupancy\u001b[38;5;241m.\u001b[39msample_position(box_size[\u001b[38;5;241m3\u001b[39m] \u001b[38;5;241m+\u001b[39m \u001b[38;5;28mself\u001b[39m\u001b[38;5;241m.\u001b[39mmargin,\n\u001b[1;32m    514\u001b[0m                                    box_size[\u001b[38;5;241m2\u001b[39m] \u001b[38;5;241m+\u001b[39m \u001b[38;5;28mself\u001b[39m\u001b[38;5;241m.\u001b[39mmargin,\n\u001b[1;32m    515\u001b[0m                                    random_state)\n",
      "File \u001b[0;32m/usr/lib/python3/dist-packages/PIL/ImageDraw.py:671\u001b[0m, in \u001b[0;36mImageDraw.textbbox\u001b[0;34m(self, xy, text, font, anchor, spacing, align, direction, features, language, stroke_width, embedded_color)\u001b[0m\n\u001b[1;32m    669\u001b[0m     font \u001b[38;5;241m=\u001b[39m \u001b[38;5;28mself\u001b[39m\u001b[38;5;241m.\u001b[39mgetfont()\n\u001b[1;32m    670\u001b[0m \u001b[38;5;28;01mif\u001b[39;00m \u001b[38;5;129;01mnot\u001b[39;00m \u001b[38;5;28misinstance\u001b[39m(font, ImageFont\u001b[38;5;241m.\u001b[39mFreeTypeFont):\n\u001b[0;32m--> 671\u001b[0m     \u001b[38;5;28;01mraise\u001b[39;00m \u001b[38;5;167;01mValueError\u001b[39;00m(\u001b[38;5;124m\"\u001b[39m\u001b[38;5;124mOnly supported for TrueType fonts\u001b[39m\u001b[38;5;124m\"\u001b[39m)\n\u001b[1;32m    672\u001b[0m mode \u001b[38;5;241m=\u001b[39m \u001b[38;5;124m\"\u001b[39m\u001b[38;5;124mRGBA\u001b[39m\u001b[38;5;124m\"\u001b[39m \u001b[38;5;28;01mif\u001b[39;00m embedded_color \u001b[38;5;28;01melse\u001b[39;00m \u001b[38;5;28mself\u001b[39m\u001b[38;5;241m.\u001b[39mfontmode\n\u001b[1;32m    673\u001b[0m bbox \u001b[38;5;241m=\u001b[39m font\u001b[38;5;241m.\u001b[39mgetbbox(\n\u001b[1;32m    674\u001b[0m     text, mode, direction, features, language, stroke_width, anchor\n\u001b[1;32m    675\u001b[0m )\n",
      "\u001b[0;31mValueError\u001b[0m: Only supported for TrueType fonts"
     ]
    }
   ],
   "source": [
    "spam_emails = data[data['result'] == 'spam']['transform_text']\n",
    "\n",
    "# tokenize the text in spam emails\n",
    "spam_words = ' '.join(spam_emails).split()\n",
    "\n",
    "#count occurrences of each word\n",
    "word_counts = Counter(spam_words)\n",
    "\n",
    "# find the most common words\n",
    "most_common_words = word_counts.most_common(10)\n",
    "\n",
    "print(\"Top 10 Most Common Words in Spam Emails:\")\n",
    "for word, count in most_common_words:\n",
    "    print(f\"{word}: {count} occurrences\")\n",
    "\n",
    "# generate Word Cloud\n",
    "wordcloud = WordCloud(\n",
    "    width=800, \n",
    "    height=400, \n",
    "    background_color='white', \n",
    "    font_path='/usr/share/fonts/truetype/dejavu/DejaVuSans.ttf').generate_from_frequencies(dict(most_common_words)\n",
    ")\n",
    "    \n",
    "# plot Word Cloud\n",
    "plt.figure(figsize=(12, 6))\n",
    "plt.subplot(1, 2, 1)\n",
    "plt.imshow(wordcloud, interpolation='bilinear')\n",
    "plt.title('Word Cloud for Most Common Words in Spam Emails', fontname='DejaVu Sans')\n",
    "plt.axis('off')\n",
    "\n",
    "# plot Bar Graph\n",
    "plt.subplot(1, 2, 2)\n",
    "words, counts = zip(*most_common_words)\n",
    "plt.bar(words, counts, color='orange')\n",
    "plt.title('Bar Graph for Most Common Words in Spam Emails')\n",
    "plt.xlabel('Words')\n",
    "plt.ylabel('Frequency')\n",
    "plt.xticks(rotation=45, ha='right')\n",
    "\n",
    "plt.tight_layout()\n",
    "plt.show()"
   ]
  },
  {
   "cell_type": "markdown",
   "id": "e770cc94",
   "metadata": {
    "id": "e770cc94"
   },
   "source": [
    "Looking at the most common words found in spam emails, we see patterns that spammers often use to catch our attention or convince us to act. Words like \"call,\" \"free,\" and \"txt\" show up frequently, suggesting offers or requests for action. This helps us understand what to watch out for in our emails to avoid falling for spam. By knowing these common tricks, we can be more careful about which emails we open or respond to, keeping our inboxes safer. Email filters also use this information to better recognize and block spam messages, making our email experience more secure."
   ]
  },
  {
   "cell_type": "markdown",
   "id": "c52259b1",
   "metadata": {
    "id": "c52259b1"
   },
   "source": [
    "**8) Most Common Words in ham Emails**"
   ]
  },
  {
   "cell_type": "code",
   "execution_count": 30,
   "id": "b86e1de3",
   "metadata": {
    "colab": {
     "base_uri": "https://localhost:8080/",
     "height": 775
    },
    "executionInfo": {
     "elapsed": 1318,
     "status": "ok",
     "timestamp": 1719045703464,
     "user": {
      "displayName": "Mahesh waran",
      "userId": "01052940636805861384"
     },
     "user_tz": -60
    },
    "id": "b86e1de3",
    "outputId": "0341a4e9-d742-41a8-d573-d820542913c4"
   },
   "outputs": [
    {
     "name": "stdout",
     "output_type": "stream",
     "text": [
      "Top 10 Most Common Words in ham Emails:\n",
      "u: 904 occurrences\n",
      "go: 404 occurrences\n",
      "nt: 352 occurrences\n",
      "get: 352 occurrences\n",
      "2: 290 occurrences\n",
      "gt: 288 occurrences\n",
      "lt: 287 occurrences\n",
      "come: 275 occurrences\n",
      "ok: 251 occurrences\n",
      "got: 238 occurrences\n"
     ]
    },
    {
     "ename": "ValueError",
     "evalue": "Only supported for TrueType fonts",
     "output_type": "error",
     "traceback": [
      "\u001b[0;31m---------------------------------------------------------------------------\u001b[0m",
      "\u001b[0;31mValueError\u001b[0m                                Traceback (most recent call last)",
      "Cell \u001b[0;32mIn[30], line 17\u001b[0m\n\u001b[1;32m     14\u001b[0m     \u001b[38;5;28mprint\u001b[39m(\u001b[38;5;124mf\u001b[39m\u001b[38;5;124m\"\u001b[39m\u001b[38;5;132;01m{\u001b[39;00mword\u001b[38;5;132;01m}\u001b[39;00m\u001b[38;5;124m: \u001b[39m\u001b[38;5;132;01m{\u001b[39;00mcount\u001b[38;5;132;01m}\u001b[39;00m\u001b[38;5;124m occurrences\u001b[39m\u001b[38;5;124m\"\u001b[39m)\n\u001b[1;32m     16\u001b[0m \u001b[38;5;66;03m# Generate Word Cloud\u001b[39;00m\n\u001b[0;32m---> 17\u001b[0m wordcloud \u001b[38;5;241m=\u001b[39m \u001b[43mWordCloud\u001b[49m\u001b[43m(\u001b[49m\u001b[43mwidth\u001b[49m\u001b[38;5;241;43m=\u001b[39;49m\u001b[38;5;241;43m800\u001b[39;49m\u001b[43m,\u001b[49m\u001b[43m \u001b[49m\u001b[43mheight\u001b[49m\u001b[38;5;241;43m=\u001b[39;49m\u001b[38;5;241;43m400\u001b[39;49m\u001b[43m,\u001b[49m\u001b[43m \u001b[49m\u001b[43mbackground_color\u001b[49m\u001b[38;5;241;43m=\u001b[39;49m\u001b[38;5;124;43m'\u001b[39;49m\u001b[38;5;124;43mwhite\u001b[39;49m\u001b[38;5;124;43m'\u001b[39;49m\u001b[43m)\u001b[49m\u001b[38;5;241;43m.\u001b[39;49m\u001b[43mgenerate_from_frequencies\u001b[49m\u001b[43m(\u001b[49m\u001b[38;5;28;43mdict\u001b[39;49m\u001b[43m(\u001b[49m\u001b[43mmost_common_words\u001b[49m\u001b[43m)\u001b[49m\u001b[43m)\u001b[49m\n\u001b[1;32m     19\u001b[0m \u001b[38;5;66;03m# Plot Word Cloud\u001b[39;00m\n\u001b[1;32m     20\u001b[0m plt\u001b[38;5;241m.\u001b[39mfigure(figsize\u001b[38;5;241m=\u001b[39m(\u001b[38;5;241m12\u001b[39m, \u001b[38;5;241m6\u001b[39m))\n",
      "File \u001b[0;32m~/.local/lib/python3.10/site-packages/wordcloud/wordcloud.py:453\u001b[0m, in \u001b[0;36mWordCloud.generate_from_frequencies\u001b[0;34m(self, frequencies, max_font_size)\u001b[0m\n\u001b[1;32m    451\u001b[0m     font_size \u001b[38;5;241m=\u001b[39m \u001b[38;5;28mself\u001b[39m\u001b[38;5;241m.\u001b[39mheight\n\u001b[1;32m    452\u001b[0m \u001b[38;5;28;01melse\u001b[39;00m:\n\u001b[0;32m--> 453\u001b[0m     \u001b[38;5;28;43mself\u001b[39;49m\u001b[38;5;241;43m.\u001b[39;49m\u001b[43mgenerate_from_frequencies\u001b[49m\u001b[43m(\u001b[49m\u001b[38;5;28;43mdict\u001b[39;49m\u001b[43m(\u001b[49m\u001b[43mfrequencies\u001b[49m\u001b[43m[\u001b[49m\u001b[43m:\u001b[49m\u001b[38;5;241;43m2\u001b[39;49m\u001b[43m]\u001b[49m\u001b[43m)\u001b[49m\u001b[43m,\u001b[49m\n\u001b[1;32m    454\u001b[0m \u001b[43m                                   \u001b[49m\u001b[43mmax_font_size\u001b[49m\u001b[38;5;241;43m=\u001b[39;49m\u001b[38;5;28;43mself\u001b[39;49m\u001b[38;5;241;43m.\u001b[39;49m\u001b[43mheight\u001b[49m\u001b[43m)\u001b[49m\n\u001b[1;32m    455\u001b[0m     \u001b[38;5;66;03m# find font sizes\u001b[39;00m\n\u001b[1;32m    456\u001b[0m     sizes \u001b[38;5;241m=\u001b[39m [x[\u001b[38;5;241m1\u001b[39m] \u001b[38;5;28;01mfor\u001b[39;00m x \u001b[38;5;129;01min\u001b[39;00m \u001b[38;5;28mself\u001b[39m\u001b[38;5;241m.\u001b[39mlayout_]\n",
      "File \u001b[0;32m~/.local/lib/python3.10/site-packages/wordcloud/wordcloud.py:511\u001b[0m, in \u001b[0;36mWordCloud.generate_from_frequencies\u001b[0;34m(self, frequencies, max_font_size)\u001b[0m\n\u001b[1;32m    508\u001b[0m transposed_font \u001b[38;5;241m=\u001b[39m ImageFont\u001b[38;5;241m.\u001b[39mTransposedFont(\n\u001b[1;32m    509\u001b[0m     font, orientation\u001b[38;5;241m=\u001b[39morientation)\n\u001b[1;32m    510\u001b[0m \u001b[38;5;66;03m# get size of resulting text\u001b[39;00m\n\u001b[0;32m--> 511\u001b[0m box_size \u001b[38;5;241m=\u001b[39m \u001b[43mdraw\u001b[49m\u001b[38;5;241;43m.\u001b[39;49m\u001b[43mtextbbox\u001b[49m\u001b[43m(\u001b[49m\u001b[43m(\u001b[49m\u001b[38;5;241;43m0\u001b[39;49m\u001b[43m,\u001b[49m\u001b[43m \u001b[49m\u001b[38;5;241;43m0\u001b[39;49m\u001b[43m)\u001b[49m\u001b[43m,\u001b[49m\u001b[43m \u001b[49m\u001b[43mword\u001b[49m\u001b[43m,\u001b[49m\u001b[43m \u001b[49m\u001b[43mfont\u001b[49m\u001b[38;5;241;43m=\u001b[39;49m\u001b[43mtransposed_font\u001b[49m\u001b[43m,\u001b[49m\u001b[43m \u001b[49m\u001b[43manchor\u001b[49m\u001b[38;5;241;43m=\u001b[39;49m\u001b[38;5;124;43m\"\u001b[39;49m\u001b[38;5;124;43mlt\u001b[39;49m\u001b[38;5;124;43m\"\u001b[39;49m\u001b[43m)\u001b[49m\n\u001b[1;32m    512\u001b[0m \u001b[38;5;66;03m# find possible places using integral image:\u001b[39;00m\n\u001b[1;32m    513\u001b[0m result \u001b[38;5;241m=\u001b[39m occupancy\u001b[38;5;241m.\u001b[39msample_position(box_size[\u001b[38;5;241m3\u001b[39m] \u001b[38;5;241m+\u001b[39m \u001b[38;5;28mself\u001b[39m\u001b[38;5;241m.\u001b[39mmargin,\n\u001b[1;32m    514\u001b[0m                                    box_size[\u001b[38;5;241m2\u001b[39m] \u001b[38;5;241m+\u001b[39m \u001b[38;5;28mself\u001b[39m\u001b[38;5;241m.\u001b[39mmargin,\n\u001b[1;32m    515\u001b[0m                                    random_state)\n",
      "File \u001b[0;32m/usr/lib/python3/dist-packages/PIL/ImageDraw.py:671\u001b[0m, in \u001b[0;36mImageDraw.textbbox\u001b[0;34m(self, xy, text, font, anchor, spacing, align, direction, features, language, stroke_width, embedded_color)\u001b[0m\n\u001b[1;32m    669\u001b[0m     font \u001b[38;5;241m=\u001b[39m \u001b[38;5;28mself\u001b[39m\u001b[38;5;241m.\u001b[39mgetfont()\n\u001b[1;32m    670\u001b[0m \u001b[38;5;28;01mif\u001b[39;00m \u001b[38;5;129;01mnot\u001b[39;00m \u001b[38;5;28misinstance\u001b[39m(font, ImageFont\u001b[38;5;241m.\u001b[39mFreeTypeFont):\n\u001b[0;32m--> 671\u001b[0m     \u001b[38;5;28;01mraise\u001b[39;00m \u001b[38;5;167;01mValueError\u001b[39;00m(\u001b[38;5;124m\"\u001b[39m\u001b[38;5;124mOnly supported for TrueType fonts\u001b[39m\u001b[38;5;124m\"\u001b[39m)\n\u001b[1;32m    672\u001b[0m mode \u001b[38;5;241m=\u001b[39m \u001b[38;5;124m\"\u001b[39m\u001b[38;5;124mRGBA\u001b[39m\u001b[38;5;124m\"\u001b[39m \u001b[38;5;28;01mif\u001b[39;00m embedded_color \u001b[38;5;28;01melse\u001b[39;00m \u001b[38;5;28mself\u001b[39m\u001b[38;5;241m.\u001b[39mfontmode\n\u001b[1;32m    673\u001b[0m bbox \u001b[38;5;241m=\u001b[39m font\u001b[38;5;241m.\u001b[39mgetbbox(\n\u001b[1;32m    674\u001b[0m     text, mode, direction, features, language, stroke_width, anchor\n\u001b[1;32m    675\u001b[0m )\n",
      "\u001b[0;31mValueError\u001b[0m: Only supported for TrueType fonts"
     ]
    }
   ],
   "source": [
    "ham_emails = data[data['result'] == 'ham']['transform_text']\n",
    "\n",
    "# Tokenize the text in spam emails\n",
    "ham_words = ' '.join(ham_emails).split()\n",
    "\n",
    "# Count occurrences of each word\n",
    "word_counts = Counter(ham_words)\n",
    "\n",
    "# Find the most common words\n",
    "most_common_words = word_counts.most_common(10)\n",
    "\n",
    "print(\"Top 10 Most Common Words in ham Emails:\")\n",
    "for word, count in most_common_words:\n",
    "    print(f\"{word}: {count} occurrences\")\n",
    "\n",
    "# Generate Word Cloud\n",
    "wordcloud = WordCloud(width=800, height=400, background_color='white').generate_from_frequencies(dict(most_common_words))\n",
    "\n",
    "# Plot Word Cloud\n",
    "plt.figure(figsize=(12, 6))\n",
    "plt.subplot(1, 2, 1)\n",
    "plt.imshow(wordcloud, interpolation='bilinear')\n",
    "plt.title('Word Cloud for Most Common Words in ham Emails')\n",
    "plt.axis('off')\n",
    "\n",
    "# Plot Bar Graph\n",
    "plt.subplot(1, 2, 2)\n",
    "words, counts = zip(*most_common_words)\n",
    "plt.bar(words, counts, color='orange')\n",
    "plt.title('Bar Graph for Most Common Words in ham Emails')\n",
    "plt.xlabel('Words')\n",
    "plt.ylabel('Frequency')\n",
    "plt.xticks(rotation=45, ha='right')\n",
    "\n",
    "plt.tight_layout()\n",
    "plt.show()"
   ]
  },
  {
   "cell_type": "markdown",
   "id": "ca586c18",
   "metadata": {
    "id": "ca586c18"
   },
   "source": [
    "In non-spam emails, the following ten terms are most frequently used: \"u,\" \"go,\" \"nt,\" \"get,\" \"2,\" \"gt,\" \"lt,\" \"come,\" \"ok,\" and \"got.\" These words demonstrate how individuals communicate via emails, using abbreviations like \"u\" for \"you\" and \"nt\" for \"not.\" They also disclose typical subjects like going somewhere or using \"ok\" to confirm something. Knowing these terms makes it easier to identify typical emails. It helps us identify odd or dubious messages, such as spam, by letting us know what to anticipate from everyday communications."
   ]
  },
  {
   "cell_type": "markdown",
   "id": "450d662b",
   "metadata": {
    "id": "450d662b"
   },
   "source": [
    "### Label Encoding"
   ]
  },
  {
   "cell_type": "code",
   "execution_count": 31,
   "id": "cfdc5253",
   "metadata": {
    "executionInfo": {
     "elapsed": 21,
     "status": "ok",
     "timestamp": 1719045703466,
     "user": {
      "displayName": "Mahesh waran",
      "userId": "01052940636805861384"
     },
     "user_tz": -60
    },
    "id": "cfdc5253"
   },
   "outputs": [],
   "source": [
    "encoder = LabelEncoder()\n",
    "data['result'] = encoder.fit_transform(data['result'])"
   ]
  },
  {
   "cell_type": "code",
   "execution_count": 46,
   "id": "3251b93b",
   "metadata": {
    "colab": {
     "base_uri": "https://localhost:8080/",
     "height": 112
    },
    "executionInfo": {
     "elapsed": 17,
     "status": "ok",
     "timestamp": 1719045703466,
     "user": {
      "displayName": "Mahesh waran",
      "userId": "01052940636805861384"
     },
     "user_tz": -60
    },
    "id": "3251b93b",
    "outputId": "df2d343f-c254-4a06-e331-780fcc1f7641"
   },
   "outputs": [
    {
     "data": {
      "text/html": [
       "<div>\n",
       "<style scoped>\n",
       "    .dataframe tbody tr th:only-of-type {\n",
       "        vertical-align: middle;\n",
       "    }\n",
       "\n",
       "    .dataframe tbody tr th {\n",
       "        vertical-align: top;\n",
       "    }\n",
       "\n",
       "    .dataframe thead th {\n",
       "        text-align: right;\n",
       "    }\n",
       "</style>\n",
       "<table border=\"1\" class=\"dataframe\">\n",
       "  <thead>\n",
       "    <tr style=\"text-align: right;\">\n",
       "      <th></th>\n",
       "      <th>result</th>\n",
       "      <th>emails</th>\n",
       "      <th>length</th>\n",
       "      <th>num_words</th>\n",
       "      <th>num_sentence</th>\n",
       "      <th>transform_text</th>\n",
       "    </tr>\n",
       "  </thead>\n",
       "  <tbody>\n",
       "    <tr>\n",
       "      <th>122</th>\n",
       "      <td>1</td>\n",
       "      <td>Todays Voda numbers ending 7548 are selected t...</td>\n",
       "      <td>156</td>\n",
       "      <td>29</td>\n",
       "      <td>2</td>\n",
       "      <td>today voda number end 7548 select receiv 350 a...</td>\n",
       "    </tr>\n",
       "    <tr>\n",
       "      <th>4806</th>\n",
       "      <td>1</td>\n",
       "      <td>PRIVATE! Your 2004 Account Statement for 07849...</td>\n",
       "      <td>153</td>\n",
       "      <td>29</td>\n",
       "      <td>3</td>\n",
       "      <td>privat 2004 account statement 078498 7 show 78...</td>\n",
       "    </tr>\n",
       "    <tr>\n",
       "      <th>3788</th>\n",
       "      <td>0</td>\n",
       "      <td>Are you sure you don't mean \\get here</td>\n",
       "      <td>37</td>\n",
       "      <td>9</td>\n",
       "      <td>1</td>\n",
       "      <td>sure nt mean get</td>\n",
       "    </tr>\n",
       "    <tr>\n",
       "      <th>4654</th>\n",
       "      <td>0</td>\n",
       "      <td>Our Prasanth ettans mother passed away last ni...</td>\n",
       "      <td>80</td>\n",
       "      <td>16</td>\n",
       "      <td>2</td>\n",
       "      <td>prasanth ettan mother pass away last night pra...</td>\n",
       "    </tr>\n",
       "    <tr>\n",
       "      <th>1317</th>\n",
       "      <td>1</td>\n",
       "      <td>Win the newest ÛÏHarry Potter and the Order o...</td>\n",
       "      <td>140</td>\n",
       "      <td>30</td>\n",
       "      <td>1</td>\n",
       "      <td>win newest harri potter order phoenix book 5 r...</td>\n",
       "    </tr>\n",
       "  </tbody>\n",
       "</table>\n",
       "</div>"
      ],
      "text/plain": [
       "      result                                             emails  length  \\\n",
       "122        1  Todays Voda numbers ending 7548 are selected t...     156   \n",
       "4806       1  PRIVATE! Your 2004 Account Statement for 07849...     153   \n",
       "3788       0              Are you sure you don't mean \\get here      37   \n",
       "4654       0  Our Prasanth ettans mother passed away last ni...      80   \n",
       "1317       1  Win the newest ÛÏHarry Potter and the Order o...     140   \n",
       "\n",
       "      num_words  num_sentence  \\\n",
       "122          29             2   \n",
       "4806         29             3   \n",
       "3788          9             1   \n",
       "4654         16             2   \n",
       "1317         30             1   \n",
       "\n",
       "                                         transform_text  \n",
       "122   today voda number end 7548 select receiv 350 a...  \n",
       "4806  privat 2004 account statement 078498 7 show 78...  \n",
       "3788                                   sure nt mean get  \n",
       "4654  prasanth ettan mother pass away last night pra...  \n",
       "1317  win newest harri potter order phoenix book 5 r...  "
      ]
     },
     "execution_count": 46,
     "metadata": {},
     "output_type": "execute_result"
    }
   ],
   "source": [
    "data.sample(5)"
   ]
  },
  {
   "cell_type": "markdown",
   "id": "272b3b31",
   "metadata": {
    "id": "272b3b31"
   },
   "source": [
    "### Model Building"
   ]
  },
  {
   "cell_type": "code",
   "execution_count": 32,
   "id": "602dc4e9",
   "metadata": {
    "executionInfo": {
     "elapsed": 594,
     "status": "ok",
     "timestamp": 1719045704046,
     "user": {
      "displayName": "Mahesh waran",
      "userId": "01052940636805861384"
     },
     "user_tz": -60
    },
    "id": "602dc4e9"
   },
   "outputs": [],
   "source": [
    "# convert the input data into vector , so here we will use TfidfVectorizer\n",
    "tfidf = TfidfVectorizer(max_features=3000)\n",
    "X = tfidf.fit_transform(data['transform_text']).toarray()\n",
    "y = data['result']"
   ]
  },
  {
   "cell_type": "code",
   "execution_count": 35,
   "id": "5f69d82c",
   "metadata": {
    "executionInfo": {
     "elapsed": 4,
     "status": "ok",
     "timestamp": 1719045704046,
     "user": {
      "displayName": "Mahesh waran",
      "userId": "01052940636805861384"
     },
     "user_tz": -60
    },
    "id": "5f69d82c"
   },
   "outputs": [],
   "source": [
    "X_train, X_test, y_train, y_test = train_test_split(X, y, test_size=0.2, random_state=42)"
   ]
  },
  {
   "cell_type": "code",
   "execution_count": 33,
   "id": "3afcdd59",
   "metadata": {
    "colab": {
     "base_uri": "https://localhost:8080/"
    },
    "executionInfo": {
     "elapsed": 4,
     "status": "ok",
     "timestamp": 1719045704046,
     "user": {
      "displayName": "Mahesh waran",
      "userId": "01052940636805861384"
     },
     "user_tz": -60
    },
    "id": "3afcdd59",
    "outputId": "d7025f68-019e-45db-8446-799f01cdc450"
   },
   "outputs": [
    {
     "data": {
      "text/plain": [
       "(5169, 3000)"
      ]
     },
     "execution_count": 33,
     "metadata": {},
     "output_type": "execute_result"
    }
   ],
   "source": [
    "X.shape"
   ]
  },
  {
   "cell_type": "markdown",
   "id": "ea1c31c1",
   "metadata": {
    "id": "ea1c31c1"
   },
   "source": [
    "#### Model 1) SVC"
   ]
  },
  {
   "cell_type": "code",
   "execution_count": 36,
   "id": "4b38688b",
   "metadata": {
    "colab": {
     "base_uri": "https://localhost:8080/"
    },
    "executionInfo": {
     "elapsed": 30215,
     "status": "ok",
     "timestamp": 1719045734258,
     "user": {
      "displayName": "Mahesh waran",
      "userId": "01052940636805861384"
     },
     "user_tz": -60
    },
    "id": "4b38688b",
    "outputId": "12eeca10-f888-4b46-ea04-777f6465d4e3"
   },
   "outputs": [
    {
     "name": "stdout",
     "output_type": "stream",
     "text": [
      "SVM Accuracy: 0.98\n",
      "confusion Matrix : [[889   0]\n",
      " [ 25 120]]\n",
      "Precision Score:  1.0\n"
     ]
    }
   ],
   "source": [
    "svc_classifier = SVC()\n",
    "svc_classifier.fit(X_train, y_train)\n",
    "y_pred_svc = svc_classifier.predict(X_test)\n",
    "accuracy_svc = accuracy_score(y_test, y_pred_svc)\n",
    "print(f\"SVM Accuracy: {accuracy_svc:.2f}\")\n",
    "print(\"confusion Matrix :\",confusion_matrix(y_test,y_pred_svc))\n",
    "print(\"Precision Score: \",precision_score(y_test,y_pred_svc))"
   ]
  },
  {
   "cell_type": "markdown",
   "id": "b9034d8b",
   "metadata": {
    "id": "b9034d8b"
   },
   "source": [
    "#### Model 2) Random Forest classifier"
   ]
  },
  {
   "cell_type": "code",
   "execution_count": 37,
   "id": "74353521",
   "metadata": {
    "colab": {
     "base_uri": "https://localhost:8080/"
    },
    "executionInfo": {
     "elapsed": 18527,
     "status": "ok",
     "timestamp": 1719045752770,
     "user": {
      "displayName": "Mahesh waran",
      "userId": "01052940636805861384"
     },
     "user_tz": -60
    },
    "id": "74353521",
    "outputId": "82a396ea-57e1-4123-d9b6-c5b7f0d95da7"
   },
   "outputs": [
    {
     "name": "stdout",
     "output_type": "stream",
     "text": [
      "Random Forest Accuracy: 0.98\n",
      "confusion Matrix : [[888   1]\n",
      " [ 22 123]]\n",
      "Precision Score:  0.9919354838709677\n"
     ]
    }
   ],
   "source": [
    "rf_classifier = RandomForestClassifier()\n",
    "rf_classifier.fit(X_train, y_train)\n",
    "y_pred_rf = rf_classifier.predict(X_test)\n",
    "accuracy_rf = accuracy_score(y_test, y_pred_rf)\n",
    "print(f\"Random Forest Accuracy: {accuracy_rf:.2f}\")\n",
    "print(\"confusion Matrix :\",confusion_matrix(y_test,y_pred_rf))\n",
    "print(\"Precision Score: \",precision_score(y_test,y_pred_rf))"
   ]
  },
  {
   "cell_type": "markdown",
   "id": "9cb3c553",
   "metadata": {
    "id": "9cb3c553"
   },
   "source": [
    "#### Model 3) Naive Bayes classifier"
   ]
  },
  {
   "cell_type": "code",
   "execution_count": 38,
   "id": "6d83d87e",
   "metadata": {
    "colab": {
     "base_uri": "https://localhost:8080/"
    },
    "executionInfo": {
     "elapsed": 8,
     "status": "ok",
     "timestamp": 1719045752770,
     "user": {
      "displayName": "Mahesh waran",
      "userId": "01052940636805861384"
     },
     "user_tz": -60
    },
    "id": "6d83d87e",
    "outputId": "0a754f8a-2e99-4fd0-dc9b-80155fd68d26"
   },
   "outputs": [
    {
     "name": "stdout",
     "output_type": "stream",
     "text": [
      "Naive Bayes Accuracy: 0.97\n",
      "confusion Matrix : [[888   1]\n",
      " [ 25 120]]\n",
      "Precision Score:  0.9917355371900827\n"
     ]
    }
   ],
   "source": [
    "nb_classifier = MultinomialNB()\n",
    "nb_classifier.fit(X_train, y_train)\n",
    "y_pred_nb = nb_classifier.predict(X_test)\n",
    "accuracy_nb = accuracy_score(y_test, y_pred_nb)\n",
    "print(f\"Naive Bayes Accuracy: {accuracy_nb:.2f}\")\n",
    "print(\"confusion Matrix :\",confusion_matrix(y_test,y_pred_nb))\n",
    "print(\"Precision Score: \",precision_score(y_test,y_pred_nb))"
   ]
  },
  {
   "cell_type": "markdown",
   "id": "8aee8e93",
   "metadata": {},
   "source": [
    "#### Model 4) Logistic Regression"
   ]
  },
  {
   "cell_type": "code",
   "execution_count": 39,
   "id": "26deee1b",
   "metadata": {},
   "outputs": [
    {
     "name": "stdout",
     "output_type": "stream",
     "text": [
      "Logistic Regression Accuracy: 0.96\n",
      "Confusion Matrix: [[883   6]\n",
      " [ 35 110]]\n",
      "Precision Score: 0.9482758620689655\n"
     ]
    }
   ],
   "source": [
    "# train Logistic Regression model\n",
    "lr_classifier = LogisticRegression(max_iter=1000)\n",
    "lr_classifier.fit(X_train, y_train)\n",
    "y_pred_lr = lr_classifier.predict(X_test)\n",
    "\n",
    "# print metrics\n",
    "accuracy_lr = accuracy_score(y_test, y_pred_lr)\n",
    "print(f\"Logistic Regression Accuracy: {accuracy_lr:.2f}\")\n",
    "print(\"Confusion Matrix:\", confusion_matrix(y_test, y_pred_lr))\n",
    "print(\"Precision Score:\", precision_score(y_test, y_pred_lr))"
   ]
  },
  {
   "cell_type": "markdown",
   "id": "4733f661",
   "metadata": {},
   "source": [
    "#### Model 5) KNeighborsClassifier"
   ]
  },
  {
   "cell_type": "code",
   "execution_count": 40,
   "id": "1d2a4b46",
   "metadata": {},
   "outputs": [
    {
     "name": "stdout",
     "output_type": "stream",
     "text": [
      "KNN Accuracy: 0.91\n",
      "Confusion Matrix: [[889   0]\n",
      " [ 97  48]]\n",
      "Precision Score: 1.0\n"
     ]
    }
   ],
   "source": [
    "# train KNeighborsClassifier\n",
    "knn_classifier = KNeighborsClassifier()\n",
    "knn_classifier.fit(X_train, y_train)\n",
    "y_pred_knn = knn_classifier.predict(X_test)\n",
    "\n",
    "# print metrics\n",
    "accuracy_knn = accuracy_score(y_test, y_pred_knn)\n",
    "print(f\"KNN Accuracy: {accuracy_knn:.2f}\")\n",
    "print(\"Confusion Matrix:\", confusion_matrix(y_test, y_pred_knn))\n",
    "print(\"Precision Score:\", precision_score(y_test, y_pred_knn))"
   ]
  },
  {
   "cell_type": "code",
   "execution_count": 41,
   "id": "80622154",
   "metadata": {
    "colab": {
     "base_uri": "https://localhost:8080/",
     "height": 393
    },
    "executionInfo": {
     "elapsed": 935,
     "status": "ok",
     "timestamp": 1719045753702,
     "user": {
      "displayName": "Mahesh waran",
      "userId": "01052940636805861384"
     },
     "user_tz": -60
    },
    "id": "80622154",
    "outputId": "814b4c40-36fd-4689-ba26-8ef5698fcd32"
   },
   "outputs": [
    {
     "data": {
      "text/html": [
       "<div>\n",
       "<style scoped>\n",
       "    .dataframe tbody tr th:only-of-type {\n",
       "        vertical-align: middle;\n",
       "    }\n",
       "\n",
       "    .dataframe tbody tr th {\n",
       "        vertical-align: top;\n",
       "    }\n",
       "\n",
       "    .dataframe thead th {\n",
       "        text-align: right;\n",
       "    }\n",
       "</style>\n",
       "<table border=\"1\" class=\"dataframe\">\n",
       "  <thead>\n",
       "    <tr style=\"text-align: right;\">\n",
       "      <th></th>\n",
       "      <th>Classifier</th>\n",
       "      <th>Accuracy</th>\n",
       "      <th>Precision</th>\n",
       "    </tr>\n",
       "  </thead>\n",
       "  <tbody>\n",
       "    <tr>\n",
       "      <th>0</th>\n",
       "      <td>SVC</td>\n",
       "      <td>0.975822</td>\n",
       "      <td>1.000000</td>\n",
       "    </tr>\n",
       "    <tr>\n",
       "      <th>1</th>\n",
       "      <td>Random Forest</td>\n",
       "      <td>0.977756</td>\n",
       "      <td>0.991935</td>\n",
       "    </tr>\n",
       "    <tr>\n",
       "      <th>2</th>\n",
       "      <td>Naive Bayes</td>\n",
       "      <td>0.974855</td>\n",
       "      <td>0.991736</td>\n",
       "    </tr>\n",
       "    <tr>\n",
       "      <th>3</th>\n",
       "      <td>Logistic Regression</td>\n",
       "      <td>0.960348</td>\n",
       "      <td>0.948276</td>\n",
       "    </tr>\n",
       "    <tr>\n",
       "      <th>4</th>\n",
       "      <td>KNN</td>\n",
       "      <td>0.906190</td>\n",
       "      <td>1.000000</td>\n",
       "    </tr>\n",
       "  </tbody>\n",
       "</table>\n",
       "</div>"
      ],
      "text/plain": [
       "            Classifier  Accuracy  Precision\n",
       "0                  SVC  0.975822   1.000000\n",
       "1        Random Forest  0.977756   0.991935\n",
       "2          Naive Bayes  0.974855   0.991736\n",
       "3  Logistic Regression  0.960348   0.948276\n",
       "4                  KNN  0.906190   1.000000"
      ]
     },
     "execution_count": 41,
     "metadata": {},
     "output_type": "execute_result"
    }
   ],
   "source": [
    "# calculate precision scores for each classifier\n",
    "precision_svc = precision_score(y_test, y_pred_svc)\n",
    "precision_rf = precision_score(y_test, y_pred_rf)\n",
    "precision_nb = precision_score(y_test, y_pred_nb)\n",
    "precision_lr = precision_score(y_test, y_pred_lr)\n",
    "precision_knn = precision_score(y_test, y_pred_knn)\n",
    "\n",
    "# create lists to store accuracies and precision scores\n",
    "classifiers = ['SVC', 'Random Forest', 'Naive Bayes', 'Logistic Regression', 'KNN']\n",
    "accuracies = [accuracy_svc, accuracy_rf, accuracy_nb, accuracy_lr, accuracy_knn]\n",
    "precision_scores = [precision_svc, precision_rf, precision_nb, precision_lr, precision_knn]\n",
    "\n",
    "# create a DataFrame for plotting\n",
    "results_df = pd.DataFrame({\n",
    "    'Classifier': classifiers,\n",
    "    'Accuracy': accuracies,\n",
    "    'Precision': precision_scores\n",
    "})\n",
    "\n",
    "results_df"
   ]
  },
  {
   "cell_type": "code",
   "execution_count": 42,
   "id": "9c4bc7a6",
   "metadata": {},
   "outputs": [
    {
     "data": {
      "image/png": "[encoded data removed]",
      "text/plain": [
       "<Figure size 1000x600 with 1 Axes>"
      ]
     },
     "metadata": {},
     "output_type": "display_data"
    }
   ],
   "source": [
    "# melt the DataFrame for seaborn\n",
    "results_melted = results_df.melt(\n",
    "    id_vars='Classifier', \n",
    "    value_vars=['Accuracy', 'Precision'], \n",
    "    var_name='Metric', value_name='Score'\n",
    "    )\n",
    "\n",
    "plt.figure(figsize=(10, 6))\n",
    "sns.barplot(data=results_melted, x='Classifier', y='Score', hue='Metric')\n",
    "plt.ylim(0, 1)\n",
    "plt.title('Classifier Performance Comparison')\n",
    "plt.ylabel('Score')\n",
    "plt.xlabel('Classifier')\n",
    "plt.legend(title='Metric')\n",
    "plt.show()"
   ]
  },
  {
   "cell_type": "markdown",
   "id": "9755cd9d",
   "metadata": {
    "id": "9755cd9d"
   },
   "source": [
    "SVC is the model that performs the best after sorting. Therefore, we will utilize SVC to forecast prices using svc.predict(). This procedure aids in the selection of the most predictive model."
   ]
  },
  {
   "cell_type": "markdown",
   "id": "63f28515",
   "metadata": {
    "id": "63f28515"
   },
   "source": [
    "### Model Prediction"
   ]
  },
  {
   "cell_type": "code",
   "execution_count": 43,
   "id": "f070ddbe",
   "metadata": {
    "colab": {
     "base_uri": "https://localhost:8080/"
    },
    "executionInfo": {
     "elapsed": 12,
     "status": "ok",
     "timestamp": 1719045753703,
     "user": {
      "displayName": "Mahesh waran",
      "userId": "01052940636805861384"
     },
     "user_tz": -60
    },
    "id": "f070ddbe",
    "outputId": "3985be35-ed8c-4f58-e225-c1b2203f5515"
   },
   "outputs": [
    {
     "name": "stdout",
     "output_type": "stream",
     "text": [
      "'Get a free iPhone now!' is predicted as ham.\n",
      "'Hey, how's it going?' is predicted as ham.\n",
      "'Congratulations! You've won a prize!' is predicted as spam.\n",
      "'Reminder: Meeting at 2 PM tomorrow.' is predicted as ham.\n"
     ]
    }
   ],
   "source": [
    "new_emails = [\n",
    "    \"Get a free iPhone now!\",\n",
    "    \"Hey, how's it going?\",\n",
    "    \"Congratulations! You've won a prize!\",\n",
    "    \"Reminder: Meeting at 2 PM tomorrow.\"\n",
    "]\n",
    "\n",
    "# Convert new data into numerical vectors using the trained tfidf_vectorizer\n",
    "new_X = tfidf.transform(new_emails)\n",
    "new_X_dense = new_X.toarray()\n",
    "\n",
    "# Use the trained SVM model to make predictions\n",
    "svm_predictions = svc_classifier.predict(new_X_dense)\n",
    "\n",
    "# Print the predictions\n",
    "for email, prediction in zip(new_emails, svm_predictions):\n",
    "    if prediction == 1:\n",
    "        print(f\"'{email}' is predicted as spam.\")\n",
    "    else:\n",
    "        print(f\"'{email}' is predicted as ham.\")"
   ]
  },
  {
   "cell_type": "markdown",
   "id": "ce219f91",
   "metadata": {
    "id": "ce219f91"
   },
   "source": [
    "### User Input Data Prediction"
   ]
  },
  {
   "cell_type": "code",
   "execution_count": 44,
   "id": "1f67dfc0",
   "metadata": {
    "colab": {
     "base_uri": "https://localhost:8080/"
    },
    "executionInfo": {
     "elapsed": 73169,
     "status": "ok",
     "timestamp": 1719045826863,
     "user": {
      "displayName": "Mahesh waran",
      "userId": "01052940636805861384"
     },
     "user_tz": -60
    },
    "id": "1f67dfc0",
    "outputId": "a276130b-8688-4061-d801-6a2d250d7805"
   },
   "outputs": [
    {
     "name": "stdout",
     "output_type": "stream",
     "text": [
      "The email is predicted as spam.\n"
     ]
    }
   ],
   "source": [
    "def predict_email(email):\n",
    "    # Convert email into numerical vector using the trained TF-IDF vectorizer\n",
    "    email_vector = tfidf.transform([email])\n",
    "\n",
    "    # Convert sparse matrix to dense array\n",
    "    email_vector_dense = email_vector.toarray()\n",
    "\n",
    "    # Use the trained SVM model to make predictions\n",
    "    prediction = svc_classifier.predict(email_vector_dense)\n",
    "\n",
    "    # Print the prediction\n",
    "    if prediction[0] == 1:\n",
    "        print(\"The email is predicted as spam.\")\n",
    "    else:\n",
    "        print(\"The email is predicted as ham.\")\n",
    "\n",
    "# sample user input for email\n",
    "user_email = \"Congratulations! You've won a prize!\"\n",
    "\n",
    "# Predict whether the input email is spam or ham\n",
    "predict_email(user_email)"
   ]
  },
  {
   "cell_type": "code",
   "execution_count": null,
   "id": "b8410001",
   "metadata": {},
   "outputs": [
    {
     "name": "stdout",
     "output_type": "stream",
     "text": [
      "The email is predicted as spam.\n"
     ]
    }
   ],
   "source": [
    "import joblib\n",
    "\n",
    "# save the trained SVC model and TF-IDF vectorizer\n",
    "joblib.dump(svc_classifier, 'svc_classifier_model.pkl')\n",
    "joblib.dump(tfidf, 'tfidf_vectorizer.pkl')\n",
    "\n",
    "# example: Load and use the model for prediction\n",
    "loaded_model = joblib.load('svc_classifier_model.pkl')\n",
    "loaded_tfidf = joblib.load('tfidf_vectorizer.pkl')\n",
    "\n",
    "def predict_email_with_joblib(email):\n",
    "    email_vector = loaded_tfidf.transform([email]).toarray()\n",
    "    prediction = loaded_model.predict(email_vector)\n",
    "    if prediction[0] == 1:\n",
    "        print(\"The email is predicted as spam.\")\n",
    "    else:\n",
    "        print(\"The email is predicted as ham.\")\n",
    "\n",
    "# Test with a sample email\n",
    "predict_email_with_joblib(\"Congratulations! You've won a prize!\")"
   ]
  },
  {
   "cell_type": "code",
   "execution_count": 46,
   "id": "26b39728",
   "metadata": {},
   "outputs": [
    {
     "data": {
      "text/plain": [
       "['knn_classifier_model.pkl']"
      ]
     },
     "execution_count": 46,
     "metadata": {},
     "output_type": "execute_result"
    }
   ],
   "source": [
    "# export other trained models to .pkl files\n",
    "joblib.dump(rf_classifier, 'random_forest_classifier_model.pkl')\n",
    "joblib.dump(nb_classifier, 'naive_bayes_classifier_model.pkl')\n",
    "joblib.dump(lr_classifier, 'logistic_regression_model.pkl')\n",
    "joblib.dump(knn_classifier, 'knn_classifier_model.pkl')"
   ]
  }
 ],
 "metadata": {
  "colab": {
   "provenance": []
  },
  "kernelspec": {
   "display_name": "Python 3",
   "language": "python",
   "name": "python3"
  },
  "language_info": {
   "codemirror_mode": {
    "name": "ipython",
    "version": 3
   },
   "file_extension": ".py",
   "mimetype": "text/x-python",
   "name": "python",
   "nbconvert_exporter": "python",
   "pygments_lexer": "ipython3",
   "version": "3.10.12"
  }
 },
 "nbformat": 4,
 "nbformat_minor": 5
}
