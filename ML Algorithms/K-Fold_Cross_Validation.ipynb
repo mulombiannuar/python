{
 "cells": [
  {
   "cell_type": "code",
   "execution_count": 2,
   "metadata": {},
   "outputs": [
    {
     "name": "stdout",
     "output_type": "stream",
     "text": [
      "Cross-Validation Scores: [0.66666667 1.        ]\n",
      "Mean Accuracy: 0.8333333333333333\n"
     ]
    }
   ],
   "source": [
    "import pandas as pd\n",
    "from sklearn.tree import DecisionTreeClassifier\n",
    "from sklearn.model_selection import cross_val_score, StratifiedKFold\n",
    "from sklearn.preprocessing import LabelEncoder\n",
    "\n",
    "# Sample dataset\n",
    "data = {\n",
    "    'Income': [25000, 50000, 75000, 100000, 125000, 150000],\n",
    "    'Credit Score': [600, 650, 700, 750, 800, 850],\n",
    "    'Age': [22, 25, 30, 35, 40, 50],\n",
    "    'Approved': ['No', 'No', 'Yes', 'Yes', 'Yes', 'Yes']\n",
    "}\n",
    "\n",
    "df = pd.DataFrame(data)\n",
    "\n",
    "# Encode categorical target variable\n",
    "le = LabelEncoder()\n",
    "df['Approved'] = le.fit_transform(df['Approved'])\n",
    "\n",
    "# Splitting features and target\n",
    "X = df[['Income', 'Credit Score', 'Age']]\n",
    "y = df['Approved']\n",
    "\n",
    "# Initializing Decision Tree model\n",
    "model = DecisionTreeClassifier(criterion='gini', max_depth=3, random_state=42)\n",
    "\n",
    "# Perform 5-Fold Cross-Validation\n",
    "# Using StratifiedKFold to ensure each fold has the same proportion of class labels\n",
    "skf = StratifiedKFold(n_splits=2)\n",
    "cv_scores = cross_val_score(model, X, y, cv=skf)\n",
    "\n",
    "# Print cross-validation scores\n",
    "print(\"Cross-Validation Scores:\", cv_scores)\n",
    "print(\"Mean Accuracy:\", cv_scores.mean())"
   ]
  }
 ],
 "metadata": {
  "kernelspec": {
   "display_name": "Python 3",
   "language": "python",
   "name": "python3"
  },
  "language_info": {
   "codemirror_mode": {
    "name": "ipython",
    "version": 3
   },
   "file_extension": ".py",
   "mimetype": "text/x-python",
   "name": "python",
   "nbconvert_exporter": "python",
   "pygments_lexer": "ipython3",
   "version": "3.10.12"
  }
 },
 "nbformat": 4,
 "nbformat_minor": 2
}
