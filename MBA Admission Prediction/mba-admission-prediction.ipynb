{
 "cells": [
  {
   "cell_type": "markdown",
   "id": "be246995",
   "metadata": {
    "_cell_guid": "b1076dfc-b9ad-4769-8c92-a6c4dae69d19",
    "_uuid": "8f2839f25d086af736a60e9eeb907d3b93b6e0e5",
    "papermill": {
     "duration": 0.006519,
     "end_time": "2025-03-08T17:36:08.446974",
     "exception": false,
     "start_time": "2025-03-08T17:36:08.440455",
     "status": "completed"
    },
    "tags": []
   },
   "source": [
    "# Project Overview\n",
    "\n",
    "Using variables like `GPA`, `GMAT scores`, and `work experience`, this research creates a machine learning model to forecast MBA admission decisions.  In order to help prospective students understand their prospects of acceptance, we plan to develop an accurate classifier by examining important admission criteria.\n",
    "\n",
    "Given that there are three possible outcomes, the problem is multi-class classification."
   ]
  },
  {
   "cell_type": "markdown",
   "id": "24ff1bd8",
   "metadata": {
    "papermill": {
     "duration": 0.005684,
     "end_time": "2025-03-08T17:36:08.459498",
     "exception": false,
     "start_time": "2025-03-08T17:36:08.453814",
     "status": "completed"
    },
    "tags": []
   },
   "source": [
    "# Dataset Overview & Initial Exploration"
   ]
  },
  {
   "cell_type": "markdown",
   "id": "aeb35aed",
   "metadata": {
    "papermill": {
     "duration": 0.005875,
     "end_time": "2025-03-08T17:36:08.471042",
     "exception": false,
     "start_time": "2025-03-08T17:36:08.465167",
     "status": "completed"
    },
    "tags": []
   },
   "source": [
    "## Import Essential Libraries\n"
   ]
  },
  {
   "cell_type": "code",
   "execution_count": 23,
   "id": "bb6785c7",
   "metadata": {
    "execution": {
     "iopub.execute_input": "2025-03-08T17:36:08.485371Z",
     "iopub.status.busy": "2025-03-08T17:36:08.484976Z",
     "iopub.status.idle": "2025-03-08T17:36:12.744789Z",
     "shell.execute_reply": "2025-03-08T17:36:12.743313Z"
    },
    "papermill": {
     "duration": 4.269648,
     "end_time": "2025-03-08T17:36:12.747161",
     "exception": false,
     "start_time": "2025-03-08T17:36:08.477513",
     "status": "completed"
    },
    "tags": []
   },
   "outputs": [],
   "source": [
    "# data handling\n",
    "import pandas as pd\n",
    "import numpy as np\n",
    "\n",
    "# data visualization\n",
    "import matplotlib.pyplot as plt\n",
    "import seaborn as sns\n",
    "\n",
    "# data preprocessing\n",
    "from sklearn.model_selection import train_test_split\n",
    "from sklearn.preprocessing import LabelEncoder, StandardScaler\n",
    "\n",
    "# machine learning models\n",
    "from sklearn.ensemble import RandomForestClassifier, GradientBoostingClassifier\n",
    "from sklearn.linear_model import LogisticRegression\n",
    "from sklearn.svm import SVC\n",
    "from sklearn.tree import DecisionTreeClassifier\n",
    "\n",
    "# model evaluation\n",
    "from sklearn.metrics import accuracy_score, classification_report, confusion_matrix, precision_score, recall_score, f1_score\n",
    "import warnings\n",
    "warnings.filterwarnings(\"ignore\")\n"
   ]
  },
  {
   "cell_type": "markdown",
   "id": "4b5b0ba5",
   "metadata": {
    "papermill": {
     "duration": 0.006197,
     "end_time": "2025-03-08T17:36:12.760455",
     "exception": false,
     "start_time": "2025-03-08T17:36:12.754258",
     "status": "completed"
    },
    "tags": []
   },
   "source": [
    "## Load and Explore the Dataset"
   ]
  },
  {
   "cell_type": "code",
   "execution_count": 46,
   "id": "3d3ae3de",
   "metadata": {
    "execution": {
     "iopub.execute_input": "2025-03-08T17:36:12.774878Z",
     "iopub.status.busy": "2025-03-08T17:36:12.774325Z",
     "iopub.status.idle": "2025-03-08T17:36:12.897133Z",
     "shell.execute_reply": "2025-03-08T17:36:12.895631Z"
    },
    "papermill": {
     "duration": 0.133042,
     "end_time": "2025-03-08T17:36:12.899454",
     "exception": false,
     "start_time": "2025-03-08T17:36:12.766412",
     "status": "completed"
    },
    "tags": []
   },
   "outputs": [
    {
     "name": "stdout",
     "output_type": "stream",
     "text": [
      "Dataset Preview:\n"
     ]
    },
    {
     "data": {
      "text/html": [
       "<div>\n",
       "<style scoped>\n",
       "    .dataframe tbody tr th:only-of-type {\n",
       "        vertical-align: middle;\n",
       "    }\n",
       "\n",
       "    .dataframe tbody tr th {\n",
       "        vertical-align: top;\n",
       "    }\n",
       "\n",
       "    .dataframe thead th {\n",
       "        text-align: right;\n",
       "    }\n",
       "</style>\n",
       "<table border=\"1\" class=\"dataframe\">\n",
       "  <thead>\n",
       "    <tr style=\"text-align: right;\">\n",
       "      <th></th>\n",
       "      <th>application_id</th>\n",
       "      <th>gender</th>\n",
       "      <th>international</th>\n",
       "      <th>gpa</th>\n",
       "      <th>major</th>\n",
       "      <th>race</th>\n",
       "      <th>gmat</th>\n",
       "      <th>work_exp</th>\n",
       "      <th>work_industry</th>\n",
       "      <th>admission</th>\n",
       "    </tr>\n",
       "  </thead>\n",
       "  <tbody>\n",
       "    <tr>\n",
       "      <th>0</th>\n",
       "      <td>1</td>\n",
       "      <td>Female</td>\n",
       "      <td>False</td>\n",
       "      <td>3.30</td>\n",
       "      <td>Business</td>\n",
       "      <td>Asian</td>\n",
       "      <td>620.0</td>\n",
       "      <td>3.0</td>\n",
       "      <td>Financial Services</td>\n",
       "      <td>Admit</td>\n",
       "    </tr>\n",
       "    <tr>\n",
       "      <th>1</th>\n",
       "      <td>2</td>\n",
       "      <td>Male</td>\n",
       "      <td>False</td>\n",
       "      <td>3.28</td>\n",
       "      <td>Humanities</td>\n",
       "      <td>Black</td>\n",
       "      <td>680.0</td>\n",
       "      <td>5.0</td>\n",
       "      <td>Investment Management</td>\n",
       "      <td>NaN</td>\n",
       "    </tr>\n",
       "    <tr>\n",
       "      <th>2</th>\n",
       "      <td>3</td>\n",
       "      <td>Female</td>\n",
       "      <td>True</td>\n",
       "      <td>3.30</td>\n",
       "      <td>Business</td>\n",
       "      <td>NaN</td>\n",
       "      <td>710.0</td>\n",
       "      <td>5.0</td>\n",
       "      <td>Technology</td>\n",
       "      <td>Admit</td>\n",
       "    </tr>\n",
       "    <tr>\n",
       "      <th>3</th>\n",
       "      <td>4</td>\n",
       "      <td>Male</td>\n",
       "      <td>False</td>\n",
       "      <td>3.47</td>\n",
       "      <td>STEM</td>\n",
       "      <td>Black</td>\n",
       "      <td>690.0</td>\n",
       "      <td>6.0</td>\n",
       "      <td>Technology</td>\n",
       "      <td>NaN</td>\n",
       "    </tr>\n",
       "    <tr>\n",
       "      <th>4</th>\n",
       "      <td>5</td>\n",
       "      <td>Male</td>\n",
       "      <td>False</td>\n",
       "      <td>3.35</td>\n",
       "      <td>STEM</td>\n",
       "      <td>Hispanic</td>\n",
       "      <td>590.0</td>\n",
       "      <td>5.0</td>\n",
       "      <td>Consulting</td>\n",
       "      <td>NaN</td>\n",
       "    </tr>\n",
       "  </tbody>\n",
       "</table>\n",
       "</div>"
      ],
      "text/plain": [
       "   application_id  gender  international   gpa       major      race   gmat  \\\n",
       "0               1  Female          False  3.30    Business     Asian  620.0   \n",
       "1               2    Male          False  3.28  Humanities     Black  680.0   \n",
       "2               3  Female           True  3.30    Business       NaN  710.0   \n",
       "3               4    Male          False  3.47        STEM     Black  690.0   \n",
       "4               5    Male          False  3.35        STEM  Hispanic  590.0   \n",
       "\n",
       "   work_exp          work_industry admission  \n",
       "0       3.0     Financial Services     Admit  \n",
       "1       5.0  Investment Management       NaN  \n",
       "2       5.0             Technology     Admit  \n",
       "3       6.0             Technology       NaN  \n",
       "4       5.0             Consulting       NaN  "
      ]
     },
     "metadata": {},
     "output_type": "display_data"
    },
    {
     "name": "stdout",
     "output_type": "stream",
     "text": [
      "\n",
      "Dataset Info:\n",
      "<class 'pandas.core.frame.DataFrame'>\n",
      "RangeIndex: 6194 entries, 0 to 6193\n",
      "Data columns (total 10 columns):\n",
      " #   Column          Non-Null Count  Dtype  \n",
      "---  ------          --------------  -----  \n",
      " 0   application_id  6194 non-null   int64  \n",
      " 1   gender          6194 non-null   object \n",
      " 2   international   6194 non-null   bool   \n",
      " 3   gpa             6194 non-null   float64\n",
      " 4   major           6194 non-null   object \n",
      " 5   race            4352 non-null   object \n",
      " 6   gmat            6194 non-null   float64\n",
      " 7   work_exp        6194 non-null   float64\n",
      " 8   work_industry   6194 non-null   object \n",
      " 9   admission       1000 non-null   object \n",
      "dtypes: bool(1), float64(3), int64(1), object(5)\n",
      "memory usage: 441.7+ KB\n",
      "\n",
      "Dataset Dimension\n"
     ]
    },
    {
     "data": {
      "text/plain": [
       "(6194, 10)"
      ]
     },
     "execution_count": 46,
     "metadata": {},
     "output_type": "execute_result"
    }
   ],
   "source": [
    "# load the dataset\n",
    "mba_df = pd.read_csv('mba-admission-dataset.csv') \n",
    "\n",
    "# display the first few rows\n",
    "print(\"Dataset Preview:\")\n",
    "display(mba_df.head())\n",
    "\n",
    "# get dataset structure\n",
    "print(\"\\nDataset Info:\")\n",
    "mba_df.info()\n",
    "\n",
    "# get dataset size\n",
    "print('\\nDataset Dimension')\n",
    "mba_df.shape\n"
   ]
  },
  {
   "cell_type": "code",
   "execution_count": 25,
   "id": "2103844e",
   "metadata": {},
   "outputs": [
    {
     "data": {
      "text/plain": [
       "admission\n",
       "Admit       900\n",
       "Waitlist    100\n",
       "Name: count, dtype: int64"
      ]
     },
     "execution_count": 25,
     "metadata": {},
     "output_type": "execute_result"
    }
   ],
   "source": [
    "# getting unique labels\n",
    "mba_df['admission'].value_counts().sort_values(ascending=False)"
   ]
  },
  {
   "cell_type": "markdown",
   "id": "bd516e83",
   "metadata": {
    "papermill": {
     "duration": 0.007137,
     "end_time": "2025-03-08T17:36:12.913400",
     "exception": false,
     "start_time": "2025-03-08T17:36:12.906263",
     "status": "completed"
    },
    "tags": []
   },
   "source": [
    "## Handle Missing Values"
   ]
  },
  {
   "cell_type": "code",
   "execution_count": 47,
   "id": "9fd7e1fd",
   "metadata": {
    "execution": {
     "iopub.execute_input": "2025-03-08T17:36:12.931572Z",
     "iopub.status.busy": "2025-03-08T17:36:12.930993Z",
     "iopub.status.idle": "2025-03-08T17:36:12.941821Z",
     "shell.execute_reply": "2025-03-08T17:36:12.940530Z"
    },
    "papermill": {
     "duration": 0.021492,
     "end_time": "2025-03-08T17:36:12.943839",
     "exception": false,
     "start_time": "2025-03-08T17:36:12.922347",
     "status": "completed"
    },
    "tags": []
   },
   "outputs": [
    {
     "name": "stdout",
     "output_type": "stream",
     "text": [
      "Missing values per column before handling:\n",
      "application_id       0\n",
      "gender               0\n",
      "international        0\n",
      "gpa                  0\n",
      "major                0\n",
      "race              1842\n",
      "gmat                 0\n",
      "work_exp             0\n",
      "work_industry        0\n",
      "admission         5194\n",
      "dtype: int64\n"
     ]
    }
   ],
   "source": [
    "# check missing values in all columns\n",
    "print(\"Missing values per column before handling:\")\n",
    "print(mba_df.isnull().sum())\n",
    "\n",
    "# for categorical columns, fill missing with 'Unknown'\n",
    "categorical_cols = ['gender', 'major', 'race', 'work_industry']\n",
    "for col in categorical_cols:\n",
    "    mba_df[col].fillna('Unknown', inplace=True)\n",
    "\n",
    "# for numerical columns, fill missing with median\n",
    "numerical_cols = ['gpa', 'gmat', 'work_exp']\n",
    "for col in numerical_cols:\n",
    "    mba_df[col].fillna(mba_df[col].median(), inplace=True)\n",
    "\n",
    "# for target column, fill missing with most frequent value\n",
    "mba_df['admission'].fillna(mba_df['admission'].mode()[0], inplace=True)"
   ]
  },
  {
   "cell_type": "code",
   "execution_count": 48,
   "id": "7c84b559",
   "metadata": {},
   "outputs": [
    {
     "data": {
      "text/html": [
       "<div>\n",
       "<style scoped>\n",
       "    .dataframe tbody tr th:only-of-type {\n",
       "        vertical-align: middle;\n",
       "    }\n",
       "\n",
       "    .dataframe tbody tr th {\n",
       "        vertical-align: top;\n",
       "    }\n",
       "\n",
       "    .dataframe thead th {\n",
       "        text-align: right;\n",
       "    }\n",
       "</style>\n",
       "<table border=\"1\" class=\"dataframe\">\n",
       "  <thead>\n",
       "    <tr style=\"text-align: right;\">\n",
       "      <th></th>\n",
       "      <th>application_id</th>\n",
       "      <th>gender</th>\n",
       "      <th>international</th>\n",
       "      <th>gpa</th>\n",
       "      <th>major</th>\n",
       "      <th>race</th>\n",
       "      <th>gmat</th>\n",
       "      <th>work_exp</th>\n",
       "      <th>work_industry</th>\n",
       "      <th>admission</th>\n",
       "    </tr>\n",
       "  </thead>\n",
       "  <tbody>\n",
       "    <tr>\n",
       "      <th>0</th>\n",
       "      <td>1</td>\n",
       "      <td>Female</td>\n",
       "      <td>False</td>\n",
       "      <td>3.30</td>\n",
       "      <td>Business</td>\n",
       "      <td>Asian</td>\n",
       "      <td>620.0</td>\n",
       "      <td>3.0</td>\n",
       "      <td>Financial Services</td>\n",
       "      <td>Admit</td>\n",
       "    </tr>\n",
       "    <tr>\n",
       "      <th>1</th>\n",
       "      <td>2</td>\n",
       "      <td>Male</td>\n",
       "      <td>False</td>\n",
       "      <td>3.28</td>\n",
       "      <td>Humanities</td>\n",
       "      <td>Black</td>\n",
       "      <td>680.0</td>\n",
       "      <td>5.0</td>\n",
       "      <td>Investment Management</td>\n",
       "      <td>Admit</td>\n",
       "    </tr>\n",
       "    <tr>\n",
       "      <th>2</th>\n",
       "      <td>3</td>\n",
       "      <td>Female</td>\n",
       "      <td>True</td>\n",
       "      <td>3.30</td>\n",
       "      <td>Business</td>\n",
       "      <td>Unknown</td>\n",
       "      <td>710.0</td>\n",
       "      <td>5.0</td>\n",
       "      <td>Technology</td>\n",
       "      <td>Admit</td>\n",
       "    </tr>\n",
       "    <tr>\n",
       "      <th>3</th>\n",
       "      <td>4</td>\n",
       "      <td>Male</td>\n",
       "      <td>False</td>\n",
       "      <td>3.47</td>\n",
       "      <td>STEM</td>\n",
       "      <td>Black</td>\n",
       "      <td>690.0</td>\n",
       "      <td>6.0</td>\n",
       "      <td>Technology</td>\n",
       "      <td>Admit</td>\n",
       "    </tr>\n",
       "    <tr>\n",
       "      <th>4</th>\n",
       "      <td>5</td>\n",
       "      <td>Male</td>\n",
       "      <td>False</td>\n",
       "      <td>3.35</td>\n",
       "      <td>STEM</td>\n",
       "      <td>Hispanic</td>\n",
       "      <td>590.0</td>\n",
       "      <td>5.0</td>\n",
       "      <td>Consulting</td>\n",
       "      <td>Admit</td>\n",
       "    </tr>\n",
       "  </tbody>\n",
       "</table>\n",
       "</div>"
      ],
      "text/plain": [
       "   application_id  gender  international   gpa       major      race   gmat  \\\n",
       "0               1  Female          False  3.30    Business     Asian  620.0   \n",
       "1               2    Male          False  3.28  Humanities     Black  680.0   \n",
       "2               3  Female           True  3.30    Business   Unknown  710.0   \n",
       "3               4    Male          False  3.47        STEM     Black  690.0   \n",
       "4               5    Male          False  3.35        STEM  Hispanic  590.0   \n",
       "\n",
       "   work_exp          work_industry admission  \n",
       "0       3.0     Financial Services     Admit  \n",
       "1       5.0  Investment Management     Admit  \n",
       "2       5.0             Technology     Admit  \n",
       "3       6.0             Technology     Admit  \n",
       "4       5.0             Consulting     Admit  "
      ]
     },
     "execution_count": 48,
     "metadata": {},
     "output_type": "execute_result"
    }
   ],
   "source": [
    "mba_df.head()"
   ]
  },
  {
   "cell_type": "markdown",
   "id": "3adc401e",
   "metadata": {
    "papermill": {
     "duration": 0.006716,
     "end_time": "2025-03-08T17:36:12.957257",
     "exception": false,
     "start_time": "2025-03-08T17:36:12.950541",
     "status": "completed"
    },
    "tags": []
   },
   "source": [
    "## Encode Categorical Variables"
   ]
  },
  {
   "cell_type": "code",
   "execution_count": 27,
   "id": "8cd5d323",
   "metadata": {
    "execution": {
     "iopub.execute_input": "2025-03-08T17:36:12.972223Z",
     "iopub.status.busy": "2025-03-08T17:36:12.971846Z",
     "iopub.status.idle": "2025-03-08T17:36:12.978791Z",
     "shell.execute_reply": "2025-03-08T17:36:12.977390Z"
    },
    "papermill": {
     "duration": 0.01732,
     "end_time": "2025-03-08T17:36:12.981662",
     "exception": false,
     "start_time": "2025-03-08T17:36:12.964342",
     "status": "completed"
    },
    "tags": []
   },
   "outputs": [
    {
     "name": "stdout",
     "output_type": "stream",
     "text": [
      "Categorical Columns: ['gender', 'major', 'race', 'work_industry', 'admission']\n"
     ]
    }
   ],
   "source": [
    "# identify categorical columns\n",
    "categorical_cols = mba_df.select_dtypes(include=['object']).columns\n",
    "print(\"Categorical Columns:\", categorical_cols.tolist())\n"
   ]
  },
  {
   "cell_type": "code",
   "execution_count": 28,
   "id": "05ca94c7",
   "metadata": {
    "execution": {
     "iopub.execute_input": "2025-03-08T17:36:12.996791Z",
     "iopub.status.busy": "2025-03-08T17:36:12.996393Z",
     "iopub.status.idle": "2025-03-08T17:36:13.047687Z",
     "shell.execute_reply": "2025-03-08T17:36:13.046427Z"
    },
    "papermill": {
     "duration": 0.06131,
     "end_time": "2025-03-08T17:36:13.049670",
     "exception": false,
     "start_time": "2025-03-08T17:36:12.988360",
     "status": "completed"
    },
    "tags": []
   },
   "outputs": [
    {
     "name": "stdout",
     "output_type": "stream",
     "text": [
      "Encoded Admission Values: [0 1]\n"
     ]
    },
    {
     "data": {
      "text/html": [
       "<div>\n",
       "<style scoped>\n",
       "    .dataframe tbody tr th:only-of-type {\n",
       "        vertical-align: middle;\n",
       "    }\n",
       "\n",
       "    .dataframe tbody tr th {\n",
       "        vertical-align: top;\n",
       "    }\n",
       "\n",
       "    .dataframe thead th {\n",
       "        text-align: right;\n",
       "    }\n",
       "</style>\n",
       "<table border=\"1\" class=\"dataframe\">\n",
       "  <thead>\n",
       "    <tr style=\"text-align: right;\">\n",
       "      <th></th>\n",
       "      <th>application_id</th>\n",
       "      <th>international</th>\n",
       "      <th>gpa</th>\n",
       "      <th>gmat</th>\n",
       "      <th>work_exp</th>\n",
       "      <th>admission</th>\n",
       "      <th>gender_Male</th>\n",
       "      <th>major_Humanities</th>\n",
       "      <th>major_STEM</th>\n",
       "      <th>race_Black</th>\n",
       "      <th>...</th>\n",
       "      <th>work_industry_Health Care</th>\n",
       "      <th>work_industry_Investment Banking</th>\n",
       "      <th>work_industry_Investment Management</th>\n",
       "      <th>work_industry_Media/Entertainment</th>\n",
       "      <th>work_industry_Nonprofit/Gov</th>\n",
       "      <th>work_industry_Other</th>\n",
       "      <th>work_industry_PE/VC</th>\n",
       "      <th>work_industry_Real Estate</th>\n",
       "      <th>work_industry_Retail</th>\n",
       "      <th>work_industry_Technology</th>\n",
       "    </tr>\n",
       "  </thead>\n",
       "  <tbody>\n",
       "    <tr>\n",
       "      <th>0</th>\n",
       "      <td>1</td>\n",
       "      <td>False</td>\n",
       "      <td>3.30</td>\n",
       "      <td>620.0</td>\n",
       "      <td>3.0</td>\n",
       "      <td>0</td>\n",
       "      <td>False</td>\n",
       "      <td>False</td>\n",
       "      <td>False</td>\n",
       "      <td>False</td>\n",
       "      <td>...</td>\n",
       "      <td>False</td>\n",
       "      <td>False</td>\n",
       "      <td>False</td>\n",
       "      <td>False</td>\n",
       "      <td>False</td>\n",
       "      <td>False</td>\n",
       "      <td>False</td>\n",
       "      <td>False</td>\n",
       "      <td>False</td>\n",
       "      <td>False</td>\n",
       "    </tr>\n",
       "    <tr>\n",
       "      <th>1</th>\n",
       "      <td>2</td>\n",
       "      <td>False</td>\n",
       "      <td>3.28</td>\n",
       "      <td>680.0</td>\n",
       "      <td>5.0</td>\n",
       "      <td>0</td>\n",
       "      <td>True</td>\n",
       "      <td>True</td>\n",
       "      <td>False</td>\n",
       "      <td>True</td>\n",
       "      <td>...</td>\n",
       "      <td>False</td>\n",
       "      <td>False</td>\n",
       "      <td>True</td>\n",
       "      <td>False</td>\n",
       "      <td>False</td>\n",
       "      <td>False</td>\n",
       "      <td>False</td>\n",
       "      <td>False</td>\n",
       "      <td>False</td>\n",
       "      <td>False</td>\n",
       "    </tr>\n",
       "    <tr>\n",
       "      <th>2</th>\n",
       "      <td>3</td>\n",
       "      <td>True</td>\n",
       "      <td>3.30</td>\n",
       "      <td>710.0</td>\n",
       "      <td>5.0</td>\n",
       "      <td>0</td>\n",
       "      <td>False</td>\n",
       "      <td>False</td>\n",
       "      <td>False</td>\n",
       "      <td>False</td>\n",
       "      <td>...</td>\n",
       "      <td>False</td>\n",
       "      <td>False</td>\n",
       "      <td>False</td>\n",
       "      <td>False</td>\n",
       "      <td>False</td>\n",
       "      <td>False</td>\n",
       "      <td>False</td>\n",
       "      <td>False</td>\n",
       "      <td>False</td>\n",
       "      <td>True</td>\n",
       "    </tr>\n",
       "    <tr>\n",
       "      <th>3</th>\n",
       "      <td>4</td>\n",
       "      <td>False</td>\n",
       "      <td>3.47</td>\n",
       "      <td>690.0</td>\n",
       "      <td>6.0</td>\n",
       "      <td>0</td>\n",
       "      <td>True</td>\n",
       "      <td>False</td>\n",
       "      <td>True</td>\n",
       "      <td>True</td>\n",
       "      <td>...</td>\n",
       "      <td>False</td>\n",
       "      <td>False</td>\n",
       "      <td>False</td>\n",
       "      <td>False</td>\n",
       "      <td>False</td>\n",
       "      <td>False</td>\n",
       "      <td>False</td>\n",
       "      <td>False</td>\n",
       "      <td>False</td>\n",
       "      <td>True</td>\n",
       "    </tr>\n",
       "    <tr>\n",
       "      <th>4</th>\n",
       "      <td>5</td>\n",
       "      <td>False</td>\n",
       "      <td>3.35</td>\n",
       "      <td>590.0</td>\n",
       "      <td>5.0</td>\n",
       "      <td>0</td>\n",
       "      <td>True</td>\n",
       "      <td>False</td>\n",
       "      <td>True</td>\n",
       "      <td>False</td>\n",
       "      <td>...</td>\n",
       "      <td>False</td>\n",
       "      <td>False</td>\n",
       "      <td>False</td>\n",
       "      <td>False</td>\n",
       "      <td>False</td>\n",
       "      <td>False</td>\n",
       "      <td>False</td>\n",
       "      <td>False</td>\n",
       "      <td>False</td>\n",
       "      <td>False</td>\n",
       "    </tr>\n",
       "  </tbody>\n",
       "</table>\n",
       "<p>5 rows × 27 columns</p>\n",
       "</div>"
      ],
      "text/plain": [
       "   application_id  international   gpa   gmat  work_exp  admission  \\\n",
       "0               1          False  3.30  620.0       3.0          0   \n",
       "1               2          False  3.28  680.0       5.0          0   \n",
       "2               3           True  3.30  710.0       5.0          0   \n",
       "3               4          False  3.47  690.0       6.0          0   \n",
       "4               5          False  3.35  590.0       5.0          0   \n",
       "\n",
       "   gender_Male  major_Humanities  major_STEM  race_Black  ...  \\\n",
       "0        False             False       False       False  ...   \n",
       "1         True              True       False        True  ...   \n",
       "2        False             False       False       False  ...   \n",
       "3         True             False        True        True  ...   \n",
       "4         True             False        True       False  ...   \n",
       "\n",
       "   work_industry_Health Care  work_industry_Investment Banking  \\\n",
       "0                      False                             False   \n",
       "1                      False                             False   \n",
       "2                      False                             False   \n",
       "3                      False                             False   \n",
       "4                      False                             False   \n",
       "\n",
       "   work_industry_Investment Management  work_industry_Media/Entertainment  \\\n",
       "0                                False                              False   \n",
       "1                                 True                              False   \n",
       "2                                False                              False   \n",
       "3                                False                              False   \n",
       "4                                False                              False   \n",
       "\n",
       "   work_industry_Nonprofit/Gov  work_industry_Other  work_industry_PE/VC  \\\n",
       "0                        False                False                False   \n",
       "1                        False                False                False   \n",
       "2                        False                False                False   \n",
       "3                        False                False                False   \n",
       "4                        False                False                False   \n",
       "\n",
       "   work_industry_Real Estate  work_industry_Retail  work_industry_Technology  \n",
       "0                      False                 False                     False  \n",
       "1                      False                 False                     False  \n",
       "2                      False                 False                      True  \n",
       "3                      False                 False                      True  \n",
       "4                      False                 False                     False  \n",
       "\n",
       "[5 rows x 27 columns]"
      ]
     },
     "metadata": {},
     "output_type": "display_data"
    }
   ],
   "source": [
    "# apply label encoding to the target column (admission)\n",
    "le = LabelEncoder()\n",
    "mba_df['admission'] = le.fit_transform(mba_df['admission'])\n",
    "mba_df = pd.get_dummies(mba_df, columns=['gender', 'major', 'race', 'work_industry'], drop_first=True)\n",
    "\n",
    "# display unique values after encoding\n",
    "print(\"Encoded Admission Values:\", mba_df['admission'].unique())\n",
    "\n",
    "# display dataset after encoding\n",
    "display(mba_df.head())"
   ]
  },
  {
   "cell_type": "code",
   "execution_count": 29,
   "id": "dcdaf033",
   "metadata": {},
   "outputs": [
    {
     "data": {
      "text/plain": [
       "Index(['application_id', 'international', 'gpa', 'gmat', 'work_exp',\n",
       "       'admission', 'gender_Male', 'major_Humanities', 'major_STEM',\n",
       "       'race_Black', 'race_Hispanic', 'race_Other', 'race_Unknown',\n",
       "       'race_White', 'work_industry_Consulting', 'work_industry_Energy',\n",
       "       'work_industry_Financial Services', 'work_industry_Health Care',\n",
       "       'work_industry_Investment Banking',\n",
       "       'work_industry_Investment Management',\n",
       "       'work_industry_Media/Entertainment', 'work_industry_Nonprofit/Gov',\n",
       "       'work_industry_Other', 'work_industry_PE/VC',\n",
       "       'work_industry_Real Estate', 'work_industry_Retail',\n",
       "       'work_industry_Technology'],\n",
       "      dtype='object')"
      ]
     },
     "execution_count": 29,
     "metadata": {},
     "output_type": "execute_result"
    }
   ],
   "source": [
    "mba_df.columns"
   ]
  },
  {
   "cell_type": "markdown",
   "id": "889ade54",
   "metadata": {
    "papermill": {
     "duration": 0.006555,
     "end_time": "2025-03-08T17:36:13.064396",
     "exception": false,
     "start_time": "2025-03-08T17:36:13.057841",
     "status": "completed"
    },
    "tags": []
   },
   "source": [
    "# Feature Scaling & Data Splitting"
   ]
  },
  {
   "cell_type": "markdown",
   "id": "989fc8d9",
   "metadata": {
    "papermill": {
     "duration": 0.006454,
     "end_time": "2025-03-08T17:36:13.077582",
     "exception": false,
     "start_time": "2025-03-08T17:36:13.071128",
     "status": "completed"
    },
    "tags": []
   },
   "source": [
    "## Standardize numerical features"
   ]
  },
  {
   "cell_type": "code",
   "execution_count": 30,
   "id": "bd8d9a97",
   "metadata": {
    "execution": {
     "iopub.execute_input": "2025-03-08T17:36:13.093378Z",
     "iopub.status.busy": "2025-03-08T17:36:13.092953Z",
     "iopub.status.idle": "2025-03-08T17:36:13.100942Z",
     "shell.execute_reply": "2025-03-08T17:36:13.099522Z"
    },
    "papermill": {
     "duration": 0.018988,
     "end_time": "2025-03-08T17:36:13.103402",
     "exception": false,
     "start_time": "2025-03-08T17:36:13.084414",
     "status": "completed"
    },
    "tags": []
   },
   "outputs": [
    {
     "name": "stdout",
     "output_type": "stream",
     "text": [
      "Numerical Columns: ['gpa', 'gmat', 'work_exp']\n"
     ]
    }
   ],
   "source": [
    "# identify numerical columns (excluding target and encoded categorical features)\n",
    "num_cols = mba_df.select_dtypes(include=['int64', 'float64']).columns.tolist()\n",
    "\n",
    "# remove admission and application ID\n",
    "num_cols = [col for col in num_cols if col not in ['admission', 'application_id']]\n",
    "\n",
    "# Print the list\n",
    "print(\"Numerical Columns:\", num_cols)"
   ]
  },
  {
   "cell_type": "code",
   "execution_count": 31,
   "id": "66d4e578",
   "metadata": {
    "execution": {
     "iopub.execute_input": "2025-03-08T17:36:13.119321Z",
     "iopub.status.busy": "2025-03-08T17:36:13.118919Z",
     "iopub.status.idle": "2025-03-08T17:36:13.162768Z",
     "shell.execute_reply": "2025-03-08T17:36:13.161399Z"
    },
    "papermill": {
     "duration": 0.054504,
     "end_time": "2025-03-08T17:36:13.164743",
     "exception": false,
     "start_time": "2025-03-08T17:36:13.110239",
     "status": "completed"
    },
    "tags": []
   },
   "outputs": [
    {
     "data": {
      "text/html": [
       "<div>\n",
       "<style scoped>\n",
       "    .dataframe tbody tr th:only-of-type {\n",
       "        vertical-align: middle;\n",
       "    }\n",
       "\n",
       "    .dataframe tbody tr th {\n",
       "        vertical-align: top;\n",
       "    }\n",
       "\n",
       "    .dataframe thead th {\n",
       "        text-align: right;\n",
       "    }\n",
       "</style>\n",
       "<table border=\"1\" class=\"dataframe\">\n",
       "  <thead>\n",
       "    <tr style=\"text-align: right;\">\n",
       "      <th></th>\n",
       "      <th>application_id</th>\n",
       "      <th>international</th>\n",
       "      <th>gpa</th>\n",
       "      <th>gmat</th>\n",
       "      <th>work_exp</th>\n",
       "      <th>admission</th>\n",
       "      <th>gender_Male</th>\n",
       "      <th>major_Humanities</th>\n",
       "      <th>major_STEM</th>\n",
       "      <th>race_Black</th>\n",
       "      <th>...</th>\n",
       "      <th>work_industry_Health Care</th>\n",
       "      <th>work_industry_Investment Banking</th>\n",
       "      <th>work_industry_Investment Management</th>\n",
       "      <th>work_industry_Media/Entertainment</th>\n",
       "      <th>work_industry_Nonprofit/Gov</th>\n",
       "      <th>work_industry_Other</th>\n",
       "      <th>work_industry_PE/VC</th>\n",
       "      <th>work_industry_Real Estate</th>\n",
       "      <th>work_industry_Retail</th>\n",
       "      <th>work_industry_Technology</th>\n",
       "    </tr>\n",
       "  </thead>\n",
       "  <tbody>\n",
       "    <tr>\n",
       "      <th>6189</th>\n",
       "      <td>6190</td>\n",
       "      <td>False</td>\n",
       "      <td>1.579147</td>\n",
       "      <td>-0.225052</td>\n",
       "      <td>-0.016421</td>\n",
       "      <td>0</td>\n",
       "      <td>True</td>\n",
       "      <td>False</td>\n",
       "      <td>False</td>\n",
       "      <td>False</td>\n",
       "      <td>...</td>\n",
       "      <td>False</td>\n",
       "      <td>False</td>\n",
       "      <td>False</td>\n",
       "      <td>False</td>\n",
       "      <td>False</td>\n",
       "      <td>True</td>\n",
       "      <td>False</td>\n",
       "      <td>False</td>\n",
       "      <td>False</td>\n",
       "      <td>False</td>\n",
       "    </tr>\n",
       "    <tr>\n",
       "      <th>6190</th>\n",
       "      <td>6191</td>\n",
       "      <td>False</td>\n",
       "      <td>-0.466667</td>\n",
       "      <td>0.383580</td>\n",
       "      <td>-0.985085</td>\n",
       "      <td>0</td>\n",
       "      <td>True</td>\n",
       "      <td>False</td>\n",
       "      <td>True</td>\n",
       "      <td>True</td>\n",
       "      <td>...</td>\n",
       "      <td>False</td>\n",
       "      <td>False</td>\n",
       "      <td>False</td>\n",
       "      <td>False</td>\n",
       "      <td>False</td>\n",
       "      <td>False</td>\n",
       "      <td>False</td>\n",
       "      <td>False</td>\n",
       "      <td>False</td>\n",
       "      <td>False</td>\n",
       "    </tr>\n",
       "    <tr>\n",
       "      <th>6191</th>\n",
       "      <td>6192</td>\n",
       "      <td>True</td>\n",
       "      <td>-0.202691</td>\n",
       "      <td>0.586457</td>\n",
       "      <td>-0.016421</td>\n",
       "      <td>0</td>\n",
       "      <td>False</td>\n",
       "      <td>False</td>\n",
       "      <td>False</td>\n",
       "      <td>False</td>\n",
       "      <td>...</td>\n",
       "      <td>True</td>\n",
       "      <td>False</td>\n",
       "      <td>False</td>\n",
       "      <td>False</td>\n",
       "      <td>False</td>\n",
       "      <td>False</td>\n",
       "      <td>False</td>\n",
       "      <td>False</td>\n",
       "      <td>False</td>\n",
       "      <td>False</td>\n",
       "    </tr>\n",
       "    <tr>\n",
       "      <th>6192</th>\n",
       "      <td>6193</td>\n",
       "      <td>True</td>\n",
       "      <td>0.721225</td>\n",
       "      <td>-1.239437</td>\n",
       "      <td>-0.016421</td>\n",
       "      <td>0</td>\n",
       "      <td>True</td>\n",
       "      <td>False</td>\n",
       "      <td>False</td>\n",
       "      <td>False</td>\n",
       "      <td>...</td>\n",
       "      <td>False</td>\n",
       "      <td>False</td>\n",
       "      <td>False</td>\n",
       "      <td>False</td>\n",
       "      <td>False</td>\n",
       "      <td>True</td>\n",
       "      <td>False</td>\n",
       "      <td>False</td>\n",
       "      <td>False</td>\n",
       "      <td>False</td>\n",
       "    </tr>\n",
       "    <tr>\n",
       "      <th>6193</th>\n",
       "      <td>6194</td>\n",
       "      <td>False</td>\n",
       "      <td>-0.136697</td>\n",
       "      <td>-0.022174</td>\n",
       "      <td>-0.985085</td>\n",
       "      <td>0</td>\n",
       "      <td>True</td>\n",
       "      <td>False</td>\n",
       "      <td>True</td>\n",
       "      <td>False</td>\n",
       "      <td>...</td>\n",
       "      <td>False</td>\n",
       "      <td>False</td>\n",
       "      <td>False</td>\n",
       "      <td>False</td>\n",
       "      <td>False</td>\n",
       "      <td>False</td>\n",
       "      <td>False</td>\n",
       "      <td>False</td>\n",
       "      <td>False</td>\n",
       "      <td>False</td>\n",
       "    </tr>\n",
       "  </tbody>\n",
       "</table>\n",
       "<p>5 rows × 27 columns</p>\n",
       "</div>"
      ],
      "text/plain": [
       "      application_id  international       gpa      gmat  work_exp  admission  \\\n",
       "6189            6190          False  1.579147 -0.225052 -0.016421          0   \n",
       "6190            6191          False -0.466667  0.383580 -0.985085          0   \n",
       "6191            6192           True -0.202691  0.586457 -0.016421          0   \n",
       "6192            6193           True  0.721225 -1.239437 -0.016421          0   \n",
       "6193            6194          False -0.136697 -0.022174 -0.985085          0   \n",
       "\n",
       "      gender_Male  major_Humanities  major_STEM  race_Black  ...  \\\n",
       "6189         True             False       False       False  ...   \n",
       "6190         True             False        True        True  ...   \n",
       "6191        False             False       False       False  ...   \n",
       "6192         True             False       False       False  ...   \n",
       "6193         True             False        True       False  ...   \n",
       "\n",
       "      work_industry_Health Care  work_industry_Investment Banking  \\\n",
       "6189                      False                             False   \n",
       "6190                      False                             False   \n",
       "6191                       True                             False   \n",
       "6192                      False                             False   \n",
       "6193                      False                             False   \n",
       "\n",
       "      work_industry_Investment Management  work_industry_Media/Entertainment  \\\n",
       "6189                                False                              False   \n",
       "6190                                False                              False   \n",
       "6191                                False                              False   \n",
       "6192                                False                              False   \n",
       "6193                                False                              False   \n",
       "\n",
       "      work_industry_Nonprofit/Gov  work_industry_Other  work_industry_PE/VC  \\\n",
       "6189                        False                 True                False   \n",
       "6190                        False                False                False   \n",
       "6191                        False                False                False   \n",
       "6192                        False                 True                False   \n",
       "6193                        False                False                False   \n",
       "\n",
       "      work_industry_Real Estate  work_industry_Retail  \\\n",
       "6189                      False                 False   \n",
       "6190                      False                 False   \n",
       "6191                      False                 False   \n",
       "6192                      False                 False   \n",
       "6193                      False                 False   \n",
       "\n",
       "      work_industry_Technology  \n",
       "6189                     False  \n",
       "6190                     False  \n",
       "6191                     False  \n",
       "6192                     False  \n",
       "6193                     False  \n",
       "\n",
       "[5 rows x 27 columns]"
      ]
     },
     "metadata": {},
     "output_type": "display_data"
    }
   ],
   "source": [
    "# define the correct numerical columns (excluding application_id & admission)\n",
    "num_cols = ['gpa', 'gmat', 'work_exp']  # only the features that should be standardized\n",
    "\n",
    "# initialize StandardScaler\n",
    "scaler = StandardScaler()\n",
    "\n",
    "# standardize only the selected numerical columns\n",
    "mba_df[num_cols] = scaler.fit_transform(mba_df[num_cols])\n",
    "\n",
    "# display the dataset after fixing the issue\n",
    "display(mba_df.tail())"
   ]
  },
  {
   "cell_type": "markdown",
   "id": "7f159edc",
   "metadata": {
    "papermill": {
     "duration": 0.007599,
     "end_time": "2025-03-08T17:36:13.180730",
     "exception": false,
     "start_time": "2025-03-08T17:36:13.173131",
     "status": "completed"
    },
    "tags": []
   },
   "source": [
    "# Train-Test Split"
   ]
  },
  {
   "cell_type": "markdown",
   "id": "7e2c82d2",
   "metadata": {
    "papermill": {
     "duration": 0.007511,
     "end_time": "2025-03-08T17:36:13.195533",
     "exception": false,
     "start_time": "2025-03-08T17:36:13.188022",
     "status": "completed"
    },
    "tags": []
   },
   "source": [
    "## Define Features (X) and Target (y)"
   ]
  },
  {
   "cell_type": "code",
   "execution_count": 32,
   "id": "7b5e1be3",
   "metadata": {
    "execution": {
     "iopub.execute_input": "2025-03-08T17:36:13.212048Z",
     "iopub.status.busy": "2025-03-08T17:36:13.211655Z",
     "iopub.status.idle": "2025-03-08T17:36:13.223691Z",
     "shell.execute_reply": "2025-03-08T17:36:13.222140Z"
    },
    "papermill": {
     "duration": 0.02233,
     "end_time": "2025-03-08T17:36:13.225527",
     "exception": false,
     "start_time": "2025-03-08T17:36:13.203197",
     "status": "completed"
    },
    "tags": []
   },
   "outputs": [
    {
     "name": "stdout",
     "output_type": "stream",
     "text": [
      "Feature Set Shape: (6194, 25)\n",
      "Target Variable Shape: (6194,)\n"
     ]
    }
   ],
   "source": [
    "# define features (X) and target (y)\n",
    "X = mba_df.drop(columns=['admission', 'application_id'])  \n",
    "y = mba_df['admission'] \n",
    "\n",
    "# display shapes\n",
    "print(\"Feature Set Shape:\", X.shape)\n",
    "print(\"Target Variable Shape:\", y.shape)"
   ]
  },
  {
   "cell_type": "markdown",
   "id": "7d9b071b",
   "metadata": {
    "papermill": {
     "duration": 0.007488,
     "end_time": "2025-03-08T17:36:13.240480",
     "exception": false,
     "start_time": "2025-03-08T17:36:13.232992",
     "status": "completed"
    },
    "tags": []
   },
   "source": [
    "## Split Into Training & Testing Sets"
   ]
  },
  {
   "cell_type": "code",
   "execution_count": 33,
   "id": "f3fea914",
   "metadata": {
    "execution": {
     "iopub.execute_input": "2025-03-08T17:36:13.256730Z",
     "iopub.status.busy": "2025-03-08T17:36:13.256221Z",
     "iopub.status.idle": "2025-03-08T17:36:13.273143Z",
     "shell.execute_reply": "2025-03-08T17:36:13.271300Z"
    },
    "papermill": {
     "duration": 0.027364,
     "end_time": "2025-03-08T17:36:13.275106",
     "exception": false,
     "start_time": "2025-03-08T17:36:13.247742",
     "status": "completed"
    },
    "tags": []
   },
   "outputs": [
    {
     "name": "stdout",
     "output_type": "stream",
     "text": [
      "Training Set: (4955, 25) (4955,)\n",
      "Testing Set: (1239, 25) (1239,)\n"
     ]
    }
   ],
   "source": [
    "# split data into 80% training and 20% testing\n",
    "X_train, X_test, y_train, y_test = train_test_split(X, y, test_size=0.2, random_state=42, stratify=y)\n",
    "\n",
    "# print dataset sizes\n",
    "print(\"Training Set:\", X_train.shape, y_train.shape)\n",
    "print(\"Testing Set:\", X_test.shape, y_test.shape)"
   ]
  },
  {
   "cell_type": "markdown",
   "id": "04c974bd",
   "metadata": {
    "papermill": {
     "duration": 0.006889,
     "end_time": "2025-03-08T17:36:13.289561",
     "exception": false,
     "start_time": "2025-03-08T17:36:13.282672",
     "status": "completed"
    },
    "tags": []
   },
   "source": [
    "# Model Selection"
   ]
  },
  {
   "cell_type": "code",
   "execution_count": 34,
   "id": "f4bef8b9",
   "metadata": {},
   "outputs": [
    {
     "data": {
      "text/plain": [
       "admission\n",
       "0    0.983855\n",
       "1    0.016145\n",
       "Name: proportion, dtype: float64"
      ]
     },
     "execution_count": 34,
     "metadata": {},
     "output_type": "execute_result"
    }
   ],
   "source": [
    "# check the class distribution of 'admission'\n",
    "admission_counts = mba_df['admission'].value_counts(normalize=True) \n",
    "admission_counts "
   ]
  },
  {
   "cell_type": "code",
   "execution_count": 35,
   "id": "0e852016",
   "metadata": {
    "execution": {
     "iopub.execute_input": "2025-03-08T17:36:13.307043Z",
     "iopub.status.busy": "2025-03-08T17:36:13.306671Z",
     "iopub.status.idle": "2025-03-08T17:36:13.687891Z",
     "shell.execute_reply": "2025-03-08T17:36:13.686148Z"
    },
    "papermill": {
     "duration": 0.392093,
     "end_time": "2025-03-08T17:36:13.690148",
     "exception": false,
     "start_time": "2025-03-08T17:36:13.298055",
     "status": "completed"
    },
    "tags": []
   },
   "outputs": [
    {
     "data": {
      "image/png": "[encoded data removed]",
      "text/plain": [
       "<Figure size 600x400 with 1 Axes>"
      ]
     },
     "metadata": {},
     "output_type": "display_data"
    },
    {
     "name": "stdout",
     "output_type": "stream",
     "text": [
      "admission\n",
      "0    0.983855\n",
      "1    0.016145\n",
      "Name: proportion, dtype: float64\n"
     ]
    }
   ],
   "source": [
    "# plot class distribution\n",
    "plt.figure(figsize=(6,4))\n",
    "sns.barplot(x=admission_counts.index, y=admission_counts.values, palette=['blue', 'orange', 'green'])\n",
    "plt.title(\"Distribution of Admission Classes\")\n",
    "plt.xlabel(\"Admission Status\")\n",
    "plt.ylabel(\"Proportion\")\n",
    "plt.xticks(rotation=0)\n",
    "plt.show()\n",
    "\n",
    "# print the class distribution in numbers\n",
    "print(admission_counts)"
   ]
  },
  {
   "cell_type": "code",
   "execution_count": 36,
   "id": "7dbba086",
   "metadata": {
    "execution": {
     "iopub.execute_input": "2025-03-08T17:36:13.708071Z",
     "iopub.status.busy": "2025-03-08T17:36:13.707555Z",
     "iopub.status.idle": "2025-03-08T17:36:14.273624Z",
     "shell.execute_reply": "2025-03-08T17:36:14.272269Z"
    },
    "papermill": {
     "duration": 0.577009,
     "end_time": "2025-03-08T17:36:14.275485",
     "exception": false,
     "start_time": "2025-03-08T17:36:13.698476",
     "status": "completed"
    },
    "tags": []
   },
   "outputs": [
    {
     "name": "stdout",
     "output_type": "stream",
     "text": [
      "admission\n",
      "0    4875\n",
      "1    4875\n",
      "Name: count, dtype: int64\n"
     ]
    }
   ],
   "source": [
    "from imblearn.over_sampling import SMOTE\n",
    "\n",
    "# apply SMOTE to oversample the minority classes\n",
    "smote = SMOTE(random_state=42)\n",
    "X_train_balanced, y_train_balanced = smote.fit_resample(X_train, y_train)\n",
    "\n",
    "# check new class distribution\n",
    "print(y_train_balanced.value_counts())"
   ]
  },
  {
   "cell_type": "code",
   "execution_count": 37,
   "id": "f26487f6",
   "metadata": {
    "execution": {
     "iopub.execute_input": "2025-03-08T17:36:14.293312Z",
     "iopub.status.busy": "2025-03-08T17:36:14.292766Z",
     "iopub.status.idle": "2025-03-08T17:36:15.009933Z",
     "shell.execute_reply": "2025-03-08T17:36:15.008406Z"
    },
    "papermill": {
     "duration": 0.728209,
     "end_time": "2025-03-08T17:36:15.011821",
     "exception": false,
     "start_time": "2025-03-08T17:36:14.283612",
     "status": "completed"
    },
    "tags": []
   },
   "outputs": [
    {
     "data": {
      "text/html": [
       "<style>#sk-container-id-2 {\n",
       "  /* Definition of color scheme common for light and dark mode */\n",
       "  --sklearn-color-text: #000;\n",
       "  --sklearn-color-text-muted: #666;\n",
       "  --sklearn-color-line: gray;\n",
       "  /* Definition of color scheme for unfitted estimators */\n",
       "  --sklearn-color-unfitted-level-0: #fff5e6;\n",
       "  --sklearn-color-unfitted-level-1: #f6e4d2;\n",
       "  --sklearn-color-unfitted-level-2: #ffe0b3;\n",
       "  --sklearn-color-unfitted-level-3: chocolate;\n",
       "  /* Definition of color scheme for fitted estimators */\n",
       "  --sklearn-color-fitted-level-0: #f0f8ff;\n",
       "  --sklearn-color-fitted-level-1: #d4ebff;\n",
       "  --sklearn-color-fitted-level-2: #b3dbfd;\n",
       "  --sklearn-color-fitted-level-3: cornflowerblue;\n",
       "\n",
       "  /* Specific color for light theme */\n",
       "  --sklearn-color-text-on-default-background: var(--sg-text-color, var(--theme-code-foreground, var(--jp-content-font-color1, black)));\n",
       "  --sklearn-color-background: var(--sg-background-color, var(--theme-background, var(--jp-layout-color0, white)));\n",
       "  --sklearn-color-border-box: var(--sg-text-color, var(--theme-code-foreground, var(--jp-content-font-color1, black)));\n",
       "  --sklearn-color-icon: #696969;\n",
       "\n",
       "  @media (prefers-color-scheme: dark) {\n",
       "    /* Redefinition of color scheme for dark theme */\n",
       "    --sklearn-color-text-on-default-background: var(--sg-text-color, var(--theme-code-foreground, var(--jp-content-font-color1, white)));\n",
       "    --sklearn-color-background: var(--sg-background-color, var(--theme-background, var(--jp-layout-color0, #111)));\n",
       "    --sklearn-color-border-box: var(--sg-text-color, var(--theme-code-foreground, var(--jp-content-font-color1, white)));\n",
       "    --sklearn-color-icon: #878787;\n",
       "  }\n",
       "}\n",
       "\n",
       "#sk-container-id-2 {\n",
       "  color: var(--sklearn-color-text);\n",
       "}\n",
       "\n",
       "#sk-container-id-2 pre {\n",
       "  padding: 0;\n",
       "}\n",
       "\n",
       "#sk-container-id-2 input.sk-hidden--visually {\n",
       "  border: 0;\n",
       "  clip: rect(1px 1px 1px 1px);\n",
       "  clip: rect(1px, 1px, 1px, 1px);\n",
       "  height: 1px;\n",
       "  margin: -1px;\n",
       "  overflow: hidden;\n",
       "  padding: 0;\n",
       "  position: absolute;\n",
       "  width: 1px;\n",
       "}\n",
       "\n",
       "#sk-container-id-2 div.sk-dashed-wrapped {\n",
       "  border: 1px dashed var(--sklearn-color-line);\n",
       "  margin: 0 0.4em 0.5em 0.4em;\n",
       "  box-sizing: border-box;\n",
       "  padding-bottom: 0.4em;\n",
       "  background-color: var(--sklearn-color-background);\n",
       "}\n",
       "\n",
       "#sk-container-id-2 div.sk-container {\n",
       "  /* jupyter's `normalize.less` sets `[hidden] { display: none; }`\n",
       "     but bootstrap.min.css set `[hidden] { display: none !important; }`\n",
       "     so we also need the `!important` here to be able to override the\n",
       "     default hidden behavior on the sphinx rendered scikit-learn.org.\n",
       "     See: https://github.com/scikit-learn/scikit-learn/issues/21755 */\n",
       "  display: inline-block !important;\n",
       "  position: relative;\n",
       "}\n",
       "\n",
       "#sk-container-id-2 div.sk-text-repr-fallback {\n",
       "  display: none;\n",
       "}\n",
       "\n",
       "div.sk-parallel-item,\n",
       "div.sk-serial,\n",
       "div.sk-item {\n",
       "  /* draw centered vertical line to link estimators */\n",
       "  background-image: linear-gradient(var(--sklearn-color-text-on-default-background), var(--sklearn-color-text-on-default-background));\n",
       "  background-size: 2px 100%;\n",
       "  background-repeat: no-repeat;\n",
       "  background-position: center center;\n",
       "}\n",
       "\n",
       "/* Parallel-specific style estimator block */\n",
       "\n",
       "#sk-container-id-2 div.sk-parallel-item::after {\n",
       "  content: \"\";\n",
       "  width: 100%;\n",
       "  border-bottom: 2px solid var(--sklearn-color-text-on-default-background);\n",
       "  flex-grow: 1;\n",
       "}\n",
       "\n",
       "#sk-container-id-2 div.sk-parallel {\n",
       "  display: flex;\n",
       "  align-items: stretch;\n",
       "  justify-content: center;\n",
       "  background-color: var(--sklearn-color-background);\n",
       "  position: relative;\n",
       "}\n",
       "\n",
       "#sk-container-id-2 div.sk-parallel-item {\n",
       "  display: flex;\n",
       "  flex-direction: column;\n",
       "}\n",
       "\n",
       "#sk-container-id-2 div.sk-parallel-item:first-child::after {\n",
       "  align-self: flex-end;\n",
       "  width: 50%;\n",
       "}\n",
       "\n",
       "#sk-container-id-2 div.sk-parallel-item:last-child::after {\n",
       "  align-self: flex-start;\n",
       "  width: 50%;\n",
       "}\n",
       "\n",
       "#sk-container-id-2 div.sk-parallel-item:only-child::after {\n",
       "  width: 0;\n",
       "}\n",
       "\n",
       "/* Serial-specific style estimator block */\n",
       "\n",
       "#sk-container-id-2 div.sk-serial {\n",
       "  display: flex;\n",
       "  flex-direction: column;\n",
       "  align-items: center;\n",
       "  background-color: var(--sklearn-color-background);\n",
       "  padding-right: 1em;\n",
       "  padding-left: 1em;\n",
       "}\n",
       "\n",
       "\n",
       "/* Toggleable style: style used for estimator/Pipeline/ColumnTransformer box that is\n",
       "clickable and can be expanded/collapsed.\n",
       "- Pipeline and ColumnTransformer use this feature and define the default style\n",
       "- Estimators will overwrite some part of the style using the `sk-estimator` class\n",
       "*/\n",
       "\n",
       "/* Pipeline and ColumnTransformer style (default) */\n",
       "\n",
       "#sk-container-id-2 div.sk-toggleable {\n",
       "  /* Default theme specific background. It is overwritten whether we have a\n",
       "  specific estimator or a Pipeline/ColumnTransformer */\n",
       "  background-color: var(--sklearn-color-background);\n",
       "}\n",
       "\n",
       "/* Toggleable label */\n",
       "#sk-container-id-2 label.sk-toggleable__label {\n",
       "  cursor: pointer;\n",
       "  display: flex;\n",
       "  width: 100%;\n",
       "  margin-bottom: 0;\n",
       "  padding: 0.5em;\n",
       "  box-sizing: border-box;\n",
       "  text-align: center;\n",
       "  align-items: start;\n",
       "  justify-content: space-between;\n",
       "  gap: 0.5em;\n",
       "}\n",
       "\n",
       "#sk-container-id-2 label.sk-toggleable__label .caption {\n",
       "  font-size: 0.6rem;\n",
       "  font-weight: lighter;\n",
       "  color: var(--sklearn-color-text-muted);\n",
       "}\n",
       "\n",
       "#sk-container-id-2 label.sk-toggleable__label-arrow:before {\n",
       "  /* Arrow on the left of the label */\n",
       "  content: \"▸\";\n",
       "  float: left;\n",
       "  margin-right: 0.25em;\n",
       "  color: var(--sklearn-color-icon);\n",
       "}\n",
       "\n",
       "#sk-container-id-2 label.sk-toggleable__label-arrow:hover:before {\n",
       "  color: var(--sklearn-color-text);\n",
       "}\n",
       "\n",
       "/* Toggleable content - dropdown */\n",
       "\n",
       "#sk-container-id-2 div.sk-toggleable__content {\n",
       "  max-height: 0;\n",
       "  max-width: 0;\n",
       "  overflow: hidden;\n",
       "  text-align: left;\n",
       "  /* unfitted */\n",
       "  background-color: var(--sklearn-color-unfitted-level-0);\n",
       "}\n",
       "\n",
       "#sk-container-id-2 div.sk-toggleable__content.fitted {\n",
       "  /* fitted */\n",
       "  background-color: var(--sklearn-color-fitted-level-0);\n",
       "}\n",
       "\n",
       "#sk-container-id-2 div.sk-toggleable__content pre {\n",
       "  margin: 0.2em;\n",
       "  border-radius: 0.25em;\n",
       "  color: var(--sklearn-color-text);\n",
       "  /* unfitted */\n",
       "  background-color: var(--sklearn-color-unfitted-level-0);\n",
       "}\n",
       "\n",
       "#sk-container-id-2 div.sk-toggleable__content.fitted pre {\n",
       "  /* unfitted */\n",
       "  background-color: var(--sklearn-color-fitted-level-0);\n",
       "}\n",
       "\n",
       "#sk-container-id-2 input.sk-toggleable__control:checked~div.sk-toggleable__content {\n",
       "  /* Expand drop-down */\n",
       "  max-height: 200px;\n",
       "  max-width: 100%;\n",
       "  overflow: auto;\n",
       "}\n",
       "\n",
       "#sk-container-id-2 input.sk-toggleable__control:checked~label.sk-toggleable__label-arrow:before {\n",
       "  content: \"▾\";\n",
       "}\n",
       "\n",
       "/* Pipeline/ColumnTransformer-specific style */\n",
       "\n",
       "#sk-container-id-2 div.sk-label input.sk-toggleable__control:checked~label.sk-toggleable__label {\n",
       "  color: var(--sklearn-color-text);\n",
       "  background-color: var(--sklearn-color-unfitted-level-2);\n",
       "}\n",
       "\n",
       "#sk-container-id-2 div.sk-label.fitted input.sk-toggleable__control:checked~label.sk-toggleable__label {\n",
       "  background-color: var(--sklearn-color-fitted-level-2);\n",
       "}\n",
       "\n",
       "/* Estimator-specific style */\n",
       "\n",
       "/* Colorize estimator box */\n",
       "#sk-container-id-2 div.sk-estimator input.sk-toggleable__control:checked~label.sk-toggleable__label {\n",
       "  /* unfitted */\n",
       "  background-color: var(--sklearn-color-unfitted-level-2);\n",
       "}\n",
       "\n",
       "#sk-container-id-2 div.sk-estimator.fitted input.sk-toggleable__control:checked~label.sk-toggleable__label {\n",
       "  /* fitted */\n",
       "  background-color: var(--sklearn-color-fitted-level-2);\n",
       "}\n",
       "\n",
       "#sk-container-id-2 div.sk-label label.sk-toggleable__label,\n",
       "#sk-container-id-2 div.sk-label label {\n",
       "  /* The background is the default theme color */\n",
       "  color: var(--sklearn-color-text-on-default-background);\n",
       "}\n",
       "\n",
       "/* On hover, darken the color of the background */\n",
       "#sk-container-id-2 div.sk-label:hover label.sk-toggleable__label {\n",
       "  color: var(--sklearn-color-text);\n",
       "  background-color: var(--sklearn-color-unfitted-level-2);\n",
       "}\n",
       "\n",
       "/* Label box, darken color on hover, fitted */\n",
       "#sk-container-id-2 div.sk-label.fitted:hover label.sk-toggleable__label.fitted {\n",
       "  color: var(--sklearn-color-text);\n",
       "  background-color: var(--sklearn-color-fitted-level-2);\n",
       "}\n",
       "\n",
       "/* Estimator label */\n",
       "\n",
       "#sk-container-id-2 div.sk-label label {\n",
       "  font-family: monospace;\n",
       "  font-weight: bold;\n",
       "  display: inline-block;\n",
       "  line-height: 1.2em;\n",
       "}\n",
       "\n",
       "#sk-container-id-2 div.sk-label-container {\n",
       "  text-align: center;\n",
       "}\n",
       "\n",
       "/* Estimator-specific */\n",
       "#sk-container-id-2 div.sk-estimator {\n",
       "  font-family: monospace;\n",
       "  border: 1px dotted var(--sklearn-color-border-box);\n",
       "  border-radius: 0.25em;\n",
       "  box-sizing: border-box;\n",
       "  margin-bottom: 0.5em;\n",
       "  /* unfitted */\n",
       "  background-color: var(--sklearn-color-unfitted-level-0);\n",
       "}\n",
       "\n",
       "#sk-container-id-2 div.sk-estimator.fitted {\n",
       "  /* fitted */\n",
       "  background-color: var(--sklearn-color-fitted-level-0);\n",
       "}\n",
       "\n",
       "/* on hover */\n",
       "#sk-container-id-2 div.sk-estimator:hover {\n",
       "  /* unfitted */\n",
       "  background-color: var(--sklearn-color-unfitted-level-2);\n",
       "}\n",
       "\n",
       "#sk-container-id-2 div.sk-estimator.fitted:hover {\n",
       "  /* fitted */\n",
       "  background-color: var(--sklearn-color-fitted-level-2);\n",
       "}\n",
       "\n",
       "/* Specification for estimator info (e.g. \"i\" and \"?\") */\n",
       "\n",
       "/* Common style for \"i\" and \"?\" */\n",
       "\n",
       ".sk-estimator-doc-link,\n",
       "a:link.sk-estimator-doc-link,\n",
       "a:visited.sk-estimator-doc-link {\n",
       "  float: right;\n",
       "  font-size: smaller;\n",
       "  line-height: 1em;\n",
       "  font-family: monospace;\n",
       "  background-color: var(--sklearn-color-background);\n",
       "  border-radius: 1em;\n",
       "  height: 1em;\n",
       "  width: 1em;\n",
       "  text-decoration: none !important;\n",
       "  margin-left: 0.5em;\n",
       "  text-align: center;\n",
       "  /* unfitted */\n",
       "  border: var(--sklearn-color-unfitted-level-1) 1pt solid;\n",
       "  color: var(--sklearn-color-unfitted-level-1);\n",
       "}\n",
       "\n",
       ".sk-estimator-doc-link.fitted,\n",
       "a:link.sk-estimator-doc-link.fitted,\n",
       "a:visited.sk-estimator-doc-link.fitted {\n",
       "  /* fitted */\n",
       "  border: var(--sklearn-color-fitted-level-1) 1pt solid;\n",
       "  color: var(--sklearn-color-fitted-level-1);\n",
       "}\n",
       "\n",
       "/* On hover */\n",
       "div.sk-estimator:hover .sk-estimator-doc-link:hover,\n",
       ".sk-estimator-doc-link:hover,\n",
       "div.sk-label-container:hover .sk-estimator-doc-link:hover,\n",
       ".sk-estimator-doc-link:hover {\n",
       "  /* unfitted */\n",
       "  background-color: var(--sklearn-color-unfitted-level-3);\n",
       "  color: var(--sklearn-color-background);\n",
       "  text-decoration: none;\n",
       "}\n",
       "\n",
       "div.sk-estimator.fitted:hover .sk-estimator-doc-link.fitted:hover,\n",
       ".sk-estimator-doc-link.fitted:hover,\n",
       "div.sk-label-container:hover .sk-estimator-doc-link.fitted:hover,\n",
       ".sk-estimator-doc-link.fitted:hover {\n",
       "  /* fitted */\n",
       "  background-color: var(--sklearn-color-fitted-level-3);\n",
       "  color: var(--sklearn-color-background);\n",
       "  text-decoration: none;\n",
       "}\n",
       "\n",
       "/* Span, style for the box shown on hovering the info icon */\n",
       ".sk-estimator-doc-link span {\n",
       "  display: none;\n",
       "  z-index: 9999;\n",
       "  position: relative;\n",
       "  font-weight: normal;\n",
       "  right: .2ex;\n",
       "  padding: .5ex;\n",
       "  margin: .5ex;\n",
       "  width: min-content;\n",
       "  min-width: 20ex;\n",
       "  max-width: 50ex;\n",
       "  color: var(--sklearn-color-text);\n",
       "  box-shadow: 2pt 2pt 4pt #999;\n",
       "  /* unfitted */\n",
       "  background: var(--sklearn-color-unfitted-level-0);\n",
       "  border: .5pt solid var(--sklearn-color-unfitted-level-3);\n",
       "}\n",
       "\n",
       ".sk-estimator-doc-link.fitted span {\n",
       "  /* fitted */\n",
       "  background: var(--sklearn-color-fitted-level-0);\n",
       "  border: var(--sklearn-color-fitted-level-3);\n",
       "}\n",
       "\n",
       ".sk-estimator-doc-link:hover span {\n",
       "  display: block;\n",
       "}\n",
       "\n",
       "/* \"?\"-specific style due to the `<a>` HTML tag */\n",
       "\n",
       "#sk-container-id-2 a.estimator_doc_link {\n",
       "  float: right;\n",
       "  font-size: 1rem;\n",
       "  line-height: 1em;\n",
       "  font-family: monospace;\n",
       "  background-color: var(--sklearn-color-background);\n",
       "  border-radius: 1rem;\n",
       "  height: 1rem;\n",
       "  width: 1rem;\n",
       "  text-decoration: none;\n",
       "  /* unfitted */\n",
       "  color: var(--sklearn-color-unfitted-level-1);\n",
       "  border: var(--sklearn-color-unfitted-level-1) 1pt solid;\n",
       "}\n",
       "\n",
       "#sk-container-id-2 a.estimator_doc_link.fitted {\n",
       "  /* fitted */\n",
       "  border: var(--sklearn-color-fitted-level-1) 1pt solid;\n",
       "  color: var(--sklearn-color-fitted-level-1);\n",
       "}\n",
       "\n",
       "/* On hover */\n",
       "#sk-container-id-2 a.estimator_doc_link:hover {\n",
       "  /* unfitted */\n",
       "  background-color: var(--sklearn-color-unfitted-level-3);\n",
       "  color: var(--sklearn-color-background);\n",
       "  text-decoration: none;\n",
       "}\n",
       "\n",
       "#sk-container-id-2 a.estimator_doc_link.fitted:hover {\n",
       "  /* fitted */\n",
       "  background-color: var(--sklearn-color-fitted-level-3);\n",
       "}\n",
       "</style><div id=\"sk-container-id-2\" class=\"sk-top-container\"><div class=\"sk-text-repr-fallback\"><pre>LogisticRegression(class_weight=&#x27;balanced&#x27;)</pre><b>In a Jupyter environment, please rerun this cell to show the HTML representation or trust the notebook. <br />On GitHub, the HTML representation is unable to render, please try loading this page with nbviewer.org.</b></div><div class=\"sk-container\" hidden><div class=\"sk-item\"><div class=\"sk-estimator fitted sk-toggleable\"><input class=\"sk-toggleable__control sk-hidden--visually\" id=\"sk-estimator-id-2\" type=\"checkbox\" checked><label for=\"sk-estimator-id-2\" class=\"sk-toggleable__label fitted sk-toggleable__label-arrow\"><div><div>LogisticRegression</div></div><div><a class=\"sk-estimator-doc-link fitted\" rel=\"noreferrer\" target=\"_blank\" href=\"https://scikit-learn.org/1.6/modules/generated/sklearn.linear_model.LogisticRegression.html\">?<span>Documentation for LogisticRegression</span></a><span class=\"sk-estimator-doc-link fitted\">i<span>Fitted</span></span></div></label><div class=\"sk-toggleable__content fitted\"><pre>LogisticRegression(class_weight=&#x27;balanced&#x27;)</pre></div> </div></div></div></div>"
      ],
      "text/plain": [
       "LogisticRegression(class_weight='balanced')"
      ]
     },
     "execution_count": 37,
     "metadata": {},
     "output_type": "execute_result"
    }
   ],
   "source": [
    "rf_model = RandomForestClassifier(n_estimators=100, class_weight=\"balanced\", random_state=42)\n",
    "rf_model.fit(X_train, y_train)\n",
    "log_reg = LogisticRegression(class_weight=\"balanced\")\n",
    "log_reg.fit(X_train, y_train)"
   ]
  },
  {
   "cell_type": "code",
   "execution_count": 38,
   "id": "94d849ad",
   "metadata": {
    "execution": {
     "iopub.execute_input": "2025-03-08T17:36:15.031654Z",
     "iopub.status.busy": "2025-03-08T17:36:15.031239Z",
     "iopub.status.idle": "2025-03-08T17:36:16.043806Z",
     "shell.execute_reply": "2025-03-08T17:36:16.042473Z"
    },
    "papermill": {
     "duration": 1.024683,
     "end_time": "2025-03-08T17:36:16.045812",
     "exception": false,
     "start_time": "2025-03-08T17:36:15.021129",
     "status": "completed"
    },
    "tags": []
   },
   "outputs": [
    {
     "data": {
      "text/plain": [
       "<Axes: title={'center': 'Feature Importance'}>"
      ]
     },
     "execution_count": 38,
     "metadata": {},
     "output_type": "execute_result"
    },
    {
     "data": {
      "image/png": "[encoded data removed]",
      "text/plain": [
       "<Figure size 800x400 with 1 Axes>"
      ]
     },
     "metadata": {},
     "output_type": "display_data"
    }
   ],
   "source": [
    "# train Random Forest to check feature importance\n",
    "rf_model.fit(X_train, y_train)\n",
    "\n",
    "# get feature importance\n",
    "feature_importance = pd.Series(rf_model.feature_importances_, index=X_train.columns)\n",
    "feature_importance.sort_values(ascending=False).plot(kind=\"bar\", figsize=(8,4), title=\"Feature Importance\")"
   ]
  },
  {
   "cell_type": "code",
   "execution_count": 39,
   "id": "7a0a095c",
   "metadata": {
    "execution": {
     "iopub.execute_input": "2025-03-08T17:36:16.068544Z",
     "iopub.status.busy": "2025-03-08T17:36:16.068122Z",
     "iopub.status.idle": "2025-03-08T17:36:22.960906Z",
     "shell.execute_reply": "2025-03-08T17:36:22.959524Z"
    },
    "papermill": {
     "duration": 6.906122,
     "end_time": "2025-03-08T17:36:22.962969",
     "exception": false,
     "start_time": "2025-03-08T17:36:16.056847",
     "status": "completed"
    },
    "tags": []
   },
   "outputs": [
    {
     "name": "stdout",
     "output_type": "stream",
     "text": [
      "Logistic Regression - Precision: 0.9695, Recall: 0.9007, F1-score: 0.9331\n",
      "Random Forest - Precision: 0.9679, Recall: 0.9790, F1-score: 0.9734\n",
      "Decision Tree - Precision: 0.9702, Recall: 0.9613, F1-score: 0.9656\n",
      "SVM - Precision: 0.9689, Recall: 0.9605, F1-score: 0.9646\n",
      "\n",
      "Best Model: Random Forest based on F1-score\n"
     ]
    }
   ],
   "source": [
    "# define models with class weights\n",
    "models = {\n",
    "    \"Logistic Regression\": LogisticRegression(class_weight=\"balanced\"),\n",
    "    \"Random Forest\": RandomForestClassifier(n_estimators=100, class_weight=\"balanced\", random_state=42),\n",
    "    \"Decision Tree\": DecisionTreeClassifier(class_weight=\"balanced\", random_state=42),\n",
    "    \"SVM\": SVC(class_weight=\"balanced\")\n",
    "}\n",
    "\n",
    "# store evaluation metrics\n",
    "model_scores = {}\n",
    "\n",
    "# Train & Evaluate each model\n",
    "for name, model in models.items():\n",
    "    model.fit(X_train_balanced, y_train_balanced)  # train model\n",
    "    y_pred = model.predict(X_test)  # predict\n",
    "\n",
    "    # calculate weighted Precision, Recall, and F1-score\n",
    "    precision = precision_score(y_test, y_pred, average=\"weighted\")\n",
    "    recall = recall_score(y_test, y_pred, average=\"weighted\")\n",
    "    f1 = f1_score(y_test, y_pred, average=\"weighted\")\n",
    "\n",
    "    model_scores[name] = {\"Precision\": precision, \"Recall\": recall, \"F1-score\": f1}\n",
    "    print(f\"{name} - Precision: {precision:.4f}, Recall: {recall:.4f}, F1-score: {f1:.4f}\")\n",
    "\n",
    "# identify the best model based on F1-score\n",
    "best_model_name = max(model_scores, key=lambda x: model_scores[x][\"F1-score\"])\n",
    "print(f\"\\nBest Model: {best_model_name} based on F1-score\")\n"
   ]
  },
  {
   "cell_type": "markdown",
   "id": "828227d8",
   "metadata": {
    "papermill": {
     "duration": 0.00958,
     "end_time": "2025-03-08T17:36:22.982535",
     "exception": false,
     "start_time": "2025-03-08T17:36:22.972955",
     "status": "completed"
    },
    "tags": []
   },
   "source": [
    "# Hyperparameter Tuning"
   ]
  },
  {
   "cell_type": "code",
   "execution_count": 40,
   "id": "e710a7a1",
   "metadata": {
    "execution": {
     "iopub.execute_input": "2025-03-08T17:36:23.005681Z",
     "iopub.status.busy": "2025-03-08T17:36:23.005219Z",
     "iopub.status.idle": "2025-03-08T17:38:13.748149Z",
     "shell.execute_reply": "2025-03-08T17:38:13.745999Z"
    },
    "papermill": {
     "duration": 110.767265,
     "end_time": "2025-03-08T17:38:13.759791",
     "exception": false,
     "start_time": "2025-03-08T17:36:22.992526",
     "status": "completed"
    },
    "tags": []
   },
   "outputs": [
    {
     "name": "stdout",
     "output_type": "stream",
     "text": [
      "Best Hyperparameters: {'max_depth': None, 'min_samples_leaf': 1, 'min_samples_split': 5, 'n_estimators': 200}\n"
     ]
    }
   ],
   "source": [
    "from sklearn.model_selection import GridSearchCV\n",
    "\n",
    "# define hyperparameter grid\n",
    "param_grid = {\n",
    "    \"n_estimators\": [50, 100, 200],  # number of trees\n",
    "    \"max_depth\": [10, 20, None],  # tree depth\n",
    "    \"min_samples_split\": [2, 5, 10],  # minimum samples to split\n",
    "    \"min_samples_leaf\": [1, 2, 4],  # minimum samples per leaf\n",
    "}\n",
    "\n",
    "# initialize Grid Search\n",
    "grid_search = GridSearchCV(RandomForestClassifier(class_weight=\"balanced\", random_state=42),\n",
    "                           param_grid, cv=3, scoring=\"f1_weighted\", n_jobs=-1)\n",
    "\n",
    "# train on balanced dataset\n",
    "grid_search.fit(X_train_balanced, y_train_balanced)\n",
    "\n",
    "# best parameters\n",
    "print(\"Best Hyperparameters:\", grid_search.best_params_)"
   ]
  },
  {
   "cell_type": "code",
   "execution_count": 41,
   "id": "1f4c4cf6",
   "metadata": {
    "execution": {
     "iopub.execute_input": "2025-03-08T17:38:13.781774Z",
     "iopub.status.busy": "2025-03-08T17:38:13.781392Z",
     "iopub.status.idle": "2025-03-08T17:38:16.843142Z",
     "shell.execute_reply": "2025-03-08T17:38:16.841563Z"
    },
    "papermill": {
     "duration": 3.074992,
     "end_time": "2025-03-08T17:38:16.845168",
     "exception": false,
     "start_time": "2025-03-08T17:38:13.770176",
     "status": "completed"
    },
    "tags": []
   },
   "outputs": [
    {
     "name": "stdout",
     "output_type": "stream",
     "text": [
      "Final Model Performance:\n",
      "\n",
      "              precision    recall  f1-score   support\n",
      "\n",
      "           0       0.98      1.00      0.99      1219\n",
      "           1       0.00      0.00      0.00        20\n",
      "\n",
      "    accuracy                           0.98      1239\n",
      "   macro avg       0.49      0.50      0.49      1239\n",
      "weighted avg       0.97      0.98      0.97      1239\n",
      "\n"
     ]
    }
   ],
   "source": [
    "# Train Random Forest with best hyperparameters\n",
    "final_rf_model = RandomForestClassifier(\n",
    "    max_depth=None,\n",
    "    min_samples_leaf=1,\n",
    "    min_samples_split=2,\n",
    "    n_estimators=100,\n",
    "    class_weight=\"balanced\",\n",
    "    random_state=42\n",
    ")\n",
    "\n",
    "# train final model on balanced dataset\n",
    "final_rf_model.fit(X_train_balanced, y_train_balanced)\n",
    "\n",
    "# make predictions on test data\n",
    "y_pred_final = final_rf_model.predict(X_test)\n",
    "\n",
    "# evaluate final model\n",
    "print(\"Final Model Performance:\\n\")\n",
    "print(classification_report(y_test, y_pred_final))"
   ]
  },
  {
   "cell_type": "markdown",
   "id": "51b0571f",
   "metadata": {
    "papermill": {
     "duration": 0.009455,
     "end_time": "2025-03-08T17:38:16.864792",
     "exception": false,
     "start_time": "2025-03-08T17:38:16.855337",
     "status": "completed"
    },
    "tags": []
   },
   "source": [
    "# Deploying"
   ]
  },
  {
   "cell_type": "code",
   "execution_count": 42,
   "id": "eebb3b34",
   "metadata": {
    "execution": {
     "iopub.execute_input": "2025-03-08T17:38:16.888616Z",
     "iopub.status.busy": "2025-03-08T17:38:16.887975Z",
     "iopub.status.idle": "2025-03-08T17:38:17.073956Z",
     "shell.execute_reply": "2025-03-08T17:38:17.072691Z"
    },
    "papermill": {
     "duration": 0.199063,
     "end_time": "2025-03-08T17:38:17.075811",
     "exception": false,
     "start_time": "2025-03-08T17:38:16.876748",
     "status": "completed"
    },
    "tags": []
   },
   "outputs": [
    {
     "name": "stdout",
     "output_type": "stream",
     "text": [
      "✅ Model saved as final_admission_model.pkl\n"
     ]
    }
   ],
   "source": [
    "import joblib\n",
    "\n",
    "# save trained model\n",
    "joblib.dump(final_rf_model, \"final_admission_model.pkl\")\n",
    "\n",
    "print(\"✅ Model saved as final_admission_model.pkl\")"
   ]
  },
  {
   "cell_type": "code",
   "execution_count": 43,
   "id": "c905f37c",
   "metadata": {},
   "outputs": [
    {
     "name": "stdout",
     "output_type": "stream",
     "text": [
      "Prediction for custom input: [0]\n"
     ]
    }
   ],
   "source": [
    "# load the saved model\n",
    "loaded_model = joblib.load(\"final_admission_model.pkl\")\n",
    "\n",
    "# example: Custom input for prediction\n",
    "custom_input = pd.DataFrame([{\n",
    "    \"international\": True,\n",
    "    \"gpa\": 0.5,\n",
    "    \"gmat\": 1.0,\n",
    "    \"work_exp\": 0.0,\n",
    "    \"gender_Male\": True,\n",
    "    \"major_Humanities\": False,\n",
    "    \"major_STEM\": True,\n",
    "    \"race_Black\": False,\n",
    "    \"race_Hispanic\": False,\n",
    "    \"race_Other\": False,\n",
    "    \"race_Unknown\": False,\n",
    "    \"race_White\": True,\n",
    "    \"work_industry_Consulting\": False,\n",
    "    \"work_industry_Energy\": False,\n",
    "    \"work_industry_Financial Services\": False,\n",
    "    \"work_industry_Health Care\": False,\n",
    "    \"work_industry_Investment Banking\": False,\n",
    "    \"work_industry_Investment Management\": False,\n",
    "    \"work_industry_Media/Entertainment\": False,\n",
    "    \"work_industry_Nonprofit/Gov\": False,\n",
    "    \"work_industry_Other\": False,\n",
    "    \"work_industry_PE/VC\": False,\n",
    "    \"work_industry_Real Estate\": False,\n",
    "    \"work_industry_Retail\": False,\n",
    "    \"work_industry_Technology\": True\n",
    "}])\n",
    "\n",
    "custom_prediction = loaded_model.predict(custom_input)\n",
    "print(\"Prediction for custom input:\", custom_prediction)"
   ]
  }
 ],
 "metadata": {
  "kaggle": {
   "accelerator": "none",
   "dataSources": [
    {
     "datasetId": 5719862,
     "sourceId": 9425404,
     "sourceType": "datasetVersion"
    }
   ],
   "dockerImageVersionId": 30918,
   "isGpuEnabled": false,
   "isInternetEnabled": true,
   "language": "python",
   "sourceType": "notebook"
  },
  "kernelspec": {
   "display_name": "Python 3",
   "language": "python",
   "name": "python3"
  },
  "language_info": {
   "codemirror_mode": {
    "name": "ipython",
    "version": 3
   },
   "file_extension": ".py",
   "mimetype": "text/x-python",
   "name": "python",
   "nbconvert_exporter": "python",
   "pygments_lexer": "ipython3",
   "version": "3.10.12"
  },
  "papermill": {
   "default_parameters": {},
   "duration": 132.669734,
   "end_time": "2025-03-08T17:38:18.010190",
   "environment_variables": {},
   "exception": null,
   "input_path": "__notebook__.ipynb",
   "output_path": "__notebook__.ipynb",
   "parameters": {},
   "start_time": "2025-03-08T17:36:05.340456",
   "version": "2.6.0"
  }
 },
 "nbformat": 4,
 "nbformat_minor": 5
}
