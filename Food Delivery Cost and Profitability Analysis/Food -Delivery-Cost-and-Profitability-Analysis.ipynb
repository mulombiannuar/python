{
 "cells": [
  {
   "cell_type": "markdown",
   "metadata": {},
   "source": [
    "# Food Delivery Cost and Profitability Analysis\n",
    "\n",
    "---\n",
    "\n",
    "### **Food Delivery Cost and Profitability Analysis**\n",
    "\n",
    "In this task, we will analyze the food delivery operations by examining all associated costs and the profitability per order. This includes reviewing direct expenses such as delivery fees, packaging, and commission fees, as well as indirect expenses like discounts and refunds. We will then juxtapose these costs against the revenue generated through order values and commission fees.\n",
    "\n",
    "Below are the steps to follow for this analysis:\n",
    "\n",
    "1. **Data Collection**: Gather data related to food delivery operations from the provided link:  \n",
    "   [Dataset Link](https://statso.io/wp-content/uploads/2024/02/food_orders_new_delhi.csv)\n",
    "\n",
    "2. **Data Cleaning**: Clean the dataset for inconsistencies, missing values, or irrelevant information. (5 Marks)\n",
    "\n",
    "3. **Most Common Payment Method**:\n",
    "   - Find the most common payment method.\n",
    "   - What is the proportion of the most common payment method?\n",
    "\n",
    "4. **95% Confidence Interval**:  \n",
    "   - Calculate the 95% confidence interval for the proportion of the most common payment method. (Note: The delivery method has been replaced with the payment method.)\n",
    "\n",
    "5. **Commission Fee**:\n",
    "   - Determine the average and the median commission fee. (1 Mark)\n",
    "\n",
    "6. **Order Value**:\n",
    "   - Find the average order value of the customer. (1 Mark)\n",
    "\n",
    "7. **Probability of Commission Fee**:\n",
    "   - i) Probability that the commission fee is more than 120. (2 Marks)\n",
    "   - ii) Probability that the commission fee is less than 143. (2 Marks)\n",
    "   - iii) Probability that the commission fee is between 86 and 133. (2 Marks)\n",
    "\n",
    "8. **Delivery Time for Credit Card Orders**:\n",
    "   - Find the average delivery time for orders paid by credit card. (2 Marks)\n",
    "\n",
    "9. **Cash on Delivery**:\n",
    "   - What is the lowest order value of the top 10% largest orders done by Cash on Delivery? (3 Marks)\n",
    "\n",
    "10. **Digital Wallet**:\n",
    "   - What is the highest order value of the bottom 60% least orders done by Digital Wallet? (3 Marks)\n",
    "\n",
    "11. **Comparison of Mean Values**:\n",
    "   - By what amount is the mean value of Digital Wallet more or less than that of Cash on Delivery? (3 Marks)\n",
    "\n",
    "12. **Significance Test on Delivery Time**:\n",
    "   - The delivery time for any item will take more than 53 minutes. Using a significance level of 0.05, prove or disapprove this claim. (3 Marks)\n",
    "\n",
    "13. **Delivery Duration Range**:\n",
    "   - What is the range within which the middle 50% of ordering-delivery durations differ? (3 Marks)\n",
    "\n",
    "14. **Refunds/Chargebacks Distribution**:\n",
    "   - Find the distribution of various payment methods whose Refunds/Chargebacks is more than zero. (3 Marks)\n",
    "\n",
    "---\n",
    "\n"
   ]
  },
  {
   "cell_type": "markdown",
   "metadata": {},
   "source": [
    "#### **Step 1: Load the Data**\n",
    "\n",
    "First, we will import the necessary libraries then load the dataset via the url provided"
   ]
  },
  {
   "cell_type": "code",
   "execution_count": 3,
   "metadata": {},
   "outputs": [],
   "source": [
    "# import necessary libaries\n",
    "import pandas as pd # For handling datasets\n",
    "import numpy as np # For numerical operations\n",
    "import matplotlib.pyplot as plt # For data visualization\n",
    "import seaborn as sns #for statistical data visualization\n",
    "from scipy import stats #for statistical analysis\n",
    "import matplotlib.pyplot as plt"
   ]
  },
  {
   "cell_type": "code",
   "execution_count": 4,
   "metadata": {},
   "outputs": [],
   "source": [
    "# load the dataset\n",
    "url = \"https://statso.io/wp-content/uploads/2024/02/food_orders_new_delhi.csv\"\n",
    "df = pd.read_csv(url)"
   ]
  },
  {
   "cell_type": "code",
   "execution_count": 5,
   "metadata": {},
   "outputs": [
    {
     "data": {
      "text/html": [
       "<div>\n",
       "<style scoped>\n",
       "    .dataframe tbody tr th:only-of-type {\n",
       "        vertical-align: middle;\n",
       "    }\n",
       "\n",
       "    .dataframe tbody tr th {\n",
       "        vertical-align: top;\n",
       "    }\n",
       "\n",
       "    .dataframe thead th {\n",
       "        text-align: right;\n",
       "    }\n",
       "</style>\n",
       "<table border=\"1\" class=\"dataframe\">\n",
       "  <thead>\n",
       "    <tr style=\"text-align: right;\">\n",
       "      <th></th>\n",
       "      <th>Order ID</th>\n",
       "      <th>Customer ID</th>\n",
       "      <th>Restaurant ID</th>\n",
       "      <th>Order Date and Time</th>\n",
       "      <th>Delivery Date and Time</th>\n",
       "      <th>Order Value</th>\n",
       "      <th>Delivery Fee</th>\n",
       "      <th>Payment Method</th>\n",
       "      <th>Discounts and Offers</th>\n",
       "      <th>Commission Fee</th>\n",
       "      <th>Payment Processing Fee</th>\n",
       "      <th>Refunds/Chargebacks</th>\n",
       "    </tr>\n",
       "  </thead>\n",
       "  <tbody>\n",
       "    <tr>\n",
       "      <th>0</th>\n",
       "      <td>1</td>\n",
       "      <td>C8270</td>\n",
       "      <td>R2924</td>\n",
       "      <td>2024-02-01 01:11:52</td>\n",
       "      <td>2024-02-01 02:39:52</td>\n",
       "      <td>1914</td>\n",
       "      <td>0</td>\n",
       "      <td>Credit Card</td>\n",
       "      <td>5% on App</td>\n",
       "      <td>150</td>\n",
       "      <td>47</td>\n",
       "      <td>0</td>\n",
       "    </tr>\n",
       "    <tr>\n",
       "      <th>1</th>\n",
       "      <td>2</td>\n",
       "      <td>C1860</td>\n",
       "      <td>R2054</td>\n",
       "      <td>2024-02-02 22:11:04</td>\n",
       "      <td>2024-02-02 22:46:04</td>\n",
       "      <td>986</td>\n",
       "      <td>40</td>\n",
       "      <td>Digital Wallet</td>\n",
       "      <td>10%</td>\n",
       "      <td>198</td>\n",
       "      <td>23</td>\n",
       "      <td>0</td>\n",
       "    </tr>\n",
       "    <tr>\n",
       "      <th>2</th>\n",
       "      <td>3</td>\n",
       "      <td>C6390</td>\n",
       "      <td>R2870</td>\n",
       "      <td>2024-01-31 05:54:35</td>\n",
       "      <td>2024-01-31 06:52:35</td>\n",
       "      <td>937</td>\n",
       "      <td>30</td>\n",
       "      <td>Cash on Delivery</td>\n",
       "      <td>15% New User</td>\n",
       "      <td>195</td>\n",
       "      <td>45</td>\n",
       "      <td>0</td>\n",
       "    </tr>\n",
       "    <tr>\n",
       "      <th>3</th>\n",
       "      <td>4</td>\n",
       "      <td>C6191</td>\n",
       "      <td>R2642</td>\n",
       "      <td>2024-01-16 22:52:49</td>\n",
       "      <td>2024-01-16 23:38:49</td>\n",
       "      <td>1463</td>\n",
       "      <td>50</td>\n",
       "      <td>Cash on Delivery</td>\n",
       "      <td>NaN</td>\n",
       "      <td>146</td>\n",
       "      <td>27</td>\n",
       "      <td>0</td>\n",
       "    </tr>\n",
       "    <tr>\n",
       "      <th>4</th>\n",
       "      <td>5</td>\n",
       "      <td>C6734</td>\n",
       "      <td>R2799</td>\n",
       "      <td>2024-01-29 01:19:30</td>\n",
       "      <td>2024-01-29 02:48:30</td>\n",
       "      <td>1992</td>\n",
       "      <td>30</td>\n",
       "      <td>Cash on Delivery</td>\n",
       "      <td>50 off Promo</td>\n",
       "      <td>130</td>\n",
       "      <td>50</td>\n",
       "      <td>0</td>\n",
       "    </tr>\n",
       "  </tbody>\n",
       "</table>\n",
       "</div>"
      ],
      "text/plain": [
       "   Order ID Customer ID Restaurant ID  Order Date and Time  \\\n",
       "0         1       C8270         R2924  2024-02-01 01:11:52   \n",
       "1         2       C1860         R2054  2024-02-02 22:11:04   \n",
       "2         3       C6390         R2870  2024-01-31 05:54:35   \n",
       "3         4       C6191         R2642  2024-01-16 22:52:49   \n",
       "4         5       C6734         R2799  2024-01-29 01:19:30   \n",
       "\n",
       "  Delivery Date and Time  Order Value  Delivery Fee    Payment Method  \\\n",
       "0    2024-02-01 02:39:52         1914             0       Credit Card   \n",
       "1    2024-02-02 22:46:04          986            40    Digital Wallet   \n",
       "2    2024-01-31 06:52:35          937            30  Cash on Delivery   \n",
       "3    2024-01-16 23:38:49         1463            50  Cash on Delivery   \n",
       "4    2024-01-29 02:48:30         1992            30  Cash on Delivery   \n",
       "\n",
       "  Discounts and Offers  Commission Fee  Payment Processing Fee  \\\n",
       "0            5% on App             150                      47   \n",
       "1                  10%             198                      23   \n",
       "2         15% New User             195                      45   \n",
       "3                  NaN             146                      27   \n",
       "4         50 off Promo             130                      50   \n",
       "\n",
       "   Refunds/Chargebacks  \n",
       "0                    0  \n",
       "1                    0  \n",
       "2                    0  \n",
       "3                    0  \n",
       "4                    0  "
      ]
     },
     "execution_count": 5,
     "metadata": {},
     "output_type": "execute_result"
    }
   ],
   "source": [
    "# display the first few rows of the dataset to understand its structure\n",
    "df.head()"
   ]
  },
  {
   "cell_type": "code",
   "execution_count": 6,
   "metadata": {},
   "outputs": [
    {
     "data": {
      "text/plain": [
       "(1000, 12)"
      ]
     },
     "execution_count": 6,
     "metadata": {},
     "output_type": "execute_result"
    }
   ],
   "source": [
    "# check the shape of the dataset\n",
    "df.shape"
   ]
  },
  {
   "cell_type": "code",
   "execution_count": 7,
   "metadata": {},
   "outputs": [
    {
     "name": "stdout",
     "output_type": "stream",
     "text": [
      "<class 'pandas.core.frame.DataFrame'>\n",
      "RangeIndex: 1000 entries, 0 to 999\n",
      "Data columns (total 12 columns):\n",
      " #   Column                  Non-Null Count  Dtype \n",
      "---  ------                  --------------  ----- \n",
      " 0   Order ID                1000 non-null   int64 \n",
      " 1   Customer ID             1000 non-null   object\n",
      " 2   Restaurant ID           1000 non-null   object\n",
      " 3   Order Date and Time     1000 non-null   object\n",
      " 4   Delivery Date and Time  1000 non-null   object\n",
      " 5   Order Value             1000 non-null   int64 \n",
      " 6   Delivery Fee            1000 non-null   int64 \n",
      " 7   Payment Method          1000 non-null   object\n",
      " 8   Discounts and Offers    815 non-null    object\n",
      " 9   Commission Fee          1000 non-null   int64 \n",
      " 10  Payment Processing Fee  1000 non-null   int64 \n",
      " 11  Refunds/Chargebacks     1000 non-null   int64 \n",
      "dtypes: int64(6), object(6)\n",
      "memory usage: 93.9+ KB\n"
     ]
    }
   ],
   "source": [
    "#print the concise information of the dataset\n",
    "df.info()"
   ]
  },
  {
   "cell_type": "code",
   "execution_count": 8,
   "metadata": {},
   "outputs": [
    {
     "data": {
      "text/html": [
       "<div>\n",
       "<style scoped>\n",
       "    .dataframe tbody tr th:only-of-type {\n",
       "        vertical-align: middle;\n",
       "    }\n",
       "\n",
       "    .dataframe tbody tr th {\n",
       "        vertical-align: top;\n",
       "    }\n",
       "\n",
       "    .dataframe thead th {\n",
       "        text-align: right;\n",
       "    }\n",
       "</style>\n",
       "<table border=\"1\" class=\"dataframe\">\n",
       "  <thead>\n",
       "    <tr style=\"text-align: right;\">\n",
       "      <th></th>\n",
       "      <th>Order ID</th>\n",
       "      <th>Order Value</th>\n",
       "      <th>Delivery Fee</th>\n",
       "      <th>Commission Fee</th>\n",
       "      <th>Payment Processing Fee</th>\n",
       "      <th>Refunds/Chargebacks</th>\n",
       "    </tr>\n",
       "  </thead>\n",
       "  <tbody>\n",
       "    <tr>\n",
       "      <th>count</th>\n",
       "      <td>1000.000000</td>\n",
       "      <td>1000.000000</td>\n",
       "      <td>1000.000000</td>\n",
       "      <td>1000.00000</td>\n",
       "      <td>1000.000000</td>\n",
       "      <td>1000.000000</td>\n",
       "    </tr>\n",
       "    <tr>\n",
       "      <th>mean</th>\n",
       "      <td>500.500000</td>\n",
       "      <td>1053.969000</td>\n",
       "      <td>28.620000</td>\n",
       "      <td>126.99000</td>\n",
       "      <td>29.832000</td>\n",
       "      <td>28.300000</td>\n",
       "    </tr>\n",
       "    <tr>\n",
       "      <th>std</th>\n",
       "      <td>288.819436</td>\n",
       "      <td>530.975339</td>\n",
       "      <td>16.958278</td>\n",
       "      <td>43.06405</td>\n",
       "      <td>11.627165</td>\n",
       "      <td>49.614228</td>\n",
       "    </tr>\n",
       "    <tr>\n",
       "      <th>min</th>\n",
       "      <td>1.000000</td>\n",
       "      <td>104.000000</td>\n",
       "      <td>0.000000</td>\n",
       "      <td>50.00000</td>\n",
       "      <td>10.000000</td>\n",
       "      <td>0.000000</td>\n",
       "    </tr>\n",
       "    <tr>\n",
       "      <th>25%</th>\n",
       "      <td>250.750000</td>\n",
       "      <td>597.750000</td>\n",
       "      <td>20.000000</td>\n",
       "      <td>90.00000</td>\n",
       "      <td>20.000000</td>\n",
       "      <td>0.000000</td>\n",
       "    </tr>\n",
       "    <tr>\n",
       "      <th>50%</th>\n",
       "      <td>500.500000</td>\n",
       "      <td>1038.500000</td>\n",
       "      <td>30.000000</td>\n",
       "      <td>127.00000</td>\n",
       "      <td>30.000000</td>\n",
       "      <td>0.000000</td>\n",
       "    </tr>\n",
       "    <tr>\n",
       "      <th>75%</th>\n",
       "      <td>750.250000</td>\n",
       "      <td>1494.000000</td>\n",
       "      <td>40.000000</td>\n",
       "      <td>164.00000</td>\n",
       "      <td>40.000000</td>\n",
       "      <td>50.000000</td>\n",
       "    </tr>\n",
       "    <tr>\n",
       "      <th>max</th>\n",
       "      <td>1000.000000</td>\n",
       "      <td>1995.000000</td>\n",
       "      <td>50.000000</td>\n",
       "      <td>200.00000</td>\n",
       "      <td>50.000000</td>\n",
       "      <td>150.000000</td>\n",
       "    </tr>\n",
       "  </tbody>\n",
       "</table>\n",
       "</div>"
      ],
      "text/plain": [
       "          Order ID  Order Value  Delivery Fee  Commission Fee  \\\n",
       "count  1000.000000  1000.000000   1000.000000      1000.00000   \n",
       "mean    500.500000  1053.969000     28.620000       126.99000   \n",
       "std     288.819436   530.975339     16.958278        43.06405   \n",
       "min       1.000000   104.000000      0.000000        50.00000   \n",
       "25%     250.750000   597.750000     20.000000        90.00000   \n",
       "50%     500.500000  1038.500000     30.000000       127.00000   \n",
       "75%     750.250000  1494.000000     40.000000       164.00000   \n",
       "max    1000.000000  1995.000000     50.000000       200.00000   \n",
       "\n",
       "       Payment Processing Fee  Refunds/Chargebacks  \n",
       "count             1000.000000          1000.000000  \n",
       "mean                29.832000            28.300000  \n",
       "std                 11.627165            49.614228  \n",
       "min                 10.000000             0.000000  \n",
       "25%                 20.000000             0.000000  \n",
       "50%                 30.000000             0.000000  \n",
       "75%                 40.000000            50.000000  \n",
       "max                 50.000000           150.000000  "
      ]
     },
     "execution_count": 8,
     "metadata": {},
     "output_type": "execute_result"
    }
   ],
   "source": [
    "#generate descriptive statistics.\n",
    "df.describe()"
   ]
  },
  {
   "cell_type": "code",
   "execution_count": 9,
   "metadata": {},
   "outputs": [
    {
     "data": {
      "text/plain": [
       "Index(['Order ID', 'Customer ID', 'Restaurant ID', 'Order Date and Time',\n",
       "       'Delivery Date and Time', 'Order Value', 'Delivery Fee',\n",
       "       'Payment Method', 'Discounts and Offers', 'Commission Fee',\n",
       "       'Payment Processing Fee', 'Refunds/Chargebacks'],\n",
       "      dtype='object')"
      ]
     },
     "execution_count": 9,
     "metadata": {},
     "output_type": "execute_result"
    }
   ],
   "source": [
    "# check for columns within the dataset\n",
    "df.columns"
   ]
  },
  {
   "cell_type": "markdown",
   "metadata": {},
   "source": [
    "#### **Step 2: Data Cleaning**\n",
    "\n",
    "Next, we clean the dataset by checking for missing values, removing irrelevant columns, and handling inconsistencies."
   ]
  },
  {
   "cell_type": "code",
   "execution_count": 10,
   "metadata": {},
   "outputs": [
    {
     "data": {
      "text/plain": [
       "Order ID                    0\n",
       "Customer ID                 0\n",
       "Restaurant ID               0\n",
       "Order Date and Time         0\n",
       "Delivery Date and Time      0\n",
       "Order Value                 0\n",
       "Delivery Fee                0\n",
       "Payment Method              0\n",
       "Discounts and Offers      185\n",
       "Commission Fee              0\n",
       "Payment Processing Fee      0\n",
       "Refunds/Chargebacks         0\n",
       "dtype: int64"
      ]
     },
     "execution_count": 10,
     "metadata": {},
     "output_type": "execute_result"
    }
   ],
   "source": [
    "# check for missing values\n",
    "df.isnull().sum()"
   ]
  },
  {
   "cell_type": "code",
   "execution_count": 11,
   "metadata": {},
   "outputs": [],
   "source": [
    "# drop columns that are not needed for the analysis since my task focuses primarily on costs, payment methods, commission, delivery date & time , order date & time, and profitability\n",
    "df.drop(columns=['Order ID', 'Customer ID', 'Restaurant ID'], inplace=True)"
   ]
  },
  {
   "cell_type": "code",
   "execution_count": 12,
   "metadata": {},
   "outputs": [
    {
     "data": {
      "text/html": [
       "<div>\n",
       "<style scoped>\n",
       "    .dataframe tbody tr th:only-of-type {\n",
       "        vertical-align: middle;\n",
       "    }\n",
       "\n",
       "    .dataframe tbody tr th {\n",
       "        vertical-align: top;\n",
       "    }\n",
       "\n",
       "    .dataframe thead th {\n",
       "        text-align: right;\n",
       "    }\n",
       "</style>\n",
       "<table border=\"1\" class=\"dataframe\">\n",
       "  <thead>\n",
       "    <tr style=\"text-align: right;\">\n",
       "      <th></th>\n",
       "      <th>Order Date and Time</th>\n",
       "      <th>Delivery Date and Time</th>\n",
       "      <th>Order Value</th>\n",
       "      <th>Delivery Fee</th>\n",
       "      <th>Payment Method</th>\n",
       "      <th>Discounts and Offers</th>\n",
       "      <th>Commission Fee</th>\n",
       "      <th>Payment Processing Fee</th>\n",
       "      <th>Refunds/Chargebacks</th>\n",
       "    </tr>\n",
       "  </thead>\n",
       "  <tbody>\n",
       "    <tr>\n",
       "      <th>0</th>\n",
       "      <td>2024-02-01 01:11:52</td>\n",
       "      <td>2024-02-01 02:39:52</td>\n",
       "      <td>1914</td>\n",
       "      <td>0</td>\n",
       "      <td>Credit Card</td>\n",
       "      <td>5% on App</td>\n",
       "      <td>150</td>\n",
       "      <td>47</td>\n",
       "      <td>0</td>\n",
       "    </tr>\n",
       "    <tr>\n",
       "      <th>1</th>\n",
       "      <td>2024-02-02 22:11:04</td>\n",
       "      <td>2024-02-02 22:46:04</td>\n",
       "      <td>986</td>\n",
       "      <td>40</td>\n",
       "      <td>Digital Wallet</td>\n",
       "      <td>10%</td>\n",
       "      <td>198</td>\n",
       "      <td>23</td>\n",
       "      <td>0</td>\n",
       "    </tr>\n",
       "    <tr>\n",
       "      <th>2</th>\n",
       "      <td>2024-01-31 05:54:35</td>\n",
       "      <td>2024-01-31 06:52:35</td>\n",
       "      <td>937</td>\n",
       "      <td>30</td>\n",
       "      <td>Cash on Delivery</td>\n",
       "      <td>15% New User</td>\n",
       "      <td>195</td>\n",
       "      <td>45</td>\n",
       "      <td>0</td>\n",
       "    </tr>\n",
       "    <tr>\n",
       "      <th>3</th>\n",
       "      <td>2024-01-16 22:52:49</td>\n",
       "      <td>2024-01-16 23:38:49</td>\n",
       "      <td>1463</td>\n",
       "      <td>50</td>\n",
       "      <td>Cash on Delivery</td>\n",
       "      <td>NaN</td>\n",
       "      <td>146</td>\n",
       "      <td>27</td>\n",
       "      <td>0</td>\n",
       "    </tr>\n",
       "    <tr>\n",
       "      <th>4</th>\n",
       "      <td>2024-01-29 01:19:30</td>\n",
       "      <td>2024-01-29 02:48:30</td>\n",
       "      <td>1992</td>\n",
       "      <td>30</td>\n",
       "      <td>Cash on Delivery</td>\n",
       "      <td>50 off Promo</td>\n",
       "      <td>130</td>\n",
       "      <td>50</td>\n",
       "      <td>0</td>\n",
       "    </tr>\n",
       "  </tbody>\n",
       "</table>\n",
       "</div>"
      ],
      "text/plain": [
       "   Order Date and Time Delivery Date and Time  Order Value  Delivery Fee  \\\n",
       "0  2024-02-01 01:11:52    2024-02-01 02:39:52         1914             0   \n",
       "1  2024-02-02 22:11:04    2024-02-02 22:46:04          986            40   \n",
       "2  2024-01-31 05:54:35    2024-01-31 06:52:35          937            30   \n",
       "3  2024-01-16 22:52:49    2024-01-16 23:38:49         1463            50   \n",
       "4  2024-01-29 01:19:30    2024-01-29 02:48:30         1992            30   \n",
       "\n",
       "     Payment Method Discounts and Offers  Commission Fee  \\\n",
       "0       Credit Card            5% on App             150   \n",
       "1    Digital Wallet                  10%             198   \n",
       "2  Cash on Delivery         15% New User             195   \n",
       "3  Cash on Delivery                  NaN             146   \n",
       "4  Cash on Delivery         50 off Promo             130   \n",
       "\n",
       "   Payment Processing Fee  Refunds/Chargebacks  \n",
       "0                      47                    0  \n",
       "1                      23                    0  \n",
       "2                      45                    0  \n",
       "3                      27                    0  \n",
       "4                      50                    0  "
      ]
     },
     "execution_count": 12,
     "metadata": {},
     "output_type": "execute_result"
    }
   ],
   "source": [
    "# display first few rows of the new dataset\n",
    "df.head()"
   ]
  },
  {
   "cell_type": "code",
   "execution_count": 13,
   "metadata": {},
   "outputs": [
    {
     "data": {
      "text/plain": [
       "(1000, 9)"
      ]
     },
     "execution_count": 13,
     "metadata": {},
     "output_type": "execute_result"
    }
   ],
   "source": [
    "# check the shape of the dataset\n",
    "df.shape"
   ]
  },
  {
   "cell_type": "code",
   "execution_count": 14,
   "metadata": {},
   "outputs": [],
   "source": [
    "# fill missing 'Commission Fee' with the mean of the column\n",
    "df['Commission Fee'] = df['Commission Fee'].fillna(df['Commission Fee'].mean())"
   ]
  },
  {
   "cell_type": "code",
   "execution_count": 15,
   "metadata": {},
   "outputs": [],
   "source": [
    "# fill missing 'Order Value' with the median of the column\n",
    "df['Order Value'] = df['Order Value'].fillna(df['Order Value'].median())"
   ]
  },
  {
   "cell_type": "code",
   "execution_count": 16,
   "metadata": {},
   "outputs": [],
   "source": [
    "# for categorical columns like 'Payment Method', fill with the mode\n",
    "df['Payment Method'] = df['Payment Method'].fillna(df['Payment Method'].mode()[0])"
   ]
  },
  {
   "cell_type": "code",
   "execution_count": 17,
   "metadata": {},
   "outputs": [
    {
     "data": {
      "text/plain": [
       "0"
      ]
     },
     "execution_count": 17,
     "metadata": {},
     "output_type": "execute_result"
    }
   ],
   "source": [
    "#handling duplicate records\n",
    "df[df.duplicated()].shape[0]"
   ]
  },
  {
   "cell_type": "code",
   "execution_count": 18,
   "metadata": {},
   "outputs": [],
   "source": [
    "# droping duplicates\n",
    "df.drop_duplicates(inplace=True)"
   ]
  },
  {
   "cell_type": "code",
   "execution_count": 42,
   "metadata": {},
   "outputs": [
    {
     "data": {
      "image/png": "[encoded data removed]",
      "text/plain": [
       "<Figure size 2000x1500 with 9 Axes>"
      ]
     },
     "metadata": {},
     "output_type": "display_data"
    }
   ],
   "source": [
    "# Create histograms to visualize the distribution of each feature\n",
    "plt.figure(figsize=(20, 15))\n",
    "for i, column in enumerate(df.columns[:-1], 1):  # Exclude 'target' column\n",
    "    plt.subplot(3, 4, i)  # Arrange the plots in a grid\n",
    "    sns.histplot(df[column], kde=True, color=\"blue\", bins=20)\n",
    "    plt.title(f'Distribution of {column}')\n",
    "    plt.xticks(rotation=45)\n",
    "    plt.tight_layout()\n",
    "\n",
    "# Show the plot\n",
    "plt.show()"
   ]
  },
  {
   "cell_type": "markdown",
   "metadata": {},
   "source": [
    "#### **Step 3: Most Common Payment Method**\n",
    "\n",
    "Identify the most common payment method and its proportion."
   ]
  },
  {
   "cell_type": "code",
   "execution_count": 20,
   "metadata": {},
   "outputs": [
    {
     "data": {
      "text/plain": [
       "Payment Method\n",
       "Cash on Delivery    357\n",
       "Credit Card         337\n",
       "Digital Wallet      306\n",
       "Name: count, dtype: int64"
      ]
     },
     "execution_count": 20,
     "metadata": {},
     "output_type": "execute_result"
    }
   ],
   "source": [
    "# count the frequency of each payment method\n",
    "payment_method_counts = df['Payment Method'].value_counts().sort_values(ascending=False)\n",
    "payment_method_counts"
   ]
  },
  {
   "cell_type": "code",
   "execution_count": 21,
   "metadata": {},
   "outputs": [
    {
     "name": "stdout",
     "output_type": "stream",
     "text": [
      "The most common payment method is 'Cash on Delivery' with a proportion of 0.36.\n"
     ]
    }
   ],
   "source": [
    "# find the most common payment method\n",
    "most_common_payment_method = payment_method_counts.idxmax()\n",
    "\n",
    "# proportion of the most common payment method\n",
    "most_common_payment_method_proportion = payment_method_counts.max() / len(df)\n",
    "\n",
    "print(f\"The most common payment method is '{most_common_payment_method}' with a proportion of {most_common_payment_method_proportion:.2f}.\")"
   ]
  },
  {
   "cell_type": "markdown",
   "metadata": {},
   "source": [
    "#### **Step 4: Calculate the 95% Confidence Interval for the Proportion**\n",
    "\n",
    "Calculate the 95% confidence interval for the proportion of the most common payment method"
   ]
  },
  {
   "cell_type": "code",
   "execution_count": 22,
   "metadata": {},
   "outputs": [
    {
     "data": {
      "text/plain": [
       "(0.3273047021609623, 0.38669529783903767)"
      ]
     },
     "execution_count": 22,
     "metadata": {},
     "output_type": "execute_result"
    }
   ],
   "source": [
    "# compute the 95% confidence interval for the proportion of the most common payment method\n",
    "proportion = most_common_payment_method_proportion\n",
    "n = len(df)\n",
    "z_score = stats.norm.ppf(0.975)  # 95% confidence level\n",
    "\n",
    "# ctandard error of proportion\n",
    "se = np.sqrt(proportion * (1 - proportion) / n)\n",
    "\n",
    "# confidence Interval\n",
    "conf_interval = (proportion - z_score * se, proportion + z_score * se)\n",
    "conf_interval"
   ]
  },
  {
   "cell_type": "markdown",
   "metadata": {},
   "source": [
    "#### **Step 5: Calculate the Average and Median Commission Fee**\n",
    "\n",
    "Calculate the average and median commission fee."
   ]
  },
  {
   "cell_type": "code",
   "execution_count": 23,
   "metadata": {},
   "outputs": [
    {
     "name": "stdout",
     "output_type": "stream",
     "text": [
      "The average commission fee is 126.99 and the median commission fee is 127.00.\n"
     ]
    }
   ],
   "source": [
    "# calculate the average and median commission fee\n",
    "avg_commission_fee = df['Commission Fee'].mean()\n",
    "median_commission_fee = df['Commission Fee'].median()\n",
    "\n",
    "print(f\"The average commission fee is {avg_commission_fee:.2f} and the median commission fee is {median_commission_fee:.2f}.\")"
   ]
  },
  {
   "cell_type": "markdown",
   "metadata": {},
   "source": [
    "#### **Step 6: Calculate the Average Order Value**\n",
    "\n",
    "Find the average order value for customers."
   ]
  },
  {
   "cell_type": "code",
   "execution_count": 24,
   "metadata": {},
   "outputs": [
    {
     "name": "stdout",
     "output_type": "stream",
     "text": [
      "The average order value is 1053.97.\n"
     ]
    }
   ],
   "source": [
    "# average order value\n",
    "avg_order_value = df['Order Value'].mean()\n",
    "print(f\"The average order value is {avg_order_value:.2f}.\")"
   ]
  },
  {
   "cell_type": "markdown",
   "metadata": {},
   "source": [
    "#### **Step 7: Probability Calculations for Commission Fees**\n",
    "\n",
    "We need to calculate the probability that the commission fee is:\n",
    "- More than 120\n",
    "- Less than 143\n",
    "- Between 86 and 133"
   ]
  },
  {
   "cell_type": "code",
   "execution_count": 25,
   "metadata": {},
   "outputs": [
    {
     "name": "stdout",
     "output_type": "stream",
     "text": [
      "The probability that the commission fee is more than 120 is 0.55.\n",
      "The probability that the commission fee is less than 143 is 0.60.\n",
      "The probability that the commission fee is between 86 and 133 is 0.32.\n"
     ]
    }
   ],
   "source": [
    "# probability that commission fee is more than 120\n",
    "prob_more_than_120 = (df['Commission Fee'] > 120).mean()\n",
    "\n",
    "# probability that commission fee is less than 143\n",
    "prob_less_than_143 = (df['Commission Fee'] < 143).mean()\n",
    "\n",
    "# probability that commission fee is between 86 and 133\n",
    "prob_between_86_and_133 = ((df['Commission Fee'] >= 86) & (df['Commission Fee'] <= 133)).mean()\n",
    "\n",
    "print(f\"The probability that the commission fee is more than 120 is {prob_more_than_120:.2f}.\")\n",
    "print(f\"The probability that the commission fee is less than 143 is {prob_less_than_143:.2f}.\")\n",
    "print(f\"The probability that the commission fee is between 86 and 133 is {prob_between_86_and_133:.2f}.\")"
   ]
  },
  {
   "cell_type": "markdown",
   "metadata": {},
   "source": [
    "#### **Step 8: Average Delivery Time for Orders Paid by Credit Card**\n",
    "\n",
    "Find the average delivery time for orders paid by credit card."
   ]
  },
  {
   "cell_type": "code",
   "execution_count": 26,
   "metadata": {},
   "outputs": [
    {
     "data": {
      "text/plain": [
       "0    88.0\n",
       "1    35.0\n",
       "2    58.0\n",
       "3    46.0\n",
       "4    89.0\n",
       "Name: Delivery Time, dtype: float64"
      ]
     },
     "execution_count": 26,
     "metadata": {},
     "output_type": "execute_result"
    }
   ],
   "source": [
    "# convert 'Order Date and Time' and 'Delivery Date and Time' to datetime\n",
    "df['Order Date and Time'] = pd.to_datetime(df['Order Date and Time'])\n",
    "df['Delivery Date and Time'] = pd.to_datetime(df['Delivery Date and Time'])\n",
    "\n",
    "# calculate delivery time as the difference between delivery and order times\n",
    "df['Delivery Time'] = (df['Delivery Date and Time'] - df['Order Date and Time']).dt.total_seconds() / 60  # Convert to minutes\n",
    "\n",
    "df['Delivery Time'].head()"
   ]
  },
  {
   "cell_type": "code",
   "execution_count": 27,
   "metadata": {},
   "outputs": [
    {
     "name": "stdout",
     "output_type": "stream",
     "text": [
      "The average delivery time for credit card orders is 74.01 minutes.\n"
     ]
    }
   ],
   "source": [
    "# filter rows where payment method is 'Credit Card'\n",
    "credit_card_orders = df[df['Payment Method'] == 'Credit Card']\n",
    "\n",
    "# calculate the average delivery time for these orders\n",
    "avg_delivery_time_credit_card = credit_card_orders['Delivery Time'].mean()\n",
    "print(f\"The average delivery time for credit card orders is {avg_delivery_time_credit_card:.2f} minutes.\")"
   ]
  },
  {
   "cell_type": "markdown",
   "metadata": {},
   "source": [
    "#### **Step 9: Lowest Order Value for the 10% Largest Orders with Cash on Delivery**\n",
    "\n",
    "Find the lowest order value among the top 10% largest orders done by Cash on Delivery."
   ]
  },
  {
   "cell_type": "code",
   "execution_count": 28,
   "metadata": {},
   "outputs": [
    {
     "data": {
      "text/html": [
       "<div>\n",
       "<style scoped>\n",
       "    .dataframe tbody tr th:only-of-type {\n",
       "        vertical-align: middle;\n",
       "    }\n",
       "\n",
       "    .dataframe tbody tr th {\n",
       "        vertical-align: top;\n",
       "    }\n",
       "\n",
       "    .dataframe thead th {\n",
       "        text-align: right;\n",
       "    }\n",
       "</style>\n",
       "<table border=\"1\" class=\"dataframe\">\n",
       "  <thead>\n",
       "    <tr style=\"text-align: right;\">\n",
       "      <th></th>\n",
       "      <th>Order Date and Time</th>\n",
       "      <th>Delivery Date and Time</th>\n",
       "      <th>Order Value</th>\n",
       "      <th>Delivery Fee</th>\n",
       "      <th>Payment Method</th>\n",
       "      <th>Discounts and Offers</th>\n",
       "      <th>Commission Fee</th>\n",
       "      <th>Payment Processing Fee</th>\n",
       "      <th>Refunds/Chargebacks</th>\n",
       "      <th>Delivery Time</th>\n",
       "    </tr>\n",
       "  </thead>\n",
       "  <tbody>\n",
       "    <tr>\n",
       "      <th>0</th>\n",
       "      <td>2024-02-01 01:11:52</td>\n",
       "      <td>2024-02-01 02:39:52</td>\n",
       "      <td>1914</td>\n",
       "      <td>0</td>\n",
       "      <td>Credit Card</td>\n",
       "      <td>5% on App</td>\n",
       "      <td>150</td>\n",
       "      <td>47</td>\n",
       "      <td>0</td>\n",
       "      <td>88.0</td>\n",
       "    </tr>\n",
       "    <tr>\n",
       "      <th>1</th>\n",
       "      <td>2024-02-02 22:11:04</td>\n",
       "      <td>2024-02-02 22:46:04</td>\n",
       "      <td>986</td>\n",
       "      <td>40</td>\n",
       "      <td>Digital Wallet</td>\n",
       "      <td>10%</td>\n",
       "      <td>198</td>\n",
       "      <td>23</td>\n",
       "      <td>0</td>\n",
       "      <td>35.0</td>\n",
       "    </tr>\n",
       "    <tr>\n",
       "      <th>2</th>\n",
       "      <td>2024-01-31 05:54:35</td>\n",
       "      <td>2024-01-31 06:52:35</td>\n",
       "      <td>937</td>\n",
       "      <td>30</td>\n",
       "      <td>Cash on Delivery</td>\n",
       "      <td>15% New User</td>\n",
       "      <td>195</td>\n",
       "      <td>45</td>\n",
       "      <td>0</td>\n",
       "      <td>58.0</td>\n",
       "    </tr>\n",
       "    <tr>\n",
       "      <th>3</th>\n",
       "      <td>2024-01-16 22:52:49</td>\n",
       "      <td>2024-01-16 23:38:49</td>\n",
       "      <td>1463</td>\n",
       "      <td>50</td>\n",
       "      <td>Cash on Delivery</td>\n",
       "      <td>NaN</td>\n",
       "      <td>146</td>\n",
       "      <td>27</td>\n",
       "      <td>0</td>\n",
       "      <td>46.0</td>\n",
       "    </tr>\n",
       "    <tr>\n",
       "      <th>4</th>\n",
       "      <td>2024-01-29 01:19:30</td>\n",
       "      <td>2024-01-29 02:48:30</td>\n",
       "      <td>1992</td>\n",
       "      <td>30</td>\n",
       "      <td>Cash on Delivery</td>\n",
       "      <td>50 off Promo</td>\n",
       "      <td>130</td>\n",
       "      <td>50</td>\n",
       "      <td>0</td>\n",
       "      <td>89.0</td>\n",
       "    </tr>\n",
       "  </tbody>\n",
       "</table>\n",
       "</div>"
      ],
      "text/plain": [
       "  Order Date and Time Delivery Date and Time  Order Value  Delivery Fee  \\\n",
       "0 2024-02-01 01:11:52    2024-02-01 02:39:52         1914             0   \n",
       "1 2024-02-02 22:11:04    2024-02-02 22:46:04          986            40   \n",
       "2 2024-01-31 05:54:35    2024-01-31 06:52:35          937            30   \n",
       "3 2024-01-16 22:52:49    2024-01-16 23:38:49         1463            50   \n",
       "4 2024-01-29 01:19:30    2024-01-29 02:48:30         1992            30   \n",
       "\n",
       "     Payment Method Discounts and Offers  Commission Fee  \\\n",
       "0       Credit Card            5% on App             150   \n",
       "1    Digital Wallet                  10%             198   \n",
       "2  Cash on Delivery         15% New User             195   \n",
       "3  Cash on Delivery                  NaN             146   \n",
       "4  Cash on Delivery         50 off Promo             130   \n",
       "\n",
       "   Payment Processing Fee  Refunds/Chargebacks  Delivery Time  \n",
       "0                      47                    0           88.0  \n",
       "1                      23                    0           35.0  \n",
       "2                      45                    0           58.0  \n",
       "3                      27                    0           46.0  \n",
       "4                      50                    0           89.0  "
      ]
     },
     "execution_count": 28,
     "metadata": {},
     "output_type": "execute_result"
    }
   ],
   "source": [
    "df.head()"
   ]
  },
  {
   "cell_type": "code",
   "execution_count": 29,
   "metadata": {},
   "outputs": [
    {
     "data": {
      "text/html": [
       "<div>\n",
       "<style scoped>\n",
       "    .dataframe tbody tr th:only-of-type {\n",
       "        vertical-align: middle;\n",
       "    }\n",
       "\n",
       "    .dataframe tbody tr th {\n",
       "        vertical-align: top;\n",
       "    }\n",
       "\n",
       "    .dataframe thead th {\n",
       "        text-align: right;\n",
       "    }\n",
       "</style>\n",
       "<table border=\"1\" class=\"dataframe\">\n",
       "  <thead>\n",
       "    <tr style=\"text-align: right;\">\n",
       "      <th></th>\n",
       "      <th>Order Date and Time</th>\n",
       "      <th>Delivery Date and Time</th>\n",
       "      <th>Order Value</th>\n",
       "      <th>Delivery Fee</th>\n",
       "      <th>Payment Method</th>\n",
       "      <th>Discounts and Offers</th>\n",
       "      <th>Commission Fee</th>\n",
       "      <th>Payment Processing Fee</th>\n",
       "      <th>Refunds/Chargebacks</th>\n",
       "      <th>Delivery Time</th>\n",
       "    </tr>\n",
       "  </thead>\n",
       "  <tbody>\n",
       "    <tr>\n",
       "      <th>2</th>\n",
       "      <td>2024-01-31 05:54:35</td>\n",
       "      <td>2024-01-31 06:52:35</td>\n",
       "      <td>937</td>\n",
       "      <td>30</td>\n",
       "      <td>Cash on Delivery</td>\n",
       "      <td>15% New User</td>\n",
       "      <td>195</td>\n",
       "      <td>45</td>\n",
       "      <td>0</td>\n",
       "      <td>58.0</td>\n",
       "    </tr>\n",
       "    <tr>\n",
       "      <th>3</th>\n",
       "      <td>2024-01-16 22:52:49</td>\n",
       "      <td>2024-01-16 23:38:49</td>\n",
       "      <td>1463</td>\n",
       "      <td>50</td>\n",
       "      <td>Cash on Delivery</td>\n",
       "      <td>NaN</td>\n",
       "      <td>146</td>\n",
       "      <td>27</td>\n",
       "      <td>0</td>\n",
       "      <td>46.0</td>\n",
       "    </tr>\n",
       "    <tr>\n",
       "      <th>4</th>\n",
       "      <td>2024-01-29 01:19:30</td>\n",
       "      <td>2024-01-29 02:48:30</td>\n",
       "      <td>1992</td>\n",
       "      <td>30</td>\n",
       "      <td>Cash on Delivery</td>\n",
       "      <td>50 off Promo</td>\n",
       "      <td>130</td>\n",
       "      <td>50</td>\n",
       "      <td>0</td>\n",
       "      <td>89.0</td>\n",
       "    </tr>\n",
       "    <tr>\n",
       "      <th>5</th>\n",
       "      <td>2024-01-25 04:36:52</td>\n",
       "      <td>2024-01-25 05:27:52</td>\n",
       "      <td>439</td>\n",
       "      <td>20</td>\n",
       "      <td>Cash on Delivery</td>\n",
       "      <td>10%</td>\n",
       "      <td>92</td>\n",
       "      <td>27</td>\n",
       "      <td>150</td>\n",
       "      <td>51.0</td>\n",
       "    </tr>\n",
       "    <tr>\n",
       "      <th>8</th>\n",
       "      <td>2024-01-02 18:29:59</td>\n",
       "      <td>2024-01-02 20:23:59</td>\n",
       "      <td>1663</td>\n",
       "      <td>40</td>\n",
       "      <td>Cash on Delivery</td>\n",
       "      <td>5% on App</td>\n",
       "      <td>116</td>\n",
       "      <td>48</td>\n",
       "      <td>0</td>\n",
       "      <td>114.0</td>\n",
       "    </tr>\n",
       "  </tbody>\n",
       "</table>\n",
       "</div>"
      ],
      "text/plain": [
       "  Order Date and Time Delivery Date and Time  Order Value  Delivery Fee  \\\n",
       "2 2024-01-31 05:54:35    2024-01-31 06:52:35          937            30   \n",
       "3 2024-01-16 22:52:49    2024-01-16 23:38:49         1463            50   \n",
       "4 2024-01-29 01:19:30    2024-01-29 02:48:30         1992            30   \n",
       "5 2024-01-25 04:36:52    2024-01-25 05:27:52          439            20   \n",
       "8 2024-01-02 18:29:59    2024-01-02 20:23:59         1663            40   \n",
       "\n",
       "     Payment Method Discounts and Offers  Commission Fee  \\\n",
       "2  Cash on Delivery         15% New User             195   \n",
       "3  Cash on Delivery                  NaN             146   \n",
       "4  Cash on Delivery         50 off Promo             130   \n",
       "5  Cash on Delivery                  10%              92   \n",
       "8  Cash on Delivery            5% on App             116   \n",
       "\n",
       "   Payment Processing Fee  Refunds/Chargebacks  Delivery Time  \n",
       "2                      45                    0           58.0  \n",
       "3                      27                    0           46.0  \n",
       "4                      50                    0           89.0  \n",
       "5                      27                  150           51.0  \n",
       "8                      48                    0          114.0  "
      ]
     },
     "execution_count": 29,
     "metadata": {},
     "output_type": "execute_result"
    }
   ],
   "source": [
    "# filter rows where payment method is 'Cash on delivery'\n",
    "cash_on_delivery_orders = df[df['Payment Method'] == 'Cash on Delivery']\n",
    "cash_on_delivery_orders.head()"
   ]
  },
  {
   "cell_type": "code",
   "execution_count": 30,
   "metadata": {},
   "outputs": [
    {
     "data": {
      "text/html": [
       "<div>\n",
       "<style scoped>\n",
       "    .dataframe tbody tr th:only-of-type {\n",
       "        vertical-align: middle;\n",
       "    }\n",
       "\n",
       "    .dataframe tbody tr th {\n",
       "        vertical-align: top;\n",
       "    }\n",
       "\n",
       "    .dataframe thead th {\n",
       "        text-align: right;\n",
       "    }\n",
       "</style>\n",
       "<table border=\"1\" class=\"dataframe\">\n",
       "  <thead>\n",
       "    <tr style=\"text-align: right;\">\n",
       "      <th></th>\n",
       "      <th>Order Date and Time</th>\n",
       "      <th>Delivery Date and Time</th>\n",
       "      <th>Order Value</th>\n",
       "      <th>Delivery Fee</th>\n",
       "      <th>Payment Method</th>\n",
       "      <th>Discounts and Offers</th>\n",
       "      <th>Commission Fee</th>\n",
       "      <th>Payment Processing Fee</th>\n",
       "      <th>Refunds/Chargebacks</th>\n",
       "      <th>Delivery Time</th>\n",
       "    </tr>\n",
       "  </thead>\n",
       "  <tbody>\n",
       "    <tr>\n",
       "      <th>632</th>\n",
       "      <td>2024-01-03 13:09:29</td>\n",
       "      <td>2024-01-03 15:05:29</td>\n",
       "      <td>1995</td>\n",
       "      <td>20</td>\n",
       "      <td>Cash on Delivery</td>\n",
       "      <td>NaN</td>\n",
       "      <td>75</td>\n",
       "      <td>14</td>\n",
       "      <td>0</td>\n",
       "      <td>116.0</td>\n",
       "    </tr>\n",
       "    <tr>\n",
       "      <th>892</th>\n",
       "      <td>2024-01-13 14:57:48</td>\n",
       "      <td>2024-01-13 16:14:48</td>\n",
       "      <td>1995</td>\n",
       "      <td>30</td>\n",
       "      <td>Cash on Delivery</td>\n",
       "      <td>15% New User</td>\n",
       "      <td>52</td>\n",
       "      <td>12</td>\n",
       "      <td>100</td>\n",
       "      <td>77.0</td>\n",
       "    </tr>\n",
       "    <tr>\n",
       "      <th>4</th>\n",
       "      <td>2024-01-29 01:19:30</td>\n",
       "      <td>2024-01-29 02:48:30</td>\n",
       "      <td>1992</td>\n",
       "      <td>30</td>\n",
       "      <td>Cash on Delivery</td>\n",
       "      <td>50 off Promo</td>\n",
       "      <td>130</td>\n",
       "      <td>50</td>\n",
       "      <td>0</td>\n",
       "      <td>89.0</td>\n",
       "    </tr>\n",
       "    <tr>\n",
       "      <th>573</th>\n",
       "      <td>2024-01-27 12:21:10</td>\n",
       "      <td>2024-01-27 12:58:10</td>\n",
       "      <td>1976</td>\n",
       "      <td>40</td>\n",
       "      <td>Cash on Delivery</td>\n",
       "      <td>10%</td>\n",
       "      <td>120</td>\n",
       "      <td>31</td>\n",
       "      <td>0</td>\n",
       "      <td>37.0</td>\n",
       "    </tr>\n",
       "    <tr>\n",
       "      <th>540</th>\n",
       "      <td>2024-01-23 20:39:14</td>\n",
       "      <td>2024-01-23 22:27:14</td>\n",
       "      <td>1966</td>\n",
       "      <td>0</td>\n",
       "      <td>Cash on Delivery</td>\n",
       "      <td>15% New User</td>\n",
       "      <td>109</td>\n",
       "      <td>12</td>\n",
       "      <td>0</td>\n",
       "      <td>108.0</td>\n",
       "    </tr>\n",
       "  </tbody>\n",
       "</table>\n",
       "</div>"
      ],
      "text/plain": [
       "    Order Date and Time Delivery Date and Time  Order Value  Delivery Fee  \\\n",
       "632 2024-01-03 13:09:29    2024-01-03 15:05:29         1995            20   \n",
       "892 2024-01-13 14:57:48    2024-01-13 16:14:48         1995            30   \n",
       "4   2024-01-29 01:19:30    2024-01-29 02:48:30         1992            30   \n",
       "573 2024-01-27 12:21:10    2024-01-27 12:58:10         1976            40   \n",
       "540 2024-01-23 20:39:14    2024-01-23 22:27:14         1966             0   \n",
       "\n",
       "       Payment Method Discounts and Offers  Commission Fee  \\\n",
       "632  Cash on Delivery                  NaN              75   \n",
       "892  Cash on Delivery         15% New User              52   \n",
       "4    Cash on Delivery         50 off Promo             130   \n",
       "573  Cash on Delivery                  10%             120   \n",
       "540  Cash on Delivery         15% New User             109   \n",
       "\n",
       "     Payment Processing Fee  Refunds/Chargebacks  Delivery Time  \n",
       "632                      14                    0          116.0  \n",
       "892                      12                  100           77.0  \n",
       "4                        50                    0           89.0  \n",
       "573                      31                    0           37.0  \n",
       "540                      12                    0          108.0  "
      ]
     },
     "execution_count": 30,
     "metadata": {},
     "output_type": "execute_result"
    }
   ],
   "source": [
    "# sort orders by order value in descending order and select the top 10%\n",
    "top_10_percent_cash_on_delivery = cash_on_delivery_orders.nlargest(int(len(cash_on_delivery_orders) * 0.1), 'Order Value')\n",
    "top_10_percent_cash_on_delivery.head()"
   ]
  },
  {
   "cell_type": "code",
   "execution_count": 31,
   "metadata": {},
   "outputs": [
    {
     "name": "stdout",
     "output_type": "stream",
     "text": [
      "The lowest order value in the top 10% of cash on delivery orders is 1810.00.\n"
     ]
    }
   ],
   "source": [
    "# find the lowest order value in this top 10%\n",
    "lowest_order_value_top_10 = top_10_percent_cash_on_delivery['Order Value'].min()\n",
    "print(f\"The lowest order value in the top 10% of cash on delivery orders is {lowest_order_value_top_10:.2f}.\")"
   ]
  },
  {
   "cell_type": "markdown",
   "metadata": {},
   "source": [
    "#### **Step 10: Highest Order Value for the 60% Least Orders with Digital Wallet**\n",
    "\n",
    "Find the highest order value among the 60% least orders with Digital Wallet."
   ]
  },
  {
   "cell_type": "code",
   "execution_count": 32,
   "metadata": {},
   "outputs": [
    {
     "data": {
      "text/html": [
       "<div>\n",
       "<style scoped>\n",
       "    .dataframe tbody tr th:only-of-type {\n",
       "        vertical-align: middle;\n",
       "    }\n",
       "\n",
       "    .dataframe tbody tr th {\n",
       "        vertical-align: top;\n",
       "    }\n",
       "\n",
       "    .dataframe thead th {\n",
       "        text-align: right;\n",
       "    }\n",
       "</style>\n",
       "<table border=\"1\" class=\"dataframe\">\n",
       "  <thead>\n",
       "    <tr style=\"text-align: right;\">\n",
       "      <th></th>\n",
       "      <th>Order Date and Time</th>\n",
       "      <th>Delivery Date and Time</th>\n",
       "      <th>Order Value</th>\n",
       "      <th>Delivery Fee</th>\n",
       "      <th>Payment Method</th>\n",
       "      <th>Discounts and Offers</th>\n",
       "      <th>Commission Fee</th>\n",
       "      <th>Payment Processing Fee</th>\n",
       "      <th>Refunds/Chargebacks</th>\n",
       "      <th>Delivery Time</th>\n",
       "    </tr>\n",
       "  </thead>\n",
       "  <tbody>\n",
       "    <tr>\n",
       "      <th>1</th>\n",
       "      <td>2024-02-02 22:11:04</td>\n",
       "      <td>2024-02-02 22:46:04</td>\n",
       "      <td>986</td>\n",
       "      <td>40</td>\n",
       "      <td>Digital Wallet</td>\n",
       "      <td>10%</td>\n",
       "      <td>198</td>\n",
       "      <td>23</td>\n",
       "      <td>0</td>\n",
       "      <td>35.0</td>\n",
       "    </tr>\n",
       "    <tr>\n",
       "      <th>6</th>\n",
       "      <td>2024-01-12 23:55:48</td>\n",
       "      <td>2024-01-13 00:48:48</td>\n",
       "      <td>303</td>\n",
       "      <td>30</td>\n",
       "      <td>Digital Wallet</td>\n",
       "      <td>5% on App</td>\n",
       "      <td>144</td>\n",
       "      <td>12</td>\n",
       "      <td>50</td>\n",
       "      <td>53.0</td>\n",
       "    </tr>\n",
       "    <tr>\n",
       "      <th>9</th>\n",
       "      <td>2024-01-05 00:50:19</td>\n",
       "      <td>2024-01-05 02:10:19</td>\n",
       "      <td>491</td>\n",
       "      <td>40</td>\n",
       "      <td>Digital Wallet</td>\n",
       "      <td>10%</td>\n",
       "      <td>189</td>\n",
       "      <td>10</td>\n",
       "      <td>0</td>\n",
       "      <td>80.0</td>\n",
       "    </tr>\n",
       "    <tr>\n",
       "      <th>13</th>\n",
       "      <td>2024-02-04 18:48:54</td>\n",
       "      <td>2024-02-04 20:28:54</td>\n",
       "      <td>633</td>\n",
       "      <td>30</td>\n",
       "      <td>Digital Wallet</td>\n",
       "      <td>15% New User</td>\n",
       "      <td>51</td>\n",
       "      <td>14</td>\n",
       "      <td>50</td>\n",
       "      <td>100.0</td>\n",
       "    </tr>\n",
       "    <tr>\n",
       "      <th>15</th>\n",
       "      <td>2024-01-15 20:46:22</td>\n",
       "      <td>2024-01-15 21:54:22</td>\n",
       "      <td>992</td>\n",
       "      <td>0</td>\n",
       "      <td>Digital Wallet</td>\n",
       "      <td>15% New User</td>\n",
       "      <td>200</td>\n",
       "      <td>28</td>\n",
       "      <td>0</td>\n",
       "      <td>68.0</td>\n",
       "    </tr>\n",
       "  </tbody>\n",
       "</table>\n",
       "</div>"
      ],
      "text/plain": [
       "   Order Date and Time Delivery Date and Time  Order Value  Delivery Fee  \\\n",
       "1  2024-02-02 22:11:04    2024-02-02 22:46:04          986            40   \n",
       "6  2024-01-12 23:55:48    2024-01-13 00:48:48          303            30   \n",
       "9  2024-01-05 00:50:19    2024-01-05 02:10:19          491            40   \n",
       "13 2024-02-04 18:48:54    2024-02-04 20:28:54          633            30   \n",
       "15 2024-01-15 20:46:22    2024-01-15 21:54:22          992             0   \n",
       "\n",
       "    Payment Method Discounts and Offers  Commission Fee  \\\n",
       "1   Digital Wallet                  10%             198   \n",
       "6   Digital Wallet            5% on App             144   \n",
       "9   Digital Wallet                  10%             189   \n",
       "13  Digital Wallet         15% New User              51   \n",
       "15  Digital Wallet         15% New User             200   \n",
       "\n",
       "    Payment Processing Fee  Refunds/Chargebacks  Delivery Time  \n",
       "1                       23                    0           35.0  \n",
       "6                       12                   50           53.0  \n",
       "9                       10                    0           80.0  \n",
       "13                      14                   50          100.0  \n",
       "15                      28                    0           68.0  "
      ]
     },
     "execution_count": 32,
     "metadata": {},
     "output_type": "execute_result"
    }
   ],
   "source": [
    "# filter rows where payment method is 'Digital Wallet'\n",
    "digital_wallet_orders = df[df['Payment Method'] == 'Digital Wallet']\n",
    "digital_wallet_orders.head()"
   ]
  },
  {
   "cell_type": "code",
   "execution_count": 33,
   "metadata": {},
   "outputs": [
    {
     "data": {
      "text/html": [
       "<div>\n",
       "<style scoped>\n",
       "    .dataframe tbody tr th:only-of-type {\n",
       "        vertical-align: middle;\n",
       "    }\n",
       "\n",
       "    .dataframe tbody tr th {\n",
       "        vertical-align: top;\n",
       "    }\n",
       "\n",
       "    .dataframe thead th {\n",
       "        text-align: right;\n",
       "    }\n",
       "</style>\n",
       "<table border=\"1\" class=\"dataframe\">\n",
       "  <thead>\n",
       "    <tr style=\"text-align: right;\">\n",
       "      <th></th>\n",
       "      <th>Order Date and Time</th>\n",
       "      <th>Delivery Date and Time</th>\n",
       "      <th>Order Value</th>\n",
       "      <th>Delivery Fee</th>\n",
       "      <th>Payment Method</th>\n",
       "      <th>Discounts and Offers</th>\n",
       "      <th>Commission Fee</th>\n",
       "      <th>Payment Processing Fee</th>\n",
       "      <th>Refunds/Chargebacks</th>\n",
       "      <th>Delivery Time</th>\n",
       "    </tr>\n",
       "  </thead>\n",
       "  <tbody>\n",
       "    <tr>\n",
       "      <th>967</th>\n",
       "      <td>2024-01-30 06:03:39</td>\n",
       "      <td>2024-01-30 06:36:39</td>\n",
       "      <td>105</td>\n",
       "      <td>0</td>\n",
       "      <td>Digital Wallet</td>\n",
       "      <td>15% New User</td>\n",
       "      <td>143</td>\n",
       "      <td>18</td>\n",
       "      <td>0</td>\n",
       "      <td>33.0</td>\n",
       "    </tr>\n",
       "    <tr>\n",
       "      <th>318</th>\n",
       "      <td>2024-01-14 23:14:21</td>\n",
       "      <td>2024-01-15 00:27:21</td>\n",
       "      <td>110</td>\n",
       "      <td>0</td>\n",
       "      <td>Digital Wallet</td>\n",
       "      <td>15% New User</td>\n",
       "      <td>186</td>\n",
       "      <td>37</td>\n",
       "      <td>50</td>\n",
       "      <td>73.0</td>\n",
       "    </tr>\n",
       "    <tr>\n",
       "      <th>774</th>\n",
       "      <td>2024-01-04 16:17:55</td>\n",
       "      <td>2024-01-04 18:04:55</td>\n",
       "      <td>129</td>\n",
       "      <td>20</td>\n",
       "      <td>Digital Wallet</td>\n",
       "      <td>50 off Promo</td>\n",
       "      <td>172</td>\n",
       "      <td>27</td>\n",
       "      <td>0</td>\n",
       "      <td>107.0</td>\n",
       "    </tr>\n",
       "    <tr>\n",
       "      <th>417</th>\n",
       "      <td>2024-01-08 17:45:55</td>\n",
       "      <td>2024-01-08 18:46:55</td>\n",
       "      <td>152</td>\n",
       "      <td>50</td>\n",
       "      <td>Digital Wallet</td>\n",
       "      <td>15% New User</td>\n",
       "      <td>64</td>\n",
       "      <td>39</td>\n",
       "      <td>100</td>\n",
       "      <td>61.0</td>\n",
       "    </tr>\n",
       "    <tr>\n",
       "      <th>99</th>\n",
       "      <td>2024-01-20 10:18:07</td>\n",
       "      <td>2024-01-20 10:51:07</td>\n",
       "      <td>167</td>\n",
       "      <td>50</td>\n",
       "      <td>Digital Wallet</td>\n",
       "      <td>NaN</td>\n",
       "      <td>168</td>\n",
       "      <td>28</td>\n",
       "      <td>0</td>\n",
       "      <td>33.0</td>\n",
       "    </tr>\n",
       "  </tbody>\n",
       "</table>\n",
       "</div>"
      ],
      "text/plain": [
       "    Order Date and Time Delivery Date and Time  Order Value  Delivery Fee  \\\n",
       "967 2024-01-30 06:03:39    2024-01-30 06:36:39          105             0   \n",
       "318 2024-01-14 23:14:21    2024-01-15 00:27:21          110             0   \n",
       "774 2024-01-04 16:17:55    2024-01-04 18:04:55          129            20   \n",
       "417 2024-01-08 17:45:55    2024-01-08 18:46:55          152            50   \n",
       "99  2024-01-20 10:18:07    2024-01-20 10:51:07          167            50   \n",
       "\n",
       "     Payment Method Discounts and Offers  Commission Fee  \\\n",
       "967  Digital Wallet         15% New User             143   \n",
       "318  Digital Wallet         15% New User             186   \n",
       "774  Digital Wallet         50 off Promo             172   \n",
       "417  Digital Wallet         15% New User              64   \n",
       "99   Digital Wallet                  NaN             168   \n",
       "\n",
       "     Payment Processing Fee  Refunds/Chargebacks  Delivery Time  \n",
       "967                      18                    0           33.0  \n",
       "318                      37                   50           73.0  \n",
       "774                      27                    0          107.0  \n",
       "417                      39                  100           61.0  \n",
       "99                       28                    0           33.0  "
      ]
     },
     "execution_count": 33,
     "metadata": {},
     "output_type": "execute_result"
    }
   ],
   "source": [
    "# sort orders by order value in ascending order and select the bottom 60%\n",
    "bottom_60_percent_digital_wallet = digital_wallet_orders.nsmallest(int(len(digital_wallet_orders) * 0.6), 'Order Value')\n",
    "bottom_60_percent_digital_wallet.head()"
   ]
  },
  {
   "cell_type": "code",
   "execution_count": 34,
   "metadata": {},
   "outputs": [
    {
     "name": "stdout",
     "output_type": "stream",
     "text": [
      "The highest order value in this bottom 60% is 1186.00.\n"
     ]
    }
   ],
   "source": [
    "# find the highest order value in this bottom 60%\n",
    "highest_order_value_bottom_60 = bottom_60_percent_digital_wallet['Order Value'].max()\n",
    "print(f'The highest order value in this bottom 60% is {highest_order_value_bottom_60:.2f}.')"
   ]
  },
  {
   "cell_type": "markdown",
   "metadata": {},
   "source": [
    "#### **Step 11: Compare Mean Order Values for Digital Wallet vs Cash on Delivery**\n",
    "\n",
    "Find the difference in the mean order value between Digital Wallet and Cash on Delivery."
   ]
  },
  {
   "cell_type": "code",
   "execution_count": 35,
   "metadata": {},
   "outputs": [
    {
     "name": "stdout",
     "output_type": "stream",
     "text": [
      "The difference in mean order values between Digital Wallet and Cash on Delivery is -9.98.\n"
     ]
    }
   ],
   "source": [
    "# find the mean order value for Digital Wallet and Cash on Delivery\n",
    "mean_order_value_digital_wallet = digital_wallet_orders['Order Value'].mean()\n",
    "mean_order_value_cash_on_delivery = cash_on_delivery_orders['Order Value'].mean()\n",
    "\n",
    "# calculate the difference in mean order values\n",
    "mean_difference = mean_order_value_digital_wallet - mean_order_value_cash_on_delivery\n",
    "print(f\"The difference in mean order values between Digital Wallet and Cash on Delivery is {mean_difference:.2f}.\")"
   ]
  },
  {
   "cell_type": "markdown",
   "metadata": {},
   "source": [
    "#### **Step 12: Test Hypothesis for Delivery Time > 53 Minutes**\n",
    "\n",
    "Test if the average delivery time is more than 53 minutes with a significance level of 0.05."
   ]
  },
  {
   "cell_type": "code",
   "execution_count": 36,
   "metadata": {},
   "outputs": [
    {
     "name": "stdout",
     "output_type": "stream",
     "text": [
      "Null hypothesis rejected.\n"
     ]
    }
   ],
   "source": [
    "# one-sample t-test for delivery time > 53 minutes\n",
    "t_stat, p_value = stats.ttest_1samp(df['Delivery Time'], 53)\n",
    "alpha = 0.05\n",
    "\n",
    "# ff p-value is less than alpha, we reject the null hypothesis\n",
    "reject_null = p_value / 2 < alpha and t_stat > 0\n",
    "print(f\"Null hypothesis {'rejected' if reject_null else 'not rejected'}.\")"
   ]
  },
  {
   "cell_type": "markdown",
   "metadata": {},
   "source": [
    "#### **Step 13: Range for the Middle 50% of Delivery Durations**\n",
    "\n",
    "Calculate the interquartile range (IQR) for the delivery durations."
   ]
  },
  {
   "cell_type": "code",
   "execution_count": 37,
   "metadata": {},
   "outputs": [
    {
     "name": "stdout",
     "output_type": "stream",
     "text": [
      "The interquartile range for delivery time is 46.00 minutes.\n"
     ]
    }
   ],
   "source": [
    "# calculate the IQR for delivery time\n",
    "Q1 = df['Delivery Time'].quantile(0.25)\n",
    "Q3 = df['Delivery Time'].quantile(0.75)\n",
    "IQR = Q3 - Q1\n",
    "\n",
    "print(f\"The interquartile range for delivery time is {IQR:.2f} minutes.\")"
   ]
  },
  {
   "cell_type": "markdown",
   "metadata": {},
   "source": [
    "#### **Step 14: Distribution of Payment Methods with Refunds/Chargebacks**\n",
    "\n",
    "Find the distribution of payment methods with refunds/chargebacks greater than zero."
   ]
  },
  {
   "cell_type": "code",
   "execution_count": 38,
   "metadata": {},
   "outputs": [
    {
     "data": {
      "text/html": [
       "<div>\n",
       "<style scoped>\n",
       "    .dataframe tbody tr th:only-of-type {\n",
       "        vertical-align: middle;\n",
       "    }\n",
       "\n",
       "    .dataframe tbody tr th {\n",
       "        vertical-align: top;\n",
       "    }\n",
       "\n",
       "    .dataframe thead th {\n",
       "        text-align: right;\n",
       "    }\n",
       "</style>\n",
       "<table border=\"1\" class=\"dataframe\">\n",
       "  <thead>\n",
       "    <tr style=\"text-align: right;\">\n",
       "      <th></th>\n",
       "      <th>Order Date and Time</th>\n",
       "      <th>Delivery Date and Time</th>\n",
       "      <th>Order Value</th>\n",
       "      <th>Delivery Fee</th>\n",
       "      <th>Payment Method</th>\n",
       "      <th>Discounts and Offers</th>\n",
       "      <th>Commission Fee</th>\n",
       "      <th>Payment Processing Fee</th>\n",
       "      <th>Refunds/Chargebacks</th>\n",
       "      <th>Delivery Time</th>\n",
       "    </tr>\n",
       "  </thead>\n",
       "  <tbody>\n",
       "    <tr>\n",
       "      <th>0</th>\n",
       "      <td>2024-02-01 01:11:52</td>\n",
       "      <td>2024-02-01 02:39:52</td>\n",
       "      <td>1914</td>\n",
       "      <td>0</td>\n",
       "      <td>Credit Card</td>\n",
       "      <td>5% on App</td>\n",
       "      <td>150</td>\n",
       "      <td>47</td>\n",
       "      <td>0</td>\n",
       "      <td>88.0</td>\n",
       "    </tr>\n",
       "    <tr>\n",
       "      <th>1</th>\n",
       "      <td>2024-02-02 22:11:04</td>\n",
       "      <td>2024-02-02 22:46:04</td>\n",
       "      <td>986</td>\n",
       "      <td>40</td>\n",
       "      <td>Digital Wallet</td>\n",
       "      <td>10%</td>\n",
       "      <td>198</td>\n",
       "      <td>23</td>\n",
       "      <td>0</td>\n",
       "      <td>35.0</td>\n",
       "    </tr>\n",
       "    <tr>\n",
       "      <th>2</th>\n",
       "      <td>2024-01-31 05:54:35</td>\n",
       "      <td>2024-01-31 06:52:35</td>\n",
       "      <td>937</td>\n",
       "      <td>30</td>\n",
       "      <td>Cash on Delivery</td>\n",
       "      <td>15% New User</td>\n",
       "      <td>195</td>\n",
       "      <td>45</td>\n",
       "      <td>0</td>\n",
       "      <td>58.0</td>\n",
       "    </tr>\n",
       "    <tr>\n",
       "      <th>3</th>\n",
       "      <td>2024-01-16 22:52:49</td>\n",
       "      <td>2024-01-16 23:38:49</td>\n",
       "      <td>1463</td>\n",
       "      <td>50</td>\n",
       "      <td>Cash on Delivery</td>\n",
       "      <td>NaN</td>\n",
       "      <td>146</td>\n",
       "      <td>27</td>\n",
       "      <td>0</td>\n",
       "      <td>46.0</td>\n",
       "    </tr>\n",
       "    <tr>\n",
       "      <th>4</th>\n",
       "      <td>2024-01-29 01:19:30</td>\n",
       "      <td>2024-01-29 02:48:30</td>\n",
       "      <td>1992</td>\n",
       "      <td>30</td>\n",
       "      <td>Cash on Delivery</td>\n",
       "      <td>50 off Promo</td>\n",
       "      <td>130</td>\n",
       "      <td>50</td>\n",
       "      <td>0</td>\n",
       "      <td>89.0</td>\n",
       "    </tr>\n",
       "  </tbody>\n",
       "</table>\n",
       "</div>"
      ],
      "text/plain": [
       "  Order Date and Time Delivery Date and Time  Order Value  Delivery Fee  \\\n",
       "0 2024-02-01 01:11:52    2024-02-01 02:39:52         1914             0   \n",
       "1 2024-02-02 22:11:04    2024-02-02 22:46:04          986            40   \n",
       "2 2024-01-31 05:54:35    2024-01-31 06:52:35          937            30   \n",
       "3 2024-01-16 22:52:49    2024-01-16 23:38:49         1463            50   \n",
       "4 2024-01-29 01:19:30    2024-01-29 02:48:30         1992            30   \n",
       "\n",
       "     Payment Method Discounts and Offers  Commission Fee  \\\n",
       "0       Credit Card            5% on App             150   \n",
       "1    Digital Wallet                  10%             198   \n",
       "2  Cash on Delivery         15% New User             195   \n",
       "3  Cash on Delivery                  NaN             146   \n",
       "4  Cash on Delivery         50 off Promo             130   \n",
       "\n",
       "   Payment Processing Fee  Refunds/Chargebacks  Delivery Time  \n",
       "0                      47                    0           88.0  \n",
       "1                      23                    0           35.0  \n",
       "2                      45                    0           58.0  \n",
       "3                      27                    0           46.0  \n",
       "4                      50                    0           89.0  "
      ]
     },
     "execution_count": 38,
     "metadata": {},
     "output_type": "execute_result"
    }
   ],
   "source": [
    "df.head()"
   ]
  },
  {
   "cell_type": "code",
   "execution_count": 39,
   "metadata": {},
   "outputs": [
    {
     "data": {
      "text/plain": [
       "Payment Method\n",
       "Credit Card         102\n",
       "Cash on Delivery    101\n",
       "Digital Wallet       82\n",
       "Name: count, dtype: int64"
      ]
     },
     "execution_count": 39,
     "metadata": {},
     "output_type": "execute_result"
    }
   ],
   "source": [
    "# filter orders with refunds/chargebacks greater than zero\n",
    "refunds_orders = df[df['Refunds/Chargebacks'] > 0]\n",
    "\n",
    "# count the distribution of payment methods for these orders\n",
    "refund_payment_distribution = refunds_orders['Payment Method'].value_counts()\n",
    "\n",
    "refund_payment_distribution"
   ]
  }
 ],
 "metadata": {
  "kernelspec": {
   "display_name": "Python 3",
   "language": "python",
   "name": "python3"
  },
  "language_info": {
   "codemirror_mode": {
    "name": "ipython",
    "version": 3
   },
   "file_extension": ".py",
   "mimetype": "text/x-python",
   "name": "python",
   "nbconvert_exporter": "python",
   "pygments_lexer": "ipython3",
   "version": "3.10.12"
  }
 },
 "nbformat": 4,
 "nbformat_minor": 2
}
