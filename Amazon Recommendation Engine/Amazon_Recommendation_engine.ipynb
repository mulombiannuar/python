{
 "cells": [
  {
   "cell_type": "markdown",
   "metadata": {},
   "source": [
    "**Question**\n",
    "\n",
    "Use appropriate machine learning model to demonstrate how machine learning can be used on e-commerce sites for product recommendations to users."
   ]
  },
  {
   "cell_type": "markdown",
   "metadata": {
    "id": "kDJAToQLDNba"
   },
   "source": [
    "**Background**\n",
    "\n",
    "To offer recommendations to their customers, e-commerce companies such as Amazon and Flipkart employ various recommendation systems.The item-item collaborative filtering that Amazon now utilizes scalable to large datasets and generates a high-quality recommendation system in real time. This system aims to forecast the \"rating\" or preferences that the user is interested in, making it a sort of information filtering mechanism.\n"
   ]
  },
  {
   "cell_type": "markdown",
   "metadata": {
    "id": "5B2sKurKDkH_"
   },
   "source": [
    "**Introduction to Recommendation systems**\n",
    "\n",
    "\n",
    "A recommendation engine is a program or algorithm that evaluates user information and makes tailored recommendations for products or content that the user would find interesting. The user's preferences, past behavior, demographic data, and user commonalities are some of the variables that go into these recommendations.\n",
    "\n",
    "OTT platforms, social media, e-commerce, and other online businesses frequently employ recommendation engines to improve user experience and engagement. They assist consumers in finding new products, films, music, articles, or anything else that piques their interest.\n",
    "\n",
    "By establishing a relationship between the user and the object, the recommender system uses this similarity to provide suggestions."
   ]
  },
  {
   "cell_type": "markdown",
   "metadata": {
    "id": "nhc-rQ7DD59I"
   },
   "source": [
    "**What recommeder system can solve ?**\n",
    "\n",
    "1. It can aid the user in selecting the appropriate item.\n",
    "2. User engagement may rise as a result. Google News, for instance, has 40% more clicks as a result of recommendations.\n",
    "3. It aids in the delivery of goods to the appropriate user by item providers.35% of products on Amazon are sold as a result of recommendations.\n",
    "4. It contributes to the more individualized content.Netflix recommends most of the movies that are rented."
   ]
  },
  {
   "cell_type": "markdown",
   "metadata": {
    "id": "8SHXz0lNEXpx"
   },
   "source": [
    "**Types of recommendations**\n",
    "\n",
    "There are mainly 6 types of the recommendations systems :-\n",
    "\n",
    "1.  Popularity based systems :- It functions by suggesting highly rated products that are viewed and bought by the majority of users.It isn't a customized suggestion.\n",
    "2.  Classification model based:- It works by understanding the features of the user and applying the classification algorithm to decide whether the user is interested or not in the product.\n",
    "3. Content based recommendations:- It is based on the information on the contents of the item rather than on the user opinions.The main idea is if the user likes an item then he or she will like the \"other\" similar item.\n",
    "4. Collaborative Filtering:- It is based on assumption that people like things similar to other things they like, and things that are liked by other people with similar taste. it is mainly of two types: a) User-User b) Item -Item\n",
    "\n",
    "5. Hybrid Approaches:- This system approach is to combine collaborative filtering, content-based filtering, and other approaches .\n",
    "\n",
    "6. Association rule mining :- Association rules capture the relationships between items based on their patterns of co-occurrence across transactions\n"
   ]
  },
  {
   "cell_type": "markdown",
   "metadata": {
    "id": "GG62xfK_E80b"
   },
   "source": [
    "**Attribute Information:**\n",
    "\n",
    "● userId : Every user identified with a unique id\n",
    "\n",
    "● productId : Every product identified with a unique id\n",
    "\n",
    "● Rating : Rating of the corresponding product by the corresponding user\n",
    "\n",
    "● timestamp : Time of the rating ( will be ignored in this exercise)"
   ]
  },
  {
   "cell_type": "code",
   "execution_count": 53,
   "metadata": {
    "executionInfo": {
     "elapsed": 3249,
     "status": "ok",
     "timestamp": 1733226120357,
     "user": {
      "displayName": "Anuary Mulombi",
      "userId": "14611826619236707074"
     },
     "user_tz": -180
    },
    "id": "XX7k6SE89PBu"
   },
   "outputs": [],
   "source": [
    "import pandas as pd #for data manipulation and analysis.\n",
    "import numpy as np #for numerical operations and array handling\n",
    "import seaborn as sns #for statistical data visualization\n",
    "from matplotlib import pyplot as plt #for creating static, animated, and interactive visualizations.\n",
    "import warnings #to manage warnings during code execution.\n",
    "import os #for interacting with the operating system.\n",
    "import importlib #for importing modules dynamically.\n",
    "import opendatasets as od #allows you to easily download datasets from various online sources directly into your local environment\n",
    "warnings.filterwarnings('ignore')\n",
    "sns.set_theme(color_codes=True)"
   ]
  },
  {
   "cell_type": "code",
   "execution_count": 54,
   "metadata": {
    "executionInfo": {
     "elapsed": 10,
     "status": "ok",
     "timestamp": 1733226120358,
     "user": {
      "displayName": "Anuary Mulombi",
      "userId": "14611826619236707074"
     },
     "user_tz": -180
    },
    "id": "ubdOS8GZR-EW"
   },
   "outputs": [],
   "source": [
    "# user-defined function to check library is installed or not, if not installed then it will install automatically at runtime.\n",
    "def check_and_install_library(library_name):\n",
    "    try:\n",
    "        importlib.import_module(library_name)\n",
    "        print(f\"{library_name} is already installed.\")\n",
    "    except ImportError:\n",
    "        print(f\"{library_name} is not installed. Installing...\")\n",
    "        try:\n",
    "            import pip\n",
    "            pip.main(['install', library_name])\n",
    "        except:\n",
    "            print(\"Error: Failed to install the library. Please install it manually.\")"
   ]
  },
  {
   "cell_type": "markdown",
   "metadata": {
    "id": "ozmBcKoAAtEZ"
   },
   "source": [
    "The Amazon product review dataset is huge, size of the dataset is 320 MB so it's recommended to download using the Kaggle repository which will be handy for further execution and will save your time and resources."
   ]
  },
  {
   "cell_type": "code",
   "execution_count": 55,
   "metadata": {
    "colab": {
     "background_save": true,
     "base_uri": "https://localhost:8080/",
     "height": 457
    },
    "id": "8TNhpNqX-TDv"
   },
   "outputs": [
    {
     "name": "stdout",
     "output_type": "stream",
     "text": [
      "File already exists.\n"
     ]
    }
   ],
   "source": [
    "import os\n",
    "\n",
    "data_dir = '../data/amazon-product-reviews'\n",
    "if not os.path.exists(data_dir):\n",
    "    od.download('https://www.kaggle.com/datasets/irvifa/amazon-product-reviews', data_dir=data_dir)\n",
    "else:\n",
    "    print(\"File already exists.\")"
   ]
  },
  {
   "cell_type": "code",
   "execution_count": 56,
   "metadata": {
    "colab": {
     "background_save": true
    },
    "id": "uJXJvimt_sx5"
   },
   "outputs": [],
   "source": [
    "#load the dataframe and set column name\n",
    "df=pd.read_csv('../data/amazon-product-reviews/ratings_Electronics.csv',names=['userId', 'productId','rating','timestamp'])"
   ]
  },
  {
   "cell_type": "code",
   "execution_count": 57,
   "metadata": {},
   "outputs": [
    {
     "data": {
      "text/html": [
       "<div>\n",
       "<style scoped>\n",
       "    .dataframe tbody tr th:only-of-type {\n",
       "        vertical-align: middle;\n",
       "    }\n",
       "\n",
       "    .dataframe tbody tr th {\n",
       "        vertical-align: top;\n",
       "    }\n",
       "\n",
       "    .dataframe thead th {\n",
       "        text-align: right;\n",
       "    }\n",
       "</style>\n",
       "<table border=\"1\" class=\"dataframe\">\n",
       "  <thead>\n",
       "    <tr style=\"text-align: right;\">\n",
       "      <th></th>\n",
       "      <th>userId</th>\n",
       "      <th>productId</th>\n",
       "      <th>rating</th>\n",
       "      <th>timestamp</th>\n",
       "    </tr>\n",
       "  </thead>\n",
       "  <tbody>\n",
       "    <tr>\n",
       "      <th>0</th>\n",
       "      <td>AKM1MP6P0OYPR</td>\n",
       "      <td>0132793040</td>\n",
       "      <td>5.0</td>\n",
       "      <td>1365811200</td>\n",
       "    </tr>\n",
       "    <tr>\n",
       "      <th>1</th>\n",
       "      <td>A2CX7LUOHB2NDG</td>\n",
       "      <td>0321732944</td>\n",
       "      <td>5.0</td>\n",
       "      <td>1341100800</td>\n",
       "    </tr>\n",
       "    <tr>\n",
       "      <th>2</th>\n",
       "      <td>A2NWSAGRHCP8N5</td>\n",
       "      <td>0439886341</td>\n",
       "      <td>1.0</td>\n",
       "      <td>1367193600</td>\n",
       "    </tr>\n",
       "    <tr>\n",
       "      <th>3</th>\n",
       "      <td>A2WNBOD3WNDNKT</td>\n",
       "      <td>0439886341</td>\n",
       "      <td>3.0</td>\n",
       "      <td>1374451200</td>\n",
       "    </tr>\n",
       "    <tr>\n",
       "      <th>4</th>\n",
       "      <td>A1GI0U4ZRJA8WN</td>\n",
       "      <td>0439886341</td>\n",
       "      <td>1.0</td>\n",
       "      <td>1334707200</td>\n",
       "    </tr>\n",
       "  </tbody>\n",
       "</table>\n",
       "</div>"
      ],
      "text/plain": [
       "           userId   productId  rating   timestamp\n",
       "0   AKM1MP6P0OYPR  0132793040     5.0  1365811200\n",
       "1  A2CX7LUOHB2NDG  0321732944     5.0  1341100800\n",
       "2  A2NWSAGRHCP8N5  0439886341     1.0  1367193600\n",
       "3  A2WNBOD3WNDNKT  0439886341     3.0  1374451200\n",
       "4  A1GI0U4ZRJA8WN  0439886341     1.0  1334707200"
      ]
     },
     "execution_count": 57,
     "metadata": {},
     "output_type": "execute_result"
    }
   ],
   "source": [
    "df.head()"
   ]
  },
  {
   "cell_type": "code",
   "execution_count": 58,
   "metadata": {
    "colab": {
     "background_save": true
    },
    "id": "WnHHwr9HBd_b"
   },
   "outputs": [
    {
     "data": {
      "text/plain": [
       "(7824482, 4)"
      ]
     },
     "execution_count": 58,
     "metadata": {},
     "output_type": "execute_result"
    }
   ],
   "source": [
    "df.shape"
   ]
  },
  {
   "cell_type": "code",
   "execution_count": 59,
   "metadata": {
    "colab": {
     "background_save": true
    },
    "id": "zbvp2-tRGwPb"
   },
   "outputs": [
    {
     "data": {
      "text/plain": [
       "Index(['userId', 'productId', 'rating', 'timestamp'], dtype='object')"
      ]
     },
     "execution_count": 59,
     "metadata": {},
     "output_type": "execute_result"
    }
   ],
   "source": [
    "df.columns"
   ]
  },
  {
   "cell_type": "markdown",
   "metadata": {
    "id": "Se6x3DgyFOzs"
   },
   "source": [
    "For analysis, I am choosing a random 20% sample of the complete dataset, or 1564896, because it is quite vast and will be difficult to investigate in its entirety due to resource limitations."
   ]
  },
  {
   "cell_type": "code",
   "execution_count": 60,
   "metadata": {
    "colab": {
     "background_save": true
    },
    "id": "u8xFguv6FOMD"
   },
   "outputs": [],
   "source": [
    "electronics_data=df.sample(n=1564896,ignore_index=True) #Reset the index of the resulting DataFrame after sampling"
   ]
  },
  {
   "cell_type": "code",
   "execution_count": 61,
   "metadata": {
    "colab": {
     "background_save": true
    },
    "id": "7DXvvDhPQswc"
   },
   "outputs": [],
   "source": [
    "#after taking samples drop df to release the memory occupied by entire dataframe\n",
    "del df"
   ]
  },
  {
   "cell_type": "code",
   "execution_count": 62,
   "metadata": {
    "colab": {
     "background_save": true
    },
    "id": "GCQ0j7c9IEPy"
   },
   "outputs": [
    {
     "data": {
      "text/html": [
       "<div>\n",
       "<style scoped>\n",
       "    .dataframe tbody tr th:only-of-type {\n",
       "        vertical-align: middle;\n",
       "    }\n",
       "\n",
       "    .dataframe tbody tr th {\n",
       "        vertical-align: top;\n",
       "    }\n",
       "\n",
       "    .dataframe thead th {\n",
       "        text-align: right;\n",
       "    }\n",
       "</style>\n",
       "<table border=\"1\" class=\"dataframe\">\n",
       "  <thead>\n",
       "    <tr style=\"text-align: right;\">\n",
       "      <th></th>\n",
       "      <th>userId</th>\n",
       "      <th>productId</th>\n",
       "      <th>rating</th>\n",
       "      <th>timestamp</th>\n",
       "    </tr>\n",
       "  </thead>\n",
       "  <tbody>\n",
       "    <tr>\n",
       "      <th>0</th>\n",
       "      <td>A20SHQUMLN5KWQ</td>\n",
       "      <td>B000EPLP3C</td>\n",
       "      <td>5.0</td>\n",
       "      <td>1183507200</td>\n",
       "    </tr>\n",
       "    <tr>\n",
       "      <th>1</th>\n",
       "      <td>A3G6IYBV9SBQ1W</td>\n",
       "      <td>B007KZQM9Q</td>\n",
       "      <td>5.0</td>\n",
       "      <td>1374451200</td>\n",
       "    </tr>\n",
       "    <tr>\n",
       "      <th>2</th>\n",
       "      <td>AVZ73YZHUEXXM</td>\n",
       "      <td>B003ELYQGG</td>\n",
       "      <td>5.0</td>\n",
       "      <td>1365465600</td>\n",
       "    </tr>\n",
       "    <tr>\n",
       "      <th>3</th>\n",
       "      <td>A3LRBQW1O4L72A</td>\n",
       "      <td>B002V15ZGK</td>\n",
       "      <td>5.0</td>\n",
       "      <td>1367539200</td>\n",
       "    </tr>\n",
       "    <tr>\n",
       "      <th>4</th>\n",
       "      <td>A2WA8TDCTGUADI</td>\n",
       "      <td>B000NIKL6W</td>\n",
       "      <td>2.0</td>\n",
       "      <td>1245715200</td>\n",
       "    </tr>\n",
       "  </tbody>\n",
       "</table>\n",
       "</div>"
      ],
      "text/plain": [
       "           userId   productId  rating   timestamp\n",
       "0  A20SHQUMLN5KWQ  B000EPLP3C     5.0  1183507200\n",
       "1  A3G6IYBV9SBQ1W  B007KZQM9Q     5.0  1374451200\n",
       "2   AVZ73YZHUEXXM  B003ELYQGG     5.0  1365465600\n",
       "3  A3LRBQW1O4L72A  B002V15ZGK     5.0  1367539200\n",
       "4  A2WA8TDCTGUADI  B000NIKL6W     2.0  1245715200"
      ]
     },
     "execution_count": 62,
     "metadata": {},
     "output_type": "execute_result"
    }
   ],
   "source": [
    "#print top 5 records of the dataset\n",
    "electronics_data.head()"
   ]
  },
  {
   "cell_type": "code",
   "execution_count": 63,
   "metadata": {
    "colab": {
     "background_save": true
    },
    "id": "WcOMs9uoIInp"
   },
   "outputs": [
    {
     "name": "stdout",
     "output_type": "stream",
     "text": [
      "<class 'pandas.core.frame.DataFrame'>\n",
      "RangeIndex: 1564896 entries, 0 to 1564895\n",
      "Data columns (total 4 columns):\n",
      " #   Column     Non-Null Count    Dtype  \n",
      "---  ------     --------------    -----  \n",
      " 0   userId     1564896 non-null  object \n",
      " 1   productId  1564896 non-null  object \n",
      " 2   rating     1564896 non-null  float64\n",
      " 3   timestamp  1564896 non-null  int64  \n",
      "dtypes: float64(1), int64(1), object(2)\n",
      "memory usage: 47.8+ MB\n"
     ]
    }
   ],
   "source": [
    "#print the concise information of the dataset\n",
    "electronics_data.info()"
   ]
  },
  {
   "cell_type": "code",
   "execution_count": 64,
   "metadata": {
    "colab": {
     "background_save": true
    },
    "id": "5szvwo2zJk2I"
   },
   "outputs": [],
   "source": [
    "#drop timestamp column\n",
    "electronics_data.drop('timestamp',axis=1,inplace=True)"
   ]
  },
  {
   "cell_type": "code",
   "execution_count": 65,
   "metadata": {
    "colab": {
     "background_save": true
    },
    "id": "sziFiaDqISk6"
   },
   "outputs": [
    {
     "data": {
      "text/html": [
       "<div>\n",
       "<style scoped>\n",
       "    .dataframe tbody tr th:only-of-type {\n",
       "        vertical-align: middle;\n",
       "    }\n",
       "\n",
       "    .dataframe tbody tr th {\n",
       "        vertical-align: top;\n",
       "    }\n",
       "\n",
       "    .dataframe thead th {\n",
       "        text-align: right;\n",
       "    }\n",
       "</style>\n",
       "<table border=\"1\" class=\"dataframe\">\n",
       "  <thead>\n",
       "    <tr style=\"text-align: right;\">\n",
       "      <th></th>\n",
       "      <th>rating</th>\n",
       "    </tr>\n",
       "  </thead>\n",
       "  <tbody>\n",
       "    <tr>\n",
       "      <th>count</th>\n",
       "      <td>1.564896e+06</td>\n",
       "    </tr>\n",
       "    <tr>\n",
       "      <th>mean</th>\n",
       "      <td>4.011103e+00</td>\n",
       "    </tr>\n",
       "    <tr>\n",
       "      <th>std</th>\n",
       "      <td>1.382110e+00</td>\n",
       "    </tr>\n",
       "    <tr>\n",
       "      <th>min</th>\n",
       "      <td>1.000000e+00</td>\n",
       "    </tr>\n",
       "    <tr>\n",
       "      <th>25%</th>\n",
       "      <td>3.000000e+00</td>\n",
       "    </tr>\n",
       "    <tr>\n",
       "      <th>50%</th>\n",
       "      <td>5.000000e+00</td>\n",
       "    </tr>\n",
       "    <tr>\n",
       "      <th>75%</th>\n",
       "      <td>5.000000e+00</td>\n",
       "    </tr>\n",
       "    <tr>\n",
       "      <th>max</th>\n",
       "      <td>5.000000e+00</td>\n",
       "    </tr>\n",
       "  </tbody>\n",
       "</table>\n",
       "</div>"
      ],
      "text/plain": [
       "             rating\n",
       "count  1.564896e+06\n",
       "mean   4.011103e+00\n",
       "std    1.382110e+00\n",
       "min    1.000000e+00\n",
       "25%    3.000000e+00\n",
       "50%    5.000000e+00\n",
       "75%    5.000000e+00\n",
       "max    5.000000e+00"
      ]
     },
     "execution_count": 65,
     "metadata": {},
     "output_type": "execute_result"
    }
   ],
   "source": [
    "#generate descriptive statistics.\n",
    "electronics_data.describe()"
   ]
  },
  {
   "cell_type": "markdown",
   "metadata": {
    "id": "65_4Ny1wIluD"
   },
   "source": [
    "As we can see minimum rating of the products is 1 , maximum rating is 5 and average rating of the products is around 4."
   ]
  },
  {
   "cell_type": "code",
   "execution_count": 66,
   "metadata": {
    "colab": {
     "background_save": true
    },
    "id": "mYQSDgBmIzwY"
   },
   "outputs": [
    {
     "data": {
      "text/plain": [
       "userId       0\n",
       "productId    0\n",
       "rating       0\n",
       "dtype: int64"
      ]
     },
     "execution_count": 66,
     "metadata": {},
     "output_type": "execute_result"
    }
   ],
   "source": [
    "#handle missing values\n",
    "electronics_data.isnull().sum()"
   ]
  },
  {
   "cell_type": "code",
   "execution_count": 67,
   "metadata": {
    "colab": {
     "background_save": true
    },
    "id": "9DgA6FcxJXgz"
   },
   "outputs": [
    {
     "data": {
      "text/plain": [
       "0"
      ]
     },
     "execution_count": 67,
     "metadata": {},
     "output_type": "execute_result"
    }
   ],
   "source": [
    "#handling duplicate records\n",
    "electronics_data[electronics_data.duplicated()].shape[0]"
   ]
  },
  {
   "cell_type": "code",
   "execution_count": 68,
   "metadata": {
    "colab": {
     "background_save": true
    },
    "id": "IbIVcC2cK7QK"
   },
   "outputs": [
    {
     "data": {
      "text/html": [
       "<div>\n",
       "<style scoped>\n",
       "    .dataframe tbody tr th:only-of-type {\n",
       "        vertical-align: middle;\n",
       "    }\n",
       "\n",
       "    .dataframe tbody tr th {\n",
       "        vertical-align: top;\n",
       "    }\n",
       "\n",
       "    .dataframe thead th {\n",
       "        text-align: right;\n",
       "    }\n",
       "</style>\n",
       "<table border=\"1\" class=\"dataframe\">\n",
       "  <thead>\n",
       "    <tr style=\"text-align: right;\">\n",
       "      <th></th>\n",
       "      <th>userId</th>\n",
       "      <th>productId</th>\n",
       "      <th>rating</th>\n",
       "    </tr>\n",
       "  </thead>\n",
       "  <tbody>\n",
       "    <tr>\n",
       "      <th>0</th>\n",
       "      <td>A20SHQUMLN5KWQ</td>\n",
       "      <td>B000EPLP3C</td>\n",
       "      <td>5.0</td>\n",
       "    </tr>\n",
       "    <tr>\n",
       "      <th>1</th>\n",
       "      <td>A3G6IYBV9SBQ1W</td>\n",
       "      <td>B007KZQM9Q</td>\n",
       "      <td>5.0</td>\n",
       "    </tr>\n",
       "    <tr>\n",
       "      <th>2</th>\n",
       "      <td>AVZ73YZHUEXXM</td>\n",
       "      <td>B003ELYQGG</td>\n",
       "      <td>5.0</td>\n",
       "    </tr>\n",
       "    <tr>\n",
       "      <th>3</th>\n",
       "      <td>A3LRBQW1O4L72A</td>\n",
       "      <td>B002V15ZGK</td>\n",
       "      <td>5.0</td>\n",
       "    </tr>\n",
       "    <tr>\n",
       "      <th>4</th>\n",
       "      <td>A2WA8TDCTGUADI</td>\n",
       "      <td>B000NIKL6W</td>\n",
       "      <td>2.0</td>\n",
       "    </tr>\n",
       "  </tbody>\n",
       "</table>\n",
       "</div>"
      ],
      "text/plain": [
       "           userId   productId  rating\n",
       "0  A20SHQUMLN5KWQ  B000EPLP3C     5.0\n",
       "1  A3G6IYBV9SBQ1W  B007KZQM9Q     5.0\n",
       "2   AVZ73YZHUEXXM  B003ELYQGG     5.0\n",
       "3  A3LRBQW1O4L72A  B002V15ZGK     5.0\n",
       "4  A2WA8TDCTGUADI  B000NIKL6W     2.0"
      ]
     },
     "execution_count": 68,
     "metadata": {},
     "output_type": "execute_result"
    }
   ],
   "source": [
    "electronics_data.head()"
   ]
  },
  {
   "cell_type": "code",
   "execution_count": 69,
   "metadata": {},
   "outputs": [
    {
     "data": {
      "text/plain": [
       "count    1.564896e+06\n",
       "mean     4.011103e+00\n",
       "std      1.382110e+00\n",
       "min      1.000000e+00\n",
       "25%      3.000000e+00\n",
       "50%      5.000000e+00\n",
       "75%      5.000000e+00\n",
       "max      5.000000e+00\n",
       "Name: rating, dtype: float64"
      ]
     },
     "execution_count": 69,
     "metadata": {},
     "output_type": "execute_result"
    }
   ],
   "source": [
    "#generate descriptive statistics for ratings.\n",
    "electronics_data['rating'].describe()"
   ]
  },
  {
   "cell_type": "code",
   "execution_count": 70,
   "metadata": {},
   "outputs": [
    {
     "data": {
      "text/plain": [
       "array([5., 2., 4., 3., 1.])"
      ]
     },
     "execution_count": 70,
     "metadata": {},
     "output_type": "execute_result"
    }
   ],
   "source": [
    "#get the unique ratings\n",
    "electronics_data['rating'].unique()"
   ]
  },
  {
   "cell_type": "code",
   "execution_count": 71,
   "metadata": {},
   "outputs": [
    {
     "data": {
      "text/plain": [
       "rating\n",
       "5.0    869601\n",
       "4.0    296108\n",
       "1.0    180797\n",
       "3.0    126945\n",
       "2.0     91445\n",
       "Name: count, dtype: int64"
      ]
     },
     "execution_count": 71,
     "metadata": {},
     "output_type": "execute_result"
    }
   ],
   "source": [
    "#get the unique count of each rating\n",
    "electronics_data['rating'].value_counts()"
   ]
  },
  {
   "cell_type": "code",
   "execution_count": 72,
   "metadata": {
    "colab": {
     "background_save": true
    },
    "id": "JO_2nZ5ePEh2"
   },
   "outputs": [
    {
     "data": {
      "image/png": "[encoded data removed]",
      "text/plain": [
       "<Figure size 800x400 with 1 Axes>"
      ]
     },
     "metadata": {},
     "output_type": "display_data"
    }
   ],
   "source": [
    "#plots a bar chart showing the count of each unique value in the rating\n",
    "plt.figure(figsize=(8,4))\n",
    "sns.countplot(x='rating',data=electronics_data)\n",
    "plt.title('Rating Distribution')\n",
    "plt.xlabel('Rating')\n",
    "plt.ylabel('Count')\n",
    "plt.grid()\n",
    "plt.show()"
   ]
  },
  {
   "cell_type": "markdown",
   "metadata": {
    "id": "LyWqed7fRYAR"
   },
   "source": [
    "most of the user have given 5 rating"
   ]
  },
  {
   "cell_type": "code",
   "execution_count": 73,
   "metadata": {
    "colab": {
     "background_save": true
    },
    "id": "IMk9X21zRUPk"
   },
   "outputs": [
    {
     "name": "stdout",
     "output_type": "stream",
     "text": [
      "Total rating :  1564896\n",
      "Total unique users :  1225839\n",
      "Total unique products :  237597\n"
     ]
    }
   ],
   "source": [
    "print('Total rating : ',electronics_data.shape[0])\n",
    "print('Total unique users : ',electronics_data['userId'].unique().shape[0])\n",
    "print('Total unique products : ',electronics_data['productId'].unique().shape[0])"
   ]
  },
  {
   "cell_type": "markdown",
   "metadata": {
    "id": "usv4Fs4lTSx4"
   },
   "source": [
    "count how many ratings each user has made"
   ]
  },
  {
   "cell_type": "code",
   "execution_count": 74,
   "metadata": {
    "colab": {
     "background_save": true
    },
    "id": "-bdCfmadSFGE"
   },
   "outputs": [
    {
     "data": {
      "text/plain": [
       "userId\n",
       "A3OXHLG6DIBRW8    104\n",
       "ADLVFFE4VBT8       92\n",
       "A680RUE1FDO8B      90\n",
       "A5JLAU2ARJ0BO      85\n",
       "A1ODOGXEYECQQ8     80\n",
       "A6FIAB28IS79       78\n",
       "ARBKYIVNYWK3C      75\n",
       "AWPODHOB4GFWL      66\n",
       "A36K2N527TXXJN     64\n",
       "A2AY4YUOX2N1BQ     63\n",
       "Name: rating, dtype: int64"
      ]
     },
     "execution_count": 74,
     "metadata": {},
     "output_type": "execute_result"
    }
   ],
   "source": [
    "#count of products rated by each user, sorted in descending order.\n",
    "no_of_rated_products_per_user = electronics_data.groupby(by='userId')['rating'].count().sort_values(ascending=False) #counts how many non-null entries exist in the rating column for each userId group\n",
    "no_of_rated_products_per_user.head(10)"
   ]
  },
  {
   "cell_type": "code",
   "execution_count": 75,
   "metadata": {
    "colab": {
     "background_save": true
    },
    "id": "3Q0dHH_vUOC1"
   },
   "outputs": [
    {
     "name": "stdout",
     "output_type": "stream",
     "text": [
      "No of rated product more than 50 per user : 24\n"
     ]
    }
   ],
   "source": [
    "print(f'No of rated product more than 50 per user : {sum(no_of_rated_products_per_user >= 50)}')"
   ]
  },
  {
   "cell_type": "markdown",
   "metadata": {
    "id": "O9NxjJNsX_jW"
   },
   "source": [
    "**Popularity Based Recommendation**\n",
    "\n",
    "Popularity based recommendation system works with the trend. It basically uses the items which are in trend right now. For example, if any product which is usually bought by every new user then there are chances that it may suggest that item to the user who just signed up.\n",
    "\n",
    "The problems with popularity based recommendation system is that the personalization is not available with this method i.e. even though you know the behaviour of the user but you cannot recommend items accordingly."
   ]
  },
  {
   "cell_type": "code",
   "execution_count": 76,
   "metadata": {
    "colab": {
     "background_save": true
    },
    "id": "efa0q7SPV6pR"
   },
   "outputs": [],
   "source": [
    "#filter out products that have atleast 50 ratings.\n",
    "#products with very few ratings might not provide enough data for effective recommendation modeling and are often excluded to improve model quality.\n",
    "data=electronics_data.groupby('productId').filter(lambda x:x['rating'].count()>=50)"
   ]
  },
  {
   "cell_type": "code",
   "execution_count": 77,
   "metadata": {},
   "outputs": [],
   "source": [
    "#remove users who have rated very few products (e.g., less than 5 ratings) or products with very few ratings.\n",
    "# data = data.groupby('userId').filter(lambda x: len(x) > 5)  \n",
    "# data = data.groupby('productId').filter(lambda x: len(x) > 5)  "
   ]
  },
  {
   "cell_type": "code",
   "execution_count": 78,
   "metadata": {
    "colab": {
     "background_save": true
    },
    "id": "pscWKHXoQimo"
   },
   "outputs": [
    {
     "data": {
      "text/html": [
       "<div>\n",
       "<style scoped>\n",
       "    .dataframe tbody tr th:only-of-type {\n",
       "        vertical-align: middle;\n",
       "    }\n",
       "\n",
       "    .dataframe tbody tr th {\n",
       "        vertical-align: top;\n",
       "    }\n",
       "\n",
       "    .dataframe thead th {\n",
       "        text-align: right;\n",
       "    }\n",
       "</style>\n",
       "<table border=\"1\" class=\"dataframe\">\n",
       "  <thead>\n",
       "    <tr style=\"text-align: right;\">\n",
       "      <th></th>\n",
       "      <th>userId</th>\n",
       "      <th>productId</th>\n",
       "      <th>rating</th>\n",
       "    </tr>\n",
       "  </thead>\n",
       "  <tbody>\n",
       "    <tr>\n",
       "      <th>0</th>\n",
       "      <td>A20SHQUMLN5KWQ</td>\n",
       "      <td>B000EPLP3C</td>\n",
       "      <td>5.0</td>\n",
       "    </tr>\n",
       "    <tr>\n",
       "      <th>2</th>\n",
       "      <td>AVZ73YZHUEXXM</td>\n",
       "      <td>B003ELYQGG</td>\n",
       "      <td>5.0</td>\n",
       "    </tr>\n",
       "    <tr>\n",
       "      <th>6</th>\n",
       "      <td>A3CZZHHQ1P7YSK</td>\n",
       "      <td>B00141AYIC</td>\n",
       "      <td>5.0</td>\n",
       "    </tr>\n",
       "    <tr>\n",
       "      <th>8</th>\n",
       "      <td>A2SCEWWILKJM0H</td>\n",
       "      <td>B001D60LG8</td>\n",
       "      <td>5.0</td>\n",
       "    </tr>\n",
       "    <tr>\n",
       "      <th>11</th>\n",
       "      <td>A3C3TSVMSQ4W0U</td>\n",
       "      <td>B003O1UYHG</td>\n",
       "      <td>5.0</td>\n",
       "    </tr>\n",
       "  </tbody>\n",
       "</table>\n",
       "</div>"
      ],
      "text/plain": [
       "            userId   productId  rating\n",
       "0   A20SHQUMLN5KWQ  B000EPLP3C     5.0\n",
       "2    AVZ73YZHUEXXM  B003ELYQGG     5.0\n",
       "6   A3CZZHHQ1P7YSK  B00141AYIC     5.0\n",
       "8   A2SCEWWILKJM0H  B001D60LG8     5.0\n",
       "11  A3C3TSVMSQ4W0U  B003O1UYHG     5.0"
      ]
     },
     "execution_count": 78,
     "metadata": {},
     "output_type": "execute_result"
    }
   ],
   "source": [
    "data.head()"
   ]
  },
  {
   "cell_type": "code",
   "execution_count": 79,
   "metadata": {
    "colab": {
     "background_save": true
    },
    "id": "rMeQMAzgZvMM"
   },
   "outputs": [],
   "source": [
    "#get no of ratings per filtered products\n",
    "no_of_rating_per_product=data.groupby('productId')['rating'].count().sort_values(ascending=False)"
   ]
  },
  {
   "cell_type": "code",
   "execution_count": 80,
   "metadata": {
    "colab": {
     "background_save": true
    },
    "id": "rmqAKxUMQ4Eh"
   },
   "outputs": [
    {
     "data": {
      "text/plain": [
       "productId\n",
       "B0074BW614    3688\n",
       "B00DR0PDNE    3334\n",
       "B007WTAJTO    2820\n",
       "B006GWO5WK    2472\n",
       "B0019EHU8G    2408\n",
       "B003ELYQGG    2381\n",
       "B003ES5ZUU    2011\n",
       "B00622AG6S    1979\n",
       "B0002L5R78    1912\n",
       "B007R5YDYA    1903\n",
       "Name: rating, dtype: int64"
      ]
     },
     "execution_count": 80,
     "metadata": {},
     "output_type": "execute_result"
    }
   ],
   "source": [
    "no_of_rating_per_product.head(10).sort_values(ascending=False)"
   ]
  },
  {
   "cell_type": "code",
   "execution_count": 81,
   "metadata": {
    "colab": {
     "background_save": true
    },
    "id": "Bi4Tr7zAaPOv"
   },
   "outputs": [
    {
     "data": {
      "image/png": "[encoded data removed]",
      "text/plain": [
       "<Figure size 640x480 with 1 Axes>"
      ]
     },
     "metadata": {},
     "output_type": "display_data"
    }
   ],
   "source": [
    "#top 20 product\n",
    "no_of_rating_per_product.head(20).plot(kind='bar')\n",
    "plt.xlabel('Product ID')\n",
    "plt.ylabel('num of rating')\n",
    "plt.title('top 20 procduct')\n",
    "plt.show()"
   ]
  },
  {
   "cell_type": "markdown",
   "metadata": {},
   "source": [
    "**Insight from above graph**\n",
    "\n",
    "Product with high ratings counts may indicate popularity, making them good candidates for feature testing in the recommendation model."
   ]
  },
  {
   "cell_type": "code",
   "execution_count": 82,
   "metadata": {},
   "outputs": [],
   "source": [
    "#products with a high average rating may indicate high user satisfaction\n",
    "product_mean_rating_with_count = pd.DataFrame(data.groupby('productId').agg(\n",
    "    mean_rating=('rating', 'mean'),\n",
    "    count=('rating', 'size')\n",
    ").sort_values(by='mean_rating', ascending=False))"
   ]
  },
  {
   "cell_type": "code",
   "execution_count": 83,
   "metadata": {},
   "outputs": [
    {
     "data": {
      "text/html": [
       "<div>\n",
       "<style scoped>\n",
       "    .dataframe tbody tr th:only-of-type {\n",
       "        vertical-align: middle;\n",
       "    }\n",
       "\n",
       "    .dataframe tbody tr th {\n",
       "        vertical-align: top;\n",
       "    }\n",
       "\n",
       "    .dataframe thead th {\n",
       "        text-align: right;\n",
       "    }\n",
       "</style>\n",
       "<table border=\"1\" class=\"dataframe\">\n",
       "  <thead>\n",
       "    <tr style=\"text-align: right;\">\n",
       "      <th></th>\n",
       "      <th>mean_rating</th>\n",
       "      <th>count</th>\n",
       "    </tr>\n",
       "    <tr>\n",
       "      <th>productId</th>\n",
       "      <th></th>\n",
       "      <th></th>\n",
       "    </tr>\n",
       "  </thead>\n",
       "  <tbody>\n",
       "    <tr>\n",
       "      <th>B008VGCT9K</th>\n",
       "      <td>4.966102</td>\n",
       "      <td>59</td>\n",
       "    </tr>\n",
       "    <tr>\n",
       "      <th>B0029N3U8K</th>\n",
       "      <td>4.943262</td>\n",
       "      <td>141</td>\n",
       "    </tr>\n",
       "    <tr>\n",
       "      <th>B005KWHJES</th>\n",
       "      <td>4.933333</td>\n",
       "      <td>75</td>\n",
       "    </tr>\n",
       "    <tr>\n",
       "      <th>B00004XOM3</th>\n",
       "      <td>4.925926</td>\n",
       "      <td>54</td>\n",
       "    </tr>\n",
       "    <tr>\n",
       "      <th>B009WA115M</th>\n",
       "      <td>4.915966</td>\n",
       "      <td>119</td>\n",
       "    </tr>\n",
       "    <tr>\n",
       "      <th>B00125Y0NU</th>\n",
       "      <td>4.913043</td>\n",
       "      <td>115</td>\n",
       "    </tr>\n",
       "    <tr>\n",
       "      <th>B005LS2J14</th>\n",
       "      <td>4.909091</td>\n",
       "      <td>55</td>\n",
       "    </tr>\n",
       "    <tr>\n",
       "      <th>B0041OYTJE</th>\n",
       "      <td>4.906250</td>\n",
       "      <td>96</td>\n",
       "    </tr>\n",
       "    <tr>\n",
       "      <th>B0060B7NCG</th>\n",
       "      <td>4.901639</td>\n",
       "      <td>122</td>\n",
       "    </tr>\n",
       "    <tr>\n",
       "      <th>B007SZ0E1K</th>\n",
       "      <td>4.898734</td>\n",
       "      <td>79</td>\n",
       "    </tr>\n",
       "  </tbody>\n",
       "</table>\n",
       "</div>"
      ],
      "text/plain": [
       "            mean_rating  count\n",
       "productId                     \n",
       "B008VGCT9K     4.966102     59\n",
       "B0029N3U8K     4.943262    141\n",
       "B005KWHJES     4.933333     75\n",
       "B00004XOM3     4.925926     54\n",
       "B009WA115M     4.915966    119\n",
       "B00125Y0NU     4.913043    115\n",
       "B005LS2J14     4.909091     55\n",
       "B0041OYTJE     4.906250     96\n",
       "B0060B7NCG     4.901639    122\n",
       "B007SZ0E1K     4.898734     79"
      ]
     },
     "execution_count": 83,
     "metadata": {},
     "output_type": "execute_result"
    }
   ],
   "source": [
    "product_mean_rating_with_count.head(10)"
   ]
  },
  {
   "cell_type": "code",
   "execution_count": 84,
   "metadata": {
    "colab": {
     "background_save": true
    },
    "id": "_yLKpRtpb1jR"
   },
   "outputs": [],
   "source": [
    "#average rating product\n",
    "mean_rating_product_count=pd.DataFrame(data.groupby('productId')['rating'].mean().sort_values(ascending=False))"
   ]
  },
  {
   "cell_type": "code",
   "execution_count": 85,
   "metadata": {
    "colab": {
     "background_save": true
    },
    "id": "Oz3s4UJXRYd1"
   },
   "outputs": [
    {
     "data": {
      "text/html": [
       "<div>\n",
       "<style scoped>\n",
       "    .dataframe tbody tr th:only-of-type {\n",
       "        vertical-align: middle;\n",
       "    }\n",
       "\n",
       "    .dataframe tbody tr th {\n",
       "        vertical-align: top;\n",
       "    }\n",
       "\n",
       "    .dataframe thead th {\n",
       "        text-align: right;\n",
       "    }\n",
       "</style>\n",
       "<table border=\"1\" class=\"dataframe\">\n",
       "  <thead>\n",
       "    <tr style=\"text-align: right;\">\n",
       "      <th></th>\n",
       "      <th>rating</th>\n",
       "    </tr>\n",
       "    <tr>\n",
       "      <th>productId</th>\n",
       "      <th></th>\n",
       "    </tr>\n",
       "  </thead>\n",
       "  <tbody>\n",
       "    <tr>\n",
       "      <th>B008VGCT9K</th>\n",
       "      <td>4.966102</td>\n",
       "    </tr>\n",
       "    <tr>\n",
       "      <th>B0029N3U8K</th>\n",
       "      <td>4.943262</td>\n",
       "    </tr>\n",
       "    <tr>\n",
       "      <th>B005KWHJES</th>\n",
       "      <td>4.933333</td>\n",
       "    </tr>\n",
       "    <tr>\n",
       "      <th>B00004XOM3</th>\n",
       "      <td>4.925926</td>\n",
       "    </tr>\n",
       "    <tr>\n",
       "      <th>B009WA115M</th>\n",
       "      <td>4.915966</td>\n",
       "    </tr>\n",
       "    <tr>\n",
       "      <th>B00125Y0NU</th>\n",
       "      <td>4.913043</td>\n",
       "    </tr>\n",
       "    <tr>\n",
       "      <th>B005LS2J14</th>\n",
       "      <td>4.909091</td>\n",
       "    </tr>\n",
       "    <tr>\n",
       "      <th>B0041OYTJE</th>\n",
       "      <td>4.906250</td>\n",
       "    </tr>\n",
       "    <tr>\n",
       "      <th>B0060B7NCG</th>\n",
       "      <td>4.901639</td>\n",
       "    </tr>\n",
       "    <tr>\n",
       "      <th>B007SZ0E1K</th>\n",
       "      <td>4.898734</td>\n",
       "    </tr>\n",
       "  </tbody>\n",
       "</table>\n",
       "</div>"
      ],
      "text/plain": [
       "              rating\n",
       "productId           \n",
       "B008VGCT9K  4.966102\n",
       "B0029N3U8K  4.943262\n",
       "B005KWHJES  4.933333\n",
       "B00004XOM3  4.925926\n",
       "B009WA115M  4.915966\n",
       "B00125Y0NU  4.913043\n",
       "B005LS2J14  4.909091\n",
       "B0041OYTJE  4.906250\n",
       "B0060B7NCG  4.901639\n",
       "B007SZ0E1K  4.898734"
      ]
     },
     "execution_count": 85,
     "metadata": {},
     "output_type": "execute_result"
    }
   ],
   "source": [
    "mean_rating_product_count.head(10)"
   ]
  },
  {
   "cell_type": "code",
   "execution_count": 86,
   "metadata": {
    "colab": {
     "background_save": true
    },
    "id": "tRjXYsRAdxoa"
   },
   "outputs": [
    {
     "data": {
      "image/png": "[encoded data removed]",
      "text/plain": [
       "<Figure size 800x400 with 1 Axes>"
      ]
     },
     "metadata": {},
     "output_type": "display_data"
    }
   ],
   "source": [
    "#plot the rating distribution of average rating product\n",
    "plt.figure(figsize=(8,4))\n",
    "plt.hist(mean_rating_product_count['rating'],bins=100)\n",
    "plt.title('Mean Rating distribution')\n",
    "plt.xlabel('Average product ratings')\n",
    "plt.ylabel('Frequency (the number of products)')\n",
    "plt.xlim(2, 5)\n",
    "plt.show()"
   ]
  },
  {
   "cell_type": "markdown",
   "metadata": {},
   "source": [
    "**Key Observations from the graph**\n",
    "* The majority of the product ratings are concentrated between 3.5 and 4.5, with a noticeable peak around 4.0. This suggests that most products are rated positively.\n",
    "* There are fewer products with very low ratings (e.g., below 2.5) and very high ratings (near 5.0).\n",
    "* The distribution appears to be slightly left-skewed, indicating that while most products tend to have above-average ratings, a small number of products with lower ratings pull the distribution slightly to the left"
   ]
  },
  {
   "cell_type": "code",
   "execution_count": 87,
   "metadata": {
    "colab": {
     "background_save": true
    },
    "id": "0tq4fLQdeZT4"
   },
   "outputs": [
    {
     "data": {
      "text/plain": [
       "-0.8990713315173332"
      ]
     },
     "execution_count": 87,
     "metadata": {},
     "output_type": "execute_result"
    }
   ],
   "source": [
    "#check the skewness of the mean rating data\n",
    "mean_rating_product_count['rating'].skew()"
   ]
  },
  {
   "cell_type": "markdown",
   "metadata": {
    "colab": {
     "background_save": true
    },
    "id": "LtTHQx8xesOP"
   },
   "source": [
    "**Key Observation from the skeweness**\n",
    "\n",
    "* the skewness is negative, indicating that the distribution of the mean product ratings is slightly left-skewed.\n",
    "* there is a tendency for a small number of products to have lower average ratings (e.g., closer to 2.0 or 3.0).\n",
    "\n",
    "**Implications**\n",
    "\n",
    "* the distribution is not symmetric but slightly skewed toward lower ratings.\n",
    "* this could imply that while most products receive good ratings, there are a few products with significantly lower ratings that pull the mean rating distribution slightly to the left."
   ]
  },
  {
   "cell_type": "code",
   "execution_count": 88,
   "metadata": {
    "colab": {
     "background_save": true
    },
    "id": "AVTwZ7_McjMW"
   },
   "outputs": [],
   "source": [
    "mean_rating_product_count['rating_counts'] = pd.DataFrame(data.groupby('productId')['rating'].count())"
   ]
  },
  {
   "cell_type": "code",
   "execution_count": 89,
   "metadata": {},
   "outputs": [
    {
     "data": {
      "text/html": [
       "<div>\n",
       "<style scoped>\n",
       "    .dataframe tbody tr th:only-of-type {\n",
       "        vertical-align: middle;\n",
       "    }\n",
       "\n",
       "    .dataframe tbody tr th {\n",
       "        vertical-align: top;\n",
       "    }\n",
       "\n",
       "    .dataframe thead th {\n",
       "        text-align: right;\n",
       "    }\n",
       "</style>\n",
       "<table border=\"1\" class=\"dataframe\">\n",
       "  <thead>\n",
       "    <tr style=\"text-align: right;\">\n",
       "      <th></th>\n",
       "      <th>rating</th>\n",
       "      <th>rating_counts</th>\n",
       "    </tr>\n",
       "    <tr>\n",
       "      <th>productId</th>\n",
       "      <th></th>\n",
       "      <th></th>\n",
       "    </tr>\n",
       "  </thead>\n",
       "  <tbody>\n",
       "    <tr>\n",
       "      <th>B008VGCT9K</th>\n",
       "      <td>4.966102</td>\n",
       "      <td>59</td>\n",
       "    </tr>\n",
       "    <tr>\n",
       "      <th>B0029N3U8K</th>\n",
       "      <td>4.943262</td>\n",
       "      <td>141</td>\n",
       "    </tr>\n",
       "    <tr>\n",
       "      <th>B005KWHJES</th>\n",
       "      <td>4.933333</td>\n",
       "      <td>75</td>\n",
       "    </tr>\n",
       "    <tr>\n",
       "      <th>B00004XOM3</th>\n",
       "      <td>4.925926</td>\n",
       "      <td>54</td>\n",
       "    </tr>\n",
       "    <tr>\n",
       "      <th>B009WA115M</th>\n",
       "      <td>4.915966</td>\n",
       "      <td>119</td>\n",
       "    </tr>\n",
       "  </tbody>\n",
       "</table>\n",
       "</div>"
      ],
      "text/plain": [
       "              rating  rating_counts\n",
       "productId                          \n",
       "B008VGCT9K  4.966102             59\n",
       "B0029N3U8K  4.943262            141\n",
       "B005KWHJES  4.933333             75\n",
       "B00004XOM3  4.925926             54\n",
       "B009WA115M  4.915966            119"
      ]
     },
     "execution_count": 89,
     "metadata": {},
     "output_type": "execute_result"
    }
   ],
   "source": [
    "popular_high_rated = mean_rating_product_count[mean_rating_product_count['rating_counts'] >= 50]\n",
    "popular_high_rated.head()"
   ]
  },
  {
   "cell_type": "code",
   "execution_count": 90,
   "metadata": {
    "colab": {
     "background_save": true
    },
    "id": "HcBx-oFjbu0_"
   },
   "outputs": [
    {
     "data": {
      "text/html": [
       "<div>\n",
       "<style scoped>\n",
       "    .dataframe tbody tr th:only-of-type {\n",
       "        vertical-align: middle;\n",
       "    }\n",
       "\n",
       "    .dataframe tbody tr th {\n",
       "        vertical-align: top;\n",
       "    }\n",
       "\n",
       "    .dataframe thead th {\n",
       "        text-align: right;\n",
       "    }\n",
       "</style>\n",
       "<table border=\"1\" class=\"dataframe\">\n",
       "  <thead>\n",
       "    <tr style=\"text-align: right;\">\n",
       "      <th></th>\n",
       "      <th>rating</th>\n",
       "      <th>rating_counts</th>\n",
       "    </tr>\n",
       "    <tr>\n",
       "      <th>productId</th>\n",
       "      <th></th>\n",
       "      <th></th>\n",
       "    </tr>\n",
       "  </thead>\n",
       "  <tbody>\n",
       "    <tr>\n",
       "      <th>B0029N3U8K</th>\n",
       "      <td>4.943262</td>\n",
       "      <td>141</td>\n",
       "    </tr>\n",
       "    <tr>\n",
       "      <th>B009WA115M</th>\n",
       "      <td>4.915966</td>\n",
       "      <td>119</td>\n",
       "    </tr>\n",
       "    <tr>\n",
       "      <th>B005KWHJES</th>\n",
       "      <td>4.933333</td>\n",
       "      <td>75</td>\n",
       "    </tr>\n",
       "    <tr>\n",
       "      <th>B008VGCT9K</th>\n",
       "      <td>4.966102</td>\n",
       "      <td>59</td>\n",
       "    </tr>\n",
       "    <tr>\n",
       "      <th>B00004XOM3</th>\n",
       "      <td>4.925926</td>\n",
       "      <td>54</td>\n",
       "    </tr>\n",
       "  </tbody>\n",
       "</table>\n",
       "</div>"
      ],
      "text/plain": [
       "              rating  rating_counts\n",
       "productId                          \n",
       "B0029N3U8K  4.943262            141\n",
       "B009WA115M  4.915966            119\n",
       "B005KWHJES  4.933333             75\n",
       "B008VGCT9K  4.966102             59\n",
       "B00004XOM3  4.925926             54"
      ]
     },
     "execution_count": 90,
     "metadata": {},
     "output_type": "execute_result"
    }
   ],
   "source": [
    "mean_rating_product_count.head().sort_values(['rating_counts'], ascending=False)"
   ]
  },
  {
   "cell_type": "code",
   "execution_count": 91,
   "metadata": {
    "colab": {
     "background_save": true
    },
    "id": "G1VvJfy3glwn"
   },
   "outputs": [
    {
     "data": {
      "text/html": [
       "<div>\n",
       "<style scoped>\n",
       "    .dataframe tbody tr th:only-of-type {\n",
       "        vertical-align: middle;\n",
       "    }\n",
       "\n",
       "    .dataframe tbody tr th {\n",
       "        vertical-align: top;\n",
       "    }\n",
       "\n",
       "    .dataframe thead th {\n",
       "        text-align: right;\n",
       "    }\n",
       "</style>\n",
       "<table border=\"1\" class=\"dataframe\">\n",
       "  <thead>\n",
       "    <tr style=\"text-align: right;\">\n",
       "      <th></th>\n",
       "      <th>rating</th>\n",
       "      <th>rating_counts</th>\n",
       "    </tr>\n",
       "    <tr>\n",
       "      <th>productId</th>\n",
       "      <th></th>\n",
       "      <th></th>\n",
       "    </tr>\n",
       "  </thead>\n",
       "  <tbody>\n",
       "    <tr>\n",
       "      <th>B0074BW614</th>\n",
       "      <td>4.485358</td>\n",
       "      <td>3688</td>\n",
       "    </tr>\n",
       "  </tbody>\n",
       "</table>\n",
       "</div>"
      ],
      "text/plain": [
       "              rating  rating_counts\n",
       "productId                          \n",
       "B0074BW614  4.485358           3688"
      ]
     },
     "execution_count": 91,
     "metadata": {},
     "output_type": "execute_result"
    }
   ],
   "source": [
    "#find the product(s) with the highest number of ratings\n",
    "mean_rating_product_count[mean_rating_product_count['rating_counts']==mean_rating_product_count['rating_counts'].max()]"
   ]
  },
  {
   "cell_type": "code",
   "execution_count": 92,
   "metadata": {},
   "outputs": [
    {
     "data": {
      "text/html": [
       "<div>\n",
       "<style scoped>\n",
       "    .dataframe tbody tr th:only-of-type {\n",
       "        vertical-align: middle;\n",
       "    }\n",
       "\n",
       "    .dataframe tbody tr th {\n",
       "        vertical-align: top;\n",
       "    }\n",
       "\n",
       "    .dataframe thead th {\n",
       "        text-align: right;\n",
       "    }\n",
       "</style>\n",
       "<table border=\"1\" class=\"dataframe\">\n",
       "  <thead>\n",
       "    <tr style=\"text-align: right;\">\n",
       "      <th></th>\n",
       "      <th>rating</th>\n",
       "      <th>rating_counts</th>\n",
       "    </tr>\n",
       "    <tr>\n",
       "      <th>productId</th>\n",
       "      <th></th>\n",
       "      <th></th>\n",
       "    </tr>\n",
       "  </thead>\n",
       "  <tbody>\n",
       "    <tr>\n",
       "      <th>B002XN3OL4</th>\n",
       "      <td>4.86</td>\n",
       "      <td>50</td>\n",
       "    </tr>\n",
       "    <tr>\n",
       "      <th>B000U9ZCS6</th>\n",
       "      <td>4.78</td>\n",
       "      <td>50</td>\n",
       "    </tr>\n",
       "    <tr>\n",
       "      <th>B00IDG3IDO</th>\n",
       "      <td>4.74</td>\n",
       "      <td>50</td>\n",
       "    </tr>\n",
       "    <tr>\n",
       "      <th>B002A6H72Q</th>\n",
       "      <td>4.72</td>\n",
       "      <td>50</td>\n",
       "    </tr>\n",
       "    <tr>\n",
       "      <th>B00005AXHW</th>\n",
       "      <td>4.68</td>\n",
       "      <td>50</td>\n",
       "    </tr>\n",
       "  </tbody>\n",
       "</table>\n",
       "</div>"
      ],
      "text/plain": [
       "            rating  rating_counts\n",
       "productId                        \n",
       "B002XN3OL4    4.86             50\n",
       "B000U9ZCS6    4.78             50\n",
       "B00IDG3IDO    4.74             50\n",
       "B002A6H72Q    4.72             50\n",
       "B00005AXHW    4.68             50"
      ]
     },
     "execution_count": 92,
     "metadata": {},
     "output_type": "execute_result"
    }
   ],
   "source": [
    "#find the product(s) with the lowet number of ratings\n",
    "mean_rating_product_count[mean_rating_product_count['rating_counts']==mean_rating_product_count['rating_counts'].min()].head()"
   ]
  },
  {
   "cell_type": "code",
   "execution_count": 93,
   "metadata": {
    "colab": {
     "background_save": true
    },
    "id": "j_waDBkUhO2w"
   },
   "outputs": [
    {
     "name": "stdout",
     "output_type": "stream",
     "text": [
      "min average rating product :  50\n",
      "total min average rating products :  99\n"
     ]
    }
   ],
   "source": [
    "#min mean rating product\n",
    "print('min average rating product : ',mean_rating_product_count['rating_counts'].min())\n",
    "print('total min average rating products : ',mean_rating_product_count[mean_rating_product_count['rating_counts']==mean_rating_product_count['rating_counts'].min()].shape[0])"
   ]
  },
  {
   "cell_type": "code",
   "execution_count": 94,
   "metadata": {
    "colab": {
     "background_save": true
    },
    "id": "_7iCmK8Ah14a"
   },
   "outputs": [
    {
     "data": {
      "image/png": "[encoded data removed]",
      "text/plain": [
       "<Figure size 640x480 with 1 Axes>"
      ]
     },
     "metadata": {},
     "output_type": "display_data"
    }
   ],
   "source": [
    "#plot the rating count of mean_rating_product_count\n",
    "plt.hist(mean_rating_product_count['rating_counts'],bins=100) #bins=100 argument specifies that the data will be divided into 100 intervals\n",
    "plt.title('rating count distribution')\n",
    "plt.xlabel('Number of Ratings')\n",
    "plt.ylabel('Frequency (number of products)') \n",
    "plt.xlim(0, 600) #adjusted this range based on where data is concentrated\n",
    "plt.show()"
   ]
  },
  {
   "cell_type": "markdown",
   "metadata": {},
   "source": [
    "**Key Observations**\n",
    "\n",
    "* As the number of ratings increases, the frequency drops rapidly\n",
    "* The graph is right skeweed which shows a sharp peak near the left side, indicating that most products have a low number of ratings\n",
    "* There is a long tail extending to the right, meaning only a few products have a high number of ratings."
   ]
  },
  {
   "cell_type": "code",
   "execution_count": 95,
   "metadata": {
    "colab": {
     "background_save": true
    },
    "id": "Buk0QiAHjW4m"
   },
   "outputs": [
    {
     "data": {
      "image/png": "[encoded data removed]",
      "text/plain": [
       "<Figure size 600x600 with 3 Axes>"
      ]
     },
     "metadata": {},
     "output_type": "display_data"
    }
   ],
   "source": [
    "#visualize the relationship between the average rating (rating) and the number of ratings (rating_counts) for products\n",
    "sns.jointplot(x='rating',y='rating_counts',data=mean_rating_product_count)\n",
    "plt.title('Joint Plot of rating and rating counts')\n",
    "plt.tight_layout()\n",
    "plt.show()"
   ]
  },
  {
   "cell_type": "markdown",
   "metadata": {},
   "source": [
    "**Observations from the Joint Plot**\n",
    "\n",
    "* The distribution of rating is right-skewed, meaning most products have ratings closer to 4.0 or higher.\n",
    "* There is a positive correlation between rating and rating_counts for many products as with higher ratings (around 4.0–5.0) tend to receive more ratings\n",
    "* Most points are clustered at lower rating_counts values (below 500), indicating that the majority of products have low numbers of ratings regardless of their average rating\n",
    "* A few products have exceptionally high rating_counts (above 2000), and these tend to have ratings closer to 4.0 or higher. These outliers are likely popular or frequently purchased products.    \n",
    "* Products with very low ratings (below 3.0) generally have low rating_counts, suggesting that poorly rated items are less reviewed."
   ]
  },
  {
   "cell_type": "code",
   "execution_count": 96,
   "metadata": {
    "colab": {
     "background_save": true
    },
    "id": "p74uVMq_jxZE"
   },
   "outputs": [
    {
     "data": {
      "image/png": "[encoded data removed]",
      "text/plain": [
       "<Figure size 640x480 with 1 Axes>"
      ]
     },
     "metadata": {},
     "output_type": "display_data"
    }
   ],
   "source": [
    "plt.scatter(x=mean_rating_product_count['rating'],y=mean_rating_product_count['rating_counts'])\n",
    "plt.show()"
   ]
  },
  {
   "cell_type": "code",
   "execution_count": 97,
   "metadata": {
    "colab": {
     "background_save": true
    },
    "id": "d3Dvy8vUkZ5Y"
   },
   "outputs": [
    {
     "name": "stdout",
     "output_type": "stream",
     "text": [
      "Correlation between Rating and Rating Counts is: 0.10713480182299917\n"
     ]
    }
   ],
   "source": [
    "#check whether there is a relationship between the average product rating and the number of ratings a product has received.\n",
    "correlation = mean_rating_product_count['rating'].corr(mean_rating_product_count['rating_counts'])\n",
    "print(f\"Correlation between Rating and Rating Counts is: {correlation}\")\n"
   ]
  },
  {
   "cell_type": "markdown",
   "metadata": {},
   "source": [
    "**Summary of the Result**\n",
    "\n",
    "The correlation value 0.1142 tells us that:\n",
    "\n",
    "* There is no strong linear dependency between the rating and the rating counts.\n",
    "* While higher-rated products may have slightly more ratings, the relationship is minimal.\n",
    "\n",
    "**Interpreting this result**\n",
    "\n",
    "* For products with many ratings: A product that has received a lot of ratings doesn't guarantee a higher or lower average rating.\n",
    "* For products with few ratings: A product with few ratings could have a very high or very low rating — there's no predictable trend.\n"
   ]
  },
  {
   "cell_type": "markdown",
   "metadata": {
    "id": "jGR3vzXFDBmy"
   },
   "source": [
    "**Collaborative filtering (Item-Item recommedation)**\n",
    "\n",
    "Collaborative filtering is commonly used for recommender systems. CF predict a user's preferences for items (e.g., movies, products, or books) based on their past interactions and the preferences of other users. It relies on the idea that users who have similar behaviors or preferences in the past are likely to have similar preferences in the future. These techniques aim to fill in the missing entries of a user-item association matrix. \n",
    "\n",
    "We are going to use collaborative filtering (CF) approach. CF is based on the idea that the best recommendations come from people who have similar tastes. In other words, it uses historical item ratings of like-minded people to predict how someone would rate an item.Collaborative filtering has two sub-categories that are generally called memory based and model-based approaches."
   ]
  },
  {
   "cell_type": "code",
   "execution_count": 98,
   "metadata": {
    "colab": {
     "background_save": true
    },
    "id": "YAjLmrZmDO8P"
   },
   "outputs": [
    {
     "name": "stdout",
     "output_type": "stream",
     "text": [
      "surprise is already installed.\n"
     ]
    }
   ],
   "source": [
    "#import surprise library for collebrative filtering\n",
    "check_and_install_library('surprise')\n",
    "from surprise import KNNWithMeans #A basic CF algorithm, taking into account the mean ratings of each user\n",
    "from surprise import Dataset\n",
    "from surprise import accuracy\n",
    "from surprise import Reader\n",
    "from surprise.model_selection import train_test_split"
   ]
  },
  {
   "cell_type": "code",
   "execution_count": 99,
   "metadata": {
    "colab": {
     "background_save": true
    },
    "id": "FphVOtF-EE4m"
   },
   "outputs": [],
   "source": [
    "#load a pandas DataFrame into a surprise-compatible format\n",
    "reader = Reader(rating_scale=(1, 5)) #defines the format of the input data and the range of the rating values.\n",
    "surprise_data = Dataset.load_from_df(data,reader) #converts the pandas data into a format suitable for training and testing collaborative filtering models in Surprise."
   ]
  },
  {
   "cell_type": "code",
   "execution_count": 100,
   "metadata": {
    "colab": {
     "background_save": true
    },
    "id": "65M2vT7fELQN"
   },
   "outputs": [],
   "source": [
    "#splitting surprise the dataset into 70,30 ratio using train_test_split\n",
    "trainset, testset = train_test_split(surprise_data, test_size=0.3,random_state=42)"
   ]
  },
  {
   "cell_type": "code",
   "execution_count": 101,
   "metadata": {
    "colab": {
     "background_save": true
    },
    "id": "25KRLKnvEtMc"
   },
   "outputs": [
    {
     "name": "stdout",
     "output_type": "stream",
     "text": [
      "Estimating biases using als...\n",
      "Computing the pearson_baseline similarity matrix...\n",
      "Done computing similarity matrix.\n"
     ]
    },
    {
     "data": {
      "text/plain": [
       "<surprise.prediction_algorithms.knns.KNNWithMeans at 0x743ac5674820>"
      ]
     },
     "execution_count": 101,
     "metadata": {},
     "output_type": "execute_result"
    }
   ],
   "source": [
    "# initialize and train a KNN-based collaborative filtering model \n",
    "algo = KNNWithMeans(k=5, sim_options={'name': 'pearson_baseline', 'user_based': False})\n",
    "algo.fit(trainset)"
   ]
  },
  {
   "cell_type": "code",
   "execution_count": 102,
   "metadata": {
    "colab": {
     "background_save": true
    },
    "id": "0k7Y7hd6FRyY"
   },
   "outputs": [],
   "source": [
    "#evaluate the trained model using the test set\n",
    "test_pred=algo.test(testset)"
   ]
  },
  {
   "cell_type": "code",
   "execution_count": 103,
   "metadata": {
    "colab": {
     "background_save": true
    },
    "id": "p2RSxLPpFi6W"
   },
   "outputs": [
    {
     "name": "stdout",
     "output_type": "stream",
     "text": [
      "Item-based Model : Test Set\n",
      "RMSE: 1.3080\n"
     ]
    },
    {
     "data": {
      "text/plain": [
       "1.3079986073501144"
      ]
     },
     "execution_count": 103,
     "metadata": {},
     "output_type": "execute_result"
    }
   ],
   "source": [
    "#print RMSE\n",
    "print(\"Item-based Model : Test Set\")\n",
    "accuracy.rmse(test_pred ,verbose=True)"
   ]
  },
  {
   "cell_type": "markdown",
   "metadata": {},
   "source": [
    "RMSE of 1.3130 suggests that, on average, the model’s predictions are off by 1.3130 rating points from the actual ratings. While it’s not a poor result, there's room for improvement, it can be improved by tuning hyperparameters with different values for the k (number of neighbors) or similarity measure (pearson_baseline, cosine, etc.)."
   ]
  },
  {
   "cell_type": "markdown",
   "metadata": {
    "id": "g3nGzazwGVK7"
   },
   "source": [
    "**Model-based collaborative filtering system**\n",
    "\n",
    "These methods are based on machine learning and data mining techniques. The goal is to train models to be able to make predictions. For example, we could use existing user-item interactions to train a model to predict the top-5 items that a user might like the most. One advantage of these methods is that they are able to recommend a larger number of items to a larger number of users, compared to other methods like memory based approach. They have large coverage, even when working with large sparse matrices."
   ]
  },
  {
   "cell_type": "code",
   "execution_count": 104,
   "metadata": {
    "id": "Tkq4tFfqHWrz"
   },
   "outputs": [
    {
     "data": {
      "text/html": [
       "<div>\n",
       "<style scoped>\n",
       "    .dataframe tbody tr th:only-of-type {\n",
       "        vertical-align: middle;\n",
       "    }\n",
       "\n",
       "    .dataframe tbody tr th {\n",
       "        vertical-align: top;\n",
       "    }\n",
       "\n",
       "    .dataframe thead th {\n",
       "        text-align: right;\n",
       "    }\n",
       "</style>\n",
       "<table border=\"1\" class=\"dataframe\">\n",
       "  <thead>\n",
       "    <tr style=\"text-align: right;\">\n",
       "      <th>productId</th>\n",
       "      <th>0972683275</th>\n",
       "      <th>1400532655</th>\n",
       "      <th>140053271X</th>\n",
       "      <th>B00000DM9W</th>\n",
       "      <th>B00000J061</th>\n",
       "      <th>B00000JDF5</th>\n",
       "      <th>B00000JI4F</th>\n",
       "      <th>B00000K135</th>\n",
       "      <th>B00000K2YR</th>\n",
       "      <th>B00001P4XA</th>\n",
       "      <th>...</th>\n",
       "      <th>B00I2VIR2M</th>\n",
       "      <th>B00I2ZBD1U</th>\n",
       "      <th>B00I9K3ZQ4</th>\n",
       "      <th>B00IDG3IDO</th>\n",
       "      <th>B00IF70QCW</th>\n",
       "      <th>B00IGISO9C</th>\n",
       "      <th>B00INNP5VU</th>\n",
       "      <th>B00IO1V33U</th>\n",
       "      <th>B00ISGCAJM</th>\n",
       "      <th>B00IVPU786</th>\n",
       "    </tr>\n",
       "    <tr>\n",
       "      <th>userId</th>\n",
       "      <th></th>\n",
       "      <th></th>\n",
       "      <th></th>\n",
       "      <th></th>\n",
       "      <th></th>\n",
       "      <th></th>\n",
       "      <th></th>\n",
       "      <th></th>\n",
       "      <th></th>\n",
       "      <th></th>\n",
       "      <th></th>\n",
       "      <th></th>\n",
       "      <th></th>\n",
       "      <th></th>\n",
       "      <th></th>\n",
       "      <th></th>\n",
       "      <th></th>\n",
       "      <th></th>\n",
       "      <th></th>\n",
       "      <th></th>\n",
       "      <th></th>\n",
       "    </tr>\n",
       "  </thead>\n",
       "  <tbody>\n",
       "    <tr>\n",
       "      <th>A01862021NSU0BBVBENPH</th>\n",
       "      <td>0.0</td>\n",
       "      <td>0.0</td>\n",
       "      <td>0.0</td>\n",
       "      <td>0.0</td>\n",
       "      <td>0.0</td>\n",
       "      <td>0.0</td>\n",
       "      <td>0.0</td>\n",
       "      <td>0.0</td>\n",
       "      <td>0.0</td>\n",
       "      <td>0.0</td>\n",
       "      <td>...</td>\n",
       "      <td>0.0</td>\n",
       "      <td>0.0</td>\n",
       "      <td>0.0</td>\n",
       "      <td>0.0</td>\n",
       "      <td>0.0</td>\n",
       "      <td>0.0</td>\n",
       "      <td>0.0</td>\n",
       "      <td>0.0</td>\n",
       "      <td>0.0</td>\n",
       "      <td>0.0</td>\n",
       "    </tr>\n",
       "    <tr>\n",
       "      <th>A020057121BB5RIXSHWDG</th>\n",
       "      <td>0.0</td>\n",
       "      <td>0.0</td>\n",
       "      <td>0.0</td>\n",
       "      <td>0.0</td>\n",
       "      <td>0.0</td>\n",
       "      <td>0.0</td>\n",
       "      <td>0.0</td>\n",
       "      <td>0.0</td>\n",
       "      <td>0.0</td>\n",
       "      <td>0.0</td>\n",
       "      <td>...</td>\n",
       "      <td>0.0</td>\n",
       "      <td>0.0</td>\n",
       "      <td>0.0</td>\n",
       "      <td>0.0</td>\n",
       "      <td>0.0</td>\n",
       "      <td>0.0</td>\n",
       "      <td>0.0</td>\n",
       "      <td>0.0</td>\n",
       "      <td>0.0</td>\n",
       "      <td>0.0</td>\n",
       "    </tr>\n",
       "    <tr>\n",
       "      <th>A02525812QIP6BVEJSDDG</th>\n",
       "      <td>0.0</td>\n",
       "      <td>0.0</td>\n",
       "      <td>0.0</td>\n",
       "      <td>0.0</td>\n",
       "      <td>0.0</td>\n",
       "      <td>0.0</td>\n",
       "      <td>0.0</td>\n",
       "      <td>0.0</td>\n",
       "      <td>0.0</td>\n",
       "      <td>0.0</td>\n",
       "      <td>...</td>\n",
       "      <td>0.0</td>\n",
       "      <td>0.0</td>\n",
       "      <td>0.0</td>\n",
       "      <td>0.0</td>\n",
       "      <td>0.0</td>\n",
       "      <td>0.0</td>\n",
       "      <td>0.0</td>\n",
       "      <td>0.0</td>\n",
       "      <td>0.0</td>\n",
       "      <td>0.0</td>\n",
       "    </tr>\n",
       "    <tr>\n",
       "      <th>A027050432XP5187VPRUH</th>\n",
       "      <td>0.0</td>\n",
       "      <td>0.0</td>\n",
       "      <td>0.0</td>\n",
       "      <td>0.0</td>\n",
       "      <td>0.0</td>\n",
       "      <td>0.0</td>\n",
       "      <td>0.0</td>\n",
       "      <td>0.0</td>\n",
       "      <td>0.0</td>\n",
       "      <td>0.0</td>\n",
       "      <td>...</td>\n",
       "      <td>0.0</td>\n",
       "      <td>0.0</td>\n",
       "      <td>0.0</td>\n",
       "      <td>0.0</td>\n",
       "      <td>0.0</td>\n",
       "      <td>0.0</td>\n",
       "      <td>0.0</td>\n",
       "      <td>0.0</td>\n",
       "      <td>0.0</td>\n",
       "      <td>0.0</td>\n",
       "    </tr>\n",
       "    <tr>\n",
       "      <th>A027941219C5AMOLDZLB5</th>\n",
       "      <td>0.0</td>\n",
       "      <td>0.0</td>\n",
       "      <td>0.0</td>\n",
       "      <td>0.0</td>\n",
       "      <td>0.0</td>\n",
       "      <td>0.0</td>\n",
       "      <td>0.0</td>\n",
       "      <td>0.0</td>\n",
       "      <td>0.0</td>\n",
       "      <td>0.0</td>\n",
       "      <td>...</td>\n",
       "      <td>0.0</td>\n",
       "      <td>0.0</td>\n",
       "      <td>0.0</td>\n",
       "      <td>0.0</td>\n",
       "      <td>0.0</td>\n",
       "      <td>0.0</td>\n",
       "      <td>0.0</td>\n",
       "      <td>0.0</td>\n",
       "      <td>0.0</td>\n",
       "      <td>0.0</td>\n",
       "    </tr>\n",
       "  </tbody>\n",
       "</table>\n",
       "<p>5 rows × 4384 columns</p>\n",
       "</div>"
      ],
      "text/plain": [
       "productId              0972683275  1400532655  140053271X  B00000DM9W  \\\n",
       "userId                                                                  \n",
       "A01862021NSU0BBVBENPH         0.0         0.0         0.0         0.0   \n",
       "A020057121BB5RIXSHWDG         0.0         0.0         0.0         0.0   \n",
       "A02525812QIP6BVEJSDDG         0.0         0.0         0.0         0.0   \n",
       "A027050432XP5187VPRUH         0.0         0.0         0.0         0.0   \n",
       "A027941219C5AMOLDZLB5         0.0         0.0         0.0         0.0   \n",
       "\n",
       "productId              B00000J061  B00000JDF5  B00000JI4F  B00000K135  \\\n",
       "userId                                                                  \n",
       "A01862021NSU0BBVBENPH         0.0         0.0         0.0         0.0   \n",
       "A020057121BB5RIXSHWDG         0.0         0.0         0.0         0.0   \n",
       "A02525812QIP6BVEJSDDG         0.0         0.0         0.0         0.0   \n",
       "A027050432XP5187VPRUH         0.0         0.0         0.0         0.0   \n",
       "A027941219C5AMOLDZLB5         0.0         0.0         0.0         0.0   \n",
       "\n",
       "productId              B00000K2YR  B00001P4XA  ...  B00I2VIR2M  B00I2ZBD1U  \\\n",
       "userId                                         ...                           \n",
       "A01862021NSU0BBVBENPH         0.0         0.0  ...         0.0         0.0   \n",
       "A020057121BB5RIXSHWDG         0.0         0.0  ...         0.0         0.0   \n",
       "A02525812QIP6BVEJSDDG         0.0         0.0  ...         0.0         0.0   \n",
       "A027050432XP5187VPRUH         0.0         0.0  ...         0.0         0.0   \n",
       "A027941219C5AMOLDZLB5         0.0         0.0  ...         0.0         0.0   \n",
       "\n",
       "productId              B00I9K3ZQ4  B00IDG3IDO  B00IF70QCW  B00IGISO9C  \\\n",
       "userId                                                                  \n",
       "A01862021NSU0BBVBENPH         0.0         0.0         0.0         0.0   \n",
       "A020057121BB5RIXSHWDG         0.0         0.0         0.0         0.0   \n",
       "A02525812QIP6BVEJSDDG         0.0         0.0         0.0         0.0   \n",
       "A027050432XP5187VPRUH         0.0         0.0         0.0         0.0   \n",
       "A027941219C5AMOLDZLB5         0.0         0.0         0.0         0.0   \n",
       "\n",
       "productId              B00INNP5VU  B00IO1V33U  B00ISGCAJM  B00IVPU786  \n",
       "userId                                                                 \n",
       "A01862021NSU0BBVBENPH         0.0         0.0         0.0         0.0  \n",
       "A020057121BB5RIXSHWDG         0.0         0.0         0.0         0.0  \n",
       "A02525812QIP6BVEJSDDG         0.0         0.0         0.0         0.0  \n",
       "A027050432XP5187VPRUH         0.0         0.0         0.0         0.0  \n",
       "A027941219C5AMOLDZLB5         0.0         0.0         0.0         0.0  \n",
       "\n",
       "[5 rows x 4384 columns]"
      ]
     },
     "execution_count": 104,
     "metadata": {},
     "output_type": "execute_result"
    }
   ],
   "source": [
    "#create a user-item ratings matrix from a sample of the dataset\n",
    "data2=data.sample(20000)\n",
    "ratings_matrix = data2.pivot_table(\n",
    "    values='rating', \n",
    "    index='userId', \n",
    "    columns='productId', \n",
    "    fill_value=0) #fills any missing ratings (i.e., cases where a user has not rated a product) with a default value of 0\n",
    "ratings_matrix.head()"
   ]
  },
  {
   "cell_type": "markdown",
   "metadata": {
    "id": "vpGu7ToYIaae"
   },
   "source": [
    "above we have created a pivot table of the rating where the value of the column will rating and index will be userId and the column name will be productId"
   ]
  },
  {
   "cell_type": "code",
   "execution_count": 105,
   "metadata": {
    "id": "37fEA_QOJHOn"
   },
   "outputs": [
    {
     "data": {
      "text/plain": [
       "(19905, 4384)"
      ]
     },
     "execution_count": 105,
     "metadata": {},
     "output_type": "execute_result"
    }
   ],
   "source": [
    "#check the shape of the rating_matrix\n",
    "ratings_matrix.shape"
   ]
  },
  {
   "cell_type": "code",
   "execution_count": 106,
   "metadata": {
    "id": "lLW42qY1JPWB"
   },
   "outputs": [
    {
     "data": {
      "text/html": [
       "<div>\n",
       "<style scoped>\n",
       "    .dataframe tbody tr th:only-of-type {\n",
       "        vertical-align: middle;\n",
       "    }\n",
       "\n",
       "    .dataframe tbody tr th {\n",
       "        vertical-align: top;\n",
       "    }\n",
       "\n",
       "    .dataframe thead th {\n",
       "        text-align: right;\n",
       "    }\n",
       "</style>\n",
       "<table border=\"1\" class=\"dataframe\">\n",
       "  <thead>\n",
       "    <tr style=\"text-align: right;\">\n",
       "      <th>userId</th>\n",
       "      <th>A01862021NSU0BBVBENPH</th>\n",
       "      <th>A020057121BB5RIXSHWDG</th>\n",
       "      <th>A02525812QIP6BVEJSDDG</th>\n",
       "      <th>A027050432XP5187VPRUH</th>\n",
       "      <th>A027941219C5AMOLDZLB5</th>\n",
       "      <th>A0294936381JE306NK77P</th>\n",
       "      <th>A031039837WA119VJ191B</th>\n",
       "      <th>A0562036P6CKN4R5VZLT</th>\n",
       "      <th>A0655860XQH1M5Q8JH1M</th>\n",
       "      <th>A0689378635NHPQE042W</th>\n",
       "      <th>...</th>\n",
       "      <th>AZY2JVEUQXUIW</th>\n",
       "      <th>AZYY1UQQBJCXD</th>\n",
       "      <th>AZYYUCMIK4Y4Z</th>\n",
       "      <th>AZYZJ1ATWCE9K</th>\n",
       "      <th>AZZ8DZKIZ0NG3</th>\n",
       "      <th>AZZA4Q0JACD5U</th>\n",
       "      <th>AZZD6VSEQQE7O</th>\n",
       "      <th>AZZJSYRH4SSQY</th>\n",
       "      <th>AZZOQCD4U42P0</th>\n",
       "      <th>AZZSWXJW3YR2D</th>\n",
       "    </tr>\n",
       "    <tr>\n",
       "      <th>productId</th>\n",
       "      <th></th>\n",
       "      <th></th>\n",
       "      <th></th>\n",
       "      <th></th>\n",
       "      <th></th>\n",
       "      <th></th>\n",
       "      <th></th>\n",
       "      <th></th>\n",
       "      <th></th>\n",
       "      <th></th>\n",
       "      <th></th>\n",
       "      <th></th>\n",
       "      <th></th>\n",
       "      <th></th>\n",
       "      <th></th>\n",
       "      <th></th>\n",
       "      <th></th>\n",
       "      <th></th>\n",
       "      <th></th>\n",
       "      <th></th>\n",
       "      <th></th>\n",
       "    </tr>\n",
       "  </thead>\n",
       "  <tbody>\n",
       "    <tr>\n",
       "      <th>0972683275</th>\n",
       "      <td>0.0</td>\n",
       "      <td>0.0</td>\n",
       "      <td>0.0</td>\n",
       "      <td>0.0</td>\n",
       "      <td>0.0</td>\n",
       "      <td>0.0</td>\n",
       "      <td>0.0</td>\n",
       "      <td>0.0</td>\n",
       "      <td>0.0</td>\n",
       "      <td>0.0</td>\n",
       "      <td>...</td>\n",
       "      <td>0.0</td>\n",
       "      <td>0.0</td>\n",
       "      <td>0.0</td>\n",
       "      <td>0.0</td>\n",
       "      <td>0.0</td>\n",
       "      <td>0.0</td>\n",
       "      <td>0.0</td>\n",
       "      <td>0.0</td>\n",
       "      <td>0.0</td>\n",
       "      <td>0.0</td>\n",
       "    </tr>\n",
       "    <tr>\n",
       "      <th>1400532655</th>\n",
       "      <td>0.0</td>\n",
       "      <td>0.0</td>\n",
       "      <td>0.0</td>\n",
       "      <td>0.0</td>\n",
       "      <td>0.0</td>\n",
       "      <td>0.0</td>\n",
       "      <td>0.0</td>\n",
       "      <td>0.0</td>\n",
       "      <td>0.0</td>\n",
       "      <td>0.0</td>\n",
       "      <td>...</td>\n",
       "      <td>0.0</td>\n",
       "      <td>0.0</td>\n",
       "      <td>0.0</td>\n",
       "      <td>0.0</td>\n",
       "      <td>0.0</td>\n",
       "      <td>0.0</td>\n",
       "      <td>0.0</td>\n",
       "      <td>0.0</td>\n",
       "      <td>0.0</td>\n",
       "      <td>0.0</td>\n",
       "    </tr>\n",
       "    <tr>\n",
       "      <th>140053271X</th>\n",
       "      <td>0.0</td>\n",
       "      <td>0.0</td>\n",
       "      <td>0.0</td>\n",
       "      <td>0.0</td>\n",
       "      <td>0.0</td>\n",
       "      <td>0.0</td>\n",
       "      <td>0.0</td>\n",
       "      <td>0.0</td>\n",
       "      <td>0.0</td>\n",
       "      <td>0.0</td>\n",
       "      <td>...</td>\n",
       "      <td>0.0</td>\n",
       "      <td>0.0</td>\n",
       "      <td>0.0</td>\n",
       "      <td>0.0</td>\n",
       "      <td>0.0</td>\n",
       "      <td>0.0</td>\n",
       "      <td>0.0</td>\n",
       "      <td>0.0</td>\n",
       "      <td>0.0</td>\n",
       "      <td>0.0</td>\n",
       "    </tr>\n",
       "    <tr>\n",
       "      <th>B00000DM9W</th>\n",
       "      <td>0.0</td>\n",
       "      <td>0.0</td>\n",
       "      <td>0.0</td>\n",
       "      <td>0.0</td>\n",
       "      <td>0.0</td>\n",
       "      <td>0.0</td>\n",
       "      <td>0.0</td>\n",
       "      <td>0.0</td>\n",
       "      <td>0.0</td>\n",
       "      <td>0.0</td>\n",
       "      <td>...</td>\n",
       "      <td>0.0</td>\n",
       "      <td>0.0</td>\n",
       "      <td>0.0</td>\n",
       "      <td>0.0</td>\n",
       "      <td>0.0</td>\n",
       "      <td>0.0</td>\n",
       "      <td>0.0</td>\n",
       "      <td>0.0</td>\n",
       "      <td>0.0</td>\n",
       "      <td>0.0</td>\n",
       "    </tr>\n",
       "    <tr>\n",
       "      <th>B00000J061</th>\n",
       "      <td>0.0</td>\n",
       "      <td>0.0</td>\n",
       "      <td>0.0</td>\n",
       "      <td>0.0</td>\n",
       "      <td>0.0</td>\n",
       "      <td>0.0</td>\n",
       "      <td>0.0</td>\n",
       "      <td>0.0</td>\n",
       "      <td>0.0</td>\n",
       "      <td>0.0</td>\n",
       "      <td>...</td>\n",
       "      <td>0.0</td>\n",
       "      <td>0.0</td>\n",
       "      <td>0.0</td>\n",
       "      <td>0.0</td>\n",
       "      <td>0.0</td>\n",
       "      <td>0.0</td>\n",
       "      <td>0.0</td>\n",
       "      <td>0.0</td>\n",
       "      <td>0.0</td>\n",
       "      <td>0.0</td>\n",
       "    </tr>\n",
       "  </tbody>\n",
       "</table>\n",
       "<p>5 rows × 19905 columns</p>\n",
       "</div>"
      ],
      "text/plain": [
       "userId      A01862021NSU0BBVBENPH  A020057121BB5RIXSHWDG  \\\n",
       "productId                                                  \n",
       "0972683275                    0.0                    0.0   \n",
       "1400532655                    0.0                    0.0   \n",
       "140053271X                    0.0                    0.0   \n",
       "B00000DM9W                    0.0                    0.0   \n",
       "B00000J061                    0.0                    0.0   \n",
       "\n",
       "userId      A02525812QIP6BVEJSDDG  A027050432XP5187VPRUH  \\\n",
       "productId                                                  \n",
       "0972683275                    0.0                    0.0   \n",
       "1400532655                    0.0                    0.0   \n",
       "140053271X                    0.0                    0.0   \n",
       "B00000DM9W                    0.0                    0.0   \n",
       "B00000J061                    0.0                    0.0   \n",
       "\n",
       "userId      A027941219C5AMOLDZLB5  A0294936381JE306NK77P  \\\n",
       "productId                                                  \n",
       "0972683275                    0.0                    0.0   \n",
       "1400532655                    0.0                    0.0   \n",
       "140053271X                    0.0                    0.0   \n",
       "B00000DM9W                    0.0                    0.0   \n",
       "B00000J061                    0.0                    0.0   \n",
       "\n",
       "userId      A031039837WA119VJ191B  A0562036P6CKN4R5VZLT  A0655860XQH1M5Q8JH1M  \\\n",
       "productId                                                                       \n",
       "0972683275                    0.0                   0.0                   0.0   \n",
       "1400532655                    0.0                   0.0                   0.0   \n",
       "140053271X                    0.0                   0.0                   0.0   \n",
       "B00000DM9W                    0.0                   0.0                   0.0   \n",
       "B00000J061                    0.0                   0.0                   0.0   \n",
       "\n",
       "userId      A0689378635NHPQE042W  ...  AZY2JVEUQXUIW  AZYY1UQQBJCXD  \\\n",
       "productId                         ...                                 \n",
       "0972683275                   0.0  ...            0.0            0.0   \n",
       "1400532655                   0.0  ...            0.0            0.0   \n",
       "140053271X                   0.0  ...            0.0            0.0   \n",
       "B00000DM9W                   0.0  ...            0.0            0.0   \n",
       "B00000J061                   0.0  ...            0.0            0.0   \n",
       "\n",
       "userId      AZYYUCMIK4Y4Z  AZYZJ1ATWCE9K  AZZ8DZKIZ0NG3  AZZA4Q0JACD5U  \\\n",
       "productId                                                                \n",
       "0972683275            0.0            0.0            0.0            0.0   \n",
       "1400532655            0.0            0.0            0.0            0.0   \n",
       "140053271X            0.0            0.0            0.0            0.0   \n",
       "B00000DM9W            0.0            0.0            0.0            0.0   \n",
       "B00000J061            0.0            0.0            0.0            0.0   \n",
       "\n",
       "userId      AZZD6VSEQQE7O  AZZJSYRH4SSQY  AZZOQCD4U42P0  AZZSWXJW3YR2D  \n",
       "productId                                                               \n",
       "0972683275            0.0            0.0            0.0            0.0  \n",
       "1400532655            0.0            0.0            0.0            0.0  \n",
       "140053271X            0.0            0.0            0.0            0.0  \n",
       "B00000DM9W            0.0            0.0            0.0            0.0  \n",
       "B00000J061            0.0            0.0            0.0            0.0  \n",
       "\n",
       "[5 rows x 19905 columns]"
      ]
     },
     "execution_count": 106,
     "metadata": {},
     "output_type": "execute_result"
    }
   ],
   "source": [
    "#transpose the metrix to make column (productId) as index and index as column (userId)\n",
    "x_ratings_matrix=ratings_matrix.T\n",
    "x_ratings_matrix.head()"
   ]
  },
  {
   "cell_type": "code",
   "execution_count": 107,
   "metadata": {
    "id": "V_hV5zjGLHZc"
   },
   "outputs": [
    {
     "data": {
      "text/plain": [
       "(4384, 19905)"
      ]
     },
     "execution_count": 107,
     "metadata": {},
     "output_type": "execute_result"
    }
   ],
   "source": [
    "x_ratings_matrix.shape"
   ]
  },
  {
   "cell_type": "code",
   "execution_count": 108,
   "metadata": {
    "id": "R7rf_-BeJ9jV"
   },
   "outputs": [
    {
     "data": {
      "text/plain": [
       "(4384, 10)"
      ]
     },
     "execution_count": 108,
     "metadata": {},
     "output_type": "execute_result"
    }
   ],
   "source": [
    "#Decomposition of the matrix using Singular Value Decomposition technique\n",
    "#transforms the matrix into a lower-dimensional representation that captures the most important patterns in user-item interactions\n",
    "from sklearn.decomposition import TruncatedSVD\n",
    "SVD = TruncatedSVD(n_components=10)\n",
    "decomposed_matrix = SVD.fit_transform(x_ratings_matrix)\n",
    "decomposed_matrix.shape"
   ]
  },
  {
   "cell_type": "code",
   "execution_count": 109,
   "metadata": {
    "id": "fnh7pZhQK4SP"
   },
   "outputs": [
    {
     "data": {
      "text/plain": [
       "(4384, 4384)"
      ]
     },
     "execution_count": 109,
     "metadata": {},
     "output_type": "execute_result"
    }
   ],
   "source": [
    "#compute the correlation matrix of the latent features after applying SVD to the ratings matrix\n",
    "correlation_matrix = np.corrcoef(decomposed_matrix)\n",
    "correlation_matrix.shape"
   ]
  },
  {
   "cell_type": "code",
   "execution_count": 110,
   "metadata": {
    "id": "lfOhqNwUNjDK"
   },
   "outputs": [
    {
     "data": {
      "text/plain": [
       "'B00001P4XH'"
      ]
     },
     "execution_count": 110,
     "metadata": {},
     "output_type": "execute_result"
    }
   ],
   "source": [
    "x_ratings_matrix.index[10]"
   ]
  },
  {
   "cell_type": "code",
   "execution_count": 111,
   "metadata": {
    "id": "WvW4-jGKKr_O"
   },
   "outputs": [
    {
     "name": "stdout",
     "output_type": "stream",
     "text": [
      "8\n"
     ]
    }
   ],
   "source": [
    "# find the index of a specific product ID\n",
    "i='B00000K2YR'\n",
    "product_names=list(x_ratings_matrix.index)\n",
    "product_id=product_names.index(i)\n",
    "print(product_id)"
   ]
  },
  {
   "cell_type": "markdown",
   "metadata": {
    "id": "vkBma-SMOXG4"
   },
   "source": [
    "Correlation for all items with the item purchased by this customer based on items rated by other customers people who bought the same product"
   ]
  },
  {
   "cell_type": "code",
   "execution_count": 112,
   "metadata": {
    "id": "1bStY_WsN49o"
   },
   "outputs": [
    {
     "data": {
      "text/plain": [
       "(4384,)"
      ]
     },
     "execution_count": 112,
     "metadata": {},
     "output_type": "execute_result"
    }
   ],
   "source": [
    "correlation_product_ID = correlation_matrix[product_id]\n",
    "correlation_product_ID.shape"
   ]
  },
  {
   "cell_type": "code",
   "execution_count": 113,
   "metadata": {
    "id": "IsHFmalDO1xB"
   },
   "outputs": [
    {
     "data": {
      "text/plain": [
       "(114, 4384)"
      ]
     },
     "execution_count": 113,
     "metadata": {},
     "output_type": "execute_result"
    }
   ],
   "source": [
    "#filter the correlation matrix greater than 0.75\n",
    "correlation_matrix[correlation_product_ID>0.75].shape"
   ]
  },
  {
   "cell_type": "code",
   "execution_count": 114,
   "metadata": {
    "id": "_75clIAoOlIW"
   },
   "outputs": [
    {
     "data": {
      "text/plain": [
       "['B00000K2YR',\n",
       " 'B000056SSM',\n",
       " 'B000058AKE',\n",
       " 'B00006JPDI',\n",
       " 'B00007GQLU',\n",
       " 'B00009V332',\n",
       " 'B000204SWE',\n",
       " 'B00022OBO2',\n",
       " 'B000233WJ6',\n",
       " 'B0002YE6FY',\n",
       " 'B00065ANYC',\n",
       " 'B0007N55NW',\n",
       " 'B0007QN18U',\n",
       " 'B000EEZCEG',\n",
       " 'B000EMWBV0',\n",
       " 'B000EPHP4U',\n",
       " 'B000FV8P24',\n",
       " 'B000I1ZWRC',\n",
       " 'B000IJV4BC',\n",
       " 'B000MF7L50']"
      ]
     },
     "execution_count": 114,
     "metadata": {},
     "output_type": "execute_result"
    }
   ],
   "source": [
    "#Recommending top 20 highly correlated products in sequence\n",
    "#filter the product IDs where the correlation with the target product's latent features is greater than 0.75.\n",
    "#will return a list of product IDs that are highly correlated with the target product (i.e., they are similar in latent feature space)\n",
    "recommend = list(x_ratings_matrix.index[correlation_product_ID > 0.75])\n",
    "recommend[:20]"
   ]
  },
  {
   "cell_type": "code",
   "execution_count": 115,
   "metadata": {},
   "outputs": [],
   "source": [
    "# Save preprocessed matrices\n",
    "ratings_matrix.to_csv('ratings_matrix.csv')\n",
    "x_ratings_matrix.to_csv('x_ratings_matrix.csv')"
   ]
  },
  {
   "cell_type": "code",
   "execution_count": 116,
   "metadata": {},
   "outputs": [
    {
     "data": {
      "text/plain": [
       "['svd_model.pkl']"
      ]
     },
     "execution_count": 116,
     "metadata": {},
     "output_type": "execute_result"
    }
   ],
   "source": [
    "# save the trained model to a file\n",
    "import joblib\n",
    "\n",
    "joblib.dump(SVD, 'svd_model.pkl')"
   ]
  }
 ],
 "metadata": {
  "colab": {
   "name": "",
   "provenance": [
    {
     "file_id": "1WaHNFjxvvuRS_TRhnn_m_kbTKJdXyzC5",
     "timestamp": 1733225944426
    }
   ],
   "version": ""
  },
  "kernelspec": {
   "display_name": "Python 3",
   "name": "python3"
  },
  "language_info": {
   "codemirror_mode": {
    "name": "ipython",
    "version": 3
   },
   "file_extension": ".py",
   "mimetype": "text/x-python",
   "name": "python",
   "nbconvert_exporter": "python",
   "pygments_lexer": "ipython3",
   "version": "3.10.12"
  }
 },
 "nbformat": 4,
 "nbformat_minor": 0
}
