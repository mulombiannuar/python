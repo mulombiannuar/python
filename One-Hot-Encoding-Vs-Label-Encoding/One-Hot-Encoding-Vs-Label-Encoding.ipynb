{
 "cells": [
  {
   "cell_type": "markdown",
   "metadata": {},
   "source": [
    "#### When to Use One-Hot Encoding?\n",
    "\n",
    "* One Hot Encoding should be used when the data consists of nominal categories and the number of unique categories is small. It is best for nominal data where there is no inherent order or ranking between the categories (e.g., colors, countries)"
   ]
  },
  {
   "cell_type": "code",
   "execution_count": 4,
   "metadata": {},
   "outputs": [
    {
     "name": "stdout",
     "output_type": "stream",
     "text": [
      "   Canada  India  USA\n",
      "0       0      0    1\n",
      "1       1      0    0\n",
      "2       0      1    0\n",
      "3       0      0    1\n",
      "4       1      0    0\n"
     ]
    }
   ],
   "source": [
    "import pandas as pd\n",
    "df = pd.DataFrame({'Country' : ['USA', 'Canada', 'India', 'USA', 'Canada']})\n",
    "\n",
    "# One-Hot Encoding\n",
    "one_hot = pd.get_dummies(df['Country'], dtype=int)\n",
    "print(one_hot)"
   ]
  },
  {
   "cell_type": "markdown",
   "metadata": {},
   "source": [
    "### When to use Label Encoding?\n",
    "\n",
    "* Use Label Encoding when the data has ordered categories, and you want to preserve ordinal information. It is best for ordinal data where the categories have a natural ordering (e.g., \"Low\", \"Medium\", \"High\")."
   ]
  },
  {
   "cell_type": "code",
   "execution_count": 5,
   "metadata": {},
   "outputs": [
    {
     "name": "stdout",
     "output_type": "stream",
     "text": [
      "  Severity  Severity_encoded\n",
      "0      Low                 1\n",
      "1   Medium                 2\n",
      "2     High                 0\n",
      "3   Medium                 2\n",
      "4      Low                 1\n"
     ]
    }
   ],
   "source": [
    "import pandas as pd\n",
    "from sklearn.preprocessing import LabelEncoder\n",
    "\n",
    "# Encoding Severity Levels (ordinal data)\n",
    "df = pd.DataFrame({'Severity': ['Low', 'Medium', 'High', 'Medium', 'Low']})\n",
    "\n",
    "# Label Encoding\n",
    "label_encoder = LabelEncoder()\n",
    "df['Severity_encoded'] = label_encoder.fit_transform(df['Severity'])\n",
    "print(df)"
   ]
  }
 ],
 "metadata": {
  "kernelspec": {
   "display_name": "Python 3",
   "language": "python",
   "name": "python3"
  },
  "language_info": {
   "codemirror_mode": {
    "name": "ipython",
    "version": 3
   },
   "file_extension": ".py",
   "mimetype": "text/x-python",
   "name": "python",
   "nbconvert_exporter": "python",
   "pygments_lexer": "ipython3",
   "version": "3.10.12"
  }
 },
 "nbformat": 4,
 "nbformat_minor": 2
}
