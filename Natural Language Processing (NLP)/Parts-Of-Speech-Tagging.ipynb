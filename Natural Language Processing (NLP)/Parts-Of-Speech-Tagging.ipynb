{
 "cells": [
  {
   "cell_type": "markdown",
   "id": "882ec4a3",
   "metadata": {},
   "source": [
    "## What is POS(Parts-Of-Speech) Tagging?\n",
    "\n",
    "Parts of Speech tagging is a linguistic activity in Natural Language Processing (NLP) wherein each word in a document is given a particular part of speech (`adverb`, `adjective`, `verb`, etc.) or `grammatical category`. Through the addition of a layer of syntactic and semantic information to the words, this procedure makes it easier to comprehend the sentence's structure and meaning.\n",
    "\n",
    "In NLP applications, POS tagging is useful for machine translation, named entity recognition, and information extraction, among other things. It also works well for clearing out ambiguity in terms with numerous meanings and revealing a sentence's grammatical structure.\n"
   ]
  },
  {
   "cell_type": "markdown",
   "id": "2c279efa",
   "metadata": {},
   "source": [
    "### Example of POS (Part-of-Speech) Tagging\n",
    "\n",
    "Consider the sentence:  \n",
    "**\"The quick brown fox jumps over the lazy dog.\"**\n",
    "\n",
    "After performing **POS Tagging**, each word is labeled with its corresponding part of speech:\n",
    "\n",
    "| Word     | POS Tag             | Description           |\n",
    "|----------|---------------------|------------------------|\n",
    "| The      | DT                  | Determiner            |\n",
    "| quick    | JJ                  | Adjective             |\n",
    "| brown    | JJ                  | Adjective             |\n",
    "| fox      | NN                  | Noun, singular        |\n",
    "| jumps    | VBZ                 | Verb, 3rd person singular present |\n",
    "| over     | IN                  | Preposition/Subordinating conjunction |\n",
    "| the      | DT                  | Determiner            |\n",
    "| lazy     | JJ                  | Adjective             |\n",
    "| dog      | NN                  | Noun, singular        |\n"
   ]
  },
  {
   "cell_type": "markdown",
   "id": "07eeedca",
   "metadata": {},
   "source": [
    "### Implementation of Parts-of-Speech tagging using NLTK in Python"
   ]
  },
  {
   "cell_type": "code",
   "execution_count": 3,
   "id": "5c8e00ad",
   "metadata": {},
   "outputs": [
    {
     "name": "stdout",
     "output_type": "stream",
     "text": [
      "Original Text:\n",
      "NLTK is a powerful library for natural language processing.\n",
      "\n",
      "PoS Tagging Result:\n",
      "NLTK: NNP\n",
      "is: VBZ\n",
      "a: DT\n",
      "powerful: JJ\n",
      "library: NN\n",
      "for: IN\n",
      "natural: JJ\n",
      "language: NN\n",
      "processing: NN\n",
      ".: .\n"
     ]
    }
   ],
   "source": [
    "# importing the NLTK library\n",
    "import nltk\n",
    "from nltk.tokenize import word_tokenize\n",
    "from nltk import pos_tag\n",
    "\n",
    "# sample text\n",
    "text = \"NLTK is a powerful library for natural language processing.\"\n",
    "\n",
    "# performing PoS tagging\n",
    "words = word_tokenize(text)\n",
    "pos_tagged_words = pos_tag(words)\n",
    "\n",
    "# displaying the PoS tagged result in separate lines\n",
    "print(\"Original Text:\")\n",
    "print(text)\n",
    "\n",
    "print(\"\\nPoS Tagging Result:\")\n",
    "for word, pos_tag in pos_tagged_words:\n",
    "    print(f\"{word}: {pos_tag}\")"
   ]
  },
  {
   "cell_type": "markdown",
   "id": "aeabac7a",
   "metadata": {},
   "source": [
    "### Implementation of Parts-of-Speech tagging using Spacy in Python"
   ]
  },
  {
   "cell_type": "code",
   "execution_count": 4,
   "id": "25ccaed6",
   "metadata": {},
   "outputs": [
    {
     "name": "stdout",
     "output_type": "stream",
     "text": [
      "Original Text:  SpaCy is a popular natural language processing library.\n",
      "PoS Tagging Result:\n",
      "SpaCy: PROPN\n",
      "is: AUX\n",
      "a: DET\n",
      "popular: ADJ\n",
      "natural: ADJ\n",
      "language: NOUN\n",
      "processing: NOUN\n",
      "library: NOUN\n",
      ".: PUNCT\n"
     ]
    }
   ],
   "source": [
    "#importing libraries \n",
    "import spacy\n",
    "\n",
    "# load the English language model\n",
    "nlp = spacy.load(\"en_core_web_sm\")\n",
    "\n",
    "# sample text\n",
    "text = \"SpaCy is a popular natural language processing library.\"\n",
    "\n",
    "# process the text with SpaCy\n",
    "doc = nlp(text)\n",
    "\n",
    "# display the PoS tagged result\n",
    "print(\"Original Text: \", text)\n",
    "print(\"PoS Tagging Result:\")\n",
    "for token in doc:\n",
    "    print(f\"{token.text}: {token.pos_}\")"
   ]
  }
 ],
 "metadata": {
  "kernelspec": {
   "display_name": "Python 3",
   "language": "python",
   "name": "python3"
  },
  "language_info": {
   "codemirror_mode": {
    "name": "ipython",
    "version": 3
   },
   "file_extension": ".py",
   "mimetype": "text/x-python",
   "name": "python",
   "nbconvert_exporter": "python",
   "pygments_lexer": "ipython3",
   "version": "3.10.12"
  }
 },
 "nbformat": 4,
 "nbformat_minor": 5
}
