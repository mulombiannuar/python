{
 "cells": [
  {
   "cell_type": "markdown",
   "id": "d5747ff2",
   "metadata": {},
   "source": [
    "## What is Text Normalization?\n",
    "\n",
    "Text normalization is that the method of transforming text into one canonical form that it'd not have had before. Normalizing text before storing or processing it allows for separation of concerns since the input is sure to be consistent before operations are performed thereon. Text normalization requires being conscious of what sort of text is to be normalized and the way it's to be processed afterwards; there's no all-purpose normalization procedure."
   ]
  },
  {
   "cell_type": "markdown",
   "id": "00e5acb6",
   "metadata": {},
   "source": [
    "#### Steps Required:\n",
    "\n",
    "1. **Input Text String**  \n",
    "   Start with the raw input text that needs to be normalized.\n",
    "\n",
    "2. **Convert Case**  \n",
    "   Convert all letters of the string to one case (either **lowercase** or **uppercase**) to maintain consistency.  \n",
    "   _Example_: \"This Is A Sample Text\" → \"this is a sample text\"\n",
    "\n",
    "3. **Handle Numbers**  \n",
    "   - If numbers are essential, **convert them to words**.  \n",
    "   - If not required, **remove all numeric characters**.\n",
    "\n",
    "4. **Remove Punctuation and Grammar Formalities**  \n",
    "   Strip out punctuation marks and unnecessary grammatical symbols like `.,!?;:'\"` etc.\n",
    "\n",
    "5. **Remove Extra White Spaces**  \n",
    "   Normalize white spaces by removing extra spaces, tabs, or newline characters.\n",
    "\n",
    "6. **Remove Stop Words**  \n",
    "   Filter out common stop words such as `the`, `is`, `and`, `in`, `to`, etc., as they may not contribute meaningful information in many NLP tasks.\n",
    "\n",
    "7. **Other Computations (Optional)**  \n",
    "   Additional processing may include:\n",
    "   - **Stemming or Lemmatization**: Reduce words to their base or root form.\n",
    "   - **Spelling Correction**\n",
    "   - **Tokenization**\n",
    "   - **Handling Emojis or Special Characters** depending on the context of use.\n",
    "\n",
    "---\n",
    "\n",
    "These steps are crucial to prepare raw text for further natural language processing (NLP) tasks such as classification, clustering, or sentiment analysis."
   ]
  },
  {
   "cell_type": "markdown",
   "id": "3ea32e54",
   "metadata": {},
   "source": [
    "#### Case Conversion (Lower Case)"
   ]
  },
  {
   "cell_type": "code",
   "execution_count": 16,
   "id": "3c14653c",
   "metadata": {},
   "outputs": [],
   "source": [
    "# import required libraries\n",
    "import re"
   ]
  },
  {
   "cell_type": "code",
   "execution_count": 11,
   "id": "0df1aa16",
   "metadata": {},
   "outputs": [],
   "source": [
    "# input string\n",
    "string = \"      Python 3.0, released in 2008, was a major revision of the language that is not completely backward compatible and much Python 2 code does not run unmodified on Python 3. With Python 2's end-of-life, only Python 3.6.x[30] and later are supported, with older versions still supporting e.g. Windows 7 (and old installers not restricted to 64-bit Windows).\""
   ]
  },
  {
   "cell_type": "code",
   "execution_count": 12,
   "id": "84557f1a",
   "metadata": {},
   "outputs": [
    {
     "name": "stdout",
     "output_type": "stream",
     "text": [
      "      python 3.0, released in 2008, was a major revision of the language that is not completely backward compatible and much python 2 code does not run unmodified on python 3. with python 2's end-of-life, only python 3.6.x[30] and later are supported, with older versions still supporting e.g. windows 7 (and old installers not restricted to 64-bit windows).\n"
     ]
    }
   ],
   "source": [
    "# convert to lower case\n",
    "lower_string = string.lower()\n",
    "print(lower_string)"
   ]
  },
  {
   "cell_type": "markdown",
   "id": "02968392",
   "metadata": {},
   "source": [
    "#### Removing Numbers"
   ]
  },
  {
   "cell_type": "code",
   "execution_count": 17,
   "id": "1731b6f7",
   "metadata": {},
   "outputs": [
    {
     "name": "stdout",
     "output_type": "stream",
     "text": [
      "      python ., released in , was a major revision of the language that is not completely backward compatible and much python  code does not run unmodified on python . with python 's end-of-life, only python ..x[] and later are supported, with older versions still supporting e.g. windows  (and old installers not restricted to -bit windows).\n"
     ]
    }
   ],
   "source": [
    "# convert to lower case\n",
    "lower_string = string.lower()\n",
    "\n",
    "# remove numbers\n",
    "no_number_string = re.sub(r'\\d+','',lower_string)\n",
    "print(no_number_string)"
   ]
  },
  {
   "cell_type": "markdown",
   "id": "8085a287",
   "metadata": {},
   "source": [
    "#### Removing punctuation"
   ]
  },
  {
   "cell_type": "code",
   "execution_count": 18,
   "id": "5b73d968",
   "metadata": {},
   "outputs": [
    {
     "name": "stdout",
     "output_type": "stream",
     "text": [
      "      python  released in  was a major revision of the language that is not completely backward compatible and much python  code does not run unmodified on python  with python s endoflife only python x and later are supported with older versions still supporting eg windows  and old installers not restricted to bit windows\n"
     ]
    }
   ],
   "source": [
    "# convert to lower case\n",
    "lower_string = string.lower()\n",
    "\n",
    "# remove numbers\n",
    "no_number_string = re.sub(r'\\d+','',lower_string)\n",
    "\n",
    "# remove all punctuation except words and space\n",
    "no_punc_string = re.sub(r'[^\\w\\s]','', no_number_string) \n",
    "print(no_punc_string)"
   ]
  },
  {
   "cell_type": "markdown",
   "id": "4323424b",
   "metadata": {},
   "source": [
    "#### Removing White space"
   ]
  },
  {
   "cell_type": "code",
   "execution_count": 19,
   "id": "6f2fbc52",
   "metadata": {},
   "outputs": [
    {
     "name": "stdout",
     "output_type": "stream",
     "text": [
      "python  released in  was a major revision of the language that is not completely backward compatible and much python  code does not run unmodified on python  with python s endoflife only python x and later are supported with older versions still supporting eg windows  and old installers not restricted to bit windows\n"
     ]
    }
   ],
   "source": [
    "# convert to lower case\n",
    "lower_string = string.lower()\n",
    "\n",
    "# remove numbers\n",
    "no_number_string = re.sub(r'\\d+','',lower_string)\n",
    "\n",
    "# remove all punctuation except words and space\n",
    "no_punc_string = re.sub(r'[^\\w\\s]','', no_number_string) \n",
    "\n",
    "# remove white spaces\n",
    "no_wspace_string = no_punc_string.strip()\n",
    "print(no_wspace_string)"
   ]
  },
  {
   "cell_type": "markdown",
   "id": "b77f2977",
   "metadata": {},
   "source": [
    "#### Removing Stop Words"
   ]
  },
  {
   "cell_type": "code",
   "execution_count": 23,
   "id": "735c6725",
   "metadata": {},
   "outputs": [
    {
     "name": "stdout",
     "output_type": "stream",
     "text": [
      "python 3.0 , released 2008 , major revision language completely backward compatible python 2 code run unmodified python 3 . python 2 end - - life , python 3.6.x[30 ] later supported , older versions supporting e.g. windows 7 ( old installers restricted 64 - bit windows ) .\n"
     ]
    }
   ],
   "source": [
    "import spacy\n",
    "\n",
    "# convert to lower case\n",
    "lower_string = string.lower().strip()\n",
    "\n",
    "# load spaCy english model\n",
    "nlp = spacy.load(\"en_core_web_sm\")\n",
    "\n",
    "# process the text using spaCy\n",
    "doc = nlp(lower_string)\n",
    "\n",
    "# remove stopwords\n",
    "filtered_words = [token.text for token in doc if not token.is_stop]\n",
    "\n",
    "# join the filtered words to form a clean text\n",
    "clean_text = ' '.join(filtered_words)\n",
    "\n",
    "print(clean_text)"
   ]
  }
 ],
 "metadata": {
  "kernelspec": {
   "display_name": "Python 3",
   "language": "python",
   "name": "python3"
  },
  "language_info": {
   "codemirror_mode": {
    "name": "ipython",
    "version": 3
   },
   "file_extension": ".py",
   "mimetype": "text/x-python",
   "name": "python",
   "nbconvert_exporter": "python",
   "pygments_lexer": "ipython3",
   "version": "3.10.12"
  }
 },
 "nbformat": 4,
 "nbformat_minor": 5
}
