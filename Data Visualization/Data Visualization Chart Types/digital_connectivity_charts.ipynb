{
 "cells": [
  {
   "cell_type": "markdown",
   "id": "dd1279ee",
   "metadata": {},
   "source": [
    "# School-Age Digital Connectivity Data Visualization\n",
    "\n",
    "This notebook demonstrates different chart types (Bar Chart, Histogram, Pie Chart, Choropleth Map, Heatmap, Box Plot, Scatter Plot) using the dataset **School-Age-Digital-Connectivity**.\n",
    "\n",
    "We will use the following columns:\n",
    "- `ISO3` (country code)\n",
    "- `Countries and areas`\n",
    "- `Region`\n",
    "- `Sub-region`\n",
    "- `Income Group`\n",
    "- `Total`, `Rural`, `Urban`, `Poorest`, `Richest`\n"
   ]
  },
  {
   "cell_type": "code",
   "execution_count": 15,
   "id": "51dbc464",
   "metadata": {},
   "outputs": [
    {
     "data": {
      "text/html": [
       "<div>\n",
       "<style scoped>\n",
       "    .dataframe tbody tr th:only-of-type {\n",
       "        vertical-align: middle;\n",
       "    }\n",
       "\n",
       "    .dataframe tbody tr th {\n",
       "        vertical-align: top;\n",
       "    }\n",
       "\n",
       "    .dataframe thead th {\n",
       "        text-align: right;\n",
       "    }\n",
       "</style>\n",
       "<table border=\"1\" class=\"dataframe\">\n",
       "  <thead>\n",
       "    <tr style=\"text-align: right;\">\n",
       "      <th></th>\n",
       "      <th>ISO3</th>\n",
       "      <th>Countries and areas</th>\n",
       "      <th>Region</th>\n",
       "      <th>Sub-region</th>\n",
       "      <th>Income Group</th>\n",
       "      <th>Total</th>\n",
       "      <th>Residence</th>\n",
       "      <th>Unnamed: 7</th>\n",
       "      <th>Wealth quintile</th>\n",
       "      <th>Unnamed: 9</th>\n",
       "      <th>Source</th>\n",
       "      <th>Unnamed: 11</th>\n",
       "    </tr>\n",
       "  </thead>\n",
       "  <tbody>\n",
       "    <tr>\n",
       "      <th>0</th>\n",
       "      <td>NaN</td>\n",
       "      <td>NaN</td>\n",
       "      <td>NaN</td>\n",
       "      <td>UNICEF Sub-region 1</td>\n",
       "      <td>NaN</td>\n",
       "      <td>NaN</td>\n",
       "      <td>Rural</td>\n",
       "      <td>Urban</td>\n",
       "      <td>Poorest</td>\n",
       "      <td>Richest</td>\n",
       "      <td>Data source</td>\n",
       "      <td>Time period</td>\n",
       "    </tr>\n",
       "    <tr>\n",
       "      <th>1</th>\n",
       "      <td>DZA</td>\n",
       "      <td>Algeria</td>\n",
       "      <td>MENA</td>\n",
       "      <td>MENA</td>\n",
       "      <td>Upper middle income (UM)</td>\n",
       "      <td>0.237807</td>\n",
       "      <td>0.091202</td>\n",
       "      <td>0.322005</td>\n",
       "      <td>0.005888</td>\n",
       "      <td>0.772502</td>\n",
       "      <td>Multiple Indicator Cluster Survey</td>\n",
       "      <td>2018-19</td>\n",
       "    </tr>\n",
       "    <tr>\n",
       "      <th>2</th>\n",
       "      <td>AGO</td>\n",
       "      <td>Angola</td>\n",
       "      <td>SSA</td>\n",
       "      <td>ESA</td>\n",
       "      <td>Lower middle income (LM)</td>\n",
       "      <td>0.165507</td>\n",
       "      <td>0.017646</td>\n",
       "      <td>0.243431</td>\n",
       "      <td>0</td>\n",
       "      <td>0.624589</td>\n",
       "      <td>Demographic and Health Survey</td>\n",
       "      <td>2015-16</td>\n",
       "    </tr>\n",
       "    <tr>\n",
       "      <th>3</th>\n",
       "      <td>ARG</td>\n",
       "      <td>Argentina</td>\n",
       "      <td>LAC</td>\n",
       "      <td>LAC</td>\n",
       "      <td>Upper middle income (UM)</td>\n",
       "      <td>0.398849</td>\n",
       "      <td>NaN</td>\n",
       "      <td>NaN</td>\n",
       "      <td>NaN</td>\n",
       "      <td>NaN</td>\n",
       "      <td>Multiple Indicator Cluster Survey</td>\n",
       "      <td>2011-12</td>\n",
       "    </tr>\n",
       "    <tr>\n",
       "      <th>4</th>\n",
       "      <td>ARM</td>\n",
       "      <td>Armenia</td>\n",
       "      <td>ECA</td>\n",
       "      <td>EECA</td>\n",
       "      <td>Upper middle income (UM)</td>\n",
       "      <td>0.809218</td>\n",
       "      <td>0.709329</td>\n",
       "      <td>0.883609</td>\n",
       "      <td>0.46602</td>\n",
       "      <td>0.991219</td>\n",
       "      <td>Demographic and Health Survey</td>\n",
       "      <td>2015-16</td>\n",
       "    </tr>\n",
       "  </tbody>\n",
       "</table>\n",
       "</div>"
      ],
      "text/plain": [
       "  ISO3 Countries and areas Region           Sub-region  \\\n",
       "0  NaN                 NaN    NaN  UNICEF Sub-region 1   \n",
       "1  DZA             Algeria   MENA                 MENA   \n",
       "2  AGO              Angola    SSA                  ESA   \n",
       "3  ARG           Argentina    LAC                  LAC   \n",
       "4  ARM             Armenia    ECA                 EECA   \n",
       "\n",
       "               Income Group     Total Residence Unnamed: 7 Wealth quintile  \\\n",
       "0                       NaN       NaN     Rural      Urban         Poorest   \n",
       "1  Upper middle income (UM)  0.237807  0.091202   0.322005        0.005888   \n",
       "2  Lower middle income (LM)  0.165507  0.017646   0.243431               0   \n",
       "3  Upper middle income (UM)  0.398849       NaN        NaN             NaN   \n",
       "4  Upper middle income (UM)  0.809218  0.709329   0.883609         0.46602   \n",
       "\n",
       "  Unnamed: 9                             Source  Unnamed: 11  \n",
       "0    Richest                        Data source  Time period  \n",
       "1   0.772502  Multiple Indicator Cluster Survey      2018-19  \n",
       "2   0.624589      Demographic and Health Survey      2015-16  \n",
       "3        NaN  Multiple Indicator Cluster Survey      2011-12  \n",
       "4   0.991219      Demographic and Health Survey      2015-16  "
      ]
     },
     "execution_count": 15,
     "metadata": {},
     "output_type": "execute_result"
    }
   ],
   "source": [
    "import pandas as pd\n",
    "import matplotlib.pyplot as plt\n",
    "import seaborn as sns\n",
    "import plotly.express as px\n",
    "\n",
    "# Load dataset (update path after downloading the dataset locally)\n",
    "df = pd.read_excel(\n",
    "    \"School-Age-Digital-Connectivity-Dataset.xlsx\", sheet_name=\"Total school age\"\n",
    ")\n",
    "df.head()"
   ]
  },
  {
   "cell_type": "code",
   "execution_count": 16,
   "id": "6f7d5eb9",
   "metadata": {},
   "outputs": [
    {
     "data": {
      "text/html": [
       "<div>\n",
       "<style scoped>\n",
       "    .dataframe tbody tr th:only-of-type {\n",
       "        vertical-align: middle;\n",
       "    }\n",
       "\n",
       "    .dataframe tbody tr th {\n",
       "        vertical-align: top;\n",
       "    }\n",
       "\n",
       "    .dataframe thead th {\n",
       "        text-align: right;\n",
       "    }\n",
       "</style>\n",
       "<table border=\"1\" class=\"dataframe\">\n",
       "  <thead>\n",
       "    <tr style=\"text-align: right;\">\n",
       "      <th></th>\n",
       "      <th>ISO3</th>\n",
       "      <th>Countries and areas</th>\n",
       "      <th>Region</th>\n",
       "      <th>Sub-region</th>\n",
       "      <th>Income Group</th>\n",
       "      <th>Total</th>\n",
       "      <th>Rural</th>\n",
       "      <th>Urban</th>\n",
       "      <th>Poorest</th>\n",
       "      <th>Richest</th>\n",
       "      <th>Data source</th>\n",
       "      <th>Time period</th>\n",
       "    </tr>\n",
       "  </thead>\n",
       "  <tbody>\n",
       "    <tr>\n",
       "      <th>0</th>\n",
       "      <td>NaN</td>\n",
       "      <td>NaN</td>\n",
       "      <td>NaN</td>\n",
       "      <td>UNICEF Sub-region 1</td>\n",
       "      <td>NaN</td>\n",
       "      <td>NaN</td>\n",
       "      <td>Rural</td>\n",
       "      <td>Urban</td>\n",
       "      <td>Poorest</td>\n",
       "      <td>Richest</td>\n",
       "      <td>Data source</td>\n",
       "      <td>Time period</td>\n",
       "    </tr>\n",
       "    <tr>\n",
       "      <th>1</th>\n",
       "      <td>DZA</td>\n",
       "      <td>Algeria</td>\n",
       "      <td>MENA</td>\n",
       "      <td>MENA</td>\n",
       "      <td>Upper middle income (UM)</td>\n",
       "      <td>0.237807</td>\n",
       "      <td>0.091202</td>\n",
       "      <td>0.322005</td>\n",
       "      <td>0.005888</td>\n",
       "      <td>0.772502</td>\n",
       "      <td>Multiple Indicator Cluster Survey</td>\n",
       "      <td>2018-19</td>\n",
       "    </tr>\n",
       "    <tr>\n",
       "      <th>2</th>\n",
       "      <td>AGO</td>\n",
       "      <td>Angola</td>\n",
       "      <td>SSA</td>\n",
       "      <td>ESA</td>\n",
       "      <td>Lower middle income (LM)</td>\n",
       "      <td>0.165507</td>\n",
       "      <td>0.017646</td>\n",
       "      <td>0.243431</td>\n",
       "      <td>0</td>\n",
       "      <td>0.624589</td>\n",
       "      <td>Demographic and Health Survey</td>\n",
       "      <td>2015-16</td>\n",
       "    </tr>\n",
       "    <tr>\n",
       "      <th>3</th>\n",
       "      <td>ARG</td>\n",
       "      <td>Argentina</td>\n",
       "      <td>LAC</td>\n",
       "      <td>LAC</td>\n",
       "      <td>Upper middle income (UM)</td>\n",
       "      <td>0.398849</td>\n",
       "      <td>NaN</td>\n",
       "      <td>NaN</td>\n",
       "      <td>NaN</td>\n",
       "      <td>NaN</td>\n",
       "      <td>Multiple Indicator Cluster Survey</td>\n",
       "      <td>2011-12</td>\n",
       "    </tr>\n",
       "    <tr>\n",
       "      <th>4</th>\n",
       "      <td>ARM</td>\n",
       "      <td>Armenia</td>\n",
       "      <td>ECA</td>\n",
       "      <td>EECA</td>\n",
       "      <td>Upper middle income (UM)</td>\n",
       "      <td>0.809218</td>\n",
       "      <td>0.709329</td>\n",
       "      <td>0.883609</td>\n",
       "      <td>0.46602</td>\n",
       "      <td>0.991219</td>\n",
       "      <td>Demographic and Health Survey</td>\n",
       "      <td>2015-16</td>\n",
       "    </tr>\n",
       "  </tbody>\n",
       "</table>\n",
       "</div>"
      ],
      "text/plain": [
       "  ISO3 Countries and areas Region           Sub-region  \\\n",
       "0  NaN                 NaN    NaN  UNICEF Sub-region 1   \n",
       "1  DZA             Algeria   MENA                 MENA   \n",
       "2  AGO              Angola    SSA                  ESA   \n",
       "3  ARG           Argentina    LAC                  LAC   \n",
       "4  ARM             Armenia    ECA                 EECA   \n",
       "\n",
       "               Income Group     Total     Rural     Urban   Poorest   Richest  \\\n",
       "0                       NaN       NaN     Rural     Urban   Poorest   Richest   \n",
       "1  Upper middle income (UM)  0.237807  0.091202  0.322005  0.005888  0.772502   \n",
       "2  Lower middle income (LM)  0.165507  0.017646  0.243431         0  0.624589   \n",
       "3  Upper middle income (UM)  0.398849       NaN       NaN       NaN       NaN   \n",
       "4  Upper middle income (UM)  0.809218  0.709329  0.883609   0.46602  0.991219   \n",
       "\n",
       "                         Data source  Time period  \n",
       "0                        Data source  Time period  \n",
       "1  Multiple Indicator Cluster Survey      2018-19  \n",
       "2      Demographic and Health Survey      2015-16  \n",
       "3  Multiple Indicator Cluster Survey      2011-12  \n",
       "4      Demographic and Health Survey      2015-16  "
      ]
     },
     "execution_count": 16,
     "metadata": {},
     "output_type": "execute_result"
    }
   ],
   "source": [
    "df.columns = [\n",
    "    \"ISO3\",\n",
    "    \"Countries and areas\",\n",
    "    \"Region\",\n",
    "    \"Sub-region\",\n",
    "    \"Income Group\",\n",
    "    \"Total\",\n",
    "    \"Rural\",\n",
    "    \"Urban\",\n",
    "    \"Poorest\",\n",
    "    \"Richest\",\n",
    "    \"Data source\",\n",
    "    \"Time period\",\n",
    "]\n",
    "\n",
    "\n",
    "df.head()"
   ]
  },
  {
   "cell_type": "markdown",
   "id": "fb98b65a",
   "metadata": {},
   "source": [
    "## 1. Bar Chart\n",
    "**Justification**: Compare average connectivity (`Total`) across regions.\n",
    "\n",
    "**Design Principles**: Clear axis labels, readable colors, and rotation for region names."
   ]
  },
  {
   "cell_type": "code",
   "execution_count": 31,
   "id": "266c53cb",
   "metadata": {},
   "outputs": [
    {
     "data": {
      "image/png": "[encoded data removed]",
      "text/plain": [
       "<Figure size 1000x600 with 1 Axes>"
      ]
     },
     "metadata": {},
     "output_type": "display_data"
    }
   ],
   "source": [
    "plt.figure(figsize=(10,6))\n",
    "sns.barplot(data=df, x=\"Region\", y=\"Total\", hue=\"Income Group\")\n",
    "plt.title(\"Average Digital Connectivity (Total) by Region\")\n",
    "plt.xticks(rotation=45)\n",
    "plt.ylabel(\"% Connectivity\")\n",
    "plt.show()"
   ]
  },
  {
   "cell_type": "markdown",
   "id": "a1617c62",
   "metadata": {},
   "source": [
    "## 2. Histogram\n",
    "**Justification**: Show distribution of overall digital connectivity (`Total`).\n",
    "\n",
    "**Design Principles**: Appropriate bins, clear labels, no unnecessary 3D effects."
   ]
  },
  {
   "cell_type": "code",
   "execution_count": 32,
   "id": "ab67ecb1",
   "metadata": {},
   "outputs": [
    {
     "data": {
      "image/png": "[encoded data removed]",
      "text/plain": [
       "<Figure size 800x600 with 1 Axes>"
      ]
     },
     "metadata": {},
     "output_type": "display_data"
    }
   ],
   "source": [
    "plt.figure(figsize=(8,6))\n",
    "plt.hist(df[\"Total\"].dropna(), bins=20,  edgecolor=\"black\")\n",
    "plt.title(\"Distribution of Total Connectivity\")\n",
    "plt.xlabel(\"% Connectivity\")\n",
    "plt.ylabel(\"Frequency\")\n",
    "plt.show()"
   ]
  },
  {
   "cell_type": "markdown",
   "id": "bcb124cc",
   "metadata": {},
   "source": [
    "## 3. Pie Chart\n",
    "**Justification**: Proportion of countries by `Income Group`.\n",
    "\n",
    "**Design Principles**: Limit categories, use labels and percentages clearly."
   ]
  },
  {
   "cell_type": "code",
   "execution_count": 19,
   "id": "52fdd996",
   "metadata": {},
   "outputs": [
    {
     "data": {
      "image/png": "[encoded data removed]",
      "text/plain": [
       "<Figure size 600x600 with 1 Axes>"
      ]
     },
     "metadata": {},
     "output_type": "display_data"
    }
   ],
   "source": [
    "plt.figure(figsize=(6,6))\n",
    "counts = df[\"Income Group\"].value_counts()\n",
    "plt.pie(counts, labels=counts.index, autopct=\"%1.1f%%\", startangle=140, colors=sns.color_palette(\"Set2\"))\n",
    "plt.title(\"Proportion of Countries by Income Group\")\n",
    "plt.show()"
   ]
  },
  {
   "cell_type": "markdown",
   "id": "1eae3178",
   "metadata": {},
   "source": [
    "## 4. Choropleth Map\n",
    "**Justification**: Spatial distribution of connectivity (`Total`) across countries.\n",
    "\n",
    "**Design Principles**: Use continuous color scale and include legend for interpretation."
   ]
  },
  {
   "cell_type": "code",
   "execution_count": 28,
   "id": "f6f0fabf",
   "metadata": {},
   "outputs": [
    {
     "data": {
      "application/vnd.plotly.v1+json": {
       "config": {
        "plotlyServerURL": "https://plot.ly"
       },
       "data": [
        {
         "coloraxis": "coloraxis",
         "geo": "geo",
         "hovertemplate": "<b>%{hovertext}</b><br><br>ISO3=%{location}<br>Total=%{z}<extra></extra>",
         "hovertext": [
          null,
          "Algeria",
          "Angola",
          "Argentina",
          "Armenia",
          "Bangladesh",
          "Barbados",
          "Benin",
          "Bolivia (Plurinational State of)",
          "Bosnia and Herzegovina",
          "Brazil",
          "Bulgaria",
          "Burkina Faso",
          "Cameroon",
          "Central African Republic",
          "Chad",
          "Chile",
          "China",
          "Colombia",
          "Costa Rica",
          "Côte d'Ivoire",
          "Cuba",
          "Democratic Republic of the Congo",
          "Djibouti",
          "Dominican Republic",
          "Ecuador",
          "Egypt",
          "Gambia",
          "Georgia",
          "Ghana",
          "Guatemala",
          "Guinea-Bissau",
          "Haiti",
          "India",
          "Indonesia",
          "Iraq",
          "Japan",
          "Jordan",
          "Kenya",
          "Kiribati",
          "Kyrgyzstan",
          "Lao People's Democratic Republic",
          "Lesotho",
          "Madagascar",
          "Maldives",
          "Mali",
          "Mauritania",
          "Mexico",
          "Mongolia",
          "Montenegro",
          "Morocco",
          "Namibia",
          "Nepal",
          "Nicaragua",
          "Niger",
          "Nigeria",
          "Pakistan",
          "Panama",
          "Peru",
          "Russian Federation",
          "Saint Lucia",
          "Sao Tome and Principe",
          "Senegal",
          "Serbia",
          "Sierra Leone",
          "Somalia",
          "South Africa",
          "South Sudan",
          "Sri Lanka",
          "Sudan",
          "Suriname",
          "Tajikistan",
          "Thailand",
          "North Macedonia",
          "Togo",
          "Tonga",
          "Trinidad and Tobago",
          "Tunisia",
          "Turkey",
          "Turkmenistan",
          "Uganda",
          "Ukraine",
          "United Kingdom",
          "Uruguay",
          "Uzbekistan",
          "Viet Nam",
          "Zambia",
          "Zimbabwe"
         ],
         "locations": [
          null,
          "DZA",
          "AGO",
          "ARG",
          "ARM",
          "BGD",
          "BRB",
          "BEN",
          "BOL",
          "BIH",
          "BRA",
          "BGR",
          "BFA",
          "CMR",
          "CAF",
          "TCD",
          "CHL",
          "CHN",
          "COL",
          "CRI",
          "CIV",
          "CUB",
          "COD",
          "DJI",
          "DOM",
          "ECU",
          "EGY",
          "GMB",
          "GEO",
          "GHA",
          "GTM",
          "GNB",
          "HTI",
          "IND",
          "IDN",
          "IRQ",
          "JPN",
          "JOR",
          "KEN",
          "KIR",
          "KGZ",
          "LAO",
          "LSO",
          "MDG",
          "MDV",
          "MLI",
          "MRT",
          "MEX",
          "MNG",
          "MNE",
          "MAR",
          "NAM",
          "NPL",
          "NIC",
          "NER",
          "NGA",
          "PAK",
          "PAN",
          "PER",
          "RUS",
          "LCA",
          "STP",
          "SEN",
          "SRB",
          "SLE",
          "SOM",
          "ZAF",
          "SSD",
          "LKA",
          "SDN",
          "SUR",
          "TJK",
          "THA",
          "MKD",
          "TGO",
          "TON",
          "TTO",
          "TUN",
          "TUR",
          "TKM",
          "UGA",
          "UKR",
          "GBR",
          "URY",
          "UZB",
          "VNM",
          "ZMB",
          "ZWE"
         ],
         "name": "",
         "type": "choropleth",
         "z": {
          "bdata": "AAAAAAAA+H+fKlwEdnDOP3gCTNlXL8U/yQVuw7yG2T8gfebOHOXpP42GkxxOdNc//E24EX8c5T/xtuwEnSyiP8IStG4oIb8/6S+/63jl4j8730+Nl27qP4j029eBc+g/Ry4s2CEUjD+YBui2HtqnP2woxWf2iaM/fcRglMxWlj9i83FtqJjrP/z//1+yPeI/W9N3mW3e1j9WUDLBBSjnP/JUINp7Z5w/wQ+tLmytpT+ln2mNnRaGPwCuR+GjpK4/HmCHCf7qzj+L4rCPqZbaP7mKCyBx8cU/yWV8dMrU5D/I7J1Fw1DrPzxEi0MlxsU/n8N32HHDtT8YXnWTGFSXP+heW8VZQso/QAP68u/EtT81t0JYjSXIP4LSm59dW98/V5OnrKbr6D9BplNvITPYP9Ei2/l+atQ/dLdwwU514D+h7zs7hZ3nPy+/M2lbLI8/sZbB71JP1D8kRO6vZBi7P24GOtICUOY/pztIhTuHqz8oWSaTVK+dPxXVbC+zGdo/FW8Y7ZGB1z+NF0C05SDqP5brUbhtmMY/5gMGk28xsT822WK0CQneP9FRb6UwDKM/yOnzauP8nz9od0gxQKKhP5LZggf7Xbc/L29NvHKf0z9uqd51kZ3QP9Ei2/l+auw/Bp9NjaVm3j+yaMeTp3DcPxtrGEtg96s/SeGMWrQ17j+0nlDGGiXBP4IRJISBxsA/9P///7ehyT+6m/a+fj1vP+XQItv5fuY/8a3LaO2voD/qjd8GGSPgP90j02K2zM4/e8Snc5Lf5j/ZrVXGwHztP2iSyClQZM0/KRAUXQ0E7T9PRrMXjgHcP+bzOAzvr9g/6mZ26ycv1z/t7V7yTWfdP0NZ+Ppal2o/ZDvfT42X5j8tsp3vp8bvP2vsxWsFL+Q/UrgehetRyD/Xo3A9CtfjPxAIo5s7yK0/+2xVp+Sa0D8=",
          "dtype": "f8"
         }
        }
       ],
       "layout": {
        "coloraxis": {
         "colorbar": {
          "title": {
           "text": "Total"
          }
         },
         "colorscale": [
          [
           0,
           "rgb(247,251,255)"
          ],
          [
           0.125,
           "rgb(222,235,247)"
          ],
          [
           0.25,
           "rgb(198,219,239)"
          ],
          [
           0.375,
           "rgb(158,202,225)"
          ],
          [
           0.5,
           "rgb(107,174,214)"
          ],
          [
           0.625,
           "rgb(66,146,198)"
          ],
          [
           0.75,
           "rgb(33,113,181)"
          ],
          [
           0.875,
           "rgb(8,81,156)"
          ],
          [
           1,
           "rgb(8,48,107)"
          ]
         ]
        },
        "geo": {
         "center": {},
         "domain": {
          "x": [
           0,
           1
          ],
          "y": [
           0,
           1
          ]
         }
        },
        "height": 1000,
        "legend": {
         "tracegroupgap": 0
        },
        "template": {
         "data": {
          "bar": [
           {
            "error_x": {
             "color": "#2a3f5f"
            },
            "error_y": {
             "color": "#2a3f5f"
            },
            "marker": {
             "line": {
              "color": "#E5ECF6",
              "width": 0.5
             },
             "pattern": {
              "fillmode": "overlay",
              "size": 10,
              "solidity": 0.2
             }
            },
            "type": "bar"
           }
          ],
          "barpolar": [
           {
            "marker": {
             "line": {
              "color": "#E5ECF6",
              "width": 0.5
             },
             "pattern": {
              "fillmode": "overlay",
              "size": 10,
              "solidity": 0.2
             }
            },
            "type": "barpolar"
           }
          ],
          "carpet": [
           {
            "aaxis": {
             "endlinecolor": "#2a3f5f",
             "gridcolor": "white",
             "linecolor": "white",
             "minorgridcolor": "white",
             "startlinecolor": "#2a3f5f"
            },
            "baxis": {
             "endlinecolor": "#2a3f5f",
             "gridcolor": "white",
             "linecolor": "white",
             "minorgridcolor": "white",
             "startlinecolor": "#2a3f5f"
            },
            "type": "carpet"
           }
          ],
          "choropleth": [
           {
            "colorbar": {
             "outlinewidth": 0,
             "ticks": ""
            },
            "type": "choropleth"
           }
          ],
          "contour": [
           {
            "colorbar": {
             "outlinewidth": 0,
             "ticks": ""
            },
            "colorscale": [
             [
              0,
              "#0d0887"
             ],
             [
              0.1111111111111111,
              "#46039f"
             ],
             [
              0.2222222222222222,
              "#7201a8"
             ],
             [
              0.3333333333333333,
              "#9c179e"
             ],
             [
              0.4444444444444444,
              "#bd3786"
             ],
             [
              0.5555555555555556,
              "#d8576b"
             ],
             [
              0.6666666666666666,
              "#ed7953"
             ],
             [
              0.7777777777777778,
              "#fb9f3a"
             ],
             [
              0.8888888888888888,
              "#fdca26"
             ],
             [
              1,
              "#f0f921"
             ]
            ],
            "type": "contour"
           }
          ],
          "contourcarpet": [
           {
            "colorbar": {
             "outlinewidth": 0,
             "ticks": ""
            },
            "type": "contourcarpet"
           }
          ],
          "heatmap": [
           {
            "colorbar": {
             "outlinewidth": 0,
             "ticks": ""
            },
            "colorscale": [
             [
              0,
              "#0d0887"
             ],
             [
              0.1111111111111111,
              "#46039f"
             ],
             [
              0.2222222222222222,
              "#7201a8"
             ],
             [
              0.3333333333333333,
              "#9c179e"
             ],
             [
              0.4444444444444444,
              "#bd3786"
             ],
             [
              0.5555555555555556,
              "#d8576b"
             ],
             [
              0.6666666666666666,
              "#ed7953"
             ],
             [
              0.7777777777777778,
              "#fb9f3a"
             ],
             [
              0.8888888888888888,
              "#fdca26"
             ],
             [
              1,
              "#f0f921"
             ]
            ],
            "type": "heatmap"
           }
          ],
          "histogram": [
           {
            "marker": {
             "pattern": {
              "fillmode": "overlay",
              "size": 10,
              "solidity": 0.2
             }
            },
            "type": "histogram"
           }
          ],
          "histogram2d": [
           {
            "colorbar": {
             "outlinewidth": 0,
             "ticks": ""
            },
            "colorscale": [
             [
              0,
              "#0d0887"
             ],
             [
              0.1111111111111111,
              "#46039f"
             ],
             [
              0.2222222222222222,
              "#7201a8"
             ],
             [
              0.3333333333333333,
              "#9c179e"
             ],
             [
              0.4444444444444444,
              "#bd3786"
             ],
             [
              0.5555555555555556,
              "#d8576b"
             ],
             [
              0.6666666666666666,
              "#ed7953"
             ],
             [
              0.7777777777777778,
              "#fb9f3a"
             ],
             [
              0.8888888888888888,
              "#fdca26"
             ],
             [
              1,
              "#f0f921"
             ]
            ],
            "type": "histogram2d"
           }
          ],
          "histogram2dcontour": [
           {
            "colorbar": {
             "outlinewidth": 0,
             "ticks": ""
            },
            "colorscale": [
             [
              0,
              "#0d0887"
             ],
             [
              0.1111111111111111,
              "#46039f"
             ],
             [
              0.2222222222222222,
              "#7201a8"
             ],
             [
              0.3333333333333333,
              "#9c179e"
             ],
             [
              0.4444444444444444,
              "#bd3786"
             ],
             [
              0.5555555555555556,
              "#d8576b"
             ],
             [
              0.6666666666666666,
              "#ed7953"
             ],
             [
              0.7777777777777778,
              "#fb9f3a"
             ],
             [
              0.8888888888888888,
              "#fdca26"
             ],
             [
              1,
              "#f0f921"
             ]
            ],
            "type": "histogram2dcontour"
           }
          ],
          "mesh3d": [
           {
            "colorbar": {
             "outlinewidth": 0,
             "ticks": ""
            },
            "type": "mesh3d"
           }
          ],
          "parcoords": [
           {
            "line": {
             "colorbar": {
              "outlinewidth": 0,
              "ticks": ""
             }
            },
            "type": "parcoords"
           }
          ],
          "pie": [
           {
            "automargin": true,
            "type": "pie"
           }
          ],
          "scatter": [
           {
            "fillpattern": {
             "fillmode": "overlay",
             "size": 10,
             "solidity": 0.2
            },
            "type": "scatter"
           }
          ],
          "scatter3d": [
           {
            "line": {
             "colorbar": {
              "outlinewidth": 0,
              "ticks": ""
             }
            },
            "marker": {
             "colorbar": {
              "outlinewidth": 0,
              "ticks": ""
             }
            },
            "type": "scatter3d"
           }
          ],
          "scattercarpet": [
           {
            "marker": {
             "colorbar": {
              "outlinewidth": 0,
              "ticks": ""
             }
            },
            "type": "scattercarpet"
           }
          ],
          "scattergeo": [
           {
            "marker": {
             "colorbar": {
              "outlinewidth": 0,
              "ticks": ""
             }
            },
            "type": "scattergeo"
           }
          ],
          "scattergl": [
           {
            "marker": {
             "colorbar": {
              "outlinewidth": 0,
              "ticks": ""
             }
            },
            "type": "scattergl"
           }
          ],
          "scattermap": [
           {
            "marker": {
             "colorbar": {
              "outlinewidth": 0,
              "ticks": ""
             }
            },
            "type": "scattermap"
           }
          ],
          "scattermapbox": [
           {
            "marker": {
             "colorbar": {
              "outlinewidth": 0,
              "ticks": ""
             }
            },
            "type": "scattermapbox"
           }
          ],
          "scatterpolar": [
           {
            "marker": {
             "colorbar": {
              "outlinewidth": 0,
              "ticks": ""
             }
            },
            "type": "scatterpolar"
           }
          ],
          "scatterpolargl": [
           {
            "marker": {
             "colorbar": {
              "outlinewidth": 0,
              "ticks": ""
             }
            },
            "type": "scatterpolargl"
           }
          ],
          "scatterternary": [
           {
            "marker": {
             "colorbar": {
              "outlinewidth": 0,
              "ticks": ""
             }
            },
            "type": "scatterternary"
           }
          ],
          "surface": [
           {
            "colorbar": {
             "outlinewidth": 0,
             "ticks": ""
            },
            "colorscale": [
             [
              0,
              "#0d0887"
             ],
             [
              0.1111111111111111,
              "#46039f"
             ],
             [
              0.2222222222222222,
              "#7201a8"
             ],
             [
              0.3333333333333333,
              "#9c179e"
             ],
             [
              0.4444444444444444,
              "#bd3786"
             ],
             [
              0.5555555555555556,
              "#d8576b"
             ],
             [
              0.6666666666666666,
              "#ed7953"
             ],
             [
              0.7777777777777778,
              "#fb9f3a"
             ],
             [
              0.8888888888888888,
              "#fdca26"
             ],
             [
              1,
              "#f0f921"
             ]
            ],
            "type": "surface"
           }
          ],
          "table": [
           {
            "cells": {
             "fill": {
              "color": "#EBF0F8"
             },
             "line": {
              "color": "white"
             }
            },
            "header": {
             "fill": {
              "color": "#C8D4E3"
             },
             "line": {
              "color": "white"
             }
            },
            "type": "table"
           }
          ]
         },
         "layout": {
          "annotationdefaults": {
           "arrowcolor": "#2a3f5f",
           "arrowhead": 0,
           "arrowwidth": 1
          },
          "autotypenumbers": "strict",
          "coloraxis": {
           "colorbar": {
            "outlinewidth": 0,
            "ticks": ""
           }
          },
          "colorscale": {
           "diverging": [
            [
             0,
             "#8e0152"
            ],
            [
             0.1,
             "#c51b7d"
            ],
            [
             0.2,
             "#de77ae"
            ],
            [
             0.3,
             "#f1b6da"
            ],
            [
             0.4,
             "#fde0ef"
            ],
            [
             0.5,
             "#f7f7f7"
            ],
            [
             0.6,
             "#e6f5d0"
            ],
            [
             0.7,
             "#b8e186"
            ],
            [
             0.8,
             "#7fbc41"
            ],
            [
             0.9,
             "#4d9221"
            ],
            [
             1,
             "#276419"
            ]
           ],
           "sequential": [
            [
             0,
             "#0d0887"
            ],
            [
             0.1111111111111111,
             "#46039f"
            ],
            [
             0.2222222222222222,
             "#7201a8"
            ],
            [
             0.3333333333333333,
             "#9c179e"
            ],
            [
             0.4444444444444444,
             "#bd3786"
            ],
            [
             0.5555555555555556,
             "#d8576b"
            ],
            [
             0.6666666666666666,
             "#ed7953"
            ],
            [
             0.7777777777777778,
             "#fb9f3a"
            ],
            [
             0.8888888888888888,
             "#fdca26"
            ],
            [
             1,
             "#f0f921"
            ]
           ],
           "sequentialminus": [
            [
             0,
             "#0d0887"
            ],
            [
             0.1111111111111111,
             "#46039f"
            ],
            [
             0.2222222222222222,
             "#7201a8"
            ],
            [
             0.3333333333333333,
             "#9c179e"
            ],
            [
             0.4444444444444444,
             "#bd3786"
            ],
            [
             0.5555555555555556,
             "#d8576b"
            ],
            [
             0.6666666666666666,
             "#ed7953"
            ],
            [
             0.7777777777777778,
             "#fb9f3a"
            ],
            [
             0.8888888888888888,
             "#fdca26"
            ],
            [
             1,
             "#f0f921"
            ]
           ]
          },
          "colorway": [
           "#636efa",
           "#EF553B",
           "#00cc96",
           "#ab63fa",
           "#FFA15A",
           "#19d3f3",
           "#FF6692",
           "#B6E880",
           "#FF97FF",
           "#FECB52"
          ],
          "font": {
           "color": "#2a3f5f"
          },
          "geo": {
           "bgcolor": "white",
           "lakecolor": "white",
           "landcolor": "#E5ECF6",
           "showlakes": true,
           "showland": true,
           "subunitcolor": "white"
          },
          "hoverlabel": {
           "align": "left"
          },
          "hovermode": "closest",
          "mapbox": {
           "style": "light"
          },
          "paper_bgcolor": "white",
          "plot_bgcolor": "#E5ECF6",
          "polar": {
           "angularaxis": {
            "gridcolor": "white",
            "linecolor": "white",
            "ticks": ""
           },
           "bgcolor": "#E5ECF6",
           "radialaxis": {
            "gridcolor": "white",
            "linecolor": "white",
            "ticks": ""
           }
          },
          "scene": {
           "xaxis": {
            "backgroundcolor": "#E5ECF6",
            "gridcolor": "white",
            "gridwidth": 2,
            "linecolor": "white",
            "showbackground": true,
            "ticks": "",
            "zerolinecolor": "white"
           },
           "yaxis": {
            "backgroundcolor": "#E5ECF6",
            "gridcolor": "white",
            "gridwidth": 2,
            "linecolor": "white",
            "showbackground": true,
            "ticks": "",
            "zerolinecolor": "white"
           },
           "zaxis": {
            "backgroundcolor": "#E5ECF6",
            "gridcolor": "white",
            "gridwidth": 2,
            "linecolor": "white",
            "showbackground": true,
            "ticks": "",
            "zerolinecolor": "white"
           }
          },
          "shapedefaults": {
           "line": {
            "color": "#2a3f5f"
           }
          },
          "ternary": {
           "aaxis": {
            "gridcolor": "white",
            "linecolor": "white",
            "ticks": ""
           },
           "baxis": {
            "gridcolor": "white",
            "linecolor": "white",
            "ticks": ""
           },
           "bgcolor": "#E5ECF6",
           "caxis": {
            "gridcolor": "white",
            "linecolor": "white",
            "ticks": ""
           }
          },
          "title": {
           "x": 0.05
          },
          "xaxis": {
           "automargin": true,
           "gridcolor": "white",
           "linecolor": "white",
           "ticks": "",
           "title": {
            "standoff": 15
           },
           "zerolinecolor": "white",
           "zerolinewidth": 2
          },
          "yaxis": {
           "automargin": true,
           "gridcolor": "white",
           "linecolor": "white",
           "ticks": "",
           "title": {
            "standoff": 15
           },
           "zerolinecolor": "white",
           "zerolinewidth": 2
          }
         }
        },
        "title": {
         "text": "Global School-Age Digital Connectivity (Total)"
        },
        "width": 1800
       }
      }
     },
     "metadata": {},
     "output_type": "display_data"
    }
   ],
   "source": [
    "fig = px.choropleth(\n",
    "    df,\n",
    "    locations=\"ISO3\",\n",
    "    color=\"Total\",\n",
    "    hover_name=\"Countries and areas\",\n",
    "    color_continuous_scale=\"Blues\",\n",
    "    title=\"Global School-Age Digital Connectivity (Total)\",\n",
    "    height=1000,\n",
    "    width=1800,\n",
    ")\n",
    "fig.show()"
   ]
  },
  {
   "cell_type": "markdown",
   "id": "831afded",
   "metadata": {},
   "source": [
    "## 5. Heatmap\n",
    "**Justification**: Correlation between `Total`, `Rural`, `Urban`, `Poorest`, `Richest`.\n",
    "\n",
    "**Design Principles**: Annotate values, use diverging palette, and avoid overcrowding."
   ]
  },
  {
   "cell_type": "code",
   "execution_count": 30,
   "id": "ff42ca5e",
   "metadata": {},
   "outputs": [
    {
     "data": {
      "image/png": "[encoded data removed]",
      "text/plain": [
       "<Figure size 1400x1200 with 2 Axes>"
      ]
     },
     "metadata": {},
     "output_type": "display_data"
    }
   ],
   "source": [
    "plt.figure(figsize=(14,12))\n",
    "# Convert columns to numeric, coercing errors to NaN\n",
    "cols = [\"Total\", \"Rural\", \"Urban\", \"Poorest\", \"Richest\"]\n",
    "df_numeric = df[cols].apply(pd.to_numeric, errors='coerce')\n",
    "corr = df_numeric.corr()\n",
    "sns.heatmap(corr, annot=True, cmap=\"coolwarm\", center=0)\n",
    "plt.title(\"Correlation Heatmap\")\n",
    "plt.show()"
   ]
  },
  {
   "cell_type": "markdown",
   "id": "8c4dc69a",
   "metadata": {},
   "source": [
    "## 6. Box Plot\n",
    "**Justification**: Compare distribution of `Total` connectivity across `Income Group`.\n",
    "\n",
    "**Design Principles**: Highlight spread and outliers, use clear labels."
   ]
  },
  {
   "cell_type": "code",
   "execution_count": 22,
   "id": "6576f331",
   "metadata": {},
   "outputs": [
    {
     "data": {
      "image/png": "[encoded data removed]",
      "text/plain": [
       "<Figure size 800x600 with 1 Axes>"
      ]
     },
     "metadata": {},
     "output_type": "display_data"
    }
   ],
   "source": [
    "plt.figure(figsize=(8,6))\n",
    "sns.boxplot(data=df, x=\"Income Group\", y=\"Total\")\n",
    "plt.title(\"Total Connectivity Distribution by Income Group\")\n",
    "plt.xticks(rotation=30)\n",
    "plt.ylabel(\"% Connectivity\")\n",
    "plt.show()"
   ]
  },
  {
   "cell_type": "markdown",
   "id": "0eaded36",
   "metadata": {},
   "source": [
    "## 7. Scatter Plot\n",
    "**Justification**: Compare `Urban` vs `Rural` connectivity, colored by `Region`.\n",
    "\n",
    "**Design Principles**: Use meaningful colors, clear axis labels, transparency to avoid overplotting."
   ]
  },
  {
   "cell_type": "code",
   "execution_count": 23,
   "id": "97d33bad",
   "metadata": {},
   "outputs": [
    {
     "data": {
      "image/png": "[encoded data removed]",
      "text/plain": [
       "<Figure size 800x600 with 1 Axes>"
      ]
     },
     "metadata": {},
     "output_type": "display_data"
    }
   ],
   "source": [
    "# Convert 'Rural' and 'Urban' columns to numeric, coercing errors to NaN\n",
    "df[\"Rural\"] = pd.to_numeric(df[\"Rural\"], errors=\"coerce\")\n",
    "df[\"Urban\"] = pd.to_numeric(df[\"Urban\"], errors=\"coerce\")\n",
    "\n",
    "plt.figure(figsize=(8,6))\n",
    "sns.scatterplot(data=df, x=\"Rural\", y=\"Urban\", hue=\"Region\", alpha=0.7)\n",
    "plt.title(\"Urban vs Rural Connectivity by Region\")\n",
    "plt.xlabel(\"% Rural Connectivity\")\n",
    "plt.ylabel(\"% Urban Connectivity\")\n",
    "plt.show()"
   ]
  }
 ],
 "metadata": {
  "kernelspec": {
   "display_name": "Python 3",
   "language": "python",
   "name": "python3"
  },
  "language_info": {
   "codemirror_mode": {
    "name": "ipython",
    "version": 3
   },
   "file_extension": ".py",
   "mimetype": "text/x-python",
   "name": "python",
   "nbconvert_exporter": "python",
   "pygments_lexer": "ipython3",
   "version": "3.10.12"
  }
 },
 "nbformat": 4,
 "nbformat_minor": 5
}
