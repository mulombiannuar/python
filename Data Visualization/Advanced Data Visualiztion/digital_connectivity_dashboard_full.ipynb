{
 "cells": [
  {
   "cell_type": "markdown",
   "id": "b58b0709",
   "metadata": {},
   "source": [
    "\n",
    "# Advanced Visualization Techniques Assignment  \n",
    "## School-Age Digital Connectivity\n",
    "\n",
    "---\n",
    "\n",
    "### Introduction  \n",
    "In this notebook, we explore the *School-Age Digital Connectivity* dataset using advanced visualization techniques.  \n",
    "We apply:  \n",
    "- Static and interactive charts  \n",
    "- Storytelling with multiple visuals  \n",
    "- A comprehensive dashboard (8 visuals combined)  \n",
    "\n",
    "This helps us understand how **region, income, and demographics** affect school-age digital connectivity worldwide.  \n"
   ]
  },
  {
   "cell_type": "code",
   "execution_count": 1,
   "id": "9393d91b",
   "metadata": {},
   "outputs": [
    {
     "name": "stdout",
     "output_type": "stream",
     "text": [
      "Loaded 87 rows\n"
     ]
    },
    {
     "data": {
      "text/html": [
       "<div>\n",
       "<style scoped>\n",
       "    .dataframe tbody tr th:only-of-type {\n",
       "        vertical-align: middle;\n",
       "    }\n",
       "\n",
       "    .dataframe tbody tr th {\n",
       "        vertical-align: top;\n",
       "    }\n",
       "\n",
       "    .dataframe thead th {\n",
       "        text-align: right;\n",
       "    }\n",
       "</style>\n",
       "<table border=\"1\" class=\"dataframe\">\n",
       "  <thead>\n",
       "    <tr style=\"text-align: right;\">\n",
       "      <th></th>\n",
       "      <th>ISO3</th>\n",
       "      <th>Countries and areas</th>\n",
       "      <th>Region</th>\n",
       "      <th>Sub-region</th>\n",
       "      <th>Income Group</th>\n",
       "      <th>Total</th>\n",
       "      <th>Rural</th>\n",
       "      <th>Urban</th>\n",
       "      <th>Poorest</th>\n",
       "      <th>Richest</th>\n",
       "      <th>Data source</th>\n",
       "      <th>Time period</th>\n",
       "    </tr>\n",
       "  </thead>\n",
       "  <tbody>\n",
       "    <tr>\n",
       "      <th>0</th>\n",
       "      <td>DZA</td>\n",
       "      <td>Algeria</td>\n",
       "      <td>MENA</td>\n",
       "      <td>MENA</td>\n",
       "      <td>Upper middle income (UM)</td>\n",
       "      <td>0.237807</td>\n",
       "      <td>0.091202</td>\n",
       "      <td>0.322005</td>\n",
       "      <td>0.005888</td>\n",
       "      <td>0.772502</td>\n",
       "      <td>Multiple Indicator Cluster Survey</td>\n",
       "      <td>2018-19</td>\n",
       "    </tr>\n",
       "    <tr>\n",
       "      <th>1</th>\n",
       "      <td>AGO</td>\n",
       "      <td>Angola</td>\n",
       "      <td>SSA</td>\n",
       "      <td>ESA</td>\n",
       "      <td>Lower middle income (LM)</td>\n",
       "      <td>0.165507</td>\n",
       "      <td>0.017646</td>\n",
       "      <td>0.243431</td>\n",
       "      <td>0.000000</td>\n",
       "      <td>0.624589</td>\n",
       "      <td>Demographic and Health Survey</td>\n",
       "      <td>2015-16</td>\n",
       "    </tr>\n",
       "    <tr>\n",
       "      <th>2</th>\n",
       "      <td>ARG</td>\n",
       "      <td>Argentina</td>\n",
       "      <td>LAC</td>\n",
       "      <td>LAC</td>\n",
       "      <td>Upper middle income (UM)</td>\n",
       "      <td>0.398849</td>\n",
       "      <td>NaN</td>\n",
       "      <td>NaN</td>\n",
       "      <td>NaN</td>\n",
       "      <td>NaN</td>\n",
       "      <td>Multiple Indicator Cluster Survey</td>\n",
       "      <td>2011-12</td>\n",
       "    </tr>\n",
       "    <tr>\n",
       "      <th>3</th>\n",
       "      <td>ARM</td>\n",
       "      <td>Armenia</td>\n",
       "      <td>ECA</td>\n",
       "      <td>EECA</td>\n",
       "      <td>Upper middle income (UM)</td>\n",
       "      <td>0.809218</td>\n",
       "      <td>0.709329</td>\n",
       "      <td>0.883609</td>\n",
       "      <td>0.466020</td>\n",
       "      <td>0.991219</td>\n",
       "      <td>Demographic and Health Survey</td>\n",
       "      <td>2015-16</td>\n",
       "    </tr>\n",
       "    <tr>\n",
       "      <th>4</th>\n",
       "      <td>BGD</td>\n",
       "      <td>Bangladesh</td>\n",
       "      <td>SA</td>\n",
       "      <td>SA</td>\n",
       "      <td>Lower middle income (LM)</td>\n",
       "      <td>0.366474</td>\n",
       "      <td>0.327793</td>\n",
       "      <td>0.516416</td>\n",
       "      <td>0.087617</td>\n",
       "      <td>0.758899</td>\n",
       "      <td>Multiple Indicator Cluster Survey</td>\n",
       "      <td>2019</td>\n",
       "    </tr>\n",
       "  </tbody>\n",
       "</table>\n",
       "</div>"
      ],
      "text/plain": [
       "  ISO3 Countries and areas Region Sub-region              Income Group  \\\n",
       "0  DZA             Algeria   MENA       MENA  Upper middle income (UM)   \n",
       "1  AGO              Angola    SSA        ESA  Lower middle income (LM)   \n",
       "2  ARG           Argentina    LAC        LAC  Upper middle income (UM)   \n",
       "3  ARM             Armenia    ECA       EECA  Upper middle income (UM)   \n",
       "4  BGD          Bangladesh     SA         SA  Lower middle income (LM)   \n",
       "\n",
       "      Total     Rural     Urban   Poorest   Richest  \\\n",
       "0  0.237807  0.091202  0.322005  0.005888  0.772502   \n",
       "1  0.165507  0.017646  0.243431  0.000000  0.624589   \n",
       "2  0.398849       NaN       NaN       NaN       NaN   \n",
       "3  0.809218  0.709329  0.883609  0.466020  0.991219   \n",
       "4  0.366474  0.327793  0.516416  0.087617  0.758899   \n",
       "\n",
       "                         Data source Time period  \n",
       "0  Multiple Indicator Cluster Survey     2018-19  \n",
       "1      Demographic and Health Survey     2015-16  \n",
       "2  Multiple Indicator Cluster Survey     2011-12  \n",
       "3      Demographic and Health Survey     2015-16  \n",
       "4  Multiple Indicator Cluster Survey        2019  "
      ]
     },
     "execution_count": 1,
     "metadata": {},
     "output_type": "execute_result"
    }
   ],
   "source": [
    "import pandas as pd\n",
    "import matplotlib.pyplot as plt\n",
    "import seaborn as sns\n",
    "import plotly.express as px\n",
    "import plotly.graph_objects as go\n",
    "from plotly.subplots import make_subplots\n",
    "\n",
    "# Load dataset\n",
    "df = pd.read_excel(\n",
    "    \"School-Age-Digital-Connectivity Dataset.xlsx\", sheet_name=\"Total school age\"\n",
    ")\n",
    "# Ensure expected columns\n",
    "df.columns = [\n",
    "    \"ISO3\",\n",
    "    \"Countries and areas\",\n",
    "    \"Region\",\n",
    "    \"Sub-region\",\n",
    "    \"Income Group\",\n",
    "    \"Total\",\n",
    "    \"Rural\",\n",
    "    \"Urban\",\n",
    "    \"Poorest\",\n",
    "    \"Richest\",\n",
    "    \"Data source\",\n",
    "    \"Time period\",\n",
    "]\n",
    "# Convert numeric columns\n",
    "for col in [\"Total\", \"Rural\", \"Urban\", \"Poorest\", \"Richest\"]:\n",
    "    df[col] = pd.to_numeric(df[col], errors=\"coerce\")\n",
    "\n",
    "print(\"Loaded\", df.shape[0], \"rows\")\n",
    "df.head()"
   ]
  },
  {
   "cell_type": "markdown",
   "id": "14f5762e",
   "metadata": {},
   "source": [
    "\n",
    "## 1. Bar Chart — Median Total Connectivity by Region  \n",
    "\n",
    "**Why this chart?**  \n",
    "Bar charts are effective for comparing **categories**. Here, we compare the **median Total connectivity** across different regions.  \n",
    "\n",
    "**Insights:**  \n",
    "- Highlights which regions are more digitally connected.  \n",
    "- Reveals disparities between continents.  \n",
    "\n",
    "**Design principles:**  \n",
    "- Ordered bars by median values.  \n",
    "- Simple color scheme for readability.  \n"
   ]
  },
  {
   "cell_type": "code",
   "execution_count": 20,
   "id": "f6c5819a",
   "metadata": {},
   "outputs": [
    {
     "data": {
      "application/vnd.plotly.v1+json": {
       "config": {
        "plotlyServerURL": "https://plot.ly"
       },
       "data": [
        {
         "hovertemplate": "Region=%{x}<br>Median Total=%{y}<br>color=%{marker.color}<extra></extra>",
         "legendgroup": "",
         "marker": {
          "color": {
           "bdata": "iPTb14Fz6D/8//9fsj3iP+Ive+irvto/b21t+TfQ2T/I3cA4rrXTPxtrGEtg96s/",
           "dtype": "f8"
          },
          "coloraxis": "coloraxis",
          "pattern": {
           "shape": ""
          }
         },
         "name": "",
         "orientation": "v",
         "showlegend": false,
         "textposition": "auto",
         "type": "bar",
         "x": [
          "ECA",
          "EAP",
          "SA",
          "LAC",
          "MENA",
          "SSA"
         ],
         "xaxis": "x",
         "y": {
          "bdata": "iPTb14Fz6D/8//9fsj3iP+Ive+irvto/b21t+TfQ2T/I3cA4rrXTPxtrGEtg96s/",
          "dtype": "f8"
         },
         "yaxis": "y"
        }
       ],
       "layout": {
        "barmode": "relative",
        "coloraxis": {
         "colorbar": {
          "title": {
           "text": "color"
          }
         },
         "colorscale": [
          [
           0,
           "rgb(247,251,255)"
          ],
          [
           0.125,
           "rgb(222,235,247)"
          ],
          [
           0.25,
           "rgb(198,219,239)"
          ],
          [
           0.375,
           "rgb(158,202,225)"
          ],
          [
           0.5,
           "rgb(107,174,214)"
          ],
          [
           0.625,
           "rgb(66,146,198)"
          ],
          [
           0.75,
           "rgb(33,113,181)"
          ],
          [
           0.875,
           "rgb(8,81,156)"
          ],
          [
           1,
           "rgb(8,48,107)"
          ]
         ]
        },
        "height": 800,
        "legend": {
         "tracegroupgap": 0
        },
        "template": {
         "data": {
          "bar": [
           {
            "error_x": {
             "color": "#2a3f5f"
            },
            "error_y": {
             "color": "#2a3f5f"
            },
            "marker": {
             "line": {
              "color": "#E5ECF6",
              "width": 0.5
             },
             "pattern": {
              "fillmode": "overlay",
              "size": 10,
              "solidity": 0.2
             }
            },
            "type": "bar"
           }
          ],
          "barpolar": [
           {
            "marker": {
             "line": {
              "color": "#E5ECF6",
              "width": 0.5
             },
             "pattern": {
              "fillmode": "overlay",
              "size": 10,
              "solidity": 0.2
             }
            },
            "type": "barpolar"
           }
          ],
          "carpet": [
           {
            "aaxis": {
             "endlinecolor": "#2a3f5f",
             "gridcolor": "white",
             "linecolor": "white",
             "minorgridcolor": "white",
             "startlinecolor": "#2a3f5f"
            },
            "baxis": {
             "endlinecolor": "#2a3f5f",
             "gridcolor": "white",
             "linecolor": "white",
             "minorgridcolor": "white",
             "startlinecolor": "#2a3f5f"
            },
            "type": "carpet"
           }
          ],
          "choropleth": [
           {
            "colorbar": {
             "outlinewidth": 0,
             "ticks": ""
            },
            "type": "choropleth"
           }
          ],
          "contour": [
           {
            "colorbar": {
             "outlinewidth": 0,
             "ticks": ""
            },
            "colorscale": [
             [
              0,
              "#0d0887"
             ],
             [
              0.1111111111111111,
              "#46039f"
             ],
             [
              0.2222222222222222,
              "#7201a8"
             ],
             [
              0.3333333333333333,
              "#9c179e"
             ],
             [
              0.4444444444444444,
              "#bd3786"
             ],
             [
              0.5555555555555556,
              "#d8576b"
             ],
             [
              0.6666666666666666,
              "#ed7953"
             ],
             [
              0.7777777777777778,
              "#fb9f3a"
             ],
             [
              0.8888888888888888,
              "#fdca26"
             ],
             [
              1,
              "#f0f921"
             ]
            ],
            "type": "contour"
           }
          ],
          "contourcarpet": [
           {
            "colorbar": {
             "outlinewidth": 0,
             "ticks": ""
            },
            "type": "contourcarpet"
           }
          ],
          "heatmap": [
           {
            "colorbar": {
             "outlinewidth": 0,
             "ticks": ""
            },
            "colorscale": [
             [
              0,
              "#0d0887"
             ],
             [
              0.1111111111111111,
              "#46039f"
             ],
             [
              0.2222222222222222,
              "#7201a8"
             ],
             [
              0.3333333333333333,
              "#9c179e"
             ],
             [
              0.4444444444444444,
              "#bd3786"
             ],
             [
              0.5555555555555556,
              "#d8576b"
             ],
             [
              0.6666666666666666,
              "#ed7953"
             ],
             [
              0.7777777777777778,
              "#fb9f3a"
             ],
             [
              0.8888888888888888,
              "#fdca26"
             ],
             [
              1,
              "#f0f921"
             ]
            ],
            "type": "heatmap"
           }
          ],
          "histogram": [
           {
            "marker": {
             "pattern": {
              "fillmode": "overlay",
              "size": 10,
              "solidity": 0.2
             }
            },
            "type": "histogram"
           }
          ],
          "histogram2d": [
           {
            "colorbar": {
             "outlinewidth": 0,
             "ticks": ""
            },
            "colorscale": [
             [
              0,
              "#0d0887"
             ],
             [
              0.1111111111111111,
              "#46039f"
             ],
             [
              0.2222222222222222,
              "#7201a8"
             ],
             [
              0.3333333333333333,
              "#9c179e"
             ],
             [
              0.4444444444444444,
              "#bd3786"
             ],
             [
              0.5555555555555556,
              "#d8576b"
             ],
             [
              0.6666666666666666,
              "#ed7953"
             ],
             [
              0.7777777777777778,
              "#fb9f3a"
             ],
             [
              0.8888888888888888,
              "#fdca26"
             ],
             [
              1,
              "#f0f921"
             ]
            ],
            "type": "histogram2d"
           }
          ],
          "histogram2dcontour": [
           {
            "colorbar": {
             "outlinewidth": 0,
             "ticks": ""
            },
            "colorscale": [
             [
              0,
              "#0d0887"
             ],
             [
              0.1111111111111111,
              "#46039f"
             ],
             [
              0.2222222222222222,
              "#7201a8"
             ],
             [
              0.3333333333333333,
              "#9c179e"
             ],
             [
              0.4444444444444444,
              "#bd3786"
             ],
             [
              0.5555555555555556,
              "#d8576b"
             ],
             [
              0.6666666666666666,
              "#ed7953"
             ],
             [
              0.7777777777777778,
              "#fb9f3a"
             ],
             [
              0.8888888888888888,
              "#fdca26"
             ],
             [
              1,
              "#f0f921"
             ]
            ],
            "type": "histogram2dcontour"
           }
          ],
          "mesh3d": [
           {
            "colorbar": {
             "outlinewidth": 0,
             "ticks": ""
            },
            "type": "mesh3d"
           }
          ],
          "parcoords": [
           {
            "line": {
             "colorbar": {
              "outlinewidth": 0,
              "ticks": ""
             }
            },
            "type": "parcoords"
           }
          ],
          "pie": [
           {
            "automargin": true,
            "type": "pie"
           }
          ],
          "scatter": [
           {
            "fillpattern": {
             "fillmode": "overlay",
             "size": 10,
             "solidity": 0.2
            },
            "type": "scatter"
           }
          ],
          "scatter3d": [
           {
            "line": {
             "colorbar": {
              "outlinewidth": 0,
              "ticks": ""
             }
            },
            "marker": {
             "colorbar": {
              "outlinewidth": 0,
              "ticks": ""
             }
            },
            "type": "scatter3d"
           }
          ],
          "scattercarpet": [
           {
            "marker": {
             "colorbar": {
              "outlinewidth": 0,
              "ticks": ""
             }
            },
            "type": "scattercarpet"
           }
          ],
          "scattergeo": [
           {
            "marker": {
             "colorbar": {
              "outlinewidth": 0,
              "ticks": ""
             }
            },
            "type": "scattergeo"
           }
          ],
          "scattergl": [
           {
            "marker": {
             "colorbar": {
              "outlinewidth": 0,
              "ticks": ""
             }
            },
            "type": "scattergl"
           }
          ],
          "scattermap": [
           {
            "marker": {
             "colorbar": {
              "outlinewidth": 0,
              "ticks": ""
             }
            },
            "type": "scattermap"
           }
          ],
          "scattermapbox": [
           {
            "marker": {
             "colorbar": {
              "outlinewidth": 0,
              "ticks": ""
             }
            },
            "type": "scattermapbox"
           }
          ],
          "scatterpolar": [
           {
            "marker": {
             "colorbar": {
              "outlinewidth": 0,
              "ticks": ""
             }
            },
            "type": "scatterpolar"
           }
          ],
          "scatterpolargl": [
           {
            "marker": {
             "colorbar": {
              "outlinewidth": 0,
              "ticks": ""
             }
            },
            "type": "scatterpolargl"
           }
          ],
          "scatterternary": [
           {
            "marker": {
             "colorbar": {
              "outlinewidth": 0,
              "ticks": ""
             }
            },
            "type": "scatterternary"
           }
          ],
          "surface": [
           {
            "colorbar": {
             "outlinewidth": 0,
             "ticks": ""
            },
            "colorscale": [
             [
              0,
              "#0d0887"
             ],
             [
              0.1111111111111111,
              "#46039f"
             ],
             [
              0.2222222222222222,
              "#7201a8"
             ],
             [
              0.3333333333333333,
              "#9c179e"
             ],
             [
              0.4444444444444444,
              "#bd3786"
             ],
             [
              0.5555555555555556,
              "#d8576b"
             ],
             [
              0.6666666666666666,
              "#ed7953"
             ],
             [
              0.7777777777777778,
              "#fb9f3a"
             ],
             [
              0.8888888888888888,
              "#fdca26"
             ],
             [
              1,
              "#f0f921"
             ]
            ],
            "type": "surface"
           }
          ],
          "table": [
           {
            "cells": {
             "fill": {
              "color": "#EBF0F8"
             },
             "line": {
              "color": "white"
             }
            },
            "header": {
             "fill": {
              "color": "#C8D4E3"
             },
             "line": {
              "color": "white"
             }
            },
            "type": "table"
           }
          ]
         },
         "layout": {
          "annotationdefaults": {
           "arrowcolor": "#2a3f5f",
           "arrowhead": 0,
           "arrowwidth": 1
          },
          "autotypenumbers": "strict",
          "coloraxis": {
           "colorbar": {
            "outlinewidth": 0,
            "ticks": ""
           }
          },
          "colorscale": {
           "diverging": [
            [
             0,
             "#8e0152"
            ],
            [
             0.1,
             "#c51b7d"
            ],
            [
             0.2,
             "#de77ae"
            ],
            [
             0.3,
             "#f1b6da"
            ],
            [
             0.4,
             "#fde0ef"
            ],
            [
             0.5,
             "#f7f7f7"
            ],
            [
             0.6,
             "#e6f5d0"
            ],
            [
             0.7,
             "#b8e186"
            ],
            [
             0.8,
             "#7fbc41"
            ],
            [
             0.9,
             "#4d9221"
            ],
            [
             1,
             "#276419"
            ]
           ],
           "sequential": [
            [
             0,
             "#0d0887"
            ],
            [
             0.1111111111111111,
             "#46039f"
            ],
            [
             0.2222222222222222,
             "#7201a8"
            ],
            [
             0.3333333333333333,
             "#9c179e"
            ],
            [
             0.4444444444444444,
             "#bd3786"
            ],
            [
             0.5555555555555556,
             "#d8576b"
            ],
            [
             0.6666666666666666,
             "#ed7953"
            ],
            [
             0.7777777777777778,
             "#fb9f3a"
            ],
            [
             0.8888888888888888,
             "#fdca26"
            ],
            [
             1,
             "#f0f921"
            ]
           ],
           "sequentialminus": [
            [
             0,
             "#0d0887"
            ],
            [
             0.1111111111111111,
             "#46039f"
            ],
            [
             0.2222222222222222,
             "#7201a8"
            ],
            [
             0.3333333333333333,
             "#9c179e"
            ],
            [
             0.4444444444444444,
             "#bd3786"
            ],
            [
             0.5555555555555556,
             "#d8576b"
            ],
            [
             0.6666666666666666,
             "#ed7953"
            ],
            [
             0.7777777777777778,
             "#fb9f3a"
            ],
            [
             0.8888888888888888,
             "#fdca26"
            ],
            [
             1,
             "#f0f921"
            ]
           ]
          },
          "colorway": [
           "#636efa",
           "#EF553B",
           "#00cc96",
           "#ab63fa",
           "#FFA15A",
           "#19d3f3",
           "#FF6692",
           "#B6E880",
           "#FF97FF",
           "#FECB52"
          ],
          "font": {
           "color": "#2a3f5f"
          },
          "geo": {
           "bgcolor": "white",
           "lakecolor": "white",
           "landcolor": "#E5ECF6",
           "showlakes": true,
           "showland": true,
           "subunitcolor": "white"
          },
          "hoverlabel": {
           "align": "left"
          },
          "hovermode": "closest",
          "mapbox": {
           "style": "light"
          },
          "paper_bgcolor": "white",
          "plot_bgcolor": "#E5ECF6",
          "polar": {
           "angularaxis": {
            "gridcolor": "white",
            "linecolor": "white",
            "ticks": ""
           },
           "bgcolor": "#E5ECF6",
           "radialaxis": {
            "gridcolor": "white",
            "linecolor": "white",
            "ticks": ""
           }
          },
          "scene": {
           "xaxis": {
            "backgroundcolor": "#E5ECF6",
            "gridcolor": "white",
            "gridwidth": 2,
            "linecolor": "white",
            "showbackground": true,
            "ticks": "",
            "zerolinecolor": "white"
           },
           "yaxis": {
            "backgroundcolor": "#E5ECF6",
            "gridcolor": "white",
            "gridwidth": 2,
            "linecolor": "white",
            "showbackground": true,
            "ticks": "",
            "zerolinecolor": "white"
           },
           "zaxis": {
            "backgroundcolor": "#E5ECF6",
            "gridcolor": "white",
            "gridwidth": 2,
            "linecolor": "white",
            "showbackground": true,
            "ticks": "",
            "zerolinecolor": "white"
           }
          },
          "shapedefaults": {
           "line": {
            "color": "#2a3f5f"
           }
          },
          "ternary": {
           "aaxis": {
            "gridcolor": "white",
            "linecolor": "white",
            "ticks": ""
           },
           "baxis": {
            "gridcolor": "white",
            "linecolor": "white",
            "ticks": ""
           },
           "bgcolor": "#E5ECF6",
           "caxis": {
            "gridcolor": "white",
            "linecolor": "white",
            "ticks": ""
           }
          },
          "title": {
           "x": 0.05
          },
          "xaxis": {
           "automargin": true,
           "gridcolor": "white",
           "linecolor": "white",
           "ticks": "",
           "title": {
            "standoff": 15
           },
           "zerolinecolor": "white",
           "zerolinewidth": 2
          },
          "yaxis": {
           "automargin": true,
           "gridcolor": "white",
           "linecolor": "white",
           "ticks": "",
           "title": {
            "standoff": 15
           },
           "zerolinecolor": "white",
           "zerolinewidth": 2
          }
         }
        },
        "title": {
         "text": "Median Total Connectivity by Region"
        },
        "xaxis": {
         "anchor": "y",
         "domain": [
          0,
          1
         ],
         "title": {
          "text": "Region"
         }
        },
        "yaxis": {
         "anchor": "x",
         "domain": [
          0,
          1
         ],
         "title": {
          "text": "Median Total"
         }
        }
       }
      }
     },
     "metadata": {},
     "output_type": "display_data"
    }
   ],
   "source": [
    "\n",
    "median_by_region = df.groupby('Region')['Total'].median().sort_values(ascending=False)\n",
    "fig = px.bar(median_by_region, x=median_by_region.index, y=median_by_region.values,\n",
    "             title=\"Median Total Connectivity by Region\", height=800,\n",
    "             labels={'x': 'Region', 'y': 'Median Total'},\n",
    "             color=median_by_region.values, color_continuous_scale=\"Blues\")\n",
    "fig.show()\n"
   ]
  },
  {
   "cell_type": "markdown",
   "id": "23076137",
   "metadata": {},
   "source": [
    "\n",
    "## 2. Histogram — Distribution of Total Connectivity  \n",
    "\n",
    "**Why this chart?**  \n",
    "Histograms show the **distribution** of a numerical variable. We use it for the `Total` connectivity to see how countries are spread across connectivity levels.  \n",
    "\n",
    "**Insights:**  \n",
    "- Identifies clusters of countries with similar connectivity.  \n",
    "- Detects skewness (e.g., many countries with low connectivity).  \n",
    "\n",
    "**Design principles:**  \n",
    "- Clear bin size for readability.  \n",
    "- Neutral colors to focus on distribution shape.  \n"
   ]
  },
  {
   "cell_type": "code",
   "execution_count": 14,
   "id": "54306bf2",
   "metadata": {},
   "outputs": [
    {
     "data": {
      "application/vnd.plotly.v1+json": {
       "config": {
        "plotlyServerURL": "https://plot.ly"
       },
       "data": [
        {
         "bingroup": "x",
         "hovertemplate": "Total Connectivity (%)=%{x}<br>count=%{y}<extra></extra>",
         "legendgroup": "",
         "marker": {
          "color": "steelblue",
          "pattern": {
           "shape": ""
          }
         },
         "name": "",
         "nbinsx": 20,
         "orientation": "v",
         "showlegend": false,
         "type": "histogram",
         "x": {
          "bdata": "nypcBHZwzj94AkzZVy/FP8kFbsO8htk/IH3mzhzl6T+NhpMcTnTXP/xNuBF/HOU/8bbsBJ0soj/CErRuKCG/P+kvv+t45eI/O99PjZdu6j+I9NvXgXPoP0cuLNghFIw/mAboth7apz9sKMVn9omjP33EYJTMVpY/YvNxbaiY6z/8//9fsj3iP1vTd5lt3tY/VlAywQUo5z/yVCDae2ecP8EPrS5sraU/pZ9pjZ0Whj8Hrkfho6SuPx5ghwn+6s4/i+Kwj6mW2j+5igsgcfHFP8llfHTK1OQ/yOydRcNQ6z88RItDJcbFP5/Dd9hxw7U/GF51kxhUlz/oXlvFWULKP0AD+vLvxLU/NbdCWI0lyD+C0pufXVvfP1eTp6ym6+g/QaZTbyEz2D/RItv5fmrUP3S3cMFOdeA/oe87O4Wd5z8vvzNpWyyPP7GWwe9ST9Q/JETur2QYuz9uBjrSAlDmP6c7SIU7h6s/KFkmk1SvnT8V1WwvsxnaPxVvGO2Rgdc/jRdAtOUg6j+X61G4bZjGP+YDBpNvMbE/NtlitAkJ3j/RUW+lMAyjP8fp82rj/J8/aHdIMUCioT+S2YIH+123Py9vTbxyn9M/bqnedZGd0D/RItv5fmrsPwafTY2lZt4/smjHk6dw3D8baxhLYPerP0nhjFq0Ne4/tJ5QxholwT+CESSEgcbAP/T///+3ock/upv2vn49bz/l0CLb+X7mP/Gty2jtr6A/6o3fBhkj4D/dI9NitszOP3vEp3OS3+Y/2a1VxsB87T9oksgpUGTNPykQFF0NBO0/T0azF44B3D/m8zgM76/YP+pmdusnL9c/7e1e8k1n3T9DWfj6WpdqP2Q730+Nl+Y/LbKd76fG7z9r7MVrBS/kP1K4HoXrUcg/16NwPQrX4z8QCKObO8itP/tsVafkmtA/",
          "dtype": "f8"
         },
         "xaxis": "x",
         "yaxis": "y"
        }
       ],
       "layout": {
        "barmode": "relative",
        "height": 800,
        "legend": {
         "tracegroupgap": 0
        },
        "template": {
         "data": {
          "bar": [
           {
            "error_x": {
             "color": "#2a3f5f"
            },
            "error_y": {
             "color": "#2a3f5f"
            },
            "marker": {
             "line": {
              "color": "#E5ECF6",
              "width": 0.5
             },
             "pattern": {
              "fillmode": "overlay",
              "size": 10,
              "solidity": 0.2
             }
            },
            "type": "bar"
           }
          ],
          "barpolar": [
           {
            "marker": {
             "line": {
              "color": "#E5ECF6",
              "width": 0.5
             },
             "pattern": {
              "fillmode": "overlay",
              "size": 10,
              "solidity": 0.2
             }
            },
            "type": "barpolar"
           }
          ],
          "carpet": [
           {
            "aaxis": {
             "endlinecolor": "#2a3f5f",
             "gridcolor": "white",
             "linecolor": "white",
             "minorgridcolor": "white",
             "startlinecolor": "#2a3f5f"
            },
            "baxis": {
             "endlinecolor": "#2a3f5f",
             "gridcolor": "white",
             "linecolor": "white",
             "minorgridcolor": "white",
             "startlinecolor": "#2a3f5f"
            },
            "type": "carpet"
           }
          ],
          "choropleth": [
           {
            "colorbar": {
             "outlinewidth": 0,
             "ticks": ""
            },
            "type": "choropleth"
           }
          ],
          "contour": [
           {
            "colorbar": {
             "outlinewidth": 0,
             "ticks": ""
            },
            "colorscale": [
             [
              0,
              "#0d0887"
             ],
             [
              0.1111111111111111,
              "#46039f"
             ],
             [
              0.2222222222222222,
              "#7201a8"
             ],
             [
              0.3333333333333333,
              "#9c179e"
             ],
             [
              0.4444444444444444,
              "#bd3786"
             ],
             [
              0.5555555555555556,
              "#d8576b"
             ],
             [
              0.6666666666666666,
              "#ed7953"
             ],
             [
              0.7777777777777778,
              "#fb9f3a"
             ],
             [
              0.8888888888888888,
              "#fdca26"
             ],
             [
              1,
              "#f0f921"
             ]
            ],
            "type": "contour"
           }
          ],
          "contourcarpet": [
           {
            "colorbar": {
             "outlinewidth": 0,
             "ticks": ""
            },
            "type": "contourcarpet"
           }
          ],
          "heatmap": [
           {
            "colorbar": {
             "outlinewidth": 0,
             "ticks": ""
            },
            "colorscale": [
             [
              0,
              "#0d0887"
             ],
             [
              0.1111111111111111,
              "#46039f"
             ],
             [
              0.2222222222222222,
              "#7201a8"
             ],
             [
              0.3333333333333333,
              "#9c179e"
             ],
             [
              0.4444444444444444,
              "#bd3786"
             ],
             [
              0.5555555555555556,
              "#d8576b"
             ],
             [
              0.6666666666666666,
              "#ed7953"
             ],
             [
              0.7777777777777778,
              "#fb9f3a"
             ],
             [
              0.8888888888888888,
              "#fdca26"
             ],
             [
              1,
              "#f0f921"
             ]
            ],
            "type": "heatmap"
           }
          ],
          "histogram": [
           {
            "marker": {
             "pattern": {
              "fillmode": "overlay",
              "size": 10,
              "solidity": 0.2
             }
            },
            "type": "histogram"
           }
          ],
          "histogram2d": [
           {
            "colorbar": {
             "outlinewidth": 0,
             "ticks": ""
            },
            "colorscale": [
             [
              0,
              "#0d0887"
             ],
             [
              0.1111111111111111,
              "#46039f"
             ],
             [
              0.2222222222222222,
              "#7201a8"
             ],
             [
              0.3333333333333333,
              "#9c179e"
             ],
             [
              0.4444444444444444,
              "#bd3786"
             ],
             [
              0.5555555555555556,
              "#d8576b"
             ],
             [
              0.6666666666666666,
              "#ed7953"
             ],
             [
              0.7777777777777778,
              "#fb9f3a"
             ],
             [
              0.8888888888888888,
              "#fdca26"
             ],
             [
              1,
              "#f0f921"
             ]
            ],
            "type": "histogram2d"
           }
          ],
          "histogram2dcontour": [
           {
            "colorbar": {
             "outlinewidth": 0,
             "ticks": ""
            },
            "colorscale": [
             [
              0,
              "#0d0887"
             ],
             [
              0.1111111111111111,
              "#46039f"
             ],
             [
              0.2222222222222222,
              "#7201a8"
             ],
             [
              0.3333333333333333,
              "#9c179e"
             ],
             [
              0.4444444444444444,
              "#bd3786"
             ],
             [
              0.5555555555555556,
              "#d8576b"
             ],
             [
              0.6666666666666666,
              "#ed7953"
             ],
             [
              0.7777777777777778,
              "#fb9f3a"
             ],
             [
              0.8888888888888888,
              "#fdca26"
             ],
             [
              1,
              "#f0f921"
             ]
            ],
            "type": "histogram2dcontour"
           }
          ],
          "mesh3d": [
           {
            "colorbar": {
             "outlinewidth": 0,
             "ticks": ""
            },
            "type": "mesh3d"
           }
          ],
          "parcoords": [
           {
            "line": {
             "colorbar": {
              "outlinewidth": 0,
              "ticks": ""
             }
            },
            "type": "parcoords"
           }
          ],
          "pie": [
           {
            "automargin": true,
            "type": "pie"
           }
          ],
          "scatter": [
           {
            "fillpattern": {
             "fillmode": "overlay",
             "size": 10,
             "solidity": 0.2
            },
            "type": "scatter"
           }
          ],
          "scatter3d": [
           {
            "line": {
             "colorbar": {
              "outlinewidth": 0,
              "ticks": ""
             }
            },
            "marker": {
             "colorbar": {
              "outlinewidth": 0,
              "ticks": ""
             }
            },
            "type": "scatter3d"
           }
          ],
          "scattercarpet": [
           {
            "marker": {
             "colorbar": {
              "outlinewidth": 0,
              "ticks": ""
             }
            },
            "type": "scattercarpet"
           }
          ],
          "scattergeo": [
           {
            "marker": {
             "colorbar": {
              "outlinewidth": 0,
              "ticks": ""
             }
            },
            "type": "scattergeo"
           }
          ],
          "scattergl": [
           {
            "marker": {
             "colorbar": {
              "outlinewidth": 0,
              "ticks": ""
             }
            },
            "type": "scattergl"
           }
          ],
          "scattermap": [
           {
            "marker": {
             "colorbar": {
              "outlinewidth": 0,
              "ticks": ""
             }
            },
            "type": "scattermap"
           }
          ],
          "scattermapbox": [
           {
            "marker": {
             "colorbar": {
              "outlinewidth": 0,
              "ticks": ""
             }
            },
            "type": "scattermapbox"
           }
          ],
          "scatterpolar": [
           {
            "marker": {
             "colorbar": {
              "outlinewidth": 0,
              "ticks": ""
             }
            },
            "type": "scatterpolar"
           }
          ],
          "scatterpolargl": [
           {
            "marker": {
             "colorbar": {
              "outlinewidth": 0,
              "ticks": ""
             }
            },
            "type": "scatterpolargl"
           }
          ],
          "scatterternary": [
           {
            "marker": {
             "colorbar": {
              "outlinewidth": 0,
              "ticks": ""
             }
            },
            "type": "scatterternary"
           }
          ],
          "surface": [
           {
            "colorbar": {
             "outlinewidth": 0,
             "ticks": ""
            },
            "colorscale": [
             [
              0,
              "#0d0887"
             ],
             [
              0.1111111111111111,
              "#46039f"
             ],
             [
              0.2222222222222222,
              "#7201a8"
             ],
             [
              0.3333333333333333,
              "#9c179e"
             ],
             [
              0.4444444444444444,
              "#bd3786"
             ],
             [
              0.5555555555555556,
              "#d8576b"
             ],
             [
              0.6666666666666666,
              "#ed7953"
             ],
             [
              0.7777777777777778,
              "#fb9f3a"
             ],
             [
              0.8888888888888888,
              "#fdca26"
             ],
             [
              1,
              "#f0f921"
             ]
            ],
            "type": "surface"
           }
          ],
          "table": [
           {
            "cells": {
             "fill": {
              "color": "#EBF0F8"
             },
             "line": {
              "color": "white"
             }
            },
            "header": {
             "fill": {
              "color": "#C8D4E3"
             },
             "line": {
              "color": "white"
             }
            },
            "type": "table"
           }
          ]
         },
         "layout": {
          "annotationdefaults": {
           "arrowcolor": "#2a3f5f",
           "arrowhead": 0,
           "arrowwidth": 1
          },
          "autotypenumbers": "strict",
          "coloraxis": {
           "colorbar": {
            "outlinewidth": 0,
            "ticks": ""
           }
          },
          "colorscale": {
           "diverging": [
            [
             0,
             "#8e0152"
            ],
            [
             0.1,
             "#c51b7d"
            ],
            [
             0.2,
             "#de77ae"
            ],
            [
             0.3,
             "#f1b6da"
            ],
            [
             0.4,
             "#fde0ef"
            ],
            [
             0.5,
             "#f7f7f7"
            ],
            [
             0.6,
             "#e6f5d0"
            ],
            [
             0.7,
             "#b8e186"
            ],
            [
             0.8,
             "#7fbc41"
            ],
            [
             0.9,
             "#4d9221"
            ],
            [
             1,
             "#276419"
            ]
           ],
           "sequential": [
            [
             0,
             "#0d0887"
            ],
            [
             0.1111111111111111,
             "#46039f"
            ],
            [
             0.2222222222222222,
             "#7201a8"
            ],
            [
             0.3333333333333333,
             "#9c179e"
            ],
            [
             0.4444444444444444,
             "#bd3786"
            ],
            [
             0.5555555555555556,
             "#d8576b"
            ],
            [
             0.6666666666666666,
             "#ed7953"
            ],
            [
             0.7777777777777778,
             "#fb9f3a"
            ],
            [
             0.8888888888888888,
             "#fdca26"
            ],
            [
             1,
             "#f0f921"
            ]
           ],
           "sequentialminus": [
            [
             0,
             "#0d0887"
            ],
            [
             0.1111111111111111,
             "#46039f"
            ],
            [
             0.2222222222222222,
             "#7201a8"
            ],
            [
             0.3333333333333333,
             "#9c179e"
            ],
            [
             0.4444444444444444,
             "#bd3786"
            ],
            [
             0.5555555555555556,
             "#d8576b"
            ],
            [
             0.6666666666666666,
             "#ed7953"
            ],
            [
             0.7777777777777778,
             "#fb9f3a"
            ],
            [
             0.8888888888888888,
             "#fdca26"
            ],
            [
             1,
             "#f0f921"
            ]
           ]
          },
          "colorway": [
           "#636efa",
           "#EF553B",
           "#00cc96",
           "#ab63fa",
           "#FFA15A",
           "#19d3f3",
           "#FF6692",
           "#B6E880",
           "#FF97FF",
           "#FECB52"
          ],
          "font": {
           "color": "#2a3f5f"
          },
          "geo": {
           "bgcolor": "white",
           "lakecolor": "white",
           "landcolor": "#E5ECF6",
           "showlakes": true,
           "showland": true,
           "subunitcolor": "white"
          },
          "hoverlabel": {
           "align": "left"
          },
          "hovermode": "closest",
          "mapbox": {
           "style": "light"
          },
          "paper_bgcolor": "white",
          "plot_bgcolor": "#E5ECF6",
          "polar": {
           "angularaxis": {
            "gridcolor": "white",
            "linecolor": "white",
            "ticks": ""
           },
           "bgcolor": "#E5ECF6",
           "radialaxis": {
            "gridcolor": "white",
            "linecolor": "white",
            "ticks": ""
           }
          },
          "scene": {
           "xaxis": {
            "backgroundcolor": "#E5ECF6",
            "gridcolor": "white",
            "gridwidth": 2,
            "linecolor": "white",
            "showbackground": true,
            "ticks": "",
            "zerolinecolor": "white"
           },
           "yaxis": {
            "backgroundcolor": "#E5ECF6",
            "gridcolor": "white",
            "gridwidth": 2,
            "linecolor": "white",
            "showbackground": true,
            "ticks": "",
            "zerolinecolor": "white"
           },
           "zaxis": {
            "backgroundcolor": "#E5ECF6",
            "gridcolor": "white",
            "gridwidth": 2,
            "linecolor": "white",
            "showbackground": true,
            "ticks": "",
            "zerolinecolor": "white"
           }
          },
          "shapedefaults": {
           "line": {
            "color": "#2a3f5f"
           }
          },
          "ternary": {
           "aaxis": {
            "gridcolor": "white",
            "linecolor": "white",
            "ticks": ""
           },
           "baxis": {
            "gridcolor": "white",
            "linecolor": "white",
            "ticks": ""
           },
           "bgcolor": "#E5ECF6",
           "caxis": {
            "gridcolor": "white",
            "linecolor": "white",
            "ticks": ""
           }
          },
          "title": {
           "x": 0.05
          },
          "xaxis": {
           "automargin": true,
           "gridcolor": "white",
           "linecolor": "white",
           "ticks": "",
           "title": {
            "standoff": 15
           },
           "zerolinecolor": "white",
           "zerolinewidth": 2
          },
          "yaxis": {
           "automargin": true,
           "gridcolor": "white",
           "linecolor": "white",
           "ticks": "",
           "title": {
            "standoff": 15
           },
           "zerolinecolor": "white",
           "zerolinewidth": 2
          }
         }
        },
        "title": {
         "text": "Distribution of Total Connectivity"
        },
        "xaxis": {
         "anchor": "y",
         "domain": [
          0,
          1
         ],
         "title": {
          "text": "Total Connectivity (%)"
         }
        },
        "yaxis": {
         "anchor": "x",
         "domain": [
          0,
          1
         ],
         "title": {
          "text": "count"
         }
        }
       }
      }
     },
     "metadata": {},
     "output_type": "display_data"
    }
   ],
   "source": [
    "\n",
    "fig = px.histogram(df, x=\"Total\", nbins=20, title=\"Distribution of Total Connectivity\",\n",
    "                   labels={\"Total\": \"Total Connectivity (%)\"}, height=800,\n",
    "                   color_discrete_sequence=[\"steelblue\"])\n",
    "fig.show()\n"
   ]
  },
  {
   "cell_type": "markdown",
   "id": "5738ba9a",
   "metadata": {},
   "source": [
    "\n",
    "## 3. Pie/Donut Chart — Distribution of Income Groups  \n",
    "\n",
    "**Why this chart?**  \n",
    "Pie charts show **proportions**. Here, we see the share of countries in different `Income Groups`.  \n",
    "\n",
    "**Insights:**  \n",
    "- Helps connect income status with connectivity potential.  \n",
    "- Useful for contextual understanding before deeper analysis.  \n",
    "\n",
    "**Design principles:**  \n",
    "- Donut style (`hole=0.4`) improves readability.  \n",
    "- Labels shown on hover for clarity.  \n"
   ]
  },
  {
   "cell_type": "code",
   "execution_count": 13,
   "id": "32dc2e41",
   "metadata": {},
   "outputs": [
    {
     "data": {
      "application/vnd.plotly.v1+json": {
       "config": {
        "plotlyServerURL": "https://plot.ly"
       },
       "data": [
        {
         "domain": {
          "x": [
           0,
           1
          ],
          "y": [
           0,
           1
          ]
         },
         "hole": 0.4,
         "hovertemplate": "label=%{label}<br>value=%{value}<extra></extra>",
         "labels": [
          "Upper middle income (UM)",
          "Lower middle income (LM)",
          "Low income (L)",
          "High income (H)"
         ],
         "legendgroup": "",
         "name": "",
         "showlegend": true,
         "type": "pie",
         "values": {
          "bdata": "IB4SBw==",
          "dtype": "i1"
         }
        }
       ],
       "layout": {
        "height": 800,
        "legend": {
         "tracegroupgap": 0
        },
        "piecolorway": [
         "rgb(102,194,165)",
         "rgb(252,141,98)",
         "rgb(141,160,203)",
         "rgb(231,138,195)",
         "rgb(166,216,84)",
         "rgb(255,217,47)",
         "rgb(229,196,148)",
         "rgb(179,179,179)"
        ],
        "template": {
         "data": {
          "bar": [
           {
            "error_x": {
             "color": "#2a3f5f"
            },
            "error_y": {
             "color": "#2a3f5f"
            },
            "marker": {
             "line": {
              "color": "#E5ECF6",
              "width": 0.5
             },
             "pattern": {
              "fillmode": "overlay",
              "size": 10,
              "solidity": 0.2
             }
            },
            "type": "bar"
           }
          ],
          "barpolar": [
           {
            "marker": {
             "line": {
              "color": "#E5ECF6",
              "width": 0.5
             },
             "pattern": {
              "fillmode": "overlay",
              "size": 10,
              "solidity": 0.2
             }
            },
            "type": "barpolar"
           }
          ],
          "carpet": [
           {
            "aaxis": {
             "endlinecolor": "#2a3f5f",
             "gridcolor": "white",
             "linecolor": "white",
             "minorgridcolor": "white",
             "startlinecolor": "#2a3f5f"
            },
            "baxis": {
             "endlinecolor": "#2a3f5f",
             "gridcolor": "white",
             "linecolor": "white",
             "minorgridcolor": "white",
             "startlinecolor": "#2a3f5f"
            },
            "type": "carpet"
           }
          ],
          "choropleth": [
           {
            "colorbar": {
             "outlinewidth": 0,
             "ticks": ""
            },
            "type": "choropleth"
           }
          ],
          "contour": [
           {
            "colorbar": {
             "outlinewidth": 0,
             "ticks": ""
            },
            "colorscale": [
             [
              0,
              "#0d0887"
             ],
             [
              0.1111111111111111,
              "#46039f"
             ],
             [
              0.2222222222222222,
              "#7201a8"
             ],
             [
              0.3333333333333333,
              "#9c179e"
             ],
             [
              0.4444444444444444,
              "#bd3786"
             ],
             [
              0.5555555555555556,
              "#d8576b"
             ],
             [
              0.6666666666666666,
              "#ed7953"
             ],
             [
              0.7777777777777778,
              "#fb9f3a"
             ],
             [
              0.8888888888888888,
              "#fdca26"
             ],
             [
              1,
              "#f0f921"
             ]
            ],
            "type": "contour"
           }
          ],
          "contourcarpet": [
           {
            "colorbar": {
             "outlinewidth": 0,
             "ticks": ""
            },
            "type": "contourcarpet"
           }
          ],
          "heatmap": [
           {
            "colorbar": {
             "outlinewidth": 0,
             "ticks": ""
            },
            "colorscale": [
             [
              0,
              "#0d0887"
             ],
             [
              0.1111111111111111,
              "#46039f"
             ],
             [
              0.2222222222222222,
              "#7201a8"
             ],
             [
              0.3333333333333333,
              "#9c179e"
             ],
             [
              0.4444444444444444,
              "#bd3786"
             ],
             [
              0.5555555555555556,
              "#d8576b"
             ],
             [
              0.6666666666666666,
              "#ed7953"
             ],
             [
              0.7777777777777778,
              "#fb9f3a"
             ],
             [
              0.8888888888888888,
              "#fdca26"
             ],
             [
              1,
              "#f0f921"
             ]
            ],
            "type": "heatmap"
           }
          ],
          "histogram": [
           {
            "marker": {
             "pattern": {
              "fillmode": "overlay",
              "size": 10,
              "solidity": 0.2
             }
            },
            "type": "histogram"
           }
          ],
          "histogram2d": [
           {
            "colorbar": {
             "outlinewidth": 0,
             "ticks": ""
            },
            "colorscale": [
             [
              0,
              "#0d0887"
             ],
             [
              0.1111111111111111,
              "#46039f"
             ],
             [
              0.2222222222222222,
              "#7201a8"
             ],
             [
              0.3333333333333333,
              "#9c179e"
             ],
             [
              0.4444444444444444,
              "#bd3786"
             ],
             [
              0.5555555555555556,
              "#d8576b"
             ],
             [
              0.6666666666666666,
              "#ed7953"
             ],
             [
              0.7777777777777778,
              "#fb9f3a"
             ],
             [
              0.8888888888888888,
              "#fdca26"
             ],
             [
              1,
              "#f0f921"
             ]
            ],
            "type": "histogram2d"
           }
          ],
          "histogram2dcontour": [
           {
            "colorbar": {
             "outlinewidth": 0,
             "ticks": ""
            },
            "colorscale": [
             [
              0,
              "#0d0887"
             ],
             [
              0.1111111111111111,
              "#46039f"
             ],
             [
              0.2222222222222222,
              "#7201a8"
             ],
             [
              0.3333333333333333,
              "#9c179e"
             ],
             [
              0.4444444444444444,
              "#bd3786"
             ],
             [
              0.5555555555555556,
              "#d8576b"
             ],
             [
              0.6666666666666666,
              "#ed7953"
             ],
             [
              0.7777777777777778,
              "#fb9f3a"
             ],
             [
              0.8888888888888888,
              "#fdca26"
             ],
             [
              1,
              "#f0f921"
             ]
            ],
            "type": "histogram2dcontour"
           }
          ],
          "mesh3d": [
           {
            "colorbar": {
             "outlinewidth": 0,
             "ticks": ""
            },
            "type": "mesh3d"
           }
          ],
          "parcoords": [
           {
            "line": {
             "colorbar": {
              "outlinewidth": 0,
              "ticks": ""
             }
            },
            "type": "parcoords"
           }
          ],
          "pie": [
           {
            "automargin": true,
            "type": "pie"
           }
          ],
          "scatter": [
           {
            "fillpattern": {
             "fillmode": "overlay",
             "size": 10,
             "solidity": 0.2
            },
            "type": "scatter"
           }
          ],
          "scatter3d": [
           {
            "line": {
             "colorbar": {
              "outlinewidth": 0,
              "ticks": ""
             }
            },
            "marker": {
             "colorbar": {
              "outlinewidth": 0,
              "ticks": ""
             }
            },
            "type": "scatter3d"
           }
          ],
          "scattercarpet": [
           {
            "marker": {
             "colorbar": {
              "outlinewidth": 0,
              "ticks": ""
             }
            },
            "type": "scattercarpet"
           }
          ],
          "scattergeo": [
           {
            "marker": {
             "colorbar": {
              "outlinewidth": 0,
              "ticks": ""
             }
            },
            "type": "scattergeo"
           }
          ],
          "scattergl": [
           {
            "marker": {
             "colorbar": {
              "outlinewidth": 0,
              "ticks": ""
             }
            },
            "type": "scattergl"
           }
          ],
          "scattermap": [
           {
            "marker": {
             "colorbar": {
              "outlinewidth": 0,
              "ticks": ""
             }
            },
            "type": "scattermap"
           }
          ],
          "scattermapbox": [
           {
            "marker": {
             "colorbar": {
              "outlinewidth": 0,
              "ticks": ""
             }
            },
            "type": "scattermapbox"
           }
          ],
          "scatterpolar": [
           {
            "marker": {
             "colorbar": {
              "outlinewidth": 0,
              "ticks": ""
             }
            },
            "type": "scatterpolar"
           }
          ],
          "scatterpolargl": [
           {
            "marker": {
             "colorbar": {
              "outlinewidth": 0,
              "ticks": ""
             }
            },
            "type": "scatterpolargl"
           }
          ],
          "scatterternary": [
           {
            "marker": {
             "colorbar": {
              "outlinewidth": 0,
              "ticks": ""
             }
            },
            "type": "scatterternary"
           }
          ],
          "surface": [
           {
            "colorbar": {
             "outlinewidth": 0,
             "ticks": ""
            },
            "colorscale": [
             [
              0,
              "#0d0887"
             ],
             [
              0.1111111111111111,
              "#46039f"
             ],
             [
              0.2222222222222222,
              "#7201a8"
             ],
             [
              0.3333333333333333,
              "#9c179e"
             ],
             [
              0.4444444444444444,
              "#bd3786"
             ],
             [
              0.5555555555555556,
              "#d8576b"
             ],
             [
              0.6666666666666666,
              "#ed7953"
             ],
             [
              0.7777777777777778,
              "#fb9f3a"
             ],
             [
              0.8888888888888888,
              "#fdca26"
             ],
             [
              1,
              "#f0f921"
             ]
            ],
            "type": "surface"
           }
          ],
          "table": [
           {
            "cells": {
             "fill": {
              "color": "#EBF0F8"
             },
             "line": {
              "color": "white"
             }
            },
            "header": {
             "fill": {
              "color": "#C8D4E3"
             },
             "line": {
              "color": "white"
             }
            },
            "type": "table"
           }
          ]
         },
         "layout": {
          "annotationdefaults": {
           "arrowcolor": "#2a3f5f",
           "arrowhead": 0,
           "arrowwidth": 1
          },
          "autotypenumbers": "strict",
          "coloraxis": {
           "colorbar": {
            "outlinewidth": 0,
            "ticks": ""
           }
          },
          "colorscale": {
           "diverging": [
            [
             0,
             "#8e0152"
            ],
            [
             0.1,
             "#c51b7d"
            ],
            [
             0.2,
             "#de77ae"
            ],
            [
             0.3,
             "#f1b6da"
            ],
            [
             0.4,
             "#fde0ef"
            ],
            [
             0.5,
             "#f7f7f7"
            ],
            [
             0.6,
             "#e6f5d0"
            ],
            [
             0.7,
             "#b8e186"
            ],
            [
             0.8,
             "#7fbc41"
            ],
            [
             0.9,
             "#4d9221"
            ],
            [
             1,
             "#276419"
            ]
           ],
           "sequential": [
            [
             0,
             "#0d0887"
            ],
            [
             0.1111111111111111,
             "#46039f"
            ],
            [
             0.2222222222222222,
             "#7201a8"
            ],
            [
             0.3333333333333333,
             "#9c179e"
            ],
            [
             0.4444444444444444,
             "#bd3786"
            ],
            [
             0.5555555555555556,
             "#d8576b"
            ],
            [
             0.6666666666666666,
             "#ed7953"
            ],
            [
             0.7777777777777778,
             "#fb9f3a"
            ],
            [
             0.8888888888888888,
             "#fdca26"
            ],
            [
             1,
             "#f0f921"
            ]
           ],
           "sequentialminus": [
            [
             0,
             "#0d0887"
            ],
            [
             0.1111111111111111,
             "#46039f"
            ],
            [
             0.2222222222222222,
             "#7201a8"
            ],
            [
             0.3333333333333333,
             "#9c179e"
            ],
            [
             0.4444444444444444,
             "#bd3786"
            ],
            [
             0.5555555555555556,
             "#d8576b"
            ],
            [
             0.6666666666666666,
             "#ed7953"
            ],
            [
             0.7777777777777778,
             "#fb9f3a"
            ],
            [
             0.8888888888888888,
             "#fdca26"
            ],
            [
             1,
             "#f0f921"
            ]
           ]
          },
          "colorway": [
           "#636efa",
           "#EF553B",
           "#00cc96",
           "#ab63fa",
           "#FFA15A",
           "#19d3f3",
           "#FF6692",
           "#B6E880",
           "#FF97FF",
           "#FECB52"
          ],
          "font": {
           "color": "#2a3f5f"
          },
          "geo": {
           "bgcolor": "white",
           "lakecolor": "white",
           "landcolor": "#E5ECF6",
           "showlakes": true,
           "showland": true,
           "subunitcolor": "white"
          },
          "hoverlabel": {
           "align": "left"
          },
          "hovermode": "closest",
          "mapbox": {
           "style": "light"
          },
          "paper_bgcolor": "white",
          "plot_bgcolor": "#E5ECF6",
          "polar": {
           "angularaxis": {
            "gridcolor": "white",
            "linecolor": "white",
            "ticks": ""
           },
           "bgcolor": "#E5ECF6",
           "radialaxis": {
            "gridcolor": "white",
            "linecolor": "white",
            "ticks": ""
           }
          },
          "scene": {
           "xaxis": {
            "backgroundcolor": "#E5ECF6",
            "gridcolor": "white",
            "gridwidth": 2,
            "linecolor": "white",
            "showbackground": true,
            "ticks": "",
            "zerolinecolor": "white"
           },
           "yaxis": {
            "backgroundcolor": "#E5ECF6",
            "gridcolor": "white",
            "gridwidth": 2,
            "linecolor": "white",
            "showbackground": true,
            "ticks": "",
            "zerolinecolor": "white"
           },
           "zaxis": {
            "backgroundcolor": "#E5ECF6",
            "gridcolor": "white",
            "gridwidth": 2,
            "linecolor": "white",
            "showbackground": true,
            "ticks": "",
            "zerolinecolor": "white"
           }
          },
          "shapedefaults": {
           "line": {
            "color": "#2a3f5f"
           }
          },
          "ternary": {
           "aaxis": {
            "gridcolor": "white",
            "linecolor": "white",
            "ticks": ""
           },
           "baxis": {
            "gridcolor": "white",
            "linecolor": "white",
            "ticks": ""
           },
           "bgcolor": "#E5ECF6",
           "caxis": {
            "gridcolor": "white",
            "linecolor": "white",
            "ticks": ""
           }
          },
          "title": {
           "x": 0.05
          },
          "xaxis": {
           "automargin": true,
           "gridcolor": "white",
           "linecolor": "white",
           "ticks": "",
           "title": {
            "standoff": 15
           },
           "zerolinecolor": "white",
           "zerolinewidth": 2
          },
          "yaxis": {
           "automargin": true,
           "gridcolor": "white",
           "linecolor": "white",
           "ticks": "",
           "title": {
            "standoff": 15
           },
           "zerolinecolor": "white",
           "zerolinewidth": 2
          }
         }
        },
        "title": {
         "text": "Proportion of Countries by Income Group"
        }
       }
      }
     },
     "metadata": {},
     "output_type": "display_data"
    }
   ],
   "source": [
    "\n",
    "income_counts = df['Income Group'].fillna('Unknown').value_counts()\n",
    "fig = px.pie(values=income_counts.values, names=income_counts.index, hole=0.4, height=800,\n",
    "             title=\"Proportion of Countries by Income Group\",\n",
    "             color_discrete_sequence=px.colors.qualitative.Set2)\n",
    "fig.show()\n"
   ]
  },
  {
   "cell_type": "markdown",
   "id": "c8702e4a",
   "metadata": {},
   "source": [
    "\n",
    "## 4. Box Plot — Connectivity by Income Group  \n",
    "\n",
    "**Why this chart?**  \n",
    "Box plots show the **distribution** and **spread** of data across categories. We analyze `Total` connectivity across `Income Groups`.  \n",
    "\n",
    "**Insights:**  \n",
    "- Reveals inequality within and between groups.  \n",
    "- Detects outliers (countries performing above/below expectations).  \n",
    "\n",
    "**Design principles:**  \n",
    "- Colors used consistently for income groups.  \n",
    "- Whiskers/outliers clearly marked.  \n"
   ]
  },
  {
   "cell_type": "code",
   "execution_count": 12,
   "id": "377d5d43",
   "metadata": {},
   "outputs": [
    {
     "data": {
      "application/vnd.plotly.v1+json": {
       "config": {
        "plotlyServerURL": "https://plot.ly"
       },
       "data": [
        {
         "alignmentgroup": "True",
         "boxpoints": "all",
         "hovertemplate": "Income Group=%{x}<br>Total=%{y}<extra></extra>",
         "legendgroup": "Upper middle income (UM)",
         "marker": {
          "color": "#636efa"
         },
         "name": "Upper middle income (UM)",
         "notched": false,
         "offsetgroup": "Upper middle income (UM)",
         "orientation": "v",
         "showlegend": true,
         "type": "box",
         "x": [
          "Upper middle income (UM)",
          "Upper middle income (UM)",
          "Upper middle income (UM)",
          "Upper middle income (UM)",
          "Upper middle income (UM)",
          "Upper middle income (UM)",
          "Upper middle income (UM)",
          "Upper middle income (UM)",
          "Upper middle income (UM)",
          "Upper middle income (UM)",
          "Upper middle income (UM)",
          "Upper middle income (UM)",
          "Upper middle income (UM)",
          "Upper middle income (UM)",
          "Upper middle income (UM)",
          "Upper middle income (UM)",
          "Upper middle income (UM)",
          "Upper middle income (UM)",
          "Upper middle income (UM)",
          "Upper middle income (UM)",
          "Upper middle income (UM)",
          "Upper middle income (UM)",
          "Upper middle income (UM)",
          "Upper middle income (UM)",
          "Upper middle income (UM)",
          "Upper middle income (UM)",
          "Upper middle income (UM)",
          "Upper middle income (UM)",
          "Upper middle income (UM)",
          "Upper middle income (UM)",
          "Upper middle income (UM)",
          "Upper middle income (UM)"
         ],
         "x0": " ",
         "xaxis": "x",
         "y": {
          "bdata": "nypcBHZwzj/JBW7DvIbZPyB95s4c5ek/6S+/63jl4j8730+Nl27qP4j029eBc+g//P//X7I94j9b03eZbd7WP1ZQMsEFKOc/wQ+tLmytpT8eYIcJ/urOP4visI+plto/yOydRcNQ6z+fw3fYccO1P4LSm59dW98/QaZTbyEz2D9uBjrSAlDmPxXVbC+zGdo/jRdAtOUg6j/mAwaTbzGxP26p3nWRndA/0SLb+X5q7D8Gn02NpWbeP0nhjFq0Ne4/9P///7ehyT/l0CLb+X7mP+qN3wYZI+A/e8Snc5Lf5j/ZrVXGwHztPykQFF0NBO0/6mZ26ycv1z/t7V7yTWfdPw==",
          "dtype": "f8"
         },
         "y0": " ",
         "yaxis": "y"
        },
        {
         "alignmentgroup": "True",
         "boxpoints": "all",
         "hovertemplate": "Income Group=%{x}<br>Total=%{y}<extra></extra>",
         "legendgroup": "Lower middle income (LM)",
         "marker": {
          "color": "#EF553B"
         },
         "name": "Lower middle income (LM)",
         "notched": false,
         "offsetgroup": "Lower middle income (LM)",
         "orientation": "v",
         "showlegend": true,
         "type": "box",
         "x": [
          "Lower middle income (LM)",
          "Lower middle income (LM)",
          "Lower middle income (LM)",
          "Lower middle income (LM)",
          "Lower middle income (LM)",
          "Lower middle income (LM)",
          "Lower middle income (LM)",
          "Lower middle income (LM)",
          "Lower middle income (LM)",
          "Lower middle income (LM)",
          "Lower middle income (LM)",
          "Lower middle income (LM)",
          "Lower middle income (LM)",
          "Lower middle income (LM)",
          "Lower middle income (LM)",
          "Lower middle income (LM)",
          "Lower middle income (LM)",
          "Lower middle income (LM)",
          "Lower middle income (LM)",
          "Lower middle income (LM)",
          "Lower middle income (LM)",
          "Lower middle income (LM)",
          "Lower middle income (LM)",
          "Lower middle income (LM)",
          "Lower middle income (LM)",
          "Lower middle income (LM)",
          "Lower middle income (LM)",
          "Lower middle income (LM)",
          "Lower middle income (LM)",
          "Lower middle income (LM)"
         ],
         "x0": " ",
         "xaxis": "x",
         "y": {
          "bdata": "eAJM2VcvxT+NhpMcTnTXP8IStG4oIb8/mAboth7apz/yVCDae2ecPweuR+GjpK4/uYoLIHHxxT88RItDJcbFP0AD+vLvxLU/NbdCWI0lyD/RItv5fmrUP3S3cMFOdeA/oe87O4Wd5z8vvzNpWyyPP7GWwe9ST9Q/KFkmk1SvnT8VbxjtkYHXP5frUbhtmMY/0VFvpTAMoz9od0gxQKKhP5LZggf7Xbc/smjHk6dw3D8baxhLYPerP/Gty2jtr6A/5vM4DO+v2D9kO99PjZfmP1K4HoXrUcg/16NwPQrX4z8QCKObO8itP/tsVafkmtA/",
          "dtype": "f8"
         },
         "y0": " ",
         "yaxis": "y"
        },
        {
         "alignmentgroup": "True",
         "boxpoints": "all",
         "hovertemplate": "Income Group=%{x}<br>Total=%{y}<extra></extra>",
         "legendgroup": "High income (H)",
         "marker": {
          "color": "#00cc96"
         },
         "name": "High income (H)",
         "notched": false,
         "offsetgroup": "High income (H)",
         "orientation": "v",
         "showlegend": true,
         "type": "box",
         "x": [
          "High income (H)",
          "High income (H)",
          "High income (H)",
          "High income (H)",
          "High income (H)",
          "High income (H)",
          "High income (H)"
         ],
         "x0": " ",
         "xaxis": "x",
         "y": {
          "bdata": "/E24EX8c5T9i83FtqJjrP1eTp6ym6+g/L29NvHKf0z9PRrMXjgHcPy2yne+nxu8/a+zFawUv5D8=",
          "dtype": "f8"
         },
         "y0": " ",
         "yaxis": "y"
        },
        {
         "alignmentgroup": "True",
         "boxpoints": "all",
         "hovertemplate": "Income Group=%{x}<br>Total=%{y}<extra></extra>",
         "legendgroup": "Low income (L)",
         "marker": {
          "color": "#ab63fa"
         },
         "name": "Low income (L)",
         "notched": false,
         "offsetgroup": "Low income (L)",
         "orientation": "v",
         "showlegend": true,
         "type": "box",
         "x": [
          "Low income (L)",
          "Low income (L)",
          "Low income (L)",
          "Low income (L)",
          "Low income (L)",
          "Low income (L)",
          "Low income (L)",
          "Low income (L)",
          "Low income (L)",
          "Low income (L)",
          "Low income (L)",
          "Low income (L)",
          "Low income (L)",
          "Low income (L)",
          "Low income (L)",
          "Low income (L)",
          "Low income (L)",
          "Low income (L)"
         ],
         "x0": " ",
         "xaxis": "x",
         "y": {
          "bdata": "8bbsBJ0soj9HLizYIRSMP2woxWf2iaM/fcRglMxWlj+ln2mNnRaGP8llfHTK1OQ/GF51kxhUlz/oXlvFWULKPyRE7q9kGLs/pztIhTuHqz822WK0CQneP8fp82rj/J8/tJ5QxholwT+CESSEgcbAP7qb9r5+PW8/3SPTYrbMzj9oksgpUGTNP0NZ+Ppal2o/",
          "dtype": "f8"
         },
         "y0": " ",
         "yaxis": "y"
        }
       ],
       "layout": {
        "boxmode": "overlay",
        "height": 800,
        "legend": {
         "title": {
          "text": "Income Group"
         },
         "tracegroupgap": 0
        },
        "template": {
         "data": {
          "bar": [
           {
            "error_x": {
             "color": "#2a3f5f"
            },
            "error_y": {
             "color": "#2a3f5f"
            },
            "marker": {
             "line": {
              "color": "#E5ECF6",
              "width": 0.5
             },
             "pattern": {
              "fillmode": "overlay",
              "size": 10,
              "solidity": 0.2
             }
            },
            "type": "bar"
           }
          ],
          "barpolar": [
           {
            "marker": {
             "line": {
              "color": "#E5ECF6",
              "width": 0.5
             },
             "pattern": {
              "fillmode": "overlay",
              "size": 10,
              "solidity": 0.2
             }
            },
            "type": "barpolar"
           }
          ],
          "carpet": [
           {
            "aaxis": {
             "endlinecolor": "#2a3f5f",
             "gridcolor": "white",
             "linecolor": "white",
             "minorgridcolor": "white",
             "startlinecolor": "#2a3f5f"
            },
            "baxis": {
             "endlinecolor": "#2a3f5f",
             "gridcolor": "white",
             "linecolor": "white",
             "minorgridcolor": "white",
             "startlinecolor": "#2a3f5f"
            },
            "type": "carpet"
           }
          ],
          "choropleth": [
           {
            "colorbar": {
             "outlinewidth": 0,
             "ticks": ""
            },
            "type": "choropleth"
           }
          ],
          "contour": [
           {
            "colorbar": {
             "outlinewidth": 0,
             "ticks": ""
            },
            "colorscale": [
             [
              0,
              "#0d0887"
             ],
             [
              0.1111111111111111,
              "#46039f"
             ],
             [
              0.2222222222222222,
              "#7201a8"
             ],
             [
              0.3333333333333333,
              "#9c179e"
             ],
             [
              0.4444444444444444,
              "#bd3786"
             ],
             [
              0.5555555555555556,
              "#d8576b"
             ],
             [
              0.6666666666666666,
              "#ed7953"
             ],
             [
              0.7777777777777778,
              "#fb9f3a"
             ],
             [
              0.8888888888888888,
              "#fdca26"
             ],
             [
              1,
              "#f0f921"
             ]
            ],
            "type": "contour"
           }
          ],
          "contourcarpet": [
           {
            "colorbar": {
             "outlinewidth": 0,
             "ticks": ""
            },
            "type": "contourcarpet"
           }
          ],
          "heatmap": [
           {
            "colorbar": {
             "outlinewidth": 0,
             "ticks": ""
            },
            "colorscale": [
             [
              0,
              "#0d0887"
             ],
             [
              0.1111111111111111,
              "#46039f"
             ],
             [
              0.2222222222222222,
              "#7201a8"
             ],
             [
              0.3333333333333333,
              "#9c179e"
             ],
             [
              0.4444444444444444,
              "#bd3786"
             ],
             [
              0.5555555555555556,
              "#d8576b"
             ],
             [
              0.6666666666666666,
              "#ed7953"
             ],
             [
              0.7777777777777778,
              "#fb9f3a"
             ],
             [
              0.8888888888888888,
              "#fdca26"
             ],
             [
              1,
              "#f0f921"
             ]
            ],
            "type": "heatmap"
           }
          ],
          "histogram": [
           {
            "marker": {
             "pattern": {
              "fillmode": "overlay",
              "size": 10,
              "solidity": 0.2
             }
            },
            "type": "histogram"
           }
          ],
          "histogram2d": [
           {
            "colorbar": {
             "outlinewidth": 0,
             "ticks": ""
            },
            "colorscale": [
             [
              0,
              "#0d0887"
             ],
             [
              0.1111111111111111,
              "#46039f"
             ],
             [
              0.2222222222222222,
              "#7201a8"
             ],
             [
              0.3333333333333333,
              "#9c179e"
             ],
             [
              0.4444444444444444,
              "#bd3786"
             ],
             [
              0.5555555555555556,
              "#d8576b"
             ],
             [
              0.6666666666666666,
              "#ed7953"
             ],
             [
              0.7777777777777778,
              "#fb9f3a"
             ],
             [
              0.8888888888888888,
              "#fdca26"
             ],
             [
              1,
              "#f0f921"
             ]
            ],
            "type": "histogram2d"
           }
          ],
          "histogram2dcontour": [
           {
            "colorbar": {
             "outlinewidth": 0,
             "ticks": ""
            },
            "colorscale": [
             [
              0,
              "#0d0887"
             ],
             [
              0.1111111111111111,
              "#46039f"
             ],
             [
              0.2222222222222222,
              "#7201a8"
             ],
             [
              0.3333333333333333,
              "#9c179e"
             ],
             [
              0.4444444444444444,
              "#bd3786"
             ],
             [
              0.5555555555555556,
              "#d8576b"
             ],
             [
              0.6666666666666666,
              "#ed7953"
             ],
             [
              0.7777777777777778,
              "#fb9f3a"
             ],
             [
              0.8888888888888888,
              "#fdca26"
             ],
             [
              1,
              "#f0f921"
             ]
            ],
            "type": "histogram2dcontour"
           }
          ],
          "mesh3d": [
           {
            "colorbar": {
             "outlinewidth": 0,
             "ticks": ""
            },
            "type": "mesh3d"
           }
          ],
          "parcoords": [
           {
            "line": {
             "colorbar": {
              "outlinewidth": 0,
              "ticks": ""
             }
            },
            "type": "parcoords"
           }
          ],
          "pie": [
           {
            "automargin": true,
            "type": "pie"
           }
          ],
          "scatter": [
           {
            "fillpattern": {
             "fillmode": "overlay",
             "size": 10,
             "solidity": 0.2
            },
            "type": "scatter"
           }
          ],
          "scatter3d": [
           {
            "line": {
             "colorbar": {
              "outlinewidth": 0,
              "ticks": ""
             }
            },
            "marker": {
             "colorbar": {
              "outlinewidth": 0,
              "ticks": ""
             }
            },
            "type": "scatter3d"
           }
          ],
          "scattercarpet": [
           {
            "marker": {
             "colorbar": {
              "outlinewidth": 0,
              "ticks": ""
             }
            },
            "type": "scattercarpet"
           }
          ],
          "scattergeo": [
           {
            "marker": {
             "colorbar": {
              "outlinewidth": 0,
              "ticks": ""
             }
            },
            "type": "scattergeo"
           }
          ],
          "scattergl": [
           {
            "marker": {
             "colorbar": {
              "outlinewidth": 0,
              "ticks": ""
             }
            },
            "type": "scattergl"
           }
          ],
          "scattermap": [
           {
            "marker": {
             "colorbar": {
              "outlinewidth": 0,
              "ticks": ""
             }
            },
            "type": "scattermap"
           }
          ],
          "scattermapbox": [
           {
            "marker": {
             "colorbar": {
              "outlinewidth": 0,
              "ticks": ""
             }
            },
            "type": "scattermapbox"
           }
          ],
          "scatterpolar": [
           {
            "marker": {
             "colorbar": {
              "outlinewidth": 0,
              "ticks": ""
             }
            },
            "type": "scatterpolar"
           }
          ],
          "scatterpolargl": [
           {
            "marker": {
             "colorbar": {
              "outlinewidth": 0,
              "ticks": ""
             }
            },
            "type": "scatterpolargl"
           }
          ],
          "scatterternary": [
           {
            "marker": {
             "colorbar": {
              "outlinewidth": 0,
              "ticks": ""
             }
            },
            "type": "scatterternary"
           }
          ],
          "surface": [
           {
            "colorbar": {
             "outlinewidth": 0,
             "ticks": ""
            },
            "colorscale": [
             [
              0,
              "#0d0887"
             ],
             [
              0.1111111111111111,
              "#46039f"
             ],
             [
              0.2222222222222222,
              "#7201a8"
             ],
             [
              0.3333333333333333,
              "#9c179e"
             ],
             [
              0.4444444444444444,
              "#bd3786"
             ],
             [
              0.5555555555555556,
              "#d8576b"
             ],
             [
              0.6666666666666666,
              "#ed7953"
             ],
             [
              0.7777777777777778,
              "#fb9f3a"
             ],
             [
              0.8888888888888888,
              "#fdca26"
             ],
             [
              1,
              "#f0f921"
             ]
            ],
            "type": "surface"
           }
          ],
          "table": [
           {
            "cells": {
             "fill": {
              "color": "#EBF0F8"
             },
             "line": {
              "color": "white"
             }
            },
            "header": {
             "fill": {
              "color": "#C8D4E3"
             },
             "line": {
              "color": "white"
             }
            },
            "type": "table"
           }
          ]
         },
         "layout": {
          "annotationdefaults": {
           "arrowcolor": "#2a3f5f",
           "arrowhead": 0,
           "arrowwidth": 1
          },
          "autotypenumbers": "strict",
          "coloraxis": {
           "colorbar": {
            "outlinewidth": 0,
            "ticks": ""
           }
          },
          "colorscale": {
           "diverging": [
            [
             0,
             "#8e0152"
            ],
            [
             0.1,
             "#c51b7d"
            ],
            [
             0.2,
             "#de77ae"
            ],
            [
             0.3,
             "#f1b6da"
            ],
            [
             0.4,
             "#fde0ef"
            ],
            [
             0.5,
             "#f7f7f7"
            ],
            [
             0.6,
             "#e6f5d0"
            ],
            [
             0.7,
             "#b8e186"
            ],
            [
             0.8,
             "#7fbc41"
            ],
            [
             0.9,
             "#4d9221"
            ],
            [
             1,
             "#276419"
            ]
           ],
           "sequential": [
            [
             0,
             "#0d0887"
            ],
            [
             0.1111111111111111,
             "#46039f"
            ],
            [
             0.2222222222222222,
             "#7201a8"
            ],
            [
             0.3333333333333333,
             "#9c179e"
            ],
            [
             0.4444444444444444,
             "#bd3786"
            ],
            [
             0.5555555555555556,
             "#d8576b"
            ],
            [
             0.6666666666666666,
             "#ed7953"
            ],
            [
             0.7777777777777778,
             "#fb9f3a"
            ],
            [
             0.8888888888888888,
             "#fdca26"
            ],
            [
             1,
             "#f0f921"
            ]
           ],
           "sequentialminus": [
            [
             0,
             "#0d0887"
            ],
            [
             0.1111111111111111,
             "#46039f"
            ],
            [
             0.2222222222222222,
             "#7201a8"
            ],
            [
             0.3333333333333333,
             "#9c179e"
            ],
            [
             0.4444444444444444,
             "#bd3786"
            ],
            [
             0.5555555555555556,
             "#d8576b"
            ],
            [
             0.6666666666666666,
             "#ed7953"
            ],
            [
             0.7777777777777778,
             "#fb9f3a"
            ],
            [
             0.8888888888888888,
             "#fdca26"
            ],
            [
             1,
             "#f0f921"
            ]
           ]
          },
          "colorway": [
           "#636efa",
           "#EF553B",
           "#00cc96",
           "#ab63fa",
           "#FFA15A",
           "#19d3f3",
           "#FF6692",
           "#B6E880",
           "#FF97FF",
           "#FECB52"
          ],
          "font": {
           "color": "#2a3f5f"
          },
          "geo": {
           "bgcolor": "white",
           "lakecolor": "white",
           "landcolor": "#E5ECF6",
           "showlakes": true,
           "showland": true,
           "subunitcolor": "white"
          },
          "hoverlabel": {
           "align": "left"
          },
          "hovermode": "closest",
          "mapbox": {
           "style": "light"
          },
          "paper_bgcolor": "white",
          "plot_bgcolor": "#E5ECF6",
          "polar": {
           "angularaxis": {
            "gridcolor": "white",
            "linecolor": "white",
            "ticks": ""
           },
           "bgcolor": "#E5ECF6",
           "radialaxis": {
            "gridcolor": "white",
            "linecolor": "white",
            "ticks": ""
           }
          },
          "scene": {
           "xaxis": {
            "backgroundcolor": "#E5ECF6",
            "gridcolor": "white",
            "gridwidth": 2,
            "linecolor": "white",
            "showbackground": true,
            "ticks": "",
            "zerolinecolor": "white"
           },
           "yaxis": {
            "backgroundcolor": "#E5ECF6",
            "gridcolor": "white",
            "gridwidth": 2,
            "linecolor": "white",
            "showbackground": true,
            "ticks": "",
            "zerolinecolor": "white"
           },
           "zaxis": {
            "backgroundcolor": "#E5ECF6",
            "gridcolor": "white",
            "gridwidth": 2,
            "linecolor": "white",
            "showbackground": true,
            "ticks": "",
            "zerolinecolor": "white"
           }
          },
          "shapedefaults": {
           "line": {
            "color": "#2a3f5f"
           }
          },
          "ternary": {
           "aaxis": {
            "gridcolor": "white",
            "linecolor": "white",
            "ticks": ""
           },
           "baxis": {
            "gridcolor": "white",
            "linecolor": "white",
            "ticks": ""
           },
           "bgcolor": "#E5ECF6",
           "caxis": {
            "gridcolor": "white",
            "linecolor": "white",
            "ticks": ""
           }
          },
          "title": {
           "x": 0.05
          },
          "xaxis": {
           "automargin": true,
           "gridcolor": "white",
           "linecolor": "white",
           "ticks": "",
           "title": {
            "standoff": 15
           },
           "zerolinecolor": "white",
           "zerolinewidth": 2
          },
          "yaxis": {
           "automargin": true,
           "gridcolor": "white",
           "linecolor": "white",
           "ticks": "",
           "title": {
            "standoff": 15
           },
           "zerolinecolor": "white",
           "zerolinewidth": 2
          }
         }
        },
        "title": {
         "text": "Connectivity Distribution by Income Group"
        },
        "xaxis": {
         "anchor": "y",
         "categoryarray": [
          "Upper middle income (UM)",
          "Lower middle income (LM)",
          "High income (H)",
          "Low income (L)"
         ],
         "categoryorder": "array",
         "domain": [
          0,
          1
         ],
         "title": {
          "text": "Income Group"
         }
        },
        "yaxis": {
         "anchor": "x",
         "domain": [
          0,
          1
         ],
         "title": {
          "text": "Total"
         }
        }
       }
      }
     },
     "metadata": {},
     "output_type": "display_data"
    }
   ],
   "source": [
    "\n",
    "fig = px.box(df, x=\"Income Group\", y=\"Total\", color=\"Income Group\",\n",
    "             title=\"Connectivity Distribution by Income Group\",\n",
    "             points=\"all\", height=800)\n",
    "fig.show()\n"
   ]
  },
  {
   "cell_type": "markdown",
   "id": "3e7e1c78",
   "metadata": {},
   "source": [
    "\n",
    "## 5. Scatter Plot — Urban vs Rural Connectivity  \n",
    "\n",
    "**Why this chart?**  \n",
    "Scatter plots show relationships between two variables. We compare `Urban` vs `Rural` connectivity.  \n",
    "\n",
    "**Insights:**  \n",
    "- Shows whether urban-rural divide is large.  \n",
    "- Identifies countries with high urban connectivity but low rural connectivity.  \n",
    "\n",
    "**Design principles:**  \n",
    "- Colors by region for clarity.  \n",
    "- Tooltips with country names.  \n"
   ]
  },
  {
   "cell_type": "code",
   "execution_count": 15,
   "id": "337a5ed8",
   "metadata": {},
   "outputs": [
    {
     "data": {
      "application/vnd.plotly.v1+json": {
       "config": {
        "plotlyServerURL": "https://plot.ly"
       },
       "data": [
        {
         "hovertemplate": "<b>%{hovertext}</b><br><br>Region=MENA<br>Rural Connectivity (%)=%{x}<br>Urban Connectivity (%)=%{y}<extra></extra>",
         "hovertext": [
          "Algeria",
          "Egypt",
          "Iraq",
          "Jordan",
          "Morocco",
          "Tunisia"
         ],
         "legendgroup": "MENA",
         "marker": {
          "color": "#636efa",
          "symbol": "circle"
         },
         "mode": "markers",
         "name": "MENA",
         "orientation": "v",
         "showlegend": true,
         "type": "scatter",
         "x": {
          "bdata": "H0HnCv9Ytz+2w9x/tqa3P7Bd1p6hjNY/sxA4lwGL1j9LR+F6BV6+P2cQVcB6jcs/",
          "dtype": "f8"
         },
         "xaxis": "x",
         "y": {
          "bdata": "M0Cn0byb1D/emwJA5d3SP9Z0LbBFy+E/u9qCe2Bo2D8FhetRlabNP6UnjGQL/N0/",
          "dtype": "f8"
         },
         "yaxis": "y"
        },
        {
         "hovertemplate": "<b>%{hovertext}</b><br><br>Region=SSA<br>Rural Connectivity (%)=%{x}<br>Urban Connectivity (%)=%{y}<extra></extra>",
         "hovertext": [
          "Angola",
          "Benin",
          "Burkina Faso",
          "Cameroon",
          "Central African Republic",
          "Chad",
          "Côte d&apos;Ivoire",
          "Democratic Republic of the Congo",
          "Djibouti",
          "Gambia",
          "Ghana",
          "Guinea-Bissau",
          "Kenya",
          "Lesotho",
          "Madagascar",
          "Mali",
          "Mauritania",
          "Namibia",
          "Niger",
          "Nigeria",
          "Sao Tome and Principe",
          "Senegal",
          "Sierra Leone",
          "Somalia",
          "South Africa",
          "South Sudan",
          "Sudan",
          "Togo",
          "Uganda",
          "Zambia",
          "Zimbabwe"
         ],
         "legendgroup": "SSA",
         "marker": {
          "color": "#EF553B",
          "symbol": "circle"
         },
         "mode": "markers",
         "name": "SSA",
         "orientation": "v",
         "showlegend": true,
         "type": "scatter",
         "x": {
          "bdata": "NFgv/tMRkj/qDgx4YC6OP65cehQxrIA/INFGFt9/Zj/eMVsTlk58PyKCIShVv38/pPGTXRftdj+cjfqDreJwP5QzMzO3lok/T4N9pLU93j9bVvpclri6P97cPUVQ5Y8/AAAAAAAA+H8mzlpjNhvMPwF1XCtYaa8/yXbDmx7znz9ESMbYpX14P4OQv8eugYQ/AAAAAAAA+H8AAAAAAAD4f0+Hn0rPi9c/nfWldhvXlj9JtCHddXSjPwAAAAAAAPh/AAAAAAAA+H90WMCdmttfP6n0S2NVvYM/B92DSzavsj/eADPfwU8cP1KVqQXoXpI/uwPZS8qGxj8=",
          "dtype": "f8"
         },
         "xaxis": "x",
         "y": {
          "bdata": "0sF5pLsozz9dj2g4uGGxP5aessUfTaI/hnG9kEH8uD8Jdt1CKx64Px4dRIa0rLU/8jgcL+Djqz8CGtj7XiuUP6JH4XoR7bo/GGhyQPDv5z+xN/uXWnXQP3tvBen4xqI/vHSTGARWzj9oN4KWbrrgP/kKS5lMgNE/+NZXi7y6wT++rcLnm1+uP7mrF6/8vsM/AAAAAAAA+H8AAAAAAAD4fyclxqv23d4/sZwU1sz7uT+uCBgkLEfQPwAAAAAAAPh/AAAAAAAA+H/MF64vVOyDP4LQ4RgJ57Y/nfQK1/ti3z84MLlRZK2RP0q48GImYcA/Qbr4Hvhq3z8=",
          "dtype": "f8"
         },
         "yaxis": "y"
        },
        {
         "hovertemplate": "<b>%{hovertext}</b><br><br>Region=LAC<br>Rural Connectivity (%)=%{x}<br>Urban Connectivity (%)=%{y}<extra></extra>",
         "hovertext": [
          "Argentina",
          "Barbados",
          "Bolivia (Plurinational State of)",
          "Brazil",
          "Chile",
          "Colombia",
          "Costa Rica",
          "Cuba",
          "Dominican Republic",
          "Ecuador",
          "Guatemala",
          "Haiti",
          "Mexico",
          "Nicaragua",
          "Panama",
          "Peru",
          "Saint Lucia",
          "Suriname",
          "Trinidad and Tobago",
          "Uruguay"
         ],
         "legendgroup": "LAC",
         "marker": {
          "color": "#00cc96",
          "symbol": "circle"
         },
         "mode": "markers",
         "name": "LAC",
         "orientation": "v",
         "showlegend": true,
         "type": "scatter",
         "x": {
          "bdata": "AAAAAAAA+H+Eof4KYZjjP2gGEpAGIqM/KVyPwvUo4D9JRzmYTYDmP5ppuGrEFKk/Q9cbbXVy4z+zU/ZwfNuLP6HWbJlSELo/nCRMB6FyyT+6GJGGd5mbP8MAkNKjx7w/y/y8DHNAvD8AAAAAAAD4f3b2yx0cark/E+74o2YXjT9VT0wqRvjePzX/UoxBqdc/HSHe2MXu1T8sEzo8SGXePw==",
          "dtype": "f8"
         },
         "xaxis": "x",
         "y": {
          "bdata": "AAAAAAAA+H8o31zT3fLlP+09ZOMkQcU/ppvEILBy7D/g9ZmzPmXsP4FEPy8cht4/wizco2IH6T+OyhR+IdSuP47fUx2CndI/V0hUAyjh4D9Ofmnx19HGP/aXgQOZLtc/F8LF5dN+4D8AAAAAAAD4fwrOSeX2ctw/dwHlpVH31T+EUDTMaRLcP/tbrM2WJOI/2zvQekeD4D9U92loR7fkPw==",
          "dtype": "f8"
         },
         "yaxis": "y"
        },
        {
         "hovertemplate": "<b>%{hovertext}</b><br><br>Region=ECA<br>Rural Connectivity (%)=%{x}<br>Urban Connectivity (%)=%{y}<extra></extra>",
         "hovertext": [
          "Armenia",
          "Bosnia and Herzegovina",
          "Bulgaria",
          "Georgia",
          "Kyrgyzstan",
          "Montenegro",
          "Russian Federation",
          "Serbia",
          "Tajikistan",
          "North Macedonia",
          "Turkey",
          "Turkmenistan",
          "Ukraine",
          "United Kingdom",
          "Uzbekistan"
         ],
         "legendgroup": "ECA",
         "marker": {
          "color": "#ab63fa",
          "symbol": "circle"
         },
         "mode": "markers",
         "name": "ECA",
         "orientation": "v",
         "showlegend": true,
         "type": "scatter",
         "x": {
          "bdata": "yhgjNtOy5j+GKTnlY3HgPzbhehTf+eQ/7g30osYT5z8p4d+9hCvmP8JMjkXth+c/c2iR7Xw/6T8UjdgYjjTtP8u2j2hV+cg/j8h/gArh7D99pob3bAfCP/y6QaWruNc/AAAAAAAA+H8AAAAAAAD4f9ejcD0K18M/",
          "dtype": "f8"
         },
         "xaxis": "x",
         "y": {
          "bdata": "HMltVYVG7D/19fMfozvoP8FH4Xrnxek/iRX0/Zvp7T/IkziAY7XqP2rfyiOvb+s/kxgEVg4t7j+Mv88c6uHuP+B9evlCddg/gr1duD3j7T/OEBIt1pDbP/zThNIuoeI/ZDvfT42X5j8AAAAAAAD4f+Olm8QgsNI/",
          "dtype": "f8"
         },
         "yaxis": "y"
        },
        {
         "hovertemplate": "<b>%{hovertext}</b><br><br>Region=SA<br>Rural Connectivity (%)=%{x}<br>Urban Connectivity (%)=%{y}<extra></extra>",
         "hovertext": [
          "Bangladesh",
          "India",
          "Maldives",
          "Nepal",
          "Pakistan",
          "Sri Lanka"
         ],
         "legendgroup": "SA",
         "marker": {
          "color": "#FFA15A",
          "symbol": "circle"
         },
         "mode": "markers",
         "name": "SA",
         "orientation": "v",
         "showlegend": true,
         "type": "scatter",
         "x": {
          "bdata": "k1+sPY761D9Prhir/M6pP2/3vvok7uU/Xm1N6nZ51D+qU40a/dejP8UgsHJokeU/",
          "dtype": "f8"
         },
         "xaxis": "x",
         "y": {
          "bdata": "LeJP2HqG4D/mRwddJ2bFPyTI33GQ/+Y/xZhzjwOZ4T9SLj4Ck+fIPy/dJAaBles/",
          "dtype": "f8"
         },
         "yaxis": "y"
        },
        {
         "hovertemplate": "<b>%{hovertext}</b><br><br>Region=EAP<br>Rural Connectivity (%)=%{x}<br>Urban Connectivity (%)=%{y}<extra></extra>",
         "hovertext": [
          "China",
          "Indonesia",
          "Japan",
          "Kiribati",
          "Lao People&apos;s Democratic Republic",
          "Mongolia",
          "Thailand",
          "Tonga",
          "Viet Nam"
         ],
         "legendgroup": "EAP",
         "marker": {
          "color": "#19d3f3",
          "symbol": "circle"
         },
         "mode": "markers",
         "name": "EAP",
         "orientation": "v",
         "showlegend": true,
         "type": "scatter",
         "x": {
          "bdata": "CAAAYDX+3z/nOSLfpdS5P+XS+IVXkuo/ARm8r7zz1D9fvRXKPdZ/P8PEI1gA38A/d33h0LSS5T8sjToXprnsPwAAAAAAAPh/",
          "dtype": "f8"
         },
         "xaxis": "x",
         "y": {
          "bdata": "/v//v0Md7T87xD9s6dHQPzhKXp1jwOg/rrsChZ4i5j9tKrCu37WiP5Ty+v0kat8/SFBvcB/d6D96kzd4ExTuP9ejcD0K1+M/",
          "dtype": "f8"
         },
         "yaxis": "y"
        }
       ],
       "layout": {
        "height": 800,
        "legend": {
         "title": {
          "text": "Region"
         },
         "tracegroupgap": 0
        },
        "template": {
         "data": {
          "bar": [
           {
            "error_x": {
             "color": "#2a3f5f"
            },
            "error_y": {
             "color": "#2a3f5f"
            },
            "marker": {
             "line": {
              "color": "#E5ECF6",
              "width": 0.5
             },
             "pattern": {
              "fillmode": "overlay",
              "size": 10,
              "solidity": 0.2
             }
            },
            "type": "bar"
           }
          ],
          "barpolar": [
           {
            "marker": {
             "line": {
              "color": "#E5ECF6",
              "width": 0.5
             },
             "pattern": {
              "fillmode": "overlay",
              "size": 10,
              "solidity": 0.2
             }
            },
            "type": "barpolar"
           }
          ],
          "carpet": [
           {
            "aaxis": {
             "endlinecolor": "#2a3f5f",
             "gridcolor": "white",
             "linecolor": "white",
             "minorgridcolor": "white",
             "startlinecolor": "#2a3f5f"
            },
            "baxis": {
             "endlinecolor": "#2a3f5f",
             "gridcolor": "white",
             "linecolor": "white",
             "minorgridcolor": "white",
             "startlinecolor": "#2a3f5f"
            },
            "type": "carpet"
           }
          ],
          "choropleth": [
           {
            "colorbar": {
             "outlinewidth": 0,
             "ticks": ""
            },
            "type": "choropleth"
           }
          ],
          "contour": [
           {
            "colorbar": {
             "outlinewidth": 0,
             "ticks": ""
            },
            "colorscale": [
             [
              0,
              "#0d0887"
             ],
             [
              0.1111111111111111,
              "#46039f"
             ],
             [
              0.2222222222222222,
              "#7201a8"
             ],
             [
              0.3333333333333333,
              "#9c179e"
             ],
             [
              0.4444444444444444,
              "#bd3786"
             ],
             [
              0.5555555555555556,
              "#d8576b"
             ],
             [
              0.6666666666666666,
              "#ed7953"
             ],
             [
              0.7777777777777778,
              "#fb9f3a"
             ],
             [
              0.8888888888888888,
              "#fdca26"
             ],
             [
              1,
              "#f0f921"
             ]
            ],
            "type": "contour"
           }
          ],
          "contourcarpet": [
           {
            "colorbar": {
             "outlinewidth": 0,
             "ticks": ""
            },
            "type": "contourcarpet"
           }
          ],
          "heatmap": [
           {
            "colorbar": {
             "outlinewidth": 0,
             "ticks": ""
            },
            "colorscale": [
             [
              0,
              "#0d0887"
             ],
             [
              0.1111111111111111,
              "#46039f"
             ],
             [
              0.2222222222222222,
              "#7201a8"
             ],
             [
              0.3333333333333333,
              "#9c179e"
             ],
             [
              0.4444444444444444,
              "#bd3786"
             ],
             [
              0.5555555555555556,
              "#d8576b"
             ],
             [
              0.6666666666666666,
              "#ed7953"
             ],
             [
              0.7777777777777778,
              "#fb9f3a"
             ],
             [
              0.8888888888888888,
              "#fdca26"
             ],
             [
              1,
              "#f0f921"
             ]
            ],
            "type": "heatmap"
           }
          ],
          "histogram": [
           {
            "marker": {
             "pattern": {
              "fillmode": "overlay",
              "size": 10,
              "solidity": 0.2
             }
            },
            "type": "histogram"
           }
          ],
          "histogram2d": [
           {
            "colorbar": {
             "outlinewidth": 0,
             "ticks": ""
            },
            "colorscale": [
             [
              0,
              "#0d0887"
             ],
             [
              0.1111111111111111,
              "#46039f"
             ],
             [
              0.2222222222222222,
              "#7201a8"
             ],
             [
              0.3333333333333333,
              "#9c179e"
             ],
             [
              0.4444444444444444,
              "#bd3786"
             ],
             [
              0.5555555555555556,
              "#d8576b"
             ],
             [
              0.6666666666666666,
              "#ed7953"
             ],
             [
              0.7777777777777778,
              "#fb9f3a"
             ],
             [
              0.8888888888888888,
              "#fdca26"
             ],
             [
              1,
              "#f0f921"
             ]
            ],
            "type": "histogram2d"
           }
          ],
          "histogram2dcontour": [
           {
            "colorbar": {
             "outlinewidth": 0,
             "ticks": ""
            },
            "colorscale": [
             [
              0,
              "#0d0887"
             ],
             [
              0.1111111111111111,
              "#46039f"
             ],
             [
              0.2222222222222222,
              "#7201a8"
             ],
             [
              0.3333333333333333,
              "#9c179e"
             ],
             [
              0.4444444444444444,
              "#bd3786"
             ],
             [
              0.5555555555555556,
              "#d8576b"
             ],
             [
              0.6666666666666666,
              "#ed7953"
             ],
             [
              0.7777777777777778,
              "#fb9f3a"
             ],
             [
              0.8888888888888888,
              "#fdca26"
             ],
             [
              1,
              "#f0f921"
             ]
            ],
            "type": "histogram2dcontour"
           }
          ],
          "mesh3d": [
           {
            "colorbar": {
             "outlinewidth": 0,
             "ticks": ""
            },
            "type": "mesh3d"
           }
          ],
          "parcoords": [
           {
            "line": {
             "colorbar": {
              "outlinewidth": 0,
              "ticks": ""
             }
            },
            "type": "parcoords"
           }
          ],
          "pie": [
           {
            "automargin": true,
            "type": "pie"
           }
          ],
          "scatter": [
           {
            "fillpattern": {
             "fillmode": "overlay",
             "size": 10,
             "solidity": 0.2
            },
            "type": "scatter"
           }
          ],
          "scatter3d": [
           {
            "line": {
             "colorbar": {
              "outlinewidth": 0,
              "ticks": ""
             }
            },
            "marker": {
             "colorbar": {
              "outlinewidth": 0,
              "ticks": ""
             }
            },
            "type": "scatter3d"
           }
          ],
          "scattercarpet": [
           {
            "marker": {
             "colorbar": {
              "outlinewidth": 0,
              "ticks": ""
             }
            },
            "type": "scattercarpet"
           }
          ],
          "scattergeo": [
           {
            "marker": {
             "colorbar": {
              "outlinewidth": 0,
              "ticks": ""
             }
            },
            "type": "scattergeo"
           }
          ],
          "scattergl": [
           {
            "marker": {
             "colorbar": {
              "outlinewidth": 0,
              "ticks": ""
             }
            },
            "type": "scattergl"
           }
          ],
          "scattermap": [
           {
            "marker": {
             "colorbar": {
              "outlinewidth": 0,
              "ticks": ""
             }
            },
            "type": "scattermap"
           }
          ],
          "scattermapbox": [
           {
            "marker": {
             "colorbar": {
              "outlinewidth": 0,
              "ticks": ""
             }
            },
            "type": "scattermapbox"
           }
          ],
          "scatterpolar": [
           {
            "marker": {
             "colorbar": {
              "outlinewidth": 0,
              "ticks": ""
             }
            },
            "type": "scatterpolar"
           }
          ],
          "scatterpolargl": [
           {
            "marker": {
             "colorbar": {
              "outlinewidth": 0,
              "ticks": ""
             }
            },
            "type": "scatterpolargl"
           }
          ],
          "scatterternary": [
           {
            "marker": {
             "colorbar": {
              "outlinewidth": 0,
              "ticks": ""
             }
            },
            "type": "scatterternary"
           }
          ],
          "surface": [
           {
            "colorbar": {
             "outlinewidth": 0,
             "ticks": ""
            },
            "colorscale": [
             [
              0,
              "#0d0887"
             ],
             [
              0.1111111111111111,
              "#46039f"
             ],
             [
              0.2222222222222222,
              "#7201a8"
             ],
             [
              0.3333333333333333,
              "#9c179e"
             ],
             [
              0.4444444444444444,
              "#bd3786"
             ],
             [
              0.5555555555555556,
              "#d8576b"
             ],
             [
              0.6666666666666666,
              "#ed7953"
             ],
             [
              0.7777777777777778,
              "#fb9f3a"
             ],
             [
              0.8888888888888888,
              "#fdca26"
             ],
             [
              1,
              "#f0f921"
             ]
            ],
            "type": "surface"
           }
          ],
          "table": [
           {
            "cells": {
             "fill": {
              "color": "#EBF0F8"
             },
             "line": {
              "color": "white"
             }
            },
            "header": {
             "fill": {
              "color": "#C8D4E3"
             },
             "line": {
              "color": "white"
             }
            },
            "type": "table"
           }
          ]
         },
         "layout": {
          "annotationdefaults": {
           "arrowcolor": "#2a3f5f",
           "arrowhead": 0,
           "arrowwidth": 1
          },
          "autotypenumbers": "strict",
          "coloraxis": {
           "colorbar": {
            "outlinewidth": 0,
            "ticks": ""
           }
          },
          "colorscale": {
           "diverging": [
            [
             0,
             "#8e0152"
            ],
            [
             0.1,
             "#c51b7d"
            ],
            [
             0.2,
             "#de77ae"
            ],
            [
             0.3,
             "#f1b6da"
            ],
            [
             0.4,
             "#fde0ef"
            ],
            [
             0.5,
             "#f7f7f7"
            ],
            [
             0.6,
             "#e6f5d0"
            ],
            [
             0.7,
             "#b8e186"
            ],
            [
             0.8,
             "#7fbc41"
            ],
            [
             0.9,
             "#4d9221"
            ],
            [
             1,
             "#276419"
            ]
           ],
           "sequential": [
            [
             0,
             "#0d0887"
            ],
            [
             0.1111111111111111,
             "#46039f"
            ],
            [
             0.2222222222222222,
             "#7201a8"
            ],
            [
             0.3333333333333333,
             "#9c179e"
            ],
            [
             0.4444444444444444,
             "#bd3786"
            ],
            [
             0.5555555555555556,
             "#d8576b"
            ],
            [
             0.6666666666666666,
             "#ed7953"
            ],
            [
             0.7777777777777778,
             "#fb9f3a"
            ],
            [
             0.8888888888888888,
             "#fdca26"
            ],
            [
             1,
             "#f0f921"
            ]
           ],
           "sequentialminus": [
            [
             0,
             "#0d0887"
            ],
            [
             0.1111111111111111,
             "#46039f"
            ],
            [
             0.2222222222222222,
             "#7201a8"
            ],
            [
             0.3333333333333333,
             "#9c179e"
            ],
            [
             0.4444444444444444,
             "#bd3786"
            ],
            [
             0.5555555555555556,
             "#d8576b"
            ],
            [
             0.6666666666666666,
             "#ed7953"
            ],
            [
             0.7777777777777778,
             "#fb9f3a"
            ],
            [
             0.8888888888888888,
             "#fdca26"
            ],
            [
             1,
             "#f0f921"
            ]
           ]
          },
          "colorway": [
           "#636efa",
           "#EF553B",
           "#00cc96",
           "#ab63fa",
           "#FFA15A",
           "#19d3f3",
           "#FF6692",
           "#B6E880",
           "#FF97FF",
           "#FECB52"
          ],
          "font": {
           "color": "#2a3f5f"
          },
          "geo": {
           "bgcolor": "white",
           "lakecolor": "white",
           "landcolor": "#E5ECF6",
           "showlakes": true,
           "showland": true,
           "subunitcolor": "white"
          },
          "hoverlabel": {
           "align": "left"
          },
          "hovermode": "closest",
          "mapbox": {
           "style": "light"
          },
          "paper_bgcolor": "white",
          "plot_bgcolor": "#E5ECF6",
          "polar": {
           "angularaxis": {
            "gridcolor": "white",
            "linecolor": "white",
            "ticks": ""
           },
           "bgcolor": "#E5ECF6",
           "radialaxis": {
            "gridcolor": "white",
            "linecolor": "white",
            "ticks": ""
           }
          },
          "scene": {
           "xaxis": {
            "backgroundcolor": "#E5ECF6",
            "gridcolor": "white",
            "gridwidth": 2,
            "linecolor": "white",
            "showbackground": true,
            "ticks": "",
            "zerolinecolor": "white"
           },
           "yaxis": {
            "backgroundcolor": "#E5ECF6",
            "gridcolor": "white",
            "gridwidth": 2,
            "linecolor": "white",
            "showbackground": true,
            "ticks": "",
            "zerolinecolor": "white"
           },
           "zaxis": {
            "backgroundcolor": "#E5ECF6",
            "gridcolor": "white",
            "gridwidth": 2,
            "linecolor": "white",
            "showbackground": true,
            "ticks": "",
            "zerolinecolor": "white"
           }
          },
          "shapedefaults": {
           "line": {
            "color": "#2a3f5f"
           }
          },
          "ternary": {
           "aaxis": {
            "gridcolor": "white",
            "linecolor": "white",
            "ticks": ""
           },
           "baxis": {
            "gridcolor": "white",
            "linecolor": "white",
            "ticks": ""
           },
           "bgcolor": "#E5ECF6",
           "caxis": {
            "gridcolor": "white",
            "linecolor": "white",
            "ticks": ""
           }
          },
          "title": {
           "x": 0.05
          },
          "xaxis": {
           "automargin": true,
           "gridcolor": "white",
           "linecolor": "white",
           "ticks": "",
           "title": {
            "standoff": 15
           },
           "zerolinecolor": "white",
           "zerolinewidth": 2
          },
          "yaxis": {
           "automargin": true,
           "gridcolor": "white",
           "linecolor": "white",
           "ticks": "",
           "title": {
            "standoff": 15
           },
           "zerolinecolor": "white",
           "zerolinewidth": 2
          }
         }
        },
        "title": {
         "text": "Urban vs Rural Connectivity by Region"
        },
        "xaxis": {
         "anchor": "y",
         "domain": [
          0,
          1
         ],
         "title": {
          "text": "Rural Connectivity (%)"
         }
        },
        "yaxis": {
         "anchor": "x",
         "domain": [
          0,
          1
         ],
         "title": {
          "text": "Urban Connectivity (%)"
         }
        }
       }
      }
     },
     "metadata": {},
     "output_type": "display_data"
    }
   ],
   "source": [
    "\n",
    "fig = px.scatter(df, x=\"Rural\", y=\"Urban\", color=\"Region\",\n",
    "                 hover_name=\"Countries and areas\", height=800,\n",
    "                 title=\"Urban vs Rural Connectivity by Region\",\n",
    "                 labels={\"Rural\":\"Rural Connectivity (%)\",\"Urban\":\"Urban Connectivity (%)\"})\n",
    "fig.show()\n"
   ]
  },
  {
   "cell_type": "markdown",
   "id": "64318e37",
   "metadata": {},
   "source": [
    "\n",
    "## 6. Bubble Plot — Urban vs Rural (Size = Total)  \n",
    "\n",
    "**Why this chart?**  \n",
    "Bubble plots extend scatter plots by adding a **third dimension** (bubble size). Here, bubble size represents `Total` connectivity.  \n",
    "\n",
    "**Insights:**  \n",
    "- Highlights countries with overall high/low connectivity.  \n",
    "- Visualizes inequality in 3 dimensions.  \n",
    "\n",
    "**Design principles:**  \n",
    "- Bubble size scaled fairly to avoid distortion.  \n",
    "- Transparent colors to reduce overlap issues.  \n"
   ]
  },
  {
   "cell_type": "code",
   "execution_count": 16,
   "id": "84948e78",
   "metadata": {},
   "outputs": [
    {
     "data": {
      "application/vnd.plotly.v1+json": {
       "config": {
        "plotlyServerURL": "https://plot.ly"
       },
       "data": [
        {
         "hovertemplate": "<b>%{hovertext}</b><br><br>Region=MENA<br>Rural Connectivity (%)=%{x}<br>Urban Connectivity (%)=%{y}<br>Total=%{marker.size}<extra></extra>",
         "hovertext": [
          "Algeria",
          "Egypt",
          "Iraq",
          "Jordan",
          "Morocco",
          "Tunisia"
         ],
         "legendgroup": "MENA",
         "marker": {
          "color": "#636efa",
          "size": {
           "bdata": "nypcBHZwzj+5igsgcfHFP4LSm59dW98/QaZTbyEz2D+X61G4bZjGP+bzOAzvr9g/",
           "dtype": "f8"
          },
          "sizemode": "area",
          "sizeref": 0.0024825,
          "symbol": "circle"
         },
         "mode": "markers",
         "name": "MENA",
         "orientation": "v",
         "showlegend": true,
         "type": "scatter",
         "x": {
          "bdata": "H0HnCv9Ytz+2w9x/tqa3P7Bd1p6hjNY/sxA4lwGL1j9LR+F6BV6+P2cQVcB6jcs/",
          "dtype": "f8"
         },
         "xaxis": "x",
         "y": {
          "bdata": "M0Cn0byb1D/emwJA5d3SP9Z0LbBFy+E/u9qCe2Bo2D8FhetRlabNP6UnjGQL/N0/",
          "dtype": "f8"
         },
         "yaxis": "y"
        },
        {
         "hovertemplate": "<b>%{hovertext}</b><br><br>Region=SSA<br>Rural Connectivity (%)=%{x}<br>Urban Connectivity (%)=%{y}<br>Total=%{marker.size}<extra></extra>",
         "hovertext": [
          "Angola",
          "Benin",
          "Burkina Faso",
          "Cameroon",
          "Central African Republic",
          "Chad",
          "Côte d&apos;Ivoire",
          "Democratic Republic of the Congo",
          "Djibouti",
          "Gambia",
          "Ghana",
          "Guinea-Bissau",
          "Kenya",
          "Lesotho",
          "Madagascar",
          "Mali",
          "Mauritania",
          "Namibia",
          "Niger",
          "Nigeria",
          "Sao Tome and Principe",
          "Senegal",
          "Sierra Leone",
          "Somalia",
          "South Africa",
          "South Sudan",
          "Sudan",
          "Togo",
          "Uganda",
          "Zambia",
          "Zimbabwe"
         ],
         "legendgroup": "SSA",
         "marker": {
          "color": "#EF553B",
          "size": {
           "bdata": "eAJM2VcvxT/xtuwEnSyiP0cuLNghFIw/mAboth7apz9sKMVn9omjP33EYJTMVpY/8lQg2ntnnD+ln2mNnRaGPweuR+GjpK4/yWV8dMrU5D88RItDJcbFPxhedZMYVJc/0SLb+X5q1D+xlsHvUk/UPyRE7q9kGLs/pztIhTuHqz8oWSaTVK+dP+YDBpNvMbE/x+nzauP8nz9od0gxQKKhP7Jox5OncNw/G2sYS2D3qz+0nlDGGiXBP4IRJISBxsA/9P///7ehyT+6m/a+fj1vP/Gty2jtr6A/aJLIKVBkzT9DWfj6WpdqPxAIo5s7yK0/+2xVp+Sa0D8=",
           "dtype": "f8"
          },
          "sizemode": "area",
          "sizeref": 0.0024825,
          "symbol": "circle"
         },
         "mode": "markers",
         "name": "SSA",
         "orientation": "v",
         "showlegend": true,
         "type": "scatter",
         "x": {
          "bdata": "NFgv/tMRkj/qDgx4YC6OP65cehQxrIA/INFGFt9/Zj/eMVsTlk58PyKCIShVv38/pPGTXRftdj+cjfqDreJwP5QzMzO3lok/T4N9pLU93j9bVvpclri6P97cPUVQ5Y8/AAAAAAAA+H8mzlpjNhvMPwF1XCtYaa8/yXbDmx7znz9ESMbYpX14P4OQv8eugYQ/AAAAAAAA+H8AAAAAAAD4f0+Hn0rPi9c/nfWldhvXlj9JtCHddXSjPwAAAAAAAPh/AAAAAAAA+H90WMCdmttfP6n0S2NVvYM/B92DSzavsj/eADPfwU8cP1KVqQXoXpI/uwPZS8qGxj8=",
          "dtype": "f8"
         },
         "xaxis": "x",
         "y": {
          "bdata": "0sF5pLsozz9dj2g4uGGxP5aessUfTaI/hnG9kEH8uD8Jdt1CKx64Px4dRIa0rLU/8jgcL+Djqz8CGtj7XiuUP6JH4XoR7bo/GGhyQPDv5z+xN/uXWnXQP3tvBen4xqI/vHSTGARWzj9oN4KWbrrgP/kKS5lMgNE/+NZXi7y6wT++rcLnm1+uP7mrF6/8vsM/AAAAAAAA+H8AAAAAAAD4fyclxqv23d4/sZwU1sz7uT+uCBgkLEfQPwAAAAAAAPh/AAAAAAAA+H/MF64vVOyDP4LQ4RgJ57Y/nfQK1/ti3z84MLlRZK2RP0q48GImYcA/Qbr4Hvhq3z8=",
          "dtype": "f8"
         },
         "yaxis": "y"
        },
        {
         "hovertemplate": "<b>%{hovertext}</b><br><br>Region=LAC<br>Rural Connectivity (%)=%{x}<br>Urban Connectivity (%)=%{y}<br>Total=%{marker.size}<extra></extra>",
         "hovertext": [
          "Argentina",
          "Barbados",
          "Bolivia (Plurinational State of)",
          "Brazil",
          "Chile",
          "Colombia",
          "Costa Rica",
          "Cuba",
          "Dominican Republic",
          "Ecuador",
          "Guatemala",
          "Haiti",
          "Mexico",
          "Nicaragua",
          "Panama",
          "Peru",
          "Saint Lucia",
          "Suriname",
          "Trinidad and Tobago",
          "Uruguay"
         ],
         "legendgroup": "LAC",
         "marker": {
          "color": "#00cc96",
          "size": {
           "bdata": "yQVuw7yG2T/8TbgRfxzlP8IStG4oIb8/O99PjZdu6j9i83FtqJjrP1vTd5lt3tY/VlAywQUo5z/BD60ubK2lPx5ghwn+6s4/i+Kwj6mW2j+fw3fYccO1P+heW8VZQso/FdVsL7MZ2j/RUW+lMAyjPy9vTbxyn9M/bqnedZGd0D8Gn02NpWbeP+qN3wYZI+A/T0azF44B3D9r7MVrBS/kPw==",
           "dtype": "f8"
          },
          "sizemode": "area",
          "sizeref": 0.0024825,
          "symbol": "circle"
         },
         "mode": "markers",
         "name": "LAC",
         "orientation": "v",
         "showlegend": true,
         "type": "scatter",
         "x": {
          "bdata": "AAAAAAAA+H+Eof4KYZjjP2gGEpAGIqM/KVyPwvUo4D9JRzmYTYDmP5ppuGrEFKk/Q9cbbXVy4z+zU/ZwfNuLP6HWbJlSELo/nCRMB6FyyT+6GJGGd5mbP8MAkNKjx7w/y/y8DHNAvD8AAAAAAAD4f3b2yx0cark/E+74o2YXjT9VT0wqRvjePzX/UoxBqdc/HSHe2MXu1T8sEzo8SGXePw==",
          "dtype": "f8"
         },
         "xaxis": "x",
         "y": {
          "bdata": "AAAAAAAA+H8o31zT3fLlP+09ZOMkQcU/ppvEILBy7D/g9ZmzPmXsP4FEPy8cht4/wizco2IH6T+OyhR+IdSuP47fUx2CndI/V0hUAyjh4D9Ofmnx19HGP/aXgQOZLtc/F8LF5dN+4D8AAAAAAAD4fwrOSeX2ctw/dwHlpVH31T+EUDTMaRLcP/tbrM2WJOI/2zvQekeD4D9U92loR7fkPw==",
          "dtype": "f8"
         },
         "yaxis": "y"
        },
        {
         "hovertemplate": "<b>%{hovertext}</b><br><br>Region=ECA<br>Rural Connectivity (%)=%{x}<br>Urban Connectivity (%)=%{y}<br>Total=%{marker.size}<extra></extra>",
         "hovertext": [
          "Armenia",
          "Bosnia and Herzegovina",
          "Bulgaria",
          "Georgia",
          "Kyrgyzstan",
          "Montenegro",
          "Russian Federation",
          "Serbia",
          "Tajikistan",
          "North Macedonia",
          "Turkey",
          "Turkmenistan",
          "Ukraine",
          "United Kingdom",
          "Uzbekistan"
         ],
         "legendgroup": "ECA",
         "marker": {
          "color": "#ab63fa",
          "size": {
           "bdata": "IH3mzhzl6T/pL7/reOXiP4j029eBc+g/yOydRcNQ6z+h7zs7hZ3nP40XQLTlIOo/0SLb+X5q7D9J4YxatDXuP90j02K2zM4/2a1VxsB87T/qZnbrJy/XP+3tXvJNZ90/ZDvfT42X5j8tsp3vp8bvP1K4HoXrUcg/",
           "dtype": "f8"
          },
          "sizemode": "area",
          "sizeref": 0.0024825,
          "symbol": "circle"
         },
         "mode": "markers",
         "name": "ECA",
         "orientation": "v",
         "showlegend": true,
         "type": "scatter",
         "x": {
          "bdata": "yhgjNtOy5j+GKTnlY3HgPzbhehTf+eQ/7g30osYT5z8p4d+9hCvmP8JMjkXth+c/c2iR7Xw/6T8UjdgYjjTtP8u2j2hV+cg/j8h/gArh7D99pob3bAfCP/y6QaWruNc/AAAAAAAA+H8AAAAAAAD4f9ejcD0K18M/",
          "dtype": "f8"
         },
         "xaxis": "x",
         "y": {
          "bdata": "HMltVYVG7D/19fMfozvoP8FH4Xrnxek/iRX0/Zvp7T/IkziAY7XqP2rfyiOvb+s/kxgEVg4t7j+Mv88c6uHuP+B9evlCddg/gr1duD3j7T/OEBIt1pDbP/zThNIuoeI/ZDvfT42X5j8AAAAAAAD4f+Olm8QgsNI/",
          "dtype": "f8"
         },
         "yaxis": "y"
        },
        {
         "hovertemplate": "<b>%{hovertext}</b><br><br>Region=SA<br>Rural Connectivity (%)=%{x}<br>Urban Connectivity (%)=%{y}<br>Total=%{marker.size}<extra></extra>",
         "hovertext": [
          "Bangladesh",
          "India",
          "Maldives",
          "Nepal",
          "Pakistan",
          "Sri Lanka"
         ],
         "legendgroup": "SA",
         "marker": {
          "color": "#FFA15A",
          "size": {
           "bdata": "jYaTHE501z9AA/ry78S1P24GOtICUOY/NtlitAkJ3j+S2YIH+123P+XQItv5fuY/",
           "dtype": "f8"
          },
          "sizemode": "area",
          "sizeref": 0.0024825,
          "symbol": "circle"
         },
         "mode": "markers",
         "name": "SA",
         "orientation": "v",
         "showlegend": true,
         "type": "scatter",
         "x": {
          "bdata": "k1+sPY761D9Prhir/M6pP2/3vvok7uU/Xm1N6nZ51D+qU40a/dejP8UgsHJokeU/",
          "dtype": "f8"
         },
         "xaxis": "x",
         "y": {
          "bdata": "LeJP2HqG4D/mRwddJ2bFPyTI33GQ/+Y/xZhzjwOZ4T9SLj4Ck+fIPy/dJAaBles/",
          "dtype": "f8"
         },
         "yaxis": "y"
        },
        {
         "hovertemplate": "<b>%{hovertext}</b><br><br>Region=EAP<br>Rural Connectivity (%)=%{x}<br>Urban Connectivity (%)=%{y}<br>Total=%{marker.size}<extra></extra>",
         "hovertext": [
          "China",
          "Indonesia",
          "Japan",
          "Kiribati",
          "Lao People&apos;s Democratic Republic",
          "Mongolia",
          "Thailand",
          "Tonga",
          "Viet Nam"
         ],
         "legendgroup": "EAP",
         "marker": {
          "color": "#19d3f3",
          "size": {
           "bdata": "/P//X7I94j81t0JYjSXIP1eTp6ym6+g/dLdwwU514D8vvzNpWyyPPxVvGO2Rgdc/e8Snc5Lf5j8pEBRdDQTtP9ejcD0K1+M/",
           "dtype": "f8"
          },
          "sizemode": "area",
          "sizeref": 0.0024825,
          "symbol": "circle"
         },
         "mode": "markers",
         "name": "EAP",
         "orientation": "v",
         "showlegend": true,
         "type": "scatter",
         "x": {
          "bdata": "CAAAYDX+3z/nOSLfpdS5P+XS+IVXkuo/ARm8r7zz1D9fvRXKPdZ/P8PEI1gA38A/d33h0LSS5T8sjToXprnsPwAAAAAAAPh/",
          "dtype": "f8"
         },
         "xaxis": "x",
         "y": {
          "bdata": "/v//v0Md7T87xD9s6dHQPzhKXp1jwOg/rrsChZ4i5j9tKrCu37WiP5Ty+v0kat8/SFBvcB/d6D96kzd4ExTuP9ejcD0K1+M/",
          "dtype": "f8"
         },
         "yaxis": "y"
        }
       ],
       "layout": {
        "height": 800,
        "legend": {
         "itemsizing": "constant",
         "title": {
          "text": "Region"
         },
         "tracegroupgap": 0
        },
        "template": {
         "data": {
          "bar": [
           {
            "error_x": {
             "color": "#2a3f5f"
            },
            "error_y": {
             "color": "#2a3f5f"
            },
            "marker": {
             "line": {
              "color": "#E5ECF6",
              "width": 0.5
             },
             "pattern": {
              "fillmode": "overlay",
              "size": 10,
              "solidity": 0.2
             }
            },
            "type": "bar"
           }
          ],
          "barpolar": [
           {
            "marker": {
             "line": {
              "color": "#E5ECF6",
              "width": 0.5
             },
             "pattern": {
              "fillmode": "overlay",
              "size": 10,
              "solidity": 0.2
             }
            },
            "type": "barpolar"
           }
          ],
          "carpet": [
           {
            "aaxis": {
             "endlinecolor": "#2a3f5f",
             "gridcolor": "white",
             "linecolor": "white",
             "minorgridcolor": "white",
             "startlinecolor": "#2a3f5f"
            },
            "baxis": {
             "endlinecolor": "#2a3f5f",
             "gridcolor": "white",
             "linecolor": "white",
             "minorgridcolor": "white",
             "startlinecolor": "#2a3f5f"
            },
            "type": "carpet"
           }
          ],
          "choropleth": [
           {
            "colorbar": {
             "outlinewidth": 0,
             "ticks": ""
            },
            "type": "choropleth"
           }
          ],
          "contour": [
           {
            "colorbar": {
             "outlinewidth": 0,
             "ticks": ""
            },
            "colorscale": [
             [
              0,
              "#0d0887"
             ],
             [
              0.1111111111111111,
              "#46039f"
             ],
             [
              0.2222222222222222,
              "#7201a8"
             ],
             [
              0.3333333333333333,
              "#9c179e"
             ],
             [
              0.4444444444444444,
              "#bd3786"
             ],
             [
              0.5555555555555556,
              "#d8576b"
             ],
             [
              0.6666666666666666,
              "#ed7953"
             ],
             [
              0.7777777777777778,
              "#fb9f3a"
             ],
             [
              0.8888888888888888,
              "#fdca26"
             ],
             [
              1,
              "#f0f921"
             ]
            ],
            "type": "contour"
           }
          ],
          "contourcarpet": [
           {
            "colorbar": {
             "outlinewidth": 0,
             "ticks": ""
            },
            "type": "contourcarpet"
           }
          ],
          "heatmap": [
           {
            "colorbar": {
             "outlinewidth": 0,
             "ticks": ""
            },
            "colorscale": [
             [
              0,
              "#0d0887"
             ],
             [
              0.1111111111111111,
              "#46039f"
             ],
             [
              0.2222222222222222,
              "#7201a8"
             ],
             [
              0.3333333333333333,
              "#9c179e"
             ],
             [
              0.4444444444444444,
              "#bd3786"
             ],
             [
              0.5555555555555556,
              "#d8576b"
             ],
             [
              0.6666666666666666,
              "#ed7953"
             ],
             [
              0.7777777777777778,
              "#fb9f3a"
             ],
             [
              0.8888888888888888,
              "#fdca26"
             ],
             [
              1,
              "#f0f921"
             ]
            ],
            "type": "heatmap"
           }
          ],
          "histogram": [
           {
            "marker": {
             "pattern": {
              "fillmode": "overlay",
              "size": 10,
              "solidity": 0.2
             }
            },
            "type": "histogram"
           }
          ],
          "histogram2d": [
           {
            "colorbar": {
             "outlinewidth": 0,
             "ticks": ""
            },
            "colorscale": [
             [
              0,
              "#0d0887"
             ],
             [
              0.1111111111111111,
              "#46039f"
             ],
             [
              0.2222222222222222,
              "#7201a8"
             ],
             [
              0.3333333333333333,
              "#9c179e"
             ],
             [
              0.4444444444444444,
              "#bd3786"
             ],
             [
              0.5555555555555556,
              "#d8576b"
             ],
             [
              0.6666666666666666,
              "#ed7953"
             ],
             [
              0.7777777777777778,
              "#fb9f3a"
             ],
             [
              0.8888888888888888,
              "#fdca26"
             ],
             [
              1,
              "#f0f921"
             ]
            ],
            "type": "histogram2d"
           }
          ],
          "histogram2dcontour": [
           {
            "colorbar": {
             "outlinewidth": 0,
             "ticks": ""
            },
            "colorscale": [
             [
              0,
              "#0d0887"
             ],
             [
              0.1111111111111111,
              "#46039f"
             ],
             [
              0.2222222222222222,
              "#7201a8"
             ],
             [
              0.3333333333333333,
              "#9c179e"
             ],
             [
              0.4444444444444444,
              "#bd3786"
             ],
             [
              0.5555555555555556,
              "#d8576b"
             ],
             [
              0.6666666666666666,
              "#ed7953"
             ],
             [
              0.7777777777777778,
              "#fb9f3a"
             ],
             [
              0.8888888888888888,
              "#fdca26"
             ],
             [
              1,
              "#f0f921"
             ]
            ],
            "type": "histogram2dcontour"
           }
          ],
          "mesh3d": [
           {
            "colorbar": {
             "outlinewidth": 0,
             "ticks": ""
            },
            "type": "mesh3d"
           }
          ],
          "parcoords": [
           {
            "line": {
             "colorbar": {
              "outlinewidth": 0,
              "ticks": ""
             }
            },
            "type": "parcoords"
           }
          ],
          "pie": [
           {
            "automargin": true,
            "type": "pie"
           }
          ],
          "scatter": [
           {
            "fillpattern": {
             "fillmode": "overlay",
             "size": 10,
             "solidity": 0.2
            },
            "type": "scatter"
           }
          ],
          "scatter3d": [
           {
            "line": {
             "colorbar": {
              "outlinewidth": 0,
              "ticks": ""
             }
            },
            "marker": {
             "colorbar": {
              "outlinewidth": 0,
              "ticks": ""
             }
            },
            "type": "scatter3d"
           }
          ],
          "scattercarpet": [
           {
            "marker": {
             "colorbar": {
              "outlinewidth": 0,
              "ticks": ""
             }
            },
            "type": "scattercarpet"
           }
          ],
          "scattergeo": [
           {
            "marker": {
             "colorbar": {
              "outlinewidth": 0,
              "ticks": ""
             }
            },
            "type": "scattergeo"
           }
          ],
          "scattergl": [
           {
            "marker": {
             "colorbar": {
              "outlinewidth": 0,
              "ticks": ""
             }
            },
            "type": "scattergl"
           }
          ],
          "scattermap": [
           {
            "marker": {
             "colorbar": {
              "outlinewidth": 0,
              "ticks": ""
             }
            },
            "type": "scattermap"
           }
          ],
          "scattermapbox": [
           {
            "marker": {
             "colorbar": {
              "outlinewidth": 0,
              "ticks": ""
             }
            },
            "type": "scattermapbox"
           }
          ],
          "scatterpolar": [
           {
            "marker": {
             "colorbar": {
              "outlinewidth": 0,
              "ticks": ""
             }
            },
            "type": "scatterpolar"
           }
          ],
          "scatterpolargl": [
           {
            "marker": {
             "colorbar": {
              "outlinewidth": 0,
              "ticks": ""
             }
            },
            "type": "scatterpolargl"
           }
          ],
          "scatterternary": [
           {
            "marker": {
             "colorbar": {
              "outlinewidth": 0,
              "ticks": ""
             }
            },
            "type": "scatterternary"
           }
          ],
          "surface": [
           {
            "colorbar": {
             "outlinewidth": 0,
             "ticks": ""
            },
            "colorscale": [
             [
              0,
              "#0d0887"
             ],
             [
              0.1111111111111111,
              "#46039f"
             ],
             [
              0.2222222222222222,
              "#7201a8"
             ],
             [
              0.3333333333333333,
              "#9c179e"
             ],
             [
              0.4444444444444444,
              "#bd3786"
             ],
             [
              0.5555555555555556,
              "#d8576b"
             ],
             [
              0.6666666666666666,
              "#ed7953"
             ],
             [
              0.7777777777777778,
              "#fb9f3a"
             ],
             [
              0.8888888888888888,
              "#fdca26"
             ],
             [
              1,
              "#f0f921"
             ]
            ],
            "type": "surface"
           }
          ],
          "table": [
           {
            "cells": {
             "fill": {
              "color": "#EBF0F8"
             },
             "line": {
              "color": "white"
             }
            },
            "header": {
             "fill": {
              "color": "#C8D4E3"
             },
             "line": {
              "color": "white"
             }
            },
            "type": "table"
           }
          ]
         },
         "layout": {
          "annotationdefaults": {
           "arrowcolor": "#2a3f5f",
           "arrowhead": 0,
           "arrowwidth": 1
          },
          "autotypenumbers": "strict",
          "coloraxis": {
           "colorbar": {
            "outlinewidth": 0,
            "ticks": ""
           }
          },
          "colorscale": {
           "diverging": [
            [
             0,
             "#8e0152"
            ],
            [
             0.1,
             "#c51b7d"
            ],
            [
             0.2,
             "#de77ae"
            ],
            [
             0.3,
             "#f1b6da"
            ],
            [
             0.4,
             "#fde0ef"
            ],
            [
             0.5,
             "#f7f7f7"
            ],
            [
             0.6,
             "#e6f5d0"
            ],
            [
             0.7,
             "#b8e186"
            ],
            [
             0.8,
             "#7fbc41"
            ],
            [
             0.9,
             "#4d9221"
            ],
            [
             1,
             "#276419"
            ]
           ],
           "sequential": [
            [
             0,
             "#0d0887"
            ],
            [
             0.1111111111111111,
             "#46039f"
            ],
            [
             0.2222222222222222,
             "#7201a8"
            ],
            [
             0.3333333333333333,
             "#9c179e"
            ],
            [
             0.4444444444444444,
             "#bd3786"
            ],
            [
             0.5555555555555556,
             "#d8576b"
            ],
            [
             0.6666666666666666,
             "#ed7953"
            ],
            [
             0.7777777777777778,
             "#fb9f3a"
            ],
            [
             0.8888888888888888,
             "#fdca26"
            ],
            [
             1,
             "#f0f921"
            ]
           ],
           "sequentialminus": [
            [
             0,
             "#0d0887"
            ],
            [
             0.1111111111111111,
             "#46039f"
            ],
            [
             0.2222222222222222,
             "#7201a8"
            ],
            [
             0.3333333333333333,
             "#9c179e"
            ],
            [
             0.4444444444444444,
             "#bd3786"
            ],
            [
             0.5555555555555556,
             "#d8576b"
            ],
            [
             0.6666666666666666,
             "#ed7953"
            ],
            [
             0.7777777777777778,
             "#fb9f3a"
            ],
            [
             0.8888888888888888,
             "#fdca26"
            ],
            [
             1,
             "#f0f921"
            ]
           ]
          },
          "colorway": [
           "#636efa",
           "#EF553B",
           "#00cc96",
           "#ab63fa",
           "#FFA15A",
           "#19d3f3",
           "#FF6692",
           "#B6E880",
           "#FF97FF",
           "#FECB52"
          ],
          "font": {
           "color": "#2a3f5f"
          },
          "geo": {
           "bgcolor": "white",
           "lakecolor": "white",
           "landcolor": "#E5ECF6",
           "showlakes": true,
           "showland": true,
           "subunitcolor": "white"
          },
          "hoverlabel": {
           "align": "left"
          },
          "hovermode": "closest",
          "mapbox": {
           "style": "light"
          },
          "paper_bgcolor": "white",
          "plot_bgcolor": "#E5ECF6",
          "polar": {
           "angularaxis": {
            "gridcolor": "white",
            "linecolor": "white",
            "ticks": ""
           },
           "bgcolor": "#E5ECF6",
           "radialaxis": {
            "gridcolor": "white",
            "linecolor": "white",
            "ticks": ""
           }
          },
          "scene": {
           "xaxis": {
            "backgroundcolor": "#E5ECF6",
            "gridcolor": "white",
            "gridwidth": 2,
            "linecolor": "white",
            "showbackground": true,
            "ticks": "",
            "zerolinecolor": "white"
           },
           "yaxis": {
            "backgroundcolor": "#E5ECF6",
            "gridcolor": "white",
            "gridwidth": 2,
            "linecolor": "white",
            "showbackground": true,
            "ticks": "",
            "zerolinecolor": "white"
           },
           "zaxis": {
            "backgroundcolor": "#E5ECF6",
            "gridcolor": "white",
            "gridwidth": 2,
            "linecolor": "white",
            "showbackground": true,
            "ticks": "",
            "zerolinecolor": "white"
           }
          },
          "shapedefaults": {
           "line": {
            "color": "#2a3f5f"
           }
          },
          "ternary": {
           "aaxis": {
            "gridcolor": "white",
            "linecolor": "white",
            "ticks": ""
           },
           "baxis": {
            "gridcolor": "white",
            "linecolor": "white",
            "ticks": ""
           },
           "bgcolor": "#E5ECF6",
           "caxis": {
            "gridcolor": "white",
            "linecolor": "white",
            "ticks": ""
           }
          },
          "title": {
           "x": 0.05
          },
          "xaxis": {
           "automargin": true,
           "gridcolor": "white",
           "linecolor": "white",
           "ticks": "",
           "title": {
            "standoff": 15
           },
           "zerolinecolor": "white",
           "zerolinewidth": 2
          },
          "yaxis": {
           "automargin": true,
           "gridcolor": "white",
           "linecolor": "white",
           "ticks": "",
           "title": {
            "standoff": 15
           },
           "zerolinecolor": "white",
           "zerolinewidth": 2
          }
         }
        },
        "title": {
         "text": "Urban vs Rural Connectivity (Bubble Size = Total)"
        },
        "xaxis": {
         "anchor": "y",
         "domain": [
          0,
          1
         ],
         "title": {
          "text": "Rural Connectivity (%)"
         }
        },
        "yaxis": {
         "anchor": "x",
         "domain": [
          0,
          1
         ],
         "title": {
          "text": "Urban Connectivity (%)"
         }
        }
       }
      }
     },
     "metadata": {},
     "output_type": "display_data"
    }
   ],
   "source": [
    "\n",
    "fig = px.scatter(df, x=\"Rural\", y=\"Urban\", size=\"Total\", color=\"Region\", height=800,\n",
    "                 hover_name=\"Countries and areas\",\n",
    "                 title=\"Urban vs Rural Connectivity (Bubble Size = Total)\",\n",
    "                 labels={\"Rural\":\"Rural Connectivity (%)\",\"Urban\":\"Urban Connectivity (%)\"})\n",
    "fig.show()\n"
   ]
  },
  {
   "cell_type": "markdown",
   "id": "e6b4ab5a",
   "metadata": {},
   "source": [
    "\n",
    "## 7. Heatmap — Correlation of Connectivity Variables  \n",
    "\n",
    "**Why this chart?**  \n",
    "Heatmaps are ideal for showing **correlation matrices**. We use it for `Total`, `Rural`, `Urban`, `Poorest`, `Richest`.  \n",
    "\n",
    "**Insights:**  \n",
    "- Identifies strong correlations (e.g., Urban vs Richest).  \n",
    "- Highlights where inequalities exist.  \n",
    "\n",
    "**Design principles:**  \n",
    "- Diverging color palette centered at 0.  \n",
    "- Numeric annotations included.  \n"
   ]
  },
  {
   "cell_type": "code",
   "execution_count": 17,
   "id": "0981c3d8",
   "metadata": {},
   "outputs": [
    {
     "data": {
      "application/vnd.plotly.v1+json": {
       "config": {
        "plotlyServerURL": "https://plot.ly"
       },
       "data": [
        {
         "coloraxis": "coloraxis",
         "hovertemplate": "x: %{x}<br>y: %{y}<br>color: %{z}<extra></extra>",
         "name": "0",
         "texttemplate": "%{z}",
         "type": "heatmap",
         "x": [
          "Total",
          "Rural",
          "Urban",
          "Poorest",
          "Richest"
         ],
         "xaxis": "x",
         "y": [
          "Total",
          "Rural",
          "Urban",
          "Poorest",
          "Richest"
         ],
         "yaxis": "y",
         "z": {
          "bdata": "AAAAAAAA8D9EfQPlw9buPzphmfssNe8/MdIQOvw97D/jipqipP7rP0R9A+XD1u4/AAAAAAAA8D9sy+x5dIztPxhyBN1Ev+w/tb/bsXLJ6D86YZn7LDXvP2zL7Hl0jO0/AAAAAAAA8D/PCO6NrsrqP1R6G8c+J+0/MdIQOvw97D8YcgTdRL/sP88I7o2uyuo/AAAAAAAA8D92yT07CtHjP+OKmqKk/us/tb/bsXLJ6D9UehvHPiftP3bJPTsK0eM/AAAAAAAA8D8=",
          "dtype": "f8",
          "shape": "5, 5"
         }
        }
       ],
       "layout": {
        "coloraxis": {
         "colorscale": [
          [
           0,
           "rgb(103,0,31)"
          ],
          [
           0.1,
           "rgb(178,24,43)"
          ],
          [
           0.2,
           "rgb(214,96,77)"
          ],
          [
           0.3,
           "rgb(244,165,130)"
          ],
          [
           0.4,
           "rgb(253,219,199)"
          ],
          [
           0.5,
           "rgb(247,247,247)"
          ],
          [
           0.6,
           "rgb(209,229,240)"
          ],
          [
           0.7,
           "rgb(146,197,222)"
          ],
          [
           0.8,
           "rgb(67,147,195)"
          ],
          [
           0.9,
           "rgb(33,102,172)"
          ],
          [
           1,
           "rgb(5,48,97)"
          ]
         ]
        },
        "height": 800,
        "template": {
         "data": {
          "bar": [
           {
            "error_x": {
             "color": "#2a3f5f"
            },
            "error_y": {
             "color": "#2a3f5f"
            },
            "marker": {
             "line": {
              "color": "#E5ECF6",
              "width": 0.5
             },
             "pattern": {
              "fillmode": "overlay",
              "size": 10,
              "solidity": 0.2
             }
            },
            "type": "bar"
           }
          ],
          "barpolar": [
           {
            "marker": {
             "line": {
              "color": "#E5ECF6",
              "width": 0.5
             },
             "pattern": {
              "fillmode": "overlay",
              "size": 10,
              "solidity": 0.2
             }
            },
            "type": "barpolar"
           }
          ],
          "carpet": [
           {
            "aaxis": {
             "endlinecolor": "#2a3f5f",
             "gridcolor": "white",
             "linecolor": "white",
             "minorgridcolor": "white",
             "startlinecolor": "#2a3f5f"
            },
            "baxis": {
             "endlinecolor": "#2a3f5f",
             "gridcolor": "white",
             "linecolor": "white",
             "minorgridcolor": "white",
             "startlinecolor": "#2a3f5f"
            },
            "type": "carpet"
           }
          ],
          "choropleth": [
           {
            "colorbar": {
             "outlinewidth": 0,
             "ticks": ""
            },
            "type": "choropleth"
           }
          ],
          "contour": [
           {
            "colorbar": {
             "outlinewidth": 0,
             "ticks": ""
            },
            "colorscale": [
             [
              0,
              "#0d0887"
             ],
             [
              0.1111111111111111,
              "#46039f"
             ],
             [
              0.2222222222222222,
              "#7201a8"
             ],
             [
              0.3333333333333333,
              "#9c179e"
             ],
             [
              0.4444444444444444,
              "#bd3786"
             ],
             [
              0.5555555555555556,
              "#d8576b"
             ],
             [
              0.6666666666666666,
              "#ed7953"
             ],
             [
              0.7777777777777778,
              "#fb9f3a"
             ],
             [
              0.8888888888888888,
              "#fdca26"
             ],
             [
              1,
              "#f0f921"
             ]
            ],
            "type": "contour"
           }
          ],
          "contourcarpet": [
           {
            "colorbar": {
             "outlinewidth": 0,
             "ticks": ""
            },
            "type": "contourcarpet"
           }
          ],
          "heatmap": [
           {
            "colorbar": {
             "outlinewidth": 0,
             "ticks": ""
            },
            "colorscale": [
             [
              0,
              "#0d0887"
             ],
             [
              0.1111111111111111,
              "#46039f"
             ],
             [
              0.2222222222222222,
              "#7201a8"
             ],
             [
              0.3333333333333333,
              "#9c179e"
             ],
             [
              0.4444444444444444,
              "#bd3786"
             ],
             [
              0.5555555555555556,
              "#d8576b"
             ],
             [
              0.6666666666666666,
              "#ed7953"
             ],
             [
              0.7777777777777778,
              "#fb9f3a"
             ],
             [
              0.8888888888888888,
              "#fdca26"
             ],
             [
              1,
              "#f0f921"
             ]
            ],
            "type": "heatmap"
           }
          ],
          "histogram": [
           {
            "marker": {
             "pattern": {
              "fillmode": "overlay",
              "size": 10,
              "solidity": 0.2
             }
            },
            "type": "histogram"
           }
          ],
          "histogram2d": [
           {
            "colorbar": {
             "outlinewidth": 0,
             "ticks": ""
            },
            "colorscale": [
             [
              0,
              "#0d0887"
             ],
             [
              0.1111111111111111,
              "#46039f"
             ],
             [
              0.2222222222222222,
              "#7201a8"
             ],
             [
              0.3333333333333333,
              "#9c179e"
             ],
             [
              0.4444444444444444,
              "#bd3786"
             ],
             [
              0.5555555555555556,
              "#d8576b"
             ],
             [
              0.6666666666666666,
              "#ed7953"
             ],
             [
              0.7777777777777778,
              "#fb9f3a"
             ],
             [
              0.8888888888888888,
              "#fdca26"
             ],
             [
              1,
              "#f0f921"
             ]
            ],
            "type": "histogram2d"
           }
          ],
          "histogram2dcontour": [
           {
            "colorbar": {
             "outlinewidth": 0,
             "ticks": ""
            },
            "colorscale": [
             [
              0,
              "#0d0887"
             ],
             [
              0.1111111111111111,
              "#46039f"
             ],
             [
              0.2222222222222222,
              "#7201a8"
             ],
             [
              0.3333333333333333,
              "#9c179e"
             ],
             [
              0.4444444444444444,
              "#bd3786"
             ],
             [
              0.5555555555555556,
              "#d8576b"
             ],
             [
              0.6666666666666666,
              "#ed7953"
             ],
             [
              0.7777777777777778,
              "#fb9f3a"
             ],
             [
              0.8888888888888888,
              "#fdca26"
             ],
             [
              1,
              "#f0f921"
             ]
            ],
            "type": "histogram2dcontour"
           }
          ],
          "mesh3d": [
           {
            "colorbar": {
             "outlinewidth": 0,
             "ticks": ""
            },
            "type": "mesh3d"
           }
          ],
          "parcoords": [
           {
            "line": {
             "colorbar": {
              "outlinewidth": 0,
              "ticks": ""
             }
            },
            "type": "parcoords"
           }
          ],
          "pie": [
           {
            "automargin": true,
            "type": "pie"
           }
          ],
          "scatter": [
           {
            "fillpattern": {
             "fillmode": "overlay",
             "size": 10,
             "solidity": 0.2
            },
            "type": "scatter"
           }
          ],
          "scatter3d": [
           {
            "line": {
             "colorbar": {
              "outlinewidth": 0,
              "ticks": ""
             }
            },
            "marker": {
             "colorbar": {
              "outlinewidth": 0,
              "ticks": ""
             }
            },
            "type": "scatter3d"
           }
          ],
          "scattercarpet": [
           {
            "marker": {
             "colorbar": {
              "outlinewidth": 0,
              "ticks": ""
             }
            },
            "type": "scattercarpet"
           }
          ],
          "scattergeo": [
           {
            "marker": {
             "colorbar": {
              "outlinewidth": 0,
              "ticks": ""
             }
            },
            "type": "scattergeo"
           }
          ],
          "scattergl": [
           {
            "marker": {
             "colorbar": {
              "outlinewidth": 0,
              "ticks": ""
             }
            },
            "type": "scattergl"
           }
          ],
          "scattermap": [
           {
            "marker": {
             "colorbar": {
              "outlinewidth": 0,
              "ticks": ""
             }
            },
            "type": "scattermap"
           }
          ],
          "scattermapbox": [
           {
            "marker": {
             "colorbar": {
              "outlinewidth": 0,
              "ticks": ""
             }
            },
            "type": "scattermapbox"
           }
          ],
          "scatterpolar": [
           {
            "marker": {
             "colorbar": {
              "outlinewidth": 0,
              "ticks": ""
             }
            },
            "type": "scatterpolar"
           }
          ],
          "scatterpolargl": [
           {
            "marker": {
             "colorbar": {
              "outlinewidth": 0,
              "ticks": ""
             }
            },
            "type": "scatterpolargl"
           }
          ],
          "scatterternary": [
           {
            "marker": {
             "colorbar": {
              "outlinewidth": 0,
              "ticks": ""
             }
            },
            "type": "scatterternary"
           }
          ],
          "surface": [
           {
            "colorbar": {
             "outlinewidth": 0,
             "ticks": ""
            },
            "colorscale": [
             [
              0,
              "#0d0887"
             ],
             [
              0.1111111111111111,
              "#46039f"
             ],
             [
              0.2222222222222222,
              "#7201a8"
             ],
             [
              0.3333333333333333,
              "#9c179e"
             ],
             [
              0.4444444444444444,
              "#bd3786"
             ],
             [
              0.5555555555555556,
              "#d8576b"
             ],
             [
              0.6666666666666666,
              "#ed7953"
             ],
             [
              0.7777777777777778,
              "#fb9f3a"
             ],
             [
              0.8888888888888888,
              "#fdca26"
             ],
             [
              1,
              "#f0f921"
             ]
            ],
            "type": "surface"
           }
          ],
          "table": [
           {
            "cells": {
             "fill": {
              "color": "#EBF0F8"
             },
             "line": {
              "color": "white"
             }
            },
            "header": {
             "fill": {
              "color": "#C8D4E3"
             },
             "line": {
              "color": "white"
             }
            },
            "type": "table"
           }
          ]
         },
         "layout": {
          "annotationdefaults": {
           "arrowcolor": "#2a3f5f",
           "arrowhead": 0,
           "arrowwidth": 1
          },
          "autotypenumbers": "strict",
          "coloraxis": {
           "colorbar": {
            "outlinewidth": 0,
            "ticks": ""
           }
          },
          "colorscale": {
           "diverging": [
            [
             0,
             "#8e0152"
            ],
            [
             0.1,
             "#c51b7d"
            ],
            [
             0.2,
             "#de77ae"
            ],
            [
             0.3,
             "#f1b6da"
            ],
            [
             0.4,
             "#fde0ef"
            ],
            [
             0.5,
             "#f7f7f7"
            ],
            [
             0.6,
             "#e6f5d0"
            ],
            [
             0.7,
             "#b8e186"
            ],
            [
             0.8,
             "#7fbc41"
            ],
            [
             0.9,
             "#4d9221"
            ],
            [
             1,
             "#276419"
            ]
           ],
           "sequential": [
            [
             0,
             "#0d0887"
            ],
            [
             0.1111111111111111,
             "#46039f"
            ],
            [
             0.2222222222222222,
             "#7201a8"
            ],
            [
             0.3333333333333333,
             "#9c179e"
            ],
            [
             0.4444444444444444,
             "#bd3786"
            ],
            [
             0.5555555555555556,
             "#d8576b"
            ],
            [
             0.6666666666666666,
             "#ed7953"
            ],
            [
             0.7777777777777778,
             "#fb9f3a"
            ],
            [
             0.8888888888888888,
             "#fdca26"
            ],
            [
             1,
             "#f0f921"
            ]
           ],
           "sequentialminus": [
            [
             0,
             "#0d0887"
            ],
            [
             0.1111111111111111,
             "#46039f"
            ],
            [
             0.2222222222222222,
             "#7201a8"
            ],
            [
             0.3333333333333333,
             "#9c179e"
            ],
            [
             0.4444444444444444,
             "#bd3786"
            ],
            [
             0.5555555555555556,
             "#d8576b"
            ],
            [
             0.6666666666666666,
             "#ed7953"
            ],
            [
             0.7777777777777778,
             "#fb9f3a"
            ],
            [
             0.8888888888888888,
             "#fdca26"
            ],
            [
             1,
             "#f0f921"
            ]
           ]
          },
          "colorway": [
           "#636efa",
           "#EF553B",
           "#00cc96",
           "#ab63fa",
           "#FFA15A",
           "#19d3f3",
           "#FF6692",
           "#B6E880",
           "#FF97FF",
           "#FECB52"
          ],
          "font": {
           "color": "#2a3f5f"
          },
          "geo": {
           "bgcolor": "white",
           "lakecolor": "white",
           "landcolor": "#E5ECF6",
           "showlakes": true,
           "showland": true,
           "subunitcolor": "white"
          },
          "hoverlabel": {
           "align": "left"
          },
          "hovermode": "closest",
          "mapbox": {
           "style": "light"
          },
          "paper_bgcolor": "white",
          "plot_bgcolor": "#E5ECF6",
          "polar": {
           "angularaxis": {
            "gridcolor": "white",
            "linecolor": "white",
            "ticks": ""
           },
           "bgcolor": "#E5ECF6",
           "radialaxis": {
            "gridcolor": "white",
            "linecolor": "white",
            "ticks": ""
           }
          },
          "scene": {
           "xaxis": {
            "backgroundcolor": "#E5ECF6",
            "gridcolor": "white",
            "gridwidth": 2,
            "linecolor": "white",
            "showbackground": true,
            "ticks": "",
            "zerolinecolor": "white"
           },
           "yaxis": {
            "backgroundcolor": "#E5ECF6",
            "gridcolor": "white",
            "gridwidth": 2,
            "linecolor": "white",
            "showbackground": true,
            "ticks": "",
            "zerolinecolor": "white"
           },
           "zaxis": {
            "backgroundcolor": "#E5ECF6",
            "gridcolor": "white",
            "gridwidth": 2,
            "linecolor": "white",
            "showbackground": true,
            "ticks": "",
            "zerolinecolor": "white"
           }
          },
          "shapedefaults": {
           "line": {
            "color": "#2a3f5f"
           }
          },
          "ternary": {
           "aaxis": {
            "gridcolor": "white",
            "linecolor": "white",
            "ticks": ""
           },
           "baxis": {
            "gridcolor": "white",
            "linecolor": "white",
            "ticks": ""
           },
           "bgcolor": "#E5ECF6",
           "caxis": {
            "gridcolor": "white",
            "linecolor": "white",
            "ticks": ""
           }
          },
          "title": {
           "x": 0.05
          },
          "xaxis": {
           "automargin": true,
           "gridcolor": "white",
           "linecolor": "white",
           "ticks": "",
           "title": {
            "standoff": 15
           },
           "zerolinecolor": "white",
           "zerolinewidth": 2
          },
          "yaxis": {
           "automargin": true,
           "gridcolor": "white",
           "linecolor": "white",
           "ticks": "",
           "title": {
            "standoff": 15
           },
           "zerolinecolor": "white",
           "zerolinewidth": 2
          }
         }
        },
        "title": {
         "text": "Correlation of Connectivity Variables"
        },
        "xaxis": {
         "anchor": "y",
         "constrain": "domain",
         "domain": [
          0,
          1
         ],
         "scaleanchor": "y"
        },
        "yaxis": {
         "anchor": "x",
         "autorange": "reversed",
         "constrain": "domain",
         "domain": [
          0,
          1
         ]
        }
       }
      }
     },
     "metadata": {},
     "output_type": "display_data"
    }
   ],
   "source": [
    "\n",
    "corr = df[[\"Total\", \"Rural\", \"Urban\", \"Poorest\", \"Richest\"]].corr()\n",
    "fig = px.imshow(corr, text_auto=True, color_continuous_scale=\"RdBu\", height=800,\n",
    "                title=\"Correlation of Connectivity Variables\")\n",
    "fig.show()\n"
   ]
  },
  {
   "cell_type": "markdown",
   "id": "cd0fb9a6",
   "metadata": {},
   "source": [
    "\n",
    "## 8. Choropleth Map — Global Connectivity  \n",
    "\n",
    "**Why this chart?**  \n",
    "Maps are essential for **geographic data**. Choropleth maps show `Total` connectivity by country using ISO3 codes.  \n",
    "\n",
    "**Insights:**  \n",
    "- Global perspective on connectivity.  \n",
    "- Reveals regional inequalities (Africa vs Europe, etc.).  \n",
    "\n",
    "**Design principles:**  \n",
    "- Sequential color palette (`Blues`) for intensity.  \n",
    "- Hover labels with country names.  \n"
   ]
  },
  {
   "cell_type": "code",
   "execution_count": 18,
   "id": "044bdac1",
   "metadata": {},
   "outputs": [
    {
     "data": {
      "application/vnd.plotly.v1+json": {
       "config": {
        "plotlyServerURL": "https://plot.ly"
       },
       "data": [
        {
         "coloraxis": "coloraxis",
         "geo": "geo",
         "hovertemplate": "<b>%{hovertext}</b><br><br>ISO3=%{location}<br>Total=%{z}<extra></extra>",
         "hovertext": [
          "Algeria",
          "Angola",
          "Argentina",
          "Armenia",
          "Bangladesh",
          "Barbados",
          "Benin",
          "Bolivia (Plurinational State of)",
          "Bosnia and Herzegovina",
          "Brazil",
          "Bulgaria",
          "Burkina Faso",
          "Cameroon",
          "Central African Republic",
          "Chad",
          "Chile",
          "China",
          "Colombia",
          "Costa Rica",
          "Côte d&apos;Ivoire",
          "Cuba",
          "Democratic Republic of the Congo",
          "Djibouti",
          "Dominican Republic",
          "Ecuador",
          "Egypt",
          "Gambia",
          "Georgia",
          "Ghana",
          "Guatemala",
          "Guinea-Bissau",
          "Haiti",
          "India",
          "Indonesia",
          "Iraq",
          "Japan",
          "Jordan",
          "Kenya",
          "Kiribati",
          "Kyrgyzstan",
          "Lao People&apos;s Democratic Republic",
          "Lesotho",
          "Madagascar",
          "Maldives",
          "Mali",
          "Mauritania",
          "Mexico",
          "Mongolia",
          "Montenegro",
          "Morocco",
          "Namibia",
          "Nepal",
          "Nicaragua",
          "Niger",
          "Nigeria",
          "Pakistan",
          "Panama",
          "Peru",
          "Russian Federation",
          "Saint Lucia",
          "Sao Tome and Principe",
          "Senegal",
          "Serbia",
          "Sierra Leone",
          "Somalia",
          "South Africa",
          "South Sudan",
          "Sri Lanka",
          "Sudan",
          "Suriname",
          "Tajikistan",
          "Thailand",
          "North Macedonia",
          "Togo",
          "Tonga",
          "Trinidad and Tobago",
          "Tunisia",
          "Turkey",
          "Turkmenistan",
          "Uganda",
          "Ukraine",
          "United Kingdom",
          "Uruguay",
          "Uzbekistan",
          "Viet Nam",
          "Zambia",
          "Zimbabwe"
         ],
         "locations": [
          "DZA",
          "AGO",
          "ARG",
          "ARM",
          "BGD",
          "BRB",
          "BEN",
          "BOL",
          "BIH",
          "BRA",
          "BGR",
          "BFA",
          "CMR",
          "CAF",
          "TCD",
          "CHL",
          "CHN",
          "COL",
          "CRI",
          "CIV",
          "CUB",
          "COD",
          "DJI",
          "DOM",
          "ECU",
          "EGY",
          "GMB",
          "GEO",
          "GHA",
          "GTM",
          "GNB",
          "HTI",
          "IND",
          "IDN",
          "IRQ",
          "JPN",
          "JOR",
          "KEN",
          "KIR",
          "KGZ",
          "LAO",
          "LSO",
          "MDG",
          "MDV",
          "MLI",
          "MRT",
          "MEX",
          "MNG",
          "MNE",
          "MAR",
          "NAM",
          "NPL",
          "NIC",
          "NER",
          "NGA",
          "PAK",
          "PAN",
          "PER",
          "RUS",
          "LCA",
          "STP",
          "SEN",
          "SRB",
          "SLE",
          "SOM",
          "ZAF",
          "SSD",
          "LKA",
          "SDN",
          "SUR",
          "TJK",
          "THA",
          "MKD",
          "TGO",
          "TON",
          "TTO",
          "TUN",
          "TUR",
          "TKM",
          "UGA",
          "UKR",
          "GBR",
          "URY",
          "UZB",
          "VNM",
          "ZMB",
          "ZWE"
         ],
         "name": "",
         "type": "choropleth",
         "z": {
          "bdata": "nypcBHZwzj94AkzZVy/FP8kFbsO8htk/IH3mzhzl6T+NhpMcTnTXP/xNuBF/HOU/8bbsBJ0soj/CErRuKCG/P+kvv+t45eI/O99PjZdu6j+I9NvXgXPoP0cuLNghFIw/mAboth7apz9sKMVn9omjP33EYJTMVpY/YvNxbaiY6z/8//9fsj3iP1vTd5lt3tY/VlAywQUo5z/yVCDae2ecP8EPrS5sraU/pZ9pjZ0Whj8Hrkfho6SuPx5ghwn+6s4/i+Kwj6mW2j+5igsgcfHFP8llfHTK1OQ/yOydRcNQ6z88RItDJcbFP5/Dd9hxw7U/GF51kxhUlz/oXlvFWULKP0AD+vLvxLU/NbdCWI0lyD+C0pufXVvfP1eTp6ym6+g/QaZTbyEz2D/RItv5fmrUP3S3cMFOdeA/oe87O4Wd5z8vvzNpWyyPP7GWwe9ST9Q/JETur2QYuz9uBjrSAlDmP6c7SIU7h6s/KFkmk1SvnT8V1WwvsxnaPxVvGO2Rgdc/jRdAtOUg6j+X61G4bZjGP+YDBpNvMbE/NtlitAkJ3j/RUW+lMAyjP8fp82rj/J8/aHdIMUCioT+S2YIH+123Py9vTbxyn9M/bqnedZGd0D/RItv5fmrsPwafTY2lZt4/smjHk6dw3D8baxhLYPerP0nhjFq0Ne4/tJ5QxholwT+CESSEgcbAP/T///+3ock/upv2vn49bz/l0CLb+X7mP/Gty2jtr6A/6o3fBhkj4D/dI9NitszOP3vEp3OS3+Y/2a1VxsB87T9oksgpUGTNPykQFF0NBO0/T0azF44B3D/m8zgM76/YP+pmdusnL9c/7e1e8k1n3T9DWfj6WpdqP2Q730+Nl+Y/LbKd76fG7z9r7MVrBS/kP1K4HoXrUcg/16NwPQrX4z8QCKObO8itP/tsVafkmtA/",
          "dtype": "f8"
         }
        }
       ],
       "layout": {
        "coloraxis": {
         "colorbar": {
          "title": {
           "text": "Total"
          }
         },
         "colorscale": [
          [
           0,
           "rgb(247,251,255)"
          ],
          [
           0.125,
           "rgb(222,235,247)"
          ],
          [
           0.25,
           "rgb(198,219,239)"
          ],
          [
           0.375,
           "rgb(158,202,225)"
          ],
          [
           0.5,
           "rgb(107,174,214)"
          ],
          [
           0.625,
           "rgb(66,146,198)"
          ],
          [
           0.75,
           "rgb(33,113,181)"
          ],
          [
           0.875,
           "rgb(8,81,156)"
          ],
          [
           1,
           "rgb(8,48,107)"
          ]
         ]
        },
        "geo": {
         "center": {},
         "domain": {
          "x": [
           0,
           1
          ],
          "y": [
           0,
           1
          ]
         }
        },
        "height": 800,
        "legend": {
         "tracegroupgap": 0
        },
        "template": {
         "data": {
          "bar": [
           {
            "error_x": {
             "color": "#2a3f5f"
            },
            "error_y": {
             "color": "#2a3f5f"
            },
            "marker": {
             "line": {
              "color": "#E5ECF6",
              "width": 0.5
             },
             "pattern": {
              "fillmode": "overlay",
              "size": 10,
              "solidity": 0.2
             }
            },
            "type": "bar"
           }
          ],
          "barpolar": [
           {
            "marker": {
             "line": {
              "color": "#E5ECF6",
              "width": 0.5
             },
             "pattern": {
              "fillmode": "overlay",
              "size": 10,
              "solidity": 0.2
             }
            },
            "type": "barpolar"
           }
          ],
          "carpet": [
           {
            "aaxis": {
             "endlinecolor": "#2a3f5f",
             "gridcolor": "white",
             "linecolor": "white",
             "minorgridcolor": "white",
             "startlinecolor": "#2a3f5f"
            },
            "baxis": {
             "endlinecolor": "#2a3f5f",
             "gridcolor": "white",
             "linecolor": "white",
             "minorgridcolor": "white",
             "startlinecolor": "#2a3f5f"
            },
            "type": "carpet"
           }
          ],
          "choropleth": [
           {
            "colorbar": {
             "outlinewidth": 0,
             "ticks": ""
            },
            "type": "choropleth"
           }
          ],
          "contour": [
           {
            "colorbar": {
             "outlinewidth": 0,
             "ticks": ""
            },
            "colorscale": [
             [
              0,
              "#0d0887"
             ],
             [
              0.1111111111111111,
              "#46039f"
             ],
             [
              0.2222222222222222,
              "#7201a8"
             ],
             [
              0.3333333333333333,
              "#9c179e"
             ],
             [
              0.4444444444444444,
              "#bd3786"
             ],
             [
              0.5555555555555556,
              "#d8576b"
             ],
             [
              0.6666666666666666,
              "#ed7953"
             ],
             [
              0.7777777777777778,
              "#fb9f3a"
             ],
             [
              0.8888888888888888,
              "#fdca26"
             ],
             [
              1,
              "#f0f921"
             ]
            ],
            "type": "contour"
           }
          ],
          "contourcarpet": [
           {
            "colorbar": {
             "outlinewidth": 0,
             "ticks": ""
            },
            "type": "contourcarpet"
           }
          ],
          "heatmap": [
           {
            "colorbar": {
             "outlinewidth": 0,
             "ticks": ""
            },
            "colorscale": [
             [
              0,
              "#0d0887"
             ],
             [
              0.1111111111111111,
              "#46039f"
             ],
             [
              0.2222222222222222,
              "#7201a8"
             ],
             [
              0.3333333333333333,
              "#9c179e"
             ],
             [
              0.4444444444444444,
              "#bd3786"
             ],
             [
              0.5555555555555556,
              "#d8576b"
             ],
             [
              0.6666666666666666,
              "#ed7953"
             ],
             [
              0.7777777777777778,
              "#fb9f3a"
             ],
             [
              0.8888888888888888,
              "#fdca26"
             ],
             [
              1,
              "#f0f921"
             ]
            ],
            "type": "heatmap"
           }
          ],
          "histogram": [
           {
            "marker": {
             "pattern": {
              "fillmode": "overlay",
              "size": 10,
              "solidity": 0.2
             }
            },
            "type": "histogram"
           }
          ],
          "histogram2d": [
           {
            "colorbar": {
             "outlinewidth": 0,
             "ticks": ""
            },
            "colorscale": [
             [
              0,
              "#0d0887"
             ],
             [
              0.1111111111111111,
              "#46039f"
             ],
             [
              0.2222222222222222,
              "#7201a8"
             ],
             [
              0.3333333333333333,
              "#9c179e"
             ],
             [
              0.4444444444444444,
              "#bd3786"
             ],
             [
              0.5555555555555556,
              "#d8576b"
             ],
             [
              0.6666666666666666,
              "#ed7953"
             ],
             [
              0.7777777777777778,
              "#fb9f3a"
             ],
             [
              0.8888888888888888,
              "#fdca26"
             ],
             [
              1,
              "#f0f921"
             ]
            ],
            "type": "histogram2d"
           }
          ],
          "histogram2dcontour": [
           {
            "colorbar": {
             "outlinewidth": 0,
             "ticks": ""
            },
            "colorscale": [
             [
              0,
              "#0d0887"
             ],
             [
              0.1111111111111111,
              "#46039f"
             ],
             [
              0.2222222222222222,
              "#7201a8"
             ],
             [
              0.3333333333333333,
              "#9c179e"
             ],
             [
              0.4444444444444444,
              "#bd3786"
             ],
             [
              0.5555555555555556,
              "#d8576b"
             ],
             [
              0.6666666666666666,
              "#ed7953"
             ],
             [
              0.7777777777777778,
              "#fb9f3a"
             ],
             [
              0.8888888888888888,
              "#fdca26"
             ],
             [
              1,
              "#f0f921"
             ]
            ],
            "type": "histogram2dcontour"
           }
          ],
          "mesh3d": [
           {
            "colorbar": {
             "outlinewidth": 0,
             "ticks": ""
            },
            "type": "mesh3d"
           }
          ],
          "parcoords": [
           {
            "line": {
             "colorbar": {
              "outlinewidth": 0,
              "ticks": ""
             }
            },
            "type": "parcoords"
           }
          ],
          "pie": [
           {
            "automargin": true,
            "type": "pie"
           }
          ],
          "scatter": [
           {
            "fillpattern": {
             "fillmode": "overlay",
             "size": 10,
             "solidity": 0.2
            },
            "type": "scatter"
           }
          ],
          "scatter3d": [
           {
            "line": {
             "colorbar": {
              "outlinewidth": 0,
              "ticks": ""
             }
            },
            "marker": {
             "colorbar": {
              "outlinewidth": 0,
              "ticks": ""
             }
            },
            "type": "scatter3d"
           }
          ],
          "scattercarpet": [
           {
            "marker": {
             "colorbar": {
              "outlinewidth": 0,
              "ticks": ""
             }
            },
            "type": "scattercarpet"
           }
          ],
          "scattergeo": [
           {
            "marker": {
             "colorbar": {
              "outlinewidth": 0,
              "ticks": ""
             }
            },
            "type": "scattergeo"
           }
          ],
          "scattergl": [
           {
            "marker": {
             "colorbar": {
              "outlinewidth": 0,
              "ticks": ""
             }
            },
            "type": "scattergl"
           }
          ],
          "scattermap": [
           {
            "marker": {
             "colorbar": {
              "outlinewidth": 0,
              "ticks": ""
             }
            },
            "type": "scattermap"
           }
          ],
          "scattermapbox": [
           {
            "marker": {
             "colorbar": {
              "outlinewidth": 0,
              "ticks": ""
             }
            },
            "type": "scattermapbox"
           }
          ],
          "scatterpolar": [
           {
            "marker": {
             "colorbar": {
              "outlinewidth": 0,
              "ticks": ""
             }
            },
            "type": "scatterpolar"
           }
          ],
          "scatterpolargl": [
           {
            "marker": {
             "colorbar": {
              "outlinewidth": 0,
              "ticks": ""
             }
            },
            "type": "scatterpolargl"
           }
          ],
          "scatterternary": [
           {
            "marker": {
             "colorbar": {
              "outlinewidth": 0,
              "ticks": ""
             }
            },
            "type": "scatterternary"
           }
          ],
          "surface": [
           {
            "colorbar": {
             "outlinewidth": 0,
             "ticks": ""
            },
            "colorscale": [
             [
              0,
              "#0d0887"
             ],
             [
              0.1111111111111111,
              "#46039f"
             ],
             [
              0.2222222222222222,
              "#7201a8"
             ],
             [
              0.3333333333333333,
              "#9c179e"
             ],
             [
              0.4444444444444444,
              "#bd3786"
             ],
             [
              0.5555555555555556,
              "#d8576b"
             ],
             [
              0.6666666666666666,
              "#ed7953"
             ],
             [
              0.7777777777777778,
              "#fb9f3a"
             ],
             [
              0.8888888888888888,
              "#fdca26"
             ],
             [
              1,
              "#f0f921"
             ]
            ],
            "type": "surface"
           }
          ],
          "table": [
           {
            "cells": {
             "fill": {
              "color": "#EBF0F8"
             },
             "line": {
              "color": "white"
             }
            },
            "header": {
             "fill": {
              "color": "#C8D4E3"
             },
             "line": {
              "color": "white"
             }
            },
            "type": "table"
           }
          ]
         },
         "layout": {
          "annotationdefaults": {
           "arrowcolor": "#2a3f5f",
           "arrowhead": 0,
           "arrowwidth": 1
          },
          "autotypenumbers": "strict",
          "coloraxis": {
           "colorbar": {
            "outlinewidth": 0,
            "ticks": ""
           }
          },
          "colorscale": {
           "diverging": [
            [
             0,
             "#8e0152"
            ],
            [
             0.1,
             "#c51b7d"
            ],
            [
             0.2,
             "#de77ae"
            ],
            [
             0.3,
             "#f1b6da"
            ],
            [
             0.4,
             "#fde0ef"
            ],
            [
             0.5,
             "#f7f7f7"
            ],
            [
             0.6,
             "#e6f5d0"
            ],
            [
             0.7,
             "#b8e186"
            ],
            [
             0.8,
             "#7fbc41"
            ],
            [
             0.9,
             "#4d9221"
            ],
            [
             1,
             "#276419"
            ]
           ],
           "sequential": [
            [
             0,
             "#0d0887"
            ],
            [
             0.1111111111111111,
             "#46039f"
            ],
            [
             0.2222222222222222,
             "#7201a8"
            ],
            [
             0.3333333333333333,
             "#9c179e"
            ],
            [
             0.4444444444444444,
             "#bd3786"
            ],
            [
             0.5555555555555556,
             "#d8576b"
            ],
            [
             0.6666666666666666,
             "#ed7953"
            ],
            [
             0.7777777777777778,
             "#fb9f3a"
            ],
            [
             0.8888888888888888,
             "#fdca26"
            ],
            [
             1,
             "#f0f921"
            ]
           ],
           "sequentialminus": [
            [
             0,
             "#0d0887"
            ],
            [
             0.1111111111111111,
             "#46039f"
            ],
            [
             0.2222222222222222,
             "#7201a8"
            ],
            [
             0.3333333333333333,
             "#9c179e"
            ],
            [
             0.4444444444444444,
             "#bd3786"
            ],
            [
             0.5555555555555556,
             "#d8576b"
            ],
            [
             0.6666666666666666,
             "#ed7953"
            ],
            [
             0.7777777777777778,
             "#fb9f3a"
            ],
            [
             0.8888888888888888,
             "#fdca26"
            ],
            [
             1,
             "#f0f921"
            ]
           ]
          },
          "colorway": [
           "#636efa",
           "#EF553B",
           "#00cc96",
           "#ab63fa",
           "#FFA15A",
           "#19d3f3",
           "#FF6692",
           "#B6E880",
           "#FF97FF",
           "#FECB52"
          ],
          "font": {
           "color": "#2a3f5f"
          },
          "geo": {
           "bgcolor": "white",
           "lakecolor": "white",
           "landcolor": "#E5ECF6",
           "showlakes": true,
           "showland": true,
           "subunitcolor": "white"
          },
          "hoverlabel": {
           "align": "left"
          },
          "hovermode": "closest",
          "mapbox": {
           "style": "light"
          },
          "paper_bgcolor": "white",
          "plot_bgcolor": "#E5ECF6",
          "polar": {
           "angularaxis": {
            "gridcolor": "white",
            "linecolor": "white",
            "ticks": ""
           },
           "bgcolor": "#E5ECF6",
           "radialaxis": {
            "gridcolor": "white",
            "linecolor": "white",
            "ticks": ""
           }
          },
          "scene": {
           "xaxis": {
            "backgroundcolor": "#E5ECF6",
            "gridcolor": "white",
            "gridwidth": 2,
            "linecolor": "white",
            "showbackground": true,
            "ticks": "",
            "zerolinecolor": "white"
           },
           "yaxis": {
            "backgroundcolor": "#E5ECF6",
            "gridcolor": "white",
            "gridwidth": 2,
            "linecolor": "white",
            "showbackground": true,
            "ticks": "",
            "zerolinecolor": "white"
           },
           "zaxis": {
            "backgroundcolor": "#E5ECF6",
            "gridcolor": "white",
            "gridwidth": 2,
            "linecolor": "white",
            "showbackground": true,
            "ticks": "",
            "zerolinecolor": "white"
           }
          },
          "shapedefaults": {
           "line": {
            "color": "#2a3f5f"
           }
          },
          "ternary": {
           "aaxis": {
            "gridcolor": "white",
            "linecolor": "white",
            "ticks": ""
           },
           "baxis": {
            "gridcolor": "white",
            "linecolor": "white",
            "ticks": ""
           },
           "bgcolor": "#E5ECF6",
           "caxis": {
            "gridcolor": "white",
            "linecolor": "white",
            "ticks": ""
           }
          },
          "title": {
           "x": 0.05
          },
          "xaxis": {
           "automargin": true,
           "gridcolor": "white",
           "linecolor": "white",
           "ticks": "",
           "title": {
            "standoff": 15
           },
           "zerolinecolor": "white",
           "zerolinewidth": 2
          },
          "yaxis": {
           "automargin": true,
           "gridcolor": "white",
           "linecolor": "white",
           "ticks": "",
           "title": {
            "standoff": 15
           },
           "zerolinecolor": "white",
           "zerolinewidth": 2
          }
         }
        },
        "title": {
         "text": "Global School-Age Digital Connectivity (Total)"
        }
       }
      }
     },
     "metadata": {},
     "output_type": "display_data"
    }
   ],
   "source": [
    "\n",
    "fig = px.choropleth(df, locations=\"ISO3\", color=\"Total\",\n",
    "                    hover_name=\"Countries and areas\",\n",
    "                    color_continuous_scale=\"Blues\", height=800,\n",
    "                    title=\"Global School-Age Digital Connectivity (Total)\")\n",
    "fig.show()\n"
   ]
  },
  {
   "cell_type": "markdown",
   "id": "d564a2c1",
   "metadata": {},
   "source": [
    "\n",
    "# Comprehensive Dashboard — 8 Visuals Combined  \n",
    "\n",
    "Here we integrate multiple charts into a **single dashboard layout**.  \n",
    "\n",
    "**Why a dashboard?**  \n",
    "- Combines multiple perspectives in one view.  \n",
    "- Supports storytelling: from regional patterns → income disparities → global map.  \n",
    "\n",
    "**Included visuals:**  \n",
    "1. Bar Chart (Median Total by Region)  \n",
    "2. Scatter Plot (Urban vs Rural)  \n",
    "3. Pie/Donut (Income Groups)  \n",
    "4. Histogram (Total)  \n",
    "5. Box Plot (Income Group)  \n",
    "6. Heatmap (Correlations)  \n",
    "7. Bubble Plot (Urban vs Rural, size=Total)  \n",
    "8. Choropleth Map (Geography)  \n"
   ]
  },
  {
   "cell_type": "code",
   "execution_count": 19,
   "id": "61dae886",
   "metadata": {},
   "outputs": [
    {
     "data": {
      "application/vnd.plotly.v1+json": {
       "config": {
        "plotlyServerURL": "https://plot.ly"
       },
       "data": [
        {
         "type": "bar",
         "x": [
          "ECA",
          "EAP",
          "SA",
          "LAC",
          "MENA",
          "SSA"
         ],
         "xaxis": "x",
         "y": {
          "bdata": "iPTb14Fz6D/8//9fsj3iP+Ive+irvto/b21t+TfQ2T/I3cA4rrXTPxtrGEtg96s/",
          "dtype": "f8"
         },
         "yaxis": "y"
        },
        {
         "marker": {
          "opacity": 0.6,
          "size": 6
         },
         "mode": "markers",
         "text": [
          "Algeria",
          "Angola",
          "Argentina",
          "Armenia",
          "Bangladesh",
          "Barbados",
          "Benin",
          "Bolivia (Plurinational State of)",
          "Bosnia and Herzegovina",
          "Brazil",
          "Bulgaria",
          "Burkina Faso",
          "Cameroon",
          "Central African Republic",
          "Chad",
          "Chile",
          "China",
          "Colombia",
          "Costa Rica",
          "Côte d&apos;Ivoire",
          "Cuba",
          "Democratic Republic of the Congo",
          "Djibouti",
          "Dominican Republic",
          "Ecuador",
          "Egypt",
          "Gambia",
          "Georgia",
          "Ghana",
          "Guatemala",
          "Guinea-Bissau",
          "Haiti",
          "India",
          "Indonesia",
          "Iraq",
          "Japan",
          "Jordan",
          "Kenya",
          "Kiribati",
          "Kyrgyzstan",
          "Lao People&apos;s Democratic Republic",
          "Lesotho",
          "Madagascar",
          "Maldives",
          "Mali",
          "Mauritania",
          "Mexico",
          "Mongolia",
          "Montenegro",
          "Morocco",
          "Namibia",
          "Nepal",
          "Nicaragua",
          "Niger",
          "Nigeria",
          "Pakistan",
          "Panama",
          "Peru",
          "Russian Federation",
          "Saint Lucia",
          "Sao Tome and Principe",
          "Senegal",
          "Serbia",
          "Sierra Leone",
          "Somalia",
          "South Africa",
          "South Sudan",
          "Sri Lanka",
          "Sudan",
          "Suriname",
          "Tajikistan",
          "Thailand",
          "North Macedonia",
          "Togo",
          "Tonga",
          "Trinidad and Tobago",
          "Tunisia",
          "Turkey",
          "Turkmenistan",
          "Uganda",
          "Ukraine",
          "United Kingdom",
          "Uruguay",
          "Uzbekistan",
          "Viet Nam",
          "Zambia",
          "Zimbabwe"
         ],
         "type": "scatter",
         "x": {
          "bdata": "H0HnCv9Ytz80WC/+0xGSPwAAAAAAAPh/yhgjNtOy5j+TX6w9jvrUP4Sh/gphmOM/6g4MeGAujj9oBhKQBiKjP4YpOeVjceA/KVyPwvUo4D824XoU3/nkP65cehQxrIA/INFGFt9/Zj/eMVsTlk58PyKCIShVv38/SUc5mE2A5j8IAABgNf7fP5ppuGrEFKk/Q9cbbXVy4z+k8ZNdF+12P7NT9nB824s/nI36g63icD+UMzMzt5aJP6HWbJlSELo/nCRMB6FyyT+2w9x/tqa3P0+DfaS1Pd4/7g30osYT5z9bVvpclri6P7oYkYZ3mZs/3tw9RVDljz/DAJDSo8e8P0+uGKv8zqk/5zki36XUuT+wXdaeoYzWP+XS+IVXkuo/sxA4lwGL1j8AAAAAAAD4fwEZvK+889Q/KeHfvYQr5j9fvRXKPdZ/PybOWmM2G8w/AXVcK1hprz9v9776JO7lP8l2w5se858/REjG2KV9eD/L/LwMc0C8P8PEI1gA38A/wkyORe2H5z9LR+F6BV6+P4OQv8eugYQ/Xm1N6nZ51D8AAAAAAAD4fwAAAAAAAPh/AAAAAAAA+H+qU40a/dejP3b2yx0cark/E+74o2YXjT9zaJHtfD/pP1VPTCpG+N4/T4efSs+L1z+d9aV2G9eWPxSN2BiONO0/SbQh3XV0oz8AAAAAAAD4fwAAAAAAAPh/dFjAnZrbXz/FILByaJHlP6n0S2NVvYM/Nf9SjEGp1z/Lto9oVfnIP3d94dC0kuU/j8h/gArh7D8H3YNLNq+yPyyNOhemuew/HSHe2MXu1T9nEFXAeo3LP32mhvdsB8I//LpBpau41z/eADPfwU8cPwAAAAAAAPh/AAAAAAAA+H8sEzo8SGXeP9ejcD0K18M/AAAAAAAA+H9SlakF6F6SP7sD2UvKhsY/",
          "dtype": "f8"
         },
         "xaxis": "x2",
         "y": {
          "bdata": "M0Cn0byb1D/SwXmkuyjPPwAAAAAAAPh/HMltVYVG7D8t4k/YeobgPyjfXNPd8uU/XY9oOLhhsT/tPWTjJEHFP/X18x+jO+g/ppvEILBy7D/BR+F658XpP5aessUfTaI/hnG9kEH8uD8Jdt1CKx64Px4dRIa0rLU/4PWZsz5l7D/+//+/Qx3tP4FEPy8cht4/wizco2IH6T/yOBwv4OOrP47KFH4h1K4/AhrY+14rlD+iR+F6Ee26P47fUx2CndI/V0hUAyjh4D/emwJA5d3SPxhockDw7+c/iRX0/Zvp7T+xN/uXWnXQP05+afHX0cY/e28F6fjGoj/2l4EDmS7XP+ZHB10nZsU/O8Q/bOnR0D/WdC2wRcvhPzhKXp1jwOg/u9qCe2Bo2D+8dJMYBFbOP667AoWeIuY/yJM4gGO16j9tKrCu37WiP2g3gpZuuuA/+QpLmUyA0T8kyN9xkP/mP/jWV4u8usE/vq3C55tfrj8XwsXl037gP5Ty+v0kat8/at/KI69v6z8FhetRlabNP7mrF6/8vsM/xZhzjwOZ4T8AAAAAAAD4fwAAAAAAAPh/AAAAAAAA+H9SLj4Ck+fIPwrOSeX2ctw/dwHlpVH31T+TGARWDi3uP4RQNMxpEtw/JyXGq/bd3j+xnBTWzPu5P4y/zxzq4e4/rggYJCxH0D8AAAAAAAD4fwAAAAAAAPh/zBeuL1Tsgz8v3SQGgZXrP4LQ4RgJ57Y/+1uszZYk4j/gfXr5QnXYP0hQb3Af3eg/gr1duD3j7T+d9ArX+2LfP3qTN3gTFO4/2zvQekeD4D+lJ4xkC/zdP84QEi3WkNs//NOE0i6h4j84MLlRZK2RP2Q730+Nl+Y/AAAAAAAA+H9U92loR7fkP+Olm8QgsNI/16NwPQrX4z9KuPBiJmHAP0G6+B74at8/",
          "dtype": "f8"
         },
         "yaxis": "y2"
        },
        {
         "domain": {
          "x": [
           0.7333333333333334,
           1
          ],
          "y": [
           0.7466666666666667,
           1
          ]
         },
         "hole": 0.4,
         "labels": [
          "Upper middle income (UM)",
          "Lower middle income (LM)",
          "Low income (L)",
          "High income (H)"
         ],
         "type": "pie",
         "values": {
          "bdata": "IB4SBw==",
          "dtype": "i1"
         }
        },
        {
         "nbinsx": 20,
         "type": "histogram",
         "x": {
          "bdata": "nypcBHZwzj94AkzZVy/FP8kFbsO8htk/IH3mzhzl6T+NhpMcTnTXP/xNuBF/HOU/8bbsBJ0soj/CErRuKCG/P+kvv+t45eI/O99PjZdu6j+I9NvXgXPoP0cuLNghFIw/mAboth7apz9sKMVn9omjP33EYJTMVpY/YvNxbaiY6z/8//9fsj3iP1vTd5lt3tY/VlAywQUo5z/yVCDae2ecP8EPrS5sraU/pZ9pjZ0Whj8Hrkfho6SuPx5ghwn+6s4/i+Kwj6mW2j+5igsgcfHFP8llfHTK1OQ/yOydRcNQ6z88RItDJcbFP5/Dd9hxw7U/GF51kxhUlz/oXlvFWULKP0AD+vLvxLU/NbdCWI0lyD+C0pufXVvfP1eTp6ym6+g/QaZTbyEz2D/RItv5fmrUP3S3cMFOdeA/oe87O4Wd5z8vvzNpWyyPP7GWwe9ST9Q/JETur2QYuz9uBjrSAlDmP6c7SIU7h6s/KFkmk1SvnT8V1WwvsxnaPxVvGO2Rgdc/jRdAtOUg6j+X61G4bZjGP+YDBpNvMbE/NtlitAkJ3j/RUW+lMAyjP8fp82rj/J8/aHdIMUCioT+S2YIH+123Py9vTbxyn9M/bqnedZGd0D/RItv5fmrsPwafTY2lZt4/smjHk6dw3D8baxhLYPerP0nhjFq0Ne4/tJ5QxholwT+CESSEgcbAP/T///+3ock/upv2vn49bz/l0CLb+X7mP/Gty2jtr6A/6o3fBhkj4D/dI9NitszOP3vEp3OS3+Y/2a1VxsB87T9oksgpUGTNPykQFF0NBO0/T0azF44B3D/m8zgM76/YP+pmdusnL9c/7e1e8k1n3T9DWfj6WpdqP2Q730+Nl+Y/LbKd76fG7z9r7MVrBS/kP1K4HoXrUcg/16NwPQrX4z8QCKObO8itP/tsVafkmtA/",
          "dtype": "f8"
         },
         "xaxis": "x3",
         "yaxis": "y3"
        },
        {
         "type": "box",
         "x": [
          "Upper middle income (UM)",
          "Lower middle income (LM)",
          "Upper middle income (UM)",
          "Upper middle income (UM)",
          "Lower middle income (LM)",
          "High income (H)",
          "Low income (L)",
          "Lower middle income (LM)",
          "Upper middle income (UM)",
          "Upper middle income (UM)",
          "Upper middle income (UM)",
          "Low income (L)",
          "Lower middle income (LM)",
          "Low income (L)",
          "Low income (L)",
          "High income (H)",
          "Upper middle income (UM)",
          "Upper middle income (UM)",
          "Upper middle income (UM)",
          "Lower middle income (LM)",
          "Upper middle income (UM)",
          "Low income (L)",
          "Lower middle income (LM)",
          "Upper middle income (UM)",
          "Upper middle income (UM)",
          "Lower middle income (LM)",
          "Low income (L)",
          "Upper middle income (UM)",
          "Lower middle income (LM)",
          "Upper middle income (UM)",
          "Low income (L)",
          "Low income (L)",
          "Lower middle income (LM)",
          "Lower middle income (LM)",
          "Upper middle income (UM)",
          "High income (H)",
          "Upper middle income (UM)",
          "Lower middle income (LM)",
          "Lower middle income (LM)",
          "Lower middle income (LM)",
          "Lower middle income (LM)",
          "Lower middle income (LM)",
          "Low income (L)",
          "Upper middle income (UM)",
          "Low income (L)",
          "Lower middle income (LM)",
          "Upper middle income (UM)",
          "Lower middle income (LM)",
          "Upper middle income (UM)",
          "Lower middle income (LM)",
          "Upper middle income (UM)",
          "Low income (L)",
          "Lower middle income (LM)",
          "Low income (L)",
          "Lower middle income (LM)",
          "Lower middle income (LM)",
          "High income (H)",
          "Upper middle income (UM)",
          "Upper middle income (UM)",
          "Upper middle income (UM)",
          "Lower middle income (LM)",
          "Lower middle income (LM)",
          "Upper middle income (UM)",
          "Low income (L)",
          "Low income (L)",
          "Upper middle income (UM)",
          "Low income (L)",
          "Upper middle income (UM)",
          "Lower middle income (LM)",
          "Upper middle income (UM)",
          "Low income (L)",
          "Upper middle income (UM)",
          "Upper middle income (UM)",
          "Low income (L)",
          "Upper middle income (UM)",
          "High income (H)",
          "Lower middle income (LM)",
          "Upper middle income (UM)",
          "Upper middle income (UM)",
          "Low income (L)",
          "Lower middle income (LM)",
          "High income (H)",
          "High income (H)",
          "Lower middle income (LM)",
          "Lower middle income (LM)",
          "Lower middle income (LM)",
          "Lower middle income (LM)"
         ],
         "xaxis": "x4",
         "y": {
          "bdata": "nypcBHZwzj94AkzZVy/FP8kFbsO8htk/IH3mzhzl6T+NhpMcTnTXP/xNuBF/HOU/8bbsBJ0soj/CErRuKCG/P+kvv+t45eI/O99PjZdu6j+I9NvXgXPoP0cuLNghFIw/mAboth7apz9sKMVn9omjP33EYJTMVpY/YvNxbaiY6z/8//9fsj3iP1vTd5lt3tY/VlAywQUo5z/yVCDae2ecP8EPrS5sraU/pZ9pjZ0Whj8Hrkfho6SuPx5ghwn+6s4/i+Kwj6mW2j+5igsgcfHFP8llfHTK1OQ/yOydRcNQ6z88RItDJcbFP5/Dd9hxw7U/GF51kxhUlz/oXlvFWULKP0AD+vLvxLU/NbdCWI0lyD+C0pufXVvfP1eTp6ym6+g/QaZTbyEz2D/RItv5fmrUP3S3cMFOdeA/oe87O4Wd5z8vvzNpWyyPP7GWwe9ST9Q/JETur2QYuz9uBjrSAlDmP6c7SIU7h6s/KFkmk1SvnT8V1WwvsxnaPxVvGO2Rgdc/jRdAtOUg6j+X61G4bZjGP+YDBpNvMbE/NtlitAkJ3j/RUW+lMAyjP8fp82rj/J8/aHdIMUCioT+S2YIH+123Py9vTbxyn9M/bqnedZGd0D/RItv5fmrsPwafTY2lZt4/smjHk6dw3D8baxhLYPerP0nhjFq0Ne4/tJ5QxholwT+CESSEgcbAP/T///+3ock/upv2vn49bz/l0CLb+X7mP/Gty2jtr6A/6o3fBhkj4D/dI9NitszOP3vEp3OS3+Y/2a1VxsB87T9oksgpUGTNPykQFF0NBO0/T0azF44B3D/m8zgM76/YP+pmdusnL9c/7e1e8k1n3T9DWfj6WpdqP2Q730+Nl+Y/LbKd76fG7z9r7MVrBS/kP1K4HoXrUcg/16NwPQrX4z8QCKObO8itP/tsVafkmtA/",
          "dtype": "f8"
         },
         "yaxis": "y4"
        },
        {
         "colorscale": [
          [
           0,
           "rgb(103,0,31)"
          ],
          [
           0.1,
           "rgb(178,24,43)"
          ],
          [
           0.2,
           "rgb(214,96,77)"
          ],
          [
           0.3,
           "rgb(244,165,130)"
          ],
          [
           0.4,
           "rgb(253,219,199)"
          ],
          [
           0.5,
           "rgb(247,247,247)"
          ],
          [
           0.6,
           "rgb(209,229,240)"
          ],
          [
           0.7,
           "rgb(146,197,222)"
          ],
          [
           0.8,
           "rgb(67,147,195)"
          ],
          [
           0.9,
           "rgb(33,102,172)"
          ],
          [
           1,
           "rgb(5,48,97)"
          ]
         ],
         "type": "heatmap",
         "x": [
          "Total",
          "Rural",
          "Urban",
          "Poorest",
          "Richest"
         ],
         "xaxis": "x5",
         "y": [
          "Total",
          "Rural",
          "Urban",
          "Poorest",
          "Richest"
         ],
         "yaxis": "y5",
         "z": {
          "bdata": "AAAAAAAA8D9EfQPlw9buPzphmfssNe8/MdIQOvw97D/jipqipP7rP0R9A+XD1u4/AAAAAAAA8D9sy+x5dIztPxhyBN1Ev+w/tb/bsXLJ6D86YZn7LDXvP2zL7Hl0jO0/AAAAAAAA8D/PCO6NrsrqP1R6G8c+J+0/MdIQOvw97D8YcgTdRL/sP88I7o2uyuo/AAAAAAAA8D92yT07CtHjP+OKmqKk/us/tb/bsXLJ6D9UehvHPiftP3bJPTsK0eM/AAAAAAAA8D8=",
          "dtype": "f8",
          "shape": "5, 5"
         },
         "zmid": 0
        },
        {
         "marker": {
          "color": {
           "bdata": "nypcBHZwzj94AkzZVy/FP8kFbsO8htk/IH3mzhzl6T+NhpMcTnTXP/xNuBF/HOU/8bbsBJ0soj/CErRuKCG/P+kvv+t45eI/O99PjZdu6j+I9NvXgXPoP0cuLNghFIw/mAboth7apz9sKMVn9omjP33EYJTMVpY/YvNxbaiY6z/8//9fsj3iP1vTd5lt3tY/VlAywQUo5z/yVCDae2ecP8EPrS5sraU/pZ9pjZ0Whj8Hrkfho6SuPx5ghwn+6s4/i+Kwj6mW2j+5igsgcfHFP8llfHTK1OQ/yOydRcNQ6z88RItDJcbFP5/Dd9hxw7U/GF51kxhUlz/oXlvFWULKP0AD+vLvxLU/NbdCWI0lyD+C0pufXVvfP1eTp6ym6+g/QaZTbyEz2D/RItv5fmrUP3S3cMFOdeA/oe87O4Wd5z8vvzNpWyyPP7GWwe9ST9Q/JETur2QYuz9uBjrSAlDmP6c7SIU7h6s/KFkmk1SvnT8V1WwvsxnaPxVvGO2Rgdc/jRdAtOUg6j+X61G4bZjGP+YDBpNvMbE/NtlitAkJ3j/RUW+lMAyjP8fp82rj/J8/aHdIMUCioT+S2YIH+123Py9vTbxyn9M/bqnedZGd0D/RItv5fmrsPwafTY2lZt4/smjHk6dw3D8baxhLYPerP0nhjFq0Ne4/tJ5QxholwT+CESSEgcbAP/T///+3ock/upv2vn49bz/l0CLb+X7mP/Gty2jtr6A/6o3fBhkj4D/dI9NitszOP3vEp3OS3+Y/2a1VxsB87T9oksgpUGTNPykQFF0NBO0/T0azF44B3D/m8zgM76/YP+pmdusnL9c/7e1e8k1n3T9DWfj6WpdqP2Q730+Nl+Y/LbKd76fG7z9r7MVrBS/kP1K4HoXrUcg/16NwPQrX4z8QCKObO8itP/tsVafkmtA/",
           "dtype": "f8"
          },
          "colorscale": [
           [
            0,
            "#440154"
           ],
           [
            0.1111111111111111,
            "#482878"
           ],
           [
            0.2222222222222222,
            "#3e4989"
           ],
           [
            0.3333333333333333,
            "#31688e"
           ],
           [
            0.4444444444444444,
            "#26828e"
           ],
           [
            0.5555555555555556,
            "#1f9e89"
           ],
           [
            0.6666666666666666,
            "#35b779"
           ],
           [
            0.7777777777777778,
            "#6ece58"
           ],
           [
            0.8888888888888888,
            "#b5de2b"
           ],
           [
            1,
            "#fde725"
           ]
          ],
          "opacity": 0.6,
          "showscale": false,
          "size": {
           "bdata": "5u58A/hZqD9gaNatrPKgPzqe8TXKa7Q/gMoeP0q3xD8+BXawccOyP/3X+dqY48A/G4tHbi4UfT81QsOLU+eYP3UZZaz0O74/L0ymCkYlxT86XRYTm4/DP9LxvHmBdmY/RgUgX+UUgz/gczvZI0N/P/5pTRAK33E/6PUn8bkTxj/GzMzMgy+9PxapLOGKS7I/Eg31AGuGwj8od7PhL7l2P2fZ8L6JV4E/URnuPbGrYT+f8dJNtoOIP37mBW7+u6g/b+jzclRFtT9h1aIZ9I2hP6GEY5A7qsA/0yNL0TXaxT8w0NUCUWuhP7LPX+AnaZE/RkvEQq2pcj8gf69q4QGlPwBpLo9ZapE/Xl814D1Roz+b269/5BW5PxKpH4q478M/mh52vxpcsz/aG3xhMlWwPyC/Gs9KVbo/gYzJlWrkwj+MMvYgSfBoP/Temox1P7A/tmmLWR2tlT++nmHbm9nBP4b8bDfJBYY/uq0e3Ha/dz93qvAlXOG0P0S/RlcOzrI/pN/MKR7nxD/fItv5ihOiPz0GcB5Mgos/knq19joHuD/oghhv53l+Pznuj1Ucl3k/cyWnG802fD9C4ZuflbGSPxjle2CEZa8/SkJkibWVqj9BguLHmLvGPzh/pAoeUrg/KLrSD4bAtj/iiBM8gF+GP6Ea1672Ksg/uspNPZFumz+dtTmgNdeaP/b///9fgaQ/yK8r//79SD8ep+hILv/BP04WeXQVs3o/EOOYpMHRuT+xHNwbxaOoP5YDUyl1TMI/evGqngCXxz8gdaBUc4OnPyFAQxdxNsc/pp7C36Rntj/rjy1w8r+zP+7rke8fjLI/V74Y9deFtz9pR2Bi4kVFP1D8GHPXEsI/JCh+jLlryT/vidHvnSXAP9v5fmq8dKM/WDm0yHa+vz9A0+jiYtOHP16uiNhtkao/",
           "dtype": "f8"
          }
         },
         "mode": "markers",
         "text": [
          "Algeria",
          "Angola",
          "Argentina",
          "Armenia",
          "Bangladesh",
          "Barbados",
          "Benin",
          "Bolivia (Plurinational State of)",
          "Bosnia and Herzegovina",
          "Brazil",
          "Bulgaria",
          "Burkina Faso",
          "Cameroon",
          "Central African Republic",
          "Chad",
          "Chile",
          "China",
          "Colombia",
          "Costa Rica",
          "Côte d&apos;Ivoire",
          "Cuba",
          "Democratic Republic of the Congo",
          "Djibouti",
          "Dominican Republic",
          "Ecuador",
          "Egypt",
          "Gambia",
          "Georgia",
          "Ghana",
          "Guatemala",
          "Guinea-Bissau",
          "Haiti",
          "India",
          "Indonesia",
          "Iraq",
          "Japan",
          "Jordan",
          "Kenya",
          "Kiribati",
          "Kyrgyzstan",
          "Lao People&apos;s Democratic Republic",
          "Lesotho",
          "Madagascar",
          "Maldives",
          "Mali",
          "Mauritania",
          "Mexico",
          "Mongolia",
          "Montenegro",
          "Morocco",
          "Namibia",
          "Nepal",
          "Nicaragua",
          "Niger",
          "Nigeria",
          "Pakistan",
          "Panama",
          "Peru",
          "Russian Federation",
          "Saint Lucia",
          "Sao Tome and Principe",
          "Senegal",
          "Serbia",
          "Sierra Leone",
          "Somalia",
          "South Africa",
          "South Sudan",
          "Sri Lanka",
          "Sudan",
          "Suriname",
          "Tajikistan",
          "Thailand",
          "North Macedonia",
          "Togo",
          "Tonga",
          "Trinidad and Tobago",
          "Tunisia",
          "Turkey",
          "Turkmenistan",
          "Uganda",
          "Ukraine",
          "United Kingdom",
          "Uruguay",
          "Uzbekistan",
          "Viet Nam",
          "Zambia",
          "Zimbabwe"
         ],
         "type": "scatter",
         "x": {
          "bdata": "H0HnCv9Ytz80WC/+0xGSPwAAAAAAAPh/yhgjNtOy5j+TX6w9jvrUP4Sh/gphmOM/6g4MeGAujj9oBhKQBiKjP4YpOeVjceA/KVyPwvUo4D824XoU3/nkP65cehQxrIA/INFGFt9/Zj/eMVsTlk58PyKCIShVv38/SUc5mE2A5j8IAABgNf7fP5ppuGrEFKk/Q9cbbXVy4z+k8ZNdF+12P7NT9nB824s/nI36g63icD+UMzMzt5aJP6HWbJlSELo/nCRMB6FyyT+2w9x/tqa3P0+DfaS1Pd4/7g30osYT5z9bVvpclri6P7oYkYZ3mZs/3tw9RVDljz/DAJDSo8e8P0+uGKv8zqk/5zki36XUuT+wXdaeoYzWP+XS+IVXkuo/sxA4lwGL1j8AAAAAAAD4fwEZvK+889Q/KeHfvYQr5j9fvRXKPdZ/PybOWmM2G8w/AXVcK1hprz9v9776JO7lP8l2w5se858/REjG2KV9eD/L/LwMc0C8P8PEI1gA38A/wkyORe2H5z9LR+F6BV6+P4OQv8eugYQ/Xm1N6nZ51D8AAAAAAAD4fwAAAAAAAPh/AAAAAAAA+H+qU40a/dejP3b2yx0cark/E+74o2YXjT9zaJHtfD/pP1VPTCpG+N4/T4efSs+L1z+d9aV2G9eWPxSN2BiONO0/SbQh3XV0oz8AAAAAAAD4fwAAAAAAAPh/dFjAnZrbXz/FILByaJHlP6n0S2NVvYM/Nf9SjEGp1z/Lto9oVfnIP3d94dC0kuU/j8h/gArh7D8H3YNLNq+yPyyNOhemuew/HSHe2MXu1T9nEFXAeo3LP32mhvdsB8I//LpBpau41z/eADPfwU8cPwAAAAAAAPh/AAAAAAAA+H8sEzo8SGXeP9ejcD0K18M/AAAAAAAA+H9SlakF6F6SP7sD2UvKhsY/",
          "dtype": "f8"
         },
         "xaxis": "x6",
         "y": {
          "bdata": "M0Cn0byb1D/SwXmkuyjPPwAAAAAAAPh/HMltVYVG7D8t4k/YeobgPyjfXNPd8uU/XY9oOLhhsT/tPWTjJEHFP/X18x+jO+g/ppvEILBy7D/BR+F658XpP5aessUfTaI/hnG9kEH8uD8Jdt1CKx64Px4dRIa0rLU/4PWZsz5l7D/+//+/Qx3tP4FEPy8cht4/wizco2IH6T/yOBwv4OOrP47KFH4h1K4/AhrY+14rlD+iR+F6Ee26P47fUx2CndI/V0hUAyjh4D/emwJA5d3SPxhockDw7+c/iRX0/Zvp7T+xN/uXWnXQP05+afHX0cY/e28F6fjGoj/2l4EDmS7XP+ZHB10nZsU/O8Q/bOnR0D/WdC2wRcvhPzhKXp1jwOg/u9qCe2Bo2D+8dJMYBFbOP667AoWeIuY/yJM4gGO16j9tKrCu37WiP2g3gpZuuuA/+QpLmUyA0T8kyN9xkP/mP/jWV4u8usE/vq3C55tfrj8XwsXl037gP5Ty+v0kat8/at/KI69v6z8FhetRlabNP7mrF6/8vsM/xZhzjwOZ4T8AAAAAAAD4fwAAAAAAAPh/AAAAAAAA+H9SLj4Ck+fIPwrOSeX2ctw/dwHlpVH31T+TGARWDi3uP4RQNMxpEtw/JyXGq/bd3j+xnBTWzPu5P4y/zxzq4e4/rggYJCxH0D8AAAAAAAD4fwAAAAAAAPh/zBeuL1Tsgz8v3SQGgZXrP4LQ4RgJ57Y/+1uszZYk4j/gfXr5QnXYP0hQb3Af3eg/gr1duD3j7T+d9ArX+2LfP3qTN3gTFO4/2zvQekeD4D+lJ4xkC/zdP84QEi3WkNs//NOE0i6h4j84MLlRZK2RP2Q730+Nl+Y/AAAAAAAA+H9U92loR7fkP+Olm8QgsNI/16NwPQrX4z9KuPBiJmHAP0G6+B74at8/",
          "dtype": "f8"
         },
         "yaxis": "y6"
        },
        {
         "colorscale": [
          [
           0,
           "rgb(247,251,255)"
          ],
          [
           0.125,
           "rgb(222,235,247)"
          ],
          [
           0.25,
           "rgb(198,219,239)"
          ],
          [
           0.375,
           "rgb(158,202,225)"
          ],
          [
           0.5,
           "rgb(107,174,214)"
          ],
          [
           0.625,
           "rgb(66,146,198)"
          ],
          [
           0.75,
           "rgb(33,113,181)"
          ],
          [
           0.875,
           "rgb(8,81,156)"
          ],
          [
           1,
           "rgb(8,48,107)"
          ]
         ],
         "geo": "geo",
         "locations": [
          "DZA",
          "AGO",
          "ARG",
          "ARM",
          "BGD",
          "BRB",
          "BEN",
          "BOL",
          "BIH",
          "BRA",
          "BGR",
          "BFA",
          "CMR",
          "CAF",
          "TCD",
          "CHL",
          "CHN",
          "COL",
          "CRI",
          "CIV",
          "CUB",
          "COD",
          "DJI",
          "DOM",
          "ECU",
          "EGY",
          "GMB",
          "GEO",
          "GHA",
          "GTM",
          "GNB",
          "HTI",
          "IND",
          "IDN",
          "IRQ",
          "JPN",
          "JOR",
          "KEN",
          "KIR",
          "KGZ",
          "LAO",
          "LSO",
          "MDG",
          "MDV",
          "MLI",
          "MRT",
          "MEX",
          "MNG",
          "MNE",
          "MAR",
          "NAM",
          "NPL",
          "NIC",
          "NER",
          "NGA",
          "PAK",
          "PAN",
          "PER",
          "RUS",
          "LCA",
          "STP",
          "SEN",
          "SRB",
          "SLE",
          "SOM",
          "ZAF",
          "SSD",
          "LKA",
          "SDN",
          "SUR",
          "TJK",
          "THA",
          "MKD",
          "TGO",
          "TON",
          "TTO",
          "TUN",
          "TUR",
          "TKM",
          "UGA",
          "UKR",
          "GBR",
          "URY",
          "UZB",
          "VNM",
          "ZMB",
          "ZWE"
         ],
         "marker": {
          "line": {
           "color": "white"
          }
         },
         "text": [
          "Algeria",
          "Angola",
          "Argentina",
          "Armenia",
          "Bangladesh",
          "Barbados",
          "Benin",
          "Bolivia (Plurinational State of)",
          "Bosnia and Herzegovina",
          "Brazil",
          "Bulgaria",
          "Burkina Faso",
          "Cameroon",
          "Central African Republic",
          "Chad",
          "Chile",
          "China",
          "Colombia",
          "Costa Rica",
          "Côte d&apos;Ivoire",
          "Cuba",
          "Democratic Republic of the Congo",
          "Djibouti",
          "Dominican Republic",
          "Ecuador",
          "Egypt",
          "Gambia",
          "Georgia",
          "Ghana",
          "Guatemala",
          "Guinea-Bissau",
          "Haiti",
          "India",
          "Indonesia",
          "Iraq",
          "Japan",
          "Jordan",
          "Kenya",
          "Kiribati",
          "Kyrgyzstan",
          "Lao People&apos;s Democratic Republic",
          "Lesotho",
          "Madagascar",
          "Maldives",
          "Mali",
          "Mauritania",
          "Mexico",
          "Mongolia",
          "Montenegro",
          "Morocco",
          "Namibia",
          "Nepal",
          "Nicaragua",
          "Niger",
          "Nigeria",
          "Pakistan",
          "Panama",
          "Peru",
          "Russian Federation",
          "Saint Lucia",
          "Sao Tome and Principe",
          "Senegal",
          "Serbia",
          "Sierra Leone",
          "Somalia",
          "South Africa",
          "South Sudan",
          "Sri Lanka",
          "Sudan",
          "Suriname",
          "Tajikistan",
          "Thailand",
          "North Macedonia",
          "Togo",
          "Tonga",
          "Trinidad and Tobago",
          "Tunisia",
          "Turkey",
          "Turkmenistan",
          "Uganda",
          "Ukraine",
          "United Kingdom",
          "Uruguay",
          "Uzbekistan",
          "Viet Nam",
          "Zambia",
          "Zimbabwe"
         ],
         "type": "choropleth",
         "z": {
          "bdata": "nypcBHZwzj94AkzZVy/FP8kFbsO8htk/IH3mzhzl6T+NhpMcTnTXP/xNuBF/HOU/8bbsBJ0soj/CErRuKCG/P+kvv+t45eI/O99PjZdu6j+I9NvXgXPoP0cuLNghFIw/mAboth7apz9sKMVn9omjP33EYJTMVpY/YvNxbaiY6z/8//9fsj3iP1vTd5lt3tY/VlAywQUo5z/yVCDae2ecP8EPrS5sraU/pZ9pjZ0Whj8Hrkfho6SuPx5ghwn+6s4/i+Kwj6mW2j+5igsgcfHFP8llfHTK1OQ/yOydRcNQ6z88RItDJcbFP5/Dd9hxw7U/GF51kxhUlz/oXlvFWULKP0AD+vLvxLU/NbdCWI0lyD+C0pufXVvfP1eTp6ym6+g/QaZTbyEz2D/RItv5fmrUP3S3cMFOdeA/oe87O4Wd5z8vvzNpWyyPP7GWwe9ST9Q/JETur2QYuz9uBjrSAlDmP6c7SIU7h6s/KFkmk1SvnT8V1WwvsxnaPxVvGO2Rgdc/jRdAtOUg6j+X61G4bZjGP+YDBpNvMbE/NtlitAkJ3j/RUW+lMAyjP8fp82rj/J8/aHdIMUCioT+S2YIH+123Py9vTbxyn9M/bqnedZGd0D/RItv5fmrsPwafTY2lZt4/smjHk6dw3D8baxhLYPerP0nhjFq0Ne4/tJ5QxholwT+CESSEgcbAP/T///+3ock/upv2vn49bz/l0CLb+X7mP/Gty2jtr6A/6o3fBhkj4D/dI9NitszOP3vEp3OS3+Y/2a1VxsB87T9oksgpUGTNPykQFF0NBO0/T0azF44B3D/m8zgM76/YP+pmdusnL9c/7e1e8k1n3T9DWfj6WpdqP2Q730+Nl+Y/LbKd76fG7z9r7MVrBS/kP1K4HoXrUcg/16NwPQrX4z8QCKObO8itP/tsVafkmtA/",
          "dtype": "f8"
         }
        }
       ],
       "layout": {
        "annotations": [
         {
          "font": {
           "size": 16
          },
          "showarrow": false,
          "text": "Median Total by Region",
          "x": 0.13333333333333333,
          "xanchor": "center",
          "xref": "paper",
          "y": 1,
          "yanchor": "bottom",
          "yref": "paper"
         },
         {
          "font": {
           "size": 16
          },
          "showarrow": false,
          "text": "Urban vs Rural Scatter",
          "x": 0.5,
          "xanchor": "center",
          "xref": "paper",
          "y": 1,
          "yanchor": "bottom",
          "yref": "paper"
         },
         {
          "font": {
           "size": 16
          },
          "showarrow": false,
          "text": "Income Group Distribution",
          "x": 0.8666666666666667,
          "xanchor": "center",
          "xref": "paper",
          "y": 1,
          "yanchor": "bottom",
          "yref": "paper"
         },
         {
          "font": {
           "size": 16
          },
          "showarrow": false,
          "text": "Histogram of Total Connectivity",
          "x": 0.13333333333333333,
          "xanchor": "center",
          "xref": "paper",
          "y": 0.6266666666666667,
          "yanchor": "bottom",
          "yref": "paper"
         },
         {
          "font": {
           "size": 16
          },
          "showarrow": false,
          "text": "Boxplot by Income Group",
          "x": 0.5,
          "xanchor": "center",
          "xref": "paper",
          "y": 0.6266666666666667,
          "yanchor": "bottom",
          "yref": "paper"
         },
         {
          "font": {
           "size": 16
          },
          "showarrow": false,
          "text": "Correlation Heatmap",
          "x": 0.8666666666666667,
          "xanchor": "center",
          "xref": "paper",
          "y": 0.6266666666666667,
          "yanchor": "bottom",
          "yref": "paper"
         },
         {
          "font": {
           "size": 16
          },
          "showarrow": false,
          "text": "Bubble Plot (Urban vs Rural, size=Total)",
          "x": 0.13333333333333333,
          "xanchor": "center",
          "xref": "paper",
          "y": 0.25333333333333335,
          "yanchor": "bottom",
          "yref": "paper"
         },
         {
          "font": {
           "size": 16
          },
          "showarrow": false,
          "text": "Choropleth Map of Connectivity",
          "x": 0.5,
          "xanchor": "center",
          "xref": "paper",
          "y": 0.25333333333333335,
          "yanchor": "bottom",
          "yref": "paper"
         }
        ],
        "geo": {
         "domain": {
          "x": [
           0.3666666666666667,
           0.6333333333333333
          ],
          "y": [
           0,
           0.25333333333333335
          ]
         }
        },
        "height": 1200,
        "showlegend": false,
        "template": {
         "data": {
          "bar": [
           {
            "error_x": {
             "color": "#2a3f5f"
            },
            "error_y": {
             "color": "#2a3f5f"
            },
            "marker": {
             "line": {
              "color": "#E5ECF6",
              "width": 0.5
             },
             "pattern": {
              "fillmode": "overlay",
              "size": 10,
              "solidity": 0.2
             }
            },
            "type": "bar"
           }
          ],
          "barpolar": [
           {
            "marker": {
             "line": {
              "color": "#E5ECF6",
              "width": 0.5
             },
             "pattern": {
              "fillmode": "overlay",
              "size": 10,
              "solidity": 0.2
             }
            },
            "type": "barpolar"
           }
          ],
          "carpet": [
           {
            "aaxis": {
             "endlinecolor": "#2a3f5f",
             "gridcolor": "white",
             "linecolor": "white",
             "minorgridcolor": "white",
             "startlinecolor": "#2a3f5f"
            },
            "baxis": {
             "endlinecolor": "#2a3f5f",
             "gridcolor": "white",
             "linecolor": "white",
             "minorgridcolor": "white",
             "startlinecolor": "#2a3f5f"
            },
            "type": "carpet"
           }
          ],
          "choropleth": [
           {
            "colorbar": {
             "outlinewidth": 0,
             "ticks": ""
            },
            "type": "choropleth"
           }
          ],
          "contour": [
           {
            "colorbar": {
             "outlinewidth": 0,
             "ticks": ""
            },
            "colorscale": [
             [
              0,
              "#0d0887"
             ],
             [
              0.1111111111111111,
              "#46039f"
             ],
             [
              0.2222222222222222,
              "#7201a8"
             ],
             [
              0.3333333333333333,
              "#9c179e"
             ],
             [
              0.4444444444444444,
              "#bd3786"
             ],
             [
              0.5555555555555556,
              "#d8576b"
             ],
             [
              0.6666666666666666,
              "#ed7953"
             ],
             [
              0.7777777777777778,
              "#fb9f3a"
             ],
             [
              0.8888888888888888,
              "#fdca26"
             ],
             [
              1,
              "#f0f921"
             ]
            ],
            "type": "contour"
           }
          ],
          "contourcarpet": [
           {
            "colorbar": {
             "outlinewidth": 0,
             "ticks": ""
            },
            "type": "contourcarpet"
           }
          ],
          "heatmap": [
           {
            "colorbar": {
             "outlinewidth": 0,
             "ticks": ""
            },
            "colorscale": [
             [
              0,
              "#0d0887"
             ],
             [
              0.1111111111111111,
              "#46039f"
             ],
             [
              0.2222222222222222,
              "#7201a8"
             ],
             [
              0.3333333333333333,
              "#9c179e"
             ],
             [
              0.4444444444444444,
              "#bd3786"
             ],
             [
              0.5555555555555556,
              "#d8576b"
             ],
             [
              0.6666666666666666,
              "#ed7953"
             ],
             [
              0.7777777777777778,
              "#fb9f3a"
             ],
             [
              0.8888888888888888,
              "#fdca26"
             ],
             [
              1,
              "#f0f921"
             ]
            ],
            "type": "heatmap"
           }
          ],
          "histogram": [
           {
            "marker": {
             "pattern": {
              "fillmode": "overlay",
              "size": 10,
              "solidity": 0.2
             }
            },
            "type": "histogram"
           }
          ],
          "histogram2d": [
           {
            "colorbar": {
             "outlinewidth": 0,
             "ticks": ""
            },
            "colorscale": [
             [
              0,
              "#0d0887"
             ],
             [
              0.1111111111111111,
              "#46039f"
             ],
             [
              0.2222222222222222,
              "#7201a8"
             ],
             [
              0.3333333333333333,
              "#9c179e"
             ],
             [
              0.4444444444444444,
              "#bd3786"
             ],
             [
              0.5555555555555556,
              "#d8576b"
             ],
             [
              0.6666666666666666,
              "#ed7953"
             ],
             [
              0.7777777777777778,
              "#fb9f3a"
             ],
             [
              0.8888888888888888,
              "#fdca26"
             ],
             [
              1,
              "#f0f921"
             ]
            ],
            "type": "histogram2d"
           }
          ],
          "histogram2dcontour": [
           {
            "colorbar": {
             "outlinewidth": 0,
             "ticks": ""
            },
            "colorscale": [
             [
              0,
              "#0d0887"
             ],
             [
              0.1111111111111111,
              "#46039f"
             ],
             [
              0.2222222222222222,
              "#7201a8"
             ],
             [
              0.3333333333333333,
              "#9c179e"
             ],
             [
              0.4444444444444444,
              "#bd3786"
             ],
             [
              0.5555555555555556,
              "#d8576b"
             ],
             [
              0.6666666666666666,
              "#ed7953"
             ],
             [
              0.7777777777777778,
              "#fb9f3a"
             ],
             [
              0.8888888888888888,
              "#fdca26"
             ],
             [
              1,
              "#f0f921"
             ]
            ],
            "type": "histogram2dcontour"
           }
          ],
          "mesh3d": [
           {
            "colorbar": {
             "outlinewidth": 0,
             "ticks": ""
            },
            "type": "mesh3d"
           }
          ],
          "parcoords": [
           {
            "line": {
             "colorbar": {
              "outlinewidth": 0,
              "ticks": ""
             }
            },
            "type": "parcoords"
           }
          ],
          "pie": [
           {
            "automargin": true,
            "type": "pie"
           }
          ],
          "scatter": [
           {
            "fillpattern": {
             "fillmode": "overlay",
             "size": 10,
             "solidity": 0.2
            },
            "type": "scatter"
           }
          ],
          "scatter3d": [
           {
            "line": {
             "colorbar": {
              "outlinewidth": 0,
              "ticks": ""
             }
            },
            "marker": {
             "colorbar": {
              "outlinewidth": 0,
              "ticks": ""
             }
            },
            "type": "scatter3d"
           }
          ],
          "scattercarpet": [
           {
            "marker": {
             "colorbar": {
              "outlinewidth": 0,
              "ticks": ""
             }
            },
            "type": "scattercarpet"
           }
          ],
          "scattergeo": [
           {
            "marker": {
             "colorbar": {
              "outlinewidth": 0,
              "ticks": ""
             }
            },
            "type": "scattergeo"
           }
          ],
          "scattergl": [
           {
            "marker": {
             "colorbar": {
              "outlinewidth": 0,
              "ticks": ""
             }
            },
            "type": "scattergl"
           }
          ],
          "scattermap": [
           {
            "marker": {
             "colorbar": {
              "outlinewidth": 0,
              "ticks": ""
             }
            },
            "type": "scattermap"
           }
          ],
          "scattermapbox": [
           {
            "marker": {
             "colorbar": {
              "outlinewidth": 0,
              "ticks": ""
             }
            },
            "type": "scattermapbox"
           }
          ],
          "scatterpolar": [
           {
            "marker": {
             "colorbar": {
              "outlinewidth": 0,
              "ticks": ""
             }
            },
            "type": "scatterpolar"
           }
          ],
          "scatterpolargl": [
           {
            "marker": {
             "colorbar": {
              "outlinewidth": 0,
              "ticks": ""
             }
            },
            "type": "scatterpolargl"
           }
          ],
          "scatterternary": [
           {
            "marker": {
             "colorbar": {
              "outlinewidth": 0,
              "ticks": ""
             }
            },
            "type": "scatterternary"
           }
          ],
          "surface": [
           {
            "colorbar": {
             "outlinewidth": 0,
             "ticks": ""
            },
            "colorscale": [
             [
              0,
              "#0d0887"
             ],
             [
              0.1111111111111111,
              "#46039f"
             ],
             [
              0.2222222222222222,
              "#7201a8"
             ],
             [
              0.3333333333333333,
              "#9c179e"
             ],
             [
              0.4444444444444444,
              "#bd3786"
             ],
             [
              0.5555555555555556,
              "#d8576b"
             ],
             [
              0.6666666666666666,
              "#ed7953"
             ],
             [
              0.7777777777777778,
              "#fb9f3a"
             ],
             [
              0.8888888888888888,
              "#fdca26"
             ],
             [
              1,
              "#f0f921"
             ]
            ],
            "type": "surface"
           }
          ],
          "table": [
           {
            "cells": {
             "fill": {
              "color": "#EBF0F8"
             },
             "line": {
              "color": "white"
             }
            },
            "header": {
             "fill": {
              "color": "#C8D4E3"
             },
             "line": {
              "color": "white"
             }
            },
            "type": "table"
           }
          ]
         },
         "layout": {
          "annotationdefaults": {
           "arrowcolor": "#2a3f5f",
           "arrowhead": 0,
           "arrowwidth": 1
          },
          "autotypenumbers": "strict",
          "coloraxis": {
           "colorbar": {
            "outlinewidth": 0,
            "ticks": ""
           }
          },
          "colorscale": {
           "diverging": [
            [
             0,
             "#8e0152"
            ],
            [
             0.1,
             "#c51b7d"
            ],
            [
             0.2,
             "#de77ae"
            ],
            [
             0.3,
             "#f1b6da"
            ],
            [
             0.4,
             "#fde0ef"
            ],
            [
             0.5,
             "#f7f7f7"
            ],
            [
             0.6,
             "#e6f5d0"
            ],
            [
             0.7,
             "#b8e186"
            ],
            [
             0.8,
             "#7fbc41"
            ],
            [
             0.9,
             "#4d9221"
            ],
            [
             1,
             "#276419"
            ]
           ],
           "sequential": [
            [
             0,
             "#0d0887"
            ],
            [
             0.1111111111111111,
             "#46039f"
            ],
            [
             0.2222222222222222,
             "#7201a8"
            ],
            [
             0.3333333333333333,
             "#9c179e"
            ],
            [
             0.4444444444444444,
             "#bd3786"
            ],
            [
             0.5555555555555556,
             "#d8576b"
            ],
            [
             0.6666666666666666,
             "#ed7953"
            ],
            [
             0.7777777777777778,
             "#fb9f3a"
            ],
            [
             0.8888888888888888,
             "#fdca26"
            ],
            [
             1,
             "#f0f921"
            ]
           ],
           "sequentialminus": [
            [
             0,
             "#0d0887"
            ],
            [
             0.1111111111111111,
             "#46039f"
            ],
            [
             0.2222222222222222,
             "#7201a8"
            ],
            [
             0.3333333333333333,
             "#9c179e"
            ],
            [
             0.4444444444444444,
             "#bd3786"
            ],
            [
             0.5555555555555556,
             "#d8576b"
            ],
            [
             0.6666666666666666,
             "#ed7953"
            ],
            [
             0.7777777777777778,
             "#fb9f3a"
            ],
            [
             0.8888888888888888,
             "#fdca26"
            ],
            [
             1,
             "#f0f921"
            ]
           ]
          },
          "colorway": [
           "#636efa",
           "#EF553B",
           "#00cc96",
           "#ab63fa",
           "#FFA15A",
           "#19d3f3",
           "#FF6692",
           "#B6E880",
           "#FF97FF",
           "#FECB52"
          ],
          "font": {
           "color": "#2a3f5f"
          },
          "geo": {
           "bgcolor": "white",
           "lakecolor": "white",
           "landcolor": "#E5ECF6",
           "showlakes": true,
           "showland": true,
           "subunitcolor": "white"
          },
          "hoverlabel": {
           "align": "left"
          },
          "hovermode": "closest",
          "mapbox": {
           "style": "light"
          },
          "paper_bgcolor": "white",
          "plot_bgcolor": "#E5ECF6",
          "polar": {
           "angularaxis": {
            "gridcolor": "white",
            "linecolor": "white",
            "ticks": ""
           },
           "bgcolor": "#E5ECF6",
           "radialaxis": {
            "gridcolor": "white",
            "linecolor": "white",
            "ticks": ""
           }
          },
          "scene": {
           "xaxis": {
            "backgroundcolor": "#E5ECF6",
            "gridcolor": "white",
            "gridwidth": 2,
            "linecolor": "white",
            "showbackground": true,
            "ticks": "",
            "zerolinecolor": "white"
           },
           "yaxis": {
            "backgroundcolor": "#E5ECF6",
            "gridcolor": "white",
            "gridwidth": 2,
            "linecolor": "white",
            "showbackground": true,
            "ticks": "",
            "zerolinecolor": "white"
           },
           "zaxis": {
            "backgroundcolor": "#E5ECF6",
            "gridcolor": "white",
            "gridwidth": 2,
            "linecolor": "white",
            "showbackground": true,
            "ticks": "",
            "zerolinecolor": "white"
           }
          },
          "shapedefaults": {
           "line": {
            "color": "#2a3f5f"
           }
          },
          "ternary": {
           "aaxis": {
            "gridcolor": "white",
            "linecolor": "white",
            "ticks": ""
           },
           "baxis": {
            "gridcolor": "white",
            "linecolor": "white",
            "ticks": ""
           },
           "bgcolor": "#E5ECF6",
           "caxis": {
            "gridcolor": "white",
            "linecolor": "white",
            "ticks": ""
           }
          },
          "title": {
           "x": 0.05
          },
          "xaxis": {
           "automargin": true,
           "gridcolor": "white",
           "linecolor": "white",
           "ticks": "",
           "title": {
            "standoff": 15
           },
           "zerolinecolor": "white",
           "zerolinewidth": 2
          },
          "yaxis": {
           "automargin": true,
           "gridcolor": "white",
           "linecolor": "white",
           "ticks": "",
           "title": {
            "standoff": 15
           },
           "zerolinecolor": "white",
           "zerolinewidth": 2
          }
         }
        },
        "title": {
         "text": "Comprehensive Dashboard: School-Age Digital Connectivity"
        },
        "width": 1400,
        "xaxis": {
         "anchor": "y",
         "domain": [
          0,
          0.26666666666666666
         ]
        },
        "xaxis2": {
         "anchor": "y2",
         "domain": [
          0.3666666666666667,
          0.6333333333333333
         ]
        },
        "xaxis3": {
         "anchor": "y3",
         "domain": [
          0,
          0.26666666666666666
         ]
        },
        "xaxis4": {
         "anchor": "y4",
         "domain": [
          0.3666666666666667,
          0.6333333333333333
         ]
        },
        "xaxis5": {
         "anchor": "y5",
         "domain": [
          0.7333333333333334,
          1
         ]
        },
        "xaxis6": {
         "anchor": "y6",
         "domain": [
          0,
          0.26666666666666666
         ]
        },
        "yaxis": {
         "anchor": "x",
         "domain": [
          0.7466666666666667,
          1
         ]
        },
        "yaxis2": {
         "anchor": "x2",
         "domain": [
          0.7466666666666667,
          1
         ]
        },
        "yaxis3": {
         "anchor": "x3",
         "domain": [
          0.37333333333333335,
          0.6266666666666667
         ]
        },
        "yaxis4": {
         "anchor": "x4",
         "domain": [
          0.37333333333333335,
          0.6266666666666667
         ]
        },
        "yaxis5": {
         "anchor": "x5",
         "domain": [
          0.37333333333333335,
          0.6266666666666667
         ]
        },
        "yaxis6": {
         "anchor": "x6",
         "domain": [
          0,
          0.25333333333333335
         ]
        }
       }
      }
     },
     "metadata": {},
     "output_type": "display_data"
    }
   ],
   "source": [
    "\n",
    "# Prepare data\n",
    "median_by_region = df.groupby('Region')['Total'].median().sort_values(ascending=False)\n",
    "income_counts = df['Income Group'].fillna('Unknown').value_counts()\n",
    "corr = df[['Total','Rural','Urban','Poorest','Richest']].corr()\n",
    "\n",
    "# Create dashboard\n",
    "fig = make_subplots(\n",
    "    rows=3, cols=3,\n",
    "    subplot_titles=(\n",
    "        \"Median Total by Region\",\n",
    "        \"Urban vs Rural Scatter\",\n",
    "        \"Income Group Distribution\",\n",
    "        \"Histogram of Total Connectivity\",\n",
    "        \"Boxplot by Income Group\",\n",
    "        \"Correlation Heatmap\",\n",
    "        \"Bubble Plot (Urban vs Rural, size=Total)\",\n",
    "        \"Choropleth Map of Connectivity\",\n",
    "        \"\"\n",
    "    ),\n",
    "    specs=[\n",
    "        [{\"type\": \"bar\"}, {\"type\": \"xy\"}, {\"type\": \"domain\"}],\n",
    "        [{\"type\": \"xy\"}, {\"type\": \"box\"}, {\"type\": \"heatmap\"}],\n",
    "        [{\"type\": \"scatter\"}, {\"type\": \"choropleth\"}, None]\n",
    "    ],\n",
    "    horizontal_spacing=0.1,\n",
    "    vertical_spacing=0.12\n",
    ")\n",
    "\n",
    "# 1. Bar\n",
    "fig.add_trace(go.Bar(x=median_by_region.index, y=median_by_region.values), row=1, col=1)\n",
    "\n",
    "# 2. Scatter\n",
    "fig.add_trace(go.Scatter(x=df['Rural'], y=df['Urban'], mode='markers',\n",
    "                         text=df['Countries and areas'], marker=dict(size=6, opacity=0.6)),\n",
    "              row=1, col=2)\n",
    "\n",
    "# 3. Pie\n",
    "fig.add_trace(go.Pie(labels=income_counts.index, values=income_counts.values, hole=0.4),\n",
    "              row=1, col=3)\n",
    "\n",
    "# 4. Histogram\n",
    "fig.add_trace(go.Histogram(x=df['Total'], nbinsx=20), row=2, col=1)\n",
    "\n",
    "# 5. Box\n",
    "fig.add_trace(go.Box(y=df['Total'], x=df['Income Group']), row=2, col=2)\n",
    "\n",
    "# 6. Heatmap\n",
    "fig.add_trace(go.Heatmap(z=corr.values, x=corr.columns, y=corr.columns,\n",
    "                         colorscale=\"RdBu\", zmid=0), row=2, col=3)\n",
    "\n",
    "# 7. Bubble Plot\n",
    "fig.add_trace(go.Scatter(x=df['Rural'], y=df['Urban'],\n",
    "                         mode='markers',\n",
    "                         text=df['Countries and areas'],\n",
    "                         marker=dict(size=df['Total']/5, color=df['Total'],\n",
    "                                     colorscale=\"Viridis\", showscale=False, opacity=0.6)),\n",
    "              row=3, col=1)\n",
    "\n",
    "# 8. Choropleth\n",
    "fig.add_trace(go.Choropleth(locations=df['ISO3'], z=df['Total'],\n",
    "                            text=df['Countries and areas'],\n",
    "                            colorscale=\"Blues\", marker_line_color=\"white\"),\n",
    "              row=3, col=2)\n",
    "\n",
    "fig.update_layout(height=1200, width=1400,\n",
    "                  title_text=\"Comprehensive Dashboard: School-Age Digital Connectivity\",\n",
    "                  showlegend=False)\n",
    "fig.show()\n"
   ]
  },
  {
   "cell_type": "markdown",
   "id": "11127784",
   "metadata": {},
   "source": [
    "## Comprehensive Dashboard Explanation\n",
    "\n",
    "The dashboard brings together eight complementary visualizations that provide a holistic view of **School-Age Digital Connectivity** across countries, regions, and income groups.  \n",
    "\n",
    "1. **Median Total by Region (Bar Chart):** Highlights regional disparities in connectivity, showing which regions perform above or below the global median.  \n",
    "2. **Urban vs Rural Scatter Plot:** Reveals the digital divide between urban and rural areas, with each point representing a country.  \n",
    "3. **Income Group Distribution (Donut Chart):** Provides a quick overview of how countries are classified by income level, which influences connectivity outcomes.  \n",
    "4. **Histogram of Total Connectivity:** Shows the distribution of total connectivity scores, helping identify whether connectivity is skewed toward high or low values.  \n",
    "5. **Box Plot by Income Group:** Summarizes variations and outliers in connectivity within each income category, emphasizing inequality within groups.  \n",
    "6. **Correlation Heatmap:** Explores relationships between Total, Rural, Urban, Poorest, and Richest, guiding which indicators move together.  \n",
    "7. **Bubble Plot (Urban vs Rural, size=Total):** Adds another layer to the scatter plot by encoding total connectivity as bubble size, giving more context.  \n",
    "8. **Choropleth Map:** Provides a geographical perspective, showing how digital connectivity varies globally.  \n",
    "\n",
    "### Design Principles Applied\n",
    "- **Clarity and readability:** Each chart type was chosen to best represent its data.  \n",
    "- **Comparisons enabled:** Side-by-side visuals make it easy to spot disparities.  \n",
    "- **Color coding:** Sequential and diverging color scales emphasize patterns while avoiding clutter.  \n",
    "- **Balance:** A grid layout with eight visuals ensures coverage of multiple perspectives without overwhelming the viewer.  \n",
    "\n",
    "Overall, this dashboard supports **data storytelling** by combining regional, economic, and geographical dimensions, helping identify both **gaps** and **opportunities** in digital connectivity.  \n"
   ]
  }
 ],
 "metadata": {
  "kernelspec": {
   "display_name": "Python 3",
   "language": "python",
   "name": "python3"
  },
  "language_info": {
   "codemirror_mode": {
    "name": "ipython",
    "version": 3
   },
   "file_extension": ".py",
   "mimetype": "text/x-python",
   "name": "python",
   "nbconvert_exporter": "python",
   "pygments_lexer": "ipython3",
   "version": "3.10.12"
  }
 },
 "nbformat": 4,
 "nbformat_minor": 5
}
